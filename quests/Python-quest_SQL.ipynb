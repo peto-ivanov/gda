{
  "nbformat": 4,
  "nbformat_minor": 2,
  "metadata": {
    "colab": {
      "name": "SQL and Python.ipynb",
      "provenance": [],
      "collapsed_sections": []
    },
    "kernelspec": {
      "name": "python3",
      "display_name": "Python 3.8.8 64-bit ('base': conda)"
    },
    "language_info": {
      "name": "python",
      "version": "3.8.8",
      "mimetype": "text/x-python",
      "codemirror_mode": {
        "name": "ipython",
        "version": 3
      },
      "pygments_lexer": "ipython3",
      "nbconvert_exporter": "python",
      "file_extension": ".py"
    },
    "interpreter": {
      "hash": "720fa6d0f11b7ec96fc5a2305c253a374b95718251f66e414cba1cc0c6bb49e9"
    }
  },
  "cells": [
    {
      "cell_type": "markdown",
      "source": [
        "# Introduction\n",
        "\n",
        "SQL is based on a client-server architecture. \n",
        "\n",
        "\n",
        "Python can connect with every SQL databases (Oracle MySQL, Microsoft, etc...). SQLite is a little bit particular : it is a little file, who can play the server role, without username and password. It will be helpful for this quest. But keep in mind that you could connect your Python script with other databases, following the same steps."
      ],
      "metadata": {
        "id": "8issOq94JffF"
      }
    },
    {
      "cell_type": "code",
      "execution_count": 1,
      "source": [
        "# Here we just import the SQLite file. This part is specific for SQLite.\r\n",
        "import requests\r\n",
        "r = requests.get('https://raw.githubusercontent.com/murpi/wilddata/master/quests/toys_and_models.sqlite')\r\n",
        "open('toys_and_models.sqlite', 'wb').write(r.content)"
      ],
      "outputs": [
        {
          "output_type": "execute_result",
          "data": {
            "text/plain": [
              "307200"
            ]
          },
          "metadata": {},
          "execution_count": 1
        }
      ],
      "metadata": {
        "id": "0O5FRHymZMWb"
      }
    },
    {
      "cell_type": "code",
      "execution_count": 2,
      "source": [
        "# This part is common : we have to initiate a connection between Python and the SQL Database\r\n",
        "import sqlite3\r\n",
        "\r\n",
        "# This is the \"connector\". For secured database, it will be here that  you indicate your username and password.\r\n",
        "conn = sqlite3.connect('toys_and_models.sqlite')\r\n",
        "\r\n",
        "# This is the \"cursor\". A cursor is an object that can execute a query and retrieve the content of the result.\r\n",
        "cursor = conn.cursor()\r\n"
      ],
      "outputs": [],
      "metadata": {
        "id": "gkcJBWOPU10l"
      }
    },
    {
      "cell_type": "code",
      "execution_count": 3,
      "source": [
        "# You can execute a query.\r\n",
        "# The result is returned line by line. You can \"fetch all\" lines.\r\n",
        "cursor.execute(\"select * from productlines\").fetchall()"
      ],
      "outputs": [
        {
          "output_type": "execute_result",
          "data": {
            "text/plain": [
              "[('Classic Cars',\n",
              "  'Attention car enthusiasts: Make your wildest car ownership dreams come true. Whether you are looking for classic muscle cars, dream sports cars or movie-inspired miniatures, you will find great choices in this category. These replicas feature superb attention to detail and craftsmanship and offer features such as working steering system, opening forward compartment, opening rear trunk with removable spare wheel, 4-wheel independent spring suspension, and so on. The models range in size from 1:10 to 1:24 scale and include numerous limited edition and several out-of-production vehicles. All models include a certificate of authenticity from their manufacturers and come fully assembled and ready for display in the home or office.',\n",
              "  None,\n",
              "  None),\n",
              " ('Motorcycles',\n",
              "  'Our motorcycles are state of the art replicas of classic as well as contemporary motorcycle legends such as Harley Davidson, Ducati and Vespa. Models contain stunning details such as official logos, rotating wheels, working kickstand, front suspension, gear-shift lever, footbrake lever, and drive chain. Materials used include diecast and plastic. The models range in size from 1:10 to 1:50 scale and include numerous limited edition and several out-of-production vehicles. All models come fully assembled and ready for display in the home or office. Most include a certificate of authenticity.',\n",
              "  None,\n",
              "  None),\n",
              " ('Planes',\n",
              "  'Unique, diecast airplane and helicopter replicas suitable for collections, as well as home, office or classroom decorations. Models contain stunning details such as official logos and insignias, rotating jet engines and propellers, retractable wheels, and so on. Most come fully assembled and with a certificate of authenticity from their manufacturers.',\n",
              "  None,\n",
              "  None),\n",
              " ('Ships',\n",
              "  'The perfect holiday or anniversary gift for executives, clients, friends, and family. These handcrafted model ships are unique, stunning works of art that will be treasured for generations! They come fully assembled and ready for display in the home or office. We guarantee the highest quality, and best value.',\n",
              "  None,\n",
              "  None),\n",
              " ('Trains',\n",
              "  'Model trains are a rewarding hobby for enthusiasts of all ages. Whether youre looking for collectible wooden trains, electric streetcars or locomotives, youll find a number of great choices for any budget within this category. The interactive aspect of trains makes toy trains perfect for young children. The wooden train sets are ideal for children under the age of 5.',\n",
              "  None,\n",
              "  None),\n",
              " ('Trucks and Buses',\n",
              "  'The Truck and Bus models are realistic replicas of buses and specialized trucks produced from the early 1920s to present. The models range in size from 1:12 to 1:50 scale and include numerous limited edition and several out-of-production vehicles. Materials used include tin, diecast and plastic. All models include a certificate of authenticity from their manufacturers and are a perfect ornament for the home and office.',\n",
              "  None,\n",
              "  None),\n",
              " ('Vintage Cars',\n",
              "  'Our Vintage Car models realistically portray automobiles produced from the early 1900s through the 1940s. Materials used include Bakelite, diecast, plastic and wood. Most of the replicas are in the 1:18 and 1:24 scale sizes, which provide the optimum in detail and accuracy. Prices range from $30.00 up to $180.00 for some special limited edition replicas. All models include a certificate of authenticity from their manufacturers and come fully assembled and ready for display in the home or office.',\n",
              "  None,\n",
              "  None)]"
            ]
          },
          "metadata": {},
          "execution_count": 3
        }
      ],
      "metadata": {
        "id": "yWk2u9vtVASQ"
      }
    },
    {
      "cell_type": "code",
      "execution_count": 4,
      "source": [
        "# Pandas can import the result of a query\r\n",
        "import pandas as pd\r\n",
        "pd.DataFrame(cursor.execute(\"select * from productlines\").fetchall())"
      ],
      "outputs": [
        {
          "output_type": "execute_result",
          "data": {
            "text/html": [
              "<div>\n",
              "<style scoped>\n",
              "    .dataframe tbody tr th:only-of-type {\n",
              "        vertical-align: middle;\n",
              "    }\n",
              "\n",
              "    .dataframe tbody tr th {\n",
              "        vertical-align: top;\n",
              "    }\n",
              "\n",
              "    .dataframe thead th {\n",
              "        text-align: right;\n",
              "    }\n",
              "</style>\n",
              "<table border=\"1\" class=\"dataframe\">\n",
              "  <thead>\n",
              "    <tr style=\"text-align: right;\">\n",
              "      <th></th>\n",
              "      <th>0</th>\n",
              "      <th>1</th>\n",
              "      <th>2</th>\n",
              "      <th>3</th>\n",
              "    </tr>\n",
              "  </thead>\n",
              "  <tbody>\n",
              "    <tr>\n",
              "      <th>0</th>\n",
              "      <td>Classic Cars</td>\n",
              "      <td>Attention car enthusiasts: Make your wildest c...</td>\n",
              "      <td>None</td>\n",
              "      <td>None</td>\n",
              "    </tr>\n",
              "    <tr>\n",
              "      <th>1</th>\n",
              "      <td>Motorcycles</td>\n",
              "      <td>Our motorcycles are state of the art replicas ...</td>\n",
              "      <td>None</td>\n",
              "      <td>None</td>\n",
              "    </tr>\n",
              "    <tr>\n",
              "      <th>2</th>\n",
              "      <td>Planes</td>\n",
              "      <td>Unique, diecast airplane and helicopter replic...</td>\n",
              "      <td>None</td>\n",
              "      <td>None</td>\n",
              "    </tr>\n",
              "    <tr>\n",
              "      <th>3</th>\n",
              "      <td>Ships</td>\n",
              "      <td>The perfect holiday or anniversary gift for ex...</td>\n",
              "      <td>None</td>\n",
              "      <td>None</td>\n",
              "    </tr>\n",
              "    <tr>\n",
              "      <th>4</th>\n",
              "      <td>Trains</td>\n",
              "      <td>Model trains are a rewarding hobby for enthusi...</td>\n",
              "      <td>None</td>\n",
              "      <td>None</td>\n",
              "    </tr>\n",
              "    <tr>\n",
              "      <th>5</th>\n",
              "      <td>Trucks and Buses</td>\n",
              "      <td>The Truck and Bus models are realistic replica...</td>\n",
              "      <td>None</td>\n",
              "      <td>None</td>\n",
              "    </tr>\n",
              "    <tr>\n",
              "      <th>6</th>\n",
              "      <td>Vintage Cars</td>\n",
              "      <td>Our Vintage Car models realistically portray a...</td>\n",
              "      <td>None</td>\n",
              "      <td>None</td>\n",
              "    </tr>\n",
              "  </tbody>\n",
              "</table>\n",
              "</div>"
            ],
            "text/plain": [
              "                  0                                                  1     2  \\\n",
              "0      Classic Cars  Attention car enthusiasts: Make your wildest c...  None   \n",
              "1       Motorcycles  Our motorcycles are state of the art replicas ...  None   \n",
              "2            Planes  Unique, diecast airplane and helicopter replic...  None   \n",
              "3             Ships  The perfect holiday or anniversary gift for ex...  None   \n",
              "4            Trains  Model trains are a rewarding hobby for enthusi...  None   \n",
              "5  Trucks and Buses  The Truck and Bus models are realistic replica...  None   \n",
              "6      Vintage Cars  Our Vintage Car models realistically portray a...  None   \n",
              "\n",
              "      3  \n",
              "0  None  \n",
              "1  None  \n",
              "2  None  \n",
              "3  None  \n",
              "4  None  \n",
              "5  None  \n",
              "6  None  "
            ]
          },
          "metadata": {},
          "execution_count": 4
        }
      ],
      "metadata": {
        "id": "m2IQIeQtVJo2"
      }
    },
    {
      "cell_type": "code",
      "execution_count": 5,
      "source": [
        "# But it could be easier : you can use the pandas read_sql function.\r\n",
        "pd.read_sql(\"select * from productlines\", conn)"
      ],
      "outputs": [
        {
          "output_type": "execute_result",
          "data": {
            "text/html": [
              "<div>\n",
              "<style scoped>\n",
              "    .dataframe tbody tr th:only-of-type {\n",
              "        vertical-align: middle;\n",
              "    }\n",
              "\n",
              "    .dataframe tbody tr th {\n",
              "        vertical-align: top;\n",
              "    }\n",
              "\n",
              "    .dataframe thead th {\n",
              "        text-align: right;\n",
              "    }\n",
              "</style>\n",
              "<table border=\"1\" class=\"dataframe\">\n",
              "  <thead>\n",
              "    <tr style=\"text-align: right;\">\n",
              "      <th></th>\n",
              "      <th>productLine</th>\n",
              "      <th>textDescription</th>\n",
              "      <th>htmlDescription</th>\n",
              "      <th>image</th>\n",
              "    </tr>\n",
              "  </thead>\n",
              "  <tbody>\n",
              "    <tr>\n",
              "      <th>0</th>\n",
              "      <td>Classic Cars</td>\n",
              "      <td>Attention car enthusiasts: Make your wildest c...</td>\n",
              "      <td>None</td>\n",
              "      <td>None</td>\n",
              "    </tr>\n",
              "    <tr>\n",
              "      <th>1</th>\n",
              "      <td>Motorcycles</td>\n",
              "      <td>Our motorcycles are state of the art replicas ...</td>\n",
              "      <td>None</td>\n",
              "      <td>None</td>\n",
              "    </tr>\n",
              "    <tr>\n",
              "      <th>2</th>\n",
              "      <td>Planes</td>\n",
              "      <td>Unique, diecast airplane and helicopter replic...</td>\n",
              "      <td>None</td>\n",
              "      <td>None</td>\n",
              "    </tr>\n",
              "    <tr>\n",
              "      <th>3</th>\n",
              "      <td>Ships</td>\n",
              "      <td>The perfect holiday or anniversary gift for ex...</td>\n",
              "      <td>None</td>\n",
              "      <td>None</td>\n",
              "    </tr>\n",
              "    <tr>\n",
              "      <th>4</th>\n",
              "      <td>Trains</td>\n",
              "      <td>Model trains are a rewarding hobby for enthusi...</td>\n",
              "      <td>None</td>\n",
              "      <td>None</td>\n",
              "    </tr>\n",
              "    <tr>\n",
              "      <th>5</th>\n",
              "      <td>Trucks and Buses</td>\n",
              "      <td>The Truck and Bus models are realistic replica...</td>\n",
              "      <td>None</td>\n",
              "      <td>None</td>\n",
              "    </tr>\n",
              "    <tr>\n",
              "      <th>6</th>\n",
              "      <td>Vintage Cars</td>\n",
              "      <td>Our Vintage Car models realistically portray a...</td>\n",
              "      <td>None</td>\n",
              "      <td>None</td>\n",
              "    </tr>\n",
              "  </tbody>\n",
              "</table>\n",
              "</div>"
            ],
            "text/plain": [
              "        productLine                                    textDescription  \\\n",
              "0      Classic Cars  Attention car enthusiasts: Make your wildest c...   \n",
              "1       Motorcycles  Our motorcycles are state of the art replicas ...   \n",
              "2            Planes  Unique, diecast airplane and helicopter replic...   \n",
              "3             Ships  The perfect holiday or anniversary gift for ex...   \n",
              "4            Trains  Model trains are a rewarding hobby for enthusi...   \n",
              "5  Trucks and Buses  The Truck and Bus models are realistic replica...   \n",
              "6      Vintage Cars  Our Vintage Car models realistically portray a...   \n",
              "\n",
              "  htmlDescription image  \n",
              "0            None  None  \n",
              "1            None  None  \n",
              "2            None  None  \n",
              "3            None  None  \n",
              "4            None  None  \n",
              "5            None  None  \n",
              "6            None  None  "
            ]
          },
          "metadata": {},
          "execution_count": 5
        }
      ],
      "metadata": {
        "id": "rB6VwtNWJVEC"
      }
    },
    {
      "cell_type": "code",
      "execution_count": 7,
      "source": [
        "# Here is the schema of the database\r\n",
        "pd.read_sql(\"SELECT * FROM sqlite_master where type = 'table'\", conn)"
      ],
      "outputs": [
        {
          "output_type": "execute_result",
          "data": {
            "text/html": [
              "<div>\n",
              "<style scoped>\n",
              "    .dataframe tbody tr th:only-of-type {\n",
              "        vertical-align: middle;\n",
              "    }\n",
              "\n",
              "    .dataframe tbody tr th {\n",
              "        vertical-align: top;\n",
              "    }\n",
              "\n",
              "    .dataframe thead th {\n",
              "        text-align: right;\n",
              "    }\n",
              "</style>\n",
              "<table border=\"1\" class=\"dataframe\">\n",
              "  <thead>\n",
              "    <tr style=\"text-align: right;\">\n",
              "      <th></th>\n",
              "      <th>type</th>\n",
              "      <th>name</th>\n",
              "      <th>tbl_name</th>\n",
              "      <th>rootpage</th>\n",
              "      <th>sql</th>\n",
              "    </tr>\n",
              "  </thead>\n",
              "  <tbody>\n",
              "    <tr>\n",
              "      <th>0</th>\n",
              "      <td>table</td>\n",
              "      <td>customers</td>\n",
              "      <td>customers</td>\n",
              "      <td>2</td>\n",
              "      <td>CREATE TABLE `customers` (\\n  `customerNumber`...</td>\n",
              "    </tr>\n",
              "    <tr>\n",
              "      <th>1</th>\n",
              "      <td>table</td>\n",
              "      <td>employees</td>\n",
              "      <td>employees</td>\n",
              "      <td>8</td>\n",
              "      <td>CREATE TABLE `employees` (\\n  `employeeNumber`...</td>\n",
              "    </tr>\n",
              "    <tr>\n",
              "      <th>2</th>\n",
              "      <td>table</td>\n",
              "      <td>offices</td>\n",
              "      <td>offices</td>\n",
              "      <td>10</td>\n",
              "      <td>CREATE TABLE `offices` (\\n  `officeCode` varch...</td>\n",
              "    </tr>\n",
              "    <tr>\n",
              "      <th>3</th>\n",
              "      <td>table</td>\n",
              "      <td>orderdetails</td>\n",
              "      <td>orderdetails</td>\n",
              "      <td>12</td>\n",
              "      <td>CREATE TABLE `orderdetails` (\\n  `orderNumber`...</td>\n",
              "    </tr>\n",
              "    <tr>\n",
              "      <th>4</th>\n",
              "      <td>table</td>\n",
              "      <td>orders</td>\n",
              "      <td>orders</td>\n",
              "      <td>49</td>\n",
              "      <td>CREATE TABLE `orders` (\\n  `orderNumber` int(1...</td>\n",
              "    </tr>\n",
              "    <tr>\n",
              "      <th>5</th>\n",
              "      <td>table</td>\n",
              "      <td>payments</td>\n",
              "      <td>payments</td>\n",
              "      <td>57</td>\n",
              "      <td>CREATE TABLE `payments` (\\n  `customerNumber` ...</td>\n",
              "    </tr>\n",
              "    <tr>\n",
              "      <th>6</th>\n",
              "      <td>table</td>\n",
              "      <td>productlines</td>\n",
              "      <td>productlines</td>\n",
              "      <td>64</td>\n",
              "      <td>CREATE TABLE `productlines` (\\n  `productLine`...</td>\n",
              "    </tr>\n",
              "    <tr>\n",
              "      <th>7</th>\n",
              "      <td>table</td>\n",
              "      <td>products</td>\n",
              "      <td>products</td>\n",
              "      <td>66</td>\n",
              "      <td>CREATE TABLE `products` (\\n  `productCode` var...</td>\n",
              "    </tr>\n",
              "  </tbody>\n",
              "</table>\n",
              "</div>"
            ],
            "text/plain": [
              "    type          name      tbl_name  rootpage  \\\n",
              "0  table     customers     customers         2   \n",
              "1  table     employees     employees         8   \n",
              "2  table       offices       offices        10   \n",
              "3  table  orderdetails  orderdetails        12   \n",
              "4  table        orders        orders        49   \n",
              "5  table      payments      payments        57   \n",
              "6  table  productlines  productlines        64   \n",
              "7  table      products      products        66   \n",
              "\n",
              "                                                 sql  \n",
              "0  CREATE TABLE `customers` (\\n  `customerNumber`...  \n",
              "1  CREATE TABLE `employees` (\\n  `employeeNumber`...  \n",
              "2  CREATE TABLE `offices` (\\n  `officeCode` varch...  \n",
              "3  CREATE TABLE `orderdetails` (\\n  `orderNumber`...  \n",
              "4  CREATE TABLE `orders` (\\n  `orderNumber` int(1...  \n",
              "5  CREATE TABLE `payments` (\\n  `customerNumber` ...  \n",
              "6  CREATE TABLE `productlines` (\\n  `productLine`...  \n",
              "7  CREATE TABLE `products` (\\n  `productCode` var...  "
            ]
          },
          "metadata": {},
          "execution_count": 7
        }
      ],
      "metadata": {
        "id": "42eFSkYpXyeH"
      }
    },
    {
      "cell_type": "markdown",
      "source": [
        "![Texte alternatif…](https://sp.mysqltutorial.org/wp-content/uploads/2009/12/MySQL-Sample-Database-Schema.png)"
      ],
      "metadata": {
        "id": "Bo7f0F72OeIQ"
      }
    },
    {
      "cell_type": "markdown",
      "source": [
        "# It's your turn\r\n",
        "\r\n",
        "- First you have to create a DataFrame with the 5 most ordered productcodes\r\n",
        "- Then you have to create a second DataFrame with stocks by products\r\n",
        "- Finally, you will make a merge (with Pandas) between both DataFrame to display the stocks of the 5 most ordered products "
      ],
      "metadata": {
        "id": "bo0X_LdZRWnI"
      }
    },
    {
      "cell_type": "code",
      "execution_count": 11,
      "source": [
        "print(pd.read_sql(\"SELECT * FROM sqlite_master WHERE type = 'table'\", conn).loc[3, \"sql\"])"
      ],
      "outputs": [
        {
          "output_type": "stream",
          "name": "stdout",
          "text": [
            "CREATE TABLE `orderdetails` (\n",
            "  `orderNumber` int(11) NOT NULL,\n",
            "  `productCode` varchar(15) NOT NULL,\n",
            "  `quantityOrdered` int(11) NOT NULL,\n",
            "  `priceEach` decimal(10,2) NOT NULL,\n",
            "  `orderLineNumber` smallint(6) NOT NULL,\n",
            "  PRIMARY KEY (`orderNumber`,`productCode`))\n"
          ]
        }
      ],
      "metadata": {}
    },
    {
      "cell_type": "code",
      "execution_count": 18,
      "source": [
        "print(pd.read_sql(\"SELECT * FROM sqlite_master WHERE type = 'table'\", conn).loc[7, \"sql\"])"
      ],
      "outputs": [
        {
          "output_type": "stream",
          "name": "stdout",
          "text": [
            "CREATE TABLE `products` (\n",
            "  `productCode` varchar(15) NOT NULL,\n",
            "  `productName` varchar(70) NOT NULL,\n",
            "  `productLine` varchar(50) NOT NULL,\n",
            "  `productScale` varchar(10) NOT NULL,\n",
            "  `productVendor` varchar(50) NOT NULL,\n",
            "  `productDescription` text NOT NULL,\n",
            "  `quantityInStock` smallint(6) NOT NULL,\n",
            "  `buyPrice` decimal(10,2) NOT NULL,\n",
            "  `MSRP` decimal(10,2) NOT NULL,\n",
            "  PRIMARY KEY (`productCode`))\n"
          ]
        }
      ],
      "metadata": {}
    },
    {
      "cell_type": "code",
      "execution_count": 17,
      "source": [
        "# a DataFrame with the 5 most ordered productcodes\r\n",
        "query = \"select \\\r\n",
        "            productCode, \\\r\n",
        "            sum(quantityOrdered) as total_ordered \\\r\n",
        "        from orderdetails \\\r\n",
        "        group by productCode \\\r\n",
        "        order by sum(quantityOrdered) desc \\\r\n",
        "        limit 5\"\r\n",
        "\r\n",
        "df_top5_products = pd.read_sql(query, conn)\r\n",
        "\r\n",
        "df_top5_products\r\n"
      ],
      "outputs": [
        {
          "output_type": "execute_result",
          "data": {
            "text/html": [
              "<div>\n",
              "<style scoped>\n",
              "    .dataframe tbody tr th:only-of-type {\n",
              "        vertical-align: middle;\n",
              "    }\n",
              "\n",
              "    .dataframe tbody tr th {\n",
              "        vertical-align: top;\n",
              "    }\n",
              "\n",
              "    .dataframe thead th {\n",
              "        text-align: right;\n",
              "    }\n",
              "</style>\n",
              "<table border=\"1\" class=\"dataframe\">\n",
              "  <thead>\n",
              "    <tr style=\"text-align: right;\">\n",
              "      <th></th>\n",
              "      <th>productCode</th>\n",
              "      <th>total_ordered</th>\n",
              "    </tr>\n",
              "  </thead>\n",
              "  <tbody>\n",
              "    <tr>\n",
              "      <th>0</th>\n",
              "      <td>S18_3232</td>\n",
              "      <td>1561</td>\n",
              "    </tr>\n",
              "    <tr>\n",
              "      <th>1</th>\n",
              "      <td>S18_1342</td>\n",
              "      <td>960</td>\n",
              "    </tr>\n",
              "    <tr>\n",
              "      <th>2</th>\n",
              "      <td>S12_1108</td>\n",
              "      <td>950</td>\n",
              "    </tr>\n",
              "    <tr>\n",
              "      <th>3</th>\n",
              "      <td>S18_2949</td>\n",
              "      <td>949</td>\n",
              "    </tr>\n",
              "    <tr>\n",
              "      <th>4</th>\n",
              "      <td>S18_4600</td>\n",
              "      <td>947</td>\n",
              "    </tr>\n",
              "  </tbody>\n",
              "</table>\n",
              "</div>"
            ],
            "text/plain": [
              "  productCode  total_ordered\n",
              "0    S18_3232           1561\n",
              "1    S18_1342            960\n",
              "2    S12_1108            950\n",
              "3    S18_2949            949\n",
              "4    S18_4600            947"
            ]
          },
          "metadata": {},
          "execution_count": 17
        }
      ],
      "metadata": {
        "id": "wESXZ3N8YngK"
      }
    },
    {
      "cell_type": "code",
      "execution_count": 19,
      "source": [
        "# a second DataFrame with stocks by products\r\n",
        "query = \"select \\\r\n",
        "            productCode, \\\r\n",
        "            quantityInStock \\\r\n",
        "        from products\"\r\n",
        "\r\n",
        "df_stock = pd.read_sql(query, conn)\r\n",
        "\r\n",
        "df_stock"
      ],
      "outputs": [
        {
          "output_type": "execute_result",
          "data": {
            "text/html": [
              "<div>\n",
              "<style scoped>\n",
              "    .dataframe tbody tr th:only-of-type {\n",
              "        vertical-align: middle;\n",
              "    }\n",
              "\n",
              "    .dataframe tbody tr th {\n",
              "        vertical-align: top;\n",
              "    }\n",
              "\n",
              "    .dataframe thead th {\n",
              "        text-align: right;\n",
              "    }\n",
              "</style>\n",
              "<table border=\"1\" class=\"dataframe\">\n",
              "  <thead>\n",
              "    <tr style=\"text-align: right;\">\n",
              "      <th></th>\n",
              "      <th>productCode</th>\n",
              "      <th>quantityInStock</th>\n",
              "    </tr>\n",
              "  </thead>\n",
              "  <tbody>\n",
              "    <tr>\n",
              "      <th>0</th>\n",
              "      <td>S10_1678</td>\n",
              "      <td>7933</td>\n",
              "    </tr>\n",
              "    <tr>\n",
              "      <th>1</th>\n",
              "      <td>S10_1949</td>\n",
              "      <td>7305</td>\n",
              "    </tr>\n",
              "    <tr>\n",
              "      <th>2</th>\n",
              "      <td>S10_2016</td>\n",
              "      <td>6625</td>\n",
              "    </tr>\n",
              "    <tr>\n",
              "      <th>3</th>\n",
              "      <td>S10_4698</td>\n",
              "      <td>5582</td>\n",
              "    </tr>\n",
              "    <tr>\n",
              "      <th>4</th>\n",
              "      <td>S10_4757</td>\n",
              "      <td>3252</td>\n",
              "    </tr>\n",
              "    <tr>\n",
              "      <th>...</th>\n",
              "      <td>...</td>\n",
              "      <td>...</td>\n",
              "    </tr>\n",
              "    <tr>\n",
              "      <th>105</th>\n",
              "      <td>S700_3505</td>\n",
              "      <td>1956</td>\n",
              "    </tr>\n",
              "    <tr>\n",
              "      <th>106</th>\n",
              "      <td>S700_3962</td>\n",
              "      <td>5088</td>\n",
              "    </tr>\n",
              "    <tr>\n",
              "      <th>107</th>\n",
              "      <td>S700_4002</td>\n",
              "      <td>8820</td>\n",
              "    </tr>\n",
              "    <tr>\n",
              "      <th>108</th>\n",
              "      <td>S72_1253</td>\n",
              "      <td>4857</td>\n",
              "    </tr>\n",
              "    <tr>\n",
              "      <th>109</th>\n",
              "      <td>S72_3212</td>\n",
              "      <td>414</td>\n",
              "    </tr>\n",
              "  </tbody>\n",
              "</table>\n",
              "<p>110 rows × 2 columns</p>\n",
              "</div>"
            ],
            "text/plain": [
              "    productCode  quantityInStock\n",
              "0      S10_1678             7933\n",
              "1      S10_1949             7305\n",
              "2      S10_2016             6625\n",
              "3      S10_4698             5582\n",
              "4      S10_4757             3252\n",
              "..          ...              ...\n",
              "105   S700_3505             1956\n",
              "106   S700_3962             5088\n",
              "107   S700_4002             8820\n",
              "108    S72_1253             4857\n",
              "109    S72_3212              414\n",
              "\n",
              "[110 rows x 2 columns]"
            ]
          },
          "metadata": {},
          "execution_count": 19
        }
      ],
      "metadata": {}
    },
    {
      "cell_type": "code",
      "execution_count": 21,
      "source": [
        "# a merge (with Pandas) between both DataFrame to display the stocks of the 5 most ordered products\r\n",
        "\r\n",
        "pd.merge(left=df_top5_products, right=df_stock, how=\"left\", on=\"productCode\")"
      ],
      "outputs": [
        {
          "output_type": "execute_result",
          "data": {
            "text/html": [
              "<div>\n",
              "<style scoped>\n",
              "    .dataframe tbody tr th:only-of-type {\n",
              "        vertical-align: middle;\n",
              "    }\n",
              "\n",
              "    .dataframe tbody tr th {\n",
              "        vertical-align: top;\n",
              "    }\n",
              "\n",
              "    .dataframe thead th {\n",
              "        text-align: right;\n",
              "    }\n",
              "</style>\n",
              "<table border=\"1\" class=\"dataframe\">\n",
              "  <thead>\n",
              "    <tr style=\"text-align: right;\">\n",
              "      <th></th>\n",
              "      <th>productCode</th>\n",
              "      <th>total_ordered</th>\n",
              "      <th>quantityInStock</th>\n",
              "    </tr>\n",
              "  </thead>\n",
              "  <tbody>\n",
              "    <tr>\n",
              "      <th>0</th>\n",
              "      <td>S18_3232</td>\n",
              "      <td>1561</td>\n",
              "      <td>8347</td>\n",
              "    </tr>\n",
              "    <tr>\n",
              "      <th>1</th>\n",
              "      <td>S18_1342</td>\n",
              "      <td>960</td>\n",
              "      <td>8693</td>\n",
              "    </tr>\n",
              "    <tr>\n",
              "      <th>2</th>\n",
              "      <td>S12_1108</td>\n",
              "      <td>950</td>\n",
              "      <td>3619</td>\n",
              "    </tr>\n",
              "    <tr>\n",
              "      <th>3</th>\n",
              "      <td>S18_2949</td>\n",
              "      <td>949</td>\n",
              "      <td>4189</td>\n",
              "    </tr>\n",
              "    <tr>\n",
              "      <th>4</th>\n",
              "      <td>S18_4600</td>\n",
              "      <td>947</td>\n",
              "      <td>3128</td>\n",
              "    </tr>\n",
              "  </tbody>\n",
              "</table>\n",
              "</div>"
            ],
            "text/plain": [
              "  productCode  total_ordered  quantityInStock\n",
              "0    S18_3232           1561             8347\n",
              "1    S18_1342            960             8693\n",
              "2    S12_1108            950             3619\n",
              "3    S18_2949            949             4189\n",
              "4    S18_4600            947             3128"
            ]
          },
          "metadata": {},
          "execution_count": 21
        }
      ],
      "metadata": {}
    },
    {
      "cell_type": "markdown",
      "source": [
        "Good, but not optimized. Your \"merge\" with pandas is pretty the same as the \"join\" in SQL. Moreover, your script has to download the whole product stocks table. \n",
        "\n",
        "So, now, you have to write a SQL query to have directly the stocks of the 5 most ordered products. (So, you have to \"join\" both tables in the SQL Query)"
      ],
      "metadata": {
        "id": "0yB3On40Yppo"
      }
    },
    {
      "cell_type": "code",
      "execution_count": 26,
      "source": [
        "# Your code here :\r\n",
        "query = \"select                                         \\\r\n",
        "            o.productCode,                              \\\r\n",
        "            o.total_ordered,                            \\\r\n",
        "            p.quantityInStock                           \\\r\n",
        "        from                                            \\\r\n",
        "            (select                                     \\\r\n",
        "                productCode,                            \\\r\n",
        "                sum(quantityOrdered) as total_ordered   \\\r\n",
        "            from orderdetails                           \\\r\n",
        "            group by productCode                        \\\r\n",
        "            order by sum(quantityOrdered) desc          \\\r\n",
        "            limit 5) o                                  \\\r\n",
        "            left join products p                  \\\r\n",
        "                on o.productCode=p.productCode\"         \r\n",
        "\r\n",
        "df_join = pd.read_sql(query, conn)\r\n",
        "\r\n",
        "df_join"
      ],
      "outputs": [
        {
          "output_type": "execute_result",
          "data": {
            "text/html": [
              "<div>\n",
              "<style scoped>\n",
              "    .dataframe tbody tr th:only-of-type {\n",
              "        vertical-align: middle;\n",
              "    }\n",
              "\n",
              "    .dataframe tbody tr th {\n",
              "        vertical-align: top;\n",
              "    }\n",
              "\n",
              "    .dataframe thead th {\n",
              "        text-align: right;\n",
              "    }\n",
              "</style>\n",
              "<table border=\"1\" class=\"dataframe\">\n",
              "  <thead>\n",
              "    <tr style=\"text-align: right;\">\n",
              "      <th></th>\n",
              "      <th>productCode</th>\n",
              "      <th>total_ordered</th>\n",
              "      <th>quantityInStock</th>\n",
              "    </tr>\n",
              "  </thead>\n",
              "  <tbody>\n",
              "    <tr>\n",
              "      <th>0</th>\n",
              "      <td>S18_3232</td>\n",
              "      <td>1561</td>\n",
              "      <td>8347</td>\n",
              "    </tr>\n",
              "    <tr>\n",
              "      <th>1</th>\n",
              "      <td>S18_1342</td>\n",
              "      <td>960</td>\n",
              "      <td>8693</td>\n",
              "    </tr>\n",
              "    <tr>\n",
              "      <th>2</th>\n",
              "      <td>S12_1108</td>\n",
              "      <td>950</td>\n",
              "      <td>3619</td>\n",
              "    </tr>\n",
              "    <tr>\n",
              "      <th>3</th>\n",
              "      <td>S18_2949</td>\n",
              "      <td>949</td>\n",
              "      <td>4189</td>\n",
              "    </tr>\n",
              "    <tr>\n",
              "      <th>4</th>\n",
              "      <td>S18_4600</td>\n",
              "      <td>947</td>\n",
              "      <td>3128</td>\n",
              "    </tr>\n",
              "  </tbody>\n",
              "</table>\n",
              "</div>"
            ],
            "text/plain": [
              "  productCode  total_ordered  quantityInStock\n",
              "0    S18_3232           1561             8347\n",
              "1    S18_1342            960             8693\n",
              "2    S12_1108            950             3619\n",
              "3    S18_2949            949             4189\n",
              "4    S18_4600            947             3128"
            ]
          },
          "metadata": {},
          "execution_count": 26
        }
      ],
      "metadata": {
        "id": "2O3fMSleZTq5"
      }
    },
    {
      "cell_type": "markdown",
      "source": [
        "Both methods have same results ? Congrats ! "
      ],
      "metadata": {
        "id": "G1ctfvgPZWRw"
      }
    },
    {
      "cell_type": "markdown",
      "source": [
        "# Go forward\n",
        "\n",
        "If you want, you can try to connect to the MySQL Server with your computer. To do this, you need to have MySQL Server on your computer, and to execute your python script from your computer too (so on Jupyterlab or on Spyder, **but not on google colab**).\n",
        "Below, script to connect to your MySQL Server.\n",
        "And here, [the SQL script to execute](https://drive.google.com/file/d/1wXu5t7bahLhbGXOT6uCTOVLjPH-2oQ_d/view?usp=sharing) in the workbench if you don't have the database."
      ],
      "metadata": {
        "id": "sib7wKtwxVbc"
      }
    },
    {
      "cell_type": "code",
      "execution_count": null,
      "source": [
        "!pip install mysql-connector-python"
      ],
      "outputs": [],
      "metadata": {
        "id": "ozcNAdjygJw3"
      }
    },
    {
      "cell_type": "code",
      "execution_count": null,
      "source": [
        "import mysql.connector\r\n",
        "import pandas as pd\r\n",
        "\r\n",
        "# Please replace by your user and your password\r\n",
        "conn = mysql.connector.connect(user='emzo', password='YOUR_PASSWORD',\r\n",
        "                              host='localhost',\r\n",
        "                              database='toys_and_models')\r\n",
        "\r\n",
        "pd.read_sql('select * from orders', conn)"
      ],
      "outputs": [],
      "metadata": {
        "id": "xz8ozY2b0KEi"
      }
    },
    {
      "cell_type": "markdown",
      "source": [
        "Or you can test with this online server:"
      ],
      "metadata": {
        "id": "lQg23n59gEkF"
      }
    },
    {
      "cell_type": "code",
      "execution_count": null,
      "source": [
        "import mysql.connector\r\n",
        "import pandas as pd\r\n",
        "\r\n",
        "# Please replace by your user and your password\r\n",
        "conn = mysql.connector.connect(user='toyscie', password='WILD4Rdata!',\r\n",
        "                              host='51.68.18.102',port = '23456',\r\n",
        "                              database='toys_and_models')\r\n",
        "\r\n",
        "pd.read_sql('select * from orders', conn)"
      ],
      "outputs": [],
      "metadata": {
        "id": "y6IM7ZbFgD_9"
      }
    }
  ]
}