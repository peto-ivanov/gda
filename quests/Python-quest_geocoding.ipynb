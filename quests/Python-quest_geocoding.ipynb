{
  "cells": [
    {
      "cell_type": "markdown",
      "metadata": {
        "id": "Lq09sQbMUXRG"
      },
      "source": [
        "# Introduction\n",
        "The Nominatim API is a REST API (provided by OpenStreetMap), that returns geographic coordinates (latitude and longitude) from a postal address. If several postal addresses (due to inaccuracy or non-existent street number) corresponding to the request are found, the API returns several coordinates, each time with an `importance` score. The coordinates are given in descending order of importance, so you can select only the first address."
      ]
    },
    {
      "cell_type": "code",
      "execution_count": 1,
      "metadata": {
        "id": "zzECVow7AfF5"
      },
      "outputs": [
        {
          "data": {
            "text/plain": [
              "[{'place_id': 99008230,\n",
              "  'licence': 'Data © OpenStreetMap contributors, ODbL 1.0. https://osm.org/copyright',\n",
              "  'osm_type': 'way',\n",
              "  'osm_id': 31183303,\n",
              "  'boundingbox': ['37.5115262', '37.5119158', '15.0979776', '15.1011722'],\n",
              "  'lat': '37.5117512',\n",
              "  'lon': '15.0995581',\n",
              "  'display_name': 'Via Pietro Mascagni, Picanello-Ognina-Barriera-Canalicchio, Catania, Sicilia, 95127, Italia',\n",
              "  'class': 'highway',\n",
              "  'type': 'residential',\n",
              "  'importance': 0.51},\n",
              " {'place_id': 185547267,\n",
              "  'licence': 'Data © OpenStreetMap contributors, ODbL 1.0. https://osm.org/copyright',\n",
              "  'osm_type': 'way',\n",
              "  'osm_id': 409895559,\n",
              "  'boundingbox': ['37.5110212', '37.5113841', '15.0942789', '15.0969174'],\n",
              "  'lat': '37.5112366',\n",
              "  'lon': '15.0957499',\n",
              "  'display_name': 'Via Pietro Mascagni, Picanello-Ognina-Barriera-Canalicchio, Catania, Sicilia, 95129, Italia',\n",
              "  'class': 'highway',\n",
              "  'type': 'residential',\n",
              "  'importance': 0.51},\n",
              " {'place_id': 118977935,\n",
              "  'licence': 'Data © OpenStreetMap contributors, ODbL 1.0. https://osm.org/copyright',\n",
              "  'osm_type': 'way',\n",
              "  'osm_id': 128394486,\n",
              "  'boundingbox': ['37.6089805', '37.609111', '15.1602847', '15.16103'],\n",
              "  'lat': '37.6090903',\n",
              "  'lon': '15.1604414',\n",
              "  'display_name': 'Via Pietro Mascagni, Santa Caterina, Acireale, Catania, Sicilia, 95024, Italia',\n",
              "  'class': 'highway',\n",
              "  'type': 'residential',\n",
              "  'importance': 0.51},\n",
              " {'place_id': 105554238,\n",
              "  'licence': 'Data © OpenStreetMap contributors, ODbL 1.0. https://osm.org/copyright',\n",
              "  'osm_type': 'way',\n",
              "  'osm_id': 58232256,\n",
              "  'boundingbox': ['37.6088571', '37.6091358', '15.1591549', '15.1602847'],\n",
              "  'lat': '37.6091358',\n",
              "  'lon': '15.1596388',\n",
              "  'display_name': 'Via Pietro Mascagni, Sciarelle, Acireale, Catania, Sicilia, 95024, Italia',\n",
              "  'class': 'highway',\n",
              "  'type': 'residential',\n",
              "  'importance': 0.51},\n",
              " {'place_id': 130466494,\n",
              "  'licence': 'Data © OpenStreetMap contributors, ODbL 1.0. https://osm.org/copyright',\n",
              "  'osm_type': 'way',\n",
              "  'osm_id': 167016177,\n",
              "  'boundingbox': ['37.5673863', '37.5680605', '14.9106504', '14.9109837'],\n",
              "  'lat': '37.5676811',\n",
              "  'lon': '14.9106709',\n",
              "  'display_name': 'Via Pietro Mascagni, Paternò, Catania, Sicilia, 95047, Italia',\n",
              "  'class': 'highway',\n",
              "  'type': 'residential',\n",
              "  'importance': 0.51},\n",
              " {'place_id': 120664807,\n",
              "  'licence': 'Data © OpenStreetMap contributors, ODbL 1.0. https://osm.org/copyright',\n",
              "  'osm_type': 'way',\n",
              "  'osm_id': 128391464,\n",
              "  'boundingbox': ['37.8731787', '37.8744884', '14.9551124', '14.9563286'],\n",
              "  'lat': '37.8738625',\n",
              "  'lon': '14.9555742',\n",
              "  'display_name': 'Via Pietro Mascagni, Randazzo, Catania, Sicilia, 95036, Italia',\n",
              "  'class': 'highway',\n",
              "  'type': 'residential',\n",
              "  'importance': 0.51},\n",
              " {'place_id': 101257904,\n",
              "  'licence': 'Data © OpenStreetMap contributors, ODbL 1.0. https://osm.org/copyright',\n",
              "  'osm_type': 'way',\n",
              "  'osm_id': 37345033,\n",
              "  'boundingbox': ['37.723497', '37.7258236', '15.1784657', '15.1794786'],\n",
              "  'lat': '37.7242361',\n",
              "  'lon': '15.1789984',\n",
              "  'display_name': 'Via Pietro Mascagni, Altarello, Giarre, Catania, Sicilia, 95014, Italia',\n",
              "  'class': 'highway',\n",
              "  'type': 'residential',\n",
              "  'importance': 0.51},\n",
              " {'place_id': 141544436,\n",
              "  'licence': 'Data © OpenStreetMap contributors, ODbL 1.0. https://osm.org/copyright',\n",
              "  'osm_type': 'way',\n",
              "  'osm_id': 211056073,\n",
              "  'boundingbox': ['37.5559895', '37.5567121', '14.9169673', '14.9175618'],\n",
              "  'lat': '37.5567121',\n",
              "  'lon': '14.9169673',\n",
              "  'display_name': 'Via Pietro Mascagni, Giaconia, Belpasso, Catania, Sicilia, 95032, Italia',\n",
              "  'class': 'highway',\n",
              "  'type': 'residential',\n",
              "  'importance': 0.51},\n",
              " {'place_id': 145111470,\n",
              "  'licence': 'Data © OpenStreetMap contributors, ODbL 1.0. https://osm.org/copyright',\n",
              "  'osm_type': 'way',\n",
              "  'osm_id': 219951497,\n",
              "  'boundingbox': ['37.6498431', '37.6500893', '14.863277', '14.8634543'],\n",
              "  'lat': '37.6498431',\n",
              "  'lon': '14.863277',\n",
              "  'display_name': 'Via Pietro Mascagni, Biancavilla, Catania, Sicilia, 95033, Italia',\n",
              "  'class': 'highway',\n",
              "  'type': 'residential',\n",
              "  'importance': 0.51},\n",
              " {'place_id': 114512242,\n",
              "  'licence': 'Data © OpenStreetMap contributors, ODbL 1.0. https://osm.org/copyright',\n",
              "  'osm_type': 'way',\n",
              "  'osm_id': 105406741,\n",
              "  'boundingbox': ['37.6910044', '37.6919085', '15.1028803', '15.1031341'],\n",
              "  'lat': '37.6916326',\n",
              "  'lon': '15.1030849',\n",
              "  'display_name': 'Via Pietro Mascagni, Ballo, Zafferana Etnea, Catania, Sicilia, 95019, Italia',\n",
              "  'class': 'highway',\n",
              "  'type': 'residential',\n",
              "  'importance': 0.51}]"
            ]
          },
          "execution_count": 1,
          "metadata": {},
          "output_type": "execute_result"
        }
      ],
      "source": [
        "# Execute the code below :\n",
        "\n",
        "import requests\n",
        "link = \"https://nominatim.openstreetmap.org/?q=54+Via+Pietro+Mascagni,Catania,Italy&format=json\"\n",
        "r = requests.get(link).json()\n",
        "r"
      ]
    },
    {
      "cell_type": "code",
      "execution_count": 2,
      "metadata": {
        "id": "D7YK4RLtYxJP"
      },
      "outputs": [
        {
          "name": "stdout",
          "output_type": "stream",
          "text": [
            "First address : {'place_id': 99008230, 'licence': 'Data © OpenStreetMap contributors, ODbL 1.0. https://osm.org/copyright', 'osm_type': 'way', 'osm_id': 31183303, 'boundingbox': ['37.5115262', '37.5119158', '15.0979776', '15.1011722'], 'lat': '37.5117512', 'lon': '15.0995581', 'display_name': 'Via Pietro Mascagni, Picanello-Ognina-Barriera-Canalicchio, Catania, Sicilia, 95127, Italia', 'class': 'highway', 'type': 'residential', 'importance': 0.51}\n",
            "First address longitude : 15.0995581\n",
            "First address latitude : 37.5117512\n"
          ]
        }
      ],
      "source": [
        "# Here we select only the first address (index 0)\n",
        "print(\"First address :\", r[0])\n",
        "print(\"First address longitude :\",r[0]['lon'])\n",
        "print(\"First address latitude :\",r[0]['lat'])"
      ]
    },
    {
      "cell_type": "code",
      "execution_count": 3,
      "metadata": {
        "id": "1n8xgPwnbddp"
      },
      "outputs": [
        {
          "name": "stdout",
          "output_type": "stream",
          "text": [
            "WITHOUT limit, how many coordinates does this address return? 10\n",
            "WITH limit, how many coordinates does this address return? 1\n"
          ]
        }
      ],
      "source": [
        "# For ease of use, you can add a limit on the number of items returned:\n",
        "\n",
        "link = \"https://nominatim.openstreetmap.org/?q=54+Via+Pietro+Mascagni,Catania,Italy&format=json\"\n",
        "r = requests.get(link).json()\n",
        "print(\"WITHOUT limit, how many coordinates does this address return?\",len(r))\n",
        "\n",
        "link = \"https://nominatim.openstreetmap.org/?q=54+Via+Pietro+Mascagni,Catania,Italy&format=json&limit=1\"\n",
        "r = requests.get(link).json()\n",
        "print(\"WITH limit, how many coordinates does this address return?\",len(r))"
      ]
    },
    {
      "cell_type": "markdown",
      "metadata": {
        "id": "PhjWl336aVUm"
      },
      "source": [
        "## How to create your API query\n",
        "It's up to you to modify the string to create the right request URL"
      ]
    },
    {
      "cell_type": "code",
      "execution_count": 5,
      "metadata": {
        "id": "-_A9JKScWV5I"
      },
      "outputs": [
        {
          "name": "stdout",
          "output_type": "stream",
          "text": [
            "https://nominatim.openstreetmap.org/?q=54+Via+Pietro+Mascagni,Catania,Italy&format=json&limit=1\n"
          ]
        }
      ],
      "source": [
        "# We observe that the query consists of a fixed part, followed by the address to be searched for.\n",
        "# An URL cannot contain a \" \" space character, \n",
        "# and special characters or accents should be avoided if possible\n",
        "\n",
        "link_main = 'https://nominatim.openstreetmap.org/?q='\n",
        "address = '54 Via Pietro Mascagni, Catania, Italy'\n",
        "link_end = '&format=json&limit=1'\n",
        "\n",
        "link = link_main + address.replace(\", \",\",\").replace(\" \",\"+\") # It's your turn here. Your goal is to get a link in the right format\n",
        "\n",
        "print(link + link_end)"
      ]
    },
    {
      "cell_type": "code",
      "execution_count": 6,
      "metadata": {
        "id": "9gLir_IWdHGz"
      },
      "outputs": [],
      "source": [
        "# Create a function here that turns a postal address into a request URL for the Nominatim API, \n",
        "# then makes the request and returns the coordinates :\n",
        "\n",
        "def API_address(postal_address):\n",
        "    link_main = 'https://nominatim.openstreetmap.org/?q='\n",
        "    link_end = '&format=json&limit=1'\n",
        "\n",
        "    link = link_main + postal_address.replace(\", \",\",\").replace(\" \",\"+\")\n",
        "\n",
        "    return (link + link_end)\n",
        "  \n"
      ]
    },
    {
      "cell_type": "code",
      "execution_count": 7,
      "metadata": {
        "id": "C0ZQnTyvdY4M"
      },
      "outputs": [
        {
          "data": {
            "text/plain": [
              "'https://nominatim.openstreetmap.org/?q=54+Via+Pietro+Mascagni,Catania,Italy&format=json&limit=1'"
            ]
          },
          "execution_count": 7,
          "metadata": {},
          "output_type": "execute_result"
        }
      ],
      "source": [
        "# Test it here:\n",
        "API_address(address)"
      ]
    },
    {
      "cell_type": "markdown",
      "metadata": {
        "id": "rXLrMxFvcFu_"
      },
      "source": [
        "# DataViz\n",
        "Latitude & Longitude can be used on visualization tools, whether they are BI tools (PowerBI, Table), or Python DataViz libraries such as Plotly or Folium.\n",
        "\n",
        "Here we will display a map with Folium.\n"
      ]
    },
    {
      "cell_type": "code",
      "execution_count": null,
      "metadata": {
        "id": "969VKpP1fWdJ"
      },
      "outputs": [],
      "source": [
        "# The syntax of Folium is very simple, you start by creating a map centered on a point.\n",
        "# You can change the default zoom level with the argument \"zoom_start\".\n",
        "\n",
        "import folium\n",
        "\n",
        "# We define a location as a list with 2 values : latitude and longitude.\n",
        "point = [float(r[0]['lat']), float(r[0]['lon'])]\n",
        "\n",
        "# We center the map on the location \n",
        "m = folium.Map(location=point,zoom_start=7)\n",
        "\n",
        "# We display the map\n",
        "m"
      ]
    },
    {
      "cell_type": "code",
      "execution_count": null,
      "metadata": {
        "id": "eXWTn1mFUKrH"
      },
      "outputs": [],
      "source": [
        "# Then you can add landmarks and put a clickable comment\n",
        "m = folium.Map(location=point, )\n",
        "folium.Marker(\n",
        "    location=point,\n",
        "    popup='a good restaurant'\n",
        "    ).add_to(m)\n",
        "m"
      ]
    },
    {
      "cell_type": "markdown",
      "metadata": {
        "id": "R1xRs4dlgC2-"
      },
      "source": [
        "# Challenge\n",
        "Here is a DataFrame with restaurants in Catania, Sicily, and their respective addresses. Here is your mission:\n",
        "- Create a new column \"coordinates\", which will store the coordinates corresponding to each address (you can use the function you created previously).\n",
        "- Display a map with the 4 restaurant markers. Be careful, the restaurants are very close, remember to set the default zoom level so that it is clearly legible. You can center the map on the first restaurant. And display the name of the restaurant in the tooltip popup."
      ]
    },
    {
      "cell_type": "code",
      "execution_count": 70,
      "metadata": {
        "id": "J4dQrpdVlzYL"
      },
      "outputs": [],
      "source": [
        "import numpy as np\n",
        "import pandas as pd\n",
        "restaurants = pd.DataFrame([[\"Gelateria Zio Pietro dal 1964\", \"Via Porta di Ferro, 47, 95131 Catania CT\"],\n",
        "                            [\"A Casa d'Amici\",\"Via Fischetti, 14, 95131 Catania CT\"],\n",
        "                            [\"La Bitta\", \"Via Acquicella Porto, 95121 Catania CT\"],\n",
        "                            [\"Steak House\", \"Via Porta di Ferro, 8, 95100 Catania CT\"]],\n",
        "                           columns = [\"name\", \"address\"])\n",
        "\n",
        "# This is done in loop as I didn't find better way\n",
        "#   But there might be a viable .apply(func) solution\n",
        "#   The func could be applied on the restaurant[\"address\"]\n",
        "#   and for each address value it would issue an API request\n",
        "#   and create two new entries into new columns\n",
        "\n",
        "# We're looping over index as we need to work with index later\n",
        "\n",
        "# We need to create empty series with dtype=object,\n",
        "#   so we could store \"list\" of latitude and longitude into it\n",
        "s = pd.Series(dtype=object)\n",
        "\n",
        "for index in restaurants[\"address\"].index:\n",
        "\n",
        "    # Getting address using index\n",
        "    address = restaurants[\"address\"][index]\n",
        "\n",
        "    # Gettin response from the address lookup\n",
        "    r = requests.get(API_address(address)).json()\n",
        "\n",
        "    # Response is a list of dicts, so we run a loop through items\n",
        "    for item in r:\n",
        "        # insert values on specific place into the dataframe\n",
        "        # this is where we needed the index mostly\n",
        "        #restaurants.at[index, \"lat\"] = float(item[\"lat\"])\n",
        "        #restaurants.at[index, \"lon\"] = float(item[\"lon\"])\n",
        "        #\n",
        "        #restaurants.at[index, \"coordinates\"] = [float(item[\"lat\"]), float(item[\"lon\"])]\n",
        "        s.at[index] = [float(item[\"lat\"]), float(item[\"lon\"])]\n",
        "\n",
        "# Now insert the new Series into the dataframe\n",
        "restaurants[\"coordinates\"] = s"
      ]
    },
    {
      "cell_type": "code",
      "execution_count": 110,
      "metadata": {},
      "outputs": [],
      "source": [
        "# Filtering out only items that were found\n",
        "found_items = restaurants[~restaurants[\"coordinates\"].isna()].reset_index()\n",
        "\n",
        "# Setting the initial location of the map (first item)\n",
        "point = found_items.at[0, \"coordinates\"]"
      ]
    },
    {
      "cell_type": "code",
      "execution_count": 114,
      "metadata": {},
      "outputs": [
        {
          "data": {
            "text/html": [
              "<div style=\"width:100%;\"><div style=\"position:relative;width:100%;height:0;padding-bottom:60%;\"><span style=\"color:#565656\">Make this Notebook Trusted to load map: File -> Trust Notebook</span><iframe src=\"about:blank\" style=\"position:absolute;width:100%;height:100%;left:0;top:0;border:none !important;\" data-html=%3C%21DOCTYPE%20html%3E%0A%3Chead%3E%20%20%20%20%0A%20%20%20%20%3Cmeta%20http-equiv%3D%22content-type%22%20content%3D%22text/html%3B%20charset%3DUTF-8%22%20/%3E%0A%20%20%20%20%0A%20%20%20%20%20%20%20%20%3Cscript%3E%0A%20%20%20%20%20%20%20%20%20%20%20%20L_NO_TOUCH%20%3D%20false%3B%0A%20%20%20%20%20%20%20%20%20%20%20%20L_DISABLE_3D%20%3D%20false%3B%0A%20%20%20%20%20%20%20%20%3C/script%3E%0A%20%20%20%20%0A%20%20%20%20%3Cstyle%3Ehtml%2C%20body%20%7Bwidth%3A%20100%25%3Bheight%3A%20100%25%3Bmargin%3A%200%3Bpadding%3A%200%3B%7D%3C/style%3E%0A%20%20%20%20%3Cstyle%3E%23map%20%7Bposition%3Aabsolute%3Btop%3A0%3Bbottom%3A0%3Bright%3A0%3Bleft%3A0%3B%7D%3C/style%3E%0A%20%20%20%20%3Cscript%20src%3D%22https%3A//cdn.jsdelivr.net/npm/leaflet%401.6.0/dist/leaflet.js%22%3E%3C/script%3E%0A%20%20%20%20%3Cscript%20src%3D%22https%3A//code.jquery.com/jquery-1.12.4.min.js%22%3E%3C/script%3E%0A%20%20%20%20%3Cscript%20src%3D%22https%3A//maxcdn.bootstrapcdn.com/bootstrap/3.2.0/js/bootstrap.min.js%22%3E%3C/script%3E%0A%20%20%20%20%3Cscript%20src%3D%22https%3A//cdnjs.cloudflare.com/ajax/libs/Leaflet.awesome-markers/2.0.2/leaflet.awesome-markers.js%22%3E%3C/script%3E%0A%20%20%20%20%3Clink%20rel%3D%22stylesheet%22%20href%3D%22https%3A//cdn.jsdelivr.net/npm/leaflet%401.6.0/dist/leaflet.css%22/%3E%0A%20%20%20%20%3Clink%20rel%3D%22stylesheet%22%20href%3D%22https%3A//maxcdn.bootstrapcdn.com/bootstrap/3.2.0/css/bootstrap.min.css%22/%3E%0A%20%20%20%20%3Clink%20rel%3D%22stylesheet%22%20href%3D%22https%3A//maxcdn.bootstrapcdn.com/bootstrap/3.2.0/css/bootstrap-theme.min.css%22/%3E%0A%20%20%20%20%3Clink%20rel%3D%22stylesheet%22%20href%3D%22https%3A//maxcdn.bootstrapcdn.com/font-awesome/4.6.3/css/font-awesome.min.css%22/%3E%0A%20%20%20%20%3Clink%20rel%3D%22stylesheet%22%20href%3D%22https%3A//cdnjs.cloudflare.com/ajax/libs/Leaflet.awesome-markers/2.0.2/leaflet.awesome-markers.css%22/%3E%0A%20%20%20%20%3Clink%20rel%3D%22stylesheet%22%20href%3D%22https%3A//cdn.jsdelivr.net/gh/python-visualization/folium/folium/templates/leaflet.awesome.rotate.min.css%22/%3E%0A%20%20%20%20%0A%20%20%20%20%20%20%20%20%20%20%20%20%3Cmeta%20name%3D%22viewport%22%20content%3D%22width%3Ddevice-width%2C%0A%20%20%20%20%20%20%20%20%20%20%20%20%20%20%20%20initial-scale%3D1.0%2C%20maximum-scale%3D1.0%2C%20user-scalable%3Dno%22%20/%3E%0A%20%20%20%20%20%20%20%20%20%20%20%20%3Cstyle%3E%0A%20%20%20%20%20%20%20%20%20%20%20%20%20%20%20%20%23map_ae9de52eda284e6482d7124866796542%20%7B%0A%20%20%20%20%20%20%20%20%20%20%20%20%20%20%20%20%20%20%20%20position%3A%20relative%3B%0A%20%20%20%20%20%20%20%20%20%20%20%20%20%20%20%20%20%20%20%20width%3A%20100.0%25%3B%0A%20%20%20%20%20%20%20%20%20%20%20%20%20%20%20%20%20%20%20%20height%3A%20100.0%25%3B%0A%20%20%20%20%20%20%20%20%20%20%20%20%20%20%20%20%20%20%20%20left%3A%200.0%25%3B%0A%20%20%20%20%20%20%20%20%20%20%20%20%20%20%20%20%20%20%20%20top%3A%200.0%25%3B%0A%20%20%20%20%20%20%20%20%20%20%20%20%20%20%20%20%7D%0A%20%20%20%20%20%20%20%20%20%20%20%20%3C/style%3E%0A%20%20%20%20%20%20%20%20%0A%3C/head%3E%0A%3Cbody%3E%20%20%20%20%0A%20%20%20%20%0A%20%20%20%20%20%20%20%20%20%20%20%20%3Cdiv%20class%3D%22folium-map%22%20id%3D%22map_ae9de52eda284e6482d7124866796542%22%20%3E%3C/div%3E%0A%20%20%20%20%20%20%20%20%0A%3C/body%3E%0A%3Cscript%3E%20%20%20%20%0A%20%20%20%20%0A%20%20%20%20%20%20%20%20%20%20%20%20var%20map_ae9de52eda284e6482d7124866796542%20%3D%20L.map%28%0A%20%20%20%20%20%20%20%20%20%20%20%20%20%20%20%20%22map_ae9de52eda284e6482d7124866796542%22%2C%0A%20%20%20%20%20%20%20%20%20%20%20%20%20%20%20%20%7B%0A%20%20%20%20%20%20%20%20%20%20%20%20%20%20%20%20%20%20%20%20center%3A%20%5B37.5064715%2C%2015.094262%5D%2C%0A%20%20%20%20%20%20%20%20%20%20%20%20%20%20%20%20%20%20%20%20crs%3A%20L.CRS.EPSG3857%2C%0A%20%20%20%20%20%20%20%20%20%20%20%20%20%20%20%20%20%20%20%20zoom%3A%2014%2C%0A%20%20%20%20%20%20%20%20%20%20%20%20%20%20%20%20%20%20%20%20zoomControl%3A%20true%2C%0A%20%20%20%20%20%20%20%20%20%20%20%20%20%20%20%20%20%20%20%20preferCanvas%3A%20false%2C%0A%20%20%20%20%20%20%20%20%20%20%20%20%20%20%20%20%7D%0A%20%20%20%20%20%20%20%20%20%20%20%20%29%3B%0A%0A%20%20%20%20%20%20%20%20%20%20%20%20%0A%0A%20%20%20%20%20%20%20%20%0A%20%20%20%20%0A%20%20%20%20%20%20%20%20%20%20%20%20var%20tile_layer_9735eed02ebf438dba12ddcf215d1e02%20%3D%20L.tileLayer%28%0A%20%20%20%20%20%20%20%20%20%20%20%20%20%20%20%20%22https%3A//%7Bs%7D.tile.openstreetmap.org/%7Bz%7D/%7Bx%7D/%7By%7D.png%22%2C%0A%20%20%20%20%20%20%20%20%20%20%20%20%20%20%20%20%7B%22attribution%22%3A%20%22Data%20by%20%5Cu0026copy%3B%20%5Cu003ca%20href%3D%5C%22http%3A//openstreetmap.org%5C%22%5Cu003eOpenStreetMap%5Cu003c/a%5Cu003e%2C%20under%20%5Cu003ca%20href%3D%5C%22http%3A//www.openstreetmap.org/copyright%5C%22%5Cu003eODbL%5Cu003c/a%5Cu003e.%22%2C%20%22detectRetina%22%3A%20false%2C%20%22maxNativeZoom%22%3A%2018%2C%20%22maxZoom%22%3A%2018%2C%20%22minZoom%22%3A%200%2C%20%22noWrap%22%3A%20false%2C%20%22opacity%22%3A%201%2C%20%22subdomains%22%3A%20%22abc%22%2C%20%22tms%22%3A%20false%7D%0A%20%20%20%20%20%20%20%20%20%20%20%20%29.addTo%28map_ae9de52eda284e6482d7124866796542%29%3B%0A%20%20%20%20%20%20%20%20%0A%20%20%20%20%0A%20%20%20%20%20%20%20%20%20%20%20%20var%20marker_972b1d342ce648c0bbe479c911255c4a%20%3D%20L.marker%28%0A%20%20%20%20%20%20%20%20%20%20%20%20%20%20%20%20%5B37.5064715%2C%2015.094262%5D%2C%0A%20%20%20%20%20%20%20%20%20%20%20%20%20%20%20%20%7B%7D%0A%20%20%20%20%20%20%20%20%20%20%20%20%29.addTo%28map_ae9de52eda284e6482d7124866796542%29%3B%0A%20%20%20%20%20%20%20%20%0A%20%20%20%20%0A%20%20%20%20%20%20%20%20var%20popup_a2f477ee7347477eb475f1217ec3bf1e%20%3D%20L.popup%28%7B%22maxWidth%22%3A%20%22100%25%22%7D%29%3B%0A%0A%20%20%20%20%20%20%20%20%0A%20%20%20%20%20%20%20%20%20%20%20%20var%20html_e87ce051ea554269bca7422afdec0077%20%3D%20%24%28%60%3Cdiv%20id%3D%22html_e87ce051ea554269bca7422afdec0077%22%20style%3D%22width%3A%20100.0%25%3B%20height%3A%20100.0%25%3B%22%3EA%20Casa%20d%27Amici%3C/div%3E%60%29%5B0%5D%3B%0A%20%20%20%20%20%20%20%20%20%20%20%20popup_a2f477ee7347477eb475f1217ec3bf1e.setContent%28html_e87ce051ea554269bca7422afdec0077%29%3B%0A%20%20%20%20%20%20%20%20%0A%0A%20%20%20%20%20%20%20%20marker_972b1d342ce648c0bbe479c911255c4a.bindPopup%28popup_a2f477ee7347477eb475f1217ec3bf1e%29%0A%20%20%20%20%20%20%20%20%3B%0A%0A%20%20%20%20%20%20%20%20%0A%20%20%20%20%0A%20%20%20%20%0A%20%20%20%20%20%20%20%20%20%20%20%20var%20marker_689aff6533214840bfd11deb01ecfea6%20%3D%20L.marker%28%0A%20%20%20%20%20%20%20%20%20%20%20%20%20%20%20%20%5B37.49262245%2C%2015.074836764797478%5D%2C%0A%20%20%20%20%20%20%20%20%20%20%20%20%20%20%20%20%7B%7D%0A%20%20%20%20%20%20%20%20%20%20%20%20%29.addTo%28map_ae9de52eda284e6482d7124866796542%29%3B%0A%20%20%20%20%20%20%20%20%0A%20%20%20%20%0A%20%20%20%20%20%20%20%20var%20popup_424b96eef5f64d8b9f93b67554e6ab78%20%3D%20L.popup%28%7B%22maxWidth%22%3A%20%22100%25%22%7D%29%3B%0A%0A%20%20%20%20%20%20%20%20%0A%20%20%20%20%20%20%20%20%20%20%20%20var%20html_05101d4ae6224b319ac7a4302e697874%20%3D%20%24%28%60%3Cdiv%20id%3D%22html_05101d4ae6224b319ac7a4302e697874%22%20style%3D%22width%3A%20100.0%25%3B%20height%3A%20100.0%25%3B%22%3ELa%20Bitta%3C/div%3E%60%29%5B0%5D%3B%0A%20%20%20%20%20%20%20%20%20%20%20%20popup_424b96eef5f64d8b9f93b67554e6ab78.setContent%28html_05101d4ae6224b319ac7a4302e697874%29%3B%0A%20%20%20%20%20%20%20%20%0A%0A%20%20%20%20%20%20%20%20marker_689aff6533214840bfd11deb01ecfea6.bindPopup%28popup_424b96eef5f64d8b9f93b67554e6ab78%29%0A%20%20%20%20%20%20%20%20%3B%0A%0A%20%20%20%20%20%20%20%20%0A%20%20%20%20%0A%20%20%20%20%0A%20%20%20%20%20%20%20%20%20%20%20%20var%20marker_822a71fd74e64bd3b61562ab2ff2b2e4%20%3D%20L.marker%28%0A%20%20%20%20%20%20%20%20%20%20%20%20%20%20%20%20%5B37.5026072%2C%2015.0929266%5D%2C%0A%20%20%20%20%20%20%20%20%20%20%20%20%20%20%20%20%7B%7D%0A%20%20%20%20%20%20%20%20%20%20%20%20%29.addTo%28map_ae9de52eda284e6482d7124866796542%29%3B%0A%20%20%20%20%20%20%20%20%0A%20%20%20%20%0A%20%20%20%20%20%20%20%20var%20popup_4b8ebba0eb594df598e9922cd42d3e90%20%3D%20L.popup%28%7B%22maxWidth%22%3A%20%22100%25%22%7D%29%3B%0A%0A%20%20%20%20%20%20%20%20%0A%20%20%20%20%20%20%20%20%20%20%20%20var%20html_0166fe40a31a499eb44abbc65010ba71%20%3D%20%24%28%60%3Cdiv%20id%3D%22html_0166fe40a31a499eb44abbc65010ba71%22%20style%3D%22width%3A%20100.0%25%3B%20height%3A%20100.0%25%3B%22%3ESteak%20House%3C/div%3E%60%29%5B0%5D%3B%0A%20%20%20%20%20%20%20%20%20%20%20%20popup_4b8ebba0eb594df598e9922cd42d3e90.setContent%28html_0166fe40a31a499eb44abbc65010ba71%29%3B%0A%20%20%20%20%20%20%20%20%0A%0A%20%20%20%20%20%20%20%20marker_822a71fd74e64bd3b61562ab2ff2b2e4.bindPopup%28popup_4b8ebba0eb594df598e9922cd42d3e90%29%0A%20%20%20%20%20%20%20%20%3B%0A%0A%20%20%20%20%20%20%20%20%0A%20%20%20%20%0A%3C/script%3E onload=\"this.contentDocument.open();this.contentDocument.write(    decodeURIComponent(this.getAttribute('data-html')));this.contentDocument.close();\" allowfullscreen webkitallowfullscreen mozallowfullscreen></iframe></div></div>"
            ],
            "text/plain": [
              "<folium.folium.Map at 0x21fcc542a90>"
            ]
          },
          "execution_count": 114,
          "metadata": {},
          "output_type": "execute_result"
        }
      ],
      "source": [
        "# We center the map on the location \n",
        "m = folium.Map(location=point, zoom_start=14)\n",
        "\n",
        "for index in restaurants[~restaurants[\"coordinates\"].isna()].index:\n",
        "    #print(f\"coordinates: {restaurants.at[index, 'coordinates']}\")\n",
        "    #print(f\"popup: {restaurants.at[index, 'name']}\")\n",
        "    folium.Marker(\n",
        "        location=restaurants.at[index, \"coordinates\"],\n",
        "        popup=restaurants.at[index, \"name\"]\n",
        "        ).add_to(m)\n",
        "\n",
        "# We display the map\n",
        "m"
      ]
    },
    {
      "cell_type": "markdown",
      "metadata": {
        "id": "5198aDGpHIF2"
      },
      "source": [
        "# Remarks on the Nominatim API\n",
        "As indicated in the quest, there are many resources for geocoding. Most of them are available by registration, and some require a fee.\n",
        "\n",
        "The Nominatim API is free and without registration. The disadvantage is that it is relatively slow. If you need to use it in the future, remember to store the results so you don't have to run it several times.\n",
        "\n",
        "For your knowledge, there is also :\n",
        "- the **reverse** address API, which allows you to find the nearest postal address using geographic coordinates.\n",
        "- the API from a **CSV file** if you have a lot of addresses to geocode\n",
        "- the API **GeoJSON** which allows to obtain a geoJSON format of locations to make choropleth maps\n",
        "\n",
        "\n",
        "All the [documentation is available here](https://nominatim.org/release-docs/develop/api/Search/)."
      ]
    }
  ],
  "metadata": {
    "colab": {
      "collapsed_sections": [],
      "name": "GeoCoding Nominatim OSM.ipynb",
      "provenance": []
    },
    "kernelspec": {
      "display_name": "Python 3",
      "name": "python3"
    }
  },
  "nbformat": 4,
  "nbformat_minor": 0
}
