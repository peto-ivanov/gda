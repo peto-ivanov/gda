{
 "cells": [
  {
   "cell_type": "markdown",
   "source": [
    "# NLP 4: Sentiment Analysis"
   ],
   "metadata": {}
  },
  {
   "cell_type": "markdown",
   "source": [
    "Practice classifying tweets to tell if they are positive or negative. It could be a very useful tool to optimize the work of a community manager."
   ],
   "metadata": {}
  },
  {
   "cell_type": "markdown",
   "source": [
    "## Task 1"
   ],
   "metadata": {}
  },
  {
   "cell_type": "markdown",
   "source": [
    "* Import [this dataset](https://github.com/murpi/wilddata/raw/master/quests/tweets.zip) of tweets into a DataFrame."
   ],
   "metadata": {}
  },
  {
   "cell_type": "code",
   "execution_count": 171,
   "source": [
    "# Necessary modules\r\n",
    "import re\r\n",
    "import zipfile\r\n",
    "import pandas as pd\r\n",
    "import matplotlib.pyplot as plt\r\n",
    "import seaborn as sns\r\n",
    "\r\n",
    "# spaCy section\r\n",
    "import spacy\r\n",
    "from spacy.tokens import Doc\r\n",
    "\r\n",
    "# Import of English rules\r\n",
    "nlp = spacy.load(\"en_core_web_sm\")\r\n",
    "\r\n",
    "import nltk\r\n",
    "from nltk.corpus import stopwords\r\n",
    "from nltk.stem import WordNetLemmatizer\r\n",
    "nltk.download('wordnet')\r\n",
    "\r\n",
    "from sklearn.model_selection import train_test_split\r\n",
    "from sklearn.feature_extraction.text import CountVectorizer, TfidfVectorizer\r\n",
    "from sklearn.linear_model import LogisticRegression\r\n",
    "\r\n",
    "# Setting this to display entire tweet length in dataframe printout\r\n",
    "pd.set_option('max_colwidth', 400)"
   ],
   "outputs": [
    {
     "output_type": "stream",
     "name": "stderr",
     "text": [
      "[nltk_data] Downloading package wordnet to\n",
      "[nltk_data]     C:\\Users\\pivanov\\AppData\\Roaming\\nltk_data...\n",
      "[nltk_data]   Package wordnet is already up-to-date!\n"
     ]
    }
   ],
   "metadata": {}
  },
  {
   "cell_type": "code",
   "execution_count": 6,
   "source": [
    "# Read the dataset using the zip compression\r\n",
    "df = pd.read_csv(\"https://github.com/murpi/wilddata/raw/master/quests/tweets.zip\",compression='zip')\r\n",
    " \r\n",
    "print(df.info())"
   ],
   "outputs": [
    {
     "output_type": "stream",
     "name": "stdout",
     "text": [
      "<class 'pandas.core.frame.DataFrame'>\n",
      "RangeIndex: 27481 entries, 0 to 27480\n",
      "Data columns (total 4 columns):\n",
      " #   Column         Non-Null Count  Dtype \n",
      "---  ------         --------------  ----- \n",
      " 0   textID         27481 non-null  object\n",
      " 1   text           27480 non-null  object\n",
      " 2   selected_text  27480 non-null  object\n",
      " 3   sentiment      27481 non-null  object\n",
      "dtypes: object(4)\n",
      "memory usage: 858.9+ KB\n",
      "None\n"
     ]
    }
   ],
   "metadata": {}
  },
  {
   "cell_type": "markdown",
   "source": [
    "## Task 2"
   ],
   "metadata": {}
  },
  {
   "cell_type": "markdown",
   "source": [
    "* Keep only positive and negative tweets (so you exclude `neutrals`). What is the percentage of positive/negative tweets?"
   ],
   "metadata": {}
  },
  {
   "cell_type": "code",
   "execution_count": 52,
   "source": [
    "# Removing \"neutral\" tweets\r\n",
    "df = df[~(df[\"sentiment\"]==\"neutral\")]\r\n",
    "\r\n",
    "# Extracting counts for positive and negative\r\n",
    "data = df[\"sentiment\"].value_counts() \r\n",
    "\r\n",
    "# Computing the percentages\r\n",
    "print (f\"{round(data * 100 / data.sum(), 2)}\")\r\n",
    "\r\n",
    "# Plot! Why not.\r\n",
    "fig, ax = plt.subplots()\r\n",
    "plt.pie(x=data, labels=data.index.values, autopct='%.2f%%')\r\n",
    "fig.set_facecolor('white')\r\n",
    "ax.set_title(\"Tweets sentiment\")\r\n",
    "plt.show()"
   ],
   "outputs": [
    {
     "output_type": "stream",
     "name": "stdout",
     "text": [
      "positive    52.45\n",
      "negative    47.55\n",
      "Name: sentiment, dtype: float64\n"
     ]
    },
    {
     "output_type": "display_data",
     "data": {
      "image/png": "[encoded data removed]",
      "text/plain": [
       "<Figure size 432x288 with 1 Axes>"
      ]
     },
     "metadata": {}
    }
   ],
   "metadata": {}
  },
  {
   "cell_type": "markdown",
   "source": [
    "## Task 3"
   ],
   "metadata": {}
  },
  {
   "cell_type": "markdown",
   "source": [
    "* Retrieve the list of English stopwords from NLTK, and copy it into a `stopwordsenglish` list."
   ],
   "metadata": {}
  },
  {
   "cell_type": "code",
   "execution_count": 55,
   "source": [
    "stopwordsenglish = set(stopwords.words('english'))"
   ],
   "outputs": [],
   "metadata": {}
  },
  {
   "cell_type": "markdown",
   "source": [
    "## Task 4"
   ],
   "metadata": {}
  },
  {
   "cell_type": "markdown",
   "source": [
    "* Create a `lemma` function that takes a text (`str`) as a parameter and returns a text (`str`) of tokens after applying a stemmer or a lemmatizer, separated by spaces."
   ],
   "metadata": {}
  },
  {
   "cell_type": "code",
   "execution_count": 122,
   "source": [
    "# This will lemmatize and lowercase text and remove punctuation at one go\r\n",
    "def lemma_punct(text):\r\n",
    "    l = WordNetLemmatizer()\r\n",
    "\r\n",
    "    # Initializing output\r\n",
    "    output = \"\"\r\n",
    "\r\n",
    "    # This could be done in very very long list comprehension line,\r\n",
    "    # but I like readability better\r\n",
    "    for word in text.split():\r\n",
    "\r\n",
    "        # Removing punctuation 1\r\n",
    "        if not(re.match(\"^\\W+$\", word)):\r\n",
    "            \r\n",
    "            # Removing punctuation 2\r\n",
    "            word = re.sub(\"\\W$\", \"\", word)\r\n",
    "\r\n",
    "            # Lowercase\r\n",
    "            word = word.lower()\r\n",
    "\r\n",
    "            # Lemmatize\r\n",
    "            word = l.lemmatize(word)\r\n",
    "\r\n",
    "        output = (output + \" \" + word).strip()\r\n",
    "    \r\n",
    "    return output\r\n",
    "\r\n",
    "# Super-simple-stupid lemma (because the matrix shape below didn't match the expected count)\r\n",
    "# and it really doesn't do much\r\n",
    "def lemma_stupid(text):\r\n",
    "\r\n",
    "    l = WordNetLemmatizer()\r\n",
    "  \r\n",
    "    return \" \".join([l.lemmatize(word) for word in text.split()])\r\n",
    "\r\n",
    "\r\n",
    "# spaCy lemma - the good one\r\n",
    "def lemma(text):\r\n",
    "    \r\n",
    "    # Tokenizin'\r\n",
    "    doc = nlp(text)\r\n",
    "\r\n",
    "    # Lemmatizin'\r\n",
    "    return \" \".join([token.lemma_.lower() for token in doc])\r\n",
    "\r\n",
    "\r\n",
    "# A test:    \r\n",
    "lemma(\"Retrieved the list of English vaccines and copied them.\")"
   ],
   "outputs": [
    {
     "output_type": "execute_result",
     "data": {
      "text/plain": [
       "'retrieve the list of english vaccine and copy they .'"
      ]
     },
     "metadata": {},
     "execution_count": 122
    }
   ],
   "metadata": {}
  },
  {
   "cell_type": "markdown",
   "source": [
    "## Task 5"
   ],
   "metadata": {}
  },
  {
   "cell_type": "markdown",
   "source": [
    "* Apply this function `lemma` to the `text` column of your DataFrame. Store the result in a new `lemma` column of the DataFrame. (The processing can take 2 or 3 minutes)."
   ],
   "metadata": {}
  },
  {
   "cell_type": "code",
   "execution_count": 123,
   "source": [
    "df[\"lemma\"] = df[\"text\"].apply(lemma)\r\n",
    "\r\n",
    "df.sample(30)"
   ],
   "outputs": [
    {
     "output_type": "execute_result",
     "data": {
      "text/html": [
       "<div>\n",
       "<style scoped>\n",
       "    .dataframe tbody tr th:only-of-type {\n",
       "        vertical-align: middle;\n",
       "    }\n",
       "\n",
       "    .dataframe tbody tr th {\n",
       "        vertical-align: top;\n",
       "    }\n",
       "\n",
       "    .dataframe thead th {\n",
       "        text-align: right;\n",
       "    }\n",
       "</style>\n",
       "<table border=\"1\" class=\"dataframe\">\n",
       "  <thead>\n",
       "    <tr style=\"text-align: right;\">\n",
       "      <th></th>\n",
       "      <th>textID</th>\n",
       "      <th>text</th>\n",
       "      <th>selected_text</th>\n",
       "      <th>sentiment</th>\n",
       "      <th>lemma</th>\n",
       "    </tr>\n",
       "  </thead>\n",
       "  <tbody>\n",
       "    <tr>\n",
       "      <th>2918</th>\n",
       "      <td>852cd2b9c1</td>\n",
       "      <td>Pics? Ah, I`ll probably see you at work at so...</td>\n",
       "      <td>Hopefully</td>\n",
       "      <td>positive</td>\n",
       "      <td>pic ? ah , i`ll probably see you at work at ...</td>\n",
       "    </tr>\n",
       "    <tr>\n",
       "      <th>7305</th>\n",
       "      <td>4492448111</td>\n",
       "      <td>yeah I didn`t realize how bad it all was till...</td>\n",
       "      <td>e how bad it all was</td>\n",
       "      <td>negative</td>\n",
       "      <td>yeah i didn`t realize how bad it all be till...</td>\n",
       "    </tr>\n",
       "    <tr>\n",
       "      <th>13734</th>\n",
       "      <td>a946e76161</td>\n",
       "      <td>**** **** and blast!  I`m at LMHR tomorrow an...</td>\n",
       "      <td>blast!</td>\n",
       "      <td>positive</td>\n",
       "      <td>* * * * * * * * and blast !   i`m at lmhr to...</td>\n",
       "    </tr>\n",
       "    <tr>\n",
       "      <th>20207</th>\n",
       "      <td>e6d92f0556</td>\n",
       "      <td>Gone r the days wen we used to sit 4 exams.. n...</td>\n",
       "      <td>no more fun..</td>\n",
       "      <td>negative</td>\n",
       "      <td>go r the day wen we use to sit 4 exam .. no mo...</td>\n",
       "    </tr>\n",
       "    <tr>\n",
       "      <th>24178</th>\n",
       "      <td>c0c213673f</td>\n",
       "      <td>Today is just not my day. I can`t seem to feel...</td>\n",
       "      <td>Today is just not my day.</td>\n",
       "      <td>negative</td>\n",
       "      <td>today be just not my day . i can`t seem to fee...</td>\n",
       "    </tr>\n",
       "    <tr>\n",
       "      <th>22768</th>\n",
       "      <td>b31a0ce70d</td>\n",
       "      <td>--sorry for running over uncle Terry, but he ...</td>\n",
       "      <td>-sorry</td>\n",
       "      <td>negative</td>\n",
       "      <td>--sorry for run over uncle terry , but he ju...</td>\n",
       "    </tr>\n",
       "    <tr>\n",
       "      <th>15036</th>\n",
       "      <td>a8c7169a40</td>\n",
       "      <td>Im so down! The AC in my house just broke</td>\n",
       "      <td>Im so down!</td>\n",
       "      <td>negative</td>\n",
       "      <td>i m so down ! the ac in my house just break</td>\n",
       "    </tr>\n",
       "    <tr>\n",
       "      <th>14307</th>\n",
       "      <td>1ca884fc2c</td>\n",
       "      <td>C-News wasn`t as bad as I expected... could ha...</td>\n",
       "      <td>better..</td>\n",
       "      <td>positive</td>\n",
       "      <td>c - news wasn`t as bad as i expect ... could h...</td>\n",
       "    </tr>\n",
       "    <tr>\n",
       "      <th>7410</th>\n",
       "      <td>3463ecdfd6</td>\n",
       "      <td>Im.in.the.room Im.watching.the.HANNAHmovie.wit...</td>\n",
       "      <td>great.</td>\n",
       "      <td>positive</td>\n",
       "      <td>im.in.the.room im.watching.the.hannahmovie.wit...</td>\n",
       "    </tr>\n",
       "    <tr>\n",
       "      <th>9345</th>\n",
       "      <td>1d8f09c16c</td>\n",
       "      <td>I still haven`t figured out what to do with t...</td>\n",
       "      <td>sadly</td>\n",
       "      <td>negative</td>\n",
       "      <td>i still haven`t figure out what to do with t...</td>\n",
       "    </tr>\n",
       "    <tr>\n",
       "      <th>24995</th>\n",
       "      <td>ccc4b470d8</td>\n",
       "      <td>yeah. xD were so close already! xD i can talk...</td>\n",
       "      <td>i love</td>\n",
       "      <td>positive</td>\n",
       "      <td>yeah . xd be so close already ! xd i can tal...</td>\n",
       "    </tr>\n",
       "    <tr>\n",
       "      <th>19705</th>\n",
       "      <td>0ef3b64fbd</td>\n",
       "      <td>I am afraid you`ve had a bit of a #fail as th...</td>\n",
       "      <td>afraid</td>\n",
       "      <td>negative</td>\n",
       "      <td>i be afraid you`ve have a bit of a # fail as...</td>\n",
       "    </tr>\n",
       "    <tr>\n",
       "      <th>25493</th>\n",
       "      <td>b4f519eebf</td>\n",
       "      <td>I kno I kknow ... sigh... been on. but it sux</td>\n",
       "      <td>sux</td>\n",
       "      <td>negative</td>\n",
       "      <td>i kno i kknow ... sigh ... be on . but it sux</td>\n",
       "    </tr>\n",
       "    <tr>\n",
       "      <th>5901</th>\n",
       "      <td>f93b4bc83f</td>\n",
       "      <td>Thank You, Sweetie. I just don` understand ho...</td>\n",
       "      <td>Thank</td>\n",
       "      <td>positive</td>\n",
       "      <td>thank you , sweetie . i just don ` understan...</td>\n",
       "    </tr>\n",
       "    <tr>\n",
       "      <th>13497</th>\n",
       "      <td>1dbe478001</td>\n",
       "      <td>heard you slutted it up! I`m totally jealz~ I...</td>\n",
       "      <td>heard you slutted it up!</td>\n",
       "      <td>negative</td>\n",
       "      <td>hear you slutte it up ! i`m totally jealz~ i...</td>\n",
       "    </tr>\n",
       "    <tr>\n",
       "      <th>23641</th>\n",
       "      <td>ce1ac5a388</td>\n",
       "      <td>greeting again every momma : Happy Momma`s Day!</td>\n",
       "      <td>greeting again every momma : Happy Momma`s Day!</td>\n",
       "      <td>positive</td>\n",
       "      <td>greet again every momma : happy momma`s day !</td>\n",
       "    </tr>\n",
       "    <tr>\n",
       "      <th>14281</th>\n",
       "      <td>912dc5e9cf</td>\n",
       "      <td>Rain makes for a good study day  almost done!!</td>\n",
       "      <td>good study day</td>\n",
       "      <td>positive</td>\n",
       "      <td>rain make for a good study day   almost do ! !</td>\n",
       "    </tr>\n",
       "    <tr>\n",
       "      <th>13033</th>\n",
       "      <td>0720c6dc0e</td>\n",
       "      <td>So I thought the Cavs would crush the Magic an...</td>\n",
       "      <td>wrong I</td>\n",
       "      <td>negative</td>\n",
       "      <td>so i think the cavs would crush the magic and ...</td>\n",
       "    </tr>\n",
       "    <tr>\n",
       "      <th>1182</th>\n",
       "      <td>feb8ed98d1</td>\n",
       "      <td>I am using iMovie 08 and it`s still not bad. ...</td>\n",
       "      <td>afraid</td>\n",
       "      <td>negative</td>\n",
       "      <td>i be use imovie 08 and it`s still not bad . ...</td>\n",
       "    </tr>\n",
       "    <tr>\n",
       "      <th>12606</th>\n",
       "      <td>22158946bd</td>\n",
       "      <td>Thinking of ways to promote Indie Designers. B...</td>\n",
       "      <td>Benefiting th</td>\n",
       "      <td>positive</td>\n",
       "      <td>think of way to promote indie designer . benef...</td>\n",
       "    </tr>\n",
       "    <tr>\n",
       "      <th>3446</th>\n",
       "      <td>a543a92656</td>\n",
       "      <td>My stomach is killing me do I can`t sleep</td>\n",
       "      <td>is killing me</td>\n",
       "      <td>negative</td>\n",
       "      <td>my stomach be kill i do i can`t sleep</td>\n",
       "    </tr>\n",
       "    <tr>\n",
       "      <th>10852</th>\n",
       "      <td>6cb043762e</td>\n",
       "      <td>ahaha i know. but now i can`t do anything ove...</td>\n",
       "      <td>w i can`t do anything over the weekend</td>\n",
       "      <td>negative</td>\n",
       "      <td>ahaha i know . but now i can`t do anything o...</td>\n",
       "    </tr>\n",
       "    <tr>\n",
       "      <th>21425</th>\n",
       "      <td>9235706e1e</td>\n",
       "      <td>Thanks! Good morning</td>\n",
       "      <td>Thanks!</td>\n",
       "      <td>positive</td>\n",
       "      <td>thank ! good morning</td>\n",
       "    </tr>\n",
       "    <tr>\n",
       "      <th>10474</th>\n",
       "      <td>d4fdca51c7</td>\n",
       "      <td>Rude.</td>\n",
       "      <td>Rude.</td>\n",
       "      <td>negative</td>\n",
       "      <td>rude .</td>\n",
       "    </tr>\n",
       "    <tr>\n",
       "      <th>12010</th>\n",
       "      <td>1c371586f6</td>\n",
       "      <td>Thanks for the link Geoff</td>\n",
       "      <td>Thanks</td>\n",
       "      <td>positive</td>\n",
       "      <td>thank for the link geoff</td>\n",
       "    </tr>\n",
       "    <tr>\n",
       "      <th>1281</th>\n",
       "      <td>58457e1e11</td>\n",
       "      <td>i like OGBERRY</td>\n",
       "      <td>like</td>\n",
       "      <td>positive</td>\n",
       "      <td>i like ogberry</td>\n",
       "    </tr>\n",
       "    <tr>\n",
       "      <th>22825</th>\n",
       "      <td>bb5ff3110a</td>\n",
       "      <td>so much to do by 1 pm. i don`t think i`m going...</td>\n",
       "      <td>i don`t think i`m going to get</td>\n",
       "      <td>negative</td>\n",
       "      <td>so much to do by 1 pm . i don`t think i`m go t...</td>\n",
       "    </tr>\n",
       "    <tr>\n",
       "      <th>19373</th>\n",
       "      <td>b1ba94276e</td>\n",
       "      <td>Do you know what? I have a good little life, a...</td>\n",
       "      <td>good</td>\n",
       "      <td>positive</td>\n",
       "      <td>do you know what ? i have a good little life ,...</td>\n",
       "    </tr>\n",
       "    <tr>\n",
       "      <th>21117</th>\n",
       "      <td>818996ad8d</td>\n",
       "      <td>So my life has come down to nothing more then ...</td>\n",
       "      <td>regret</td>\n",
       "      <td>negative</td>\n",
       "      <td>so my life have come down to nothing more then...</td>\n",
       "    </tr>\n",
       "    <tr>\n",
       "      <th>20844</th>\n",
       "      <td>31c44743f1</td>\n",
       "      <td>Can`t figure out how to reply on Tumblr sorr...</td>\n",
       "      <td>Can`t figure out how to reply on Tumblr sorry!...</td>\n",
       "      <td>negative</td>\n",
       "      <td>can`t figure out how to reply on tumblr sor...</td>\n",
       "    </tr>\n",
       "  </tbody>\n",
       "</table>\n",
       "</div>"
      ],
      "text/plain": [
       "           textID                                               text  \\\n",
       "2918   852cd2b9c1   Pics? Ah, I`ll probably see you at work at so...   \n",
       "7305   4492448111   yeah I didn`t realize how bad it all was till...   \n",
       "13734  a946e76161   **** **** and blast!  I`m at LMHR tomorrow an...   \n",
       "20207  e6d92f0556  Gone r the days wen we used to sit 4 exams.. n...   \n",
       "24178  c0c213673f  Today is just not my day. I can`t seem to feel...   \n",
       "22768  b31a0ce70d   --sorry for running over uncle Terry, but he ...   \n",
       "15036  a8c7169a40          Im so down! The AC in my house just broke   \n",
       "14307  1ca884fc2c  C-News wasn`t as bad as I expected... could ha...   \n",
       "7410   3463ecdfd6  Im.in.the.room Im.watching.the.HANNAHmovie.wit...   \n",
       "9345   1d8f09c16c   I still haven`t figured out what to do with t...   \n",
       "24995  ccc4b470d8   yeah. xD were so close already! xD i can talk...   \n",
       "19705  0ef3b64fbd   I am afraid you`ve had a bit of a #fail as th...   \n",
       "25493  b4f519eebf      I kno I kknow ... sigh... been on. but it sux   \n",
       "5901   f93b4bc83f   Thank You, Sweetie. I just don` understand ho...   \n",
       "13497  1dbe478001   heard you slutted it up! I`m totally jealz~ I...   \n",
       "23641  ce1ac5a388    greeting again every momma : Happy Momma`s Day!   \n",
       "14281  912dc5e9cf     Rain makes for a good study day  almost done!!   \n",
       "13033  0720c6dc0e  So I thought the Cavs would crush the Magic an...   \n",
       "1182   feb8ed98d1   I am using iMovie 08 and it`s still not bad. ...   \n",
       "12606  22158946bd  Thinking of ways to promote Indie Designers. B...   \n",
       "3446   a543a92656          My stomach is killing me do I can`t sleep   \n",
       "10852  6cb043762e   ahaha i know. but now i can`t do anything ove...   \n",
       "21425  9235706e1e                               Thanks! Good morning   \n",
       "10474  d4fdca51c7                                              Rude.   \n",
       "12010  1c371586f6                          Thanks for the link Geoff   \n",
       "1281   58457e1e11                                     i like OGBERRY   \n",
       "22825  bb5ff3110a  so much to do by 1 pm. i don`t think i`m going...   \n",
       "19373  b1ba94276e  Do you know what? I have a good little life, a...   \n",
       "21117  818996ad8d  So my life has come down to nothing more then ...   \n",
       "20844  31c44743f1    Can`t figure out how to reply on Tumblr sorr...   \n",
       "\n",
       "                                           selected_text sentiment  \\\n",
       "2918                                           Hopefully  positive   \n",
       "7305                                e how bad it all was  negative   \n",
       "13734                                             blast!  positive   \n",
       "20207                                      no more fun..  negative   \n",
       "24178                          Today is just not my day.  negative   \n",
       "22768                                             -sorry  negative   \n",
       "15036                                        Im so down!  negative   \n",
       "14307                                           better..  positive   \n",
       "7410                                              great.  positive   \n",
       "9345                                               sadly  negative   \n",
       "24995                                             i love  positive   \n",
       "19705                                             afraid  negative   \n",
       "25493                                                sux  negative   \n",
       "5901                                               Thank  positive   \n",
       "13497                           heard you slutted it up!  negative   \n",
       "23641    greeting again every momma : Happy Momma`s Day!  positive   \n",
       "14281                                     good study day  positive   \n",
       "13033                                            wrong I  negative   \n",
       "1182                                              afraid  negative   \n",
       "12606                                      Benefiting th  positive   \n",
       "3446                                       is killing me  negative   \n",
       "10852             w i can`t do anything over the weekend  negative   \n",
       "21425                                            Thanks!  positive   \n",
       "10474                                              Rude.  negative   \n",
       "12010                                             Thanks  positive   \n",
       "1281                                                like  positive   \n",
       "22825                     i don`t think i`m going to get  negative   \n",
       "19373                                               good  positive   \n",
       "21117                                             regret  negative   \n",
       "20844  Can`t figure out how to reply on Tumblr sorry!...  negative   \n",
       "\n",
       "                                                   lemma  \n",
       "2918     pic ? ah , i`ll probably see you at work at ...  \n",
       "7305     yeah i didn`t realize how bad it all be till...  \n",
       "13734    * * * * * * * * and blast !   i`m at lmhr to...  \n",
       "20207  go r the day wen we use to sit 4 exam .. no mo...  \n",
       "24178  today be just not my day . i can`t seem to fee...  \n",
       "22768    --sorry for run over uncle terry , but he ju...  \n",
       "15036        i m so down ! the ac in my house just break  \n",
       "14307  c - news wasn`t as bad as i expect ... could h...  \n",
       "7410   im.in.the.room im.watching.the.hannahmovie.wit...  \n",
       "9345     i still haven`t figure out what to do with t...  \n",
       "24995    yeah . xd be so close already ! xd i can tal...  \n",
       "19705    i be afraid you`ve have a bit of a # fail as...  \n",
       "25493      i kno i kknow ... sigh ... be on . but it sux  \n",
       "5901     thank you , sweetie . i just don ` understan...  \n",
       "13497    hear you slutte it up ! i`m totally jealz~ i...  \n",
       "23641      greet again every momma : happy momma`s day !  \n",
       "14281     rain make for a good study day   almost do ! !  \n",
       "13033  so i think the cavs would crush the magic and ...  \n",
       "1182     i be use imovie 08 and it`s still not bad . ...  \n",
       "12606  think of way to promote indie designer . benef...  \n",
       "3446               my stomach be kill i do i can`t sleep  \n",
       "10852    ahaha i know . but now i can`t do anything o...  \n",
       "21425                               thank ! good morning  \n",
       "10474                                             rude .  \n",
       "12010                           thank for the link geoff  \n",
       "1281                                      i like ogberry  \n",
       "22825  so much to do by 1 pm . i don`t think i`m go t...  \n",
       "19373  do you know what ? i have a good little life ,...  \n",
       "21117  so my life have come down to nothing more then...  \n",
       "20844     can`t figure out how to reply on tumblr sor...  "
      ]
     },
     "metadata": {},
     "execution_count": 123
    }
   ],
   "metadata": {}
  },
  {
   "cell_type": "markdown",
   "source": [
    "## Task 6"
   ],
   "metadata": {}
  },
  {
   "cell_type": "markdown",
   "source": [
    "* Copy the `lemma` column into a __Series__ `X`, and the `sentiment` column into a __Series__ `y`. Apply a train test split with the `random_state = 32`."
   ],
   "metadata": {}
  },
  {
   "cell_type": "code",
   "execution_count": 124,
   "source": [
    "# Copyjob\r\n",
    "x = df[\"lemma\"].copy()\r\n",
    "y = df[\"sentiment\"].copy()\r\n",
    "\r\n",
    "# Train test split\r\n",
    "x_train, x_test, y_train, y_test = train_test_split(x, y, random_state=32)\r\n",
    "\r\n",
    "x_train.shape, x_test.shape"
   ],
   "outputs": [
    {
     "output_type": "execute_result",
     "data": {
      "text/plain": [
       "((12272,), (4091,))"
      ]
     },
     "metadata": {},
     "execution_count": 124
    }
   ],
   "metadata": {}
  },
  {
   "cell_type": "markdown",
   "source": [
    "## Task 7"
   ],
   "metadata": {}
  },
  {
   "cell_type": "markdown",
   "source": [
    "* Create a `vectorizer` model with scikit-learn using the `Countvectorizer` method. Train your model on `X_train`, then create a matrix of _features_ `X_train_CV`. Create the `X_test_CV` matrix without re-training the model. The format of the `X_test_CV` matrix should be `4091x13838` with `44274 stored elements`."
   ],
   "metadata": {}
  },
  {
   "cell_type": "code",
   "execution_count": 125,
   "source": [
    "# Fittin'\r\n",
    "vectorizer = CountVectorizer().fit(x_train)\r\n",
    "\r\n",
    "# Vectorizin'\r\n",
    "x_train_cv = vectorizer.transform(x_train)\r\n",
    "x_test_cv = vectorizer.transform(x_test)\r\n",
    "\r\n",
    "x_test_cv"
   ],
   "outputs": [
    {
     "output_type": "execute_result",
     "data": {
      "text/plain": [
       "<4091x13790 sparse matrix of type '<class 'numpy.int64'>'\n",
       "\twith 44306 stored elements in Compressed Sparse Row format>"
      ]
     },
     "metadata": {},
     "execution_count": 125
    }
   ],
   "metadata": {}
  },
  {
   "cell_type": "markdown",
   "source": [
    "## Task 8"
   ],
   "metadata": {}
  },
  {
   "cell_type": "markdown",
   "source": [
    "* Using `X_train_CV` and `y_train`, please run a logistic regression to classify tweets. You should get a score of `0.87` on the `X_test_CV` test set."
   ],
   "metadata": {}
  },
  {
   "cell_type": "code",
   "execution_count": 128,
   "source": [
    "# Regressin'\r\n",
    "LR_model = LogisticRegression().fit(x_train_cv, y_train)\r\n",
    "\r\n",
    "# Testin'\r\n",
    "LR_model.score(x_test_cv, y_test)"
   ],
   "outputs": [
    {
     "output_type": "stream",
     "name": "stderr",
     "text": [
      "C:\\Users\\pivanov\\Apps\\Anaconda3\\lib\\site-packages\\sklearn\\linear_model\\_logistic.py:763: ConvergenceWarning: lbfgs failed to converge (status=1):\n",
      "STOP: TOTAL NO. of ITERATIONS REACHED LIMIT.\n",
      "\n",
      "Increase the number of iterations (max_iter) or scale the data as shown in:\n",
      "    https://scikit-learn.org/stable/modules/preprocessing.html\n",
      "Please also refer to the documentation for alternative solver options:\n",
      "    https://scikit-learn.org/stable/modules/linear_model.html#logistic-regression\n",
      "  n_iter_i = _check_optimize_result(\n"
     ]
    },
    {
     "output_type": "execute_result",
     "data": {
      "text/plain": [
       "0.8772916157418724"
      ]
     },
     "metadata": {},
     "execution_count": 128
    }
   ],
   "metadata": {}
  },
  {
   "cell_type": "markdown",
   "source": [
    "## Task 9"
   ],
   "metadata": {}
  },
  {
   "cell_type": "markdown",
   "source": [
    "* Repeat steps 7 and 8, adding the `stop_words` parameter to the CountVectorizer, using your `stopwordsenglish` list from step 3. Is the score very different? Is the number of elements stored in the sparse matrix very different?"
   ],
   "metadata": {}
  },
  {
   "cell_type": "code",
   "execution_count": 129,
   "source": [
    "# Fittin'\r\n",
    "vectorizer = CountVectorizer(stop_words=stopwordsenglish).fit(x_train)\r\n",
    "\r\n",
    "# Vectorizin'\r\n",
    "x_train_cv = vectorizer.transform(x_train)\r\n",
    "x_test_cv = vectorizer.transform(x_test)\r\n",
    "\r\n",
    "x_test_cv"
   ],
   "outputs": [
    {
     "output_type": "execute_result",
     "data": {
      "text/plain": [
       "<4091x13657 sparse matrix of type '<class 'numpy.int64'>'\n",
       "\twith 26433 stored elements in Compressed Sparse Row format>"
      ]
     },
     "metadata": {},
     "execution_count": 129
    }
   ],
   "metadata": {}
  },
  {
   "cell_type": "markdown",
   "source": [
    "__Answer__:  \r\n",
    "The amount of stored elements dropped down to ~60%."
   ],
   "metadata": {}
  },
  {
   "cell_type": "code",
   "execution_count": 130,
   "source": [
    "# Regressin'\r\n",
    "LR_model = LogisticRegression().fit(x_train_cv, y_train)\r\n",
    "\r\n",
    "# Testin'\r\n",
    "LR_model.score(x_test_cv, y_test)"
   ],
   "outputs": [
    {
     "output_type": "execute_result",
     "data": {
      "text/plain": [
       "0.8645807870936202"
      ]
     },
     "metadata": {},
     "execution_count": 130
    }
   ],
   "metadata": {}
  },
  {
   "cell_type": "markdown",
   "source": [
    "__Answer__:  \r\n",
    "Score is not very different, accuracy went actually down a bit."
   ],
   "metadata": {}
  },
  {
   "cell_type": "markdown",
   "source": [
    "## Task 10"
   ],
   "metadata": {}
  },
  {
   "cell_type": "markdown",
   "source": [
    " * Test the model using `TfidfVectorizer` instead of `Countvectorizer`, and repeat steps 7 and 8. Which preprocessing method gives you the best results on the test set? Are the scores very different on this dataset?"
   ],
   "metadata": {}
  },
  {
   "cell_type": "code",
   "execution_count": 133,
   "source": [
    "# Tfidfvectorizin'\r\n",
    "vectorizer = TfidfVectorizer().fit(x_train)\r\n",
    "\r\n",
    "# Vectorizin'\r\n",
    "x_train_cv = vectorizer.transform(x_train)\r\n",
    "x_test_cv = vectorizer.transform(x_test)\r\n",
    "\r\n",
    "# Regressin'\r\n",
    "LR_model = LogisticRegression().fit(x_train_cv, y_train)\r\n",
    "\r\n",
    "# Testin'\r\n",
    "LR_model.score(x_test_cv, y_test)"
   ],
   "outputs": [
    {
     "output_type": "execute_result",
     "data": {
      "text/plain": [
       "0.8799804448790027"
      ]
     },
     "metadata": {},
     "execution_count": 133
    }
   ],
   "metadata": {}
  },
  {
   "cell_type": "markdown",
   "source": [
    "__Answer__:  \r\n",
    "Best preprocessing method was _TfidfVectorizer WITHOUT stopwords removal_. Accuracy score was _0.88_ on this test set.  \r\n",
    "The scores actually didn't significantly change. All have been in range $<0.86, 0.88>$."
   ],
   "metadata": {}
  },
  {
   "cell_type": "markdown",
   "source": [
    "## Task 11"
   ],
   "metadata": {}
  },
  {
   "cell_type": "markdown",
   "source": [
    "* Bonus step: try to display 10 tweets that were badly predicted (false positive or false negative). Would you have done better than the algorithm?"
   ],
   "metadata": {}
  },
  {
   "cell_type": "code",
   "execution_count": 164,
   "source": [
    "# Creating a function which makes a prediction using:\r\n",
    "#   - given text\r\n",
    "#   - already fitted vectorizer\r\n",
    "#   - already fitted model\r\n",
    "def LR_model_predict(string, vectorizer, model):\r\n",
    "    # Here the string must be a single element of a list\r\n",
    "    # otherwise vectorizer won't work (expects iterable).\r\n",
    "    # `string_vector` is sparse matrix which LR_model understands and can predict on.\r\n",
    "    string_vector = vectorizer.transform([string])\r\n",
    "    \r\n",
    "    # Return prediction\r\n",
    "    return LR_model.predict(string_vector)[0]\r\n",
    "\r\n",
    "# Test\r\n",
    "print(f\"{LR_model_predict('rain make for a good study day almost do ! !', vectorizer, LR_model)}\")\r\n"
   ],
   "outputs": [
    {
     "output_type": "stream",
     "name": "stdout",
     "text": [
      "positive\n"
     ]
    }
   ],
   "metadata": {}
  },
  {
   "cell_type": "code",
   "execution_count": 166,
   "source": [
    "# Now I will just fill the dataframe with model predictions :)\r\n",
    "df[\"prediction\"] = df[\"lemma\"].apply(LR_model_predict, args=(vectorizer, LR_model))"
   ],
   "outputs": [
    {
     "output_type": "execute_result",
     "data": {
      "text/html": [
       "<div>\n",
       "<style scoped>\n",
       "    .dataframe tbody tr th:only-of-type {\n",
       "        vertical-align: middle;\n",
       "    }\n",
       "\n",
       "    .dataframe tbody tr th {\n",
       "        vertical-align: top;\n",
       "    }\n",
       "\n",
       "    .dataframe thead th {\n",
       "        text-align: right;\n",
       "    }\n",
       "</style>\n",
       "<table border=\"1\" class=\"dataframe\">\n",
       "  <thead>\n",
       "    <tr style=\"text-align: right;\">\n",
       "      <th></th>\n",
       "      <th>textID</th>\n",
       "      <th>text</th>\n",
       "      <th>selected_text</th>\n",
       "      <th>sentiment</th>\n",
       "      <th>lemma</th>\n",
       "      <th>prediction</th>\n",
       "    </tr>\n",
       "  </thead>\n",
       "  <tbody>\n",
       "    <tr>\n",
       "      <th>17</th>\n",
       "      <td>919fa93391</td>\n",
       "      <td>i`ve been sick for the past few days  and thus...</td>\n",
       "      <td>sick</td>\n",
       "      <td>negative</td>\n",
       "      <td>i`ve be sick for the past few day   and thus ,...</td>\n",
       "      <td>positive</td>\n",
       "    </tr>\n",
       "    <tr>\n",
       "      <th>28</th>\n",
       "      <td>6ce4a4954b</td>\n",
       "      <td>juss came backk from Berkeleyy ; omg its madd ...</td>\n",
       "      <td>fun</td>\n",
       "      <td>positive</td>\n",
       "      <td>juss come backk from berkeleyy ; omg its madd ...</td>\n",
       "      <td>negative</td>\n",
       "    </tr>\n",
       "    <tr>\n",
       "      <th>32</th>\n",
       "      <td>1c31703aef</td>\n",
       "      <td>If it is any consolation I got my BMI tested ...</td>\n",
       "      <td>well so much for being unhappy for about 10 mi...</td>\n",
       "      <td>negative</td>\n",
       "      <td>if it be any consolation i get my bmi test h...</td>\n",
       "      <td>positive</td>\n",
       "    </tr>\n",
       "    <tr>\n",
       "      <th>48</th>\n",
       "      <td>3d9d4b0b55</td>\n",
       "      <td>i donbt like to peel prawns, i also dont like ...</td>\n",
       "      <td>dont like go</td>\n",
       "      <td>negative</td>\n",
       "      <td>i donbt like to peel prawn , i also do nt like...</td>\n",
       "      <td>positive</td>\n",
       "    </tr>\n",
       "    <tr>\n",
       "      <th>76</th>\n",
       "      <td>35f393a245</td>\n",
       "      <td>WOW, i AM REALLY MiSSiN THE FAM(iLY) TODAY. BA...</td>\n",
       "      <td>BADDD.</td>\n",
       "      <td>negative</td>\n",
       "      <td>wow , i be really missin the fam(ily ) today ....</td>\n",
       "      <td>positive</td>\n",
       "    </tr>\n",
       "    <tr>\n",
       "      <th>...</th>\n",
       "      <td>...</td>\n",
       "      <td>...</td>\n",
       "      <td>...</td>\n",
       "      <td>...</td>\n",
       "      <td>...</td>\n",
       "      <td>...</td>\n",
       "    </tr>\n",
       "    <tr>\n",
       "      <th>27371</th>\n",
       "      <td>e07daddcc5</td>\n",
       "      <td>i have a crush on someone!</td>\n",
       "      <td>i have a crush on someone!</td>\n",
       "      <td>positive</td>\n",
       "      <td>i have a crush on someone !</td>\n",
       "      <td>negative</td>\n",
       "    </tr>\n",
       "    <tr>\n",
       "      <th>27420</th>\n",
       "      <td>24fa941c24</td>\n",
       "      <td>I would but you`re too far away</td>\n",
       "      <td>too far away</td>\n",
       "      <td>negative</td>\n",
       "      <td>i would but you`re too far away</td>\n",
       "      <td>positive</td>\n",
       "    </tr>\n",
       "    <tr>\n",
       "      <th>27428</th>\n",
       "      <td>e02ea8a95c</td>\n",
       "      <td>i hate my presentation  hahah whatever im glad...</td>\n",
       "      <td>im glad</td>\n",
       "      <td>positive</td>\n",
       "      <td>i hate my presentation   hahah whatever i m gl...</td>\n",
       "      <td>negative</td>\n",
       "    </tr>\n",
       "    <tr>\n",
       "      <th>27440</th>\n",
       "      <td>7fd422900b</td>\n",
       "      <td>I GET IT.  YOU ESPLAINED IT TO ME AWHILE AGO.</td>\n",
       "      <td>I GET IT.</td>\n",
       "      <td>negative</td>\n",
       "      <td>i get it .   you esplained it to me awhile a...</td>\n",
       "      <td>positive</td>\n",
       "    </tr>\n",
       "    <tr>\n",
       "      <th>27474</th>\n",
       "      <td>8f14bb2715</td>\n",
       "      <td>So I get up early and I feel good about the da...</td>\n",
       "      <td>I feel good ab</td>\n",
       "      <td>positive</td>\n",
       "      <td>so i get up early and i feel good about the da...</td>\n",
       "      <td>negative</td>\n",
       "    </tr>\n",
       "  </tbody>\n",
       "</table>\n",
       "<p>1340 rows × 6 columns</p>\n",
       "</div>"
      ],
      "text/plain": [
       "           textID                                               text  \\\n",
       "17     919fa93391  i`ve been sick for the past few days  and thus...   \n",
       "28     6ce4a4954b  juss came backk from Berkeleyy ; omg its madd ...   \n",
       "32     1c31703aef   If it is any consolation I got my BMI tested ...   \n",
       "48     3d9d4b0b55  i donbt like to peel prawns, i also dont like ...   \n",
       "76     35f393a245  WOW, i AM REALLY MiSSiN THE FAM(iLY) TODAY. BA...   \n",
       "...           ...                                                ...   \n",
       "27371  e07daddcc5                         i have a crush on someone!   \n",
       "27420  24fa941c24                    I would but you`re too far away   \n",
       "27428  e02ea8a95c  i hate my presentation  hahah whatever im glad...   \n",
       "27440  7fd422900b      I GET IT.  YOU ESPLAINED IT TO ME AWHILE AGO.   \n",
       "27474  8f14bb2715  So I get up early and I feel good about the da...   \n",
       "\n",
       "                                           selected_text sentiment  \\\n",
       "17                                                  sick  negative   \n",
       "28                                                   fun  positive   \n",
       "32     well so much for being unhappy for about 10 mi...  negative   \n",
       "48                                          dont like go  negative   \n",
       "76                                                BADDD.  negative   \n",
       "...                                                  ...       ...   \n",
       "27371                         i have a crush on someone!  positive   \n",
       "27420                                       too far away  negative   \n",
       "27428                                            im glad  positive   \n",
       "27440                                          I GET IT.  negative   \n",
       "27474                                     I feel good ab  positive   \n",
       "\n",
       "                                                   lemma prediction  \n",
       "17     i`ve be sick for the past few day   and thus ,...   positive  \n",
       "28     juss come backk from berkeleyy ; omg its madd ...   negative  \n",
       "32       if it be any consolation i get my bmi test h...   positive  \n",
       "48     i donbt like to peel prawn , i also do nt like...   positive  \n",
       "76     wow , i be really missin the fam(ily ) today ....   positive  \n",
       "...                                                  ...        ...  \n",
       "27371                        i have a crush on someone !   negative  \n",
       "27420                    i would but you`re too far away   positive  \n",
       "27428  i hate my presentation   hahah whatever i m gl...   negative  \n",
       "27440    i get it .   you esplained it to me awhile a...   positive  \n",
       "27474  so i get up early and i feel good about the da...   negative  \n",
       "\n",
       "[1340 rows x 6 columns]"
      ]
     },
     "metadata": {},
     "execution_count": 166
    }
   ],
   "metadata": {}
  },
  {
   "cell_type": "code",
   "execution_count": 172,
   "source": [
    "# Let's get 10 which were not well predicted\r\n",
    "df.loc[df[\"sentiment\"]!=df[\"prediction\"],[\"text\", \"sentiment\", \"prediction\"]].sample(10)"
   ],
   "outputs": [
    {
     "output_type": "execute_result",
     "data": {
      "text/html": [
       "<div>\n",
       "<style scoped>\n",
       "    .dataframe tbody tr th:only-of-type {\n",
       "        vertical-align: middle;\n",
       "    }\n",
       "\n",
       "    .dataframe tbody tr th {\n",
       "        vertical-align: top;\n",
       "    }\n",
       "\n",
       "    .dataframe thead th {\n",
       "        text-align: right;\n",
       "    }\n",
       "</style>\n",
       "<table border=\"1\" class=\"dataframe\">\n",
       "  <thead>\n",
       "    <tr style=\"text-align: right;\">\n",
       "      <th></th>\n",
       "      <th>text</th>\n",
       "      <th>sentiment</th>\n",
       "      <th>prediction</th>\n",
       "    </tr>\n",
       "  </thead>\n",
       "  <tbody>\n",
       "    <tr>\n",
       "      <th>12744</th>\n",
       "      <td>i wishhh!</td>\n",
       "      <td>positive</td>\n",
       "      <td>negative</td>\n",
       "    </tr>\n",
       "    <tr>\n",
       "      <th>21870</th>\n",
       "      <td>looking at this website!! should be working!!</td>\n",
       "      <td>positive</td>\n",
       "      <td>negative</td>\n",
       "    </tr>\n",
       "    <tr>\n",
       "      <th>8522</th>\n",
       "      <td>hahaha  is SUCH nonsense</td>\n",
       "      <td>negative</td>\n",
       "      <td>positive</td>\n",
       "    </tr>\n",
       "    <tr>\n",
       "      <th>25456</th>\n",
       "      <td>Oh, my God..... The end of the first course))) don`t believe in it) but, yeh, so many exams  La-la-la// everything is wonderful!!!!!!!!!!</td>\n",
       "      <td>positive</td>\n",
       "      <td>negative</td>\n",
       "    </tr>\n",
       "    <tr>\n",
       "      <th>21100</th>\n",
       "      <td>i know but it will make us all watch the awards on sunday! lol..i want to shower and there is no water!</td>\n",
       "      <td>negative</td>\n",
       "      <td>positive</td>\n",
       "    </tr>\n",
       "    <tr>\n",
       "      <th>8593</th>\n",
       "      <td>FOOOOOD  yummy so. whose washing the dishes now ? NOT ME ! not i ..    rofl</td>\n",
       "      <td>positive</td>\n",
       "      <td>negative</td>\n",
       "    </tr>\n",
       "    <tr>\n",
       "      <th>3839</th>\n",
       "      <td>shopping is therapuetic and i`m all about bettering myself... i need financing for my therapy however</td>\n",
       "      <td>positive</td>\n",
       "      <td>negative</td>\n",
       "    </tr>\n",
       "    <tr>\n",
       "      <th>20460</th>\n",
       "      <td>KERI HILSON- SLOW DANCE ROCKIN` THE **** OUT OF MY PLAYLIST RIGHT NOW! GET UP ON THIS SONG, PURE **** DROPPER</td>\n",
       "      <td>positive</td>\n",
       "      <td>negative</td>\n",
       "    </tr>\n",
       "    <tr>\n",
       "      <th>19952</th>\n",
       "      <td>If you think Florida`s heat will be too much, I will reluctantly take your place</td>\n",
       "      <td>negative</td>\n",
       "      <td>positive</td>\n",
       "    </tr>\n",
       "    <tr>\n",
       "      <th>17882</th>\n",
       "      <td>Bed!!!!!... its time,..... hope i go to school tomorrow, all though i don`t feel very well right now</td>\n",
       "      <td>negative</td>\n",
       "      <td>positive</td>\n",
       "    </tr>\n",
       "  </tbody>\n",
       "</table>\n",
       "</div>"
      ],
      "text/plain": [
       "                                                                                                                                            text  \\\n",
       "12744                                                                                                                                  i wishhh!   \n",
       "21870                                                                                              looking at this website!! should be working!!   \n",
       "8522                                                                                                                    hahaha  is SUCH nonsense   \n",
       "25456  Oh, my God..... The end of the first course))) don`t believe in it) but, yeh, so many exams  La-la-la// everything is wonderful!!!!!!!!!!   \n",
       "21100                                    i know but it will make us all watch the awards on sunday! lol..i want to shower and there is no water!   \n",
       "8593                                                                 FOOOOOD  yummy so. whose washing the dishes now ? NOT ME ! not i ..    rofl   \n",
       "3839                                       shopping is therapuetic and i`m all about bettering myself... i need financing for my therapy however   \n",
       "20460                              KERI HILSON- SLOW DANCE ROCKIN` THE **** OUT OF MY PLAYLIST RIGHT NOW! GET UP ON THIS SONG, PURE **** DROPPER   \n",
       "19952                                                           If you think Florida`s heat will be too much, I will reluctantly take your place   \n",
       "17882                                       Bed!!!!!... its time,..... hope i go to school tomorrow, all though i don`t feel very well right now   \n",
       "\n",
       "      sentiment prediction  \n",
       "12744  positive   negative  \n",
       "21870  positive   negative  \n",
       "8522   negative   positive  \n",
       "25456  positive   negative  \n",
       "21100  negative   positive  \n",
       "8593   positive   negative  \n",
       "3839   positive   negative  \n",
       "20460  positive   negative  \n",
       "19952  negative   positive  \n",
       "17882  negative   positive  "
      ]
     },
     "metadata": {},
     "execution_count": 172
    }
   ],
   "metadata": {}
  },
  {
   "cell_type": "markdown",
   "source": [
    "__Answer__:  \r\n",
    "I did better than the model, but I didn't get 100% accuracy on the sample either.\r\n"
   ],
   "metadata": {}
  }
 ],
 "metadata": {
  "orig_nbformat": 4,
  "language_info": {
   "name": "python",
   "version": "3.8.8",
   "mimetype": "text/x-python",
   "codemirror_mode": {
    "name": "ipython",
    "version": 3
   },
   "pygments_lexer": "ipython3",
   "nbconvert_exporter": "python",
   "file_extension": ".py"
  },
  "kernelspec": {
   "name": "python3",
   "display_name": "Python 3.8.8 64-bit ('base': conda)"
  },
  "interpreter": {
   "hash": "720fa6d0f11b7ec96fc5a2305c253a374b95718251f66e414cba1cc0c6bb49e9"
  }
 },
 "nbformat": 4,
 "nbformat_minor": 2
}