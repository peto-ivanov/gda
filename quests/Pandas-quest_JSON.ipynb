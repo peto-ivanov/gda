{
 "cells": [
  {
   "cell_type": "markdown",
   "source": [
    "# Parse a JSON file with Pandas"
   ],
   "metadata": {}
  },
  {
   "cell_type": "markdown",
   "source": [
    "In a new notebook, execute the code below :"
   ],
   "metadata": {}
  },
  {
   "cell_type": "code",
   "execution_count": 19,
   "source": [
    "import json\r\n",
    "import requests\r\n",
    "import pandas as pd\r\n",
    "\r\n",
    "link = \"https://raw.githubusercontent.com/WildCodeSchool/java-jsonparse/master/weather.json\"\r\n",
    "\r\n",
    "# This function gets the file content from the URL\r\n",
    "r = requests.get(link)\r\n",
    "\r\n",
    "# You can access to the text content with this function\r\n",
    "r.text\r\n",
    "\r\n",
    "data = json.loads(r.text)"
   ],
   "outputs": [],
   "metadata": {}
  },
  {
   "cell_type": "markdown",
   "source": [
    "* Display the value of the \"name\" attribute\r\n",
    "* Display the values of the \"lat\" and \"lon\" attributes of the \"coord\" element contained in the root\r\n",
    "* Browse all items in \"weather\" and display the contents of \"main\" (maybe with a loop ?)\r\n",
    "\r\n",
    "Here is the expected result of these first 3 questions:\r\n",
    "\r\n",
    "```\r\n",
    "* City name: London\r\n",
    "* City latitude: 51.51\r\n",
    "* City longitude: -0.13\r\n",
    "* Weather: Drizzle\r\n",
    "* Weather: Clear\r\n",
    "```"
   ],
   "metadata": {}
  },
  {
   "cell_type": "code",
   "execution_count": 17,
   "source": [
    "print(f\"* City name: {data['name']}\")\r\n",
    "print(f\"* City latitude: {data['coord']['lat']}\")\r\n",
    "print(f\"* City longitude: {data['coord']['lon']}\")\r\n",
    "[print(f\"* Weather: {item['main']}\") for item in data[\"weather\"]]\r\n",
    "\r\n",
    "# This stupid trick to supress showing empty list comprehension\r\n",
    "print()"
   ],
   "outputs": [
    {
     "output_type": "stream",
     "name": "stdout",
     "text": [
      "* City name: London\n",
      "* City latitude: 51.51\n",
      "* City longitude: -0.13\n",
      "* Weather: Drizzle\n",
      "* Weather: Clear\n",
      "\n"
     ]
    }
   ],
   "metadata": {}
  },
  {
   "cell_type": "markdown",
   "source": [
    "* Now try to import your json file in pandas"
   ],
   "metadata": {}
  },
  {
   "cell_type": "code",
   "execution_count": 20,
   "source": [
    "# You can directly read JSON from your request object\r\n",
    "print(r.json())\r\n",
    "\r\n",
    "# And you can import JSON object to pandas\r\n",
    "pd.json_normalize(r.json())\r\n",
    "\r\n",
    "# You can scroll with the record_path argument\r\n",
    "# and keep some information with meta argument\r\n",
    "pd.json_normalize(r.json(),  \r\n",
    "                  record_path= \"weather\",\r\n",
    "                  meta = 'dt')"
   ],
   "outputs": [
    {
     "output_type": "stream",
     "name": "stdout",
     "text": [
      "{'coord': {'lon': -0.13, 'lat': 51.51}, 'weather': [{'id': 300, 'main': 'Drizzle', 'description': 'light intensity drizzle', 'icon': '09d'}, {'id': 800, 'main': 'Clear', 'description': 'clear sky', 'icon': '01n'}], 'base': 'stations', 'main': {'temp': 280.32, 'pressure': 1012, 'humidity': 81, 'temp_min': 279.15, 'temp_max': 281.15}, 'visibility': 10000, 'wind': {'speed': 4.1, 'deg': 80}, 'clouds': {'all': 90}, 'dt': 1485789600, 'sys': {'type': 1, 'id': 5091, 'message': 0.0103, 'country': 'GB', 'sunrise': 1485762037, 'sunset': 1485794875}, 'id': 2643743, 'name': 'London', 'cod': 200}\n"
     ]
    },
    {
     "output_type": "execute_result",
     "data": {
      "text/html": [
       "<div>\n",
       "<style scoped>\n",
       "    .dataframe tbody tr th:only-of-type {\n",
       "        vertical-align: middle;\n",
       "    }\n",
       "\n",
       "    .dataframe tbody tr th {\n",
       "        vertical-align: top;\n",
       "    }\n",
       "\n",
       "    .dataframe thead th {\n",
       "        text-align: right;\n",
       "    }\n",
       "</style>\n",
       "<table border=\"1\" class=\"dataframe\">\n",
       "  <thead>\n",
       "    <tr style=\"text-align: right;\">\n",
       "      <th></th>\n",
       "      <th>id</th>\n",
       "      <th>main</th>\n",
       "      <th>description</th>\n",
       "      <th>icon</th>\n",
       "      <th>dt</th>\n",
       "    </tr>\n",
       "  </thead>\n",
       "  <tbody>\n",
       "    <tr>\n",
       "      <th>0</th>\n",
       "      <td>300</td>\n",
       "      <td>Drizzle</td>\n",
       "      <td>light intensity drizzle</td>\n",
       "      <td>09d</td>\n",
       "      <td>1485789600</td>\n",
       "    </tr>\n",
       "    <tr>\n",
       "      <th>1</th>\n",
       "      <td>800</td>\n",
       "      <td>Clear</td>\n",
       "      <td>clear sky</td>\n",
       "      <td>01n</td>\n",
       "      <td>1485789600</td>\n",
       "    </tr>\n",
       "  </tbody>\n",
       "</table>\n",
       "</div>"
      ],
      "text/plain": [
       "    id     main              description icon          dt\n",
       "0  300  Drizzle  light intensity drizzle  09d  1485789600\n",
       "1  800    Clear                clear sky  01n  1485789600"
      ]
     },
     "metadata": {},
     "execution_count": 20
    }
   ],
   "metadata": {}
  },
  {
   "cell_type": "markdown",
   "source": [
    "* Now filter your DataFrame with Pandas to display only the following columns : main (inside weather), name, and visibility.\r\n",
    "\r\n",
    "![screenshot of expected result](http://images.innoveduc.fr/data/collect/JSON/expected_result_json.png)"
   ],
   "metadata": {}
  },
  {
   "cell_type": "code",
   "execution_count": 24,
   "source": [
    "pd.json_normalize(r.json(),\r\n",
    "                  record_path=\"weather\",\r\n",
    "                  meta=[\"name\", \"visibility\"])[[\"main\", \"name\", \"visibility\"]]"
   ],
   "outputs": [
    {
     "output_type": "execute_result",
     "data": {
      "text/html": [
       "<div>\n",
       "<style scoped>\n",
       "    .dataframe tbody tr th:only-of-type {\n",
       "        vertical-align: middle;\n",
       "    }\n",
       "\n",
       "    .dataframe tbody tr th {\n",
       "        vertical-align: top;\n",
       "    }\n",
       "\n",
       "    .dataframe thead th {\n",
       "        text-align: right;\n",
       "    }\n",
       "</style>\n",
       "<table border=\"1\" class=\"dataframe\">\n",
       "  <thead>\n",
       "    <tr style=\"text-align: right;\">\n",
       "      <th></th>\n",
       "      <th>main</th>\n",
       "      <th>name</th>\n",
       "      <th>visibility</th>\n",
       "    </tr>\n",
       "  </thead>\n",
       "  <tbody>\n",
       "    <tr>\n",
       "      <th>0</th>\n",
       "      <td>Drizzle</td>\n",
       "      <td>London</td>\n",
       "      <td>10000</td>\n",
       "    </tr>\n",
       "    <tr>\n",
       "      <th>1</th>\n",
       "      <td>Clear</td>\n",
       "      <td>London</td>\n",
       "      <td>10000</td>\n",
       "    </tr>\n",
       "  </tbody>\n",
       "</table>\n",
       "</div>"
      ],
      "text/plain": [
       "      main    name visibility\n",
       "0  Drizzle  London      10000\n",
       "1    Clear  London      10000"
      ]
     },
     "metadata": {},
     "execution_count": 24
    }
   ],
   "metadata": {}
  }
 ],
 "metadata": {
  "orig_nbformat": 4,
  "language_info": {
   "name": "python",
   "version": "3.8.8",
   "mimetype": "text/x-python",
   "codemirror_mode": {
    "name": "ipython",
    "version": 3
   },
   "pygments_lexer": "ipython3",
   "nbconvert_exporter": "python",
   "file_extension": ".py"
  },
  "kernelspec": {
   "name": "python3",
   "display_name": "Python 3.8.8 64-bit ('base': conda)"
  },
  "interpreter": {
   "hash": "720fa6d0f11b7ec96fc5a2305c253a374b95718251f66e414cba1cc0c6bb49e9"
  }
 },
 "nbformat": 4,
 "nbformat_minor": 2
}