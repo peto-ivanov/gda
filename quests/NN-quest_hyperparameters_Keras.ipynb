{
 "cells": [
  {
   "cell_type": "markdown",
   "source": "\n\n# Neural Networks using Keras ",
   "metadata": {
    "id": "L1AyzepOkUXz",
    "cell_id": "00001-d59ac71a-438a-4842-9669-ec87bc42a599",
    "deepnote_cell_type": "markdown"
   }
  },
  {
   "cell_type": "markdown",
   "source": "\n\n### Outline\nOur goal is to tune the Apple Store NN for multi-class classification. We need to make several decisions when configuring our NN and focus on finding the optimal parameters for the\n - number of hidden layers\n - number of neurons in hidden layers\n - activation functions\n - type of weight initialization\n - learning rate and momentum\n - optimizer\n - size of batch\n - number of epochs\n - regularization (dropout)\n\n\n\nIn a first Part of this Notebook we will use Grid Search for Hyperparameter Tuning.\n\nThen in a second Part we will use Keras-Tuner",
   "metadata": {
    "id": "O-u2B8DpkUX0",
    "cell_id": "00002-767d85c1-952b-46c0-acda-f66970fde9e3",
    "deepnote_cell_type": "markdown"
   }
  },
  {
   "cell_type": "code",
   "metadata": {
    "pycharm": {
     "is_executing": false
    },
    "id": "2Y3IOLW0kUX1",
    "cell_id": "00003-ed47b3f2-65b1-4a6c-bfcd-7afba2dbb36c",
    "deepnote_to_be_reexecuted": false,
    "source_hash": "79e346f3",
    "execution_start": 1639344322927,
    "execution_millis": 4942,
    "deepnote_cell_type": "code"
   },
   "source": "# Setting up the environment: import standard libraries and load the data. \nimport numpy as np\nimport matplotlib.pyplot as plt\nimport pandas as pd\nimport tensorflow as tf\nfrom sklearn.preprocessing import LabelEncoder\nfrom sklearn.model_selection import train_test_split\n#This package provides utilities for Keras, such as modified callbacks, data genereators, encoder, etc.\nfrom tensorflow.keras import utils\n",
   "execution_count": 1,
   "outputs": []
  },
  {
   "cell_type": "markdown",
   "source": "## Use case: app rating analysis\nNNs often **solve classification problems with many classes**. To illustrate their functioning in a context that is more related to NLP examples,we introduce the data set concerned with app ratings. The **original data is available on Kaggle**. There, you also find a data dictionary with some information on the variables. However, the variable names are rather self-explanatory. A cleaned version of the data is available in this folder. The easiest way for you is to use the cleaned version but feel very free to play around with the version on Kaggle. You can find a Python script that starts from the original data and goes through a couple of pre-processing operations to produce the version we use below (**app_store_dpp.py**).",
   "metadata": {
    "id": "6zaqSm-UvCjK",
    "cell_id": "00004-ef49d51a-4ac5-453c-b918-21b4831d536c",
    "deepnote_cell_type": "markdown"
   }
  },
  {
   "cell_type": "code",
   "metadata": {
    "colab": {
     "base_uri": "https://localhost:8080/"
    },
    "id": "_T9DhdD9vHo0",
    "outputId": "a26a8b4d-e477-4c7c-a54a-2c8ff1bf8344",
    "cell_id": "00005-77c1f7a7-07ad-4e3f-9b1f-d3fdac52e4ef",
    "deepnote_to_be_reexecuted": false,
    "source_hash": "fa038d4",
    "execution_start": 1639344327881,
    "execution_millis": 411,
    "deepnote_cell_type": "code"
   },
   "source": "# Load dataset and set app name as index\n\napp = pd.read_csv(\"https://raw.githubusercontent.com/murpi/wilddata/master/quests/AppleStore_prep.csv\", \n                  index_col=False, sep='\\t', encoding='utf-8')\napp = app.set_index('track_name')\napp.info()",
   "execution_count": 2,
   "outputs": [
    {
     "name": "stdout",
     "text": "<class 'pandas.core.frame.DataFrame'>\nIndex: 7197 entries, PAC-MAN Premium to Escape the Sweet Shop Series\nData columns (total 36 columns):\n #   Column                         Non-Null Count  Dtype  \n---  ------                         --------------  -----  \n 0   size_bytes                     7197 non-null   float64\n 1   price                          7197 non-null   float64\n 2   rating_count_tot               7197 non-null   float64\n 3   sup_devices.num                7197 non-null   float64\n 4   ipadSc_urls.num                7197 non-null   float64\n 5   lang.num                       7197 non-null   float64\n 6   vpp_lic                        7197 non-null   float64\n 7   currency_USD                   7197 non-null   int64  \n 8   cont_rating_12+                7197 non-null   int64  \n 9   cont_rating_17+                7197 non-null   int64  \n 10  cont_rating_4+                 7197 non-null   int64  \n 11  cont_rating_9+                 7197 non-null   int64  \n 12  prime_genre_Book               7197 non-null   int64  \n 13  prime_genre_Business           7197 non-null   int64  \n 14  prime_genre_Catalogs           7197 non-null   int64  \n 15  prime_genre_Education          7197 non-null   int64  \n 16  prime_genre_Entertainment      7197 non-null   int64  \n 17  prime_genre_Finance            7197 non-null   int64  \n 18  prime_genre_Food & Drink       7197 non-null   int64  \n 19  prime_genre_Games              7197 non-null   int64  \n 20  prime_genre_Health & Fitness   7197 non-null   int64  \n 21  prime_genre_Lifestyle          7197 non-null   int64  \n 22  prime_genre_Medical            7197 non-null   int64  \n 23  prime_genre_Music              7197 non-null   int64  \n 24  prime_genre_Navigation         7197 non-null   int64  \n 25  prime_genre_News               7197 non-null   int64  \n 26  prime_genre_Photo & Video      7197 non-null   int64  \n 27  prime_genre_Productivity       7197 non-null   int64  \n 28  prime_genre_Reference          7197 non-null   int64  \n 29  prime_genre_Shopping           7197 non-null   int64  \n 30  prime_genre_Social Networking  7197 non-null   int64  \n 31  prime_genre_Sports             7197 non-null   int64  \n 32  prime_genre_Travel             7197 non-null   int64  \n 33  prime_genre_Utilities          7197 non-null   int64  \n 34  prime_genre_Weather            7197 non-null   int64  \n 35  user_rating                    7197 non-null   float64\ndtypes: float64(8), int64(28)\nmemory usage: 2.0+ MB\n",
     "output_type": "stream"
    }
   ]
  },
  {
   "cell_type": "markdown",
   "source": "So **36 columns**, **one of which is the target variable**. We consider the **user rating as our target** and will try to set up a NN that predict the rating from the app characteristics including information on its price, genre, etc.\n\nLet's have a quick look at the target variable. Note that we that we have reduced the number of rating classes compared to the original version of the data on Kaggle (see app_store_dpp.py for details).  \n",
   "metadata": {
    "id": "ql36CaO7pRgQ",
    "cell_id": "00006-961be175-ed0a-418a-a4de-613e4beb9537",
    "deepnote_cell_type": "markdown"
   }
  },
  {
   "cell_type": "code",
   "metadata": {
    "colab": {
     "base_uri": "https://localhost:8080/",
     "height": 338
    },
    "id": "M1xsGs-Iul2f",
    "outputId": "af34c029-d7a1-4885-deb6-db3a3edba9f8",
    "cell_id": "00007-f0b290d0-8a54-45c7-ab10-fe9309cbb6c8",
    "deepnote_output_heights": [
     265
    ],
    "deepnote_to_be_reexecuted": false,
    "source_hash": "1bf35ba",
    "execution_start": 1639344328101,
    "execution_millis": 372,
    "deepnote_cell_type": "code"
   },
   "source": "# Inspect the target\nimport seaborn as sns\nsns.countplot(x=app[\"user_rating\"]);",
   "execution_count": 3,
   "outputs": [
    {
     "data": {
      "text/plain": "<Figure size 432x288 with 1 Axes>",
      "image/png": "[encoded data removed]"
     },
     "metadata": {
      "needs_background": "light",
      "image/png": {
       "width": 395,
       "height": 263
      }
     },
     "output_type": "display_data"
    }
   ]
  },
  {
   "cell_type": "code",
   "metadata": {
    "colab": {
     "base_uri": "https://localhost:8080/"
    },
    "id": "-mjSj4z4y4yt",
    "outputId": "d218c485-e502-4711-e038-eadb1736c209",
    "cell_id": "00008-941419da-eb72-46e0-8fba-007c829e119f",
    "deepnote_output_heights": [
     251.59375
    ],
    "deepnote_to_be_reexecuted": false,
    "source_hash": "d4f1acf4",
    "execution_start": 1639344328485,
    "execution_millis": 35,
    "deepnote_cell_type": "code"
   },
   "source": "app[\"user_rating\"]",
   "execution_count": 4,
   "outputs": [
    {
     "output_type": "execute_result",
     "execution_count": 4,
     "data": {
      "text/plain": "track_name\nPAC-MAN Premium                                       4.0\nEvernote - stay organized                             4.0\nWeatherBug - Local Weather, Radar, Maps, Alerts       4.0\neBay: Best App to Buy, Sell, Save! Online Shopping    4.0\nBible                                                 4.0\n                                                     ... \nKubik                                                 4.0\nVR Roller-Coaster                                     4.0\nBret Michaels Emojis + Lyric Keyboard                 4.0\nVR Roller Coaster World - Virtual Reality             4.0\nEscape the Sweet Shop Series                          5.0\nName: user_rating, Length: 7197, dtype: float64"
     },
     "metadata": {}
    }
   ]
  },
  {
   "cell_type": "code",
   "metadata": {
    "colab": {
     "base_uri": "https://localhost:8080/"
    },
    "id": "udtwVOb_uJGz",
    "outputId": "ff1472a5-afbe-4f13-ec93-2effa54ed56b",
    "cell_id": "00009-e5327ee9-6c16-4d95-b6cb-41f754f8f808",
    "deepnote_output_heights": [
     21.1875
    ],
    "deepnote_to_be_reexecuted": false,
    "source_hash": "6b3f37c0",
    "execution_start": 1639344328518,
    "execution_millis": 0,
    "deepnote_cell_type": "code"
   },
   "source": "# Prepare the target variable\n# LabelEncoder() transforms a string vector to a num vector\nencoder = LabelEncoder()\n#fit label encoder\nencoder.fit(app[\"user_rating\"])\n#transform and return encoded labels\nencoder.transform(app[\"user_rating\"])\n\n\n",
   "execution_count": 5,
   "outputs": [
    {
     "output_type": "execute_result",
     "execution_count": 5,
     "data": {
      "text/plain": "array([4, 4, 4, ..., 4, 4, 5])"
     },
     "metadata": {}
    }
   ]
  },
  {
   "cell_type": "code",
   "metadata": {
    "colab": {
     "base_uri": "https://localhost:8080/"
    },
    "id": "0gqhPUjryQBa",
    "outputId": "365b2026-c767-48b9-fa74-a6b967d35248",
    "cell_id": "00010-8790ca21-a77d-4ed9-8f2a-13230e9ce34e",
    "deepnote_output_heights": [
     136.390625
    ],
    "deepnote_to_be_reexecuted": false,
    "source_hash": "30147edb",
    "execution_start": 1639344328519,
    "execution_millis": 3,
    "deepnote_cell_type": "code"
   },
   "source": "dummy_y = utils.to_categorical(encoder.transform(app[\"user_rating\"])).astype(int)\ndummy_y",
   "execution_count": 6,
   "outputs": [
    {
     "output_type": "execute_result",
     "execution_count": 6,
     "data": {
      "text/plain": "array([[0, 0, 0, 0, 1, 0],\n       [0, 0, 0, 0, 1, 0],\n       [0, 0, 0, 0, 1, 0],\n       ...,\n       [0, 0, 0, 0, 1, 0],\n       [0, 0, 0, 0, 1, 0],\n       [0, 0, 0, 0, 0, 1]])"
     },
     "metadata": {}
    }
   ]
  },
  {
   "cell_type": "code",
   "metadata": {
    "colab": {
     "base_uri": "https://localhost:8080/",
     "height": 335
    },
    "id": "nHgSuOd0uL-6",
    "outputId": "acdc6f04-6fd9-4f30-fae0-f6916715fa3e",
    "cell_id": "00011-a0f12f1a-a736-47f7-9aad-8b16876e1902",
    "deepnote_output_heights": [
     281
    ],
    "deepnote_to_be_reexecuted": false,
    "source_hash": "4ba0f743",
    "execution_start": 1639344328562,
    "execution_millis": 223,
    "deepnote_cell_type": "code"
   },
   "source": "plt.hist(dummy_y.argmax(axis=1))\nplt.xlabel('user_rating')\nplt.title('Rating distribution')\nplt.show();\n\n# Let's split our data set\n\n#Seed function is used to save the state of a random function, so that it can generate same random numbers on multiple executions of the code on the same machine or on different machines (for a specific seed value)\nseed=42\n\nX = app.iloc[:,:-1].values\ny = dummy_y\n\n# Keep in mind that this data set is already standardized, which leads to a leakage of information from train set to test set\n# When you are working with a dataset, make sure you standardize the variables in test set according to the parameters of the train set\nX_train, X_test, y_train, y_test = train_test_split(X, y, test_size=0.30, random_state=seed)\n    \nprint (X_train.shape)\nprint(y_train.shape) \n#X.head(5)",
   "execution_count": 7,
   "outputs": [
    {
     "data": {
      "text/plain": "<Figure size 432x288 with 1 Axes>",
      "image/png": "[encoded data removed]"
     },
     "metadata": {
      "needs_background": "light",
      "image/png": {
       "width": 381,
       "height": 279
      }
     },
     "output_type": "display_data"
    },
    {
     "name": "stdout",
     "text": "(5037, 35)\n(5037, 6)\n",
     "output_type": "stream"
    }
   ]
  },
  {
   "cell_type": "markdown",
   "source": "### Preparing the Keras framework ###\n\nToday we will revise the architecture of our basic neural network and look more into the tuning of hyperparameters.\n\n",
   "metadata": {
    "id": "RPbvIyftkUX4",
    "cell_id": "00012-e93d9263-10de-42c8-88d5-7f9d4515dadf",
    "deepnote_cell_type": "markdown"
   }
  },
  {
   "cell_type": "code",
   "metadata": {
    "id": "5apgYIjmpbWd",
    "cell_id": "00013-026e2ee1-71f2-42fc-ad47-d6c924a4c9b4",
    "deepnote_to_be_reexecuted": false,
    "source_hash": "783a218",
    "execution_start": 1639344328834,
    "execution_millis": 0,
    "deepnote_cell_type": "code"
   },
   "source": "nb_units = 128\n# And finally the outout layer\nnb_classes = y.shape[1]",
   "execution_count": 8,
   "outputs": []
  },
  {
   "cell_type": "code",
   "metadata": {
    "id": "yNasuGt_kUYJ",
    "colab": {
     "base_uri": "https://localhost:8080/"
    },
    "outputId": "08ba1320-7c33-434e-fc35-b722240afd39",
    "cell_id": "00014-db9e28cc-e17e-47ab-8ea7-85b434c19308",
    "deepnote_to_be_reexecuted": false,
    "source_hash": "5b417829",
    "execution_start": 1639344328835,
    "execution_millis": 7994,
    "deepnote_cell_type": "code"
   },
   "source": "# Import Keras\nimport tensorflow.keras\nfrom tensorflow.keras.models import Sequential\nfrom tensorflow.keras.layers import Dense, Dropout\nfrom tensorflow.keras.optimizers import SGD\n\n\nmodel = Sequential()\nmodel.add(Dense(nb_units, activation='relu',bias_initializer='zeros',kernel_initializer=tf.keras.initializers.he_normal(seed=seed), input_shape=(X.shape[1],)))\n#model.add(Dropout(0.1))\nmodel.add(Dense(nb_units, activation='relu',bias_initializer='zeros',kernel_initializer=tf.keras.initializers.he_normal(seed=seed)))\n#model.add(Dropout(0.1))\nmodel.add(Dense(nb_classes, activation='softmax'))\n\nmodel.summary()\n\nbatch_size = 56 #1 for online SGD\n\n# example: start tarining the model up until 30 epochs and plot the training loss values and validation loss values against number of epochs.\nepochs = 30\n\n\nmodel.compile(loss='categorical_crossentropy', optimizer=SGD(lr=0.01), metrics=['accuracy'])\n# Fit the model\nstory = model.fit(X_train, y_train, #name model differently\n                    batch_size=batch_size,\n                    epochs=epochs,\n                    verbose=0,\n                 validation_data=(X_test, y_test))\n                    #validation_split=0.33)#validation_data=(X_test, y_test)\n",
   "execution_count": 9,
   "outputs": [
    {
     "name": "stdout",
     "text": "Model: \"sequential\"\n_________________________________________________________________\nLayer (type)                 Output Shape              Param #   \n=================================================================\ndense (Dense)                (None, 128)               4608      \n_________________________________________________________________\ndense_1 (Dense)              (None, 128)               16512     \n_________________________________________________________________\ndense_2 (Dense)              (None, 6)                 774       \n=================================================================\nTotal params: 21,894\nTrainable params: 21,894\nNon-trainable params: 0\n_________________________________________________________________\n",
     "output_type": "stream"
    }
   ]
  },
  {
   "cell_type": "code",
   "metadata": {
    "id": "mXIb7e7trdMZ",
    "cell_id": "00015-280a6f00-393e-4238-a857-f4128a9eea27",
    "deepnote_to_be_reexecuted": false,
    "source_hash": "80d1d862",
    "execution_start": 1639344336843,
    "execution_millis": 2,
    "deepnote_cell_type": "code"
   },
   "source": "def show_history(story):\n    fig, (ax1, ax2) = plt.subplots(1, 2)\n    fig.set_size_inches(18.5, 10.5)\n    ax1.plot(story.history['accuracy'])\n    ax1.plot(story.history['val_accuracy'])\n    ax1.set(xlabel='epoch', ylabel='accuracy')\n    ax1.legend(['train_accuracy', 'test_accuracy'], loc='best')\n    ax1.set_title('Accuracy evolution during NN training')\n    \n    ax2.plot(story.history['loss'])\n    ax2.plot(story.history['val_loss'])\n    ax2.set(xlabel='epoch', ylabel='loss')\n    ax2.legend(['train_loss', 'test_loss'], loc='best')\n    ax2.set_title('Loss evolution during NN training')\n    plt.show()\n",
   "execution_count": 10,
   "outputs": []
  },
  {
   "cell_type": "code",
   "metadata": {
    "id": "BSgAMh3irg0j",
    "cell_id": "00016-9526393e-8220-4d45-92f8-b9f63fc9a5fb",
    "deepnote_to_be_reexecuted": false,
    "source_hash": "7e8bec16",
    "execution_start": 1639344336890,
    "execution_millis": 65,
    "deepnote_cell_type": "code"
   },
   "source": "score = model.evaluate(X_test, y_test, verbose=0)",
   "execution_count": 11,
   "outputs": []
  },
  {
   "cell_type": "code",
   "metadata": {
    "colab": {
     "base_uri": "https://localhost:8080/",
     "height": 687
    },
    "id": "eEi8cZ9okUYJ",
    "outputId": "f3f4d79e-bd6c-462c-acdb-f2b00bdb5326",
    "cell_id": "00017-67ec9618-5c59-43c2-adae-4d251dc640de",
    "deepnote_output_heights": [
     null,
     497.84375
    ],
    "deepnote_to_be_reexecuted": false,
    "source_hash": "42ec3e9a",
    "execution_start": 1639344336999,
    "execution_millis": 706,
    "deepnote_cell_type": "code"
   },
   "source": "print('Test loss:', score[0])\nprint('Test accuracy:', score[1])\nshow_history(story)",
   "execution_count": 12,
   "outputs": [
    {
     "name": "stdout",
     "text": "Test loss: 0.9585330486297607\nTest accuracy: 0.7083333134651184\n",
     "output_type": "stream"
    },
    {
     "data": {
      "text/plain": "<Figure size 1332x756 with 2 Axes>",
      "image/png": "[encoded data removed]"
     },
     "metadata": {
      "needs_background": "light",
      "image/png": {
       "width": 1089,
       "height": 632
      }
     },
     "output_type": "display_data"
    }
   ]
  },
  {
   "cell_type": "markdown",
   "source": "# Part 1: Hyperparameter optimization with Keras\n\n\n\n",
   "metadata": {
    "id": "dF8LJRKGHI9X",
    "cell_id": "00018-b59e8f8c-44c6-4ec1-8d7c-0bb534bbdcbb",
    "deepnote_cell_type": "markdown"
   }
  },
  {
   "cell_type": "markdown",
   "source": "We will start with the old-fashioned way with Scikit Learn and will first show you an example of how to use GridSearch with two groups of hyperparameters: batches/epochs and optimizer algorithms. ",
   "metadata": {
    "id": "b_9zHdu2s7SY",
    "cell_id": "00019-15c5dee9-8fe2-40fa-9932-8efad9c97fa6",
    "deepnote_cell_type": "markdown"
   }
  },
  {
   "cell_type": "code",
   "metadata": {
    "id": "WP2VLXgBHBIv",
    "cell_id": "00020-0a118f6c-c6e0-4d5e-9e98-551b1e0d2aa2",
    "deepnote_to_be_reexecuted": false,
    "source_hash": "40111bcf",
    "execution_start": 1639344337707,
    "execution_millis": 19933757,
    "deepnote_cell_type": "code"
   },
   "source": "import tensorflow.keras\nimport pandas as pd\nimport numpy as np\nfrom sklearn.model_selection import GridSearchCV\n\nfrom tensorflow.keras.models import Sequential\nfrom tensorflow.keras.layers import Dense, Dropout\nfrom tensorflow.keras.wrappers.scikit_learn import KerasClassifier\nfrom tensorflow.keras import optimizers",
   "execution_count": 13,
   "outputs": []
  },
  {
   "cell_type": "markdown",
   "source": "",
   "metadata": {
    "id": "H2G3hGbsJlJL",
    "cell_id": "00021-3c7f762d-8cd3-4443-a0a8-c21cd0032ffe",
    "deepnote_cell_type": "markdown"
   }
  },
  {
   "cell_type": "code",
   "metadata": {
    "id": "tAobOLKBIQAo",
    "cell_id": "00022-9cc27f60-33d3-41dc-b6b5-2c1fafa42f3e",
    "deepnote_to_be_reexecuted": false,
    "source_hash": "aabfd68b",
    "execution_start": 1639344337755,
    "execution_millis": 1,
    "deepnote_cell_type": "code"
   },
   "source": "#We will use the architecture we had before and wrap it into the function called 'netowork ' (or whatever you want to call it)\n\ndef network():\n    \n    model = Sequential()\n    model.add(Dense(128, activation='relu',bias_initializer='zeros',kernel_initializer=tensorflow.keras.initializers.he_normal(seed=seed),  input_shape=(X.shape[1],)))\n    model.add(Dense(128, activation='relu',bias_initializer='zeros',kernel_initializer=tensorflow.keras.initializers.he_normal(seed=seed)))\n    model.add(Dense(6, activation='softmax',kernel_initializer=tensorflow.keras.initializers.he_normal(seed=seed)))\n    \n    model.compile(optimizer=optimizers.SGD(lr=0.01), loss='categorical_crossentropy', metrics=['accuracy']) #nothing changes here\n\n    return model\n\n# Now we will plug it into Keras Classifier Wrapper \nmodel = KerasClassifier(build_fn=network, verbose=0)",
   "execution_count": 14,
   "outputs": []
  },
  {
   "cell_type": "code",
   "metadata": {
    "id": "TS2OR5Y7JSQ_",
    "cell_id": "00023-75e1ef4c-8fe0-455f-809b-f78872ad9953",
    "deepnote_to_be_reexecuted": false,
    "source_hash": "c020ad55",
    "execution_start": 1639344337756,
    "execution_millis": 0,
    "deepnote_cell_type": "code"
   },
   "source": "# Let's define the grid search parameters\nbatchsize = [32, 64, 128, 256, 512]\nepochs = [10,30,60,70]",
   "execution_count": 15,
   "outputs": []
  },
  {
   "cell_type": "code",
   "metadata": {
    "colab": {
     "base_uri": "https://localhost:8080/"
    },
    "id": "PMUT_gWNJ0I4",
    "outputId": "4fc01297-4e11-4184-f118-9b364227124f",
    "cell_id": "00024-80a0ee0c-fd22-47ae-b93b-807d9b369a24",
    "deepnote_output_heights": [
     21.1875
    ],
    "deepnote_to_be_reexecuted": false,
    "source_hash": "cc48469b",
    "execution_start": 1639344337757,
    "execution_millis": 2,
    "deepnote_cell_type": "code"
   },
   "source": "#Set the grid\nparam_grid = dict(batch_size=batchsize, epochs=epochs)# setting a dictionary to store the results\nparam_grid ",
   "execution_count": 16,
   "outputs": [
    {
     "output_type": "execute_result",
     "execution_count": 16,
     "data": {
      "text/plain": "{'batch_size': [32, 64, 128, 256, 512], 'epochs': [10, 30, 60, 70]}"
     },
     "metadata": {}
    }
   ]
  },
  {
   "cell_type": "code",
   "metadata": {
    "colab": {
     "base_uri": "https://localhost:8080/"
    },
    "id": "FXythoaQJ6De",
    "outputId": "51c2a73b-52fc-40aa-8add-4378e6abd609",
    "cell_id": "00025-f78228ee-6dd4-4147-95e4-2413d22512e9",
    "deepnote_to_be_reexecuted": false,
    "source_hash": "5e0ee3fe",
    "execution_start": 1639344337759,
    "execution_millis": 263176,
    "deepnote_cell_type": "code"
   },
   "source": "grid = GridSearchCV(estimator=model, param_grid=param_grid, n_jobs=-1,cv=3) #parallelization, here using all processors\nresults = grid.fit(X_train, y_train) #remember that we don't want to use the test set in CV\nprint(\"Best: %f using %s\" % (results.best_score_, results.best_params_))",
   "execution_count": 17,
   "outputs": [
    {
     "name": "stdout",
     "text": "Best: 0.708557 using {'batch_size': 32, 'epochs': 70}\n",
     "output_type": "stream"
    }
   ]
  },
  {
   "cell_type": "code",
   "metadata": {
    "colab": {
     "base_uri": "https://localhost:8080/"
    },
    "id": "GO9mlGfkJ534",
    "outputId": "c6c35669-9d43-4a80-cd97-d63311dab7f4",
    "cell_id": "00026-8a6c8145-e6a3-4ba8-972e-58a5926c003b",
    "deepnote_to_be_reexecuted": false,
    "source_hash": "30e52746",
    "execution_start": 1639344600918,
    "execution_millis": 233210,
    "deepnote_cell_type": "code"
   },
   "source": "#Let's now take this knowledge and apply it to our optimizers tuning\n\ndef optim (optimizer='SGD'):\n    model = Sequential()\n    model.add(Dense(128, activation='relu',bias_initializer='zeros',kernel_initializer=tf.keras.initializers.he_normal(seed=seed),  input_shape=(X.shape[1],)))\n  \n    model.add(Dense(128, activation='relu',bias_initializer='zeros',kernel_initializer=tf.keras.initializers.he_normal(seed=seed)))\n \n    model.add(Dense(6, activation='softmax',kernel_initializer=tf.keras.initializers.he_normal(seed=seed)))\n    \n    model.compile(optimizer=optimizer, loss='categorical_crossentropy', metrics=['accuracy']) \n    \n    return model\n\nmodel = KerasClassifier(build_fn=optim, epochs=70, batch_size=32, verbose=0)\n# define the grid search parameters\noptimizers = ['SGD', 'RMSprop', 'Adagrad', 'Adadelta', 'Adam', 'Adamax', 'Nadam']\nparam_grid = dict(optimizer=optimizers) # setting a dictionary to store the results\ngrid = GridSearchCV(estimator=model, param_grid=param_grid, n_jobs=-1, cv=3)\nresults = grid.fit(X_train, y_train)\n\n# Our results (reember these are the resultson the hold-out data)\nprint(\"Best: %f using %s\" % (results.best_score_, results.best_params_))",
   "execution_count": 18,
   "outputs": [
    {
     "name": "stdout",
     "text": "Best: 0.709748 using {'optimizer': 'SGD'}\n",
     "output_type": "stream"
    }
   ]
  },
  {
   "cell_type": "markdown",
   "source": "Now continue using Grid Search to tune the Learning Rate and Momentum:",
   "metadata": {
    "id": "8r1N0u9csthl",
    "cell_id": "00027-48b64bca-51c6-4c22-b076-1c9cd432364f",
    "deepnote_cell_type": "markdown"
   }
  },
  {
   "cell_type": "code",
   "metadata": {
    "id": "4s3A7r_8tSY2",
    "cell_id": "00028-8368e1ca-41ae-43a7-9a5f-ec4fd363b3ff",
    "deepnote_to_be_reexecuted": false,
    "source_hash": "d20e524b",
    "execution_start": 1639344834127,
    "execution_millis": 433781,
    "deepnote_cell_type": "code"
   },
   "source": "def make_model_lr_momentum(lr=0.01, momentum=0.0):\n\n    optimizer=tf.keras.optimizers.SGD(\n        learning_rate=lr,\n        momentum=momentum\n    )\n\n    model = Sequential()\n    model.add(Dense(128, activation='relu',bias_initializer='zeros',kernel_initializer=tf.keras.initializers.he_normal(seed=seed),  input_shape=(X.shape[1],)))\n    model.add(Dense(128, activation='relu',bias_initializer='zeros',kernel_initializer=tf.keras.initializers.he_normal(seed=seed)))\n    model.add(Dense(6, activation='softmax',kernel_initializer=tf.keras.initializers.he_normal(seed=seed))) \n    model.compile(optimizer=optimizer, loss='categorical_crossentropy', metrics=['accuracy']) \n    \n    return model\n\n\n\nmodel = KerasClassifier(build_fn=make_model_lr_momentum, epochs=70, batch_size=32, verbose=0)\n\nlr_grid = [0.01, 0.001, 0.0001]\nmomentum_grid = [0, 0.2, 0.5, 0.8]\n\nparam_grid = dict(lr=lr_grid, momentum=momentum_grid)\n\ngrid = GridSearchCV(estimator=model, param_grid=param_grid, n_jobs=-1, cv=3)\nresults = grid.fit(X_train, y_train)\n\nprint(\"Best: %f using %s\" % (results.best_score_, results.best_params_))",
   "execution_count": 19,
   "outputs": [
    {
     "name": "stdout",
     "text": "Best: 0.711138 using {'lr': 0.01, 'momentum': 0}\n",
     "output_type": "stream"
    }
   ]
  },
  {
   "cell_type": "markdown",
   "source": "Use Grid Search to tune the Network Weight Initialization:",
   "metadata": {
    "id": "M6c5zdwjtTUZ",
    "cell_id": "00029-70e6b01c-6c96-44b5-a8ef-144f71578a9d",
    "deepnote_cell_type": "markdown"
   }
  },
  {
   "cell_type": "code",
   "metadata": {
    "id": "OQUvS5fPtYHb",
    "cell_id": "00030-482ffb06-1beb-45b1-8a94-4cfb0c4897de",
    "deepnote_to_be_reexecuted": false,
    "source_hash": "94ba5121",
    "execution_start": 1639345364168,
    "execution_millis": 341083,
    "deepnote_output_heights": [
     462.796875
    ],
    "deepnote_cell_type": "code"
   },
   "source": "def make_model_w_init(initializer):\n\n    optimizer=tf.keras.optimizers.SGD(\n        learning_rate=0.01,\n        momentum=0.2\n    )\n\n    model = Sequential()\n    model.add(Dense(128, activation='relu',bias_initializer='zeros',kernel_initializer=initializer,  input_shape=(X.shape[1],)))\n    model.add(Dense(128, activation='relu',bias_initializer='zeros',kernel_initializer=initializer))\n    model.add(Dense(6, activation='softmax',kernel_initializer=initializer)) \n    model.compile(optimizer=optimizer, loss='categorical_crossentropy', metrics=['accuracy']) \n    \n    return model\n\n\nmodel = KerasClassifier(build_fn=make_model_w_init, epochs=70, batch_size=32, verbose=0)\n\ninit_grid=[\n    \"random_normal\",\n    \"random_uniform\",\n    \"truncated_normal\",\n    \"zeros\",\n    \"ones\",\n    \"glorot_normal\",\n    \"glorot_uniform\",\n    \"he_normal\",\n    \"he_uniform\",\n    \"identity\" \n    ]\n\nparam_grid = dict(initializer=init_grid)\n\ngrid = GridSearchCV(estimator=model, param_grid=param_grid, n_jobs=-1, cv=3)\nresults = grid.fit(X_train, y_train)\n\nprint(\"Best: %f using %s\" % (results.best_score_, results.best_params_))",
   "execution_count": 20,
   "outputs": [
    {
     "name": "stdout",
     "text": "Best: 0.711932 using {'initializer': 'he_normal'}\n",
     "output_type": "stream"
    }
   ]
  },
  {
   "cell_type": "markdown",
   "source": "Use Grid Search to tune the Neuron Activation Function\n",
   "metadata": {
    "id": "3uN20jRXtY22",
    "cell_id": "00031-e6e0e9f1-24dc-4d33-9d2e-36387b2daf08",
    "deepnote_cell_type": "markdown"
   }
  },
  {
   "cell_type": "code",
   "metadata": {
    "id": "Ivuj4K3stedu",
    "cell_id": "00032-6230e5eb-c32e-4457-aafe-2a185f6417b1",
    "deepnote_to_be_reexecuted": false,
    "source_hash": "5f680490",
    "execution_start": 1639345816590,
    "execution_millis": 252799,
    "deepnote_cell_type": "code"
   },
   "source": "def make_model_activation(activation):\n\n    optimizer=tf.keras.optimizers.SGD(\n        learning_rate=0.01,\n        momentum=0.2\n    )\n\n    initializer = \"he_normal\"\n\n    model = Sequential()\n    model.add(Dense(128, activation=activation,bias_initializer='zeros',kernel_initializer=initializer,  input_shape=(X.shape[1],)))\n    model.add(Dense(128, activation=activation,bias_initializer='zeros',kernel_initializer=initializer))\n    model.add(Dense(6, activation='softmax',kernel_initializer=initializer)) \n    model.compile(optimizer=optimizer, loss='categorical_crossentropy', metrics=['accuracy']) \n    \n    return model\n\n\nmodel = KerasClassifier(build_fn=make_model_activation, epochs=70, batch_size=32, verbose=0)\n\nact_grid=[\n    \"relu\",\n    \"sigmoid\",\n    \"softmax\",\n    \"softplus\",\n    \"softsign\",\n    \"tanh\",\n    \"selu\",\n    \"elu\",\n    \"exponential\"\n]\n\nparam_grid = dict(activation=act_grid)\n\ngrid = GridSearchCV(estimator=model, param_grid=param_grid, n_jobs=-1, cv=3)\nresults = grid.fit(X_train, y_train)\n\nprint(\"Best: %f using %s\" % (results.best_score_, results.best_params_))",
   "execution_count": 21,
   "outputs": [
    {
     "name": "stdout",
     "text": "Best: 0.711733 using {'activation': 'elu'}\n",
     "output_type": "stream"
    }
   ]
  },
  {
   "cell_type": "markdown",
   "source": "Use Grid Search to tune Dropout Regularization",
   "metadata": {
    "id": "llyr5gextgZa",
    "cell_id": "00033-74a9f57b-5b18-488a-8df8-e3f961e3b532",
    "deepnote_cell_type": "markdown"
   }
  },
  {
   "cell_type": "code",
   "metadata": {
    "id": "ojFGBhT5tf7Q",
    "cell_id": "00034-93b62911-e0cb-434e-83f3-3968064b41bb",
    "deepnote_to_be_reexecuted": false,
    "source_hash": "61db276c",
    "execution_start": 1639346249503,
    "execution_millis": 138282,
    "deepnote_cell_type": "code"
   },
   "source": "def make_model_dropout(dropout):\n\n    optimizer=tf.keras.optimizers.SGD(\n        learning_rate=0.01,\n        momentum=0.2\n    )\n\n    initializer = \"he_normal\"\n    activation = \"elu\"\n\n    model = Sequential()\n    model.add(Dense(128, activation=activation,bias_initializer='zeros',kernel_initializer=initializer,  input_shape=(X.shape[1],)))\n    model.add(Dropout(dropout))\n    model.add(Dense(128, activation=activation,bias_initializer='zeros',kernel_initializer=initializer))\n    model.add(Dropout(dropout))\n    model.add(Dense(6, activation='softmax',kernel_initializer=initializer)) \n    model.compile(optimizer=optimizer, loss='categorical_crossentropy', metrics=['accuracy']) \n    \n    return model\n\n\nmodel = KerasClassifier(build_fn=make_model_dropout, epochs=70, batch_size=32, verbose=0)\n\ndropout_grid=[0.2, 0.4, 0.6, 0.8]\n\nparam_grid = dict(dropout=dropout_grid)\n\ngrid = GridSearchCV(estimator=model, param_grid=param_grid, n_jobs=-1, cv=3)\nresults = grid.fit(X_train, y_train)\n\nprint(\"Best: %f using %s\" % (results.best_score_, results.best_params_))",
   "execution_count": 22,
   "outputs": [
    {
     "name": "stdout",
     "text": "Best: 0.711336 using {'dropout': 0.2}\n",
     "output_type": "stream"
    }
   ]
  },
  {
   "cell_type": "markdown",
   "source": "Use Grid Search to tune the Number of Neurons in the Hidden Layer",
   "metadata": {
    "id": "bNmvCdsAtkld",
    "cell_id": "00035-0ef10879-4f41-4b28-9b89-5e29d4fb5c65",
    "deepnote_cell_type": "markdown"
   }
  },
  {
   "cell_type": "code",
   "metadata": {
    "id": "JX2FpNJ6tqAc",
    "cell_id": "00036-d588e4dd-cb24-47e1-8b9f-fa05b040e3dc",
    "deepnote_to_be_reexecuted": false,
    "source_hash": "d44fdcae",
    "execution_start": 1639346602012,
    "execution_millis": 530811,
    "deepnote_cell_type": "code"
   },
   "source": "def make_model_units(num):\n\n    optimizer=tf.keras.optimizers.SGD(\n        learning_rate=0.01,\n        momentum=0.2\n    )\n\n    initializer = \"he_normal\"\n    activation = \"elu\"\n    dropout = 0.2\n\n    model = Sequential()\n    model.add(Dense(num, activation=activation,bias_initializer='zeros',kernel_initializer=initializer,  input_shape=(X.shape[1],)))\n    model.add(Dropout(dropout))\n    model.add(Dense(num, activation=activation,bias_initializer='zeros',kernel_initializer=initializer))\n    model.add(Dropout(dropout))\n    model.add(Dense(6, activation='softmax',kernel_initializer=initializer)) \n    model.compile(optimizer=optimizer, loss='categorical_crossentropy', metrics=['accuracy']) \n    \n    return model\n\n\nmodel = KerasClassifier(build_fn=make_model_units, epochs=70, batch_size=32, verbose=0)\n\nnum_grid=[4, 8, 16, 32, 64, 128, 256, 512]\n\nparam_grid = dict(num=num_grid)\n\ngrid = GridSearchCV(estimator=model, param_grid=param_grid, n_jobs=-1, cv=3)\nresults = grid.fit(X_train, y_train)\n\nprint(\"Best: %f using %s\" % (results.best_score_, results.best_params_))",
   "execution_count": 25,
   "outputs": [
    {
     "name": "stdout",
     "text": "Best: 0.710939 using {'num': 512}\n",
     "output_type": "stream"
    }
   ]
  },
  {
   "cell_type": "markdown",
   "source": "# Part 2:  Keras Tuner",
   "metadata": {
    "id": "wtR-pZ8Wtsq-",
    "cell_id": "00037-88f59696-f211-4cce-be03-5b8f8ff82e10",
    "deepnote_cell_type": "markdown"
   }
  },
  {
   "cell_type": "code",
   "metadata": {
    "id": "iSffBvDtt0m7",
    "cell_id": "00039-8a0bfceb-ecc3-4909-adea-d2b0178cdcfe",
    "deepnote_to_be_reexecuted": false,
    "source_hash": "8df4696d",
    "execution_start": 1639347618350,
    "execution_millis": 1,
    "deepnote_cell_type": "code"
   },
   "source": "import keras_tuner as kt\n\nfrom tensorflow import keras\nfrom tensorflow.keras import layers\nfrom keras_tuner.tuners import RandomSearch",
   "execution_count": 29,
   "outputs": []
  },
  {
   "cell_type": "markdown",
   "source": "Read through the Keras Tuner Documentation and build a RandomSearch. This hyperparameter tuning method randomly tries a combination of hyperparameters from a given search space. To use this method in keras tuner, first define a tuner using one of the available [Tuners](https://keras-team.github.io/keras-tuner/documentation/tuners/).\n",
   "metadata": {
    "id": "Zp0n38lIue0U",
    "cell_id": "00040-8ccf09ea-8cd3-4dc5-abac-15f1ce70fa50",
    "deepnote_cell_type": "markdown"
   }
  },
  {
   "cell_type": "code",
   "metadata": {
    "id": "sgV8Ve3WvBQ-",
    "cell_id": "00041-6787a600-5681-4c35-bfd5-7929a88f80f7",
    "deepnote_to_be_reexecuted": false,
    "source_hash": "1d843619",
    "execution_start": 1639348904748,
    "execution_millis": 6,
    "deepnote_cell_type": "code"
   },
   "source": "# We need first create a Hypermodel.\n\n# Here I will make a subclass of Hypermodel.\n# A HyperModel subclass only needs to implement a build(self, hp) method,\n# which creates a keras.Model using the hp argument to define the hyperparameters\n# and returns the model instance.\n\nclass MyHyperModel(kt.HyperModel):\n    def build(self, hp):\n\n        optimizer = tf.keras.optimizers.SGD(learning_rate=0.01, momentum=0.2)\n        initializer = \"he_normal\"\n        activation = hp.Choice(\"activation\", [\"relu\", \"elu\", \"tanh\"])\n        dropout = 0.2\n        units = hp.Int(\"units\", min_value=32, max_value=512, step=32)\n\n        model = Sequential()\n        model.add(Dense(units, activation=activation,bias_initializer='zeros',kernel_initializer=initializer,  input_shape=(X.shape[1],)))\n        model.add(Dropout(dropout))\n        model.add(Dense(units, activation=activation,bias_initializer='zeros',kernel_initializer=initializer))\n        model.add(Dropout(dropout))\n        model.add(Dense(6, activation='softmax',kernel_initializer=initializer)) \n        model.compile(optimizer=optimizer, loss='categorical_crossentropy', metrics=['accuracy']) \n    \n        return model\n",
   "execution_count": 34,
   "outputs": []
  },
  {
   "cell_type": "code",
   "source": "# Defining the RandomSearch tuner\ntuner = kt.RandomSearch(\n    MyHyperModel(),\n    objective=\"val_accuracy\",\n    max_trials=5)",
   "metadata": {
    "tags": [],
    "cell_id": "00042-19c79cb5-56b8-4a1a-9c70-d5a85a14859c",
    "deepnote_to_be_reexecuted": false,
    "source_hash": "7b5549c5",
    "execution_start": 1639348907564,
    "execution_millis": 51,
    "deepnote_cell_type": "code"
   },
   "outputs": [],
   "execution_count": 35
  },
  {
   "cell_type": "code",
   "source": "# Display search space summary\ntuner.search_space_summary()",
   "metadata": {
    "tags": [],
    "cell_id": "00043-0771ef6b-a7cd-4007-8cd0-e4bca11d2feb",
    "deepnote_to_be_reexecuted": false,
    "source_hash": "75077dae",
    "execution_start": 1639348910145,
    "execution_millis": 1,
    "deepnote_cell_type": "code"
   },
   "outputs": [
    {
     "name": "stdout",
     "text": "Search space summary\nDefault search space size: 2\nactivation (Choice)\n{'default': 'relu', 'conditions': [], 'values': ['relu', 'elu', 'tanh'], 'ordered': False}\nunits (Int)\n{'default': None, 'conditions': [], 'min_value': 32, 'max_value': 512, 'step': 32, 'sampling': None}\n",
     "output_type": "stream"
    }
   ],
   "execution_count": 36
  },
  {
   "cell_type": "code",
   "source": "# Run the search\ntuner.search(X_train, y_train, epochs=4, validation_split=0.2)",
   "metadata": {
    "tags": [],
    "cell_id": "00044-0d4c73fd-2ad7-4c6c-aca3-1da69aefa20a",
    "deepnote_to_be_reexecuted": false,
    "source_hash": "835740a3",
    "execution_start": 1639349025173,
    "execution_millis": 14990,
    "deepnote_cell_type": "code"
   },
   "outputs": [
    {
     "output_type": "clearOutput"
    },
    {
     "name": "stdout",
     "text": "Trial 5 Complete [00h 00m 03s]\nval_accuracy: 0.7073412537574768\n\nBest val_accuracy So Far: 0.711309552192688\nTotal elapsed time: 00h 00m 14s\nINFO:tensorflow:Oracle triggered exit\n",
     "output_type": "stream"
    }
   ],
   "execution_count": 38
  },
  {
   "cell_type": "code",
   "source": "# Search results summary\ntuner.results_summary()",
   "metadata": {
    "tags": [],
    "cell_id": "00045-3c3705f6-41f3-4a22-aabb-99ac9d7c0499",
    "deepnote_to_be_reexecuted": false,
    "source_hash": "cd662f94",
    "execution_start": 1639349107378,
    "execution_millis": 10,
    "deepnote_cell_type": "code"
   },
   "outputs": [
    {
     "name": "stdout",
     "text": "Results summary\nResults in ./untitled_project\nShowing 10 best trials\nObjective(name='val_accuracy', direction='max')\nTrial summary\nHyperparameters:\nactivation: tanh\nunits: 288\nScore: 0.711309552192688\nTrial summary\nHyperparameters:\nactivation: relu\nunits: 416\nScore: 0.7073412537574768\nTrial summary\nHyperparameters:\nactivation: relu\nunits: 256\nScore: 0.7073412537574768\nTrial summary\nHyperparameters:\nactivation: relu\nunits: 384\nScore: 0.7073412537574768\nTrial summary\nHyperparameters:\nactivation: elu\nunits: 256\nScore: 0.7053571343421936\n",
     "output_type": "stream"
    }
   ],
   "execution_count": 39
  },
  {
   "cell_type": "code",
   "source": "# Get best model\n\nbest_hp = tuner.get_best_hyperparameters(num_trials=1)[0]\nbest_model = tuner.get_best_models(num_models=1)[0]\n\nprint(f\"Units = {best_hp.get('units')}\")\nprint(f\"Activation = {best_hp.get('activation')}\")\n\nbest_model.summary()",
   "metadata": {
    "tags": [],
    "cell_id": "00046-94125820-bcf4-491e-b57e-51b09bc4c1fe",
    "deepnote_to_be_reexecuted": false,
    "source_hash": "1aaa3812",
    "execution_start": 1639349645869,
    "execution_millis": 216,
    "deepnote_output_heights": [
     21.1875,
     21.1875
    ],
    "deepnote_cell_type": "code"
   },
   "outputs": [
    {
     "name": "stdout",
     "text": "WARNING:tensorflow:Unresolved object in checkpoint: (root).optimizer.iter\nWARNING:tensorflow:Unresolved object in checkpoint: (root).optimizer.decay\nWARNING:tensorflow:Unresolved object in checkpoint: (root).optimizer.learning_rate\nWARNING:tensorflow:Unresolved object in checkpoint: (root).optimizer.momentum\nWARNING:tensorflow:A checkpoint was restored (e.g. tf.train.Checkpoint.restore or tf.keras.Model.load_weights) but not all checkpointed values were used. See above for specific issues. Use expect_partial() on the load status object, e.g. tf.train.Checkpoint.restore(...).expect_partial(), to silence these warnings, or use assert_consumed() to make the check explicit. See https://www.tensorflow.org/guide/checkpoint#loading_mechanics for details.\nUnits = 288\nActivation = tanh\nModel: \"sequential\"\n_________________________________________________________________\nLayer (type)                 Output Shape              Param #   \n=================================================================\ndense (Dense)                (None, 288)               10368     \n_________________________________________________________________\ndropout (Dropout)            (None, 288)               0         \n_________________________________________________________________\ndense_1 (Dense)              (None, 288)               83232     \n_________________________________________________________________\ndropout_1 (Dropout)          (None, 288)               0         \n_________________________________________________________________\ndense_2 (Dense)              (None, 6)                 1734      \n=================================================================\nTotal params: 95,334\nTrainable params: 95,334\nNon-trainable params: 0\n_________________________________________________________________\n",
     "output_type": "stream"
    }
   ],
   "execution_count": 53
  },
  {
   "cell_type": "markdown",
   "source": "We successfully optimized hyperparameters using Keras tuner.",
   "metadata": {
    "tags": [],
    "cell_id": "00047-cb9d397c-aaf6-461f-abf7-9e4fe3bd444c",
    "deepnote_cell_type": "markdown"
   }
  },
  {
   "cell_type": "markdown",
   "source": "<a style='text-decoration:none;line-height:16px;display:flex;color:#5B5B62;padding:10px;justify-content:end;' href='https://deepnote.com?utm_source=created-in-deepnote-cell&projectId=87989bd7-7a25-4e61-b3c0-cb24ea7ca1f8' target=\"_blank\">\n<img alt='Created in deepnote.com' style='display:inline;max-height:16px;margin:0px;margin-right:7.5px;' src='data:image/svg+xml;base64,PD94bWwgdmVyc2lvbj0iMS4wIiBlbmNvZGluZz0iVVRGLTgiPz4KPHN2ZyB3aWR0aD0iODBweCIgaGVpZ2h0PSI4MHB4IiB2aWV3Qm94PSIwIDAgODAgODAiIHZlcnNpb249IjEuMSIgeG1sbnM9Imh0dHA6Ly93d3cudzMub3JnLzIwMDAvc3ZnIiB4bWxuczp4bGluaz0iaHR0cDovL3d3dy53My5vcmcvMTk5OS94bGluayI+CiAgICA8IS0tIEdlbmVyYXRvcjogU2tldGNoIDU0LjEgKDc2NDkwKSAtIGh0dHBzOi8vc2tldGNoYXBwLmNvbSAtLT4KICAgIDx0aXRsZT5Hcm91cCAzPC90aXRsZT4KICAgIDxkZXNjPkNyZWF0ZWQgd2l0aCBTa2V0Y2guPC9kZXNjPgogICAgPGcgaWQ9IkxhbmRpbmciIHN0cm9rZT0ibm9uZSIgc3Ryb2tlLXdpZHRoPSIxIiBmaWxsPSJub25lIiBmaWxsLXJ1bGU9ImV2ZW5vZGQiPgogICAgICAgIDxnIGlkPSJBcnRib2FyZCIgdHJhbnNmb3JtPSJ0cmFuc2xhdGUoLTEyMzUuMDAwMDAwLCAtNzkuMDAwMDAwKSI+CiAgICAgICAgICAgIDxnIGlkPSJHcm91cC0zIiB0cmFuc2Zvcm09InRyYW5zbGF0ZSgxMjM1LjAwMDAwMCwgNzkuMDAwMDAwKSI+CiAgICAgICAgICAgICAgICA8cG9seWdvbiBpZD0iUGF0aC0yMCIgZmlsbD0iIzAyNjVCNCIgcG9pbnRzPSIyLjM3NjIzNzYyIDgwIDM4LjA0NzY2NjcgODAgNTcuODIxNzgyMiA3My44MDU3NTkyIDU3LjgyMTc4MjIgMzIuNzU5MjczOSAzOS4xNDAyMjc4IDMxLjY4MzE2ODMiPjwvcG9seWdvbj4KICAgICAgICAgICAgICAgIDxwYXRoIGQ9Ik0zNS4wMDc3MTgsODAgQzQyLjkwNjIwMDcsNzYuNDU0OTM1OCA0Ny41NjQ5MTY3LDcxLjU0MjI2NzEgNDguOTgzODY2LDY1LjI2MTk5MzkgQzUxLjExMjI4OTksNTUuODQxNTg0MiA0MS42NzcxNzk1LDQ5LjIxMjIyODQgMjUuNjIzOTg0Niw0OS4yMTIyMjg0IEMyNS40ODQ5Mjg5LDQ5LjEyNjg0NDggMjkuODI2MTI5Niw0My4yODM4MjQ4IDM4LjY0NzU4NjksMzEuNjgzMTY4MyBMNzIuODcxMjg3MSwzMi41NTQ0MjUgTDY1LjI4MDk3Myw2Ny42NzYzNDIxIEw1MS4xMTIyODk5LDc3LjM3NjE0NCBMMzUuMDA3NzE4LDgwIFoiIGlkPSJQYXRoLTIyIiBmaWxsPSIjMDAyODY4Ij48L3BhdGg+CiAgICAgICAgICAgICAgICA8cGF0aCBkPSJNMCwzNy43MzA0NDA1IEwyNy4xMTQ1MzcsMC4yNTcxMTE0MzYgQzYyLjM3MTUxMjMsLTEuOTkwNzE3MDEgODAsMTAuNTAwMzkyNyA4MCwzNy43MzA0NDA1IEM4MCw2NC45NjA0ODgyIDY0Ljc3NjUwMzgsNzkuMDUwMzQxNCAzNC4zMjk1MTEzLDgwIEM0Ny4wNTUzNDg5LDc3LjU2NzA4MDggNTMuNDE4MjY3Nyw3MC4zMTM2MTAzIDUzLjQxODI2NzcsNTguMjM5NTg4NSBDNTMuNDE4MjY3Nyw0MC4xMjg1NTU3IDM2LjMwMzk1NDQsMzcuNzMwNDQwNSAyNS4yMjc0MTcsMzcuNzMwNDQwNSBDMTcuODQzMDU4NiwzNy43MzA0NDA1IDkuNDMzOTE5NjYsMzcuNzMwNDQwNSAwLDM3LjczMDQ0MDUgWiIgaWQ9IlBhdGgtMTkiIGZpbGw9IiMzNzkzRUYiPjwvcGF0aD4KICAgICAgICAgICAgPC9nPgogICAgICAgIDwvZz4KICAgIDwvZz4KPC9zdmc+' > </img>\nCreated in <span style='font-weight:600;margin-left:4px;'>Deepnote</span></a>",
   "metadata": {
    "tags": [],
    "created_in_deepnote_cell": true,
    "deepnote_cell_type": "markdown"
   }
  }
 ],
 "nbformat": 4,
 "nbformat_minor": 0,
 "metadata": {
  "kernelspec": {
   "display_name": "PyCharm (adams)",
   "language": "python",
   "name": "pycharm-feb95198"
  },
  "language_info": {
   "codemirror_mode": {
    "name": "ipython",
    "version": 3
   },
   "file_extension": ".py",
   "mimetype": "text/x-python",
   "name": "python",
   "nbconvert_exporter": "python",
   "pygments_lexer": "ipython3",
   "version": "3.7.6"
  },
  "pycharm": {
   "stem_cell": {
    "cell_type": "raw",
    "metadata": {
     "collapsed": false
    },
    "source": []
   }
  },
  "colab": {
   "name": "NN_Hyperparameters-Keras Quest.ipynb",
   "provenance": [],
   "collapsed_sections": []
  },
  "deepnote_notebook_id": "944054ee-5ec1-4588-b0f1-78fb11dd25cf",
  "deepnote": {},
  "deepnote_execution_queue": []
 }
}