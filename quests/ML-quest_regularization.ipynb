{
 "cells": [
  {
   "cell_type": "markdown",
   "metadata": {},
   "source": [
    "# Introduction to Regularization\n",
    "\n",
    "## Definitely Check These Out\n",
    "\n",
    "[Regularization, Ridge, and Lasso - All You Need To Know!](https://towardsdatascience.com/regularization-in-machine-learning-76441ddcf99a)  \n",
    "[Visualizing Ridge and Lasso Regression](https://www.youtube.com/watch?v=Xm2C_gTAl8c)  \n",
    "[Ridge Regression - Introduction to Ridge Regression](https://www.youtube.com/watch?v=Q81RR3yKn30)  \n",
    "[Lasso Regression - Introduction to Lasso Regression](https://www.youtube.com/watch?v=NGf0voTMlcs)  \n",
    "[Which is better: Lasso or Ridge?!](https://medium.com/@zawar.ahmed1995/comparing-linear-regression-models-lasso-vs-ridge-60587ff5a5aa)  \n",
    "[Implementing Ridge and Lasso Regression using Scikit-Learn](https://www.pluralsight.com/guides/linear-lasso-ridge-regression-scikit-learn)  \n",
    "\n",
    "## Extra / Additional Resources\n",
    "\n",
    "[Introduction to ElasticNet Regression - Combining Both the L1 Norm with the L2 Norm!](https://www.thelearningmachine.ai/lle)  \n",
    "[Ridge Regression - Scikit-Learn Documentation](https://scikit-learn.org/stable/modules/generated/sklearn.linear_model.Ridge.html)  \n",
    "[Lasso Regression - Scikit-Learn Documentation](https://scikit-learn.org/stable/modules/generated/sklearn.linear_model.Lasso.html)  \n"
   ]
  }
 ],
 "metadata": {
  "interpreter": {
   "hash": "720fa6d0f11b7ec96fc5a2305c253a374b95718251f66e414cba1cc0c6bb49e9"
  },
  "kernelspec": {
   "display_name": "Python 3.8.8 64-bit ('base': conda)",
   "name": "python3"
  },
  "language_info": {
   "name": "python",
   "version": "3.8.8"
  },
  "orig_nbformat": 4
 },
 "nbformat": 4,
 "nbformat_minor": 2
}
