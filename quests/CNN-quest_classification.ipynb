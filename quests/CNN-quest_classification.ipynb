{
 "cells": [
  {
   "cell_type": "markdown",
   "source": "# Preparation",
   "metadata": {
    "id": "eLMV7W2SpmS_",
    "cell_id": "00000-f8d5f63f-78a6-4aed-839a-151c4dd958a5",
    "deepnote_cell_type": "markdown"
   }
  },
  {
   "cell_type": "code",
   "source": "!pip install tensorflow_datasets==4.4.0",
   "metadata": {
    "tags": [],
    "cell_id": "00001-270464a0-9420-46f6-9fce-23696cff266b",
    "deepnote_to_be_reexecuted": false,
    "source_hash": "383e4637",
    "execution_start": 1638495030571,
    "execution_millis": 13315,
    "deepnote_cell_type": "code"
   },
   "outputs": [
    {
     "name": "stdout",
     "text": "Collecting tensorflow_datasets==4.4.0\n  Downloading tensorflow_datasets-4.4.0-py3-none-any.whl (4.0 MB)\n\u001b[K     |████████████████████████████████| 4.0 MB 12.0 MB/s \n\u001b[?25hRequirement already satisfied: typing-extensions; python_version < \"3.8\" in /shared-libs/python3.7/py-core/lib/python3.7/site-packages (from tensorflow_datasets==4.4.0) (3.10.0.2)\nCollecting promise\n  Downloading promise-2.3.tar.gz (19 kB)\nRequirement already satisfied: absl-py in /shared-libs/python3.7/py/lib/python3.7/site-packages (from tensorflow_datasets==4.4.0) (0.15.0)\nRequirement already satisfied: protobuf>=3.12.2 in /shared-libs/python3.7/py/lib/python3.7/site-packages (from tensorflow_datasets==4.4.0) (3.19.1)\nCollecting tensorflow-metadata\n  Downloading tensorflow_metadata-1.5.0-py3-none-any.whl (48 kB)\n\u001b[K     |████████████████████████████████| 48 kB 7.9 MB/s \n\u001b[?25hRequirement already satisfied: attrs>=18.1.0 in /shared-libs/python3.7/py-core/lib/python3.7/site-packages (from tensorflow_datasets==4.4.0) (21.2.0)\nRequirement already satisfied: requests>=2.19.0 in /shared-libs/python3.7/py/lib/python3.7/site-packages (from tensorflow_datasets==4.4.0) (2.26.0)\nRequirement already satisfied: termcolor in /shared-libs/python3.7/py/lib/python3.7/site-packages (from tensorflow_datasets==4.4.0) (1.1.0)\nRequirement already satisfied: dill in /shared-libs/python3.7/py/lib/python3.7/site-packages (from tensorflow_datasets==4.4.0) (0.3.4)\nRequirement already satisfied: future in /shared-libs/python3.7/py/lib/python3.7/site-packages (from tensorflow_datasets==4.4.0) (0.18.2)\nRequirement already satisfied: six in /shared-libs/python3.7/py-core/lib/python3.7/site-packages (from tensorflow_datasets==4.4.0) (1.16.0)\nRequirement already satisfied: tqdm in /shared-libs/python3.7/py/lib/python3.7/site-packages (from tensorflow_datasets==4.4.0) (4.62.3)\nRequirement already satisfied: importlib-resources; python_version < \"3.9\" in /shared-libs/python3.7/py/lib/python3.7/site-packages (from tensorflow_datasets==4.4.0) (5.4.0)\nRequirement already satisfied: numpy in /shared-libs/python3.7/py/lib/python3.7/site-packages (from tensorflow_datasets==4.4.0) (1.19.5)\nRequirement already satisfied: googleapis-common-protos<2,>=1.52.0 in /shared-libs/python3.7/py/lib/python3.7/site-packages (from tensorflow-metadata->tensorflow_datasets==4.4.0) (1.53.0)\nRequirement already satisfied: certifi>=2017.4.17 in /shared-libs/python3.7/py/lib/python3.7/site-packages (from requests>=2.19.0->tensorflow_datasets==4.4.0) (2021.10.8)\nRequirement already satisfied: idna<4,>=2.5; python_version >= \"3\" in /shared-libs/python3.7/py-core/lib/python3.7/site-packages (from requests>=2.19.0->tensorflow_datasets==4.4.0) (3.3)\nRequirement already satisfied: urllib3<1.27,>=1.21.1 in /shared-libs/python3.7/py/lib/python3.7/site-packages (from requests>=2.19.0->tensorflow_datasets==4.4.0) (1.26.7)\nRequirement already satisfied: charset-normalizer~=2.0.0; python_version >= \"3\" in /shared-libs/python3.7/py-core/lib/python3.7/site-packages (from requests>=2.19.0->tensorflow_datasets==4.4.0) (2.0.7)\nRequirement already satisfied: zipp>=3.1.0; python_version < \"3.10\" in /shared-libs/python3.7/py-core/lib/python3.7/site-packages (from importlib-resources; python_version < \"3.9\"->tensorflow_datasets==4.4.0) (3.6.0)\nBuilding wheels for collected packages: promise\n  Building wheel for promise (setup.py) ... \u001b[?25ldone\n\u001b[?25h  Created wheel for promise: filename=promise-2.3-py3-none-any.whl size=21493 sha256=d944ede151820eef4f043dd425137275541922b254f925a5a7f8887cc9278519\n  Stored in directory: /root/.cache/pip/wheels/29/93/c6/762e359f8cb6a5b69c72235d798804cae523bbe41c2aa8333d\nSuccessfully built promise\n\u001b[31mERROR: tensorflow-metadata 1.5.0 has requirement absl-py<0.13,>=0.9, but you'll have absl-py 0.15.0 which is incompatible.\u001b[0m\nInstalling collected packages: promise, tensorflow-metadata, tensorflow-datasets\nSuccessfully installed promise-2.3 tensorflow-datasets-4.4.0 tensorflow-metadata-1.5.0\n\u001b[33mWARNING: You are using pip version 20.1.1; however, version 21.3.1 is available.\nYou should consider upgrading via the '/root/venv/bin/python -m pip install --upgrade pip' command.\u001b[0m\n",
     "output_type": "stream"
    }
   ],
   "execution_count": 1
  },
  {
   "cell_type": "code",
   "metadata": {
    "id": "Nh3aDkAmUPMe",
    "cell_id": "00001-12ec360d-546f-4e53-96c7-556272754b30",
    "deepnote_to_be_reexecuted": false,
    "source_hash": "fc354612",
    "execution_start": 1638495863297,
    "execution_millis": 674,
    "deepnote_cell_type": "code"
   },
   "source": "import tensorflow as tf\n\nfrom tensorflow.keras import datasets, layers, models\nimport tensorflow_datasets as tfds\n\nimport matplotlib.pyplot as plt\nimport seaborn as sns",
   "execution_count": 18,
   "outputs": []
  },
  {
   "cell_type": "code",
   "metadata": {
    "id": "vZT5_O_l0bqT",
    "colab": {
     "base_uri": "https://localhost:8080/",
     "height": 55
    },
    "outputId": "330c7255-fa2a-4295-813b-70df5eaaadc3",
    "cell_id": "00002-28e12955-8f24-47c4-856f-46672fefc5ca",
    "deepnote_to_be_reexecuted": false,
    "source_hash": "623fc1cb",
    "execution_start": 1638495053613,
    "execution_millis": 4926,
    "deepnote_cell_type": "code"
   },
   "source": "(train_images, train_labels), (test_images, test_labels) = datasets.cifar10.load_data()",
   "execution_count": 3,
   "outputs": [
    {
     "name": "stdout",
     "text": "Downloading data from https://www.cs.toronto.edu/~kriz/cifar-10-python.tar.gz\n170500096/170498071 [==============================] - 2s 0us/step\n",
     "output_type": "stream"
    }
   ]
  },
  {
   "cell_type": "code",
   "metadata": {
    "id": "rgtzfj5f0cfG",
    "cell_id": "00003-8daab9aa-af8f-4a11-afe9-f17a257cca21",
    "deepnote_to_be_reexecuted": false,
    "source_hash": "4ab31d42",
    "execution_start": 1638495058549,
    "execution_millis": 603561,
    "deepnote_cell_type": "code"
   },
   "source": "class_names = ['airplane', 'automobile', 'bird', 'cat', 'deer',\n               'dog', 'frog', 'horse', 'ship', 'truck']",
   "execution_count": 4,
   "outputs": []
  },
  {
   "cell_type": "markdown",
   "source": "In this quest, you will work with the [CIFAR-10 dataset](https://www.cs.toronto.edu/~kriz/cifar.html). It contains 60000 32x32 colour images in 10 classes, with 6000 images per class. Your task will be predicting image classes.\n",
   "metadata": {
    "id": "9McRkqNvscOz",
    "cell_id": "00004-62edf74c-1642-4acc-ac2e-fc545697652f",
    "deepnote_cell_type": "markdown"
   }
  },
  {
   "cell_type": "markdown",
   "source": "# Tasks",
   "metadata": {
    "id": "gs2BVhIgsKCD",
    "cell_id": "00005-cd3af09c-2bb4-463c-8925-ba803b279f0f",
    "deepnote_cell_type": "markdown"
   }
  },
  {
   "cell_type": "markdown",
   "source": "Normalize pixel values of both train and test images to the values in the range between 0 and 1",
   "metadata": {
    "id": "mp1MM9_DsuhS",
    "cell_id": "00006-3dfb10be-1400-49e3-87eb-4186cd9297ca",
    "deepnote_cell_type": "markdown"
   }
  },
  {
   "cell_type": "code",
   "metadata": {
    "id": "lZBGvhl0sDWI",
    "cell_id": "00007-84a737ed-5cd5-48a4-8a94-20dc641c20c0",
    "deepnote_to_be_reexecuted": false,
    "source_hash": "b89199d5",
    "execution_start": 1638495058586,
    "execution_millis": 1710,
    "deepnote_output_heights": [
     78.796875
    ],
    "deepnote_cell_type": "code"
   },
   "source": "# Trivial normalization\nprint(f\"BEFORE:\")\nprint(f\"Maximum value (train) = {train_images.max()}\")\nprint(f\"Maximum value (test)  = {test_images.max()}\")\n\ntrain_images = train_images / 255\ntest_images = test_images / 255\n\nprint(f\"AFTER:\")\nprint(f\"Maximum value (train) = {train_images.max()}\")\nprint(f\"Maximum value (test)  = {test_images.max()}\")\n",
   "execution_count": 5,
   "outputs": [
    {
     "name": "stdout",
     "text": "BEFORE:\nMaximum value (train) = 255\nMaximum value (test)  = 255\nAFTER:\nMaximum value (train) = 1.0\nMaximum value (test)  = 1.0\n",
     "output_type": "stream"
    }
   ]
  },
  {
   "cell_type": "code",
   "source": "train_images.max()",
   "metadata": {
    "tags": [],
    "cell_id": "00009-a8093eea-d817-40d7-bc35-e2c5b5605e73",
    "deepnote_to_be_reexecuted": false,
    "source_hash": "1ee118a2",
    "execution_start": 1638495060301,
    "execution_millis": 121,
    "deepnote_output_heights": [
     21.1875
    ],
    "deepnote_cell_type": "code"
   },
   "outputs": [
    {
     "output_type": "execute_result",
     "execution_count": 6,
     "data": {
      "text/plain": "1.0"
     },
     "metadata": {}
    }
   ],
   "execution_count": 6
  },
  {
   "cell_type": "code",
   "source": "train_images.shape",
   "metadata": {
    "tags": [],
    "cell_id": "00010-163205e2-1963-47f0-aeea-8df6f1ae3364",
    "deepnote_to_be_reexecuted": false,
    "source_hash": "216d2d4c",
    "execution_start": 1638495060425,
    "execution_millis": 7,
    "deepnote_output_heights": [
     21.1875
    ],
    "deepnote_cell_type": "code"
   },
   "outputs": [
    {
     "output_type": "execute_result",
     "execution_count": 7,
     "data": {
      "text/plain": "(50000, 32, 32, 3)"
     },
     "metadata": {}
    }
   ],
   "execution_count": 7
  },
  {
   "cell_type": "markdown",
   "source": "Build a sequential model with the following architecture:\n\nconv2d - (None, 30, 30, 32)  \n_________________________________________________________________\nmax_pooling2d - (None, 15, 15, 32)        \n_________________________________________________________________\nconv2d - (None, 13, 13, 64)\n_________________________________________________________________\nmax_pooling2d - (None, 6, 6, 64)        \n_________________________________________________________________\nconv2d - (None, 4, 4, 128) \n_________________________________________________________________\nflatten - (None, 2048)       \n_________________________________________________________________\ndense - (None, 64)    \n_________________________________________________________________\ndense - (None, 10)       \n",
   "metadata": {
    "id": "aCaySZ8Ss_aj",
    "cell_id": "00008-d51c4016-49a2-451e-ae46-7dde74e2624d",
    "deepnote_cell_type": "markdown"
   }
  },
  {
   "cell_type": "code",
   "metadata": {
    "id": "RFsiddt20yLp",
    "cell_id": "00009-7600c97b-e941-4e10-b362-fb8bdfc2b875",
    "deepnote_to_be_reexecuted": false,
    "source_hash": "6ba196f6",
    "execution_start": 1638495060442,
    "execution_millis": 1,
    "deepnote_cell_type": "code"
   },
   "source": "# Defining the model using a function\n\ndef new_model(**kwargs):\n\n    inputs          = tf.keras.Input(shape=(32, 32, 3))\n    conv2d_1        = tf.keras.layers.Conv2D(32, (3,3), activation=\"relu\")(inputs)\n    max_pooling2d_2 = tf.keras.layers.MaxPooling2D()(conv2d_1)\n    conv2d_3        = tf.keras.layers.Conv2D(64, (3,3), activation=\"relu\")(max_pooling2d_2)\n    max_pooling2d_4 = tf.keras.layers.MaxPooling2D(padding=\"valid\")(conv2d_3)\n    conv2d_5        = tf.keras.layers.Conv2D(128, (3,3), activation=\"relu\")(max_pooling2d_4)\n    flatten_6       = tf.keras.layers.Flatten()(conv2d_5)\n    dense_7         = tf.keras.layers.Dense(64, activation=\"relu\")(flatten_6)\n    outputs         = tf.keras.layers.Dense(10, activation=\"softmax\")(dense_7)\n\n    model           = tf.keras.Model(inputs=inputs, outputs=outputs, **kwargs)\n\n    model.summary()\n\n    return model\n",
   "execution_count": 8,
   "outputs": []
  },
  {
   "cell_type": "code",
   "source": "# Our first CNN model\nm1 = new_model(name=\"CNN\")",
   "metadata": {
    "tags": [],
    "cell_id": "00013-b5612559-280c-4416-9c56-4d41a01a0229",
    "deepnote_to_be_reexecuted": false,
    "source_hash": "fc973ebe",
    "execution_start": 1638495060449,
    "execution_millis": 864,
    "deepnote_cell_type": "code"
   },
   "outputs": [
    {
     "name": "stdout",
     "text": "Model: \"CNN\"\n_________________________________________________________________\nLayer (type)                 Output Shape              Param #   \n=================================================================\ninput_1 (InputLayer)         [(None, 32, 32, 3)]       0         \n_________________________________________________________________\nconv2d (Conv2D)              (None, 30, 30, 32)        896       \n_________________________________________________________________\nmax_pooling2d (MaxPooling2D) (None, 15, 15, 32)        0         \n_________________________________________________________________\nconv2d_1 (Conv2D)            (None, 13, 13, 64)        18496     \n_________________________________________________________________\nmax_pooling2d_1 (MaxPooling2 (None, 6, 6, 64)          0         \n_________________________________________________________________\nconv2d_2 (Conv2D)            (None, 4, 4, 128)         73856     \n_________________________________________________________________\nflatten (Flatten)            (None, 2048)              0         \n_________________________________________________________________\ndense (Dense)                (None, 64)                131136    \n_________________________________________________________________\ndense_1 (Dense)              (None, 10)                650       \n=================================================================\nTotal params: 225,034\nTrainable params: 225,034\nNon-trainable params: 0\n_________________________________________________________________\n",
     "output_type": "stream"
    }
   ],
   "execution_count": 9
  },
  {
   "cell_type": "markdown",
   "source": "Compile the model using Adam optimizer, sparse categorical crossentropy as loss function, and choose an appropriate metric for classification. Use 10 epochs to train the model.",
   "metadata": {
    "id": "2blKJv2huDPh",
    "cell_id": "00010-fb73ed15-ce67-4982-8411-129a72172d04",
    "deepnote_cell_type": "markdown"
   }
  },
  {
   "cell_type": "code",
   "metadata": {
    "id": "flXnIRIG09nO",
    "cell_id": "00011-88d4945d-bc75-4f5c-98b4-440bb76db940",
    "deepnote_to_be_reexecuted": false,
    "source_hash": "1df6b0c4",
    "execution_start": 1638495061096,
    "execution_millis": 6,
    "deepnote_cell_type": "code"
   },
   "source": "# Compile code\noptimizer = tf.keras.optimizers.Adam()\nloss      = tf.keras.losses.SparseCategoricalCrossentropy()\nmetrics   = [\"sparse_categorical_accuracy\"]\n\nm1.compile(\n    optimizer=optimizer,\n    loss=loss,\n    metrics=metrics\n)\n",
   "execution_count": 10,
   "outputs": []
  },
  {
   "cell_type": "code",
   "source": "# Fit model\nepochs=10\nvalidation_split=0.2\nshuffle=True\n\ndatagen = tf.keras.preprocessing.image.ImageDataGenerator(validation_split=validation_split)\n\ntrain_generator = datagen.flow(train_images, y=train_labels)\ntest_generator  = datagen.flow(test_images, y=test_labels)\n\nh1 = m1.fit(\n        train_generator,\n        steps_per_epoch = len(train_images) // 32,\n        epochs=epochs\n    )",
   "metadata": {
    "tags": [],
    "cell_id": "00016-03fdc2a7-3c93-4dd4-b568-808d5b4580b3",
    "deepnote_to_be_reexecuted": false,
    "source_hash": "e32696e8",
    "execution_start": 1638495066625,
    "execution_millis": 670323,
    "deepnote_cell_type": "code"
   },
   "outputs": [
    {
     "name": "stdout",
     "text": "Epoch 1/10\n1562/1562 [==============================] - 67s 42ms/step - loss: 1.7598 - sparse_categorical_accuracy: 0.3458\nEpoch 2/10\n1562/1562 [==============================] - 65s 42ms/step - loss: 1.1489 - sparse_categorical_accuracy: 0.5902\nEpoch 3/10\n1562/1562 [==============================] - 65s 41ms/step - loss: 0.9602 - sparse_categorical_accuracy: 0.6633\nEpoch 4/10\n1562/1562 [==============================] - 73s 47ms/step - loss: 0.8345 - sparse_categorical_accuracy: 0.7082\nEpoch 5/10\n1562/1562 [==============================] - 65s 42ms/step - loss: 0.7543 - sparse_categorical_accuracy: 0.7353\nEpoch 6/10\n1562/1562 [==============================] - 71s 46ms/step - loss: 0.6917 - sparse_categorical_accuracy: 0.7590\nEpoch 7/10\n1562/1562 [==============================] - 70s 45ms/step - loss: 0.6335 - sparse_categorical_accuracy: 0.7772\nEpoch 8/10\n1562/1562 [==============================] - 64s 41ms/step - loss: 0.5885 - sparse_categorical_accuracy: 0.7936\nEpoch 9/10\n1562/1562 [==============================] - 65s 41ms/step - loss: 0.5326 - sparse_categorical_accuracy: 0.8121\nEpoch 10/10\n1562/1562 [==============================] - 64s 41ms/step - loss: 0.4879 - sparse_categorical_accuracy: 0.8300\n",
     "output_type": "stream"
    }
   ],
   "execution_count": 11
  },
  {
   "cell_type": "code",
   "source": "# This function will retrieve and plot all observed model performance metrics\n\ndef show_history(s, suptitle=\"\", scale = \"linear\"):\n    \n    # Automatically retrieve list of all metrics from history\n    metrics = list(s.history.keys())\n\n    # Calculate amount of metrics\n    nrows = len(metrics)\n\n    # Set figure size to 12 x N*5 (where N is number of metrics [nrows])\n    fig, axs = plt.subplots(nrows=nrows, ncols=1, figsize=(12, 5 * nrows))\n\n    fig.suptitle(suptitle)\n\n    index = -1\n\n    for metric in metrics:\n        index+=1\n\n        axs[index].plot(s.history[metric], label=metric)\n        #axs[index].plot(s.history[\"val_\"+metric], label=\"val_\"+metric)\n        axs[index].set_yscale(scale)\n        axs[index].legend()\n        axs[index].grid(b=True, which=\"major\", axis=\"y\")\n        axs[index].set_title(\"Observed \"+metric)\n    \n    plt.show()\n    plt.close()",
   "metadata": {
    "tags": [],
    "cell_id": "00017-1755b0f6-09f3-4ecd-acfe-38f58e83b9af",
    "deepnote_to_be_reexecuted": false,
    "source_hash": "3582c63",
    "execution_start": 1638496068021,
    "execution_millis": 0,
    "deepnote_cell_type": "code"
   },
   "outputs": [],
   "execution_count": 24
  },
  {
   "cell_type": "code",
   "source": "show_history(h1)",
   "metadata": {
    "tags": [],
    "cell_id": "00018-5566a0be-b13b-4684-b7ac-8b90b7709ba1",
    "deepnote_to_be_reexecuted": false,
    "source_hash": "84b68225",
    "execution_start": 1638496070792,
    "execution_millis": 389,
    "deepnote_output_heights": [
     592,
     309
    ],
    "deepnote_cell_type": "code"
   },
   "outputs": [
    {
     "data": {
      "text/plain": "<Figure size 864x720 with 2 Axes>",
      "image/png": "[encoded data removed]"
     },
     "metadata": {
      "needs_background": "light",
      "image/png": {
       "width": 713,
       "height": 590
      }
     },
     "output_type": "display_data"
    }
   ],
   "execution_count": 25
  },
  {
   "cell_type": "markdown",
   "source": "Evaluate the model on test data to get the loss and accuracy metrics",
   "metadata": {
    "id": "tyfR1bCiucDE",
    "cell_id": "00012-8c924751-d1f1-4255-8fbd-65b93da52ede",
    "deepnote_cell_type": "markdown"
   }
  },
  {
   "cell_type": "code",
   "metadata": {
    "id": "CA4Hsi6B035n",
    "cell_id": "00013-8472c5bd-85ce-4bbf-9a6b-f406f5c5b268",
    "deepnote_to_be_reexecuted": false,
    "source_hash": "a14bec58",
    "execution_start": 1638495818362,
    "execution_millis": 4398,
    "deepnote_output_heights": [
     null,
     21.1875
    ],
    "deepnote_cell_type": "code"
   },
   "source": "# Evaluation code\n\ntest_generator  = datagen.flow(test_images, y=test_labels)\n\nm1.evaluate(\n    x=test_generator,\n    batch_size=len(test_labels)\n)\n",
   "execution_count": 17,
   "outputs": [
    {
     "name": "stdout",
     "text": "313/313 [==============================] - 4s 13ms/step - loss: 0.9121 - sparse_categorical_accuracy: 0.7138\n",
     "output_type": "stream"
    },
    {
     "output_type": "execute_result",
     "execution_count": 17,
     "data": {
      "text/plain": "[0.9120549559593201, 0.7138000130653381]"
     },
     "metadata": {}
    }
   ]
  },
  {
   "cell_type": "markdown",
   "source": "<a style='text-decoration:none;line-height:16px;display:flex;color:#5B5B62;padding:10px;justify-content:end;' href='https://deepnote.com?utm_source=created-in-deepnote-cell&projectId=87989bd7-7a25-4e61-b3c0-cb24ea7ca1f8' target=\"_blank\">\n<img alt='Created in deepnote.com' style='display:inline;max-height:16px;margin:0px;margin-right:7.5px;' src='data:image/svg+xml;base64,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' > </img>\nCreated in <span style='font-weight:600;margin-left:4px;'>Deepnote</span></a>",
   "metadata": {
    "tags": [],
    "created_in_deepnote_cell": true,
    "deepnote_cell_type": "markdown"
   }
  }
 ],
 "nbformat": 4,
 "nbformat_minor": 0,
 "metadata": {
  "colab": {
   "name": "Quest CNN Classification v2.ipynb",
   "provenance": [],
   "collapsed_sections": []
  },
  "kernelspec": {
   "name": "python3",
   "display_name": "Python 3"
  },
  "deepnote_notebook_id": "f84e9b48-c405-4f3d-80ed-7a13516fa1b3",
  "deepnote": {},
  "deepnote_execution_queue": []
 }
}