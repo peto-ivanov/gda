{
 "cells": [
  {
   "cell_type": "markdown",
   "source": [
    "# Cross Validation"
   ],
   "metadata": {}
  },
  {
   "cell_type": "markdown",
   "source": [
    "We're revisiting the Titanic. [The data set is located here](https://web.stanford.edu/class/archive/cs/cs109/cs109.1166/stuff/titanic.csv). Using this data set:\r\n",
    "\r\n",
    "* You will perform a supervised classification on the `survived` column, by performing a traintestsplit (without fixing the random_state), then a classifier of your choice (knn, decision tree, logistic regression, etc...). You have to clearly show the accuracy score of the training game and the accuracy score of the test game.\r\n",
    "\r\n",
    "* In a new block of code, you will perform exactly the same step as before. As you have not set the random_state, the score should be different.\r\n",
    "\r\n",
    "* With the same classifier, you will run a cross-validation with a split in 6 parts. Does the CrossValidation strengthen your confidence in this prediction?\r\n",
    "\r\n",
    "* You will calculate the mean and standard deviation of the 6 scores obtained."
   ],
   "metadata": {}
  },
  {
   "cell_type": "code",
   "execution_count": 19,
   "source": [
    "# Importing the base libraries\r\n",
    "import numpy as np\r\n",
    "import pandas as pd\r\n",
    "\r\n",
    "from sklearn.pipeline import make_pipeline\r\n",
    "from sklearn.compose import make_column_transformer\r\n",
    "from sklearn.preprocessing import OrdinalEncoder\r\n",
    "from sklearn.model_selection import train_test_split, cross_validate, KFold\r\n",
    "from sklearn.ensemble import RandomForestClassifier"
   ],
   "outputs": [],
   "metadata": {}
  },
  {
   "cell_type": "code",
   "execution_count": 3,
   "source": [
    "# Loading the data to the pandas DataFrame\r\n",
    "df = pd.read_csv(\"https://web.stanford.edu/class/archive/cs/cs109/cs109.1166/stuff/titanic.csv\")\r\n",
    "\r\n",
    "# Let's have a quick look\r\n",
    "df"
   ],
   "outputs": [
    {
     "output_type": "execute_result",
     "data": {
      "text/html": [
       "<div>\n",
       "<style scoped>\n",
       "    .dataframe tbody tr th:only-of-type {\n",
       "        vertical-align: middle;\n",
       "    }\n",
       "\n",
       "    .dataframe tbody tr th {\n",
       "        vertical-align: top;\n",
       "    }\n",
       "\n",
       "    .dataframe thead th {\n",
       "        text-align: right;\n",
       "    }\n",
       "</style>\n",
       "<table border=\"1\" class=\"dataframe\">\n",
       "  <thead>\n",
       "    <tr style=\"text-align: right;\">\n",
       "      <th></th>\n",
       "      <th>Survived</th>\n",
       "      <th>Pclass</th>\n",
       "      <th>Name</th>\n",
       "      <th>Sex</th>\n",
       "      <th>Age</th>\n",
       "      <th>Siblings/Spouses Aboard</th>\n",
       "      <th>Parents/Children Aboard</th>\n",
       "      <th>Fare</th>\n",
       "    </tr>\n",
       "  </thead>\n",
       "  <tbody>\n",
       "    <tr>\n",
       "      <th>0</th>\n",
       "      <td>0</td>\n",
       "      <td>3</td>\n",
       "      <td>Mr. Owen Harris Braund</td>\n",
       "      <td>male</td>\n",
       "      <td>22.0</td>\n",
       "      <td>1</td>\n",
       "      <td>0</td>\n",
       "      <td>7.2500</td>\n",
       "    </tr>\n",
       "    <tr>\n",
       "      <th>1</th>\n",
       "      <td>1</td>\n",
       "      <td>1</td>\n",
       "      <td>Mrs. John Bradley (Florence Briggs Thayer) Cum...</td>\n",
       "      <td>female</td>\n",
       "      <td>38.0</td>\n",
       "      <td>1</td>\n",
       "      <td>0</td>\n",
       "      <td>71.2833</td>\n",
       "    </tr>\n",
       "    <tr>\n",
       "      <th>2</th>\n",
       "      <td>1</td>\n",
       "      <td>3</td>\n",
       "      <td>Miss. Laina Heikkinen</td>\n",
       "      <td>female</td>\n",
       "      <td>26.0</td>\n",
       "      <td>0</td>\n",
       "      <td>0</td>\n",
       "      <td>7.9250</td>\n",
       "    </tr>\n",
       "    <tr>\n",
       "      <th>3</th>\n",
       "      <td>1</td>\n",
       "      <td>1</td>\n",
       "      <td>Mrs. Jacques Heath (Lily May Peel) Futrelle</td>\n",
       "      <td>female</td>\n",
       "      <td>35.0</td>\n",
       "      <td>1</td>\n",
       "      <td>0</td>\n",
       "      <td>53.1000</td>\n",
       "    </tr>\n",
       "    <tr>\n",
       "      <th>4</th>\n",
       "      <td>0</td>\n",
       "      <td>3</td>\n",
       "      <td>Mr. William Henry Allen</td>\n",
       "      <td>male</td>\n",
       "      <td>35.0</td>\n",
       "      <td>0</td>\n",
       "      <td>0</td>\n",
       "      <td>8.0500</td>\n",
       "    </tr>\n",
       "    <tr>\n",
       "      <th>...</th>\n",
       "      <td>...</td>\n",
       "      <td>...</td>\n",
       "      <td>...</td>\n",
       "      <td>...</td>\n",
       "      <td>...</td>\n",
       "      <td>...</td>\n",
       "      <td>...</td>\n",
       "      <td>...</td>\n",
       "    </tr>\n",
       "    <tr>\n",
       "      <th>882</th>\n",
       "      <td>0</td>\n",
       "      <td>2</td>\n",
       "      <td>Rev. Juozas Montvila</td>\n",
       "      <td>male</td>\n",
       "      <td>27.0</td>\n",
       "      <td>0</td>\n",
       "      <td>0</td>\n",
       "      <td>13.0000</td>\n",
       "    </tr>\n",
       "    <tr>\n",
       "      <th>883</th>\n",
       "      <td>1</td>\n",
       "      <td>1</td>\n",
       "      <td>Miss. Margaret Edith Graham</td>\n",
       "      <td>female</td>\n",
       "      <td>19.0</td>\n",
       "      <td>0</td>\n",
       "      <td>0</td>\n",
       "      <td>30.0000</td>\n",
       "    </tr>\n",
       "    <tr>\n",
       "      <th>884</th>\n",
       "      <td>0</td>\n",
       "      <td>3</td>\n",
       "      <td>Miss. Catherine Helen Johnston</td>\n",
       "      <td>female</td>\n",
       "      <td>7.0</td>\n",
       "      <td>1</td>\n",
       "      <td>2</td>\n",
       "      <td>23.4500</td>\n",
       "    </tr>\n",
       "    <tr>\n",
       "      <th>885</th>\n",
       "      <td>1</td>\n",
       "      <td>1</td>\n",
       "      <td>Mr. Karl Howell Behr</td>\n",
       "      <td>male</td>\n",
       "      <td>26.0</td>\n",
       "      <td>0</td>\n",
       "      <td>0</td>\n",
       "      <td>30.0000</td>\n",
       "    </tr>\n",
       "    <tr>\n",
       "      <th>886</th>\n",
       "      <td>0</td>\n",
       "      <td>3</td>\n",
       "      <td>Mr. Patrick Dooley</td>\n",
       "      <td>male</td>\n",
       "      <td>32.0</td>\n",
       "      <td>0</td>\n",
       "      <td>0</td>\n",
       "      <td>7.7500</td>\n",
       "    </tr>\n",
       "  </tbody>\n",
       "</table>\n",
       "<p>887 rows × 8 columns</p>\n",
       "</div>"
      ],
      "text/plain": [
       "     Survived  Pclass                                               Name  \\\n",
       "0           0       3                             Mr. Owen Harris Braund   \n",
       "1           1       1  Mrs. John Bradley (Florence Briggs Thayer) Cum...   \n",
       "2           1       3                              Miss. Laina Heikkinen   \n",
       "3           1       1        Mrs. Jacques Heath (Lily May Peel) Futrelle   \n",
       "4           0       3                            Mr. William Henry Allen   \n",
       "..        ...     ...                                                ...   \n",
       "882         0       2                               Rev. Juozas Montvila   \n",
       "883         1       1                        Miss. Margaret Edith Graham   \n",
       "884         0       3                     Miss. Catherine Helen Johnston   \n",
       "885         1       1                               Mr. Karl Howell Behr   \n",
       "886         0       3                                 Mr. Patrick Dooley   \n",
       "\n",
       "        Sex   Age  Siblings/Spouses Aboard  Parents/Children Aboard     Fare  \n",
       "0      male  22.0                        1                        0   7.2500  \n",
       "1    female  38.0                        1                        0  71.2833  \n",
       "2    female  26.0                        0                        0   7.9250  \n",
       "3    female  35.0                        1                        0  53.1000  \n",
       "4      male  35.0                        0                        0   8.0500  \n",
       "..      ...   ...                      ...                      ...      ...  \n",
       "882    male  27.0                        0                        0  13.0000  \n",
       "883  female  19.0                        0                        0  30.0000  \n",
       "884  female   7.0                        1                        2  23.4500  \n",
       "885    male  26.0                        0                        0  30.0000  \n",
       "886    male  32.0                        0                        0   7.7500  \n",
       "\n",
       "[887 rows x 8 columns]"
      ]
     },
     "metadata": {},
     "execution_count": 3
    }
   ],
   "metadata": {}
  },
  {
   "cell_type": "code",
   "execution_count": 18,
   "source": [
    "df.info()"
   ],
   "outputs": [
    {
     "output_type": "stream",
     "name": "stdout",
     "text": [
      "<class 'pandas.core.frame.DataFrame'>\n",
      "RangeIndex: 887 entries, 0 to 886\n",
      "Data columns (total 8 columns):\n",
      " #   Column                   Non-Null Count  Dtype  \n",
      "---  ------                   --------------  -----  \n",
      " 0   Survived                 887 non-null    int64  \n",
      " 1   Pclass                   887 non-null    int64  \n",
      " 2   Name                     887 non-null    object \n",
      " 3   Sex                      887 non-null    object \n",
      " 4   Age                      887 non-null    float64\n",
      " 5   Siblings/Spouses Aboard  887 non-null    int64  \n",
      " 6   Parents/Children Aboard  887 non-null    int64  \n",
      " 7   Fare                     887 non-null    float64\n",
      "dtypes: float64(2), int64(4), object(2)\n",
      "memory usage: 55.6+ KB\n"
     ]
    }
   ],
   "metadata": {}
  },
  {
   "cell_type": "markdown",
   "source": [
    "## Task 1"
   ],
   "metadata": {}
  },
  {
   "cell_type": "markdown",
   "source": [
    "\r\n",
    "* You will perform a supervised classification on the `survived` column, by performing a traintestsplit (without fixing the random_state), then a classifier of your choice (knn, decision tree, logistic regression, etc...). You have to clearly show the accuracy score of the training game and the accuracy score of the test game."
   ],
   "metadata": {}
  },
  {
   "cell_type": "code",
   "execution_count": 23,
   "source": [
    "# Selecting features\r\n",
    "# I removed \"Name\" as I don't want to extract sex from it (we have that feature)\r\n",
    "# I don't want to guess age from the title in the \"Name\" as well for the simplicity of the quest\r\n",
    "# The name and surname isn't right now interesting for me in the context of survival\r\n",
    "features = [\"Pclass\", \"Sex\", \"Age\", \"Siblings/Spouses Aboard\", \"Parents/Children Aboard\", \"Fare\"]\r\n",
    "target   = \"Survived\"\r\n",
    "\r\n",
    "# Making the train-test-split\r\n",
    "X_train, X_test, y_train, y_test = train_test_split(df[features], df[target], test_size=0.20)\r\n",
    "\r\n",
    "# Getting the sizes\r\n",
    "print(f\"Shape of training set = {X_train.shape}\")\r\n",
    "print(f\"Shape of testing set  = {X_test.shape}\")\r\n",
    "\r\n",
    "# Since we need to do some preprocessing too,\r\n",
    "# let's make a column transformer including the OrdinalEncoder and\r\n",
    "# later a pipeline\r\n",
    "\r\n",
    "# Column transformer passes through everything\r\n",
    "# except \"Sex\", which is ordinally encoded\r\n",
    "column_transformer = make_column_transformer(\r\n",
    "    (\"passthrough\", [\"Pclass\"]),\r\n",
    "    (OrdinalEncoder(), [\"Sex\"]),\r\n",
    "    remainder=\"passthrough\")\r\n",
    "\r\n",
    "# Pipe contains from the column transformer and RFC\r\n",
    "pipe = make_pipeline(column_transformer, RandomForestClassifier())\r\n",
    "\r\n",
    "# Let's fit the pipe\r\n",
    "pipe.fit(X_train, y_train)\r\n",
    "\r\n",
    "# Let's compute the prediction scores (default = \"accuracy\")\r\n",
    "scores_train = pipe.score(X_train, y_train)\r\n",
    "scores_test = pipe.score(X_test, y_test)\r\n",
    "\r\n",
    "# Output\r\n",
    "print(f\"RFC accuracy on the training set = {round(scores_train * 100, 2)}%\")\r\n",
    "print(f\"RFC accuracy on the testing set  = {round(scores_test * 100, 2)}%\")"
   ],
   "outputs": [
    {
     "output_type": "stream",
     "name": "stdout",
     "text": [
      "Shape of training set = (709, 6)\n",
      "Shape of testing set  = (178, 6)\n",
      "RFC accuracy on the training set = 98.73%\n",
      "RFC accuracy on the testing set  = 79.78%\n"
     ]
    }
   ],
   "metadata": {}
  },
  {
   "cell_type": "markdown",
   "source": [
    "## Task 2"
   ],
   "metadata": {}
  },
  {
   "cell_type": "markdown",
   "source": [
    "* In a new block of code, you will perform exactly the same step as before. As you have not set the random_state, the score should be different."
   ],
   "metadata": {}
  },
  {
   "cell_type": "code",
   "execution_count": 24,
   "source": [
    "# Doing everything once again\r\n",
    "\r\n",
    "# Selecting features\r\n",
    "features = [\"Pclass\", \"Sex\", \"Age\", \"Siblings/Spouses Aboard\", \"Parents/Children Aboard\", \"Fare\"]\r\n",
    "target   = \"Survived\"\r\n",
    "\r\n",
    "# Making the train-test-split\r\n",
    "X_train, X_test, y_train, y_test = train_test_split(df[features], df[target], test_size=0.20)\r\n",
    "\r\n",
    "# Getting the sizes\r\n",
    "print(f\"Shape of training set = {X_train.shape}\")\r\n",
    "print(f\"Shape of testing set  = {X_test.shape}\")\r\n",
    "\r\n",
    "# Making column transformer\r\n",
    "column_transformer = make_column_transformer(\r\n",
    "    (\"passthrough\", [\"Pclass\"]),\r\n",
    "    (OrdinalEncoder(), [\"Sex\"]),\r\n",
    "    remainder=\"passthrough\")\r\n",
    "\r\n",
    "# Making pipeline\r\n",
    "pipe = make_pipeline(column_transformer, RandomForestClassifier())\r\n",
    "\r\n",
    "# Fitting the pipe\r\n",
    "pipe.fit(X_train, y_train)\r\n",
    "\r\n",
    "# Getting the prediction scores (default = \"accuracy\")\r\n",
    "scores_train = pipe.score(X_train, y_train)\r\n",
    "scores_test = pipe.score(X_test, y_test)\r\n",
    "\r\n",
    "# Output\r\n",
    "print(f\"RFC accuracy on the training set = {round(scores_train * 100, 2)}%\")\r\n",
    "print(f\"RFC accuracy on the testing set  = {round(scores_test * 100, 2)}%\")"
   ],
   "outputs": [
    {
     "output_type": "stream",
     "name": "stdout",
     "text": [
      "Shape of training set = (709, 6)\n",
      "Shape of testing set  = (178, 6)\n",
      "RFC accuracy on the training set = 98.45%\n",
      "RFC accuracy on the testing set  = 82.02%\n"
     ]
    }
   ],
   "metadata": {}
  },
  {
   "cell_type": "markdown",
   "source": [
    "## Task 3 and 4"
   ],
   "metadata": {}
  },
  {
   "cell_type": "markdown",
   "source": [
    "* With the same classifier, you will run a cross-validation with a split in 6 parts. Does the CrossValidation strengthen your confidence in this prediction?\r\n",
    "* You will calculate the mean and standard deviation of the 6 scores obtained.\r\n"
   ],
   "metadata": {}
  },
  {
   "cell_type": "code",
   "execution_count": 31,
   "source": [
    "# Setting up cross-validation strategy\r\n",
    "cv = KFold(n_splits=6, shuffle=True)\r\n",
    "\r\n",
    "# Running the cross-validation\r\n",
    "results = cross_validate(pipe, X_train, y_train, scoring=\"accuracy\", cv=cv, return_train_score=True)\r\n",
    "\r\n",
    "# Output\r\n",
    "print(f\"Mean time to fit the model             = {round(results['fit_time'].mean(), 2)} secs\")\r\n",
    "print(f\"Mean time to score the model           = {round(results['score_time'].mean(), 2)} secs\")\r\n",
    "print(f\"Mean accuracy of the model (train set) = {round(results['train_score'].mean() * 100, 2)}% ±{round(results['train_score'].std() * 100, 2)}%\")\r\n",
    "print(f\"Mean accuracy of the model (test set)  = {round(results['test_score'].mean() * 100, 2)}% ±{round(results['test_score'].std() * 100, 2)}%\")"
   ],
   "outputs": [
    {
     "output_type": "stream",
     "name": "stdout",
     "text": [
      "Mean time to fit the model             = 0.22 secs\n",
      "Mean time to score the model           = 0.02 secs\n",
      "Mean accuracy of the model (train set) = 98.79% ±0.25%\n",
      "Mean accuracy of the model (test set)  = 79.69% ±3.87%\n"
     ]
    }
   ],
   "metadata": {}
  },
  {
   "cell_type": "markdown",
   "source": [
    "__Answer__:  \r\n",
    "The scores suggest the model seems to be _overfitting_, but the low variance of the prediction indicates it's _stable_ enough."
   ],
   "metadata": {}
  }
 ],
 "metadata": {
  "orig_nbformat": 4,
  "language_info": {
   "name": "python",
   "version": "3.8.8",
   "mimetype": "text/x-python",
   "codemirror_mode": {
    "name": "ipython",
    "version": 3
   },
   "pygments_lexer": "ipython3",
   "nbconvert_exporter": "python",
   "file_extension": ".py"
  },
  "kernelspec": {
   "name": "python3",
   "display_name": "Python 3.8.8 64-bit ('base': conda)"
  },
  "interpreter": {
   "hash": "720fa6d0f11b7ec96fc5a2305c253a374b95718251f66e414cba1cc0c6bb49e9"
  }
 },
 "nbformat": 4,
 "nbformat_minor": 2
}