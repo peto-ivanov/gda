{
  "nbformat": 4,
  "nbformat_minor": 2,
  "metadata": {
    "colab": {
      "name": "RandomForest.ipynb",
      "provenance": [],
      "collapsed_sections": []
    },
    "kernelspec": {
      "name": "python3",
      "display_name": "Python 3.8.8 64-bit ('base': conda)"
    },
    "language_info": {
      "name": "python",
      "version": "3.8.8",
      "mimetype": "text/x-python",
      "codemirror_mode": {
        "name": "ipython",
        "version": 3
      },
      "pygments_lexer": "ipython3",
      "nbconvert_exporter": "python",
      "file_extension": ".py"
    },
    "interpreter": {
      "hash": "720fa6d0f11b7ec96fc5a2305c253a374b95718251f66e414cba1cc0c6bb49e9"
    }
  },
  "cells": [
    {
      "cell_type": "markdown",
      "source": [
        "## Random Forests\n",
        "Here, we're going to learn how to use Random Forests through the use of the example given in \"An Introduction to Statistical Learning\" but adapted for Python rather than R. If given the chance, I can't recommend this book enough. It's the easier, introductory version of what's often called the \"Bible\" of Machine Learning - \"The Elements of Statistical Learning\""
      ],
      "metadata": {
        "id": "55CvTNrtu2sE"
      }
    },
    {
      "cell_type": "code",
      "execution_count": 11,
      "source": [
        "# Import the necessary library and datasets\r\n",
        "import pandas as pd\r\n",
        "import numpy as np\r\n",
        "from sklearn.datasets import load_boston\r\n",
        "from sklearn.ensemble import RandomForestRegressor\r\n",
        "from sklearn.model_selection import train_test_split\r\n",
        "from sklearn.metrics import mean_squared_error, r2_score\r\n",
        "import matplotlib.pyplot as plt\r\n",
        "import seaborn as sns\r\n",
        "\r\n",
        "data = pd.DataFrame(load_boston().data)\r\n",
        "data.columns = load_boston().feature_names\r\n",
        "data['MEDV'] = load_boston().target"
      ],
      "outputs": [],
      "metadata": {
        "id": "DKq15qbGuuhu"
      }
    },
    {
      "cell_type": "code",
      "execution_count": 2,
      "source": [
        "data.head()"
      ],
      "outputs": [
        {
          "output_type": "execute_result",
          "data": {
            "text/html": [
              "<div>\n",
              "<style scoped>\n",
              "    .dataframe tbody tr th:only-of-type {\n",
              "        vertical-align: middle;\n",
              "    }\n",
              "\n",
              "    .dataframe tbody tr th {\n",
              "        vertical-align: top;\n",
              "    }\n",
              "\n",
              "    .dataframe thead th {\n",
              "        text-align: right;\n",
              "    }\n",
              "</style>\n",
              "<table border=\"1\" class=\"dataframe\">\n",
              "  <thead>\n",
              "    <tr style=\"text-align: right;\">\n",
              "      <th></th>\n",
              "      <th>CRIM</th>\n",
              "      <th>ZN</th>\n",
              "      <th>INDUS</th>\n",
              "      <th>CHAS</th>\n",
              "      <th>NOX</th>\n",
              "      <th>RM</th>\n",
              "      <th>AGE</th>\n",
              "      <th>DIS</th>\n",
              "      <th>RAD</th>\n",
              "      <th>TAX</th>\n",
              "      <th>PTRATIO</th>\n",
              "      <th>B</th>\n",
              "      <th>LSTAT</th>\n",
              "      <th>MEDV</th>\n",
              "    </tr>\n",
              "  </thead>\n",
              "  <tbody>\n",
              "    <tr>\n",
              "      <th>0</th>\n",
              "      <td>0.00632</td>\n",
              "      <td>18.0</td>\n",
              "      <td>2.31</td>\n",
              "      <td>0.0</td>\n",
              "      <td>0.538</td>\n",
              "      <td>6.575</td>\n",
              "      <td>65.2</td>\n",
              "      <td>4.0900</td>\n",
              "      <td>1.0</td>\n",
              "      <td>296.0</td>\n",
              "      <td>15.3</td>\n",
              "      <td>396.90</td>\n",
              "      <td>4.98</td>\n",
              "      <td>24.0</td>\n",
              "    </tr>\n",
              "    <tr>\n",
              "      <th>1</th>\n",
              "      <td>0.02731</td>\n",
              "      <td>0.0</td>\n",
              "      <td>7.07</td>\n",
              "      <td>0.0</td>\n",
              "      <td>0.469</td>\n",
              "      <td>6.421</td>\n",
              "      <td>78.9</td>\n",
              "      <td>4.9671</td>\n",
              "      <td>2.0</td>\n",
              "      <td>242.0</td>\n",
              "      <td>17.8</td>\n",
              "      <td>396.90</td>\n",
              "      <td>9.14</td>\n",
              "      <td>21.6</td>\n",
              "    </tr>\n",
              "    <tr>\n",
              "      <th>2</th>\n",
              "      <td>0.02729</td>\n",
              "      <td>0.0</td>\n",
              "      <td>7.07</td>\n",
              "      <td>0.0</td>\n",
              "      <td>0.469</td>\n",
              "      <td>7.185</td>\n",
              "      <td>61.1</td>\n",
              "      <td>4.9671</td>\n",
              "      <td>2.0</td>\n",
              "      <td>242.0</td>\n",
              "      <td>17.8</td>\n",
              "      <td>392.83</td>\n",
              "      <td>4.03</td>\n",
              "      <td>34.7</td>\n",
              "    </tr>\n",
              "    <tr>\n",
              "      <th>3</th>\n",
              "      <td>0.03237</td>\n",
              "      <td>0.0</td>\n",
              "      <td>2.18</td>\n",
              "      <td>0.0</td>\n",
              "      <td>0.458</td>\n",
              "      <td>6.998</td>\n",
              "      <td>45.8</td>\n",
              "      <td>6.0622</td>\n",
              "      <td>3.0</td>\n",
              "      <td>222.0</td>\n",
              "      <td>18.7</td>\n",
              "      <td>394.63</td>\n",
              "      <td>2.94</td>\n",
              "      <td>33.4</td>\n",
              "    </tr>\n",
              "    <tr>\n",
              "      <th>4</th>\n",
              "      <td>0.06905</td>\n",
              "      <td>0.0</td>\n",
              "      <td>2.18</td>\n",
              "      <td>0.0</td>\n",
              "      <td>0.458</td>\n",
              "      <td>7.147</td>\n",
              "      <td>54.2</td>\n",
              "      <td>6.0622</td>\n",
              "      <td>3.0</td>\n",
              "      <td>222.0</td>\n",
              "      <td>18.7</td>\n",
              "      <td>396.90</td>\n",
              "      <td>5.33</td>\n",
              "      <td>36.2</td>\n",
              "    </tr>\n",
              "  </tbody>\n",
              "</table>\n",
              "</div>"
            ],
            "text/plain": [
              "      CRIM    ZN  INDUS  CHAS    NOX     RM   AGE     DIS  RAD    TAX  \\\n",
              "0  0.00632  18.0   2.31   0.0  0.538  6.575  65.2  4.0900  1.0  296.0   \n",
              "1  0.02731   0.0   7.07   0.0  0.469  6.421  78.9  4.9671  2.0  242.0   \n",
              "2  0.02729   0.0   7.07   0.0  0.469  7.185  61.1  4.9671  2.0  242.0   \n",
              "3  0.03237   0.0   2.18   0.0  0.458  6.998  45.8  6.0622  3.0  222.0   \n",
              "4  0.06905   0.0   2.18   0.0  0.458  7.147  54.2  6.0622  3.0  222.0   \n",
              "\n",
              "   PTRATIO       B  LSTAT  MEDV  \n",
              "0     15.3  396.90   4.98  24.0  \n",
              "1     17.8  396.90   9.14  21.6  \n",
              "2     17.8  392.83   4.03  34.7  \n",
              "3     18.7  394.63   2.94  33.4  \n",
              "4     18.7  396.90   5.33  36.2  "
            ]
          },
          "metadata": {},
          "execution_count": 2
        }
      ],
      "metadata": {
        "id": "6HP9t861v84b"
      }
    },
    {
      "cell_type": "markdown",
      "source": [
        "A description of each of the variables can be seen below:\r\n",
        "- CRIM - per capita crime rate by town\r\n",
        "- ZN - proportion of residential land zoned for lots over 25,000 sq.ft.\r\n",
        "- INDUS - proportion of non-retail business acres per town.\r\n",
        "- CHAS - Charles River dummy variable (1 if tract bounds river; 0 otherwise)\r\n",
        "- NOX - nitric oxides concentration (parts per 10 million)\r\n",
        "- RM - average number of rooms per dwelling\r\n",
        "- AGE - proportion of owner-occupied units built prior to 1940\r\n",
        "- DIS - weighted distances to five Boston employment centres\r\n",
        "- RAD - index of accessibility to radial highways\r\n",
        "- TAX - full-value property-tax rate per 10,000 dollars\r\n",
        "- PTRATIO - pupil-teacher ratio by town\r\n",
        "- B - $1000(B_k - 0.63)^2$ where $B_k$ is the proportion of blacks by town\r\n",
        "- LSTAT - % lower status of the population\r\n",
        "- MEDV - Median value of owner-occupied homes in 1000's of dollars"
      ],
      "metadata": {
        "id": "3MIW3gjDwoeK"
      }
    },
    {
      "cell_type": "markdown",
      "source": [
        "We're going to be using the dataset to predict MEDV."
      ],
      "metadata": {
        "id": "CqQDwS52xJG_"
      }
    },
    {
      "cell_type": "code",
      "execution_count": 4,
      "source": [
        "# Using a random state of 42, create a train/test set with a test set ratio of 0.20\r\n",
        "features = [\"CRIM\",\r\n",
        "            \"ZN\",\r\n",
        "            \"INDUS\",\r\n",
        "            \"CHAS\",\r\n",
        "            \"NOX\",\r\n",
        "            \"RM\",\r\n",
        "            \"AGE\",\r\n",
        "            \"DIS\",\r\n",
        "            \"RAD\",\r\n",
        "            \"TAX\",\r\n",
        "            \"PTRATIO\",\r\n",
        "            \"B\",\r\n",
        "            \"LSTAT\"]\r\n",
        "\r\n",
        "target = \"MEDV\"\r\n",
        "\r\n",
        "X = data[features]\r\n",
        "y = data[target]\r\n",
        "\r\n",
        "X_train, X_test, y_train, y_test = train_test_split(X, y, test_size=0.20, random_state=42)"
      ],
      "outputs": [],
      "metadata": {
        "id": "fyp1OVF3wAD4"
      }
    },
    {
      "cell_type": "code",
      "execution_count": 5,
      "source": [
        "# Fit a Random Forest with the the following hyperparameters:\r\n",
        "# max_samples = 100, max_depth = 10, n_estimators = 100\r\n",
        "\r\n",
        "RF_model = RandomForestRegressor(n_estimators=100, max_samples=100, max_depth=10).fit(X_train, y_train)"
      ],
      "outputs": [],
      "metadata": {
        "id": "4l-RzvIXweqg"
      }
    },
    {
      "cell_type": "code",
      "execution_count": 6,
      "source": [
        "# Predict on the test set\r\n",
        "y_predict = RF_model.predict(X_test)"
      ],
      "outputs": [],
      "metadata": {
        "id": "zImZVZTryHDU"
      }
    },
    {
      "cell_type": "code",
      "execution_count": 8,
      "source": [
        "# Calculate both the MSE and the R2 score`\r\n",
        "print(f\"MSE = {mean_squared_error(y_test, y_predict)}\")\r\n",
        "print(f\"R2  = {r2_score(y_test, y_predict)}\")"
      ],
      "outputs": [
        {
          "output_type": "stream",
          "name": "stdout",
          "text": [
            "MSE = 13.828380662869431\n",
            "R2  = 0.8114323294539748\n"
          ]
        }
      ],
      "metadata": {
        "id": "X1TZb3hQyTct"
      }
    },
    {
      "cell_type": "code",
      "execution_count": 17,
      "source": [
        "# Plot the variable importance with the variable importance on the y-axis and the feature names on the x-axis\r\n",
        "# INSERT CODE HERE\r\n",
        "fig, ax = plt.subplots(figsize=(10, 7))\r\n",
        "ax = sns.barplot(x=features, y=RF_model.feature_importances_)\r\n",
        "ax.set_title(\"Feature importance\")\r\n",
        "plt.show()\r\n",
        "\r\n",
        "# What are the two most important variables?\r\n",
        "# - RM - average number of rooms per dwelling\r\n",
        "# - LSTAT - % lower status of the population\r\n"
      ],
      "outputs": [
        {
          "output_type": "display_data",
          "data": {
            "image/png": "[encoded data removed]",
            "text/plain": [
              "<Figure size 720x504 with 1 Axes>"
            ]
          },
          "metadata": {
            "needs_background": "light"
          }
        }
      ],
      "metadata": {
        "id": "o0H53rTyzCFR"
      }
    },
    {
      "cell_type": "markdown",
      "source": [
        "# Hyperparameter Optimization\n",
        "Now we're going to try to use the optimal hyperparameters of the Random Forest algorithm using Grid Search in addition to cross validation"
      ],
      "metadata": {
        "id": "HpWBBs5F1iDr"
      }
    },
    {
      "cell_type": "code",
      "execution_count": 18,
      "source": [
        "data.shape"
      ],
      "outputs": [
        {
          "output_type": "execute_result",
          "data": {
            "text/plain": [
              "(506, 14)"
            ]
          },
          "metadata": {},
          "execution_count": 18
        }
      ],
      "metadata": {
        "id": "OMG9lSAJ2n5z"
      }
    },
    {
      "cell_type": "code",
      "execution_count": 20,
      "source": [
        "from sklearn.model_selection import GridSearchCV\r\n",
        "\r\n",
        "# View all the possible hyperparameters to use\r\n",
        "RF_model.get_params()"
      ],
      "outputs": [
        {
          "output_type": "execute_result",
          "data": {
            "text/plain": [
              "{'bootstrap': True,\n",
              " 'ccp_alpha': 0.0,\n",
              " 'criterion': 'mse',\n",
              " 'max_depth': 10,\n",
              " 'max_features': 'auto',\n",
              " 'max_leaf_nodes': None,\n",
              " 'max_samples': 100,\n",
              " 'min_impurity_decrease': 0.0,\n",
              " 'min_impurity_split': None,\n",
              " 'min_samples_leaf': 1,\n",
              " 'min_samples_split': 2,\n",
              " 'min_weight_fraction_leaf': 0.0,\n",
              " 'n_estimators': 100,\n",
              " 'n_jobs': None,\n",
              " 'oob_score': False,\n",
              " 'random_state': None,\n",
              " 'verbose': 0,\n",
              " 'warm_start': False}"
            ]
          },
          "metadata": {},
          "execution_count": 20
        }
      ],
      "metadata": {
        "id": "KNGaLH2C1VZ8"
      }
    },
    {
      "cell_type": "code",
      "execution_count": 21,
      "source": [
        "# Create the parameter grid for only max_depth, n_estimators (number of trees), max_features (number of features) and max_samples (maximum number of observations)\r\n",
        "param_grid = {\r\n",
        "    'max_depth': list(range(0, 51, 10)),\r\n",
        "    'n_estimators': list(range(60, 161, 20)),\r\n",
        "    'max_features': ['auto', 'sqrt', None],\r\n",
        "    'max_samples': list(range(6, 507, 100))\r\n",
        "}"
      ],
      "outputs": [],
      "metadata": {
        "id": "ECWn00E52C4L"
      }
    },
    {
      "cell_type": "code",
      "execution_count": 22,
      "source": [
        "# Initialize a random forest model\r\n",
        "model = RandomForestRegressor()"
      ],
      "outputs": [],
      "metadata": {
        "id": "i9LI3Eui3YkD"
      }
    },
    {
      "cell_type": "code",
      "execution_count": 23,
      "source": [
        "# Perform a grid search using the following parameter list.\r\n",
        "grid_search = GridSearchCV(\r\n",
        "    estimator = model,\r\n",
        "    param_grid = param_grid,\r\n",
        "    cv = 3,\r\n",
        "    n_jobs = -1,\r\n",
        "    verbose = 2\r\n",
        ")\r\n",
        "\r\n",
        "# Fit the model to the data (this may take a couple minutes)\r\n",
        "grid_search.fit(X_train, y_train)"
      ],
      "outputs": [
        {
          "output_type": "stream",
          "name": "stdout",
          "text": [
            "Fitting 3 folds for each of 648 candidates, totalling 1944 fits\n"
          ]
        },
        {
          "output_type": "stream",
          "name": "stderr",
          "text": [
            "C:\\Users\\pivanov\\Apps\\Anaconda3\\lib\\site-packages\\sklearn\\model_selection\\_search.py:918: UserWarning: One or more of the test scores are non-finite: [       nan        nan        nan        nan        nan        nan\n",
            "        nan        nan        nan        nan        nan        nan\n",
            "        nan        nan        nan        nan        nan        nan\n",
            "        nan        nan        nan        nan        nan        nan\n",
            "        nan        nan        nan        nan        nan        nan\n",
            "        nan        nan        nan        nan        nan        nan\n",
            "        nan        nan        nan        nan        nan        nan\n",
            "        nan        nan        nan        nan        nan        nan\n",
            "        nan        nan        nan        nan        nan        nan\n",
            "        nan        nan        nan        nan        nan        nan\n",
            "        nan        nan        nan        nan        nan        nan\n",
            "        nan        nan        nan        nan        nan        nan\n",
            "        nan        nan        nan        nan        nan        nan\n",
            "        nan        nan        nan        nan        nan        nan\n",
            "        nan        nan        nan        nan        nan        nan\n",
            "        nan        nan        nan        nan        nan        nan\n",
            "        nan        nan        nan        nan        nan        nan\n",
            "        nan        nan        nan        nan        nan        nan\n",
            " 0.45558289 0.45360374 0.49412136 0.49788322 0.463726   0.48769626\n",
            " 0.80644405 0.80419496 0.80103689 0.80206441 0.8056361  0.80616508\n",
            " 0.81145275 0.81195284 0.81074522 0.81310657 0.81092357 0.8145529\n",
            "        nan        nan        nan        nan        nan        nan\n",
            "        nan        nan        nan        nan        nan        nan\n",
            "        nan        nan        nan        nan        nan        nan\n",
            " 0.41263331 0.46099408 0.39833437 0.42943023 0.44413798 0.43387974\n",
            " 0.79526148 0.79896771 0.79775357 0.79704123 0.80175391 0.79474236\n",
            " 0.81997294 0.82001756 0.81599012 0.81539931 0.81649606 0.81589316\n",
            "        nan        nan        nan        nan        nan        nan\n",
            "        nan        nan        nan        nan        nan        nan\n",
            "        nan        nan        nan        nan        nan        nan\n",
            " 0.51029788 0.48364572 0.47256207 0.49254133 0.47996663 0.49850507\n",
            " 0.81265513 0.80243174 0.81266972 0.80437385 0.80713989 0.80978834\n",
            " 0.81071738 0.81123067 0.80710836 0.81576003 0.81140568 0.81822903\n",
            "        nan        nan        nan        nan        nan        nan\n",
            "        nan        nan        nan        nan        nan        nan\n",
            "        nan        nan        nan        nan        nan        nan\n",
            " 0.47054752 0.45605421 0.45736186 0.48914014 0.48850538 0.46781695\n",
            " 0.80205118 0.79883732 0.80570867 0.81436283 0.81096303 0.80008917\n",
            " 0.80849966 0.81211172 0.79977194 0.81366665 0.81822018 0.81384325\n",
            "        nan        nan        nan        nan        nan        nan\n",
            "        nan        nan        nan        nan        nan        nan\n",
            "        nan        nan        nan        nan        nan        nan\n",
            " 0.42663113 0.44318132 0.42854715 0.41745502 0.44546126 0.39817485\n",
            " 0.7861354  0.78583251 0.79116784 0.79023929 0.79826902 0.7972951\n",
            " 0.82322797 0.81461013 0.8112001  0.82809932 0.81634192 0.8198734\n",
            "        nan        nan        nan        nan        nan        nan\n",
            "        nan        nan        nan        nan        nan        nan\n",
            "        nan        nan        nan        nan        nan        nan\n",
            " 0.48506481 0.45968134 0.48293995 0.45126146 0.45622004 0.48216042\n",
            " 0.80475156 0.80640477 0.8013327  0.81054839 0.80844932 0.81114265\n",
            " 0.81408172 0.80375955 0.81085208 0.81034654 0.80980956 0.81081276\n",
            "        nan        nan        nan        nan        nan        nan\n",
            "        nan        nan        nan        nan        nan        nan\n",
            "        nan        nan        nan        nan        nan        nan\n",
            " 0.4602893  0.44206521 0.50031964 0.48348967 0.45997508 0.47621957\n",
            " 0.80087699 0.81028003 0.805516   0.80647458 0.80450829 0.80198955\n",
            " 0.80908883 0.81171001 0.81662832 0.80890318 0.80717556 0.814331\n",
            "        nan        nan        nan        nan        nan        nan\n",
            "        nan        nan        nan        nan        nan        nan\n",
            "        nan        nan        nan        nan        nan        nan\n",
            " 0.45593112 0.43308172 0.42278828 0.43216416 0.42330399 0.43343423\n",
            " 0.7982629  0.79575329 0.7999012  0.79795176 0.79366052 0.78848996\n",
            " 0.81853987 0.81587048 0.82176223 0.81503028 0.81998739 0.81926672\n",
            "        nan        nan        nan        nan        nan        nan\n",
            "        nan        nan        nan        nan        nan        nan\n",
            "        nan        nan        nan        nan        nan        nan\n",
            " 0.39343542 0.49362301 0.48451487 0.48331023 0.49373343 0.49233145\n",
            " 0.80452632 0.79829058 0.80356709 0.80562809 0.80283161 0.81148562\n",
            " 0.80036584 0.80565519 0.8148624  0.80569787 0.80758783 0.81697752\n",
            "        nan        nan        nan        nan        nan        nan\n",
            "        nan        nan        nan        nan        nan        nan\n",
            "        nan        nan        nan        nan        nan        nan\n",
            " 0.47396011 0.46621237 0.464353   0.4780665  0.4817019  0.45390312\n",
            " 0.80519256 0.81276013 0.80300212 0.80337271 0.80744552 0.80997521\n",
            " 0.80810371 0.81287841 0.81258628 0.80382148 0.81360167 0.81625911\n",
            "        nan        nan        nan        nan        nan        nan\n",
            "        nan        nan        nan        nan        nan        nan\n",
            "        nan        nan        nan        nan        nan        nan\n",
            " 0.41249794 0.37910779 0.41705671 0.43561319 0.43851232 0.4041276\n",
            " 0.77292535 0.79233606 0.79434826 0.79441044 0.7906724  0.79613541\n",
            " 0.82653289 0.81126233 0.81871833 0.82260131 0.81817037 0.817336\n",
            "        nan        nan        nan        nan        nan        nan\n",
            "        nan        nan        nan        nan        nan        nan\n",
            "        nan        nan        nan        nan        nan        nan\n",
            " 0.50671501 0.50857537 0.4893139  0.47997489 0.50167739 0.45616165\n",
            " 0.80447313 0.80727874 0.80249937 0.80823824 0.80552095 0.80454464\n",
            " 0.81333003 0.80848597 0.81549761 0.80885942 0.80976135 0.8026097\n",
            "        nan        nan        nan        nan        nan        nan\n",
            "        nan        nan        nan        nan        nan        nan\n",
            "        nan        nan        nan        nan        nan        nan\n",
            " 0.51374958 0.48868075 0.4756022  0.48283326 0.46800568 0.50374999\n",
            " 0.79314019 0.80145841 0.81069177 0.81108726 0.80489126 0.80677916\n",
            " 0.81492572 0.80964133 0.80915762 0.81482501 0.81125544 0.80997119\n",
            "        nan        nan        nan        nan        nan        nan\n",
            "        nan        nan        nan        nan        nan        nan\n",
            "        nan        nan        nan        nan        nan        nan\n",
            " 0.41693471 0.39705385 0.42652586 0.44076309 0.41991527 0.40470609\n",
            " 0.80616018 0.79064418 0.80210358 0.79468998 0.78728514 0.79937311\n",
            " 0.80168914 0.81773864 0.82030425 0.81935279 0.81288744 0.82207154\n",
            "        nan        nan        nan        nan        nan        nan\n",
            "        nan        nan        nan        nan        nan        nan\n",
            "        nan        nan        nan        nan        nan        nan\n",
            " 0.47565565 0.49298289 0.45072    0.46634265 0.49358031 0.48496637\n",
            " 0.79117955 0.8040095  0.8016798  0.80185057 0.80422677 0.80723578\n",
            " 0.80619721 0.81850558 0.81132541 0.81008457 0.80700868 0.81028889\n",
            "        nan        nan        nan        nan        nan        nan\n",
            "        nan        nan        nan        nan        nan        nan\n",
            "        nan        nan        nan        nan        nan        nan]\n",
            "  warnings.warn(\n"
          ]
        },
        {
          "output_type": "execute_result",
          "data": {
            "text/plain": [
              "GridSearchCV(cv=3, estimator=RandomForestRegressor(), n_jobs=-1,\n",
              "             param_grid={'max_depth': [0, 10, 20, 30, 40, 50],\n",
              "                         'max_features': ['auto', 'sqrt', None],\n",
              "                         'max_samples': [6, 106, 206, 306, 406, 506],\n",
              "                         'n_estimators': [60, 80, 100, 120, 140, 160]},\n",
              "             verbose=2)"
            ]
          },
          "metadata": {},
          "execution_count": 23
        }
      ],
      "metadata": {
        "id": "LzRN1PRz2tKT"
      }
    },
    {
      "cell_type": "code",
      "execution_count": 24,
      "source": [
        "# Output the best parameters\r\n",
        "grid_search.best_params_"
      ],
      "outputs": [
        {
          "output_type": "execute_result",
          "data": {
            "text/plain": [
              "{'max_depth': 20,\n",
              " 'max_features': 'sqrt',\n",
              " 'max_samples': 206,\n",
              " 'n_estimators': 120}"
            ]
          },
          "metadata": {},
          "execution_count": 24
        }
      ],
      "metadata": {
        "id": "NqBsg3rz2ufh"
      }
    },
    {
      "cell_type": "code",
      "execution_count": 27,
      "source": [
        "# Using the best parameters, evaluate the MSE and R2 of a new random forest model.\r\n",
        "best_RF_model = RandomForestRegressor(max_depth=20, max_features=\"sqrt\", max_samples=206, n_estimators=120).fit(X_train, y_train)\r\n",
        "\r\n",
        "# Making prediction array\r\n",
        "y_predict = best_RF_model.predict(X_test)\r\n",
        "\r\n",
        "# Calculate both the MSE and the R2 score`\r\n",
        "print(f\"MSE = {mean_squared_error(y_test, y_predict)}\")\r\n",
        "print(f\"R2  = {r2_score(y_test, y_predict)}\")"
      ],
      "outputs": [
        {
          "output_type": "stream",
          "name": "stdout",
          "text": [
            "MSE = 12.318674655047186\n",
            "R2  = 0.8320191032812805\n"
          ]
        }
      ],
      "metadata": {
        "id": "uX8TQifH30t2"
      }
    }
  ]
}