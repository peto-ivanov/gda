{
 "cells": [
  {
   "cell_type": "markdown",
   "metadata": {
    "cell_id": "00000-708a3c1d-b831-4eb3-b18f-2c4166c41155",
    "deepnote_cell_type": "text-cell-h1",
    "is_collapsed": true,
    "tags": []
   },
   "source": [
    "# NLP 1 - Intro to text mining &amp; Natural Language Processing"
   ]
  },
  {
   "cell_type": "markdown",
   "metadata": {
    "cell_id": "00001-310fab48-2f34-4180-a801-6d626bf9d2f2",
    "deepnote_cell_type": "markdown",
    "tags": []
   },
   "source": [
    "* Import NLTK and download the features you'll need (as you go along if necessary)."
   ]
  },
  {
   "cell_type": "code",
   "execution_count": 1,
   "metadata": {
    "cell_id": "00002-14cc3836-c917-417d-93b3-f1129a87bf4c",
    "deepnote_cell_type": "code",
    "deepnote_to_be_reexecuted": false,
    "execution_millis": 2673,
    "execution_start": 1632861616562,
    "source_hash": "3ca143e5",
    "tags": []
   },
   "outputs": [
    {
     "name": "stderr",
     "output_type": "stream",
     "text": [
      "[nltk_data] Downloading package punkt to /root/nltk_data...\n",
      "[nltk_data]   Package punkt is already up-to-date!\n"
     ]
    },
    {
     "data": {
      "text/plain": [
       "True"
      ]
     },
     "execution_count": 1,
     "metadata": {},
     "output_type": "execute_result"
    }
   ],
   "source": [
    "import re\n",
    "import matplotlib.pyplot as plt\n",
    "\n",
    "import nltk\n",
    "from nltk.probability import FreqDist\n",
    "\n",
    "nltk.download('punkt')"
   ]
  },
  {
   "cell_type": "markdown",
   "metadata": {
    "cell_id": "00003-ba186a7c-0131-41ec-99d5-38ff71ed29ec",
    "deepnote_cell_type": "markdown",
    "tags": []
   },
   "source": [
    "* Retrieve the text of a press article of your choice from the internet (in English it will be simpler, but you can take the language of your choice). Assign it to a variable via copy/paste. For the rest of this quest, we advise you to take a text that is between 10 and 30 lines long. "
   ]
  },
  {
   "cell_type": "code",
   "execution_count": 2,
   "metadata": {
    "cell_id": "00004-df95b44a-4665-46a0-992d-f6401cd8df9d",
    "deepnote_cell_type": "code",
    "deepnote_to_be_reexecuted": false,
    "execution_millis": 7,
    "execution_start": 1632861619242,
    "source_hash": "eb090825",
    "tags": []
   },
   "outputs": [
    {
     "name": "stdout",
     "output_type": "stream",
     "text": [
      "The daily pace of new Covid-19 vaccinations in the United States is the lowest it has been since the Centers for Disease Control and Prevention started tracking it in mid-January, data shows.\n",
      "The seven-day average rate of people getting their first shot is 231,695, 31% less than last week, almost half -- 47% -- less than a month earlier -- and a far cry from the millions a day the country saw in April.\n",
      "It's not that there's now a lack of people who are not immunized: Sixteen states have yet to vaccinate more than half of their residents, according to the CDC data, and almost 25% of the eligible population -- about 70 million people -- are not vaccinated.\n",
      "\n",
      "Just over 55% of the total US population is fully vaccinated. The number of people eligible to get a vaccine may soon be widening, though, and could boost the overall number.\n",
      "\n",
      "Pfizer/BioNTech plans to ask soon for authorization of a Covid-19 vaccine for some children under 12, bringing the US one step closer to offering protection to a population that has grown particularly vulnerable as the fall season gets underway.\n",
      "\"It is a question of days, not weeks,\" Pfizer Chairman and CEO Albert Bourla told ABC News on Sunday about when the company will submit data on children ages 5 to 11 to the US Food and Drug Administration for consideration.\n",
      "\n",
      "Dr. Rochelle Walensky, director of the CDC, said on ABC's \"Good Morning America\" on Monday that the CDC will review data on vaccines for 5- to 11-year-olds with urgency.\n",
      "\"We are all enthusiastically awaiting these data,\" Walensky said, when asked how soon authorization and shots for kids could be seen after Pfizer submits its data.\n"
     ]
    }
   ],
   "source": [
    "# Longer text taken from:\n",
    "# https://edition.cnn.com/2021/09/27/health/us-coronavirus-monday/index.html\n",
    "text = 'The daily pace of new Covid-19 vaccinations in the United States is the lowest it has been since the Centers for Disease Control and Prevention started tracking it in mid-January, data shows.\\nThe seven-day average rate of people getting their first shot is 231,695, 31% less than last week, almost half -- 47% -- less than a month earlier -- and a far cry from the millions a day the country saw in April.\\nIt\\'s not that there\\'s now a lack of people who are not immunized: Sixteen states have yet to vaccinate more than half of their residents, according to the CDC data, and almost 25% of the eligible population -- about 70 million people -- are not vaccinated.\\n\\nJust over 55% of the total US population is fully vaccinated. The number of people eligible to get a vaccine may soon be widening, though, and could boost the overall number.\\n\\nPfizer/BioNTech plans to ask soon for authorization of a Covid-19 vaccine for some children under 12, bringing the US one step closer to offering protection to a population that has grown particularly vulnerable as the fall season gets underway.\\n\"It is a question of days, not weeks,\" Pfizer Chairman and CEO Albert Bourla told ABC News on Sunday about when the company will submit data on children ages 5 to 11 to the US Food and Drug Administration for consideration.\\n\\nDr. Rochelle Walensky, director of the CDC, said on ABC\\'s \"Good Morning America\" on Monday that the CDC will review data on vaccines for 5- to 11-year-olds with urgency.\\n\"We are all enthusiastically awaiting these data,\" Walensky said, when asked how soon authorization and shots for kids could be seen after Pfizer submits its data.'\n",
    "\n",
    "print(text)"
   ]
  },
  {
   "cell_type": "markdown",
   "metadata": {
    "cell_id": "00005-5b50b305-e652-46b5-aaf6-69d152f4f813",
    "deepnote_cell_type": "markdown",
    "tags": []
   },
   "source": [
    "* Transform your text into __sentence__ tokens"
   ]
  },
  {
   "cell_type": "code",
   "execution_count": 3,
   "metadata": {
    "cell_id": "00006-1d3df2c6-352e-4331-b457-dbbf3355735e",
    "deepnote_cell_type": "code",
    "deepnote_to_be_reexecuted": false,
    "execution_millis": 8,
    "execution_start": 1632861619261,
    "source_hash": "ae3e7cd9",
    "tags": []
   },
   "outputs": [
    {
     "data": {
      "text/plain": [
       "['The daily pace of new Covid-19 vaccinations in the United States is the lowest it has been since the Centers for Disease Control and Prevention started tracking it in mid-January, data shows.',\n",
       " 'The seven-day average rate of people getting their first shot is 231,695, 31% less than last week, almost half -- 47% -- less than a month earlier -- and a far cry from the millions a day the country saw in April.',\n",
       " \"It's not that there's now a lack of people who are not immunized: Sixteen states have yet to vaccinate more than half of their residents, according to the CDC data, and almost 25% of the eligible population -- about 70 million people -- are not vaccinated.\",\n",
       " 'Just over 55% of the total US population is fully vaccinated.',\n",
       " 'The number of people eligible to get a vaccine may soon be widening, though, and could boost the overall number.',\n",
       " 'Pfizer/BioNTech plans to ask soon for authorization of a Covid-19 vaccine for some children under 12, bringing the US one step closer to offering protection to a population that has grown particularly vulnerable as the fall season gets underway.',\n",
       " '\"It is a question of days, not weeks,\" Pfizer Chairman and CEO Albert Bourla told ABC News on Sunday about when the company will submit data on children ages 5 to 11 to the US Food and Drug Administration for consideration.',\n",
       " 'Dr. Rochelle Walensky, director of the CDC, said on ABC\\'s \"Good Morning America\" on Monday that the CDC will review data on vaccines for 5- to 11-year-olds with urgency.',\n",
       " '\"We are all enthusiastically awaiting these data,\" Walensky said, when asked how soon authorization and shots for kids could be seen after Pfizer submits its data.']"
      ]
     },
     "execution_count": 3,
     "metadata": {},
     "output_type": "execute_result"
    }
   ],
   "source": [
    "# Tokenizing to sentence tokens\n",
    "nltk.sent_tokenize(text)"
   ]
  },
  {
   "cell_type": "markdown",
   "metadata": {
    "cell_id": "00007-4f086bd7-5a0b-4ed4-8588-31beba8db0a4",
    "deepnote_cell_type": "markdown",
    "tags": []
   },
   "source": [
    "* Transform your text into word tokens"
   ]
  },
  {
   "cell_type": "code",
   "execution_count": 4,
   "metadata": {
    "cell_id": "00008-4ac15e64-a1fc-425c-8af9-99b8b2000024",
    "deepnote_cell_type": "code",
    "deepnote_to_be_reexecuted": false,
    "execution_millis": 60,
    "execution_start": 1632861619286,
    "source_hash": "de411e0b",
    "tags": []
   },
   "outputs": [
    {
     "data": {
      "text/plain": [
       "['The',\n",
       " 'daily',\n",
       " 'pace',\n",
       " 'of',\n",
       " 'new',\n",
       " 'Covid-19',\n",
       " 'vaccinations',\n",
       " 'in',\n",
       " 'the',\n",
       " 'United',\n",
       " 'States',\n",
       " 'is',\n",
       " 'the',\n",
       " 'lowest',\n",
       " 'it',\n",
       " 'has',\n",
       " 'been',\n",
       " 'since',\n",
       " 'the',\n",
       " 'Centers',\n",
       " 'for',\n",
       " 'Disease',\n",
       " 'Control',\n",
       " 'and',\n",
       " 'Prevention',\n",
       " 'started',\n",
       " 'tracking',\n",
       " 'it',\n",
       " 'in',\n",
       " 'mid-January',\n",
       " ',',\n",
       " 'data',\n",
       " 'shows',\n",
       " '.',\n",
       " 'The',\n",
       " 'seven-day',\n",
       " 'average',\n",
       " 'rate',\n",
       " 'of',\n",
       " 'people',\n",
       " 'getting',\n",
       " 'their',\n",
       " 'first',\n",
       " 'shot',\n",
       " 'is',\n",
       " '231,695',\n",
       " ',',\n",
       " '31',\n",
       " '%',\n",
       " 'less',\n",
       " 'than',\n",
       " 'last',\n",
       " 'week',\n",
       " ',',\n",
       " 'almost',\n",
       " 'half',\n",
       " '--',\n",
       " '47',\n",
       " '%',\n",
       " '--',\n",
       " 'less',\n",
       " 'than',\n",
       " 'a',\n",
       " 'month',\n",
       " 'earlier',\n",
       " '--',\n",
       " 'and',\n",
       " 'a',\n",
       " 'far',\n",
       " 'cry',\n",
       " 'from',\n",
       " 'the',\n",
       " 'millions',\n",
       " 'a',\n",
       " 'day',\n",
       " 'the',\n",
       " 'country',\n",
       " 'saw',\n",
       " 'in',\n",
       " 'April',\n",
       " '.',\n",
       " 'It',\n",
       " \"'s\",\n",
       " 'not',\n",
       " 'that',\n",
       " 'there',\n",
       " \"'s\",\n",
       " 'now',\n",
       " 'a',\n",
       " 'lack',\n",
       " 'of',\n",
       " 'people',\n",
       " 'who',\n",
       " 'are',\n",
       " 'not',\n",
       " 'immunized',\n",
       " ':',\n",
       " 'Sixteen',\n",
       " 'states',\n",
       " 'have',\n",
       " 'yet',\n",
       " 'to',\n",
       " 'vaccinate',\n",
       " 'more',\n",
       " 'than',\n",
       " 'half',\n",
       " 'of',\n",
       " 'their',\n",
       " 'residents',\n",
       " ',',\n",
       " 'according',\n",
       " 'to',\n",
       " 'the',\n",
       " 'CDC',\n",
       " 'data',\n",
       " ',',\n",
       " 'and',\n",
       " 'almost',\n",
       " '25',\n",
       " '%',\n",
       " 'of',\n",
       " 'the',\n",
       " 'eligible',\n",
       " 'population',\n",
       " '--',\n",
       " 'about',\n",
       " '70',\n",
       " 'million',\n",
       " 'people',\n",
       " '--',\n",
       " 'are',\n",
       " 'not',\n",
       " 'vaccinated',\n",
       " '.',\n",
       " 'Just',\n",
       " 'over',\n",
       " '55',\n",
       " '%',\n",
       " 'of',\n",
       " 'the',\n",
       " 'total',\n",
       " 'US',\n",
       " 'population',\n",
       " 'is',\n",
       " 'fully',\n",
       " 'vaccinated',\n",
       " '.',\n",
       " 'The',\n",
       " 'number',\n",
       " 'of',\n",
       " 'people',\n",
       " 'eligible',\n",
       " 'to',\n",
       " 'get',\n",
       " 'a',\n",
       " 'vaccine',\n",
       " 'may',\n",
       " 'soon',\n",
       " 'be',\n",
       " 'widening',\n",
       " ',',\n",
       " 'though',\n",
       " ',',\n",
       " 'and',\n",
       " 'could',\n",
       " 'boost',\n",
       " 'the',\n",
       " 'overall',\n",
       " 'number',\n",
       " '.',\n",
       " 'Pfizer/BioNTech',\n",
       " 'plans',\n",
       " 'to',\n",
       " 'ask',\n",
       " 'soon',\n",
       " 'for',\n",
       " 'authorization',\n",
       " 'of',\n",
       " 'a',\n",
       " 'Covid-19',\n",
       " 'vaccine',\n",
       " 'for',\n",
       " 'some',\n",
       " 'children',\n",
       " 'under',\n",
       " '12',\n",
       " ',',\n",
       " 'bringing',\n",
       " 'the',\n",
       " 'US',\n",
       " 'one',\n",
       " 'step',\n",
       " 'closer',\n",
       " 'to',\n",
       " 'offering',\n",
       " 'protection',\n",
       " 'to',\n",
       " 'a',\n",
       " 'population',\n",
       " 'that',\n",
       " 'has',\n",
       " 'grown',\n",
       " 'particularly',\n",
       " 'vulnerable',\n",
       " 'as',\n",
       " 'the',\n",
       " 'fall',\n",
       " 'season',\n",
       " 'gets',\n",
       " 'underway',\n",
       " '.',\n",
       " '``',\n",
       " 'It',\n",
       " 'is',\n",
       " 'a',\n",
       " 'question',\n",
       " 'of',\n",
       " 'days',\n",
       " ',',\n",
       " 'not',\n",
       " 'weeks',\n",
       " ',',\n",
       " \"''\",\n",
       " 'Pfizer',\n",
       " 'Chairman',\n",
       " 'and',\n",
       " 'CEO',\n",
       " 'Albert',\n",
       " 'Bourla',\n",
       " 'told',\n",
       " 'ABC',\n",
       " 'News',\n",
       " 'on',\n",
       " 'Sunday',\n",
       " 'about',\n",
       " 'when',\n",
       " 'the',\n",
       " 'company',\n",
       " 'will',\n",
       " 'submit',\n",
       " 'data',\n",
       " 'on',\n",
       " 'children',\n",
       " 'ages',\n",
       " '5',\n",
       " 'to',\n",
       " '11',\n",
       " 'to',\n",
       " 'the',\n",
       " 'US',\n",
       " 'Food',\n",
       " 'and',\n",
       " 'Drug',\n",
       " 'Administration',\n",
       " 'for',\n",
       " 'consideration',\n",
       " '.',\n",
       " 'Dr.',\n",
       " 'Rochelle',\n",
       " 'Walensky',\n",
       " ',',\n",
       " 'director',\n",
       " 'of',\n",
       " 'the',\n",
       " 'CDC',\n",
       " ',',\n",
       " 'said',\n",
       " 'on',\n",
       " 'ABC',\n",
       " \"'s\",\n",
       " '``',\n",
       " 'Good',\n",
       " 'Morning',\n",
       " 'America',\n",
       " \"''\",\n",
       " 'on',\n",
       " 'Monday',\n",
       " 'that',\n",
       " 'the',\n",
       " 'CDC',\n",
       " 'will',\n",
       " 'review',\n",
       " 'data',\n",
       " 'on',\n",
       " 'vaccines',\n",
       " 'for',\n",
       " '5-',\n",
       " 'to',\n",
       " '11-year-olds',\n",
       " 'with',\n",
       " 'urgency',\n",
       " '.',\n",
       " '``',\n",
       " 'We',\n",
       " 'are',\n",
       " 'all',\n",
       " 'enthusiastically',\n",
       " 'awaiting',\n",
       " 'these',\n",
       " 'data',\n",
       " ',',\n",
       " \"''\",\n",
       " 'Walensky',\n",
       " 'said',\n",
       " ',',\n",
       " 'when',\n",
       " 'asked',\n",
       " 'how',\n",
       " 'soon',\n",
       " 'authorization',\n",
       " 'and',\n",
       " 'shots',\n",
       " 'for',\n",
       " 'kids',\n",
       " 'could',\n",
       " 'be',\n",
       " 'seen',\n",
       " 'after',\n",
       " 'Pfizer',\n",
       " 'submits',\n",
       " 'its',\n",
       " 'data',\n",
       " '.']"
      ]
     },
     "execution_count": 4,
     "metadata": {},
     "output_type": "execute_result"
    }
   ],
   "source": [
    "nltk.word_tokenize(text)"
   ]
  },
  {
   "cell_type": "markdown",
   "metadata": {
    "cell_id": "00009-da9d67d1-2851-4625-81ec-f99663b9db02",
    "deepnote_cell_type": "markdown",
    "tags": []
   },
   "source": [
    "* Count how often each word appears and make a graph (if possible a bar chart) that represents the 20 most common words in your text. Are there many words that seem like stopwords to you?"
   ]
  },
  {
   "cell_type": "code",
   "execution_count": 5,
   "metadata": {
    "cell_id": "00010-e6ffcbe7-bc0e-4fb4-9e81-9ad5379e7321",
    "deepnote_cell_type": "code",
    "deepnote_to_be_reexecuted": false,
    "execution_millis": 407,
    "execution_start": 1632861619341,
    "source_hash": "763d28a",
    "tags": []
   },
   "outputs": [
    {
     "data": {
      "image/png": "[encoded data removed]",
      "text/plain": [
       "<Figure size 432x288 with 1 Axes>"
      ]
     },
     "metadata": {
      "image/png": {
       "height": 286,
       "width": 382
      },
      "needs_background": "light"
     },
     "output_type": "display_data"
    },
    {
     "data": {
      "text/plain": [
       "<AxesSubplot:xlabel='Samples', ylabel='Counts'>"
      ]
     },
     "execution_count": 5,
     "metadata": {},
     "output_type": "execute_result"
    }
   ],
   "source": [
    "# We'll build frequency distribution\n",
    "fq = FreqDist(word.lower() for word in nltk.word_tokenize(text))\n",
    "\n",
    "fq.plot(20)"
   ]
  },
  {
   "cell_type": "markdown",
   "metadata": {
    "cell_id": "00011-e8760ff6-0318-4e03-8711-44a2ba788065",
    "deepnote_cell_type": "markdown",
    "tags": []
   },
   "source": [
    "**Answer**: Yes, there are many _stopwords_ there."
   ]
  },
  {
   "cell_type": "markdown",
   "metadata": {
    "cell_id": "00012-06309cc6-5db4-4eab-8ba8-b62c5eda6b16",
    "deepnote_cell_type": "markdown",
    "tags": []
   },
   "source": [
    "* Remove the stopwords and the punctuation, and look again at which words are the most present. Again, make the same graph for comparison."
   ]
  },
  {
   "cell_type": "code",
   "execution_count": 6,
   "metadata": {
    "cell_id": "00013-fb91e718-6ac6-465c-81ce-bf6098a0e416",
    "deepnote_cell_type": "code",
    "deepnote_to_be_reexecuted": false,
    "execution_millis": 5,
    "execution_start": 1632861619791,
    "source_hash": "d5566c18",
    "tags": []
   },
   "outputs": [
    {
     "name": "stderr",
     "output_type": "stream",
     "text": [
      "[nltk_data] Downloading package stopwords to /root/nltk_data...\n",
      "[nltk_data]   Package stopwords is already up-to-date!\n"
     ]
    },
    {
     "data": {
      "text/plain": [
       "['i',\n",
       " 'me',\n",
       " 'my',\n",
       " 'myself',\n",
       " 'we',\n",
       " 'our',\n",
       " 'ours',\n",
       " 'ourselves',\n",
       " 'you',\n",
       " \"you're\",\n",
       " \"you've\",\n",
       " \"you'll\",\n",
       " \"you'd\",\n",
       " 'your',\n",
       " 'yours',\n",
       " 'yourself',\n",
       " 'yourselves',\n",
       " 'he',\n",
       " 'him',\n",
       " 'his',\n",
       " 'himself',\n",
       " 'she',\n",
       " \"she's\",\n",
       " 'her',\n",
       " 'hers',\n",
       " 'herself',\n",
       " 'it',\n",
       " \"it's\",\n",
       " 'its',\n",
       " 'itself',\n",
       " 'they',\n",
       " 'them',\n",
       " 'their',\n",
       " 'theirs',\n",
       " 'themselves',\n",
       " 'what',\n",
       " 'which',\n",
       " 'who',\n",
       " 'whom',\n",
       " 'this',\n",
       " 'that',\n",
       " \"that'll\",\n",
       " 'these',\n",
       " 'those',\n",
       " 'am',\n",
       " 'is',\n",
       " 'are',\n",
       " 'was',\n",
       " 'were',\n",
       " 'be',\n",
       " 'been',\n",
       " 'being',\n",
       " 'have',\n",
       " 'has',\n",
       " 'had',\n",
       " 'having',\n",
       " 'do',\n",
       " 'does',\n",
       " 'did',\n",
       " 'doing',\n",
       " 'a',\n",
       " 'an',\n",
       " 'the',\n",
       " 'and',\n",
       " 'but',\n",
       " 'if',\n",
       " 'or',\n",
       " 'because',\n",
       " 'as',\n",
       " 'until',\n",
       " 'while',\n",
       " 'of',\n",
       " 'at',\n",
       " 'by',\n",
       " 'for',\n",
       " 'with',\n",
       " 'about',\n",
       " 'against',\n",
       " 'between',\n",
       " 'into',\n",
       " 'through',\n",
       " 'during',\n",
       " 'before',\n",
       " 'after',\n",
       " 'above',\n",
       " 'below',\n",
       " 'to',\n",
       " 'from',\n",
       " 'up',\n",
       " 'down',\n",
       " 'in',\n",
       " 'out',\n",
       " 'on',\n",
       " 'off',\n",
       " 'over',\n",
       " 'under',\n",
       " 'again',\n",
       " 'further',\n",
       " 'then',\n",
       " 'once',\n",
       " 'here',\n",
       " 'there',\n",
       " 'when',\n",
       " 'where',\n",
       " 'why',\n",
       " 'how',\n",
       " 'all',\n",
       " 'any',\n",
       " 'both',\n",
       " 'each',\n",
       " 'few',\n",
       " 'more',\n",
       " 'most',\n",
       " 'other',\n",
       " 'some',\n",
       " 'such',\n",
       " 'no',\n",
       " 'nor',\n",
       " 'not',\n",
       " 'only',\n",
       " 'own',\n",
       " 'same',\n",
       " 'so',\n",
       " 'than',\n",
       " 'too',\n",
       " 'very',\n",
       " 's',\n",
       " 't',\n",
       " 'can',\n",
       " 'will',\n",
       " 'just',\n",
       " 'don',\n",
       " \"don't\",\n",
       " 'should',\n",
       " \"should've\",\n",
       " 'now',\n",
       " 'd',\n",
       " 'll',\n",
       " 'm',\n",
       " 'o',\n",
       " 're',\n",
       " 've',\n",
       " 'y',\n",
       " 'ain',\n",
       " 'aren',\n",
       " \"aren't\",\n",
       " 'couldn',\n",
       " \"couldn't\",\n",
       " 'didn',\n",
       " \"didn't\",\n",
       " 'doesn',\n",
       " \"doesn't\",\n",
       " 'hadn',\n",
       " \"hadn't\",\n",
       " 'hasn',\n",
       " \"hasn't\",\n",
       " 'haven',\n",
       " \"haven't\",\n",
       " 'isn',\n",
       " \"isn't\",\n",
       " 'ma',\n",
       " 'mightn',\n",
       " \"mightn't\",\n",
       " 'mustn',\n",
       " \"mustn't\",\n",
       " 'needn',\n",
       " \"needn't\",\n",
       " 'shan',\n",
       " \"shan't\",\n",
       " 'shouldn',\n",
       " \"shouldn't\",\n",
       " 'wasn',\n",
       " \"wasn't\",\n",
       " 'weren',\n",
       " \"weren't\",\n",
       " 'won',\n",
       " \"won't\",\n",
       " 'wouldn',\n",
       " \"wouldn't\"]"
      ]
     },
     "execution_count": 6,
     "metadata": {},
     "output_type": "execute_result"
    }
   ],
   "source": [
    "# This is how you download stopwords corpus\n",
    "nltk.download(\"stopwords\")\n",
    "\n",
    "nltk.corpus.stopwords.words(\"english\")"
   ]
  },
  {
   "cell_type": "code",
   "execution_count": 7,
   "metadata": {
    "cell_id": "00014-b8beefc3-3799-4d85-894d-979d67274ea6",
    "deepnote_cell_type": "code",
    "deepnote_to_be_reexecuted": false,
    "execution_millis": 51,
    "execution_start": 1632861619792,
    "source_hash": "af8b6e29",
    "tags": []
   },
   "outputs": [
    {
     "name": "stdout",
     "output_type": "stream",
     "text": [
      "Stopwords removed:\n",
      "['daily', 'pace', 'new', 'covid-19', 'vaccinations', 'united', 'states', 'lowest', 'since', 'centers', 'disease', 'control', 'prevention', 'started', 'tracking', 'mid-january', ',', 'data', 'shows', '.', 'seven-day', 'average', 'rate', 'people', 'getting', 'first', 'shot', '231,695', ',', '31', '%', 'less', 'last', 'week', ',', 'almost', 'half', '--', '47', '%', '--', 'less', 'month', 'earlier', '--', 'far', 'cry', 'millions', 'day', 'country', 'saw', 'april', '.', \"'s\", \"'s\", 'lack', 'people', 'immunized', ':', 'sixteen', 'states', 'yet', 'vaccinate', 'half', 'residents', ',', 'according', 'cdc', 'data', ',', 'almost', '25', '%', 'eligible', 'population', '--', '70', 'million', 'people', '--', 'vaccinated', '.', '55', '%', 'total', 'us', 'population', 'fully', 'vaccinated', '.', 'number', 'people', 'eligible', 'get', 'vaccine', 'may', 'soon', 'widening', ',', 'though', ',', 'could', 'boost', 'overall', 'number', '.', 'pfizer/biontech', 'plans', 'ask', 'soon', 'authorization', 'covid-19', 'vaccine', 'children', '12', ',', 'bringing', 'us', 'one', 'step', 'closer', 'offering', 'protection', 'population', 'grown', 'particularly', 'vulnerable', 'fall', 'season', 'gets', 'underway', '.', '``', 'question', 'days', ',', 'weeks', ',', \"''\", 'pfizer', 'chairman', 'ceo', 'albert', 'bourla', 'told', 'abc', 'news', 'sunday', 'company', 'submit', 'data', 'children', 'ages', '5', '11', 'us', 'food', 'drug', 'administration', 'consideration', '.', 'dr.', 'rochelle', 'walensky', ',', 'director', 'cdc', ',', 'said', 'abc', \"'s\", '``', 'good', 'morning', 'america', \"''\", 'monday', 'cdc', 'review', 'data', 'vaccines', '5-', '11-year-olds', 'urgency', '.', '``', 'enthusiastically', 'awaiting', 'data', ',', \"''\", 'walensky', 'said', ',', 'asked', 'soon', 'authorization', 'shots', 'kids', 'could', 'seen', 'pfizer', 'submits', 'data', '.']\n",
      "\n",
      "Punctuation removed:\n",
      "['daily', 'pace', 'new', 'covid-19', 'vaccinations', 'united', 'states', 'lowest', 'since', 'centers', 'disease', 'control', 'prevention', 'started', 'tracking', 'mid-january', 'data', 'shows', 'seven-day', 'average', 'rate', 'people', 'getting', 'first', 'shot', '231,695', '31', 'less', 'last', 'week', 'almost', 'half', '47', 'less', 'month', 'earlier', 'far', 'cry', 'millions', 'day', 'country', 'saw', 'april', \"'s\", \"'s\", 'lack', 'people', 'immunized', 'sixteen', 'states', 'yet', 'vaccinate', 'half', 'residents', 'according', 'cdc', 'data', 'almost', '25', 'eligible', 'population', '70', 'million', 'people', 'vaccinated', '55', 'total', 'us', 'population', 'fully', 'vaccinated', 'number', 'people', 'eligible', 'get', 'vaccine', 'may', 'soon', 'widening', 'though', 'could', 'boost', 'overall', 'number', 'pfizer/biontech', 'plans', 'ask', 'soon', 'authorization', 'covid-19', 'vaccine', 'children', '12', 'bringing', 'us', 'one', 'step', 'closer', 'offering', 'protection', 'population', 'grown', 'particularly', 'vulnerable', 'fall', 'season', 'gets', 'underway', 'question', 'days', 'weeks', 'pfizer', 'chairman', 'ceo', 'albert', 'bourla', 'told', 'abc', 'news', 'sunday', 'company', 'submit', 'data', 'children', 'ages', '5', '11', 'us', 'food', 'drug', 'administration', 'consideration', 'dr.', 'rochelle', 'walensky', 'director', 'cdc', 'said', 'abc', \"'s\", 'good', 'morning', 'america', 'monday', 'cdc', 'review', 'data', 'vaccines', '5-', '11-year-olds', 'urgency', 'enthusiastically', 'awaiting', 'data', 'walensky', 'said', 'asked', 'soon', 'authorization', 'shots', 'kids', 'could', 'seen', 'pfizer', 'submits', 'data']\n"
     ]
    }
   ],
   "source": [
    "# Removing stopwords\n",
    "text_words = [word.lower() for word in nltk.word_tokenize(text) if word.lower() not in nltk.corpus.stopwords.words(\"english\")]\n",
    "\n",
    "print(\"Stopwords removed:\")\n",
    "print(text_words)\n",
    "\n",
    "# Removing punctuation using regex search\n",
    "# pattern \"^\\W+$\" = string composed of one or more non-word characters\n",
    "#   - non-word characters are anything other than a letter, digit or underscore\n",
    "text_words = [word for word in text_words if not(re.match(\"^\\W+$\", word))]\n",
    "\n",
    "print(\"\\nPunctuation removed:\")\n",
    "print(text_words)"
   ]
  },
  {
   "cell_type": "code",
   "execution_count": 8,
   "metadata": {
    "cell_id": "00015-9ea1cf74-a5e4-49d6-bcef-eef74dc0703c",
    "deepnote_cell_type": "code",
    "deepnote_to_be_reexecuted": false,
    "execution_millis": 413,
    "execution_start": 1632861619841,
    "source_hash": "c6867e8f",
    "tags": []
   },
   "outputs": [
    {
     "data": {
      "image/png": "[encoded data removed]",
      "text/plain": [
       "<Figure size 432x288 with 1 Axes>"
      ]
     },
     "metadata": {
      "image/png": {
       "height": 318,
       "width": 386
      },
      "needs_background": "light"
     },
     "output_type": "display_data"
    },
    {
     "data": {
      "text/plain": [
       "<AxesSubplot:xlabel='Samples', ylabel='Counts'>"
      ]
     },
     "execution_count": 8,
     "metadata": {},
     "output_type": "execute_result"
    }
   ],
   "source": [
    "# Getting new frequency distribution\n",
    "fq = FreqDist(word for word in text_words)\n",
    "\n",
    "fq.plot(20)"
   ]
  },
  {
   "cell_type": "markdown",
   "metadata": {
    "cell_id": "00016-98d6aafd-5c17-4ca2-89bc-8a75e3e6a593",
    "deepnote_cell_type": "text-cell-h1",
    "is_collapsed": false,
    "tags": []
   },
   "source": [
    "# NLP 2 - Stemming &amp; Lemmatizing"
   ]
  },
  {
   "cell_type": "markdown",
   "metadata": {
    "cell_id": "00017-eb63995b-0f48-4767-b214-6b747f045aae",
    "deepnote_cell_type": "markdown",
    "tags": []
   },
   "source": [
    "You will take your notebook from the previous quest, then complete the steps below."
   ]
  },
  {
   "cell_type": "markdown",
   "metadata": {
    "cell_id": "00018-d7beb2f0-3c36-4100-9417-277a31466da8",
    "deepnote_cell_type": "markdown",
    "tags": []
   },
   "source": [
    "* From your already cleaned up text, so in lower case, without stopwords or punctuation, use a __stemmer__ to make the corpus of words even more relevant, then use FreqDist. Did the stemmer bring up relevant information by grouping some words with the same root?"
   ]
  },
  {
   "cell_type": "code",
   "execution_count": 9,
   "metadata": {
    "cell_id": "00017-c0620c1b-17d4-4840-bdb6-e7115a019d63",
    "deepnote_cell_type": "code",
    "deepnote_to_be_reexecuted": false,
    "execution_millis": 11,
    "execution_start": 1632861620265,
    "source_hash": "b5f7c9fa",
    "tags": []
   },
   "outputs": [
    {
     "name": "stdout",
     "output_type": "stream",
     "text": [
      "['daily', 'pace', 'new', 'covid-19', 'vaccinations', 'united', 'states', 'lowest', 'since', 'centers', 'disease', 'control', 'prevention', 'started', 'tracking', 'mid-january', 'data', 'shows', 'seven-day', 'average', 'rate', 'people', 'getting', 'first', 'shot', '231,695', '31', 'less', 'last', 'week', 'almost', 'half', '47', 'less', 'month', 'earlier', 'far', 'cry', 'millions', 'day', 'country', 'saw', 'april', \"'s\", \"'s\", 'lack', 'people', 'immunized', 'sixteen', 'states', 'yet', 'vaccinate', 'half', 'residents', 'according', 'cdc', 'data', 'almost', '25', 'eligible', 'population', '70', 'million', 'people', 'vaccinated', '55', 'total', 'us', 'population', 'fully', 'vaccinated', 'number', 'people', 'eligible', 'get', 'vaccine', 'may', 'soon', 'widening', 'though', 'could', 'boost', 'overall', 'number', 'pfizer/biontech', 'plans', 'ask', 'soon', 'authorization', 'covid-19', 'vaccine', 'children', '12', 'bringing', 'us', 'one', 'step', 'closer', 'offering', 'protection', 'population', 'grown', 'particularly', 'vulnerable', 'fall', 'season', 'gets', 'underway', 'question', 'days', 'weeks', 'pfizer', 'chairman', 'ceo', 'albert', 'bourla', 'told', 'abc', 'news', 'sunday', 'company', 'submit', 'data', 'children', 'ages', '5', '11', 'us', 'food', 'drug', 'administration', 'consideration', 'dr.', 'rochelle', 'walensky', 'director', 'cdc', 'said', 'abc', \"'s\", 'good', 'morning', 'america', 'monday', 'cdc', 'review', 'data', 'vaccines', '5-', '11-year-olds', 'urgency', 'enthusiastically', 'awaiting', 'data', 'walensky', 'said', 'asked', 'soon', 'authorization', 'shots', 'kids', 'could', 'seen', 'pfizer', 'submits', 'data']\n",
      "['daili', 'pace', 'new', 'covid-19', 'vaccin', 'unit', 'state', 'lowest', 'sinc', 'center', 'diseas', 'control', 'prevent', 'start', 'track', 'mid-januari', 'data', 'show', 'seven-day', 'averag', 'rate', 'peopl', 'get', 'first', 'shot', '231,695', '31', 'less', 'last', 'week', 'almost', 'half', '47', 'less', 'month', 'earlier', 'far', 'cri', 'million', 'day', 'countri', 'saw', 'april', \"'s\", \"'s\", 'lack', 'peopl', 'immun', 'sixteen', 'state', 'yet', 'vaccin', 'half', 'resid', 'accord', 'cdc', 'data', 'almost', '25', 'elig', 'popul', '70', 'million', 'peopl', 'vaccin', '55', 'total', 'us', 'popul', 'fulli', 'vaccin', 'number', 'peopl', 'elig', 'get', 'vaccin', 'may', 'soon', 'widen', 'though', 'could', 'boost', 'overal', 'number', 'pfizer/biontech', 'plan', 'ask', 'soon', 'author', 'covid-19', 'vaccin', 'children', '12', 'bring', 'us', 'one', 'step', 'closer', 'offer', 'protect', 'popul', 'grown', 'particular', 'vulner', 'fall', 'season', 'get', 'underway', 'question', 'day', 'week', 'pfizer', 'chairman', 'ceo', 'albert', 'bourla', 'told', 'abc', 'news', 'sunday', 'compani', 'submit', 'data', 'children', 'age', '5', '11', 'us', 'food', 'drug', 'administr', 'consider', 'dr.', 'rochell', 'walenski', 'director', 'cdc', 'said', 'abc', \"'s\", 'good', 'morn', 'america', 'monday', 'cdc', 'review', 'data', 'vaccin', '5-', '11-year-old', 'urgenc', 'enthusiast', 'await', 'data', 'walenski', 'said', 'ask', 'soon', 'author', 'shot', 'kid', 'could', 'seen', 'pfizer', 'submit', 'data']\n"
     ]
    }
   ],
   "source": [
    "# Importing SnowballStemmer\n",
    "from nltk.stem import SnowballStemmer\n",
    "\n",
    "# Initializing english stemmer\n",
    "stemmer = SnowballStemmer(\"english\")\n",
    "\n",
    "# stemming all words in text_words\n",
    "text_stemmed = [stemmer.stem(word) for word in text_words]\n",
    "\n",
    "print(text_words)\n",
    "print(text_stemmed)"
   ]
  },
  {
   "cell_type": "code",
   "execution_count": 10,
   "metadata": {
    "cell_id": "00020-41582d84-3e51-4345-8dfb-36bbd9aeca83",
    "deepnote_cell_type": "code",
    "deepnote_to_be_reexecuted": false,
    "execution_millis": 371,
    "execution_start": 1632861620314,
    "source_hash": "509b40a8",
    "tags": []
   },
   "outputs": [
    {
     "data": {
      "image/png": "[encoded data removed]",
      "text/plain": [
       "<Figure size 432x288 with 1 Axes>"
      ]
     },
     "metadata": {
      "image/png": {
       "height": 295,
       "width": 376
      },
      "needs_background": "light"
     },
     "output_type": "display_data"
    },
    {
     "data": {
      "text/plain": [
       "<AxesSubplot:xlabel='Samples', ylabel='Counts'>"
      ]
     },
     "execution_count": 10,
     "metadata": {},
     "output_type": "execute_result"
    }
   ],
   "source": [
    "# Compute new frequency distribution\n",
    "fd_stemmed = nltk.FreqDist(text_stemmed)\n",
    "\n",
    "fd_stemmed.plot(20)"
   ]
  },
  {
   "cell_type": "markdown",
   "metadata": {
    "cell_id": "00021-08d380a2-df5e-426a-8a62-cdc7b9ba2c75",
    "deepnote_cell_type": "markdown",
    "tags": []
   },
   "source": [
    "**Answer**:  \n",
    "Actually yes, the TOP word is now `\"vaccin\"` and it jumped over `\"data\"`."
   ]
  },
  {
   "cell_type": "markdown",
   "metadata": {
    "cell_id": "00022-bde54881-7b7c-4084-9b75-25aece153270",
    "deepnote_cell_type": "markdown",
    "tags": []
   },
   "source": [
    "* From your already cleaned up text, therefore in lower case, without stopwords or punctuation, use a __lemmatizer__ to make the corpus of words even more relevant, then use FreqDist. Did the lemmatizer bring up relevant information by grouping some words with the same root?"
   ]
  },
  {
   "cell_type": "code",
   "execution_count": 49,
   "metadata": {
    "cell_id": "00023-804035d4-b965-4444-ba98-746b3721596e",
    "deepnote_cell_type": "code",
    "deepnote_to_be_reexecuted": false,
    "execution_millis": 1168,
    "execution_start": 1632864505593,
    "source_hash": "a81264a4",
    "tags": []
   },
   "outputs": [
    {
     "data": {
      "image/png": "[encoded data removed]",
      "text/plain": [
       "<Figure size 432x288 with 1 Axes>"
      ]
     },
     "metadata": {
      "image/png": {
       "height": 318,
       "width": 386
      },
      "needs_background": "light"
     },
     "output_type": "display_data"
    },
    {
     "name": "stdout",
     "output_type": "stream",
     "text": [
      "['daily', 'pace', 'new', 'covid-19', 'vaccinations', 'united', 'states', 'lowest', 'since', 'centers', 'disease', 'control', 'prevention', 'started', 'tracking', 'mid-january', 'data', 'shows', 'seven-day', 'average', 'rate', 'people', 'getting', 'first', 'shot', '231,695', '31', 'less', 'last', 'week', 'almost', 'half', '47', 'less', 'month', 'earlier', 'far', 'cry', 'millions', 'day', 'country', 'saw', 'april', \"'s\", \"'s\", 'lack', 'people', 'immunized', 'sixteen', 'states', 'yet', 'vaccinate', 'half', 'residents', 'according', 'cdc', 'data', 'almost', '25', 'eligible', 'population', '70', 'million', 'people', 'vaccinated', '55', 'total', 'us', 'population', 'fully', 'vaccinated', 'number', 'people', 'eligible', 'get', 'vaccine', 'may', 'soon', 'widening', 'though', 'could', 'boost', 'overall', 'number', 'pfizer/biontech', 'plans', 'ask', 'soon', 'authorization', 'covid-19', 'vaccine', 'children', '12', 'bringing', 'us', 'one', 'step', 'closer', 'offering', 'protection', 'population', 'grown', 'particularly', 'vulnerable', 'fall', 'season', 'gets', 'underway', 'question', 'days', 'weeks', 'pfizer', 'chairman', 'ceo', 'albert', 'bourla', 'told', 'abc', 'news', 'sunday', 'company', 'submit', 'data', 'children', 'ages', '5', '11', 'us', 'food', 'drug', 'administration', 'consideration', 'dr.', 'rochelle', 'walensky', 'director', 'cdc', 'said', 'abc', \"'s\", 'good', 'morning', 'america', 'monday', 'cdc', 'review', 'data', 'vaccines', '5-', '11-year-olds', 'urgency', 'enthusiastically', 'awaiting', 'data', 'walensky', 'said', 'asked', 'soon', 'authorization', 'shots', 'kids', 'could', 'seen', 'pfizer', 'submits', 'data']\n",
      "['daily', 'pace', 'new', 'covid-19', 'vaccination', 'united', 'states', 'low', 'centers', 'disease', 'control', 'prevention', 'start', 'track', 'mid', 'january', 'datum', 'show', 'seven', 'day', 'average', 'rate', 'people', 'get', 'shot', '231,695', '31', 'week', 'half', '47', 'month', 'early', 'far', 'cry', 'million', 'day', 'country', 'see', 'april', 'lack', 'people', 'immunize', 'sixteen', 'state', 'vaccinate', 'half', 'resident', 'accord', 'cdc', 'datum', '25', 'eligible', 'population', '70', 'million', 'people', 'vaccinate', '55', 'total', 'population', 'fully', 'vaccinate', 'number', 'people', 'eligible', 'vaccine', 'soon', 'widen', 'boost', 'overall', 'number', 'pfizer', 'biontech', 'plan', 'ask', 'soon', 'authorization', 'covid-19', 'vaccine', 'child', '12', 'bring', 'step', 'close', 'offer', 'protection', 'population', 'grow', 'particularly', 'vulnerable', 'fall', 'season', 'get', 'underway', 'question', 'day', 'week', 'pfizer', 'chairman', 'ceo', 'albert', 'bourla', 'tell', 'abc', 'news', 'sunday', 'company', 'submit', 'datum', 'child', 'age', '5', '11', 'food', 'drug', 'administration', 'consideration', 'dr.', 'rochelle', 'walensky', 'director', 'cdc', 'say', 'abc', 'good', 'morning', 'america', 'monday', 'cdc', 'review', 'datum', 'vaccine', '5-', '11', 'year', 'old', 'urgency', 'enthusiastically', 'await', 'datum', 'walensky', 'say', 'ask', 'soon', 'authorization', 'shot', 'kid', 'see', 'pfizer', 'submit', 'datum']\n"
     ]
    }
   ],
   "source": [
    "# Importing spaCy\n",
    "import spacy\n",
    "from spacy.tokens import Doc\n",
    "\n",
    "# Import of English rules\n",
    "nlp = spacy.load(\"en_core_web_sm\")\n",
    "\n",
    "# Create Doc - a sequence of Tokens\n",
    "doc = nlp(text)\n",
    "\n",
    "# I had to remove punct, whitespace and stop words again, now in spaCy style\n",
    "# and to lowercase, too\n",
    "words_lemmed = [token.lemma_.lower() for token in doc if not(token.is_punct) and not(token.is_stop) and not(token.is_space)]\n",
    "\n",
    "# Calculating new frequency distribution\n",
    "fd_lemmed = FreqDist(words_lemmed)\n",
    "\n",
    "# Plotting the new top 20\n",
    "fd_lemmed.plot(20)\n",
    "\n",
    "print(text_words)\n",
    "print(words_lemmed)"
   ]
  },
  {
   "cell_type": "markdown",
   "metadata": {
    "cell_id": "00024-e0fe52fd-bec2-438f-bfda-4a822c90b21c",
    "deepnote_cell_type": "markdown",
    "tags": []
   },
   "source": [
    "**Answer**:  \n",
    "Some changes there: `'data'` was changed to `'datum'` and became new TOP, `'vaccinate'` and `'vaccine'` is now two words.\n",
    "`'pfizer'` went up. The curve overall seem to be very similar, the lemmatized words are more to the point."
   ]
  },
  {
   "cell_type": "markdown",
   "metadata": {
    "cell_id": "00025-a2e711c0-c43e-4cb0-b793-9203c966c25a",
    "deepnote_cell_type": "markdown",
    "tags": []
   },
   "source": [
    "* Compare the two methods: are the words with the highest values in the FreqDist the same?"
   ]
  },
  {
   "cell_type": "markdown",
   "metadata": {
    "cell_id": "00026-a8c5d402-1750-439f-a70b-6b05f7e778a0",
    "deepnote_cell_type": "markdown",
    "tags": []
   },
   "source": [
    "**Answer**:  \n",
    "I answered it already above."
   ]
  },
  {
   "cell_type": "markdown",
   "metadata": {
    "created_in_deepnote_cell": true,
    "deepnote_cell_type": "markdown",
    "tags": []
   },
   "source": [
    "<a style='text-decoration:none;line-height:16px;display:flex;color:#5B5B62;padding:10px;justify-content:end;' href='https://deepnote.com?utm_source=created-in-deepnote-cell&projectId=cfd8b0ae-bede-4fbf-8370-46f1acdfcc89' target=\"_blank\">\n",
    "<img alt='Created in deepnote.com' style='display:inline;max-height:16px;margin:0px;margin-right:7.5px;' src='data:image/svg+xml;base64,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' > </img>\n",
    "Created in <span style='font-weight:600;margin-left:4px;'>Deepnote</span></a>"
   ]
  }
 ],
 "metadata": {
  "deepnote": {
   "is_reactive": false
  },
  "deepnote_execution_queue": [],
  "deepnote_notebook_id": "f953d54f-a11c-40ed-8518-c56e25b3b9e7",
  "kernelspec": {
   "display_name": "Python 3",
   "language": "python",
   "name": "python3"
  },
  "language_info": {
   "codemirror_mode": {
    "name": "ipython",
    "version": 3
   },
   "file_extension": ".py",
   "mimetype": "text/x-python",
   "name": "python",
   "nbconvert_exporter": "python",
   "pygments_lexer": "ipython3",
   "version": "3.8.8"
  }
 },
 "nbformat": 4,
 "nbformat_minor": 2
}
