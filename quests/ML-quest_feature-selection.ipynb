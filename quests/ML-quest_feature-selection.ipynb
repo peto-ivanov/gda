{
  "cells": [
    {
      "cell_type": "code",
      "execution_count": 64,
      "metadata": {
        "id": "-GUAGPZmKDnD"
      },
      "outputs": [],
      "source": [
        "import pandas as pd\n",
        "import seaborn as sns\n",
        "import numpy as np\n",
        "from sklearn.feature_selection import RFE"
      ]
    },
    {
      "cell_type": "markdown",
      "metadata": {
        "id": "gsr0utXxLjt1"
      },
      "source": [
        "# 1. Recursive Feature Elimination (RFE)\n",
        "Using the MPG dataset, let's see if we could predict the optimal features for a linear regression model when trying to predict the \"mpg\" or \"miles per gallon\".\n",
        "NOTE: Miles per gallon is the common way in the US to measure the distance that a car could go per amount of fuel."
      ]
    },
    {
      "cell_type": "code",
      "execution_count": 2,
      "metadata": {
        "colab": {
          "base_uri": "https://localhost:8080/",
          "height": 204
        },
        "id": "ebb407OWMBie",
        "outputId": "3717f6b3-2408-4e9b-d361-6f206faed938"
      },
      "outputs": [
        {
          "data": {
            "text/html": [
              "<div>\n",
              "<style scoped>\n",
              "    .dataframe tbody tr th:only-of-type {\n",
              "        vertical-align: middle;\n",
              "    }\n",
              "\n",
              "    .dataframe tbody tr th {\n",
              "        vertical-align: top;\n",
              "    }\n",
              "\n",
              "    .dataframe thead th {\n",
              "        text-align: right;\n",
              "    }\n",
              "</style>\n",
              "<table border=\"1\" class=\"dataframe\">\n",
              "  <thead>\n",
              "    <tr style=\"text-align: right;\">\n",
              "      <th></th>\n",
              "      <th>mpg</th>\n",
              "      <th>cylinders</th>\n",
              "      <th>displacement</th>\n",
              "      <th>horsepower</th>\n",
              "      <th>weight</th>\n",
              "      <th>acceleration</th>\n",
              "      <th>model_year</th>\n",
              "      <th>origin</th>\n",
              "      <th>name</th>\n",
              "    </tr>\n",
              "  </thead>\n",
              "  <tbody>\n",
              "    <tr>\n",
              "      <th>0</th>\n",
              "      <td>18.0</td>\n",
              "      <td>8</td>\n",
              "      <td>307.0</td>\n",
              "      <td>130.0</td>\n",
              "      <td>3504</td>\n",
              "      <td>12.0</td>\n",
              "      <td>70</td>\n",
              "      <td>usa</td>\n",
              "      <td>chevrolet chevelle malibu</td>\n",
              "    </tr>\n",
              "    <tr>\n",
              "      <th>1</th>\n",
              "      <td>15.0</td>\n",
              "      <td>8</td>\n",
              "      <td>350.0</td>\n",
              "      <td>165.0</td>\n",
              "      <td>3693</td>\n",
              "      <td>11.5</td>\n",
              "      <td>70</td>\n",
              "      <td>usa</td>\n",
              "      <td>buick skylark 320</td>\n",
              "    </tr>\n",
              "    <tr>\n",
              "      <th>2</th>\n",
              "      <td>18.0</td>\n",
              "      <td>8</td>\n",
              "      <td>318.0</td>\n",
              "      <td>150.0</td>\n",
              "      <td>3436</td>\n",
              "      <td>11.0</td>\n",
              "      <td>70</td>\n",
              "      <td>usa</td>\n",
              "      <td>plymouth satellite</td>\n",
              "    </tr>\n",
              "    <tr>\n",
              "      <th>3</th>\n",
              "      <td>16.0</td>\n",
              "      <td>8</td>\n",
              "      <td>304.0</td>\n",
              "      <td>150.0</td>\n",
              "      <td>3433</td>\n",
              "      <td>12.0</td>\n",
              "      <td>70</td>\n",
              "      <td>usa</td>\n",
              "      <td>amc rebel sst</td>\n",
              "    </tr>\n",
              "    <tr>\n",
              "      <th>4</th>\n",
              "      <td>17.0</td>\n",
              "      <td>8</td>\n",
              "      <td>302.0</td>\n",
              "      <td>140.0</td>\n",
              "      <td>3449</td>\n",
              "      <td>10.5</td>\n",
              "      <td>70</td>\n",
              "      <td>usa</td>\n",
              "      <td>ford torino</td>\n",
              "    </tr>\n",
              "  </tbody>\n",
              "</table>\n",
              "</div>"
            ],
            "text/plain": [
              "    mpg  cylinders  displacement  horsepower  weight  acceleration  \\\n",
              "0  18.0          8         307.0       130.0    3504          12.0   \n",
              "1  15.0          8         350.0       165.0    3693          11.5   \n",
              "2  18.0          8         318.0       150.0    3436          11.0   \n",
              "3  16.0          8         304.0       150.0    3433          12.0   \n",
              "4  17.0          8         302.0       140.0    3449          10.5   \n",
              "\n",
              "   model_year origin                       name  \n",
              "0          70    usa  chevrolet chevelle malibu  \n",
              "1          70    usa          buick skylark 320  \n",
              "2          70    usa         plymouth satellite  \n",
              "3          70    usa              amc rebel sst  \n",
              "4          70    usa                ford torino  "
            ]
          },
          "execution_count": 2,
          "metadata": {},
          "output_type": "execute_result"
        }
      ],
      "source": [
        "# Upload the data\n",
        "data = sns.load_dataset('mpg')\n",
        "\n",
        "# Take a look at the data\n",
        "data.head()"
      ]
    },
    {
      "cell_type": "code",
      "execution_count": 3,
      "metadata": {
        "colab": {
          "base_uri": "https://localhost:8080/",
          "height": 36
        },
        "id": "0NYsniEeMGXV",
        "outputId": "a3d30f6d-8ed0-4ffa-d0bc-7cc00a505d68"
      },
      "outputs": [
        {
          "data": {
            "text/plain": [
              "(398, 9)"
            ]
          },
          "execution_count": 3,
          "metadata": {},
          "output_type": "execute_result"
        }
      ],
      "source": [
        "# Look at the shape\n",
        "data.shape"
      ]
    },
    {
      "cell_type": "code",
      "execution_count": 4,
      "metadata": {
        "id": "C1KL9JKENBPl"
      },
      "outputs": [],
      "source": [
        "# For the sake of this exercise, drop the \"origin\" and the \"name\" variables from our dataset\n",
        "data = data.drop([\"origin\", \"name\"], axis=1)\n",
        "data.dropna(axis=0, inplace=True)"
      ]
    },
    {
      "cell_type": "code",
      "execution_count": 5,
      "metadata": {
        "colab": {
          "base_uri": "https://localhost:8080/",
          "height": 204
        },
        "id": "fdQh8O3wNRJa",
        "outputId": "b88c51db-9bc3-4017-db03-7acd6e99c687"
      },
      "outputs": [
        {
          "data": {
            "text/html": [
              "<div>\n",
              "<style scoped>\n",
              "    .dataframe tbody tr th:only-of-type {\n",
              "        vertical-align: middle;\n",
              "    }\n",
              "\n",
              "    .dataframe tbody tr th {\n",
              "        vertical-align: top;\n",
              "    }\n",
              "\n",
              "    .dataframe thead th {\n",
              "        text-align: right;\n",
              "    }\n",
              "</style>\n",
              "<table border=\"1\" class=\"dataframe\">\n",
              "  <thead>\n",
              "    <tr style=\"text-align: right;\">\n",
              "      <th></th>\n",
              "      <th>mpg</th>\n",
              "      <th>cylinders</th>\n",
              "      <th>displacement</th>\n",
              "      <th>horsepower</th>\n",
              "      <th>weight</th>\n",
              "      <th>acceleration</th>\n",
              "      <th>model_year</th>\n",
              "    </tr>\n",
              "  </thead>\n",
              "  <tbody>\n",
              "    <tr>\n",
              "      <th>0</th>\n",
              "      <td>18.0</td>\n",
              "      <td>8</td>\n",
              "      <td>307.0</td>\n",
              "      <td>130.0</td>\n",
              "      <td>3504</td>\n",
              "      <td>12.0</td>\n",
              "      <td>70</td>\n",
              "    </tr>\n",
              "    <tr>\n",
              "      <th>1</th>\n",
              "      <td>15.0</td>\n",
              "      <td>8</td>\n",
              "      <td>350.0</td>\n",
              "      <td>165.0</td>\n",
              "      <td>3693</td>\n",
              "      <td>11.5</td>\n",
              "      <td>70</td>\n",
              "    </tr>\n",
              "    <tr>\n",
              "      <th>2</th>\n",
              "      <td>18.0</td>\n",
              "      <td>8</td>\n",
              "      <td>318.0</td>\n",
              "      <td>150.0</td>\n",
              "      <td>3436</td>\n",
              "      <td>11.0</td>\n",
              "      <td>70</td>\n",
              "    </tr>\n",
              "    <tr>\n",
              "      <th>3</th>\n",
              "      <td>16.0</td>\n",
              "      <td>8</td>\n",
              "      <td>304.0</td>\n",
              "      <td>150.0</td>\n",
              "      <td>3433</td>\n",
              "      <td>12.0</td>\n",
              "      <td>70</td>\n",
              "    </tr>\n",
              "    <tr>\n",
              "      <th>4</th>\n",
              "      <td>17.0</td>\n",
              "      <td>8</td>\n",
              "      <td>302.0</td>\n",
              "      <td>140.0</td>\n",
              "      <td>3449</td>\n",
              "      <td>10.5</td>\n",
              "      <td>70</td>\n",
              "    </tr>\n",
              "  </tbody>\n",
              "</table>\n",
              "</div>"
            ],
            "text/plain": [
              "    mpg  cylinders  displacement  horsepower  weight  acceleration  model_year\n",
              "0  18.0          8         307.0       130.0    3504          12.0          70\n",
              "1  15.0          8         350.0       165.0    3693          11.5          70\n",
              "2  18.0          8         318.0       150.0    3436          11.0          70\n",
              "3  16.0          8         304.0       150.0    3433          12.0          70\n",
              "4  17.0          8         302.0       140.0    3449          10.5          70"
            ]
          },
          "execution_count": 5,
          "metadata": {},
          "output_type": "execute_result"
        }
      ],
      "source": [
        "# Once again, take a look at the new dataset\n",
        "data.head()"
      ]
    },
    {
      "cell_type": "code",
      "execution_count": 6,
      "metadata": {
        "id": "SYO48mToMMao"
      },
      "outputs": [],
      "source": [
        "# Remember that the main thing that we need to do when using RFE is deciding how many features to use\n",
        "from sklearn.model_selection import train_test_split\n",
        "\n",
        "y = data.mpg\n",
        "x = data.drop([\"mpg\"], axis=1)\n",
        "x_train, x_test, y_train, y_test = train_test_split(x, y, test_size=0.2, random_state=9)\n"
      ]
    },
    {
      "cell_type": "markdown",
      "metadata": {
        "id": "ifbCpZq5cHPw"
      },
      "source": [
        "### Let's do linear regression on all of the variables first so that we have a baseline to compare feature selection results with!"
      ]
    },
    {
      "cell_type": "code",
      "execution_count": 7,
      "metadata": {
        "id": "mpSCzUY_Oi6y"
      },
      "outputs": [],
      "source": [
        "# Your code:\n",
        "from sklearn.linear_model import LinearRegression\n",
        "\n",
        "# Fit the model.\n",
        "linear_model = LinearRegression().fit(x_train, y_train)"
      ]
    },
    {
      "cell_type": "code",
      "execution_count": 8,
      "metadata": {
        "id": "U-x6JfxoOjwZ"
      },
      "outputs": [],
      "source": [
        "# Predict \n",
        "y_test_predict = linear_model.predict(x_test)"
      ]
    },
    {
      "cell_type": "code",
      "execution_count": 9,
      "metadata": {
        "id": "7CGFMhVePpMD"
      },
      "outputs": [
        {
          "data": {
            "text/plain": [
              "0.8259555584834549"
            ]
          },
          "execution_count": 9,
          "metadata": {},
          "output_type": "execute_result"
        }
      ],
      "source": [
        "# Return the R2 score of the linear regression model.\n",
        "linear_model.score(x_test, y_test)"
      ]
    },
    {
      "cell_type": "markdown",
      "metadata": {
        "id": "ZFCdvaTfZw6P"
      },
      "source": [
        "### Use RFE to check how many features to include"
      ]
    },
    {
      "cell_type": "code",
      "execution_count": 35,
      "metadata": {
        "id": "mSWo4VH4P7EO"
      },
      "outputs": [
        {
          "name": "stdout",
          "output_type": "stream",
          "text": [
            "[1 2 4 3 1 1]\n"
          ]
        },
        {
          "data": {
            "text/plain": [
              "0.6994356944511378"
            ]
          },
          "execution_count": 35,
          "metadata": {},
          "output_type": "execute_result"
        }
      ],
      "source": [
        "# Your code:\n",
        "# Running the RFE with best 3 features to select\n",
        "rfe = RFE(LinearRegression(), n_features_to_select=3).fit(x_train, y_train)\n",
        "\n",
        "# Print out ranking of the features\n",
        "print(rfe.ranking_)\n",
        "\n",
        "# R2 score for the model with selected (3) features\n",
        "rfe.score(x_test, y_test)\n",
        "\n"
      ]
    },
    {
      "cell_type": "markdown",
      "metadata": {
        "id": "ysqc1VnvZ-eA"
      },
      "source": [
        "### If we want to have an R2 value of above 80%, how many features do you think we should select?\n",
        "\n",
        "Using your answer, run the RFE algorithm again and note down which features should be used."
      ]
    },
    {
      "cell_type": "code",
      "execution_count": 34,
      "metadata": {
        "id": "5lCo-Hv6UTg-"
      },
      "outputs": [
        {
          "name": "stdout",
          "output_type": "stream",
          "text": [
            "R2 (n=2) = 0.7000722849271235\n",
            "R2 (n=3) = 0.6994356944511378\n",
            "R2 (n=4) = 0.759098815033987\n",
            "R2 (n=5) = 0.8260092069531465\n"
          ]
        },
        {
          "data": {
            "text/plain": [
              "[None, None, None, None]"
            ]
          },
          "execution_count": 34,
          "metadata": {},
          "output_type": "execute_result"
        }
      ],
      "source": [
        "# This line runs RFE with best 2, 3, 4 and 5 features and prints the R2 score for them\n",
        "[print(f\"R2 (n={n}) = {RFE(LinearRegression(), n_features_to_select=n).fit(x_train, y_train).score(x_test, y_test)}\") for n in range(2,6)]"
      ]
    },
    {
      "cell_type": "markdown",
      "metadata": {
        "id": "iq-BB1NFWEIx"
      },
      "source": [
        "# 2. Analysis of Variance (ANOVA)\n",
        "\n",
        "Remember that while using ANOVA (as well as the Chi Squared Test and the Pearson Correlation Coefficient test), there is NO need to choose a machine learning model beforehand.\n",
        "\n",
        "Knowing this, we're going to use the Iris dataset again to see if we could predict the categorical variable (species) using continuous variables, which is typically what ANOVA does.\n"
      ]
    },
    {
      "cell_type": "code",
      "execution_count": 36,
      "metadata": {
        "colab": {
          "base_uri": "https://localhost:8080/",
          "height": 204
        },
        "id": "9HOxUDUHWXaA",
        "outputId": "344030fb-cd9e-4d59-bb13-72038623b881"
      },
      "outputs": [
        {
          "data": {
            "text/html": [
              "<div>\n",
              "<style scoped>\n",
              "    .dataframe tbody tr th:only-of-type {\n",
              "        vertical-align: middle;\n",
              "    }\n",
              "\n",
              "    .dataframe tbody tr th {\n",
              "        vertical-align: top;\n",
              "    }\n",
              "\n",
              "    .dataframe thead th {\n",
              "        text-align: right;\n",
              "    }\n",
              "</style>\n",
              "<table border=\"1\" class=\"dataframe\">\n",
              "  <thead>\n",
              "    <tr style=\"text-align: right;\">\n",
              "      <th></th>\n",
              "      <th>sepal_length</th>\n",
              "      <th>sepal_width</th>\n",
              "      <th>petal_length</th>\n",
              "      <th>petal_width</th>\n",
              "      <th>species</th>\n",
              "    </tr>\n",
              "  </thead>\n",
              "  <tbody>\n",
              "    <tr>\n",
              "      <th>0</th>\n",
              "      <td>5.1</td>\n",
              "      <td>3.5</td>\n",
              "      <td>1.4</td>\n",
              "      <td>0.2</td>\n",
              "      <td>setosa</td>\n",
              "    </tr>\n",
              "    <tr>\n",
              "      <th>1</th>\n",
              "      <td>4.9</td>\n",
              "      <td>3.0</td>\n",
              "      <td>1.4</td>\n",
              "      <td>0.2</td>\n",
              "      <td>setosa</td>\n",
              "    </tr>\n",
              "    <tr>\n",
              "      <th>2</th>\n",
              "      <td>4.7</td>\n",
              "      <td>3.2</td>\n",
              "      <td>1.3</td>\n",
              "      <td>0.2</td>\n",
              "      <td>setosa</td>\n",
              "    </tr>\n",
              "    <tr>\n",
              "      <th>3</th>\n",
              "      <td>4.6</td>\n",
              "      <td>3.1</td>\n",
              "      <td>1.5</td>\n",
              "      <td>0.2</td>\n",
              "      <td>setosa</td>\n",
              "    </tr>\n",
              "    <tr>\n",
              "      <th>4</th>\n",
              "      <td>5.0</td>\n",
              "      <td>3.6</td>\n",
              "      <td>1.4</td>\n",
              "      <td>0.2</td>\n",
              "      <td>setosa</td>\n",
              "    </tr>\n",
              "  </tbody>\n",
              "</table>\n",
              "</div>"
            ],
            "text/plain": [
              "   sepal_length  sepal_width  petal_length  petal_width species\n",
              "0           5.1          3.5           1.4          0.2  setosa\n",
              "1           4.9          3.0           1.4          0.2  setosa\n",
              "2           4.7          3.2           1.3          0.2  setosa\n",
              "3           4.6          3.1           1.5          0.2  setosa\n",
              "4           5.0          3.6           1.4          0.2  setosa"
            ]
          },
          "execution_count": 36,
          "metadata": {},
          "output_type": "execute_result"
        }
      ],
      "source": [
        "from sklearn.feature_selection import SelectKBest, f_classif\n",
        "\n",
        "# Load in the iris dataset.\n",
        "data = sns.load_dataset('iris')\n",
        "data.dropna(axis=0, inplace=True)\n",
        "data.head()"
      ]
    },
    {
      "cell_type": "code",
      "execution_count": 37,
      "metadata": {
        "id": "w7acgdAtZG_n"
      },
      "outputs": [],
      "source": [
        "y = data.species\n",
        "x = data.drop([\"species\"], axis=1)\n",
        "x_train, x_test, y_train, y_test = train_test_split(x, y, test_size=0.2)"
      ]
    },
    {
      "cell_type": "markdown",
      "metadata": {
        "id": "glv3y-9-aPSE"
      },
      "source": [
        "### Using only the top 2 features and the SelectKBest function, use the fit() function to run this test.\n",
        "Remember that you should only use this method on the x_train and y_train datasets!"
      ]
    },
    {
      "cell_type": "code",
      "execution_count": 51,
      "metadata": {
        "id": "mpCz9YobXt3J"
      },
      "outputs": [
        {
          "data": {
            "text/plain": [
              "array([102.09508257,  51.65845745, 971.72082671, 821.17156381])"
            ]
          },
          "execution_count": 51,
          "metadata": {},
          "output_type": "execute_result"
        }
      ],
      "source": [
        "# Your code:\n",
        "KB_selector = SelectKBest(k=2).fit(x_train, y_train)"
      ]
    },
    {
      "cell_type": "code",
      "execution_count": 100,
      "metadata": {
        "id": "cIMkJYH9oTLh"
      },
      "outputs": [
        {
          "data": {
            "text/html": [
              "<div>\n",
              "<style scoped>\n",
              "    .dataframe tbody tr th:only-of-type {\n",
              "        vertical-align: middle;\n",
              "    }\n",
              "\n",
              "    .dataframe tbody tr th {\n",
              "        vertical-align: top;\n",
              "    }\n",
              "\n",
              "    .dataframe thead th {\n",
              "        text-align: right;\n",
              "    }\n",
              "</style>\n",
              "<table border=\"1\" class=\"dataframe\">\n",
              "  <thead>\n",
              "    <tr style=\"text-align: right;\">\n",
              "      <th></th>\n",
              "      <th>score</th>\n",
              "    </tr>\n",
              "  </thead>\n",
              "  <tbody>\n",
              "    <tr>\n",
              "      <th>petal_length</th>\n",
              "      <td>971.720827</td>\n",
              "    </tr>\n",
              "    <tr>\n",
              "      <th>petal_width</th>\n",
              "      <td>821.171564</td>\n",
              "    </tr>\n",
              "    <tr>\n",
              "      <th>sepal_length</th>\n",
              "      <td>102.095083</td>\n",
              "    </tr>\n",
              "  </tbody>\n",
              "</table>\n",
              "</div>"
            ],
            "text/plain": [
              "                   score\n",
              "petal_length  971.720827\n",
              "petal_width   821.171564\n",
              "sepal_length  102.095083"
            ]
          },
          "execution_count": 100,
          "metadata": {},
          "output_type": "execute_result"
        }
      ],
      "source": [
        "# Print the three most relevant variables from your results above.\n",
        "\n",
        "# Fitting the SelectKBest with k=3\n",
        "KB_selector = SelectKBest(k=3, score_func=f_classif).fit(x_train, y_train)\n",
        "\n",
        "# Creating a DataFrame with scores\n",
        "results = pd.DataFrame(KB_selector.scores_,  index=x_train.columns, columns=[\"score\"])\n",
        "\n",
        "# Getting them sorted and printed Top 3\n",
        "results.sort_values(\"score\", ascending=False).head(3)\n"
      ]
    },
    {
      "cell_type": "markdown",
      "metadata": {
        "id": "SdclqCV7adVn"
      },
      "source": [
        "### Let's see how these three variables perform in a machine learning context.\n",
        "Plug these three variables into an SVM using scikit-learn"
      ]
    },
    {
      "cell_type": "code",
      "execution_count": 91,
      "metadata": {
        "id": "JIWxcT7QYIvx"
      },
      "outputs": [],
      "source": [
        "# Your code:\n",
        "from sklearn.svm import SVC\n",
        "from sklearn.metrics import plot_confusion_matrix\n",
        "\n",
        "SVC_model = SVC().fit(KB_selector.transform(x_train), y_train)"
      ]
    },
    {
      "cell_type": "code",
      "execution_count": 88,
      "metadata": {
        "id": "qyoBK_jLddGh"
      },
      "outputs": [
        {
          "data": {
            "text/plain": [
              "0.9333333333333333"
            ]
          },
          "execution_count": 88,
          "metadata": {},
          "output_type": "execute_result"
        }
      ],
      "source": [
        "# Get the accuracy score\n",
        "SVC_model.score(KB_selector.transform(x_test), y_test)"
      ]
    },
    {
      "cell_type": "markdown",
      "metadata": {
        "id": "C0wz3Wv3d40p"
      },
      "source": [
        "# 3. Chi-Squared Test\n",
        "Now that we know how to do the ANOVA test, the Chi-Squared test is extremely similar in implementation. Remember that unlike the ANOVA test, the Chi-Squared Test should only be ran when you want to predict a categorical response with categorical columns!\n",
        "\n",
        "With this in mind, let's use the titanic dataset again to see if we could predict the categorical variable \"alive\"."
      ]
    },
    {
      "cell_type": "code",
      "execution_count": 104,
      "metadata": {
        "colab": {
          "base_uri": "https://localhost:8080/",
          "height": 204
        },
        "id": "TL21vSi1d76c",
        "outputId": "0796b688-dcaf-421e-f891-e67c5e8e6b70"
      },
      "outputs": [
        {
          "data": {
            "text/html": [
              "<div>\n",
              "<style scoped>\n",
              "    .dataframe tbody tr th:only-of-type {\n",
              "        vertical-align: middle;\n",
              "    }\n",
              "\n",
              "    .dataframe tbody tr th {\n",
              "        vertical-align: top;\n",
              "    }\n",
              "\n",
              "    .dataframe thead th {\n",
              "        text-align: right;\n",
              "    }\n",
              "</style>\n",
              "<table border=\"1\" class=\"dataframe\">\n",
              "  <thead>\n",
              "    <tr style=\"text-align: right;\">\n",
              "      <th></th>\n",
              "      <th>survived</th>\n",
              "      <th>pclass</th>\n",
              "      <th>sex</th>\n",
              "      <th>age</th>\n",
              "      <th>sibsp</th>\n",
              "      <th>parch</th>\n",
              "      <th>fare</th>\n",
              "      <th>embarked</th>\n",
              "      <th>class</th>\n",
              "      <th>who</th>\n",
              "      <th>adult_male</th>\n",
              "      <th>deck</th>\n",
              "      <th>embark_town</th>\n",
              "      <th>alive</th>\n",
              "      <th>alone</th>\n",
              "    </tr>\n",
              "  </thead>\n",
              "  <tbody>\n",
              "    <tr>\n",
              "      <th>0</th>\n",
              "      <td>0</td>\n",
              "      <td>3</td>\n",
              "      <td>male</td>\n",
              "      <td>22.0</td>\n",
              "      <td>1</td>\n",
              "      <td>0</td>\n",
              "      <td>7.2500</td>\n",
              "      <td>S</td>\n",
              "      <td>Third</td>\n",
              "      <td>man</td>\n",
              "      <td>True</td>\n",
              "      <td>NaN</td>\n",
              "      <td>Southampton</td>\n",
              "      <td>no</td>\n",
              "      <td>False</td>\n",
              "    </tr>\n",
              "    <tr>\n",
              "      <th>1</th>\n",
              "      <td>1</td>\n",
              "      <td>1</td>\n",
              "      <td>female</td>\n",
              "      <td>38.0</td>\n",
              "      <td>1</td>\n",
              "      <td>0</td>\n",
              "      <td>71.2833</td>\n",
              "      <td>C</td>\n",
              "      <td>First</td>\n",
              "      <td>woman</td>\n",
              "      <td>False</td>\n",
              "      <td>C</td>\n",
              "      <td>Cherbourg</td>\n",
              "      <td>yes</td>\n",
              "      <td>False</td>\n",
              "    </tr>\n",
              "    <tr>\n",
              "      <th>2</th>\n",
              "      <td>1</td>\n",
              "      <td>3</td>\n",
              "      <td>female</td>\n",
              "      <td>26.0</td>\n",
              "      <td>0</td>\n",
              "      <td>0</td>\n",
              "      <td>7.9250</td>\n",
              "      <td>S</td>\n",
              "      <td>Third</td>\n",
              "      <td>woman</td>\n",
              "      <td>False</td>\n",
              "      <td>NaN</td>\n",
              "      <td>Southampton</td>\n",
              "      <td>yes</td>\n",
              "      <td>True</td>\n",
              "    </tr>\n",
              "    <tr>\n",
              "      <th>3</th>\n",
              "      <td>1</td>\n",
              "      <td>1</td>\n",
              "      <td>female</td>\n",
              "      <td>35.0</td>\n",
              "      <td>1</td>\n",
              "      <td>0</td>\n",
              "      <td>53.1000</td>\n",
              "      <td>S</td>\n",
              "      <td>First</td>\n",
              "      <td>woman</td>\n",
              "      <td>False</td>\n",
              "      <td>C</td>\n",
              "      <td>Southampton</td>\n",
              "      <td>yes</td>\n",
              "      <td>False</td>\n",
              "    </tr>\n",
              "    <tr>\n",
              "      <th>4</th>\n",
              "      <td>0</td>\n",
              "      <td>3</td>\n",
              "      <td>male</td>\n",
              "      <td>35.0</td>\n",
              "      <td>0</td>\n",
              "      <td>0</td>\n",
              "      <td>8.0500</td>\n",
              "      <td>S</td>\n",
              "      <td>Third</td>\n",
              "      <td>man</td>\n",
              "      <td>True</td>\n",
              "      <td>NaN</td>\n",
              "      <td>Southampton</td>\n",
              "      <td>no</td>\n",
              "      <td>True</td>\n",
              "    </tr>\n",
              "  </tbody>\n",
              "</table>\n",
              "</div>"
            ],
            "text/plain": [
              "   survived  pclass     sex   age  sibsp  parch     fare embarked  class  \\\n",
              "0         0       3    male  22.0      1      0   7.2500        S  Third   \n",
              "1         1       1  female  38.0      1      0  71.2833        C  First   \n",
              "2         1       3  female  26.0      0      0   7.9250        S  Third   \n",
              "3         1       1  female  35.0      1      0  53.1000        S  First   \n",
              "4         0       3    male  35.0      0      0   8.0500        S  Third   \n",
              "\n",
              "     who  adult_male deck  embark_town alive  alone  \n",
              "0    man        True  NaN  Southampton    no  False  \n",
              "1  woman       False    C    Cherbourg   yes  False  \n",
              "2  woman       False  NaN  Southampton   yes   True  \n",
              "3  woman       False    C  Southampton   yes  False  \n",
              "4    man        True  NaN  Southampton    no   True  "
            ]
          },
          "execution_count": 104,
          "metadata": {},
          "output_type": "execute_result"
        }
      ],
      "source": [
        "data = sns.load_dataset('titanic')\n",
        "data.head()"
      ]
    },
    {
      "cell_type": "code",
      "execution_count": 105,
      "metadata": {
        "colab": {
          "base_uri": "https://localhost:8080/",
          "height": 204
        },
        "id": "2sbd_7Q1elfm",
        "outputId": "3c8c1f01-c4a2-41c8-fdba-e1874e84b408"
      },
      "outputs": [
        {
          "data": {
            "text/html": [
              "<div>\n",
              "<style scoped>\n",
              "    .dataframe tbody tr th:only-of-type {\n",
              "        vertical-align: middle;\n",
              "    }\n",
              "\n",
              "    .dataframe tbody tr th {\n",
              "        vertical-align: top;\n",
              "    }\n",
              "\n",
              "    .dataframe thead th {\n",
              "        text-align: right;\n",
              "    }\n",
              "</style>\n",
              "<table border=\"1\" class=\"dataframe\">\n",
              "  <thead>\n",
              "    <tr style=\"text-align: right;\">\n",
              "      <th></th>\n",
              "      <th>sex</th>\n",
              "      <th>embarked</th>\n",
              "      <th>adult_male</th>\n",
              "      <th>alive</th>\n",
              "      <th>alone</th>\n",
              "    </tr>\n",
              "  </thead>\n",
              "  <tbody>\n",
              "    <tr>\n",
              "      <th>1</th>\n",
              "      <td>female</td>\n",
              "      <td>C</td>\n",
              "      <td>False</td>\n",
              "      <td>yes</td>\n",
              "      <td>False</td>\n",
              "    </tr>\n",
              "    <tr>\n",
              "      <th>3</th>\n",
              "      <td>female</td>\n",
              "      <td>S</td>\n",
              "      <td>False</td>\n",
              "      <td>yes</td>\n",
              "      <td>False</td>\n",
              "    </tr>\n",
              "    <tr>\n",
              "      <th>6</th>\n",
              "      <td>male</td>\n",
              "      <td>S</td>\n",
              "      <td>True</td>\n",
              "      <td>no</td>\n",
              "      <td>True</td>\n",
              "    </tr>\n",
              "    <tr>\n",
              "      <th>10</th>\n",
              "      <td>female</td>\n",
              "      <td>S</td>\n",
              "      <td>False</td>\n",
              "      <td>yes</td>\n",
              "      <td>False</td>\n",
              "    </tr>\n",
              "    <tr>\n",
              "      <th>11</th>\n",
              "      <td>female</td>\n",
              "      <td>S</td>\n",
              "      <td>False</td>\n",
              "      <td>yes</td>\n",
              "      <td>True</td>\n",
              "    </tr>\n",
              "  </tbody>\n",
              "</table>\n",
              "</div>"
            ],
            "text/plain": [
              "       sex embarked  adult_male alive  alone\n",
              "1   female        C       False   yes  False\n",
              "3   female        S       False   yes  False\n",
              "6     male        S        True    no   True\n",
              "10  female        S       False   yes  False\n",
              "11  female        S       False   yes   True"
            ]
          },
          "execution_count": 105,
          "metadata": {},
          "output_type": "execute_result"
        }
      ],
      "source": [
        "# For the sake of this exercise, we're only going to use these 5 categorical columns.\n",
        "data.dropna(axis=0, inplace=True)\n",
        "data = data[[\"sex\", \"embarked\", \"adult_male\", \"alive\", \"alone\"]]\n",
        "data.head()"
      ]
    },
    {
      "cell_type": "markdown",
      "metadata": {
        "id": "Hxbqzf86dtCP"
      },
      "source": [
        "### Transform the strings to number values.\n",
        "Note that these number values could be literally anything and the actual value does not matter!\n"
      ]
    },
    {
      "cell_type": "code",
      "execution_count": 112,
      "metadata": {
        "id": "_AnY_JnEeprl"
      },
      "outputs": [],
      "source": [
        "from sklearn.preprocessing import OrdinalEncoder\n",
        "from sklearn.feature_selection import chi2\n",
        "\n",
        "features = [\"sex\", \"embarked\", \"adult_male\", \"alone\"]\n",
        "target = [\"alive\"]\n",
        "\n",
        "X = data[features]\n",
        "y = data[target]\n",
        "\n",
        "X = OrdinalEncoder().fit_transform(X)\n",
        "y = OrdinalEncoder().fit_transform(y)"
      ]
    },
    {
      "cell_type": "markdown",
      "metadata": {
        "id": "F2uO9uXGdoUd"
      },
      "source": [
        "### Out of these 5 variables, what are the two most important variables?"
      ]
    },
    {
      "cell_type": "code",
      "execution_count": 124,
      "metadata": {
        "id": "QxTexVMye2Ol"
      },
      "outputs": [
        {
          "data": {
            "text/html": [
              "<div>\n",
              "<style scoped>\n",
              "    .dataframe tbody tr th:only-of-type {\n",
              "        vertical-align: middle;\n",
              "    }\n",
              "\n",
              "    .dataframe tbody tr th {\n",
              "        vertical-align: top;\n",
              "    }\n",
              "\n",
              "    .dataframe thead th {\n",
              "        text-align: right;\n",
              "    }\n",
              "</style>\n",
              "<table border=\"1\" class=\"dataframe\">\n",
              "  <thead>\n",
              "    <tr style=\"text-align: right;\">\n",
              "      <th></th>\n",
              "      <th>chi2</th>\n",
              "    </tr>\n",
              "  </thead>\n",
              "  <tbody>\n",
              "    <tr>\n",
              "      <th>adult_male</th>\n",
              "      <td>32.259252</td>\n",
              "    </tr>\n",
              "    <tr>\n",
              "      <th>sex</th>\n",
              "      <td>24.642385</td>\n",
              "    </tr>\n",
              "  </tbody>\n",
              "</table>\n",
              "</div>"
            ],
            "text/plain": [
              "                 chi2\n",
              "adult_male  32.259252\n",
              "sex         24.642385"
            ]
          },
          "execution_count": 124,
          "metadata": {},
          "output_type": "execute_result"
        }
      ],
      "source": [
        "# Your code:\n",
        "chi, p = chi2(X, y)\n",
        "\n",
        "# Creating a DataFrame with scores\n",
        "df_chi2 = pd.DataFrame(chi,  index=features, columns=[\"chi2\"])\n",
        "\n",
        "df_chi2.sort_values(by=\"chi2\", ascending=False).head(2)"
      ]
    },
    {
      "cell_type": "code",
      "execution_count": 126,
      "metadata": {},
      "outputs": [
        {
          "data": {
            "text/html": [
              "<div>\n",
              "<style scoped>\n",
              "    .dataframe tbody tr th:only-of-type {\n",
              "        vertical-align: middle;\n",
              "    }\n",
              "\n",
              "    .dataframe tbody tr th {\n",
              "        vertical-align: top;\n",
              "    }\n",
              "\n",
              "    .dataframe thead th {\n",
              "        text-align: right;\n",
              "    }\n",
              "</style>\n",
              "<table border=\"1\" class=\"dataframe\">\n",
              "  <thead>\n",
              "    <tr style=\"text-align: right;\">\n",
              "      <th></th>\n",
              "      <th>score</th>\n",
              "    </tr>\n",
              "  </thead>\n",
              "  <tbody>\n",
              "    <tr>\n",
              "      <th>adult_male</th>\n",
              "      <td>32.259252</td>\n",
              "    </tr>\n",
              "    <tr>\n",
              "      <th>sex</th>\n",
              "      <td>24.642385</td>\n",
              "    </tr>\n",
              "  </tbody>\n",
              "</table>\n",
              "</div>"
            ],
            "text/plain": [
              "                score\n",
              "adult_male  32.259252\n",
              "sex         24.642385"
            ]
          },
          "execution_count": 126,
          "metadata": {},
          "output_type": "execute_result"
        }
      ],
      "source": [
        "# Print the two most relevant variables from your results above.\n",
        "\n",
        "# Fitting the SelectKBest with k=2\n",
        "KB_selector = SelectKBest(k=2, score_func=chi2).fit(X, y)\n",
        "\n",
        "# Creating a DataFrame with scores\n",
        "results = pd.DataFrame(KB_selector.scores_,  index=features, columns=[\"score\"])\n",
        "\n",
        "# Getting them sorted and printed Top 3\n",
        "results.sort_values(\"score\", ascending=False).head(2)"
      ]
    },
    {
      "cell_type": "markdown",
      "metadata": {
        "id": "eaHki-QbioeN"
      },
      "source": [
        "# 4. Pearson Correlation Coefficient\n",
        "\n",
        "Now that we tried both ANOVA and the Chi-Squared Test, let's see how the Pearson Correlation Coefficient works! For this, we're going to use the car_crashes dataset!"
      ]
    },
    {
      "cell_type": "code",
      "execution_count": 127,
      "metadata": {
        "colab": {
          "base_uri": "https://localhost:8080/",
          "height": 204
        },
        "id": "H-s9w3rkiq9T",
        "outputId": "0a556c38-cb17-45b6-adce-cc961608fe40"
      },
      "outputs": [
        {
          "data": {
            "text/html": [
              "<div>\n",
              "<style scoped>\n",
              "    .dataframe tbody tr th:only-of-type {\n",
              "        vertical-align: middle;\n",
              "    }\n",
              "\n",
              "    .dataframe tbody tr th {\n",
              "        vertical-align: top;\n",
              "    }\n",
              "\n",
              "    .dataframe thead th {\n",
              "        text-align: right;\n",
              "    }\n",
              "</style>\n",
              "<table border=\"1\" class=\"dataframe\">\n",
              "  <thead>\n",
              "    <tr style=\"text-align: right;\">\n",
              "      <th></th>\n",
              "      <th>total</th>\n",
              "      <th>speeding</th>\n",
              "      <th>alcohol</th>\n",
              "      <th>not_distracted</th>\n",
              "      <th>no_previous</th>\n",
              "      <th>ins_premium</th>\n",
              "      <th>ins_losses</th>\n",
              "    </tr>\n",
              "  </thead>\n",
              "  <tbody>\n",
              "    <tr>\n",
              "      <th>0</th>\n",
              "      <td>18.8</td>\n",
              "      <td>7.332</td>\n",
              "      <td>5.640</td>\n",
              "      <td>18.048</td>\n",
              "      <td>15.040</td>\n",
              "      <td>784.55</td>\n",
              "      <td>145.08</td>\n",
              "    </tr>\n",
              "    <tr>\n",
              "      <th>1</th>\n",
              "      <td>18.1</td>\n",
              "      <td>7.421</td>\n",
              "      <td>4.525</td>\n",
              "      <td>16.290</td>\n",
              "      <td>17.014</td>\n",
              "      <td>1053.48</td>\n",
              "      <td>133.93</td>\n",
              "    </tr>\n",
              "    <tr>\n",
              "      <th>2</th>\n",
              "      <td>18.6</td>\n",
              "      <td>6.510</td>\n",
              "      <td>5.208</td>\n",
              "      <td>15.624</td>\n",
              "      <td>17.856</td>\n",
              "      <td>899.47</td>\n",
              "      <td>110.35</td>\n",
              "    </tr>\n",
              "    <tr>\n",
              "      <th>3</th>\n",
              "      <td>22.4</td>\n",
              "      <td>4.032</td>\n",
              "      <td>5.824</td>\n",
              "      <td>21.056</td>\n",
              "      <td>21.280</td>\n",
              "      <td>827.34</td>\n",
              "      <td>142.39</td>\n",
              "    </tr>\n",
              "    <tr>\n",
              "      <th>4</th>\n",
              "      <td>12.0</td>\n",
              "      <td>4.200</td>\n",
              "      <td>3.360</td>\n",
              "      <td>10.920</td>\n",
              "      <td>10.680</td>\n",
              "      <td>878.41</td>\n",
              "      <td>165.63</td>\n",
              "    </tr>\n",
              "  </tbody>\n",
              "</table>\n",
              "</div>"
            ],
            "text/plain": [
              "   total  speeding  alcohol  not_distracted  no_previous  ins_premium  \\\n",
              "0   18.8     7.332    5.640          18.048       15.040       784.55   \n",
              "1   18.1     7.421    4.525          16.290       17.014      1053.48   \n",
              "2   18.6     6.510    5.208          15.624       17.856       899.47   \n",
              "3   22.4     4.032    5.824          21.056       21.280       827.34   \n",
              "4   12.0     4.200    3.360          10.920       10.680       878.41   \n",
              "\n",
              "   ins_losses  \n",
              "0      145.08  \n",
              "1      133.93  \n",
              "2      110.35  \n",
              "3      142.39  \n",
              "4      165.63  "
            ]
          },
          "execution_count": 127,
          "metadata": {},
          "output_type": "execute_result"
        }
      ],
      "source": [
        "# Load in the dataset\n",
        "data = sns.load_dataset('car_crashes')\n",
        "\n",
        "# Drop the NA values\n",
        "data.dropna(axis=0, inplace=True)\n",
        "\n",
        "# # Drop the categorical column for this exercise\n",
        "data = data.drop(['abbrev'], axis=1)\n",
        "\n",
        "# View the data\n",
        "data.head()"
      ]
    },
    {
      "cell_type": "code",
      "execution_count": 128,
      "metadata": {
        "id": "qBgvU5Fji-jP"
      },
      "outputs": [],
      "source": [
        "# Split the dataset by using \"total\" as the response/dependent variable and the rest as independent variables.\n",
        "y = data.total\n",
        "x = data.drop([\"total\"], axis=1)\n",
        "x_train, x_test, y_train, y_test = train_test_split(x, y, test_size=0.2, random_state=100)"
      ]
    },
    {
      "cell_type": "code",
      "execution_count": 129,
      "metadata": {
        "colab": {
          "base_uri": "https://localhost:8080/",
          "height": 235
        },
        "id": "FfdmdX3OjUYk",
        "outputId": "ce65b05c-f8ec-4234-ac17-1d6db846c598"
      },
      "outputs": [
        {
          "data": {
            "text/html": [
              "<div>\n",
              "<style scoped>\n",
              "    .dataframe tbody tr th:only-of-type {\n",
              "        vertical-align: middle;\n",
              "    }\n",
              "\n",
              "    .dataframe tbody tr th {\n",
              "        vertical-align: top;\n",
              "    }\n",
              "\n",
              "    .dataframe thead th {\n",
              "        text-align: right;\n",
              "    }\n",
              "</style>\n",
              "<table border=\"1\" class=\"dataframe\">\n",
              "  <thead>\n",
              "    <tr style=\"text-align: right;\">\n",
              "      <th></th>\n",
              "      <th>speeding</th>\n",
              "      <th>alcohol</th>\n",
              "      <th>not_distracted</th>\n",
              "      <th>no_previous</th>\n",
              "      <th>ins_premium</th>\n",
              "      <th>ins_losses</th>\n",
              "    </tr>\n",
              "  </thead>\n",
              "  <tbody>\n",
              "    <tr>\n",
              "      <th>speeding</th>\n",
              "      <td>1.000000</td>\n",
              "      <td>0.695562</td>\n",
              "      <td>0.592521</td>\n",
              "      <td>0.596794</td>\n",
              "      <td>-0.025870</td>\n",
              "      <td>-0.029831</td>\n",
              "    </tr>\n",
              "    <tr>\n",
              "      <th>alcohol</th>\n",
              "      <td>0.695562</td>\n",
              "      <td>1.000000</td>\n",
              "      <td>0.727611</td>\n",
              "      <td>0.794170</td>\n",
              "      <td>-0.160553</td>\n",
              "      <td>-0.056565</td>\n",
              "    </tr>\n",
              "    <tr>\n",
              "      <th>not_distracted</th>\n",
              "      <td>0.592521</td>\n",
              "      <td>0.727611</td>\n",
              "      <td>1.000000</td>\n",
              "      <td>0.736233</td>\n",
              "      <td>-0.153648</td>\n",
              "      <td>-0.068930</td>\n",
              "    </tr>\n",
              "    <tr>\n",
              "      <th>no_previous</th>\n",
              "      <td>0.596794</td>\n",
              "      <td>0.794170</td>\n",
              "      <td>0.736233</td>\n",
              "      <td>1.000000</td>\n",
              "      <td>-0.127456</td>\n",
              "      <td>0.059174</td>\n",
              "    </tr>\n",
              "    <tr>\n",
              "      <th>ins_premium</th>\n",
              "      <td>-0.025870</td>\n",
              "      <td>-0.160553</td>\n",
              "      <td>-0.153648</td>\n",
              "      <td>-0.127456</td>\n",
              "      <td>1.000000</td>\n",
              "      <td>0.643236</td>\n",
              "    </tr>\n",
              "    <tr>\n",
              "      <th>ins_losses</th>\n",
              "      <td>-0.029831</td>\n",
              "      <td>-0.056565</td>\n",
              "      <td>-0.068930</td>\n",
              "      <td>0.059174</td>\n",
              "      <td>0.643236</td>\n",
              "      <td>1.000000</td>\n",
              "    </tr>\n",
              "  </tbody>\n",
              "</table>\n",
              "</div>"
            ],
            "text/plain": [
              "                speeding   alcohol  not_distracted  no_previous  ins_premium  \\\n",
              "speeding        1.000000  0.695562        0.592521     0.596794    -0.025870   \n",
              "alcohol         0.695562  1.000000        0.727611     0.794170    -0.160553   \n",
              "not_distracted  0.592521  0.727611        1.000000     0.736233    -0.153648   \n",
              "no_previous     0.596794  0.794170        0.736233     1.000000    -0.127456   \n",
              "ins_premium    -0.025870 -0.160553       -0.153648    -0.127456     1.000000   \n",
              "ins_losses     -0.029831 -0.056565       -0.068930     0.059174     0.643236   \n",
              "\n",
              "                ins_losses  \n",
              "speeding         -0.029831  \n",
              "alcohol          -0.056565  \n",
              "not_distracted   -0.068930  \n",
              "no_previous       0.059174  \n",
              "ins_premium       0.643236  \n",
              "ins_losses        1.000000  "
            ]
          },
          "execution_count": 129,
          "metadata": {},
          "output_type": "execute_result"
        }
      ],
      "source": [
        "# Print the correlation matrix of x_train\n",
        "x_train.corr()"
      ]
    },
    {
      "cell_type": "markdown",
      "metadata": {
        "id": "Vthh6TmCbcnn"
      },
      "source": [
        "### Name the pairs of variables that are correlated more than 72%"
      ]
    },
    {
      "cell_type": "code",
      "execution_count": 141,
      "metadata": {
        "id": "QqumfYw3jvBs"
      },
      "outputs": [
        {
          "name": "stdout",
          "output_type": "stream",
          "text": [
            "alcohol, not_distracted\n",
            "alcohol, no_previous\n",
            "not_distracted, alcohol\n",
            "not_distracted, no_previous\n",
            "no_previous, alcohol\n",
            "no_previous, not_distracted\n"
          ]
        }
      ],
      "source": [
        "# Your code:\n",
        "c_matrix = x_train.corr()>0.72\n",
        "\n",
        "for c in c_matrix.columns:\n",
        "    for i in c_matrix.index:\n",
        "        if c_matrix[c][i]:\n",
        "            if c!=i:\n",
        "                print(f\"{c}, {i}\")"
      ]
    },
    {
      "cell_type": "markdown",
      "metadata": {
        "id": "bm2wjy0AbhFP"
      },
      "source": [
        "### Using your answer to above, notice that there are three variables that are correlated with one another. \n",
        "Choose the one that comes first when put in alphabetical order and remove the other two variables from the dataset. Print the new correlation matrix of x_train."
      ]
    },
    {
      "cell_type": "code",
      "execution_count": 145,
      "metadata": {
        "id": "_YCly49qrEgy"
      },
      "outputs": [
        {
          "data": {
            "text/html": [
              "<div>\n",
              "<style scoped>\n",
              "    .dataframe tbody tr th:only-of-type {\n",
              "        vertical-align: middle;\n",
              "    }\n",
              "\n",
              "    .dataframe tbody tr th {\n",
              "        vertical-align: top;\n",
              "    }\n",
              "\n",
              "    .dataframe thead th {\n",
              "        text-align: right;\n",
              "    }\n",
              "</style>\n",
              "<table border=\"1\" class=\"dataframe\">\n",
              "  <thead>\n",
              "    <tr style=\"text-align: right;\">\n",
              "      <th></th>\n",
              "      <th>speeding</th>\n",
              "      <th>alcohol</th>\n",
              "      <th>ins_premium</th>\n",
              "      <th>ins_losses</th>\n",
              "    </tr>\n",
              "  </thead>\n",
              "  <tbody>\n",
              "    <tr>\n",
              "      <th>speeding</th>\n",
              "      <td>1.000000</td>\n",
              "      <td>0.695562</td>\n",
              "      <td>-0.025870</td>\n",
              "      <td>-0.029831</td>\n",
              "    </tr>\n",
              "    <tr>\n",
              "      <th>alcohol</th>\n",
              "      <td>0.695562</td>\n",
              "      <td>1.000000</td>\n",
              "      <td>-0.160553</td>\n",
              "      <td>-0.056565</td>\n",
              "    </tr>\n",
              "    <tr>\n",
              "      <th>ins_premium</th>\n",
              "      <td>-0.025870</td>\n",
              "      <td>-0.160553</td>\n",
              "      <td>1.000000</td>\n",
              "      <td>0.643236</td>\n",
              "    </tr>\n",
              "    <tr>\n",
              "      <th>ins_losses</th>\n",
              "      <td>-0.029831</td>\n",
              "      <td>-0.056565</td>\n",
              "      <td>0.643236</td>\n",
              "      <td>1.000000</td>\n",
              "    </tr>\n",
              "  </tbody>\n",
              "</table>\n",
              "</div>"
            ],
            "text/plain": [
              "             speeding   alcohol  ins_premium  ins_losses\n",
              "speeding     1.000000  0.695562    -0.025870   -0.029831\n",
              "alcohol      0.695562  1.000000    -0.160553   -0.056565\n",
              "ins_premium -0.025870 -0.160553     1.000000    0.643236\n",
              "ins_losses  -0.029831 -0.056565     0.643236    1.000000"
            ]
          },
          "execution_count": 145,
          "metadata": {},
          "output_type": "execute_result"
        }
      ],
      "source": [
        "# Your code:\n",
        "x_train.drop(columns=[\"not_distracted\", \"no_previous\"]).corr()"
      ]
    }
  ],
  "metadata": {
    "colab": {
      "collapsed_sections": [],
      "name": "Quest_FeatureSelection.ipynb",
      "provenance": []
    },
    "interpreter": {
      "hash": "720fa6d0f11b7ec96fc5a2305c253a374b95718251f66e414cba1cc0c6bb49e9"
    },
    "kernelspec": {
      "display_name": "Python 3.8.8 64-bit ('base': conda)",
      "name": "python3"
    },
    "language_info": {
      "codemirror_mode": {
        "name": "ipython",
        "version": 3
      },
      "file_extension": ".py",
      "mimetype": "text/x-python",
      "name": "python",
      "nbconvert_exporter": "python",
      "pygments_lexer": "ipython3",
      "version": "3.8.8"
    }
  },
  "nbformat": 4,
  "nbformat_minor": 0
}
