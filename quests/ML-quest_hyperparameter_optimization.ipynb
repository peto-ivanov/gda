{
 "cells": [
  {
   "cell_type": "markdown",
   "source": [
    "# Hyperparameter Optimization using GridSearchCV and RandomizedSearchCV"
   ],
   "metadata": {}
  },
  {
   "cell_type": "markdown",
   "source": [
    "We're revisiting the Titanic again. The data set is located [here](https://web.stanford.edu/class/archive/cs/cs109/cs109.1166/stuff/titanic.csv). On this data set:\r\n",
    "1. You will perform a supervised classification on the column \"survived\", using the decision tree classifier. You must clearly show the __accuracy score of the test set__.\r\n",
    "2. With this same classifier, you will run a __GridSearch__ with the values :\r\n",
    "    - all integers from 1 to 50 of the parameter `max_depth`\r\n",
    "    - all integers from 1 and 15 of the parameter `min_samples_leaf`\r\n",
    "    - (2, 5, 7, 10, 15, 30) of the `min_samples_split` parameter\r\n",
    "3. With this search via __GridSearch__, what are the best values of the hyperparameters if we want to maximize the accuracy score ?\r\n",
    "4. With this same classifier, you will run a RandomSearch on the same parameter values limiting to 200 iterations.\r\n",
    "5. With this search via __RandomSearch__, what are the best values of the hyperparameters if we want to maximize the accuracy score?\r\n"
   ],
   "metadata": {}
  },
  {
   "cell_type": "markdown",
   "source": [
    "## Task 1"
   ],
   "metadata": {}
  },
  {
   "cell_type": "markdown",
   "source": [
    "* You will perform a supervised classification on the column \"survived\", using the decision tree classifier. You must clearly show the __accuracy score of the test set__."
   ],
   "metadata": {}
  },
  {
   "cell_type": "code",
   "execution_count": 12,
   "source": [
    "# Importing the necessary modules\r\n",
    "import numpy as np\r\n",
    "import pandas as pd\r\n",
    "\r\n",
    "from sklearn.ensemble import RandomForestClassifier\r\n",
    "from sklearn.compose import make_column_transformer\r\n",
    "from sklearn.preprocessing import OrdinalEncoder\r\n",
    "from sklearn.pipeline import make_pipeline\r\n",
    "from sklearn.model_selection import GridSearchCV, RandomizedSearchCV, train_test_split"
   ],
   "outputs": [],
   "metadata": {}
  },
  {
   "cell_type": "code",
   "execution_count": 4,
   "source": [
    "df = pd.read_csv(\"https://web.stanford.edu/class/archive/cs/cs109/cs109.1166/stuff/titanic.csv\")\r\n",
    "\r\n",
    "df.head(5)"
   ],
   "outputs": [
    {
     "output_type": "execute_result",
     "data": {
      "text/html": [
       "<div>\n",
       "<style scoped>\n",
       "    .dataframe tbody tr th:only-of-type {\n",
       "        vertical-align: middle;\n",
       "    }\n",
       "\n",
       "    .dataframe tbody tr th {\n",
       "        vertical-align: top;\n",
       "    }\n",
       "\n",
       "    .dataframe thead th {\n",
       "        text-align: right;\n",
       "    }\n",
       "</style>\n",
       "<table border=\"1\" class=\"dataframe\">\n",
       "  <thead>\n",
       "    <tr style=\"text-align: right;\">\n",
       "      <th></th>\n",
       "      <th>Survived</th>\n",
       "      <th>Pclass</th>\n",
       "      <th>Name</th>\n",
       "      <th>Sex</th>\n",
       "      <th>Age</th>\n",
       "      <th>Siblings/Spouses Aboard</th>\n",
       "      <th>Parents/Children Aboard</th>\n",
       "      <th>Fare</th>\n",
       "    </tr>\n",
       "  </thead>\n",
       "  <tbody>\n",
       "    <tr>\n",
       "      <th>0</th>\n",
       "      <td>0</td>\n",
       "      <td>3</td>\n",
       "      <td>Mr. Owen Harris Braund</td>\n",
       "      <td>male</td>\n",
       "      <td>22.0</td>\n",
       "      <td>1</td>\n",
       "      <td>0</td>\n",
       "      <td>7.2500</td>\n",
       "    </tr>\n",
       "    <tr>\n",
       "      <th>1</th>\n",
       "      <td>1</td>\n",
       "      <td>1</td>\n",
       "      <td>Mrs. John Bradley (Florence Briggs Thayer) Cum...</td>\n",
       "      <td>female</td>\n",
       "      <td>38.0</td>\n",
       "      <td>1</td>\n",
       "      <td>0</td>\n",
       "      <td>71.2833</td>\n",
       "    </tr>\n",
       "    <tr>\n",
       "      <th>2</th>\n",
       "      <td>1</td>\n",
       "      <td>3</td>\n",
       "      <td>Miss. Laina Heikkinen</td>\n",
       "      <td>female</td>\n",
       "      <td>26.0</td>\n",
       "      <td>0</td>\n",
       "      <td>0</td>\n",
       "      <td>7.9250</td>\n",
       "    </tr>\n",
       "    <tr>\n",
       "      <th>3</th>\n",
       "      <td>1</td>\n",
       "      <td>1</td>\n",
       "      <td>Mrs. Jacques Heath (Lily May Peel) Futrelle</td>\n",
       "      <td>female</td>\n",
       "      <td>35.0</td>\n",
       "      <td>1</td>\n",
       "      <td>0</td>\n",
       "      <td>53.1000</td>\n",
       "    </tr>\n",
       "    <tr>\n",
       "      <th>4</th>\n",
       "      <td>0</td>\n",
       "      <td>3</td>\n",
       "      <td>Mr. William Henry Allen</td>\n",
       "      <td>male</td>\n",
       "      <td>35.0</td>\n",
       "      <td>0</td>\n",
       "      <td>0</td>\n",
       "      <td>8.0500</td>\n",
       "    </tr>\n",
       "  </tbody>\n",
       "</table>\n",
       "</div>"
      ],
      "text/plain": [
       "   Survived  Pclass                                               Name  \\\n",
       "0         0       3                             Mr. Owen Harris Braund   \n",
       "1         1       1  Mrs. John Bradley (Florence Briggs Thayer) Cum...   \n",
       "2         1       3                              Miss. Laina Heikkinen   \n",
       "3         1       1        Mrs. Jacques Heath (Lily May Peel) Futrelle   \n",
       "4         0       3                            Mr. William Henry Allen   \n",
       "\n",
       "      Sex   Age  Siblings/Spouses Aboard  Parents/Children Aboard     Fare  \n",
       "0    male  22.0                        1                        0   7.2500  \n",
       "1  female  38.0                        1                        0  71.2833  \n",
       "2  female  26.0                        0                        0   7.9250  \n",
       "3  female  35.0                        1                        0  53.1000  \n",
       "4    male  35.0                        0                        0   8.0500  "
      ]
     },
     "metadata": {},
     "execution_count": 4
    }
   ],
   "metadata": {}
  },
  {
   "cell_type": "code",
   "execution_count": 13,
   "source": [
    "# Selecting features\r\n",
    "# I removed \"Name\" as I don't want to extract sex from it (we have that feature)\r\n",
    "# I don't want to guess age from the title in the \"Name\" as well for the simplicity of the quest\r\n",
    "# The name and surname isn't right now interesting for me in the context of survival\r\n",
    "features = [\"Pclass\", \"Sex\", \"Age\", \"Siblings/Spouses Aboard\", \"Parents/Children Aboard\", \"Fare\"]\r\n",
    "target   = \"Survived\"\r\n",
    "\r\n",
    "# Making the train-test-split\r\n",
    "X_train, X_test, y_train, y_test = train_test_split(df[features], df[target], test_size=0.20)\r\n",
    "\r\n",
    "# Getting the sizes\r\n",
    "print(f\"Shape of training set = {X_train.shape}\")\r\n",
    "print(f\"Shape of testing set  = {X_test.shape}\")\r\n",
    "\r\n",
    "# Since we need to do some preprocessing too,\r\n",
    "# let's make a column transformer including the OrdinalEncoder and\r\n",
    "# later a pipeline\r\n",
    "\r\n",
    "# Column transformer passes through everything\r\n",
    "# except \"Sex\", which is ordinally encoded\r\n",
    "column_transformer = make_column_transformer(\r\n",
    "    (\"passthrough\", [\"Pclass\"]),\r\n",
    "    (OrdinalEncoder(), [\"Sex\"]),\r\n",
    "    remainder=\"passthrough\")\r\n",
    "\r\n",
    "# Pipe contains from the column transformer and RFC\r\n",
    "pipe = make_pipeline(column_transformer, RandomForestClassifier())\r\n",
    "\r\n",
    "# Let's fit the pipe\r\n",
    "pipe.fit(X_train, y_train)\r\n",
    "\r\n",
    "# Let's compute the prediction scores (default = \"accuracy\")\r\n",
    "scores_train = pipe.score(X_train, y_train)\r\n",
    "scores_test = pipe.score(X_test, y_test)\r\n",
    "\r\n",
    "# Output\r\n",
    "print(f\"RFC accuracy on the training set = {round(scores_train * 100, 2)}%\")\r\n",
    "print(f\"RFC accuracy on the testing set  = {round(scores_test * 100, 2)}%\")"
   ],
   "outputs": [
    {
     "output_type": "stream",
     "name": "stdout",
     "text": [
      "Shape of training set = (709, 6)\n",
      "Shape of testing set  = (178, 6)\n",
      "RFC accuracy on the training set = 98.45%\n",
      "RFC accuracy on the testing set  = 78.65%\n"
     ]
    }
   ],
   "metadata": {}
  },
  {
   "cell_type": "markdown",
   "source": [
    "## Task 2"
   ],
   "metadata": {}
  },
  {
   "cell_type": "markdown",
   "source": [
    "* With this same classifier, you will run a __GridSearch__ with the values :\r\n",
    "    - all integers from 1 to 50 of the parameter `max_depth`\r\n",
    "    - all integers from 1 and 15 of the parameter `min_samples_leaf`\r\n",
    "    - (2, 5, 7, 10, 15, 30) of the `min_samples_split` parameter"
   ],
   "metadata": {}
  },
  {
   "cell_type": "code",
   "execution_count": 16,
   "source": [
    "param_grid = {\r\n",
    "    \"randomforestclassifier__max_depth\"         : range(1,51),\r\n",
    "    \"randomforestclassifier__min_samples_leaf\"  : range(1,16),\r\n",
    "    \"randomforestclassifier__min_samples_split\" : [2, 5, 7, 10, 15, 30]\r\n",
    "    }\r\n",
    "\r\n",
    "model_grid = GridSearchCV(pipe, param_grid=param_grid)\r\n",
    "\r\n",
    "model_grid.fit(X_train, y_train)"
   ],
   "outputs": [
    {
     "output_type": "execute_result",
     "data": {
      "text/plain": [
       "GridSearchCV(estimator=Pipeline(steps=[('columntransformer',\n",
       "                                        ColumnTransformer(remainder='passthrough',\n",
       "                                                          transformers=[('passthrough',\n",
       "                                                                         'passthrough',\n",
       "                                                                         ['Pclass']),\n",
       "                                                                        ('ordinalencoder',\n",
       "                                                                         OrdinalEncoder(),\n",
       "                                                                         ['Sex'])])),\n",
       "                                       ('randomforestclassifier',\n",
       "                                        RandomForestClassifier())]),\n",
       "             param_grid={'randomforestclassifier__max_depth': range(1, 51),\n",
       "                         'randomforestclassifier__min_samples_leaf': range(1, 16),\n",
       "                         'randomforestclassifier__min_samples_split': [2, 5, 7,\n",
       "                                                                       10, 15,\n",
       "                                                                       30]})"
      ]
     },
     "metadata": {},
     "execution_count": 16
    }
   ],
   "metadata": {}
  },
  {
   "cell_type": "markdown",
   "source": [
    "## Task 3"
   ],
   "metadata": {}
  },
  {
   "cell_type": "markdown",
   "source": [
    "* With this search via __GridSearch__, what are the best values of the hyperparameters if we want to maximize the accuracy score ?"
   ],
   "metadata": {}
  },
  {
   "cell_type": "code",
   "execution_count": 21,
   "source": [
    "print(f\"Best mode parameters are: {model_grid.best_params_}\")\r\n",
    "print(f\"The best accuracy = {round(model_grid.best_score_ * 100, 2)}%\")"
   ],
   "outputs": [
    {
     "output_type": "stream",
     "name": "stdout",
     "text": [
      "Best mode parameters are: {'randomforestclassifier__max_depth': 10, 'randomforestclassifier__min_samples_leaf': 2, 'randomforestclassifier__min_samples_split': 5}\n",
      "The best accuracy = 84.48%\n"
     ]
    }
   ],
   "metadata": {}
  },
  {
   "cell_type": "markdown",
   "source": [
    "## Task 4"
   ],
   "metadata": {}
  },
  {
   "cell_type": "markdown",
   "source": [
    "\r\n",
    "* With this same classifier, you will run a RandomSearch on the same parameter values limiting to 200 iterations.\r\n"
   ],
   "metadata": {}
  },
  {
   "cell_type": "code",
   "execution_count": 23,
   "source": [
    "random_grid = RandomizedSearchCV(pipe, param_grid, n_iter=200)\r\n",
    "\r\n",
    "random_grid.fit(X_train, y_train)"
   ],
   "outputs": [
    {
     "output_type": "execute_result",
     "data": {
      "text/plain": [
       "RandomizedSearchCV(estimator=Pipeline(steps=[('columntransformer',\n",
       "                                              ColumnTransformer(remainder='passthrough',\n",
       "                                                                transformers=[('passthrough',\n",
       "                                                                               'passthrough',\n",
       "                                                                               ['Pclass']),\n",
       "                                                                              ('ordinalencoder',\n",
       "                                                                               OrdinalEncoder(),\n",
       "                                                                               ['Sex'])])),\n",
       "                                             ('randomforestclassifier',\n",
       "                                              RandomForestClassifier())]),\n",
       "                   n_iter=200,\n",
       "                   param_distributions={'randomforestclassifier__max_depth': range(1, 51),\n",
       "                                        'randomforestclassifier__min_samples_leaf': range(1, 16),\n",
       "                                        'randomforestclassifier__min_samples_split': [2,\n",
       "                                                                                      5,\n",
       "                                                                                      7,\n",
       "                                                                                      10,\n",
       "                                                                                      15,\n",
       "                                                                                      30]})"
      ]
     },
     "metadata": {},
     "execution_count": 23
    }
   ],
   "metadata": {}
  },
  {
   "cell_type": "markdown",
   "source": [
    "## Task 5"
   ],
   "metadata": {}
  },
  {
   "cell_type": "markdown",
   "source": [
    "* With this search via __RandomSearch__, what are the best values of the hyperparameters if we want to maximize the accuracy score?"
   ],
   "metadata": {}
  },
  {
   "cell_type": "code",
   "execution_count": 24,
   "source": [
    "print(f\"Best mode parameters are: {random_grid.best_params_}\")\r\n",
    "print(f\"The best accuracy = {round(random_grid.best_score_ * 100, 2)}%\")"
   ],
   "outputs": [
    {
     "output_type": "stream",
     "name": "stdout",
     "text": [
      "Best mode parameters are: {'randomforestclassifier__min_samples_split': 5, 'randomforestclassifier__min_samples_leaf': 2, 'randomforestclassifier__max_depth': 46}\n",
      "The best accuracy = 83.92%\n"
     ]
    }
   ],
   "metadata": {}
  }
 ],
 "metadata": {
  "orig_nbformat": 4,
  "language_info": {
   "name": "python",
   "version": "3.8.8",
   "mimetype": "text/x-python",
   "codemirror_mode": {
    "name": "ipython",
    "version": 3
   },
   "pygments_lexer": "ipython3",
   "nbconvert_exporter": "python",
   "file_extension": ".py"
  },
  "kernelspec": {
   "name": "python3",
   "display_name": "Python 3.8.8 64-bit ('base': conda)"
  },
  "interpreter": {
   "hash": "720fa6d0f11b7ec96fc5a2305c253a374b95718251f66e414cba1cc0c6bb49e9"
  }
 },
 "nbformat": 4,
 "nbformat_minor": 2
}