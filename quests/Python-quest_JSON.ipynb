{
  "nbformat": 4,
  "nbformat_minor": 2,
  "metadata": {
    "colab": {
      "name": "Introduction to JSON.ipynb",
      "provenance": [],
      "collapsed_sections": []
    },
    "kernelspec": {
      "name": "python3",
      "display_name": "Python 3.8.8 64-bit ('base': conda)"
    },
    "language_info": {
      "name": "python",
      "version": "3.8.8",
      "mimetype": "text/x-python",
      "codemirror_mode": {
        "name": "ipython",
        "version": 3
      },
      "pygments_lexer": "ipython3",
      "nbconvert_exporter": "python",
      "file_extension": ".py"
    },
    "interpreter": {
      "hash": "720fa6d0f11b7ec96fc5a2305c253a374b95718251f66e414cba1cc0c6bb49e9"
    }
  },
  "cells": [
    {
      "cell_type": "markdown",
      "source": [
        "# Reading a JSON\n",
        "\n",
        "Execute the code below :"
      ],
      "metadata": {
        "id": "3gy55VJcTu_4"
      }
    },
    {
      "cell_type": "code",
      "execution_count": 1,
      "source": [
        "import json\r\n",
        "import requests\r\n",
        "\r\n",
        "link = \"https://raw.githubusercontent.com/murpi/wilddata/master/quests/monthlySalesbyCategoryMultiple.json\"\r\n",
        "\r\n",
        "# This function gets the file content from the URL\r\n",
        "r = requests.get(link)\r\n",
        "\r\n",
        "\r\n",
        "# You can access to the text content with this function\r\n",
        "r.text"
      ],
      "outputs": [
        {
          "output_type": "execute_result",
          "data": {
            "text/plain": [
              "'{ \"contents\": [\\n  {\\n    \"category\": \"Furniture\",\\n    \"region\": \"West\",\\n    \"monthlySales\":\\n\\n      [{\\n        \"month\":20130101,\\n        \"sales\":38\\n      },\\n      {\\n        \"month\":20130201,\\n        \"sales\":35\\n      },\\n      {\\n        \"month\":20130301,\\n        \"sales\":41\\n      },\\n      {\\n        \"month\":20130401,\\n        \"sales\":55\\n      },\\n      {\\n        \"month\":20130501,\\n        \"sales\":58\\n      },\\n      {\\n        \"month\":20130601,\\n        \"sales\":66\\n      },\\n      {\\n        \"month\":20130701,\\n        \"sales\":74\\n      },\\n      {\\n        \"month\":20130801,\\n        \"sales\":78\\n      },\\n      {\\n        \"month\":20130901,\\n        \"sales\":38\\n      },\\n      {\\n        \"month\":20131001,\\n        \"sales\":30\\n      },\\n      {\\n        \"month\":20131101,\\n        \"sales\":26\\n      },\\n      {\\n        \"month\":20131201,\\n        \"sales\":29\\n      }\\n    ]\\n  },\\n  {\\n    \"category\": \"Technology\",\\n    \"region\": \"West\",\\n    \"monthlySales\":\\n\\n      [{\\n        \"month\":20130101,\\n        \"sales\":54\\n      },\\n      {\\n        \"month\":20130201,\\n        \"sales\":66\\n      },\\n      {\\n        \"month\":20130301,\\n        \"sales\":77\\n      },\\n      {\\n        \"month\":20130401,\\n        \"sales\":70\\n      },\\n      {\\n        \"month\":20130501,\\n        \"sales\":60\\n      },\\n      {\\n        \"month\":20130601,\\n        \"sales\":63\\n      },\\n      {\\n        \"month\":20130701,\\n        \"sales\":55\\n      },\\n      {\\n        \"month\":20130801,\\n        \"sales\":47\\n      },\\n      {\\n        \"month\":20130901,\\n        \"sales\":55\\n      },\\n      {\\n        \"month\":20131001,\\n        \"sales\":30\\n      },\\n      {\\n        \"month\":20131101,\\n        \"sales\":22\\n      },\\n      {\\n        \"month\":20131201,\\n        \"sales\":77\\n      }\\n    ]\\n  }\\n]} \\n'"
            ]
          },
          "metadata": {},
          "execution_count": 1
        }
      ],
      "metadata": {
        "id": "RlpIEaOvTuV2",
        "colab": {
          "base_uri": "https://localhost:8080/",
          "height": 213
        },
        "outputId": "1786a9b0-7489-4670-b7ee-0a144f841dc5"
      }
    },
    {
      "cell_type": "code",
      "execution_count": 2,
      "source": [
        "# Try this\r\n",
        "import json\r\n",
        "\r\n",
        "data = json.loads( r.text)\r\n",
        "data"
      ],
      "outputs": [
        {
          "output_type": "execute_result",
          "data": {
            "text/plain": [
              "{'contents': [{'category': 'Furniture',\n",
              "   'region': 'West',\n",
              "   'monthlySales': [{'month': 20130101, 'sales': 38},\n",
              "    {'month': 20130201, 'sales': 35},\n",
              "    {'month': 20130301, 'sales': 41},\n",
              "    {'month': 20130401, 'sales': 55},\n",
              "    {'month': 20130501, 'sales': 58},\n",
              "    {'month': 20130601, 'sales': 66},\n",
              "    {'month': 20130701, 'sales': 74},\n",
              "    {'month': 20130801, 'sales': 78},\n",
              "    {'month': 20130901, 'sales': 38},\n",
              "    {'month': 20131001, 'sales': 30},\n",
              "    {'month': 20131101, 'sales': 26},\n",
              "    {'month': 20131201, 'sales': 29}]},\n",
              "  {'category': 'Technology',\n",
              "   'region': 'West',\n",
              "   'monthlySales': [{'month': 20130101, 'sales': 54},\n",
              "    {'month': 20130201, 'sales': 66},\n",
              "    {'month': 20130301, 'sales': 77},\n",
              "    {'month': 20130401, 'sales': 70},\n",
              "    {'month': 20130501, 'sales': 60},\n",
              "    {'month': 20130601, 'sales': 63},\n",
              "    {'month': 20130701, 'sales': 55},\n",
              "    {'month': 20130801, 'sales': 47},\n",
              "    {'month': 20130901, 'sales': 55},\n",
              "    {'month': 20131001, 'sales': 30},\n",
              "    {'month': 20131101, 'sales': 22},\n",
              "    {'month': 20131201, 'sales': 77}]}]}"
            ]
          },
          "metadata": {},
          "execution_count": 2
        }
      ],
      "metadata": {
        "id": "q9YwmpYMTr1n",
        "colab": {
          "base_uri": "https://localhost:8080/",
          "height": 514
        },
        "outputId": "6267ea2b-408b-4f27-fd6b-1f9481217b8e"
      }
    },
    {
      "cell_type": "markdown",
      "source": [
        "# Manipulate the data"
      ],
      "metadata": {
        "id": "uogPKCrpZe1s"
      }
    },
    {
      "cell_type": "markdown",
      "source": [
        "Now print for each category their total number of sales (without using a dataframe, just manipulating the dictionaries and lists).\n",
        "\n",
        "Expected result:\n",
        "- Furniture 568\n",
        "- Technology 676\n",
        "\n"
      ],
      "metadata": {
        "id": "r1hWtHV3Yj0r"
      }
    },
    {
      "cell_type": "code",
      "execution_count": 4,
      "source": [
        "# data has a single element - contents (list)\r\n",
        "# we loop over its items (categories)\r\n",
        "for item in data[\"contents\"]:\r\n",
        "\r\n",
        "    # getting name of a category\r\n",
        "    category = item[\"category\"]\r\n",
        "\r\n",
        "    # initializing total_sales counter\r\n",
        "    total_sales = 0\r\n",
        "\r\n",
        "    # each item contains an embedded list (monthlySales)\r\n",
        "    # let's loop over it - contains elements representing months\r\n",
        "    for month in item[\"monthlySales\"]:\r\n",
        "\r\n",
        "        # each month (dictionary) has a sales value in dictionary element (sales)\r\n",
        "        # adding to the total_sales\r\n",
        "        total_sales += month[\"sales\"]\r\n",
        "\r\n",
        "    # and we're done\r\n",
        "    print(f\"{category} {total_sales}\")\r\n",
        "\r\n",
        "        \r\n",
        "    "
      ],
      "outputs": [
        {
          "output_type": "stream",
          "name": "stdout",
          "text": [
            "Furniture 568\n",
            "Technology 676\n"
          ]
        }
      ],
      "metadata": {
        "id": "SI-uCLddYWpk"
      }
    }
  ]
}