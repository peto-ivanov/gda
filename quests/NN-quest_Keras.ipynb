{
 "cells": [
  {
   "cell_type": "markdown",
   "source": "\n\n\n\n# Neural Networks using Keras ",
   "metadata": {
    "id": "E-JlC9Rb6lKx",
    "cell_id": "00002-a4e6f0c2-9ad0-459a-806a-42c637fcfa0d",
    "deepnote_cell_type": "markdown"
   }
  },
  {
   "cell_type": "markdown",
   "source": "\n### Outline\nOur goal is to build a NN for multi-class classification. We need to make several decisions when configuring our NN and focus on these when learning about Keras. \n 1. number of hidden layers\n 2. number of neurons in hidden layers\n 3. activation functions\n 4. type of weight initialization\n 5. loss function\n 6. learning rate and momentum\n 6. optimizer\n 7. size of batch\n 8. number of epochs\n 9. regularization (dropout)",
   "metadata": {
    "id": "Lv4fDZZr6lKx",
    "cell_id": "00003-da350cb3-58c9-423f-94c7-73eb0d2a1cca",
    "deepnote_cell_type": "markdown"
   }
  },
  {
   "cell_type": "code",
   "metadata": {
    "tags": [],
    "cell_id": "00002-b03fcb4c-0b12-47e4-ac19-4f4c500b2e9f",
    "deepnote_to_be_reexecuted": false,
    "source_hash": "8605f346",
    "execution_start": 1635970119226,
    "execution_millis": 5942,
    "deepnote_cell_type": "code"
   },
   "source": "# Setting up the environment: import standard libraries and load the data. \nimport numpy as np\nimport matplotlib.pyplot as plt\nimport seaborn as sns\n\nfrom sklearn.preprocessing import LabelEncoder\nfrom sklearn.model_selection import train_test_split\nfrom tensorflow.keras import utils",
   "execution_count": 1,
   "outputs": []
  },
  {
   "cell_type": "code",
   "metadata": {
    "colab": {
     "base_uri": "https://localhost:8080/"
    },
    "id": "xd4_RjCGA4iK",
    "outputId": "71379a62-4ac2-4c15-dc1d-8b26e4e9bd4b",
    "cell_id": "00004-52852fae-444f-4fa3-a882-4f224c5f3123",
    "deepnote_to_be_reexecuted": false,
    "source_hash": "e3d060a7",
    "execution_start": 1635970125172,
    "execution_millis": 4,
    "deepnote_cell_type": "code"
   },
   "source": "# Load dataset and set app name as index\nimport pandas as pd\n\n#set the path to where you stored the AppleStore_prep.csv data here\npath=\"data/\"",
   "execution_count": 2,
   "outputs": []
  },
  {
   "cell_type": "code",
   "metadata": {
    "colab": {
     "base_uri": "https://localhost:8080/",
     "height": 455
    },
    "id": "UbQw4uikBM9W",
    "outputId": "a8ae67e4-bd76-4b1c-e542-62721b07bba9",
    "cell_id": "00005-44006c3f-717d-4bf5-bde5-1c06ea2dd270",
    "deepnote_to_be_reexecuted": false,
    "source_hash": "8bbac013",
    "execution_start": 1635970125179,
    "execution_millis": 147,
    "deepnote_cell_type": "code"
   },
   "source": "# Select the app name as row index\n# Load dataset and set app name as index\ndata_file = path +'AppleStore_prep.csv' \napp = pd.read_csv(data_file, index_col=False, sep='\\t', encoding='utf-8')\napp = app.set_index('track_name')\napp.head()",
   "execution_count": 3,
   "outputs": [
    {
     "output_type": "execute_result",
     "execution_count": 3,
     "data": {
      "application/vnd.deepnote.dataframe.v2+json": {
       "row_count": 5,
       "column_count": 36,
       "columns": [
        {
         "name": "size_bytes",
         "dtype": "float64",
         "stats": {
          "unique_count": 5,
          "nan_count": 0,
          "min": "-0.2961174737451223",
          "max": "-0.1129114784171637",
          "histogram": [
           {
            "bin_start": -0.2961174737451223,
            "bin_end": -0.27779687421232646,
            "count": 1
           },
           {
            "bin_start": -0.27779687421232646,
            "bin_end": -0.2594762746795306,
            "count": 2
           },
           {
            "bin_start": -0.2594762746795306,
            "bin_end": -0.24115567514673472,
            "count": 0
           },
           {
            "bin_start": -0.24115567514673472,
            "bin_end": -0.22283507561393887,
            "count": 0
           },
           {
            "bin_start": -0.22283507561393887,
            "bin_end": -0.204514476081143,
            "count": 0
           },
           {
            "bin_start": -0.204514476081143,
            "bin_end": -0.18619387654834713,
            "count": 1
           },
           {
            "bin_start": -0.18619387654834713,
            "bin_end": -0.16787327701555127,
            "count": 0
           },
           {
            "bin_start": -0.16787327701555127,
            "bin_end": -0.14955267748275541,
            "count": 0
           },
           {
            "bin_start": -0.14955267748275541,
            "bin_end": -0.13123207794995956,
            "count": 0
           },
           {
            "bin_start": -0.13123207794995956,
            "bin_end": -0.1129114784171637,
            "count": 1
           }
          ]
         }
        },
        {
         "name": "price",
         "dtype": "float64",
         "stats": {
          "unique_count": 2,
          "nan_count": 0,
          "min": "-0.2959602425094711",
          "max": "0.3881256942213166",
          "histogram": [
           {
            "bin_start": -0.2959602425094711,
            "bin_end": -0.22755164883639234,
            "count": 4
           },
           {
            "bin_start": -0.22755164883639234,
            "bin_end": -0.1591430551633136,
            "count": 0
           },
           {
            "bin_start": -0.1591430551633136,
            "bin_end": -0.09073446149023484,
            "count": 0
           },
           {
            "bin_start": -0.09073446149023484,
            "bin_end": -0.022325867817156064,
            "count": 0
           },
           {
            "bin_start": -0.022325867817156064,
            "bin_end": 0.04608272585592271,
            "count": 0
           },
           {
            "bin_start": 0.04608272585592271,
            "bin_end": 0.11449131952900143,
            "count": 0
           },
           {
            "bin_start": 0.11449131952900143,
            "bin_end": 0.1828999132020802,
            "count": 0
           },
           {
            "bin_start": 0.1828999132020802,
            "bin_end": 0.251308506875159,
            "count": 0
           },
           {
            "bin_start": 0.251308506875159,
            "bin_end": 0.3197171005482377,
            "count": 0
           },
           {
            "bin_start": 0.3197171005482377,
            "bin_end": 0.3881256942213166,
            "count": 1
           }
          ]
         }
        },
        {
         "name": "rating_count_tot",
         "dtype": "float64",
         "stats": {
          "unique_count": 5,
          "nan_count": 0,
          "min": "0.1109023233440474",
          "max": "12.847931035918949",
          "histogram": [
           {
            "bin_start": 0.1109023233440474,
            "bin_end": 1.3846051946015374,
            "count": 1
           },
           {
            "bin_start": 1.3846051946015374,
            "bin_end": 2.6583080658590275,
            "count": 2
           },
           {
            "bin_start": 2.6583080658590275,
            "bin_end": 3.9320109371165173,
            "count": 1
           },
           {
            "bin_start": 3.9320109371165173,
            "bin_end": 5.205713808374008,
            "count": 0
           },
           {
            "bin_start": 5.205713808374008,
            "bin_end": 6.479416679631498,
            "count": 0
           },
           {
            "bin_start": 6.479416679631498,
            "bin_end": 7.753119550888988,
            "count": 0
           },
           {
            "bin_start": 7.753119550888988,
            "bin_end": 9.026822422146479,
            "count": 0
           },
           {
            "bin_start": 9.026822422146479,
            "bin_end": 10.300525293403968,
            "count": 0
           },
           {
            "bin_start": 10.300525293403968,
            "bin_end": 11.574228164661458,
            "count": 0
           },
           {
            "bin_start": 11.574228164661458,
            "bin_end": 12.847931035918949,
            "count": 1
           }
          ]
         }
        },
        {
         "name": "sup_devices.num",
         "dtype": "float64",
         "stats": {
          "unique_count": 2,
          "nan_count": 0,
          "min": "-0.0968084886371818",
          "max": "0.170753221317424",
          "histogram": [
           {
            "bin_start": -0.0968084886371818,
            "bin_end": -0.07005231764172122,
            "count": 4
           },
           {
            "bin_start": -0.07005231764172122,
            "bin_end": -0.04329614664626064,
            "count": 0
           },
           {
            "bin_start": -0.04329614664626064,
            "bin_end": -0.016539975650800065,
            "count": 0
           },
           {
            "bin_start": -0.016539975650800065,
            "bin_end": 0.01021619534466052,
            "count": 0
           },
           {
            "bin_start": 0.01021619534466052,
            "bin_end": 0.036972366340121104,
            "count": 0
           },
           {
            "bin_start": 0.036972366340121104,
            "bin_end": 0.06372853733558168,
            "count": 0
           },
           {
            "bin_start": 0.06372853733558168,
            "bin_end": 0.09048470833104227,
            "count": 0
           },
           {
            "bin_start": 0.09048470833104227,
            "bin_end": 0.11724087932650284,
            "count": 0
           },
           {
            "bin_start": 0.11724087932650284,
            "bin_end": 0.14399705032196342,
            "count": 0
           },
           {
            "bin_start": 0.14399705032196342,
            "bin_end": 0.170753221317424,
            "count": 1
           }
          ]
         }
        },
        {
         "name": "ipadSc_urls.num",
         "dtype": "float64",
         "stats": {
          "unique_count": 1,
          "nan_count": 0,
          "min": "0.6510506680574688",
          "max": "0.6510506680574688",
          "histogram": [
           {
            "bin_start": 0.1510506680574688,
            "bin_end": 0.2510506680574688,
            "count": 0
           },
           {
            "bin_start": 0.2510506680574688,
            "bin_end": 0.3510506680574688,
            "count": 0
           },
           {
            "bin_start": 0.3510506680574688,
            "bin_end": 0.45105066805746885,
            "count": 0
           },
           {
            "bin_start": 0.45105066805746885,
            "bin_end": 0.5510506680574688,
            "count": 0
           },
           {
            "bin_start": 0.5510506680574688,
            "bin_end": 0.6510506680574688,
            "count": 0
           },
           {
            "bin_start": 0.6510506680574688,
            "bin_end": 0.7510506680574689,
            "count": 5
           },
           {
            "bin_start": 0.7510506680574689,
            "bin_end": 0.8510506680574689,
            "count": 0
           },
           {
            "bin_start": 0.8510506680574689,
            "bin_end": 0.9510506680574689,
            "count": 0
           },
           {
            "bin_start": 0.9510506680574689,
            "bin_end": 1.051050668057469,
            "count": 0
           },
           {
            "bin_start": 1.051050668057469,
            "bin_end": 1.1510506680574688,
            "count": 0
           }
          ]
         }
        },
        {
         "name": "lang.num",
         "dtype": "float64",
         "stats": {
          "unique_count": 5,
          "nan_count": 0,
          "min": "-0.3074744744865857",
          "max": "4.996197021801831",
          "histogram": [
           {
            "bin_start": -0.3074744744865857,
            "bin_end": 0.22289267514225597,
            "count": 1
           },
           {
            "bin_start": 0.22289267514225597,
            "bin_end": 0.7532598247710977,
            "count": 2
           },
           {
            "bin_start": 0.7532598247710977,
            "bin_end": 1.2836269743999393,
            "count": 0
           },
           {
            "bin_start": 1.2836269743999393,
            "bin_end": 1.8139941240287811,
            "count": 0
           },
           {
            "bin_start": 1.8139941240287811,
            "bin_end": 2.344361273657623,
            "count": 1
           },
           {
            "bin_start": 2.344361273657623,
            "bin_end": 2.8747284232864643,
            "count": 0
           },
           {
            "bin_start": 2.8747284232864643,
            "bin_end": 3.405095572915306,
            "count": 0
           },
           {
            "bin_start": 3.405095572915306,
            "bin_end": 3.935462722544148,
            "count": 0
           },
           {
            "bin_start": 3.935462722544148,
            "bin_end": 4.465829872172989,
            "count": 0
           },
           {
            "bin_start": 4.465829872172989,
            "bin_end": 4.996197021801831,
            "count": 1
           }
          ]
         }
        },
        {
         "name": "vpp_lic",
         "dtype": "float64",
         "stats": {
          "unique_count": 1,
          "nan_count": 0,
          "min": "0.0836417500620061",
          "max": "0.0836417500620061",
          "histogram": [
           {
            "bin_start": -0.4163582499379939,
            "bin_end": -0.3163582499379939,
            "count": 0
           },
           {
            "bin_start": -0.3163582499379939,
            "bin_end": -0.2163582499379939,
            "count": 0
           },
           {
            "bin_start": -0.2163582499379939,
            "bin_end": -0.11635824993799387,
            "count": 0
           },
           {
            "bin_start": -0.11635824993799387,
            "bin_end": -0.016358249937993896,
            "count": 0
           },
           {
            "bin_start": -0.016358249937993896,
            "bin_end": 0.08364175006200608,
            "count": 0
           },
           {
            "bin_start": 0.08364175006200608,
            "bin_end": 0.18364175006200617,
            "count": 5
           },
           {
            "bin_start": 0.18364175006200617,
            "bin_end": 0.28364175006200615,
            "count": 0
           },
           {
            "bin_start": 0.28364175006200615,
            "bin_end": 0.3836417500620061,
            "count": 0
           },
           {
            "bin_start": 0.3836417500620061,
            "bin_end": 0.4836417500620061,
            "count": 0
           },
           {
            "bin_start": 0.4836417500620061,
            "bin_end": 0.5836417500620061,
            "count": 0
           }
          ]
         }
        },
        {
         "name": "currency_USD",
         "dtype": "int64",
         "stats": {
          "unique_count": 1,
          "nan_count": 0,
          "min": "1",
          "max": "1",
          "histogram": [
           {
            "bin_start": 0.5,
            "bin_end": 0.6,
            "count": 0
           },
           {
            "bin_start": 0.6,
            "bin_end": 0.7,
            "count": 0
           },
           {
            "bin_start": 0.7,
            "bin_end": 0.8,
            "count": 0
           },
           {
            "bin_start": 0.8,
            "bin_end": 0.9,
            "count": 0
           },
           {
            "bin_start": 0.9,
            "bin_end": 1,
            "count": 0
           },
           {
            "bin_start": 1,
            "bin_end": 1.1,
            "count": 5
           },
           {
            "bin_start": 1.1,
            "bin_end": 1.2000000000000002,
            "count": 0
           },
           {
            "bin_start": 1.2000000000000002,
            "bin_end": 1.3,
            "count": 0
           },
           {
            "bin_start": 1.3,
            "bin_end": 1.4,
            "count": 0
           },
           {
            "bin_start": 1.4,
            "bin_end": 1.5,
            "count": 0
           }
          ]
         }
        },
        {
         "name": "cont_rating_12+",
         "dtype": "int64",
         "stats": {
          "unique_count": 2,
          "nan_count": 0,
          "min": "0",
          "max": "1",
          "histogram": [
           {
            "bin_start": 0,
            "bin_end": 0.1,
            "count": 4
           },
           {
            "bin_start": 0.1,
            "bin_end": 0.2,
            "count": 0
           },
           {
            "bin_start": 0.2,
            "bin_end": 0.30000000000000004,
            "count": 0
           },
           {
            "bin_start": 0.30000000000000004,
            "bin_end": 0.4,
            "count": 0
           },
           {
            "bin_start": 0.4,
            "bin_end": 0.5,
            "count": 0
           },
           {
            "bin_start": 0.5,
            "bin_end": 0.6000000000000001,
            "count": 0
           },
           {
            "bin_start": 0.6000000000000001,
            "bin_end": 0.7000000000000001,
            "count": 0
           },
           {
            "bin_start": 0.7000000000000001,
            "bin_end": 0.8,
            "count": 0
           },
           {
            "bin_start": 0.8,
            "bin_end": 0.9,
            "count": 0
           },
           {
            "bin_start": 0.9,
            "bin_end": 1,
            "count": 1
           }
          ]
         }
        },
        {
         "name": "cont_rating_17+",
         "dtype": "int64",
         "stats": {
          "unique_count": 1,
          "nan_count": 0,
          "min": "0",
          "max": "0",
          "histogram": [
           {
            "bin_start": -0.5,
            "bin_end": -0.4,
            "count": 0
           },
           {
            "bin_start": -0.4,
            "bin_end": -0.3,
            "count": 0
           },
           {
            "bin_start": -0.3,
            "bin_end": -0.19999999999999996,
            "count": 0
           },
           {
            "bin_start": -0.19999999999999996,
            "bin_end": -0.09999999999999998,
            "count": 0
           },
           {
            "bin_start": -0.09999999999999998,
            "bin_end": 0,
            "count": 0
           },
           {
            "bin_start": 0,
            "bin_end": 0.10000000000000009,
            "count": 5
           },
           {
            "bin_start": 0.10000000000000009,
            "bin_end": 0.20000000000000007,
            "count": 0
           },
           {
            "bin_start": 0.20000000000000007,
            "bin_end": 0.30000000000000004,
            "count": 0
           },
           {
            "bin_start": 0.30000000000000004,
            "bin_end": 0.4,
            "count": 0
           },
           {
            "bin_start": 0.4,
            "bin_end": 0.5,
            "count": 0
           }
          ]
         }
        },
        {
         "name": "cont_rating_4+",
         "dtype": "int64",
         "stats": {
          "unique_count": 2,
          "nan_count": 0,
          "min": "0",
          "max": "1",
          "histogram": [
           {
            "bin_start": 0,
            "bin_end": 0.1,
            "count": 1
           },
           {
            "bin_start": 0.1,
            "bin_end": 0.2,
            "count": 0
           },
           {
            "bin_start": 0.2,
            "bin_end": 0.30000000000000004,
            "count": 0
           },
           {
            "bin_start": 0.30000000000000004,
            "bin_end": 0.4,
            "count": 0
           },
           {
            "bin_start": 0.4,
            "bin_end": 0.5,
            "count": 0
           },
           {
            "bin_start": 0.5,
            "bin_end": 0.6000000000000001,
            "count": 0
           },
           {
            "bin_start": 0.6000000000000001,
            "bin_end": 0.7000000000000001,
            "count": 0
           },
           {
            "bin_start": 0.7000000000000001,
            "bin_end": 0.8,
            "count": 0
           },
           {
            "bin_start": 0.8,
            "bin_end": 0.9,
            "count": 0
           },
           {
            "bin_start": 0.9,
            "bin_end": 1,
            "count": 4
           }
          ]
         }
        },
        {
         "name": "cont_rating_9+",
         "dtype": "int64",
         "stats": {
          "unique_count": 1,
          "nan_count": 0,
          "min": "0",
          "max": "0",
          "histogram": [
           {
            "bin_start": -0.5,
            "bin_end": -0.4,
            "count": 0
           },
           {
            "bin_start": -0.4,
            "bin_end": -0.3,
            "count": 0
           },
           {
            "bin_start": -0.3,
            "bin_end": -0.19999999999999996,
            "count": 0
           },
           {
            "bin_start": -0.19999999999999996,
            "bin_end": -0.09999999999999998,
            "count": 0
           },
           {
            "bin_start": -0.09999999999999998,
            "bin_end": 0,
            "count": 0
           },
           {
            "bin_start": 0,
            "bin_end": 0.10000000000000009,
            "count": 5
           },
           {
            "bin_start": 0.10000000000000009,
            "bin_end": 0.20000000000000007,
            "count": 0
           },
           {
            "bin_start": 0.20000000000000007,
            "bin_end": 0.30000000000000004,
            "count": 0
           },
           {
            "bin_start": 0.30000000000000004,
            "bin_end": 0.4,
            "count": 0
           },
           {
            "bin_start": 0.4,
            "bin_end": 0.5,
            "count": 0
           }
          ]
         }
        },
        {
         "name": "prime_genre_Book",
         "dtype": "int64",
         "stats": {
          "unique_count": 1,
          "nan_count": 0,
          "min": "0",
          "max": "0",
          "histogram": [
           {
            "bin_start": -0.5,
            "bin_end": -0.4,
            "count": 0
           },
           {
            "bin_start": -0.4,
            "bin_end": -0.3,
            "count": 0
           },
           {
            "bin_start": -0.3,
            "bin_end": -0.19999999999999996,
            "count": 0
           },
           {
            "bin_start": -0.19999999999999996,
            "bin_end": -0.09999999999999998,
            "count": 0
           },
           {
            "bin_start": -0.09999999999999998,
            "bin_end": 0,
            "count": 0
           },
           {
            "bin_start": 0,
            "bin_end": 0.10000000000000009,
            "count": 5
           },
           {
            "bin_start": 0.10000000000000009,
            "bin_end": 0.20000000000000007,
            "count": 0
           },
           {
            "bin_start": 0.20000000000000007,
            "bin_end": 0.30000000000000004,
            "count": 0
           },
           {
            "bin_start": 0.30000000000000004,
            "bin_end": 0.4,
            "count": 0
           },
           {
            "bin_start": 0.4,
            "bin_end": 0.5,
            "count": 0
           }
          ]
         }
        },
        {
         "name": "prime_genre_Business",
         "dtype": "int64",
         "stats": {
          "unique_count": 1,
          "nan_count": 0,
          "min": "0",
          "max": "0",
          "histogram": [
           {
            "bin_start": -0.5,
            "bin_end": -0.4,
            "count": 0
           },
           {
            "bin_start": -0.4,
            "bin_end": -0.3,
            "count": 0
           },
           {
            "bin_start": -0.3,
            "bin_end": -0.19999999999999996,
            "count": 0
           },
           {
            "bin_start": -0.19999999999999996,
            "bin_end": -0.09999999999999998,
            "count": 0
           },
           {
            "bin_start": -0.09999999999999998,
            "bin_end": 0,
            "count": 0
           },
           {
            "bin_start": 0,
            "bin_end": 0.10000000000000009,
            "count": 5
           },
           {
            "bin_start": 0.10000000000000009,
            "bin_end": 0.20000000000000007,
            "count": 0
           },
           {
            "bin_start": 0.20000000000000007,
            "bin_end": 0.30000000000000004,
            "count": 0
           },
           {
            "bin_start": 0.30000000000000004,
            "bin_end": 0.4,
            "count": 0
           },
           {
            "bin_start": 0.4,
            "bin_end": 0.5,
            "count": 0
           }
          ]
         }
        },
        {
         "name": "prime_genre_Catalogs",
         "dtype": "int64",
         "stats": {
          "unique_count": 1,
          "nan_count": 0,
          "min": "0",
          "max": "0",
          "histogram": [
           {
            "bin_start": -0.5,
            "bin_end": -0.4,
            "count": 0
           },
           {
            "bin_start": -0.4,
            "bin_end": -0.3,
            "count": 0
           },
           {
            "bin_start": -0.3,
            "bin_end": -0.19999999999999996,
            "count": 0
           },
           {
            "bin_start": -0.19999999999999996,
            "bin_end": -0.09999999999999998,
            "count": 0
           },
           {
            "bin_start": -0.09999999999999998,
            "bin_end": 0,
            "count": 0
           },
           {
            "bin_start": 0,
            "bin_end": 0.10000000000000009,
            "count": 5
           },
           {
            "bin_start": 0.10000000000000009,
            "bin_end": 0.20000000000000007,
            "count": 0
           },
           {
            "bin_start": 0.20000000000000007,
            "bin_end": 0.30000000000000004,
            "count": 0
           },
           {
            "bin_start": 0.30000000000000004,
            "bin_end": 0.4,
            "count": 0
           },
           {
            "bin_start": 0.4,
            "bin_end": 0.5,
            "count": 0
           }
          ]
         }
        },
        {
         "name": "prime_genre_Education",
         "dtype": "int64",
         "stats": {
          "unique_count": 1,
          "nan_count": 0,
          "min": "0",
          "max": "0",
          "histogram": [
           {
            "bin_start": -0.5,
            "bin_end": -0.4,
            "count": 0
           },
           {
            "bin_start": -0.4,
            "bin_end": -0.3,
            "count": 0
           },
           {
            "bin_start": -0.3,
            "bin_end": -0.19999999999999996,
            "count": 0
           },
           {
            "bin_start": -0.19999999999999996,
            "bin_end": -0.09999999999999998,
            "count": 0
           },
           {
            "bin_start": -0.09999999999999998,
            "bin_end": 0,
            "count": 0
           },
           {
            "bin_start": 0,
            "bin_end": 0.10000000000000009,
            "count": 5
           },
           {
            "bin_start": 0.10000000000000009,
            "bin_end": 0.20000000000000007,
            "count": 0
           },
           {
            "bin_start": 0.20000000000000007,
            "bin_end": 0.30000000000000004,
            "count": 0
           },
           {
            "bin_start": 0.30000000000000004,
            "bin_end": 0.4,
            "count": 0
           },
           {
            "bin_start": 0.4,
            "bin_end": 0.5,
            "count": 0
           }
          ]
         }
        },
        {
         "name": "prime_genre_Entertainment",
         "dtype": "int64",
         "stats": {
          "unique_count": 1,
          "nan_count": 0,
          "min": "0",
          "max": "0",
          "histogram": [
           {
            "bin_start": -0.5,
            "bin_end": -0.4,
            "count": 0
           },
           {
            "bin_start": -0.4,
            "bin_end": -0.3,
            "count": 0
           },
           {
            "bin_start": -0.3,
            "bin_end": -0.19999999999999996,
            "count": 0
           },
           {
            "bin_start": -0.19999999999999996,
            "bin_end": -0.09999999999999998,
            "count": 0
           },
           {
            "bin_start": -0.09999999999999998,
            "bin_end": 0,
            "count": 0
           },
           {
            "bin_start": 0,
            "bin_end": 0.10000000000000009,
            "count": 5
           },
           {
            "bin_start": 0.10000000000000009,
            "bin_end": 0.20000000000000007,
            "count": 0
           },
           {
            "bin_start": 0.20000000000000007,
            "bin_end": 0.30000000000000004,
            "count": 0
           },
           {
            "bin_start": 0.30000000000000004,
            "bin_end": 0.4,
            "count": 0
           },
           {
            "bin_start": 0.4,
            "bin_end": 0.5,
            "count": 0
           }
          ]
         }
        },
        {
         "name": "prime_genre_Finance",
         "dtype": "int64",
         "stats": {
          "unique_count": 1,
          "nan_count": 0,
          "min": "0",
          "max": "0",
          "histogram": [
           {
            "bin_start": -0.5,
            "bin_end": -0.4,
            "count": 0
           },
           {
            "bin_start": -0.4,
            "bin_end": -0.3,
            "count": 0
           },
           {
            "bin_start": -0.3,
            "bin_end": -0.19999999999999996,
            "count": 0
           },
           {
            "bin_start": -0.19999999999999996,
            "bin_end": -0.09999999999999998,
            "count": 0
           },
           {
            "bin_start": -0.09999999999999998,
            "bin_end": 0,
            "count": 0
           },
           {
            "bin_start": 0,
            "bin_end": 0.10000000000000009,
            "count": 5
           },
           {
            "bin_start": 0.10000000000000009,
            "bin_end": 0.20000000000000007,
            "count": 0
           },
           {
            "bin_start": 0.20000000000000007,
            "bin_end": 0.30000000000000004,
            "count": 0
           },
           {
            "bin_start": 0.30000000000000004,
            "bin_end": 0.4,
            "count": 0
           },
           {
            "bin_start": 0.4,
            "bin_end": 0.5,
            "count": 0
           }
          ]
         }
        },
        {
         "name": "prime_genre_Food & Drink",
         "dtype": "int64",
         "stats": {
          "unique_count": 1,
          "nan_count": 0,
          "min": "0",
          "max": "0",
          "histogram": [
           {
            "bin_start": -0.5,
            "bin_end": -0.4,
            "count": 0
           },
           {
            "bin_start": -0.4,
            "bin_end": -0.3,
            "count": 0
           },
           {
            "bin_start": -0.3,
            "bin_end": -0.19999999999999996,
            "count": 0
           },
           {
            "bin_start": -0.19999999999999996,
            "bin_end": -0.09999999999999998,
            "count": 0
           },
           {
            "bin_start": -0.09999999999999998,
            "bin_end": 0,
            "count": 0
           },
           {
            "bin_start": 0,
            "bin_end": 0.10000000000000009,
            "count": 5
           },
           {
            "bin_start": 0.10000000000000009,
            "bin_end": 0.20000000000000007,
            "count": 0
           },
           {
            "bin_start": 0.20000000000000007,
            "bin_end": 0.30000000000000004,
            "count": 0
           },
           {
            "bin_start": 0.30000000000000004,
            "bin_end": 0.4,
            "count": 0
           },
           {
            "bin_start": 0.4,
            "bin_end": 0.5,
            "count": 0
           }
          ]
         }
        },
        {
         "name": "prime_genre_Games",
         "dtype": "int64",
         "stats": {
          "unique_count": 2,
          "nan_count": 0,
          "min": "0",
          "max": "1",
          "histogram": [
           {
            "bin_start": 0,
            "bin_end": 0.1,
            "count": 4
           },
           {
            "bin_start": 0.1,
            "bin_end": 0.2,
            "count": 0
           },
           {
            "bin_start": 0.2,
            "bin_end": 0.30000000000000004,
            "count": 0
           },
           {
            "bin_start": 0.30000000000000004,
            "bin_end": 0.4,
            "count": 0
           },
           {
            "bin_start": 0.4,
            "bin_end": 0.5,
            "count": 0
           },
           {
            "bin_start": 0.5,
            "bin_end": 0.6000000000000001,
            "count": 0
           },
           {
            "bin_start": 0.6000000000000001,
            "bin_end": 0.7000000000000001,
            "count": 0
           },
           {
            "bin_start": 0.7000000000000001,
            "bin_end": 0.8,
            "count": 0
           },
           {
            "bin_start": 0.8,
            "bin_end": 0.9,
            "count": 0
           },
           {
            "bin_start": 0.9,
            "bin_end": 1,
            "count": 1
           }
          ]
         }
        },
        {
         "name": "prime_genre_Health & Fitness",
         "dtype": "int64",
         "stats": {
          "unique_count": 1,
          "nan_count": 0,
          "min": "0",
          "max": "0",
          "histogram": [
           {
            "bin_start": -0.5,
            "bin_end": -0.4,
            "count": 0
           },
           {
            "bin_start": -0.4,
            "bin_end": -0.3,
            "count": 0
           },
           {
            "bin_start": -0.3,
            "bin_end": -0.19999999999999996,
            "count": 0
           },
           {
            "bin_start": -0.19999999999999996,
            "bin_end": -0.09999999999999998,
            "count": 0
           },
           {
            "bin_start": -0.09999999999999998,
            "bin_end": 0,
            "count": 0
           },
           {
            "bin_start": 0,
            "bin_end": 0.10000000000000009,
            "count": 5
           },
           {
            "bin_start": 0.10000000000000009,
            "bin_end": 0.20000000000000007,
            "count": 0
           },
           {
            "bin_start": 0.20000000000000007,
            "bin_end": 0.30000000000000004,
            "count": 0
           },
           {
            "bin_start": 0.30000000000000004,
            "bin_end": 0.4,
            "count": 0
           },
           {
            "bin_start": 0.4,
            "bin_end": 0.5,
            "count": 0
           }
          ]
         }
        },
        {
         "name": "prime_genre_Lifestyle",
         "dtype": "int64",
         "stats": {
          "unique_count": 1,
          "nan_count": 0,
          "min": "0",
          "max": "0",
          "histogram": [
           {
            "bin_start": -0.5,
            "bin_end": -0.4,
            "count": 0
           },
           {
            "bin_start": -0.4,
            "bin_end": -0.3,
            "count": 0
           },
           {
            "bin_start": -0.3,
            "bin_end": -0.19999999999999996,
            "count": 0
           },
           {
            "bin_start": -0.19999999999999996,
            "bin_end": -0.09999999999999998,
            "count": 0
           },
           {
            "bin_start": -0.09999999999999998,
            "bin_end": 0,
            "count": 0
           },
           {
            "bin_start": 0,
            "bin_end": 0.10000000000000009,
            "count": 5
           },
           {
            "bin_start": 0.10000000000000009,
            "bin_end": 0.20000000000000007,
            "count": 0
           },
           {
            "bin_start": 0.20000000000000007,
            "bin_end": 0.30000000000000004,
            "count": 0
           },
           {
            "bin_start": 0.30000000000000004,
            "bin_end": 0.4,
            "count": 0
           },
           {
            "bin_start": 0.4,
            "bin_end": 0.5,
            "count": 0
           }
          ]
         }
        },
        {
         "name": "prime_genre_Medical",
         "dtype": "int64",
         "stats": {
          "unique_count": 1,
          "nan_count": 0,
          "min": "0",
          "max": "0",
          "histogram": [
           {
            "bin_start": -0.5,
            "bin_end": -0.4,
            "count": 0
           },
           {
            "bin_start": -0.4,
            "bin_end": -0.3,
            "count": 0
           },
           {
            "bin_start": -0.3,
            "bin_end": -0.19999999999999996,
            "count": 0
           },
           {
            "bin_start": -0.19999999999999996,
            "bin_end": -0.09999999999999998,
            "count": 0
           },
           {
            "bin_start": -0.09999999999999998,
            "bin_end": 0,
            "count": 0
           },
           {
            "bin_start": 0,
            "bin_end": 0.10000000000000009,
            "count": 5
           },
           {
            "bin_start": 0.10000000000000009,
            "bin_end": 0.20000000000000007,
            "count": 0
           },
           {
            "bin_start": 0.20000000000000007,
            "bin_end": 0.30000000000000004,
            "count": 0
           },
           {
            "bin_start": 0.30000000000000004,
            "bin_end": 0.4,
            "count": 0
           },
           {
            "bin_start": 0.4,
            "bin_end": 0.5,
            "count": 0
           }
          ]
         }
        },
        {
         "name": "prime_genre_Music",
         "dtype": "int64",
         "stats": {
          "unique_count": 1,
          "nan_count": 0,
          "min": "0",
          "max": "0",
          "histogram": [
           {
            "bin_start": -0.5,
            "bin_end": -0.4,
            "count": 0
           },
           {
            "bin_start": -0.4,
            "bin_end": -0.3,
            "count": 0
           },
           {
            "bin_start": -0.3,
            "bin_end": -0.19999999999999996,
            "count": 0
           },
           {
            "bin_start": -0.19999999999999996,
            "bin_end": -0.09999999999999998,
            "count": 0
           },
           {
            "bin_start": -0.09999999999999998,
            "bin_end": 0,
            "count": 0
           },
           {
            "bin_start": 0,
            "bin_end": 0.10000000000000009,
            "count": 5
           },
           {
            "bin_start": 0.10000000000000009,
            "bin_end": 0.20000000000000007,
            "count": 0
           },
           {
            "bin_start": 0.20000000000000007,
            "bin_end": 0.30000000000000004,
            "count": 0
           },
           {
            "bin_start": 0.30000000000000004,
            "bin_end": 0.4,
            "count": 0
           },
           {
            "bin_start": 0.4,
            "bin_end": 0.5,
            "count": 0
           }
          ]
         }
        },
        {
         "name": "prime_genre_Navigation",
         "dtype": "int64",
         "stats": {
          "unique_count": 1,
          "nan_count": 0,
          "min": "0",
          "max": "0",
          "histogram": [
           {
            "bin_start": -0.5,
            "bin_end": -0.4,
            "count": 0
           },
           {
            "bin_start": -0.4,
            "bin_end": -0.3,
            "count": 0
           },
           {
            "bin_start": -0.3,
            "bin_end": -0.19999999999999996,
            "count": 0
           },
           {
            "bin_start": -0.19999999999999996,
            "bin_end": -0.09999999999999998,
            "count": 0
           },
           {
            "bin_start": -0.09999999999999998,
            "bin_end": 0,
            "count": 0
           },
           {
            "bin_start": 0,
            "bin_end": 0.10000000000000009,
            "count": 5
           },
           {
            "bin_start": 0.10000000000000009,
            "bin_end": 0.20000000000000007,
            "count": 0
           },
           {
            "bin_start": 0.20000000000000007,
            "bin_end": 0.30000000000000004,
            "count": 0
           },
           {
            "bin_start": 0.30000000000000004,
            "bin_end": 0.4,
            "count": 0
           },
           {
            "bin_start": 0.4,
            "bin_end": 0.5,
            "count": 0
           }
          ]
         }
        },
        {
         "name": "prime_genre_News",
         "dtype": "int64",
         "stats": {
          "unique_count": 1,
          "nan_count": 0,
          "min": "0",
          "max": "0",
          "histogram": [
           {
            "bin_start": -0.5,
            "bin_end": -0.4,
            "count": 0
           },
           {
            "bin_start": -0.4,
            "bin_end": -0.3,
            "count": 0
           },
           {
            "bin_start": -0.3,
            "bin_end": -0.19999999999999996,
            "count": 0
           },
           {
            "bin_start": -0.19999999999999996,
            "bin_end": -0.09999999999999998,
            "count": 0
           },
           {
            "bin_start": -0.09999999999999998,
            "bin_end": 0,
            "count": 0
           },
           {
            "bin_start": 0,
            "bin_end": 0.10000000000000009,
            "count": 5
           },
           {
            "bin_start": 0.10000000000000009,
            "bin_end": 0.20000000000000007,
            "count": 0
           },
           {
            "bin_start": 0.20000000000000007,
            "bin_end": 0.30000000000000004,
            "count": 0
           },
           {
            "bin_start": 0.30000000000000004,
            "bin_end": 0.4,
            "count": 0
           },
           {
            "bin_start": 0.4,
            "bin_end": 0.5,
            "count": 0
           }
          ]
         }
        },
        {
         "name": "prime_genre_Photo & Video",
         "dtype": "int64",
         "stats": {
          "unique_count": 1,
          "nan_count": 0,
          "min": "0",
          "max": "0",
          "histogram": [
           {
            "bin_start": -0.5,
            "bin_end": -0.4,
            "count": 0
           },
           {
            "bin_start": -0.4,
            "bin_end": -0.3,
            "count": 0
           },
           {
            "bin_start": -0.3,
            "bin_end": -0.19999999999999996,
            "count": 0
           },
           {
            "bin_start": -0.19999999999999996,
            "bin_end": -0.09999999999999998,
            "count": 0
           },
           {
            "bin_start": -0.09999999999999998,
            "bin_end": 0,
            "count": 0
           },
           {
            "bin_start": 0,
            "bin_end": 0.10000000000000009,
            "count": 5
           },
           {
            "bin_start": 0.10000000000000009,
            "bin_end": 0.20000000000000007,
            "count": 0
           },
           {
            "bin_start": 0.20000000000000007,
            "bin_end": 0.30000000000000004,
            "count": 0
           },
           {
            "bin_start": 0.30000000000000004,
            "bin_end": 0.4,
            "count": 0
           },
           {
            "bin_start": 0.4,
            "bin_end": 0.5,
            "count": 0
           }
          ]
         }
        },
        {
         "name": "prime_genre_Productivity",
         "dtype": "int64",
         "stats": {
          "unique_count": 2,
          "nan_count": 0,
          "min": "0",
          "max": "1",
          "histogram": [
           {
            "bin_start": 0,
            "bin_end": 0.1,
            "count": 4
           },
           {
            "bin_start": 0.1,
            "bin_end": 0.2,
            "count": 0
           },
           {
            "bin_start": 0.2,
            "bin_end": 0.30000000000000004,
            "count": 0
           },
           {
            "bin_start": 0.30000000000000004,
            "bin_end": 0.4,
            "count": 0
           },
           {
            "bin_start": 0.4,
            "bin_end": 0.5,
            "count": 0
           },
           {
            "bin_start": 0.5,
            "bin_end": 0.6000000000000001,
            "count": 0
           },
           {
            "bin_start": 0.6000000000000001,
            "bin_end": 0.7000000000000001,
            "count": 0
           },
           {
            "bin_start": 0.7000000000000001,
            "bin_end": 0.8,
            "count": 0
           },
           {
            "bin_start": 0.8,
            "bin_end": 0.9,
            "count": 0
           },
           {
            "bin_start": 0.9,
            "bin_end": 1,
            "count": 1
           }
          ]
         }
        },
        {
         "name": "prime_genre_Reference",
         "dtype": "int64",
         "stats": {
          "unique_count": 2,
          "nan_count": 0,
          "min": "0",
          "max": "1",
          "histogram": [
           {
            "bin_start": 0,
            "bin_end": 0.1,
            "count": 4
           },
           {
            "bin_start": 0.1,
            "bin_end": 0.2,
            "count": 0
           },
           {
            "bin_start": 0.2,
            "bin_end": 0.30000000000000004,
            "count": 0
           },
           {
            "bin_start": 0.30000000000000004,
            "bin_end": 0.4,
            "count": 0
           },
           {
            "bin_start": 0.4,
            "bin_end": 0.5,
            "count": 0
           },
           {
            "bin_start": 0.5,
            "bin_end": 0.6000000000000001,
            "count": 0
           },
           {
            "bin_start": 0.6000000000000001,
            "bin_end": 0.7000000000000001,
            "count": 0
           },
           {
            "bin_start": 0.7000000000000001,
            "bin_end": 0.8,
            "count": 0
           },
           {
            "bin_start": 0.8,
            "bin_end": 0.9,
            "count": 0
           },
           {
            "bin_start": 0.9,
            "bin_end": 1,
            "count": 1
           }
          ]
         }
        },
        {
         "name": "prime_genre_Shopping",
         "dtype": "int64",
         "stats": {
          "unique_count": 2,
          "nan_count": 0,
          "min": "0",
          "max": "1",
          "histogram": [
           {
            "bin_start": 0,
            "bin_end": 0.1,
            "count": 4
           },
           {
            "bin_start": 0.1,
            "bin_end": 0.2,
            "count": 0
           },
           {
            "bin_start": 0.2,
            "bin_end": 0.30000000000000004,
            "count": 0
           },
           {
            "bin_start": 0.30000000000000004,
            "bin_end": 0.4,
            "count": 0
           },
           {
            "bin_start": 0.4,
            "bin_end": 0.5,
            "count": 0
           },
           {
            "bin_start": 0.5,
            "bin_end": 0.6000000000000001,
            "count": 0
           },
           {
            "bin_start": 0.6000000000000001,
            "bin_end": 0.7000000000000001,
            "count": 0
           },
           {
            "bin_start": 0.7000000000000001,
            "bin_end": 0.8,
            "count": 0
           },
           {
            "bin_start": 0.8,
            "bin_end": 0.9,
            "count": 0
           },
           {
            "bin_start": 0.9,
            "bin_end": 1,
            "count": 1
           }
          ]
         }
        },
        {
         "name": "prime_genre_Social Networking",
         "dtype": "int64",
         "stats": {
          "unique_count": 1,
          "nan_count": 0,
          "min": "0",
          "max": "0",
          "histogram": [
           {
            "bin_start": -0.5,
            "bin_end": -0.4,
            "count": 0
           },
           {
            "bin_start": -0.4,
            "bin_end": -0.3,
            "count": 0
           },
           {
            "bin_start": -0.3,
            "bin_end": -0.19999999999999996,
            "count": 0
           },
           {
            "bin_start": -0.19999999999999996,
            "bin_end": -0.09999999999999998,
            "count": 0
           },
           {
            "bin_start": -0.09999999999999998,
            "bin_end": 0,
            "count": 0
           },
           {
            "bin_start": 0,
            "bin_end": 0.10000000000000009,
            "count": 5
           },
           {
            "bin_start": 0.10000000000000009,
            "bin_end": 0.20000000000000007,
            "count": 0
           },
           {
            "bin_start": 0.20000000000000007,
            "bin_end": 0.30000000000000004,
            "count": 0
           },
           {
            "bin_start": 0.30000000000000004,
            "bin_end": 0.4,
            "count": 0
           },
           {
            "bin_start": 0.4,
            "bin_end": 0.5,
            "count": 0
           }
          ]
         }
        },
        {
         "name": "prime_genre_Sports",
         "dtype": "int64",
         "stats": {
          "unique_count": 1,
          "nan_count": 0,
          "min": "0",
          "max": "0",
          "histogram": [
           {
            "bin_start": -0.5,
            "bin_end": -0.4,
            "count": 0
           },
           {
            "bin_start": -0.4,
            "bin_end": -0.3,
            "count": 0
           },
           {
            "bin_start": -0.3,
            "bin_end": -0.19999999999999996,
            "count": 0
           },
           {
            "bin_start": -0.19999999999999996,
            "bin_end": -0.09999999999999998,
            "count": 0
           },
           {
            "bin_start": -0.09999999999999998,
            "bin_end": 0,
            "count": 0
           },
           {
            "bin_start": 0,
            "bin_end": 0.10000000000000009,
            "count": 5
           },
           {
            "bin_start": 0.10000000000000009,
            "bin_end": 0.20000000000000007,
            "count": 0
           },
           {
            "bin_start": 0.20000000000000007,
            "bin_end": 0.30000000000000004,
            "count": 0
           },
           {
            "bin_start": 0.30000000000000004,
            "bin_end": 0.4,
            "count": 0
           },
           {
            "bin_start": 0.4,
            "bin_end": 0.5,
            "count": 0
           }
          ]
         }
        },
        {
         "name": "prime_genre_Travel",
         "dtype": "int64",
         "stats": {
          "unique_count": 1,
          "nan_count": 0,
          "min": "0",
          "max": "0",
          "histogram": [
           {
            "bin_start": -0.5,
            "bin_end": -0.4,
            "count": 0
           },
           {
            "bin_start": -0.4,
            "bin_end": -0.3,
            "count": 0
           },
           {
            "bin_start": -0.3,
            "bin_end": -0.19999999999999996,
            "count": 0
           },
           {
            "bin_start": -0.19999999999999996,
            "bin_end": -0.09999999999999998,
            "count": 0
           },
           {
            "bin_start": -0.09999999999999998,
            "bin_end": 0,
            "count": 0
           },
           {
            "bin_start": 0,
            "bin_end": 0.10000000000000009,
            "count": 5
           },
           {
            "bin_start": 0.10000000000000009,
            "bin_end": 0.20000000000000007,
            "count": 0
           },
           {
            "bin_start": 0.20000000000000007,
            "bin_end": 0.30000000000000004,
            "count": 0
           },
           {
            "bin_start": 0.30000000000000004,
            "bin_end": 0.4,
            "count": 0
           },
           {
            "bin_start": 0.4,
            "bin_end": 0.5,
            "count": 0
           }
          ]
         }
        },
        {
         "name": "prime_genre_Utilities",
         "dtype": "int64",
         "stats": {
          "unique_count": 1,
          "nan_count": 0,
          "min": "0",
          "max": "0",
          "histogram": [
           {
            "bin_start": -0.5,
            "bin_end": -0.4,
            "count": 0
           },
           {
            "bin_start": -0.4,
            "bin_end": -0.3,
            "count": 0
           },
           {
            "bin_start": -0.3,
            "bin_end": -0.19999999999999996,
            "count": 0
           },
           {
            "bin_start": -0.19999999999999996,
            "bin_end": -0.09999999999999998,
            "count": 0
           },
           {
            "bin_start": -0.09999999999999998,
            "bin_end": 0,
            "count": 0
           },
           {
            "bin_start": 0,
            "bin_end": 0.10000000000000009,
            "count": 5
           },
           {
            "bin_start": 0.10000000000000009,
            "bin_end": 0.20000000000000007,
            "count": 0
           },
           {
            "bin_start": 0.20000000000000007,
            "bin_end": 0.30000000000000004,
            "count": 0
           },
           {
            "bin_start": 0.30000000000000004,
            "bin_end": 0.4,
            "count": 0
           },
           {
            "bin_start": 0.4,
            "bin_end": 0.5,
            "count": 0
           }
          ]
         }
        },
        {
         "name": "prime_genre_Weather",
         "dtype": "int64",
         "stats": {
          "unique_count": 2,
          "nan_count": 0,
          "min": "0",
          "max": "1",
          "histogram": [
           {
            "bin_start": 0,
            "bin_end": 0.1,
            "count": 4
           },
           {
            "bin_start": 0.1,
            "bin_end": 0.2,
            "count": 0
           },
           {
            "bin_start": 0.2,
            "bin_end": 0.30000000000000004,
            "count": 0
           },
           {
            "bin_start": 0.30000000000000004,
            "bin_end": 0.4,
            "count": 0
           },
           {
            "bin_start": 0.4,
            "bin_end": 0.5,
            "count": 0
           },
           {
            "bin_start": 0.5,
            "bin_end": 0.6000000000000001,
            "count": 0
           },
           {
            "bin_start": 0.6000000000000001,
            "bin_end": 0.7000000000000001,
            "count": 0
           },
           {
            "bin_start": 0.7000000000000001,
            "bin_end": 0.8,
            "count": 0
           },
           {
            "bin_start": 0.8,
            "bin_end": 0.9,
            "count": 0
           },
           {
            "bin_start": 0.9,
            "bin_end": 1,
            "count": 1
           }
          ]
         }
        },
        {
         "name": "user_rating",
         "dtype": "float64",
         "stats": {
          "unique_count": 1,
          "nan_count": 0,
          "min": "4.0",
          "max": "4.0",
          "histogram": [
           {
            "bin_start": 3.5,
            "bin_end": 3.6,
            "count": 0
           },
           {
            "bin_start": 3.6,
            "bin_end": 3.7,
            "count": 0
           },
           {
            "bin_start": 3.7,
            "bin_end": 3.8,
            "count": 0
           },
           {
            "bin_start": 3.8,
            "bin_end": 3.9,
            "count": 0
           },
           {
            "bin_start": 3.9,
            "bin_end": 4,
            "count": 0
           },
           {
            "bin_start": 4,
            "bin_end": 4.1,
            "count": 5
           },
           {
            "bin_start": 4.1,
            "bin_end": 4.2,
            "count": 0
           },
           {
            "bin_start": 4.2,
            "bin_end": 4.3,
            "count": 0
           },
           {
            "bin_start": 4.3,
            "bin_end": 4.4,
            "count": 0
           },
           {
            "bin_start": 4.4,
            "bin_end": 4.5,
            "count": 0
           }
          ]
         }
        },
        {
         "name": "_deepnote_index_column",
         "dtype": "object"
        }
       ],
       "rows_top": [
        {
         "size_bytes": -0.2738061525998638,
         "price": 0.3881256942213166,
         "rating_count_tot": 0.1109023233440474,
         "sup_devices.num": 0.170753221317424,
         "ipadSc_urls.num": 0.6510506680574688,
         "lang.num": 0.576470774894817,
         "vpp_lic": 0.0836417500620061,
         "currency_USD": 1,
         "cont_rating_12+": 0,
         "cont_rating_17+": 0,
         "cont_rating_4+": 1,
         "cont_rating_9+": 0,
         "prime_genre_Book": 0,
         "prime_genre_Business": 0,
         "prime_genre_Catalogs": 0,
         "prime_genre_Education": 0,
         "prime_genre_Entertainment": 0,
         "prime_genre_Finance": 0,
         "prime_genre_Food & Drink": 0,
         "prime_genre_Games": 1,
         "prime_genre_Health & Fitness": 0,
         "prime_genre_Lifestyle": 0,
         "prime_genre_Medical": 0,
         "prime_genre_Music": 0,
         "prime_genre_Navigation": 0,
         "prime_genre_News": 0,
         "prime_genre_Photo & Video": 0,
         "prime_genre_Productivity": 0,
         "prime_genre_Reference": 0,
         "prime_genre_Shopping": 0,
         "prime_genre_Social Networking": 0,
         "prime_genre_Sports": 0,
         "prime_genre_Travel": 0,
         "prime_genre_Utilities": 0,
         "prime_genre_Weather": 0,
         "user_rating": 4,
         "_deepnote_index_column": "PAC-MAN Premium"
        },
        {
         "size_bytes": -0.1129114784171637,
         "price": -0.2959602425094711,
         "rating_count_tot": 1.9564766942338945,
         "sup_devices.num": -0.0968084886371818,
         "ipadSc_urls.num": 0.6510506680574688,
         "lang.num": 2.2180833808888507,
         "vpp_lic": 0.0836417500620061,
         "currency_USD": 1,
         "cont_rating_12+": 0,
         "cont_rating_17+": 0,
         "cont_rating_4+": 1,
         "cont_rating_9+": 0,
         "prime_genre_Book": 0,
         "prime_genre_Business": 0,
         "prime_genre_Catalogs": 0,
         "prime_genre_Education": 0,
         "prime_genre_Entertainment": 0,
         "prime_genre_Finance": 0,
         "prime_genre_Food & Drink": 0,
         "prime_genre_Games": 0,
         "prime_genre_Health & Fitness": 0,
         "prime_genre_Lifestyle": 0,
         "prime_genre_Medical": 0,
         "prime_genre_Music": 0,
         "prime_genre_Navigation": 0,
         "prime_genre_News": 0,
         "prime_genre_Photo & Video": 0,
         "prime_genre_Productivity": 1,
         "prime_genre_Reference": 0,
         "prime_genre_Shopping": 0,
         "prime_genre_Social Networking": 0,
         "prime_genre_Sports": 0,
         "prime_genre_Travel": 0,
         "prime_genre_Utilities": 0,
         "prime_genre_Weather": 0,
         "user_rating": 4,
         "_deepnote_index_column": "Evernote - stay organized"
        },
        {
         "size_bytes": -0.2745416906595976,
         "price": -0.2959602425094711,
         "rating_count_tot": 2.319826665531261,
         "sup_devices.num": -0.0968084886371818,
         "ipadSc_urls.num": 0.6510506680574688,
         "lang.num": -0.3074744744865857,
         "vpp_lic": 0.0836417500620061,
         "currency_USD": 1,
         "cont_rating_12+": 0,
         "cont_rating_17+": 0,
         "cont_rating_4+": 1,
         "cont_rating_9+": 0,
         "prime_genre_Book": 0,
         "prime_genre_Business": 0,
         "prime_genre_Catalogs": 0,
         "prime_genre_Education": 0,
         "prime_genre_Entertainment": 0,
         "prime_genre_Finance": 0,
         "prime_genre_Food & Drink": 0,
         "prime_genre_Games": 0,
         "prime_genre_Health & Fitness": 0,
         "prime_genre_Lifestyle": 0,
         "prime_genre_Medical": 0,
         "prime_genre_Music": 0,
         "prime_genre_Navigation": 0,
         "prime_genre_News": 0,
         "prime_genre_Photo & Video": 0,
         "prime_genre_Productivity": 0,
         "prime_genre_Reference": 0,
         "prime_genre_Shopping": 0,
         "prime_genre_Social Networking": 0,
         "prime_genre_Sports": 0,
         "prime_genre_Travel": 0,
         "prime_genre_Utilities": 0,
         "prime_genre_Weather": 1,
         "user_rating": 4,
         "_deepnote_index_column": "WeatherBug - Local Weather, Radar, Maps, Alerts"
        },
        {
         "size_bytes": -0.1966202710912093,
         "price": -0.2959602425094711,
         "rating_count_tot": 3.292413052108099,
         "sup_devices.num": -0.0968084886371818,
         "ipadSc_urls.num": 0.6510506680574688,
         "lang.num": 0.4501928821260452,
         "vpp_lic": 0.0836417500620061,
         "currency_USD": 1,
         "cont_rating_12+": 1,
         "cont_rating_17+": 0,
         "cont_rating_4+": 0,
         "cont_rating_9+": 0,
         "prime_genre_Book": 0,
         "prime_genre_Business": 0,
         "prime_genre_Catalogs": 0,
         "prime_genre_Education": 0,
         "prime_genre_Entertainment": 0,
         "prime_genre_Finance": 0,
         "prime_genre_Food & Drink": 0,
         "prime_genre_Games": 0,
         "prime_genre_Health & Fitness": 0,
         "prime_genre_Lifestyle": 0,
         "prime_genre_Medical": 0,
         "prime_genre_Music": 0,
         "prime_genre_Navigation": 0,
         "prime_genre_News": 0,
         "prime_genre_Photo & Video": 0,
         "prime_genre_Productivity": 0,
         "prime_genre_Reference": 0,
         "prime_genre_Shopping": 1,
         "prime_genre_Social Networking": 0,
         "prime_genre_Sports": 0,
         "prime_genre_Travel": 0,
         "prime_genre_Utilities": 0,
         "prime_genre_Weather": 0,
         "user_rating": 4,
         "_deepnote_index_column": "eBay: Best App to Buy, Sell, Save! Online Shopping"
        },
        {
         "size_bytes": -0.2961174737451223,
         "price": -0.2959602425094711,
         "rating_count_tot": 12.847931035918949,
         "sup_devices.num": -0.0968084886371818,
         "ipadSc_urls.num": 0.6510506680574688,
         "lang.num": 4.996197021801831,
         "vpp_lic": 0.0836417500620061,
         "currency_USD": 1,
         "cont_rating_12+": 0,
         "cont_rating_17+": 0,
         "cont_rating_4+": 1,
         "cont_rating_9+": 0,
         "prime_genre_Book": 0,
         "prime_genre_Business": 0,
         "prime_genre_Catalogs": 0,
         "prime_genre_Education": 0,
         "prime_genre_Entertainment": 0,
         "prime_genre_Finance": 0,
         "prime_genre_Food & Drink": 0,
         "prime_genre_Games": 0,
         "prime_genre_Health & Fitness": 0,
         "prime_genre_Lifestyle": 0,
         "prime_genre_Medical": 0,
         "prime_genre_Music": 0,
         "prime_genre_Navigation": 0,
         "prime_genre_News": 0,
         "prime_genre_Photo & Video": 0,
         "prime_genre_Productivity": 0,
         "prime_genre_Reference": 1,
         "prime_genre_Shopping": 0,
         "prime_genre_Social Networking": 0,
         "prime_genre_Sports": 0,
         "prime_genre_Travel": 0,
         "prime_genre_Utilities": 0,
         "prime_genre_Weather": 0,
         "user_rating": 4,
         "_deepnote_index_column": "Bible"
        }
       ],
       "rows_bottom": null
      },
      "text/plain": "                                                    size_bytes     price  \\\ntrack_name                                                                 \nPAC-MAN Premium                                      -0.273806  0.388126   \nEvernote - stay organized                            -0.112911 -0.295960   \nWeatherBug - Local Weather, Radar, Maps, Alerts      -0.274542 -0.295960   \neBay: Best App to Buy, Sell, Save! Online Shopping   -0.196620 -0.295960   \nBible                                                -0.296117 -0.295960   \n\n                                                    rating_count_tot  \\\ntrack_name                                                             \nPAC-MAN Premium                                             0.110902   \nEvernote - stay organized                                   1.956477   \nWeatherBug - Local Weather, Radar, Maps, Alerts             2.319827   \neBay: Best App to Buy, Sell, Save! Online Shopping          3.292413   \nBible                                                      12.847931   \n\n                                                    sup_devices.num  \\\ntrack_name                                                            \nPAC-MAN Premium                                            0.170753   \nEvernote - stay organized                                 -0.096808   \nWeatherBug - Local Weather, Radar, Maps, Alerts           -0.096808   \neBay: Best App to Buy, Sell, Save! Online Shopping        -0.096808   \nBible                                                     -0.096808   \n\n                                                    ipadSc_urls.num  lang.num  \\\ntrack_name                                                                      \nPAC-MAN Premium                                            0.651051  0.576471   \nEvernote - stay organized                                  0.651051  2.218083   \nWeatherBug - Local Weather, Radar, Maps, Alerts            0.651051 -0.307474   \neBay: Best App to Buy, Sell, Save! Online Shopping         0.651051  0.450193   \nBible                                                      0.651051  4.996197   \n\n                                                     vpp_lic  currency_USD  \\\ntrack_name                                                                   \nPAC-MAN Premium                                     0.083642             1   \nEvernote - stay organized                           0.083642             1   \nWeatherBug - Local Weather, Radar, Maps, Alerts     0.083642             1   \neBay: Best App to Buy, Sell, Save! Online Shopping  0.083642             1   \nBible                                               0.083642             1   \n\n                                                    cont_rating_12+  \\\ntrack_name                                                            \nPAC-MAN Premium                                                   0   \nEvernote - stay organized                                         0   \nWeatherBug - Local Weather, Radar, Maps, Alerts                   0   \neBay: Best App to Buy, Sell, Save! Online Shopping                1   \nBible                                                             0   \n\n                                                    cont_rating_17+  ...  \\\ntrack_name                                                           ...   \nPAC-MAN Premium                                                   0  ...   \nEvernote - stay organized                                         0  ...   \nWeatherBug - Local Weather, Radar, Maps, Alerts                   0  ...   \neBay: Best App to Buy, Sell, Save! Online Shopping                0  ...   \nBible                                                             0  ...   \n\n                                                    prime_genre_Photo & Video  \\\ntrack_name                                                                      \nPAC-MAN Premium                                                             0   \nEvernote - stay organized                                                   0   \nWeatherBug - Local Weather, Radar, Maps, Alerts                             0   \neBay: Best App to Buy, Sell, Save! Online Shopping                          0   \nBible                                                                       0   \n\n                                                    prime_genre_Productivity  \\\ntrack_name                                                                     \nPAC-MAN Premium                                                            0   \nEvernote - stay organized                                                  1   \nWeatherBug - Local Weather, Radar, Maps, Alerts                            0   \neBay: Best App to Buy, Sell, Save! Online Shopping                         0   \nBible                                                                      0   \n\n                                                    prime_genre_Reference  \\\ntrack_name                                                                  \nPAC-MAN Premium                                                         0   \nEvernote - stay organized                                               0   \nWeatherBug - Local Weather, Radar, Maps, Alerts                         0   \neBay: Best App to Buy, Sell, Save! Online Shopping                      0   \nBible                                                                   1   \n\n                                                    prime_genre_Shopping  \\\ntrack_name                                                                 \nPAC-MAN Premium                                                        0   \nEvernote - stay organized                                              0   \nWeatherBug - Local Weather, Radar, Maps, Alerts                        0   \neBay: Best App to Buy, Sell, Save! Online Shopping                     1   \nBible                                                                  0   \n\n                                                    prime_genre_Social Networking  \\\ntrack_name                                                                          \nPAC-MAN Premium                                                                 0   \nEvernote - stay organized                                                       0   \nWeatherBug - Local Weather, Radar, Maps, Alerts                                 0   \neBay: Best App to Buy, Sell, Save! Online Shopping                              0   \nBible                                                                           0   \n\n                                                    prime_genre_Sports  \\\ntrack_name                                                               \nPAC-MAN Premium                                                      0   \nEvernote - stay organized                                            0   \nWeatherBug - Local Weather, Radar, Maps, Alerts                      0   \neBay: Best App to Buy, Sell, Save! Online Shopping                   0   \nBible                                                                0   \n\n                                                    prime_genre_Travel  \\\ntrack_name                                                               \nPAC-MAN Premium                                                      0   \nEvernote - stay organized                                            0   \nWeatherBug - Local Weather, Radar, Maps, Alerts                      0   \neBay: Best App to Buy, Sell, Save! Online Shopping                   0   \nBible                                                                0   \n\n                                                    prime_genre_Utilities  \\\ntrack_name                                                                  \nPAC-MAN Premium                                                         0   \nEvernote - stay organized                                               0   \nWeatherBug - Local Weather, Radar, Maps, Alerts                         0   \neBay: Best App to Buy, Sell, Save! Online Shopping                      0   \nBible                                                                   0   \n\n                                                    prime_genre_Weather  \\\ntrack_name                                                                \nPAC-MAN Premium                                                       0   \nEvernote - stay organized                                             0   \nWeatherBug - Local Weather, Radar, Maps, Alerts                       1   \neBay: Best App to Buy, Sell, Save! Online Shopping                    0   \nBible                                                                 0   \n\n                                                    user_rating  \ntrack_name                                                       \nPAC-MAN Premium                                             4.0  \nEvernote - stay organized                                   4.0  \nWeatherBug - Local Weather, Radar, Maps, Alerts             4.0  \neBay: Best App to Buy, Sell, Save! Online Shopping          4.0  \nBible                                                       4.0  \n\n[5 rows x 36 columns]",
      "text/html": "<div>\n<style scoped>\n    .dataframe tbody tr th:only-of-type {\n        vertical-align: middle;\n    }\n\n    .dataframe tbody tr th {\n        vertical-align: top;\n    }\n\n    .dataframe thead th {\n        text-align: right;\n    }\n</style>\n<table border=\"1\" class=\"dataframe\">\n  <thead>\n    <tr style=\"text-align: right;\">\n      <th></th>\n      <th>size_bytes</th>\n      <th>price</th>\n      <th>rating_count_tot</th>\n      <th>sup_devices.num</th>\n      <th>ipadSc_urls.num</th>\n      <th>lang.num</th>\n      <th>vpp_lic</th>\n      <th>currency_USD</th>\n      <th>cont_rating_12+</th>\n      <th>cont_rating_17+</th>\n      <th>...</th>\n      <th>prime_genre_Photo &amp; Video</th>\n      <th>prime_genre_Productivity</th>\n      <th>prime_genre_Reference</th>\n      <th>prime_genre_Shopping</th>\n      <th>prime_genre_Social Networking</th>\n      <th>prime_genre_Sports</th>\n      <th>prime_genre_Travel</th>\n      <th>prime_genre_Utilities</th>\n      <th>prime_genre_Weather</th>\n      <th>user_rating</th>\n    </tr>\n    <tr>\n      <th>track_name</th>\n      <th></th>\n      <th></th>\n      <th></th>\n      <th></th>\n      <th></th>\n      <th></th>\n      <th></th>\n      <th></th>\n      <th></th>\n      <th></th>\n      <th></th>\n      <th></th>\n      <th></th>\n      <th></th>\n      <th></th>\n      <th></th>\n      <th></th>\n      <th></th>\n      <th></th>\n      <th></th>\n      <th></th>\n    </tr>\n  </thead>\n  <tbody>\n    <tr>\n      <th>PAC-MAN Premium</th>\n      <td>-0.273806</td>\n      <td>0.388126</td>\n      <td>0.110902</td>\n      <td>0.170753</td>\n      <td>0.651051</td>\n      <td>0.576471</td>\n      <td>0.083642</td>\n      <td>1</td>\n      <td>0</td>\n      <td>0</td>\n      <td>...</td>\n      <td>0</td>\n      <td>0</td>\n      <td>0</td>\n      <td>0</td>\n      <td>0</td>\n      <td>0</td>\n      <td>0</td>\n      <td>0</td>\n      <td>0</td>\n      <td>4.0</td>\n    </tr>\n    <tr>\n      <th>Evernote - stay organized</th>\n      <td>-0.112911</td>\n      <td>-0.295960</td>\n      <td>1.956477</td>\n      <td>-0.096808</td>\n      <td>0.651051</td>\n      <td>2.218083</td>\n      <td>0.083642</td>\n      <td>1</td>\n      <td>0</td>\n      <td>0</td>\n      <td>...</td>\n      <td>0</td>\n      <td>1</td>\n      <td>0</td>\n      <td>0</td>\n      <td>0</td>\n      <td>0</td>\n      <td>0</td>\n      <td>0</td>\n      <td>0</td>\n      <td>4.0</td>\n    </tr>\n    <tr>\n      <th>WeatherBug - Local Weather, Radar, Maps, Alerts</th>\n      <td>-0.274542</td>\n      <td>-0.295960</td>\n      <td>2.319827</td>\n      <td>-0.096808</td>\n      <td>0.651051</td>\n      <td>-0.307474</td>\n      <td>0.083642</td>\n      <td>1</td>\n      <td>0</td>\n      <td>0</td>\n      <td>...</td>\n      <td>0</td>\n      <td>0</td>\n      <td>0</td>\n      <td>0</td>\n      <td>0</td>\n      <td>0</td>\n      <td>0</td>\n      <td>0</td>\n      <td>1</td>\n      <td>4.0</td>\n    </tr>\n    <tr>\n      <th>eBay: Best App to Buy, Sell, Save! Online Shopping</th>\n      <td>-0.196620</td>\n      <td>-0.295960</td>\n      <td>3.292413</td>\n      <td>-0.096808</td>\n      <td>0.651051</td>\n      <td>0.450193</td>\n      <td>0.083642</td>\n      <td>1</td>\n      <td>1</td>\n      <td>0</td>\n      <td>...</td>\n      <td>0</td>\n      <td>0</td>\n      <td>0</td>\n      <td>1</td>\n      <td>0</td>\n      <td>0</td>\n      <td>0</td>\n      <td>0</td>\n      <td>0</td>\n      <td>4.0</td>\n    </tr>\n    <tr>\n      <th>Bible</th>\n      <td>-0.296117</td>\n      <td>-0.295960</td>\n      <td>12.847931</td>\n      <td>-0.096808</td>\n      <td>0.651051</td>\n      <td>4.996197</td>\n      <td>0.083642</td>\n      <td>1</td>\n      <td>0</td>\n      <td>0</td>\n      <td>...</td>\n      <td>0</td>\n      <td>0</td>\n      <td>1</td>\n      <td>0</td>\n      <td>0</td>\n      <td>0</td>\n      <td>0</td>\n      <td>0</td>\n      <td>0</td>\n      <td>4.0</td>\n    </tr>\n  </tbody>\n</table>\n<p>5 rows × 36 columns</p>\n</div>"
     },
     "metadata": {}
    }
   ]
  },
  {
   "cell_type": "code",
   "metadata": {
    "colab": {
     "base_uri": "https://localhost:8080/"
    },
    "id": "9JE3x0X7H1IA",
    "outputId": "2b5c0efc-6cf0-4f83-df80-00688b6f3ac9",
    "cell_id": "00006-aa8414b5-8b1f-4019-9463-8abc8ea27b57",
    "deepnote_to_be_reexecuted": false,
    "source_hash": "b8249620",
    "execution_start": 1635970125324,
    "execution_millis": 0,
    "deepnote_cell_type": "code"
   },
   "source": "type(app['user_rating'][0])",
   "execution_count": 4,
   "outputs": [
    {
     "output_type": "execute_result",
     "execution_count": 4,
     "data": {
      "text/plain": "numpy.float64"
     },
     "metadata": {}
    }
   ]
  },
  {
   "cell_type": "code",
   "metadata": {
    "tags": [],
    "cell_id": "00006-e45bcde2-92b2-454d-9d8d-6dba0d1f827a",
    "deepnote_to_be_reexecuted": false,
    "source_hash": "5be87330",
    "execution_start": 1635970125346,
    "execution_millis": 2,
    "deepnote_cell_type": "code"
   },
   "source": "app.columns",
   "execution_count": 5,
   "outputs": [
    {
     "output_type": "execute_result",
     "execution_count": 5,
     "data": {
      "text/plain": "Index(['size_bytes', 'price', 'rating_count_tot', 'sup_devices.num',\n       'ipadSc_urls.num', 'lang.num', 'vpp_lic', 'currency_USD',\n       'cont_rating_12+', 'cont_rating_17+', 'cont_rating_4+',\n       'cont_rating_9+', 'prime_genre_Book', 'prime_genre_Business',\n       'prime_genre_Catalogs', 'prime_genre_Education',\n       'prime_genre_Entertainment', 'prime_genre_Finance',\n       'prime_genre_Food & Drink', 'prime_genre_Games',\n       'prime_genre_Health & Fitness', 'prime_genre_Lifestyle',\n       'prime_genre_Medical', 'prime_genre_Music', 'prime_genre_Navigation',\n       'prime_genre_News', 'prime_genre_Photo & Video',\n       'prime_genre_Productivity', 'prime_genre_Reference',\n       'prime_genre_Shopping', 'prime_genre_Social Networking',\n       'prime_genre_Sports', 'prime_genre_Travel', 'prime_genre_Utilities',\n       'prime_genre_Weather', 'user_rating'],\n      dtype='object')"
     },
     "metadata": {}
    }
   ]
  },
  {
   "cell_type": "code",
   "metadata": {
    "id": "-n9rz3ySBrz6",
    "cell_id": "00007-e0229016-066c-4ce1-94e2-17dff9ccee1c",
    "deepnote_to_be_reexecuted": false,
    "source_hash": "d43b9935",
    "execution_start": 1635970125347,
    "execution_millis": 3,
    "deepnote_cell_type": "code"
   },
   "source": "# Instructions:\n# -------------\n# Prepare the target variable\n# LabelEncoder() transforms a string vector to a num vector\n\n# Store the feature names and target as a configurable variables\nfeatures = [\n    \"size_bytes\",\n    \"price\",\n    \"rating_count_tot\",\n    \"sup_devices.num\",\n    \"ipadSc_urls.num\",\n    \"lang.num\",\n    \"vpp_lic\",\n    \"currency_USD\",\n    \"cont_rating_12+\",\n    \"cont_rating_17+\",\n    \"cont_rating_4+\",\n    \"cont_rating_9+\",\n    \"prime_genre_Book\",\n    \"prime_genre_Business\",\n    \"prime_genre_Catalogs\",\n    \"prime_genre_Education\",\n    \"prime_genre_Entertainment\",\n    \"prime_genre_Finance\",\n    \"prime_genre_Food & Drink\",\n    \"prime_genre_Games\",\n    \"prime_genre_Health & Fitness\",\n    \"prime_genre_Lifestyle\",\n    \"prime_genre_Medical\",\n    \"prime_genre_Music\",\n    \"prime_genre_Navigation\",\n    \"prime_genre_News\",\n    \"prime_genre_Photo & Video\",\n    \"prime_genre_Productivity\",\n    \"prime_genre_Reference\",\n    \"prime_genre_Shopping\",\n    \"prime_genre_Social Networking\",\n    \"prime_genre_Sports\",\n    \"prime_genre_Travel\",\n    \"prime_genre_Utilities\",\n    \"prime_genre_Weather\",\n]\n\ntarget = \"user_rating\"\n\n# Encoding the target using LabelEncoder()\nencoder = LabelEncoder()\nencoder.fit(app[target])\ny_encoded = encoder.transform(app[target])\n\n# Convert integers to dummy variables (i.e. one hot encoded)\n# A dummy variable is a variable that takes values of 0 and 1,\n# where the values indicate the presence or absence of something\n# (e.g., a 0 may indicate a placebo and 1 may indicate a drug).\n# Where a categorical variable has more than two categories,\n# it can be represented by a set of dummy variables, with one variable for each category.\ndummy_y = utils.to_categorical(y_encoded)\ndummy_y",
   "execution_count": 6,
   "outputs": [
    {
     "output_type": "execute_result",
     "execution_count": 6,
     "data": {
      "text/plain": "array([[0., 0., 0., 0., 1., 0.],\n       [0., 0., 0., 0., 1., 0.],\n       [0., 0., 0., 0., 1., 0.],\n       ...,\n       [0., 0., 0., 0., 1., 0.],\n       [0., 0., 0., 0., 1., 0.],\n       [0., 0., 0., 0., 0., 1.]], dtype=float32)"
     },
     "metadata": {}
    }
   ]
  },
  {
   "cell_type": "code",
   "metadata": {
    "pycharm": {
     "is_executing": false
    },
    "id": "CZvL8RGt6lKz",
    "outputId": "7908f411-3362-4317-c16e-e1e26aee2553",
    "cell_id": "00008-000dc64a-d4bf-4bda-b04e-8c6e566f3baa",
    "deepnote_to_be_reexecuted": false,
    "source_hash": "598968e7",
    "execution_start": 1635970125353,
    "execution_millis": 304,
    "deepnote_cell_type": "code"
   },
   "source": "# Instructions:\n# -------------\n# Plot the Rating distribution as seen in the plot below\n\n# Seaborn has just a thing for that:\nsns.countplot(x=y_encoded)\nplt.show()\n\n# Taking X as entire dataset of features and \nX = app[features]\ny = dummy_y \n# Let's split our data set in train and test and use random seed = 42 and 30% test size\n# Keep in mind that this data set is already normalized, which leads to a leakage of information from train set to test set\n# When you are working with a dataset, make sure you normalize the variables in test set according to the parameters of the train set\n\n# Random seed\nseed=42\n\n# Doing train / test split\nX_train, X_test, y_train, y_test = train_test_split(X, y, test_size=0.3, random_state=seed)\n    \nprint (X_train.shape)\nprint(y_train.shape) \nX.head(5)\n",
   "execution_count": 7,
   "outputs": [
    {
     "data": {
      "text/plain": "<Figure size 432x288 with 1 Axes>",
      "image/png": "[encoded data removed]"
     },
     "metadata": {
      "needs_background": "light",
      "image/png": {
       "width": 395,
       "height": 248
      }
     },
     "output_type": "display_data"
    },
    {
     "name": "stdout",
     "text": "(5037, 35)\n(5037, 6)\n",
     "output_type": "stream"
    },
    {
     "output_type": "execute_result",
     "execution_count": 7,
     "data": {
      "application/vnd.deepnote.dataframe.v2+json": {
       "row_count": 5,
       "column_count": 35,
       "columns": [
        {
         "name": "size_bytes",
         "dtype": "float64",
         "stats": {
          "unique_count": 5,
          "nan_count": 0,
          "min": "-0.2961174737451223",
          "max": "-0.1129114784171637",
          "histogram": [
           {
            "bin_start": -0.2961174737451223,
            "bin_end": -0.27779687421232646,
            "count": 1
           },
           {
            "bin_start": -0.27779687421232646,
            "bin_end": -0.2594762746795306,
            "count": 2
           },
           {
            "bin_start": -0.2594762746795306,
            "bin_end": -0.24115567514673472,
            "count": 0
           },
           {
            "bin_start": -0.24115567514673472,
            "bin_end": -0.22283507561393887,
            "count": 0
           },
           {
            "bin_start": -0.22283507561393887,
            "bin_end": -0.204514476081143,
            "count": 0
           },
           {
            "bin_start": -0.204514476081143,
            "bin_end": -0.18619387654834713,
            "count": 1
           },
           {
            "bin_start": -0.18619387654834713,
            "bin_end": -0.16787327701555127,
            "count": 0
           },
           {
            "bin_start": -0.16787327701555127,
            "bin_end": -0.14955267748275541,
            "count": 0
           },
           {
            "bin_start": -0.14955267748275541,
            "bin_end": -0.13123207794995956,
            "count": 0
           },
           {
            "bin_start": -0.13123207794995956,
            "bin_end": -0.1129114784171637,
            "count": 1
           }
          ]
         }
        },
        {
         "name": "price",
         "dtype": "float64",
         "stats": {
          "unique_count": 2,
          "nan_count": 0,
          "min": "-0.2959602425094711",
          "max": "0.3881256942213166",
          "histogram": [
           {
            "bin_start": -0.2959602425094711,
            "bin_end": -0.22755164883639234,
            "count": 4
           },
           {
            "bin_start": -0.22755164883639234,
            "bin_end": -0.1591430551633136,
            "count": 0
           },
           {
            "bin_start": -0.1591430551633136,
            "bin_end": -0.09073446149023484,
            "count": 0
           },
           {
            "bin_start": -0.09073446149023484,
            "bin_end": -0.022325867817156064,
            "count": 0
           },
           {
            "bin_start": -0.022325867817156064,
            "bin_end": 0.04608272585592271,
            "count": 0
           },
           {
            "bin_start": 0.04608272585592271,
            "bin_end": 0.11449131952900143,
            "count": 0
           },
           {
            "bin_start": 0.11449131952900143,
            "bin_end": 0.1828999132020802,
            "count": 0
           },
           {
            "bin_start": 0.1828999132020802,
            "bin_end": 0.251308506875159,
            "count": 0
           },
           {
            "bin_start": 0.251308506875159,
            "bin_end": 0.3197171005482377,
            "count": 0
           },
           {
            "bin_start": 0.3197171005482377,
            "bin_end": 0.3881256942213166,
            "count": 1
           }
          ]
         }
        },
        {
         "name": "rating_count_tot",
         "dtype": "float64",
         "stats": {
          "unique_count": 5,
          "nan_count": 0,
          "min": "0.1109023233440474",
          "max": "12.847931035918949",
          "histogram": [
           {
            "bin_start": 0.1109023233440474,
            "bin_end": 1.3846051946015374,
            "count": 1
           },
           {
            "bin_start": 1.3846051946015374,
            "bin_end": 2.6583080658590275,
            "count": 2
           },
           {
            "bin_start": 2.6583080658590275,
            "bin_end": 3.9320109371165173,
            "count": 1
           },
           {
            "bin_start": 3.9320109371165173,
            "bin_end": 5.205713808374008,
            "count": 0
           },
           {
            "bin_start": 5.205713808374008,
            "bin_end": 6.479416679631498,
            "count": 0
           },
           {
            "bin_start": 6.479416679631498,
            "bin_end": 7.753119550888988,
            "count": 0
           },
           {
            "bin_start": 7.753119550888988,
            "bin_end": 9.026822422146479,
            "count": 0
           },
           {
            "bin_start": 9.026822422146479,
            "bin_end": 10.300525293403968,
            "count": 0
           },
           {
            "bin_start": 10.300525293403968,
            "bin_end": 11.574228164661458,
            "count": 0
           },
           {
            "bin_start": 11.574228164661458,
            "bin_end": 12.847931035918949,
            "count": 1
           }
          ]
         }
        },
        {
         "name": "sup_devices.num",
         "dtype": "float64",
         "stats": {
          "unique_count": 2,
          "nan_count": 0,
          "min": "-0.0968084886371818",
          "max": "0.170753221317424",
          "histogram": [
           {
            "bin_start": -0.0968084886371818,
            "bin_end": -0.07005231764172122,
            "count": 4
           },
           {
            "bin_start": -0.07005231764172122,
            "bin_end": -0.04329614664626064,
            "count": 0
           },
           {
            "bin_start": -0.04329614664626064,
            "bin_end": -0.016539975650800065,
            "count": 0
           },
           {
            "bin_start": -0.016539975650800065,
            "bin_end": 0.01021619534466052,
            "count": 0
           },
           {
            "bin_start": 0.01021619534466052,
            "bin_end": 0.036972366340121104,
            "count": 0
           },
           {
            "bin_start": 0.036972366340121104,
            "bin_end": 0.06372853733558168,
            "count": 0
           },
           {
            "bin_start": 0.06372853733558168,
            "bin_end": 0.09048470833104227,
            "count": 0
           },
           {
            "bin_start": 0.09048470833104227,
            "bin_end": 0.11724087932650284,
            "count": 0
           },
           {
            "bin_start": 0.11724087932650284,
            "bin_end": 0.14399705032196342,
            "count": 0
           },
           {
            "bin_start": 0.14399705032196342,
            "bin_end": 0.170753221317424,
            "count": 1
           }
          ]
         }
        },
        {
         "name": "ipadSc_urls.num",
         "dtype": "float64",
         "stats": {
          "unique_count": 1,
          "nan_count": 0,
          "min": "0.6510506680574688",
          "max": "0.6510506680574688",
          "histogram": [
           {
            "bin_start": 0.1510506680574688,
            "bin_end": 0.2510506680574688,
            "count": 0
           },
           {
            "bin_start": 0.2510506680574688,
            "bin_end": 0.3510506680574688,
            "count": 0
           },
           {
            "bin_start": 0.3510506680574688,
            "bin_end": 0.45105066805746885,
            "count": 0
           },
           {
            "bin_start": 0.45105066805746885,
            "bin_end": 0.5510506680574688,
            "count": 0
           },
           {
            "bin_start": 0.5510506680574688,
            "bin_end": 0.6510506680574688,
            "count": 0
           },
           {
            "bin_start": 0.6510506680574688,
            "bin_end": 0.7510506680574689,
            "count": 5
           },
           {
            "bin_start": 0.7510506680574689,
            "bin_end": 0.8510506680574689,
            "count": 0
           },
           {
            "bin_start": 0.8510506680574689,
            "bin_end": 0.9510506680574689,
            "count": 0
           },
           {
            "bin_start": 0.9510506680574689,
            "bin_end": 1.051050668057469,
            "count": 0
           },
           {
            "bin_start": 1.051050668057469,
            "bin_end": 1.1510506680574688,
            "count": 0
           }
          ]
         }
        },
        {
         "name": "lang.num",
         "dtype": "float64",
         "stats": {
          "unique_count": 5,
          "nan_count": 0,
          "min": "-0.3074744744865857",
          "max": "4.996197021801831",
          "histogram": [
           {
            "bin_start": -0.3074744744865857,
            "bin_end": 0.22289267514225597,
            "count": 1
           },
           {
            "bin_start": 0.22289267514225597,
            "bin_end": 0.7532598247710977,
            "count": 2
           },
           {
            "bin_start": 0.7532598247710977,
            "bin_end": 1.2836269743999393,
            "count": 0
           },
           {
            "bin_start": 1.2836269743999393,
            "bin_end": 1.8139941240287811,
            "count": 0
           },
           {
            "bin_start": 1.8139941240287811,
            "bin_end": 2.344361273657623,
            "count": 1
           },
           {
            "bin_start": 2.344361273657623,
            "bin_end": 2.8747284232864643,
            "count": 0
           },
           {
            "bin_start": 2.8747284232864643,
            "bin_end": 3.405095572915306,
            "count": 0
           },
           {
            "bin_start": 3.405095572915306,
            "bin_end": 3.935462722544148,
            "count": 0
           },
           {
            "bin_start": 3.935462722544148,
            "bin_end": 4.465829872172989,
            "count": 0
           },
           {
            "bin_start": 4.465829872172989,
            "bin_end": 4.996197021801831,
            "count": 1
           }
          ]
         }
        },
        {
         "name": "vpp_lic",
         "dtype": "float64",
         "stats": {
          "unique_count": 1,
          "nan_count": 0,
          "min": "0.0836417500620061",
          "max": "0.0836417500620061",
          "histogram": [
           {
            "bin_start": -0.4163582499379939,
            "bin_end": -0.3163582499379939,
            "count": 0
           },
           {
            "bin_start": -0.3163582499379939,
            "bin_end": -0.2163582499379939,
            "count": 0
           },
           {
            "bin_start": -0.2163582499379939,
            "bin_end": -0.11635824993799387,
            "count": 0
           },
           {
            "bin_start": -0.11635824993799387,
            "bin_end": -0.016358249937993896,
            "count": 0
           },
           {
            "bin_start": -0.016358249937993896,
            "bin_end": 0.08364175006200608,
            "count": 0
           },
           {
            "bin_start": 0.08364175006200608,
            "bin_end": 0.18364175006200617,
            "count": 5
           },
           {
            "bin_start": 0.18364175006200617,
            "bin_end": 0.28364175006200615,
            "count": 0
           },
           {
            "bin_start": 0.28364175006200615,
            "bin_end": 0.3836417500620061,
            "count": 0
           },
           {
            "bin_start": 0.3836417500620061,
            "bin_end": 0.4836417500620061,
            "count": 0
           },
           {
            "bin_start": 0.4836417500620061,
            "bin_end": 0.5836417500620061,
            "count": 0
           }
          ]
         }
        },
        {
         "name": "currency_USD",
         "dtype": "int64",
         "stats": {
          "unique_count": 1,
          "nan_count": 0,
          "min": "1",
          "max": "1",
          "histogram": [
           {
            "bin_start": 0.5,
            "bin_end": 0.6,
            "count": 0
           },
           {
            "bin_start": 0.6,
            "bin_end": 0.7,
            "count": 0
           },
           {
            "bin_start": 0.7,
            "bin_end": 0.8,
            "count": 0
           },
           {
            "bin_start": 0.8,
            "bin_end": 0.9,
            "count": 0
           },
           {
            "bin_start": 0.9,
            "bin_end": 1,
            "count": 0
           },
           {
            "bin_start": 1,
            "bin_end": 1.1,
            "count": 5
           },
           {
            "bin_start": 1.1,
            "bin_end": 1.2000000000000002,
            "count": 0
           },
           {
            "bin_start": 1.2000000000000002,
            "bin_end": 1.3,
            "count": 0
           },
           {
            "bin_start": 1.3,
            "bin_end": 1.4,
            "count": 0
           },
           {
            "bin_start": 1.4,
            "bin_end": 1.5,
            "count": 0
           }
          ]
         }
        },
        {
         "name": "cont_rating_12+",
         "dtype": "int64",
         "stats": {
          "unique_count": 2,
          "nan_count": 0,
          "min": "0",
          "max": "1",
          "histogram": [
           {
            "bin_start": 0,
            "bin_end": 0.1,
            "count": 4
           },
           {
            "bin_start": 0.1,
            "bin_end": 0.2,
            "count": 0
           },
           {
            "bin_start": 0.2,
            "bin_end": 0.30000000000000004,
            "count": 0
           },
           {
            "bin_start": 0.30000000000000004,
            "bin_end": 0.4,
            "count": 0
           },
           {
            "bin_start": 0.4,
            "bin_end": 0.5,
            "count": 0
           },
           {
            "bin_start": 0.5,
            "bin_end": 0.6000000000000001,
            "count": 0
           },
           {
            "bin_start": 0.6000000000000001,
            "bin_end": 0.7000000000000001,
            "count": 0
           },
           {
            "bin_start": 0.7000000000000001,
            "bin_end": 0.8,
            "count": 0
           },
           {
            "bin_start": 0.8,
            "bin_end": 0.9,
            "count": 0
           },
           {
            "bin_start": 0.9,
            "bin_end": 1,
            "count": 1
           }
          ]
         }
        },
        {
         "name": "cont_rating_17+",
         "dtype": "int64",
         "stats": {
          "unique_count": 1,
          "nan_count": 0,
          "min": "0",
          "max": "0",
          "histogram": [
           {
            "bin_start": -0.5,
            "bin_end": -0.4,
            "count": 0
           },
           {
            "bin_start": -0.4,
            "bin_end": -0.3,
            "count": 0
           },
           {
            "bin_start": -0.3,
            "bin_end": -0.19999999999999996,
            "count": 0
           },
           {
            "bin_start": -0.19999999999999996,
            "bin_end": -0.09999999999999998,
            "count": 0
           },
           {
            "bin_start": -0.09999999999999998,
            "bin_end": 0,
            "count": 0
           },
           {
            "bin_start": 0,
            "bin_end": 0.10000000000000009,
            "count": 5
           },
           {
            "bin_start": 0.10000000000000009,
            "bin_end": 0.20000000000000007,
            "count": 0
           },
           {
            "bin_start": 0.20000000000000007,
            "bin_end": 0.30000000000000004,
            "count": 0
           },
           {
            "bin_start": 0.30000000000000004,
            "bin_end": 0.4,
            "count": 0
           },
           {
            "bin_start": 0.4,
            "bin_end": 0.5,
            "count": 0
           }
          ]
         }
        },
        {
         "name": "cont_rating_4+",
         "dtype": "int64",
         "stats": {
          "unique_count": 2,
          "nan_count": 0,
          "min": "0",
          "max": "1",
          "histogram": [
           {
            "bin_start": 0,
            "bin_end": 0.1,
            "count": 1
           },
           {
            "bin_start": 0.1,
            "bin_end": 0.2,
            "count": 0
           },
           {
            "bin_start": 0.2,
            "bin_end": 0.30000000000000004,
            "count": 0
           },
           {
            "bin_start": 0.30000000000000004,
            "bin_end": 0.4,
            "count": 0
           },
           {
            "bin_start": 0.4,
            "bin_end": 0.5,
            "count": 0
           },
           {
            "bin_start": 0.5,
            "bin_end": 0.6000000000000001,
            "count": 0
           },
           {
            "bin_start": 0.6000000000000001,
            "bin_end": 0.7000000000000001,
            "count": 0
           },
           {
            "bin_start": 0.7000000000000001,
            "bin_end": 0.8,
            "count": 0
           },
           {
            "bin_start": 0.8,
            "bin_end": 0.9,
            "count": 0
           },
           {
            "bin_start": 0.9,
            "bin_end": 1,
            "count": 4
           }
          ]
         }
        },
        {
         "name": "cont_rating_9+",
         "dtype": "int64",
         "stats": {
          "unique_count": 1,
          "nan_count": 0,
          "min": "0",
          "max": "0",
          "histogram": [
           {
            "bin_start": -0.5,
            "bin_end": -0.4,
            "count": 0
           },
           {
            "bin_start": -0.4,
            "bin_end": -0.3,
            "count": 0
           },
           {
            "bin_start": -0.3,
            "bin_end": -0.19999999999999996,
            "count": 0
           },
           {
            "bin_start": -0.19999999999999996,
            "bin_end": -0.09999999999999998,
            "count": 0
           },
           {
            "bin_start": -0.09999999999999998,
            "bin_end": 0,
            "count": 0
           },
           {
            "bin_start": 0,
            "bin_end": 0.10000000000000009,
            "count": 5
           },
           {
            "bin_start": 0.10000000000000009,
            "bin_end": 0.20000000000000007,
            "count": 0
           },
           {
            "bin_start": 0.20000000000000007,
            "bin_end": 0.30000000000000004,
            "count": 0
           },
           {
            "bin_start": 0.30000000000000004,
            "bin_end": 0.4,
            "count": 0
           },
           {
            "bin_start": 0.4,
            "bin_end": 0.5,
            "count": 0
           }
          ]
         }
        },
        {
         "name": "prime_genre_Book",
         "dtype": "int64",
         "stats": {
          "unique_count": 1,
          "nan_count": 0,
          "min": "0",
          "max": "0",
          "histogram": [
           {
            "bin_start": -0.5,
            "bin_end": -0.4,
            "count": 0
           },
           {
            "bin_start": -0.4,
            "bin_end": -0.3,
            "count": 0
           },
           {
            "bin_start": -0.3,
            "bin_end": -0.19999999999999996,
            "count": 0
           },
           {
            "bin_start": -0.19999999999999996,
            "bin_end": -0.09999999999999998,
            "count": 0
           },
           {
            "bin_start": -0.09999999999999998,
            "bin_end": 0,
            "count": 0
           },
           {
            "bin_start": 0,
            "bin_end": 0.10000000000000009,
            "count": 5
           },
           {
            "bin_start": 0.10000000000000009,
            "bin_end": 0.20000000000000007,
            "count": 0
           },
           {
            "bin_start": 0.20000000000000007,
            "bin_end": 0.30000000000000004,
            "count": 0
           },
           {
            "bin_start": 0.30000000000000004,
            "bin_end": 0.4,
            "count": 0
           },
           {
            "bin_start": 0.4,
            "bin_end": 0.5,
            "count": 0
           }
          ]
         }
        },
        {
         "name": "prime_genre_Business",
         "dtype": "int64",
         "stats": {
          "unique_count": 1,
          "nan_count": 0,
          "min": "0",
          "max": "0",
          "histogram": [
           {
            "bin_start": -0.5,
            "bin_end": -0.4,
            "count": 0
           },
           {
            "bin_start": -0.4,
            "bin_end": -0.3,
            "count": 0
           },
           {
            "bin_start": -0.3,
            "bin_end": -0.19999999999999996,
            "count": 0
           },
           {
            "bin_start": -0.19999999999999996,
            "bin_end": -0.09999999999999998,
            "count": 0
           },
           {
            "bin_start": -0.09999999999999998,
            "bin_end": 0,
            "count": 0
           },
           {
            "bin_start": 0,
            "bin_end": 0.10000000000000009,
            "count": 5
           },
           {
            "bin_start": 0.10000000000000009,
            "bin_end": 0.20000000000000007,
            "count": 0
           },
           {
            "bin_start": 0.20000000000000007,
            "bin_end": 0.30000000000000004,
            "count": 0
           },
           {
            "bin_start": 0.30000000000000004,
            "bin_end": 0.4,
            "count": 0
           },
           {
            "bin_start": 0.4,
            "bin_end": 0.5,
            "count": 0
           }
          ]
         }
        },
        {
         "name": "prime_genre_Catalogs",
         "dtype": "int64",
         "stats": {
          "unique_count": 1,
          "nan_count": 0,
          "min": "0",
          "max": "0",
          "histogram": [
           {
            "bin_start": -0.5,
            "bin_end": -0.4,
            "count": 0
           },
           {
            "bin_start": -0.4,
            "bin_end": -0.3,
            "count": 0
           },
           {
            "bin_start": -0.3,
            "bin_end": -0.19999999999999996,
            "count": 0
           },
           {
            "bin_start": -0.19999999999999996,
            "bin_end": -0.09999999999999998,
            "count": 0
           },
           {
            "bin_start": -0.09999999999999998,
            "bin_end": 0,
            "count": 0
           },
           {
            "bin_start": 0,
            "bin_end": 0.10000000000000009,
            "count": 5
           },
           {
            "bin_start": 0.10000000000000009,
            "bin_end": 0.20000000000000007,
            "count": 0
           },
           {
            "bin_start": 0.20000000000000007,
            "bin_end": 0.30000000000000004,
            "count": 0
           },
           {
            "bin_start": 0.30000000000000004,
            "bin_end": 0.4,
            "count": 0
           },
           {
            "bin_start": 0.4,
            "bin_end": 0.5,
            "count": 0
           }
          ]
         }
        },
        {
         "name": "prime_genre_Education",
         "dtype": "int64",
         "stats": {
          "unique_count": 1,
          "nan_count": 0,
          "min": "0",
          "max": "0",
          "histogram": [
           {
            "bin_start": -0.5,
            "bin_end": -0.4,
            "count": 0
           },
           {
            "bin_start": -0.4,
            "bin_end": -0.3,
            "count": 0
           },
           {
            "bin_start": -0.3,
            "bin_end": -0.19999999999999996,
            "count": 0
           },
           {
            "bin_start": -0.19999999999999996,
            "bin_end": -0.09999999999999998,
            "count": 0
           },
           {
            "bin_start": -0.09999999999999998,
            "bin_end": 0,
            "count": 0
           },
           {
            "bin_start": 0,
            "bin_end": 0.10000000000000009,
            "count": 5
           },
           {
            "bin_start": 0.10000000000000009,
            "bin_end": 0.20000000000000007,
            "count": 0
           },
           {
            "bin_start": 0.20000000000000007,
            "bin_end": 0.30000000000000004,
            "count": 0
           },
           {
            "bin_start": 0.30000000000000004,
            "bin_end": 0.4,
            "count": 0
           },
           {
            "bin_start": 0.4,
            "bin_end": 0.5,
            "count": 0
           }
          ]
         }
        },
        {
         "name": "prime_genre_Entertainment",
         "dtype": "int64",
         "stats": {
          "unique_count": 1,
          "nan_count": 0,
          "min": "0",
          "max": "0",
          "histogram": [
           {
            "bin_start": -0.5,
            "bin_end": -0.4,
            "count": 0
           },
           {
            "bin_start": -0.4,
            "bin_end": -0.3,
            "count": 0
           },
           {
            "bin_start": -0.3,
            "bin_end": -0.19999999999999996,
            "count": 0
           },
           {
            "bin_start": -0.19999999999999996,
            "bin_end": -0.09999999999999998,
            "count": 0
           },
           {
            "bin_start": -0.09999999999999998,
            "bin_end": 0,
            "count": 0
           },
           {
            "bin_start": 0,
            "bin_end": 0.10000000000000009,
            "count": 5
           },
           {
            "bin_start": 0.10000000000000009,
            "bin_end": 0.20000000000000007,
            "count": 0
           },
           {
            "bin_start": 0.20000000000000007,
            "bin_end": 0.30000000000000004,
            "count": 0
           },
           {
            "bin_start": 0.30000000000000004,
            "bin_end": 0.4,
            "count": 0
           },
           {
            "bin_start": 0.4,
            "bin_end": 0.5,
            "count": 0
           }
          ]
         }
        },
        {
         "name": "prime_genre_Finance",
         "dtype": "int64",
         "stats": {
          "unique_count": 1,
          "nan_count": 0,
          "min": "0",
          "max": "0",
          "histogram": [
           {
            "bin_start": -0.5,
            "bin_end": -0.4,
            "count": 0
           },
           {
            "bin_start": -0.4,
            "bin_end": -0.3,
            "count": 0
           },
           {
            "bin_start": -0.3,
            "bin_end": -0.19999999999999996,
            "count": 0
           },
           {
            "bin_start": -0.19999999999999996,
            "bin_end": -0.09999999999999998,
            "count": 0
           },
           {
            "bin_start": -0.09999999999999998,
            "bin_end": 0,
            "count": 0
           },
           {
            "bin_start": 0,
            "bin_end": 0.10000000000000009,
            "count": 5
           },
           {
            "bin_start": 0.10000000000000009,
            "bin_end": 0.20000000000000007,
            "count": 0
           },
           {
            "bin_start": 0.20000000000000007,
            "bin_end": 0.30000000000000004,
            "count": 0
           },
           {
            "bin_start": 0.30000000000000004,
            "bin_end": 0.4,
            "count": 0
           },
           {
            "bin_start": 0.4,
            "bin_end": 0.5,
            "count": 0
           }
          ]
         }
        },
        {
         "name": "prime_genre_Food & Drink",
         "dtype": "int64",
         "stats": {
          "unique_count": 1,
          "nan_count": 0,
          "min": "0",
          "max": "0",
          "histogram": [
           {
            "bin_start": -0.5,
            "bin_end": -0.4,
            "count": 0
           },
           {
            "bin_start": -0.4,
            "bin_end": -0.3,
            "count": 0
           },
           {
            "bin_start": -0.3,
            "bin_end": -0.19999999999999996,
            "count": 0
           },
           {
            "bin_start": -0.19999999999999996,
            "bin_end": -0.09999999999999998,
            "count": 0
           },
           {
            "bin_start": -0.09999999999999998,
            "bin_end": 0,
            "count": 0
           },
           {
            "bin_start": 0,
            "bin_end": 0.10000000000000009,
            "count": 5
           },
           {
            "bin_start": 0.10000000000000009,
            "bin_end": 0.20000000000000007,
            "count": 0
           },
           {
            "bin_start": 0.20000000000000007,
            "bin_end": 0.30000000000000004,
            "count": 0
           },
           {
            "bin_start": 0.30000000000000004,
            "bin_end": 0.4,
            "count": 0
           },
           {
            "bin_start": 0.4,
            "bin_end": 0.5,
            "count": 0
           }
          ]
         }
        },
        {
         "name": "prime_genre_Games",
         "dtype": "int64",
         "stats": {
          "unique_count": 2,
          "nan_count": 0,
          "min": "0",
          "max": "1",
          "histogram": [
           {
            "bin_start": 0,
            "bin_end": 0.1,
            "count": 4
           },
           {
            "bin_start": 0.1,
            "bin_end": 0.2,
            "count": 0
           },
           {
            "bin_start": 0.2,
            "bin_end": 0.30000000000000004,
            "count": 0
           },
           {
            "bin_start": 0.30000000000000004,
            "bin_end": 0.4,
            "count": 0
           },
           {
            "bin_start": 0.4,
            "bin_end": 0.5,
            "count": 0
           },
           {
            "bin_start": 0.5,
            "bin_end": 0.6000000000000001,
            "count": 0
           },
           {
            "bin_start": 0.6000000000000001,
            "bin_end": 0.7000000000000001,
            "count": 0
           },
           {
            "bin_start": 0.7000000000000001,
            "bin_end": 0.8,
            "count": 0
           },
           {
            "bin_start": 0.8,
            "bin_end": 0.9,
            "count": 0
           },
           {
            "bin_start": 0.9,
            "bin_end": 1,
            "count": 1
           }
          ]
         }
        },
        {
         "name": "prime_genre_Health & Fitness",
         "dtype": "int64",
         "stats": {
          "unique_count": 1,
          "nan_count": 0,
          "min": "0",
          "max": "0",
          "histogram": [
           {
            "bin_start": -0.5,
            "bin_end": -0.4,
            "count": 0
           },
           {
            "bin_start": -0.4,
            "bin_end": -0.3,
            "count": 0
           },
           {
            "bin_start": -0.3,
            "bin_end": -0.19999999999999996,
            "count": 0
           },
           {
            "bin_start": -0.19999999999999996,
            "bin_end": -0.09999999999999998,
            "count": 0
           },
           {
            "bin_start": -0.09999999999999998,
            "bin_end": 0,
            "count": 0
           },
           {
            "bin_start": 0,
            "bin_end": 0.10000000000000009,
            "count": 5
           },
           {
            "bin_start": 0.10000000000000009,
            "bin_end": 0.20000000000000007,
            "count": 0
           },
           {
            "bin_start": 0.20000000000000007,
            "bin_end": 0.30000000000000004,
            "count": 0
           },
           {
            "bin_start": 0.30000000000000004,
            "bin_end": 0.4,
            "count": 0
           },
           {
            "bin_start": 0.4,
            "bin_end": 0.5,
            "count": 0
           }
          ]
         }
        },
        {
         "name": "prime_genre_Lifestyle",
         "dtype": "int64",
         "stats": {
          "unique_count": 1,
          "nan_count": 0,
          "min": "0",
          "max": "0",
          "histogram": [
           {
            "bin_start": -0.5,
            "bin_end": -0.4,
            "count": 0
           },
           {
            "bin_start": -0.4,
            "bin_end": -0.3,
            "count": 0
           },
           {
            "bin_start": -0.3,
            "bin_end": -0.19999999999999996,
            "count": 0
           },
           {
            "bin_start": -0.19999999999999996,
            "bin_end": -0.09999999999999998,
            "count": 0
           },
           {
            "bin_start": -0.09999999999999998,
            "bin_end": 0,
            "count": 0
           },
           {
            "bin_start": 0,
            "bin_end": 0.10000000000000009,
            "count": 5
           },
           {
            "bin_start": 0.10000000000000009,
            "bin_end": 0.20000000000000007,
            "count": 0
           },
           {
            "bin_start": 0.20000000000000007,
            "bin_end": 0.30000000000000004,
            "count": 0
           },
           {
            "bin_start": 0.30000000000000004,
            "bin_end": 0.4,
            "count": 0
           },
           {
            "bin_start": 0.4,
            "bin_end": 0.5,
            "count": 0
           }
          ]
         }
        },
        {
         "name": "prime_genre_Medical",
         "dtype": "int64",
         "stats": {
          "unique_count": 1,
          "nan_count": 0,
          "min": "0",
          "max": "0",
          "histogram": [
           {
            "bin_start": -0.5,
            "bin_end": -0.4,
            "count": 0
           },
           {
            "bin_start": -0.4,
            "bin_end": -0.3,
            "count": 0
           },
           {
            "bin_start": -0.3,
            "bin_end": -0.19999999999999996,
            "count": 0
           },
           {
            "bin_start": -0.19999999999999996,
            "bin_end": -0.09999999999999998,
            "count": 0
           },
           {
            "bin_start": -0.09999999999999998,
            "bin_end": 0,
            "count": 0
           },
           {
            "bin_start": 0,
            "bin_end": 0.10000000000000009,
            "count": 5
           },
           {
            "bin_start": 0.10000000000000009,
            "bin_end": 0.20000000000000007,
            "count": 0
           },
           {
            "bin_start": 0.20000000000000007,
            "bin_end": 0.30000000000000004,
            "count": 0
           },
           {
            "bin_start": 0.30000000000000004,
            "bin_end": 0.4,
            "count": 0
           },
           {
            "bin_start": 0.4,
            "bin_end": 0.5,
            "count": 0
           }
          ]
         }
        },
        {
         "name": "prime_genre_Music",
         "dtype": "int64",
         "stats": {
          "unique_count": 1,
          "nan_count": 0,
          "min": "0",
          "max": "0",
          "histogram": [
           {
            "bin_start": -0.5,
            "bin_end": -0.4,
            "count": 0
           },
           {
            "bin_start": -0.4,
            "bin_end": -0.3,
            "count": 0
           },
           {
            "bin_start": -0.3,
            "bin_end": -0.19999999999999996,
            "count": 0
           },
           {
            "bin_start": -0.19999999999999996,
            "bin_end": -0.09999999999999998,
            "count": 0
           },
           {
            "bin_start": -0.09999999999999998,
            "bin_end": 0,
            "count": 0
           },
           {
            "bin_start": 0,
            "bin_end": 0.10000000000000009,
            "count": 5
           },
           {
            "bin_start": 0.10000000000000009,
            "bin_end": 0.20000000000000007,
            "count": 0
           },
           {
            "bin_start": 0.20000000000000007,
            "bin_end": 0.30000000000000004,
            "count": 0
           },
           {
            "bin_start": 0.30000000000000004,
            "bin_end": 0.4,
            "count": 0
           },
           {
            "bin_start": 0.4,
            "bin_end": 0.5,
            "count": 0
           }
          ]
         }
        },
        {
         "name": "prime_genre_Navigation",
         "dtype": "int64",
         "stats": {
          "unique_count": 1,
          "nan_count": 0,
          "min": "0",
          "max": "0",
          "histogram": [
           {
            "bin_start": -0.5,
            "bin_end": -0.4,
            "count": 0
           },
           {
            "bin_start": -0.4,
            "bin_end": -0.3,
            "count": 0
           },
           {
            "bin_start": -0.3,
            "bin_end": -0.19999999999999996,
            "count": 0
           },
           {
            "bin_start": -0.19999999999999996,
            "bin_end": -0.09999999999999998,
            "count": 0
           },
           {
            "bin_start": -0.09999999999999998,
            "bin_end": 0,
            "count": 0
           },
           {
            "bin_start": 0,
            "bin_end": 0.10000000000000009,
            "count": 5
           },
           {
            "bin_start": 0.10000000000000009,
            "bin_end": 0.20000000000000007,
            "count": 0
           },
           {
            "bin_start": 0.20000000000000007,
            "bin_end": 0.30000000000000004,
            "count": 0
           },
           {
            "bin_start": 0.30000000000000004,
            "bin_end": 0.4,
            "count": 0
           },
           {
            "bin_start": 0.4,
            "bin_end": 0.5,
            "count": 0
           }
          ]
         }
        },
        {
         "name": "prime_genre_News",
         "dtype": "int64",
         "stats": {
          "unique_count": 1,
          "nan_count": 0,
          "min": "0",
          "max": "0",
          "histogram": [
           {
            "bin_start": -0.5,
            "bin_end": -0.4,
            "count": 0
           },
           {
            "bin_start": -0.4,
            "bin_end": -0.3,
            "count": 0
           },
           {
            "bin_start": -0.3,
            "bin_end": -0.19999999999999996,
            "count": 0
           },
           {
            "bin_start": -0.19999999999999996,
            "bin_end": -0.09999999999999998,
            "count": 0
           },
           {
            "bin_start": -0.09999999999999998,
            "bin_end": 0,
            "count": 0
           },
           {
            "bin_start": 0,
            "bin_end": 0.10000000000000009,
            "count": 5
           },
           {
            "bin_start": 0.10000000000000009,
            "bin_end": 0.20000000000000007,
            "count": 0
           },
           {
            "bin_start": 0.20000000000000007,
            "bin_end": 0.30000000000000004,
            "count": 0
           },
           {
            "bin_start": 0.30000000000000004,
            "bin_end": 0.4,
            "count": 0
           },
           {
            "bin_start": 0.4,
            "bin_end": 0.5,
            "count": 0
           }
          ]
         }
        },
        {
         "name": "prime_genre_Photo & Video",
         "dtype": "int64",
         "stats": {
          "unique_count": 1,
          "nan_count": 0,
          "min": "0",
          "max": "0",
          "histogram": [
           {
            "bin_start": -0.5,
            "bin_end": -0.4,
            "count": 0
           },
           {
            "bin_start": -0.4,
            "bin_end": -0.3,
            "count": 0
           },
           {
            "bin_start": -0.3,
            "bin_end": -0.19999999999999996,
            "count": 0
           },
           {
            "bin_start": -0.19999999999999996,
            "bin_end": -0.09999999999999998,
            "count": 0
           },
           {
            "bin_start": -0.09999999999999998,
            "bin_end": 0,
            "count": 0
           },
           {
            "bin_start": 0,
            "bin_end": 0.10000000000000009,
            "count": 5
           },
           {
            "bin_start": 0.10000000000000009,
            "bin_end": 0.20000000000000007,
            "count": 0
           },
           {
            "bin_start": 0.20000000000000007,
            "bin_end": 0.30000000000000004,
            "count": 0
           },
           {
            "bin_start": 0.30000000000000004,
            "bin_end": 0.4,
            "count": 0
           },
           {
            "bin_start": 0.4,
            "bin_end": 0.5,
            "count": 0
           }
          ]
         }
        },
        {
         "name": "prime_genre_Productivity",
         "dtype": "int64",
         "stats": {
          "unique_count": 2,
          "nan_count": 0,
          "min": "0",
          "max": "1",
          "histogram": [
           {
            "bin_start": 0,
            "bin_end": 0.1,
            "count": 4
           },
           {
            "bin_start": 0.1,
            "bin_end": 0.2,
            "count": 0
           },
           {
            "bin_start": 0.2,
            "bin_end": 0.30000000000000004,
            "count": 0
           },
           {
            "bin_start": 0.30000000000000004,
            "bin_end": 0.4,
            "count": 0
           },
           {
            "bin_start": 0.4,
            "bin_end": 0.5,
            "count": 0
           },
           {
            "bin_start": 0.5,
            "bin_end": 0.6000000000000001,
            "count": 0
           },
           {
            "bin_start": 0.6000000000000001,
            "bin_end": 0.7000000000000001,
            "count": 0
           },
           {
            "bin_start": 0.7000000000000001,
            "bin_end": 0.8,
            "count": 0
           },
           {
            "bin_start": 0.8,
            "bin_end": 0.9,
            "count": 0
           },
           {
            "bin_start": 0.9,
            "bin_end": 1,
            "count": 1
           }
          ]
         }
        },
        {
         "name": "prime_genre_Reference",
         "dtype": "int64",
         "stats": {
          "unique_count": 2,
          "nan_count": 0,
          "min": "0",
          "max": "1",
          "histogram": [
           {
            "bin_start": 0,
            "bin_end": 0.1,
            "count": 4
           },
           {
            "bin_start": 0.1,
            "bin_end": 0.2,
            "count": 0
           },
           {
            "bin_start": 0.2,
            "bin_end": 0.30000000000000004,
            "count": 0
           },
           {
            "bin_start": 0.30000000000000004,
            "bin_end": 0.4,
            "count": 0
           },
           {
            "bin_start": 0.4,
            "bin_end": 0.5,
            "count": 0
           },
           {
            "bin_start": 0.5,
            "bin_end": 0.6000000000000001,
            "count": 0
           },
           {
            "bin_start": 0.6000000000000001,
            "bin_end": 0.7000000000000001,
            "count": 0
           },
           {
            "bin_start": 0.7000000000000001,
            "bin_end": 0.8,
            "count": 0
           },
           {
            "bin_start": 0.8,
            "bin_end": 0.9,
            "count": 0
           },
           {
            "bin_start": 0.9,
            "bin_end": 1,
            "count": 1
           }
          ]
         }
        },
        {
         "name": "prime_genre_Shopping",
         "dtype": "int64",
         "stats": {
          "unique_count": 2,
          "nan_count": 0,
          "min": "0",
          "max": "1",
          "histogram": [
           {
            "bin_start": 0,
            "bin_end": 0.1,
            "count": 4
           },
           {
            "bin_start": 0.1,
            "bin_end": 0.2,
            "count": 0
           },
           {
            "bin_start": 0.2,
            "bin_end": 0.30000000000000004,
            "count": 0
           },
           {
            "bin_start": 0.30000000000000004,
            "bin_end": 0.4,
            "count": 0
           },
           {
            "bin_start": 0.4,
            "bin_end": 0.5,
            "count": 0
           },
           {
            "bin_start": 0.5,
            "bin_end": 0.6000000000000001,
            "count": 0
           },
           {
            "bin_start": 0.6000000000000001,
            "bin_end": 0.7000000000000001,
            "count": 0
           },
           {
            "bin_start": 0.7000000000000001,
            "bin_end": 0.8,
            "count": 0
           },
           {
            "bin_start": 0.8,
            "bin_end": 0.9,
            "count": 0
           },
           {
            "bin_start": 0.9,
            "bin_end": 1,
            "count": 1
           }
          ]
         }
        },
        {
         "name": "prime_genre_Social Networking",
         "dtype": "int64",
         "stats": {
          "unique_count": 1,
          "nan_count": 0,
          "min": "0",
          "max": "0",
          "histogram": [
           {
            "bin_start": -0.5,
            "bin_end": -0.4,
            "count": 0
           },
           {
            "bin_start": -0.4,
            "bin_end": -0.3,
            "count": 0
           },
           {
            "bin_start": -0.3,
            "bin_end": -0.19999999999999996,
            "count": 0
           },
           {
            "bin_start": -0.19999999999999996,
            "bin_end": -0.09999999999999998,
            "count": 0
           },
           {
            "bin_start": -0.09999999999999998,
            "bin_end": 0,
            "count": 0
           },
           {
            "bin_start": 0,
            "bin_end": 0.10000000000000009,
            "count": 5
           },
           {
            "bin_start": 0.10000000000000009,
            "bin_end": 0.20000000000000007,
            "count": 0
           },
           {
            "bin_start": 0.20000000000000007,
            "bin_end": 0.30000000000000004,
            "count": 0
           },
           {
            "bin_start": 0.30000000000000004,
            "bin_end": 0.4,
            "count": 0
           },
           {
            "bin_start": 0.4,
            "bin_end": 0.5,
            "count": 0
           }
          ]
         }
        },
        {
         "name": "prime_genre_Sports",
         "dtype": "int64",
         "stats": {
          "unique_count": 1,
          "nan_count": 0,
          "min": "0",
          "max": "0",
          "histogram": [
           {
            "bin_start": -0.5,
            "bin_end": -0.4,
            "count": 0
           },
           {
            "bin_start": -0.4,
            "bin_end": -0.3,
            "count": 0
           },
           {
            "bin_start": -0.3,
            "bin_end": -0.19999999999999996,
            "count": 0
           },
           {
            "bin_start": -0.19999999999999996,
            "bin_end": -0.09999999999999998,
            "count": 0
           },
           {
            "bin_start": -0.09999999999999998,
            "bin_end": 0,
            "count": 0
           },
           {
            "bin_start": 0,
            "bin_end": 0.10000000000000009,
            "count": 5
           },
           {
            "bin_start": 0.10000000000000009,
            "bin_end": 0.20000000000000007,
            "count": 0
           },
           {
            "bin_start": 0.20000000000000007,
            "bin_end": 0.30000000000000004,
            "count": 0
           },
           {
            "bin_start": 0.30000000000000004,
            "bin_end": 0.4,
            "count": 0
           },
           {
            "bin_start": 0.4,
            "bin_end": 0.5,
            "count": 0
           }
          ]
         }
        },
        {
         "name": "prime_genre_Travel",
         "dtype": "int64",
         "stats": {
          "unique_count": 1,
          "nan_count": 0,
          "min": "0",
          "max": "0",
          "histogram": [
           {
            "bin_start": -0.5,
            "bin_end": -0.4,
            "count": 0
           },
           {
            "bin_start": -0.4,
            "bin_end": -0.3,
            "count": 0
           },
           {
            "bin_start": -0.3,
            "bin_end": -0.19999999999999996,
            "count": 0
           },
           {
            "bin_start": -0.19999999999999996,
            "bin_end": -0.09999999999999998,
            "count": 0
           },
           {
            "bin_start": -0.09999999999999998,
            "bin_end": 0,
            "count": 0
           },
           {
            "bin_start": 0,
            "bin_end": 0.10000000000000009,
            "count": 5
           },
           {
            "bin_start": 0.10000000000000009,
            "bin_end": 0.20000000000000007,
            "count": 0
           },
           {
            "bin_start": 0.20000000000000007,
            "bin_end": 0.30000000000000004,
            "count": 0
           },
           {
            "bin_start": 0.30000000000000004,
            "bin_end": 0.4,
            "count": 0
           },
           {
            "bin_start": 0.4,
            "bin_end": 0.5,
            "count": 0
           }
          ]
         }
        },
        {
         "name": "prime_genre_Utilities",
         "dtype": "int64",
         "stats": {
          "unique_count": 1,
          "nan_count": 0,
          "min": "0",
          "max": "0",
          "histogram": [
           {
            "bin_start": -0.5,
            "bin_end": -0.4,
            "count": 0
           },
           {
            "bin_start": -0.4,
            "bin_end": -0.3,
            "count": 0
           },
           {
            "bin_start": -0.3,
            "bin_end": -0.19999999999999996,
            "count": 0
           },
           {
            "bin_start": -0.19999999999999996,
            "bin_end": -0.09999999999999998,
            "count": 0
           },
           {
            "bin_start": -0.09999999999999998,
            "bin_end": 0,
            "count": 0
           },
           {
            "bin_start": 0,
            "bin_end": 0.10000000000000009,
            "count": 5
           },
           {
            "bin_start": 0.10000000000000009,
            "bin_end": 0.20000000000000007,
            "count": 0
           },
           {
            "bin_start": 0.20000000000000007,
            "bin_end": 0.30000000000000004,
            "count": 0
           },
           {
            "bin_start": 0.30000000000000004,
            "bin_end": 0.4,
            "count": 0
           },
           {
            "bin_start": 0.4,
            "bin_end": 0.5,
            "count": 0
           }
          ]
         }
        },
        {
         "name": "prime_genre_Weather",
         "dtype": "int64",
         "stats": {
          "unique_count": 2,
          "nan_count": 0,
          "min": "0",
          "max": "1",
          "histogram": [
           {
            "bin_start": 0,
            "bin_end": 0.1,
            "count": 4
           },
           {
            "bin_start": 0.1,
            "bin_end": 0.2,
            "count": 0
           },
           {
            "bin_start": 0.2,
            "bin_end": 0.30000000000000004,
            "count": 0
           },
           {
            "bin_start": 0.30000000000000004,
            "bin_end": 0.4,
            "count": 0
           },
           {
            "bin_start": 0.4,
            "bin_end": 0.5,
            "count": 0
           },
           {
            "bin_start": 0.5,
            "bin_end": 0.6000000000000001,
            "count": 0
           },
           {
            "bin_start": 0.6000000000000001,
            "bin_end": 0.7000000000000001,
            "count": 0
           },
           {
            "bin_start": 0.7000000000000001,
            "bin_end": 0.8,
            "count": 0
           },
           {
            "bin_start": 0.8,
            "bin_end": 0.9,
            "count": 0
           },
           {
            "bin_start": 0.9,
            "bin_end": 1,
            "count": 1
           }
          ]
         }
        },
        {
         "name": "_deepnote_index_column",
         "dtype": "object"
        }
       ],
       "rows_top": [
        {
         "size_bytes": -0.2738061525998638,
         "price": 0.3881256942213166,
         "rating_count_tot": 0.1109023233440474,
         "sup_devices.num": 0.170753221317424,
         "ipadSc_urls.num": 0.6510506680574688,
         "lang.num": 0.576470774894817,
         "vpp_lic": 0.0836417500620061,
         "currency_USD": 1,
         "cont_rating_12+": 0,
         "cont_rating_17+": 0,
         "cont_rating_4+": 1,
         "cont_rating_9+": 0,
         "prime_genre_Book": 0,
         "prime_genre_Business": 0,
         "prime_genre_Catalogs": 0,
         "prime_genre_Education": 0,
         "prime_genre_Entertainment": 0,
         "prime_genre_Finance": 0,
         "prime_genre_Food & Drink": 0,
         "prime_genre_Games": 1,
         "prime_genre_Health & Fitness": 0,
         "prime_genre_Lifestyle": 0,
         "prime_genre_Medical": 0,
         "prime_genre_Music": 0,
         "prime_genre_Navigation": 0,
         "prime_genre_News": 0,
         "prime_genre_Photo & Video": 0,
         "prime_genre_Productivity": 0,
         "prime_genre_Reference": 0,
         "prime_genre_Shopping": 0,
         "prime_genre_Social Networking": 0,
         "prime_genre_Sports": 0,
         "prime_genre_Travel": 0,
         "prime_genre_Utilities": 0,
         "prime_genre_Weather": 0,
         "_deepnote_index_column": "PAC-MAN Premium"
        },
        {
         "size_bytes": -0.1129114784171637,
         "price": -0.2959602425094711,
         "rating_count_tot": 1.9564766942338945,
         "sup_devices.num": -0.0968084886371818,
         "ipadSc_urls.num": 0.6510506680574688,
         "lang.num": 2.2180833808888507,
         "vpp_lic": 0.0836417500620061,
         "currency_USD": 1,
         "cont_rating_12+": 0,
         "cont_rating_17+": 0,
         "cont_rating_4+": 1,
         "cont_rating_9+": 0,
         "prime_genre_Book": 0,
         "prime_genre_Business": 0,
         "prime_genre_Catalogs": 0,
         "prime_genre_Education": 0,
         "prime_genre_Entertainment": 0,
         "prime_genre_Finance": 0,
         "prime_genre_Food & Drink": 0,
         "prime_genre_Games": 0,
         "prime_genre_Health & Fitness": 0,
         "prime_genre_Lifestyle": 0,
         "prime_genre_Medical": 0,
         "prime_genre_Music": 0,
         "prime_genre_Navigation": 0,
         "prime_genre_News": 0,
         "prime_genre_Photo & Video": 0,
         "prime_genre_Productivity": 1,
         "prime_genre_Reference": 0,
         "prime_genre_Shopping": 0,
         "prime_genre_Social Networking": 0,
         "prime_genre_Sports": 0,
         "prime_genre_Travel": 0,
         "prime_genre_Utilities": 0,
         "prime_genre_Weather": 0,
         "_deepnote_index_column": "Evernote - stay organized"
        },
        {
         "size_bytes": -0.2745416906595976,
         "price": -0.2959602425094711,
         "rating_count_tot": 2.319826665531261,
         "sup_devices.num": -0.0968084886371818,
         "ipadSc_urls.num": 0.6510506680574688,
         "lang.num": -0.3074744744865857,
         "vpp_lic": 0.0836417500620061,
         "currency_USD": 1,
         "cont_rating_12+": 0,
         "cont_rating_17+": 0,
         "cont_rating_4+": 1,
         "cont_rating_9+": 0,
         "prime_genre_Book": 0,
         "prime_genre_Business": 0,
         "prime_genre_Catalogs": 0,
         "prime_genre_Education": 0,
         "prime_genre_Entertainment": 0,
         "prime_genre_Finance": 0,
         "prime_genre_Food & Drink": 0,
         "prime_genre_Games": 0,
         "prime_genre_Health & Fitness": 0,
         "prime_genre_Lifestyle": 0,
         "prime_genre_Medical": 0,
         "prime_genre_Music": 0,
         "prime_genre_Navigation": 0,
         "prime_genre_News": 0,
         "prime_genre_Photo & Video": 0,
         "prime_genre_Productivity": 0,
         "prime_genre_Reference": 0,
         "prime_genre_Shopping": 0,
         "prime_genre_Social Networking": 0,
         "prime_genre_Sports": 0,
         "prime_genre_Travel": 0,
         "prime_genre_Utilities": 0,
         "prime_genre_Weather": 1,
         "_deepnote_index_column": "WeatherBug - Local Weather, Radar, Maps, Alerts"
        },
        {
         "size_bytes": -0.1966202710912093,
         "price": -0.2959602425094711,
         "rating_count_tot": 3.292413052108099,
         "sup_devices.num": -0.0968084886371818,
         "ipadSc_urls.num": 0.6510506680574688,
         "lang.num": 0.4501928821260452,
         "vpp_lic": 0.0836417500620061,
         "currency_USD": 1,
         "cont_rating_12+": 1,
         "cont_rating_17+": 0,
         "cont_rating_4+": 0,
         "cont_rating_9+": 0,
         "prime_genre_Book": 0,
         "prime_genre_Business": 0,
         "prime_genre_Catalogs": 0,
         "prime_genre_Education": 0,
         "prime_genre_Entertainment": 0,
         "prime_genre_Finance": 0,
         "prime_genre_Food & Drink": 0,
         "prime_genre_Games": 0,
         "prime_genre_Health & Fitness": 0,
         "prime_genre_Lifestyle": 0,
         "prime_genre_Medical": 0,
         "prime_genre_Music": 0,
         "prime_genre_Navigation": 0,
         "prime_genre_News": 0,
         "prime_genre_Photo & Video": 0,
         "prime_genre_Productivity": 0,
         "prime_genre_Reference": 0,
         "prime_genre_Shopping": 1,
         "prime_genre_Social Networking": 0,
         "prime_genre_Sports": 0,
         "prime_genre_Travel": 0,
         "prime_genre_Utilities": 0,
         "prime_genre_Weather": 0,
         "_deepnote_index_column": "eBay: Best App to Buy, Sell, Save! Online Shopping"
        },
        {
         "size_bytes": -0.2961174737451223,
         "price": -0.2959602425094711,
         "rating_count_tot": 12.847931035918949,
         "sup_devices.num": -0.0968084886371818,
         "ipadSc_urls.num": 0.6510506680574688,
         "lang.num": 4.996197021801831,
         "vpp_lic": 0.0836417500620061,
         "currency_USD": 1,
         "cont_rating_12+": 0,
         "cont_rating_17+": 0,
         "cont_rating_4+": 1,
         "cont_rating_9+": 0,
         "prime_genre_Book": 0,
         "prime_genre_Business": 0,
         "prime_genre_Catalogs": 0,
         "prime_genre_Education": 0,
         "prime_genre_Entertainment": 0,
         "prime_genre_Finance": 0,
         "prime_genre_Food & Drink": 0,
         "prime_genre_Games": 0,
         "prime_genre_Health & Fitness": 0,
         "prime_genre_Lifestyle": 0,
         "prime_genre_Medical": 0,
         "prime_genre_Music": 0,
         "prime_genre_Navigation": 0,
         "prime_genre_News": 0,
         "prime_genre_Photo & Video": 0,
         "prime_genre_Productivity": 0,
         "prime_genre_Reference": 1,
         "prime_genre_Shopping": 0,
         "prime_genre_Social Networking": 0,
         "prime_genre_Sports": 0,
         "prime_genre_Travel": 0,
         "prime_genre_Utilities": 0,
         "prime_genre_Weather": 0,
         "_deepnote_index_column": "Bible"
        }
       ],
       "rows_bottom": null
      },
      "text/plain": "                                                    size_bytes     price  \\\ntrack_name                                                                 \nPAC-MAN Premium                                      -0.273806  0.388126   \nEvernote - stay organized                            -0.112911 -0.295960   \nWeatherBug - Local Weather, Radar, Maps, Alerts      -0.274542 -0.295960   \neBay: Best App to Buy, Sell, Save! Online Shopping   -0.196620 -0.295960   \nBible                                                -0.296117 -0.295960   \n\n                                                    rating_count_tot  \\\ntrack_name                                                             \nPAC-MAN Premium                                             0.110902   \nEvernote - stay organized                                   1.956477   \nWeatherBug - Local Weather, Radar, Maps, Alerts             2.319827   \neBay: Best App to Buy, Sell, Save! Online Shopping          3.292413   \nBible                                                      12.847931   \n\n                                                    sup_devices.num  \\\ntrack_name                                                            \nPAC-MAN Premium                                            0.170753   \nEvernote - stay organized                                 -0.096808   \nWeatherBug - Local Weather, Radar, Maps, Alerts           -0.096808   \neBay: Best App to Buy, Sell, Save! Online Shopping        -0.096808   \nBible                                                     -0.096808   \n\n                                                    ipadSc_urls.num  lang.num  \\\ntrack_name                                                                      \nPAC-MAN Premium                                            0.651051  0.576471   \nEvernote - stay organized                                  0.651051  2.218083   \nWeatherBug - Local Weather, Radar, Maps, Alerts            0.651051 -0.307474   \neBay: Best App to Buy, Sell, Save! Online Shopping         0.651051  0.450193   \nBible                                                      0.651051  4.996197   \n\n                                                     vpp_lic  currency_USD  \\\ntrack_name                                                                   \nPAC-MAN Premium                                     0.083642             1   \nEvernote - stay organized                           0.083642             1   \nWeatherBug - Local Weather, Radar, Maps, Alerts     0.083642             1   \neBay: Best App to Buy, Sell, Save! Online Shopping  0.083642             1   \nBible                                               0.083642             1   \n\n                                                    cont_rating_12+  \\\ntrack_name                                                            \nPAC-MAN Premium                                                   0   \nEvernote - stay organized                                         0   \nWeatherBug - Local Weather, Radar, Maps, Alerts                   0   \neBay: Best App to Buy, Sell, Save! Online Shopping                1   \nBible                                                             0   \n\n                                                    cont_rating_17+  ...  \\\ntrack_name                                                           ...   \nPAC-MAN Premium                                                   0  ...   \nEvernote - stay organized                                         0  ...   \nWeatherBug - Local Weather, Radar, Maps, Alerts                   0  ...   \neBay: Best App to Buy, Sell, Save! Online Shopping                0  ...   \nBible                                                             0  ...   \n\n                                                    prime_genre_News  \\\ntrack_name                                                             \nPAC-MAN Premium                                                    0   \nEvernote - stay organized                                          0   \nWeatherBug - Local Weather, Radar, Maps, Alerts                    0   \neBay: Best App to Buy, Sell, Save! Online Shopping                 0   \nBible                                                              0   \n\n                                                    prime_genre_Photo & Video  \\\ntrack_name                                                                      \nPAC-MAN Premium                                                             0   \nEvernote - stay organized                                                   0   \nWeatherBug - Local Weather, Radar, Maps, Alerts                             0   \neBay: Best App to Buy, Sell, Save! Online Shopping                          0   \nBible                                                                       0   \n\n                                                    prime_genre_Productivity  \\\ntrack_name                                                                     \nPAC-MAN Premium                                                            0   \nEvernote - stay organized                                                  1   \nWeatherBug - Local Weather, Radar, Maps, Alerts                            0   \neBay: Best App to Buy, Sell, Save! Online Shopping                         0   \nBible                                                                      0   \n\n                                                    prime_genre_Reference  \\\ntrack_name                                                                  \nPAC-MAN Premium                                                         0   \nEvernote - stay organized                                               0   \nWeatherBug - Local Weather, Radar, Maps, Alerts                         0   \neBay: Best App to Buy, Sell, Save! Online Shopping                      0   \nBible                                                                   1   \n\n                                                    prime_genre_Shopping  \\\ntrack_name                                                                 \nPAC-MAN Premium                                                        0   \nEvernote - stay organized                                              0   \nWeatherBug - Local Weather, Radar, Maps, Alerts                        0   \neBay: Best App to Buy, Sell, Save! Online Shopping                     1   \nBible                                                                  0   \n\n                                                    prime_genre_Social Networking  \\\ntrack_name                                                                          \nPAC-MAN Premium                                                                 0   \nEvernote - stay organized                                                       0   \nWeatherBug - Local Weather, Radar, Maps, Alerts                                 0   \neBay: Best App to Buy, Sell, Save! Online Shopping                              0   \nBible                                                                           0   \n\n                                                    prime_genre_Sports  \\\ntrack_name                                                               \nPAC-MAN Premium                                                      0   \nEvernote - stay organized                                            0   \nWeatherBug - Local Weather, Radar, Maps, Alerts                      0   \neBay: Best App to Buy, Sell, Save! Online Shopping                   0   \nBible                                                                0   \n\n                                                    prime_genre_Travel  \\\ntrack_name                                                               \nPAC-MAN Premium                                                      0   \nEvernote - stay organized                                            0   \nWeatherBug - Local Weather, Radar, Maps, Alerts                      0   \neBay: Best App to Buy, Sell, Save! Online Shopping                   0   \nBible                                                                0   \n\n                                                    prime_genre_Utilities  \\\ntrack_name                                                                  \nPAC-MAN Premium                                                         0   \nEvernote - stay organized                                               0   \nWeatherBug - Local Weather, Radar, Maps, Alerts                         0   \neBay: Best App to Buy, Sell, Save! Online Shopping                      0   \nBible                                                                   0   \n\n                                                    prime_genre_Weather  \ntrack_name                                                               \nPAC-MAN Premium                                                       0  \nEvernote - stay organized                                             0  \nWeatherBug - Local Weather, Radar, Maps, Alerts                       1  \neBay: Best App to Buy, Sell, Save! Online Shopping                    0  \nBible                                                                 0  \n\n[5 rows x 35 columns]",
      "text/html": "<div>\n<style scoped>\n    .dataframe tbody tr th:only-of-type {\n        vertical-align: middle;\n    }\n\n    .dataframe tbody tr th {\n        vertical-align: top;\n    }\n\n    .dataframe thead th {\n        text-align: right;\n    }\n</style>\n<table border=\"1\" class=\"dataframe\">\n  <thead>\n    <tr style=\"text-align: right;\">\n      <th></th>\n      <th>size_bytes</th>\n      <th>price</th>\n      <th>rating_count_tot</th>\n      <th>sup_devices.num</th>\n      <th>ipadSc_urls.num</th>\n      <th>lang.num</th>\n      <th>vpp_lic</th>\n      <th>currency_USD</th>\n      <th>cont_rating_12+</th>\n      <th>cont_rating_17+</th>\n      <th>...</th>\n      <th>prime_genre_News</th>\n      <th>prime_genre_Photo &amp; Video</th>\n      <th>prime_genre_Productivity</th>\n      <th>prime_genre_Reference</th>\n      <th>prime_genre_Shopping</th>\n      <th>prime_genre_Social Networking</th>\n      <th>prime_genre_Sports</th>\n      <th>prime_genre_Travel</th>\n      <th>prime_genre_Utilities</th>\n      <th>prime_genre_Weather</th>\n    </tr>\n    <tr>\n      <th>track_name</th>\n      <th></th>\n      <th></th>\n      <th></th>\n      <th></th>\n      <th></th>\n      <th></th>\n      <th></th>\n      <th></th>\n      <th></th>\n      <th></th>\n      <th></th>\n      <th></th>\n      <th></th>\n      <th></th>\n      <th></th>\n      <th></th>\n      <th></th>\n      <th></th>\n      <th></th>\n      <th></th>\n      <th></th>\n    </tr>\n  </thead>\n  <tbody>\n    <tr>\n      <th>PAC-MAN Premium</th>\n      <td>-0.273806</td>\n      <td>0.388126</td>\n      <td>0.110902</td>\n      <td>0.170753</td>\n      <td>0.651051</td>\n      <td>0.576471</td>\n      <td>0.083642</td>\n      <td>1</td>\n      <td>0</td>\n      <td>0</td>\n      <td>...</td>\n      <td>0</td>\n      <td>0</td>\n      <td>0</td>\n      <td>0</td>\n      <td>0</td>\n      <td>0</td>\n      <td>0</td>\n      <td>0</td>\n      <td>0</td>\n      <td>0</td>\n    </tr>\n    <tr>\n      <th>Evernote - stay organized</th>\n      <td>-0.112911</td>\n      <td>-0.295960</td>\n      <td>1.956477</td>\n      <td>-0.096808</td>\n      <td>0.651051</td>\n      <td>2.218083</td>\n      <td>0.083642</td>\n      <td>1</td>\n      <td>0</td>\n      <td>0</td>\n      <td>...</td>\n      <td>0</td>\n      <td>0</td>\n      <td>1</td>\n      <td>0</td>\n      <td>0</td>\n      <td>0</td>\n      <td>0</td>\n      <td>0</td>\n      <td>0</td>\n      <td>0</td>\n    </tr>\n    <tr>\n      <th>WeatherBug - Local Weather, Radar, Maps, Alerts</th>\n      <td>-0.274542</td>\n      <td>-0.295960</td>\n      <td>2.319827</td>\n      <td>-0.096808</td>\n      <td>0.651051</td>\n      <td>-0.307474</td>\n      <td>0.083642</td>\n      <td>1</td>\n      <td>0</td>\n      <td>0</td>\n      <td>...</td>\n      <td>0</td>\n      <td>0</td>\n      <td>0</td>\n      <td>0</td>\n      <td>0</td>\n      <td>0</td>\n      <td>0</td>\n      <td>0</td>\n      <td>0</td>\n      <td>1</td>\n    </tr>\n    <tr>\n      <th>eBay: Best App to Buy, Sell, Save! Online Shopping</th>\n      <td>-0.196620</td>\n      <td>-0.295960</td>\n      <td>3.292413</td>\n      <td>-0.096808</td>\n      <td>0.651051</td>\n      <td>0.450193</td>\n      <td>0.083642</td>\n      <td>1</td>\n      <td>1</td>\n      <td>0</td>\n      <td>...</td>\n      <td>0</td>\n      <td>0</td>\n      <td>0</td>\n      <td>0</td>\n      <td>1</td>\n      <td>0</td>\n      <td>0</td>\n      <td>0</td>\n      <td>0</td>\n      <td>0</td>\n    </tr>\n    <tr>\n      <th>Bible</th>\n      <td>-0.296117</td>\n      <td>-0.295960</td>\n      <td>12.847931</td>\n      <td>-0.096808</td>\n      <td>0.651051</td>\n      <td>4.996197</td>\n      <td>0.083642</td>\n      <td>1</td>\n      <td>0</td>\n      <td>0</td>\n      <td>...</td>\n      <td>0</td>\n      <td>0</td>\n      <td>0</td>\n      <td>1</td>\n      <td>0</td>\n      <td>0</td>\n      <td>0</td>\n      <td>0</td>\n      <td>0</td>\n      <td>0</td>\n    </tr>\n  </tbody>\n</table>\n<p>5 rows × 35 columns</p>\n</div>"
     },
     "metadata": {}
    }
   ]
  },
  {
   "cell_type": "markdown",
   "source": "### Preparing the Keras framework ###\n\nWe will revise the architecture of our basic neural network and look into the tuning of hyperparameters.\n\n",
   "metadata": {
    "id": "MsU0uG-96lK1",
    "cell_id": "00009-db24cb9a-f925-40e6-a56b-5ecff4b11a29",
    "deepnote_cell_type": "markdown"
   }
  },
  {
   "cell_type": "markdown",
   "source": "### 1+2: Number of hidden layers and number of neurons\nThe number of layers and the number of neurons is a parameter that you would have to decide on. \n\n*Deep* neural network is the one with more than one layer, so we will use **2 hidden layers** this time.\n\nAs for neurons, look up for the industry practice, we are going for **n=128**.",
   "metadata": {
    "id": "pd3gVQuZ6lK2",
    "cell_id": "00010-fe1acf34-0e71-4106-9a59-24f69cb18043",
    "deepnote_cell_type": "markdown"
   }
  },
  {
   "cell_type": "code",
   "metadata": {
    "id": "dNX5GLEm6lK2",
    "cell_id": "00011-b21c1cc4-08e5-41c9-acc1-2d4ba9980bdc",
    "deepnote_to_be_reexecuted": false,
    "source_hash": "a007b99c",
    "execution_start": 1635970125663,
    "execution_millis": 2,
    "deepnote_cell_type": "code"
   },
   "source": "nb_units = 128",
   "execution_count": 8,
   "outputs": []
  },
  {
   "cell_type": "markdown",
   "source": "### 3: activation function ###\nWe will go for industry standard which is **relu** and keep a **softmax** at the end, given our multiclass task. We do not need to define those functions manually this time, Keras got our back.\n\nIMPORTANT NOTE on output function for binary classification.\nYou could have two output neurons for every class and then run it through the softmax to aqcuire probabilities. However, the more efficient way (faster updating) would be to replace it with 1 neuron and a sigmoid function, which is basically a softmax for 2 classes:\n\n$$y = \\frac{1}{1 + e ^ {-x}} = \\frac{1}{1 + \\frac{1}{e ^ x}} = \\frac{1}{\\frac{e ^ x + 1}{e ^ x}} <= >\\frac{e ^ x}{1 + e ^ x}  $$\n",
   "metadata": {
    "id": "Lm7Bqms06lK2",
    "cell_id": "00012-36d92c7c-f266-4932-abef-d4749ced18a1",
    "deepnote_cell_type": "markdown"
   }
  },
  {
   "cell_type": "markdown",
   "source": "### 4: weight initialisation\nWeight initialization might seem minor but it can have a major impact on the convergence of the network.\n\nAt the picture: all weights are set to 0, second is the normally distributed weights with std=0.4. \nIn the rightmost plot, the weights are drawn from normal distributions with variances which are inversely proportional to the number of inputs into each neuron (he normal).\n\n<img src=\"https://intoli.com/blog/neural-network-initialization/img/training-losses.png\"  alt=\"fwe\" style=\"width: 1000px;\"/> \n\nhttps://intoli.com/blog/neural-network-initialization/\n\nWe will be using the **He Normal initialization**, which is one of the industry standards and recommended for ReLu. It draws samples from a truncated normal distribution with $\\mu=0$ and $ \\sigma = \\sqrt{2 / (i)}$, where $i$ is the number of input units in the weight tensor.\n\nSo in our case the standard deviation for our first weight matrix would be:",
   "metadata": {
    "id": "y3JE6df_6lK3",
    "cell_id": "00013-1cd219db-b2f7-4615-a465-814b958fc50b",
    "deepnote_cell_type": "markdown"
   }
  },
  {
   "cell_type": "code",
   "metadata": {
    "id": "5k0GCJyN6lK3",
    "outputId": "22e9e9cf-849f-449e-a818-d313477f88ad",
    "cell_id": "00014-03361f56-7c87-40fb-af98-31947ab9676e",
    "deepnote_to_be_reexecuted": false,
    "source_hash": "72da9211",
    "execution_start": 1635970125673,
    "execution_millis": 4,
    "deepnote_cell_type": "code"
   },
   "source": "# If you remember we previously used the (6/(35)) - we used the Glorot uniform (also called Xavier initialization)\nstd = np.sqrt(2/(X.shape[1])) \nstd",
   "execution_count": 9,
   "outputs": [
    {
     "output_type": "execute_result",
     "execution_count": 9,
     "data": {
      "text/plain": "0.23904572186687872"
     },
     "metadata": {}
    }
   ]
  },
  {
   "cell_type": "markdown",
   "source": "## Let's put down what we have decided on already: ##\nKeras offer you two \"styles\" of setting up the structure of your network (they call it two types of model): sequential and functional API (https://keras.io/models/about-keras-mod). It's a matter of preference in most cases. \n\nLets implement both to see their differences:\n\nStarting with **sequential** when the layers follow sequentially one after the other, it is slightly leaner in notation.",
   "metadata": {
    "id": "LOcAh5vk6lK4",
    "cell_id": "00015-da30f4b6-52a8-44e0-863b-0c6b41678032",
    "deepnote_cell_type": "markdown"
   }
  },
  {
   "cell_type": "code",
   "metadata": {
    "id": "GhlZTiCJ6lK4",
    "outputId": "393e43ed-e2c6-4faa-857c-ec6cebdb0d75",
    "cell_id": "00016-6ed55632-4a9f-4cec-8430-0975b8f2b5c6",
    "deepnote_to_be_reexecuted": false,
    "source_hash": "c34ee0ee",
    "execution_start": 1635970125722,
    "execution_millis": 54,
    "deepnote_cell_type": "code"
   },
   "source": "# Import Keras\nimport tensorflow as tf\nfrom tensorflow.keras.models import Sequential\nfrom tensorflow.keras.layers import Dense, Dropout, Activation, Flatten\n\n#set up the name of the model and its type\nmodel = Sequential(name=\"sequential_1\")\n\n# Start adding layers one by one, add first a Dense Layer and specify\n#number of neurons\n#activation function\n#initialisation of weights with kernel_initializer=keras.initializers.he_normal(seed=seed); check doc for more options\n#initialization of biases with bias_initializer='zeros', will also be done by default\n#set the input shape, i.e. number of features\nmodel.add(tf.keras.Input(shape=(35,)))\n\nmodel.add(\n    Dense(name=\"dense_1\",\n          units=128,\n          activation=\"relu\",\n          kernel_initializer=tf.keras.initializers.he_normal(seed=seed),\n          bias_initializer=\"zeros\")\n)\n\n# Add another Dense Layer\n# One more layer with the same configuration\nmodel.add(\n    Dense(name=\"dense_2\",\n        units=128,\n        activation=\"relu\",\n        kernel_initializer=tf.keras.initializers.he_normal(seed=seed),\n        bias_initializer=\"zeros\")\n)\n\n# And finally the outout layer as another Dense layer with number of neurosns = number of classes with the same configurations for weights and biases\nmodel.add(\n    Dense(name=\"dense_3\",\n        units=6,\n        activation=\"relu\",\n        kernel_initializer=tf.keras.initializers.he_normal(seed=seed),\n        bias_initializer=\"zeros\")\n)\n\n######################let's see how our architecture looks like (also very helpful to learn how many parameters will be trained and compare to\n#the size of your training set)\nmodel.summary()",
   "execution_count": 10,
   "outputs": [
    {
     "name": "stdout",
     "text": "Model: \"sequential_1\"\n_________________________________________________________________\nLayer (type)                 Output Shape              Param #   \n=================================================================\ndense_1 (Dense)              (None, 128)               4608      \n_________________________________________________________________\ndense_2 (Dense)              (None, 128)               16512     \n_________________________________________________________________\ndense_3 (Dense)              (None, 6)                 774       \n=================================================================\nTotal params: 21,894\nTrainable params: 21,894\nNon-trainable params: 0\n_________________________________________________________________\n",
     "output_type": "stream"
    }
   ]
  },
  {
   "cell_type": "markdown",
   "source": "Let's try to confirm these parameters manually. Print the numbers of ",
   "metadata": {
    "id": "WE6k3gD16lK5",
    "cell_id": "00017-a933be16-9f51-455e-a902-3d072075f337",
    "deepnote_cell_type": "markdown"
   }
  },
  {
   "cell_type": "code",
   "metadata": {
    "tags": [],
    "cell_id": "00019-8f5d10f6-fbef-4098-99c1-52cf763e1ed2",
    "deepnote_to_be_reexecuted": false,
    "source_hash": "1f0770c1",
    "execution_start": 1635970125778,
    "execution_millis": 16,
    "deepnote_cell_type": "code"
   },
   "source": "#model.get_layer(\"dense_1\").weights[].numpy().size\nname = \"dense_1\"\nmodel.get_layer(name).weights[0].numpy().size + model.get_layer(name).weights[1].numpy().size\n\n",
   "execution_count": 11,
   "outputs": [
    {
     "output_type": "execute_result",
     "execution_count": 11,
     "data": {
      "text/plain": "4608"
     },
     "metadata": {}
    }
   ]
  },
  {
   "cell_type": "code",
   "metadata": {
    "id": "cXrTj5yV6lK5",
    "outputId": "52e67afd-7d2b-4328-a8b4-c6fc380a4144",
    "cell_id": "00018-4d1617f3-c1ca-455b-9775-df058b0c5729",
    "deepnote_to_be_reexecuted": false,
    "source_hash": "411fd68b",
    "execution_start": 1635970125793,
    "execution_millis": 8,
    "deepnote_cell_type": "code"
   },
   "source": "# print the forumla that gives you the parameters for input to hidden layer\n\n# Layer name\nname = \"dense_1\"\n# Counts weights (weights[0]) and biases (weights[1])\nprint(model.get_layer(name).weights[0].numpy().size + model.get_layer(name).weights[1].numpy().size)\n\n\n# print the forumla that gives you the parameters for first hidden to second hidden layer\nname = \"dense_2\"\nprint(model.get_layer(name).weights[0].numpy().size + model.get_layer(name).weights[1].numpy().size)\n\n\n# print the forumla that gives you the parameters for second hidden to output layer\nname = \"dense_3\"\nprint(model.get_layer(name).weights[0].numpy().size + model.get_layer(name).weights[1].numpy().size)\n",
   "execution_count": 12,
   "outputs": [
    {
     "name": "stdout",
     "text": "4608\n16512\n774\n",
     "output_type": "stream"
    }
   ]
  },
  {
   "cell_type": "markdown",
   "source": "Now implement the same Architecture using the functional API",
   "metadata": {
    "id": "PtsszlhOGQxA",
    "cell_id": "00019-25f9d9ae-1969-4770-ac03-5a8cc6886867",
    "deepnote_cell_type": "markdown"
   }
  },
  {
   "cell_type": "code",
   "metadata": {
    "id": "pLF4S79j6lK5",
    "outputId": "442118c2-3905-4880-f902-aaaab74bf070",
    "cell_id": "00020-ed61e7f3-7117-4a18-b8ae-2478f9430b0f",
    "deepnote_to_be_reexecuted": false,
    "source_hash": "276e8c70",
    "execution_start": 1635970125808,
    "execution_millis": 27,
    "deepnote_cell_type": "code"
   },
   "source": "# Functional API analogue\nfrom tensorflow.keras.layers import Input, Dense\nfrom tensorflow.keras.models import Model\n\ninputs = Input(shape=(35,), name=\"input_1\")\n\ndense_4 = Dense(name=\"dense_4\",\n                units=128,\n                activation=\"relu\",\n                kernel_initializer=tf.keras.initializers.he_normal(seed=seed),\n                bias_initializer=\"zeros\")\n\n# You have to \"call\" the inputs using layer (as a function) to initialize them\nx = dense_4(inputs)\n\ndense_5 = Dense(name=\"dense_5\",\n                units=128,\n                activation=\"relu\",\n                kernel_initializer=tf.keras.initializers.he_normal(seed=seed),\n                bias_initializer=\"zeros\")\n\n# Again, calling to initialize\nx = dense_5(x)\n\ndense_6 = Dense(name=\"dense_6\",\n                units=6,\n                activation=\"softmax\",\n                kernel_initializer=tf.keras.initializers.he_normal(seed=seed),\n                bias_initializer=\"zeros\")\n\n# By now it should be clear\noutputs = dense_6(x)\n\n# Initializing the model\nmodel = Model(inputs=inputs, outputs=outputs, name=\"model_1\")\n\nmodel.summary()",
   "execution_count": 13,
   "outputs": [
    {
     "name": "stdout",
     "text": "Model: \"model_1\"\n_________________________________________________________________\nLayer (type)                 Output Shape              Param #   \n=================================================================\ninput_1 (InputLayer)         [(None, 35)]              0         \n_________________________________________________________________\ndense_4 (Dense)              (None, 128)               4608      \n_________________________________________________________________\ndense_5 (Dense)              (None, 128)               16512     \n_________________________________________________________________\ndense_6 (Dense)              (None, 6)                 774       \n=================================================================\nTotal params: 21,894\nTrainable params: 21,894\nNon-trainable params: 0\n_________________________________________________________________\n",
     "output_type": "stream"
    }
   ]
  },
  {
   "cell_type": "markdown",
   "source": "### Wonderful, we have set up the infrastructure and can proceed with training\nMost of the parameters that define the training process are set within the **compile** and **fit** methods.\n\nThe parameter optimization strategy is one of the most important choices for the training of the neural network.\n\nWe have already learned about one - stochastic gradient descent, it is considered the basic one. Improved performance can be achieved by using optimizers like **Rmsprop, Adagrad,  Adam**, etc.",
   "metadata": {
    "id": "Uf_Kua5j6lK6",
    "cell_id": "00021-118f0a44-6be9-4dc3-8ea8-415d8c9def91",
    "deepnote_cell_type": "markdown"
   }
  },
  {
   "cell_type": "markdown",
   "source": "### 5+6: loss function, learning rate and optimizer\nThe loss function is defined by the task (mse, binary crossentropy, etc.), in our case it is crossentropy.\nLearning rate is set in the optimizer but does not have to remain the same throughout the training (i.e. AdaGrad).",
   "metadata": {
    "id": "xJKFasVB6lK6",
    "cell_id": "00022-8056f0ca-5649-48f7-b2fa-fd34a0a8097c",
    "deepnote_cell_type": "markdown"
   }
  },
  {
   "cell_type": "code",
   "metadata": {
    "id": "WS_e_33O6lK6",
    "cell_id": "00023-2284db52-f460-4f88-89d7-ec778e48192e",
    "deepnote_to_be_reexecuted": false,
    "source_hash": "f948a7a8",
    "execution_start": 1635970125836,
    "execution_millis": 13,
    "deepnote_cell_type": "code"
   },
   "source": "from tensorflow.keras import optimizers\n# define the optimiter\n# We use SGD as optimizer and cover more options later on, lets start with a learning rate of 0.01. There are many more parameters that we could be adding in the optimizer,\n# but for now let us only declare the lr \nopt = optimizers.SGD(learning_rate=0.01)\n\n\n\n# Calling compile and specifying some mandatory arguments completes setting up the NN, ie. loss and metrics\nmodel.compile(loss=\"categorical_crossentropy\",\n              optimizer=opt,\n              metrics=[\"accuracy\"])\n\n",
   "execution_count": 14,
   "outputs": []
  },
  {
   "cell_type": "markdown",
   "source": "### 7+8: batch size and epochs ###\nBatch size is a chunk of data that would be fed into the optimizer. Larger batch sizes result in faster progress in training, but don't always converge as fast. Smaller batch sizes update the weights more slowly, but lead to more stable convergence. Batch Gradient Descent (all samples used for one update), Online Stochastic Gradient Descent (one sample used for one update), Mini-batch Stochastic Gradient Descent (More than one but less than all samples used for one update).\nBatch size determines how many examples you look at before making a weight update. The lower it is, the noisier the training signal is going to be, the higher it is, the longer it will take to compute the gradient for each step.\n\nEpochs is the number of rounds the algorithm will go through the entire dataset. Usually the more epochs of training, the better are the results, until the network starts to overfit. When you see the results flattening out, it's the time to stop.",
   "metadata": {
    "id": "oNJhTIf-6lK7",
    "cell_id": "00024-39da7421-79ab-4ed0-a377-205f28c83f49",
    "deepnote_cell_type": "markdown"
   }
  },
  {
   "cell_type": "code",
   "metadata": {
    "id": "w0MSTeIV6lK7",
    "outputId": "8b2a04b2-fd95-49c1-c346-171a9f0cab00",
    "cell_id": "00025-90778117-78f4-45ad-9dcd-624078cc0163",
    "deepnote_to_be_reexecuted": false,
    "source_hash": "3d2637c0",
    "execution_start": 1635970125894,
    "execution_millis": 197187,
    "deepnote_cell_type": "code"
   },
   "source": "batch_size = 1 #1 for online SGD\nepochs = 30\n\n#And now we fit the model (that is the training part), mind that saving it to the \n# variable will help you retrieve and analyse the training history\n\n\nstory = model.fit(x=X_train,\n                  y=y_train,\n                  batch_size=batch_size,\n                  epochs=epochs,\n                  validation_data=(X_test, y_test))",
   "execution_count": 15,
   "outputs": [
    {
     "name": "stdout",
     "text": "Epoch 1/30\n5037/5037 [==============================] - 7s 1ms/step - loss: 1.0534 - accuracy: 0.6711 - val_loss: 0.9793 - val_accuracy: 0.7005\nEpoch 2/30\n5037/5037 [==============================] - 5s 1ms/step - loss: 0.9242 - accuracy: 0.7057 - val_loss: 0.9578 - val_accuracy: 0.7046\nEpoch 3/30\n5037/5037 [==============================] - 5s 1ms/step - loss: 0.9188 - accuracy: 0.7035 - val_loss: 0.9571 - val_accuracy: 0.7056\nEpoch 4/30\n5037/5037 [==============================] - 5s 1ms/step - loss: 0.9174 - accuracy: 0.7086 - val_loss: 0.9414 - val_accuracy: 0.7069\nEpoch 5/30\n5037/5037 [==============================] - 5s 1ms/step - loss: 0.8807 - accuracy: 0.7111 - val_loss: 0.9488 - val_accuracy: 0.7051\nEpoch 6/30\n5037/5037 [==============================] - 5s 1ms/step - loss: 0.8773 - accuracy: 0.7069 - val_loss: 0.9441 - val_accuracy: 0.7130\nEpoch 7/30\n5037/5037 [==============================] - 6s 1ms/step - loss: 0.8345 - accuracy: 0.7258 - val_loss: 0.9350 - val_accuracy: 0.7093\nEpoch 8/30\n5037/5037 [==============================] - 5s 1ms/step - loss: 0.8514 - accuracy: 0.7164 - val_loss: 0.9457 - val_accuracy: 0.7069\nEpoch 9/30\n5037/5037 [==============================] - 5s 1ms/step - loss: 0.8338 - accuracy: 0.7165 - val_loss: 0.9748 - val_accuracy: 0.7074\nEpoch 10/30\n5037/5037 [==============================] - 5s 1ms/step - loss: 0.8467 - accuracy: 0.7188 - val_loss: 0.9569 - val_accuracy: 0.7148\nEpoch 11/30\n5037/5037 [==============================] - 5s 1ms/step - loss: 0.7990 - accuracy: 0.7339 - val_loss: 0.9565 - val_accuracy: 0.7065\nEpoch 12/30\n5037/5037 [==============================] - 5s 1ms/step - loss: 0.8179 - accuracy: 0.7175 - val_loss: 0.9474 - val_accuracy: 0.7032\nEpoch 13/30\n5037/5037 [==============================] - 6s 1ms/step - loss: 0.8245 - accuracy: 0.7157 - val_loss: 0.9593 - val_accuracy: 0.7125\nEpoch 14/30\n5037/5037 [==============================] - 5s 1ms/step - loss: 0.8120 - accuracy: 0.7159 - val_loss: 0.9489 - val_accuracy: 0.7060\nEpoch 15/30\n5037/5037 [==============================] - 6s 1ms/step - loss: 0.7944 - accuracy: 0.7297 - val_loss: 0.9636 - val_accuracy: 0.7065\nEpoch 16/30\n5037/5037 [==============================] - 6s 1ms/step - loss: 0.7792 - accuracy: 0.7266 - val_loss: 0.9576 - val_accuracy: 0.7060\nEpoch 17/30\n5037/5037 [==============================] - 6s 1ms/step - loss: 0.7860 - accuracy: 0.7244 - val_loss: 0.9761 - val_accuracy: 0.6991\nEpoch 18/30\n5037/5037 [==============================] - 5s 1ms/step - loss: 0.7653 - accuracy: 0.7432 - val_loss: 0.9772 - val_accuracy: 0.7060\nEpoch 19/30\n5037/5037 [==============================] - 6s 1ms/step - loss: 0.7810 - accuracy: 0.7281 - val_loss: 0.9684 - val_accuracy: 0.7014\nEpoch 20/30\n5037/5037 [==============================] - 5s 1ms/step - loss: 0.7543 - accuracy: 0.7418 - val_loss: 0.9832 - val_accuracy: 0.6894\nEpoch 21/30\n5037/5037 [==============================] - 5s 1ms/step - loss: 0.7558 - accuracy: 0.7486 - val_loss: 0.9891 - val_accuracy: 0.6972\nEpoch 22/30\n5037/5037 [==============================] - 6s 1ms/step - loss: 0.7668 - accuracy: 0.7388 - val_loss: 0.9840 - val_accuracy: 0.6995\nEpoch 23/30\n5037/5037 [==============================] - 6s 1ms/step - loss: 0.7277 - accuracy: 0.7453 - val_loss: 0.9763 - val_accuracy: 0.7028\nEpoch 24/30\n5037/5037 [==============================] - 11s 2ms/step - loss: 0.7283 - accuracy: 0.7421 - val_loss: 1.0014 - val_accuracy: 0.7079\nEpoch 25/30\n5037/5037 [==============================] - 13s 3ms/step - loss: 0.7359 - accuracy: 0.7443 - val_loss: 0.9902 - val_accuracy: 0.6949\nEpoch 26/30\n5037/5037 [==============================] - 10s 2ms/step - loss: 0.7309 - accuracy: 0.7433 - val_loss: 1.0216 - val_accuracy: 0.6806\nEpoch 27/30\n5037/5037 [==============================] - 6s 1ms/step - loss: 0.7038 - accuracy: 0.7494 - val_loss: 1.0122 - val_accuracy: 0.6787\nEpoch 28/30\n5037/5037 [==============================] - 9s 2ms/step - loss: 0.7097 - accuracy: 0.7450 - val_loss: 1.0215 - val_accuracy: 0.6972\nEpoch 29/30\n5037/5037 [==============================] - 10s 2ms/step - loss: 0.7192 - accuracy: 0.7403 - val_loss: 1.0131 - val_accuracy: 0.6954\nEpoch 30/30\n5037/5037 [==============================] - 10s 2ms/step - loss: 0.7126 - accuracy: 0.7511 - val_loss: 1.0362 - val_accuracy: 0.6880\n",
     "output_type": "stream"
    }
   ]
  },
  {
   "cell_type": "markdown",
   "source": "The output already provides a lot of information how well your model performance and whether is shows tendencies of overfitting. You can also obtain such insight explicitly after the model has trained. For example, you can use *evaluate()* to compute model performance. ",
   "metadata": {
    "id": "dgw9tmzT6lK7",
    "cell_id": "00026-1f3cf7ee-1e01-467d-9e48-fa89c97c6ff1",
    "deepnote_cell_type": "markdown"
   }
  },
  {
   "cell_type": "code",
   "metadata": {
    "id": "8M373W4A6lK7",
    "cell_id": "00027-2c5965f2-b372-49fb-9f52-6f5fea4e6130",
    "deepnote_to_be_reexecuted": false,
    "source_hash": "552ccbc8",
    "execution_start": 1635970323098,
    "execution_millis": 2434,
    "deepnote_cell_type": "code"
   },
   "source": "#use evaluate to evaluate your model and check the output\neval_test = model.evaluate(\n    x=X_test,\n    y=y_test,\n    batch_size=batch_size\n)\n\n# print test loss and accuracy\nprint(f\"Test loss = {eval_test[0]:.3f}\")\nprint(f\"Test accuracy = {eval_test[1]*100:.3f}%\")",
   "execution_count": 16,
   "outputs": [
    {
     "name": "stdout",
     "text": "2160/2160 [==============================] - 2s 1ms/step - loss: 1.0362 - accuracy: 0.6880\nTest loss = 1.036\nTest accuracy = 68.796%\n",
     "output_type": "stream"
    }
   ]
  },
  {
   "cell_type": "markdown",
   "source": "The metrics that *evaluate()* gives us depend on the input argument *metrics* that we used when setting up our NN. Keras knows several other metrics (see [Keras doc. for details](https://keras.io/metrics/)) but not all known metrics are supported for training the NN. Between, you can also extend the set of metrics with customer metrics (see this [example](https://machinelearningmastery.com/custom-metrics-deep-learning-keras-python/) if interested.).\n\nWe also have access to model performance results via the result of *model.fit()*. Use history on the variable 'story' you saved model.fit to and check its keys and values:",
   "metadata": {
    "id": "SLOKX8Z_6lK8",
    "cell_id": "00028-de0101c0-53a9-421f-894c-963e88fcbc42",
    "deepnote_cell_type": "markdown"
   }
  },
  {
   "cell_type": "code",
   "metadata": {
    "id": "QHLKr4ZG6lK8",
    "outputId": "c8f966d3-f559-4cc4-c22c-0b31210e7abb",
    "cell_id": "00029-ec2895cf-4bff-427c-8a63-f7674a8edecf",
    "deepnote_to_be_reexecuted": false,
    "source_hash": "b6e5f039",
    "execution_start": 1635970325532,
    "execution_millis": 1,
    "deepnote_cell_type": "code"
   },
   "source": "story.history[\"loss\"]",
   "execution_count": 17,
   "outputs": [
    {
     "output_type": "execute_result",
     "execution_count": 17,
     "data": {
      "text/plain": "[0.9922996759414673,\n 0.9308805465698242,\n 0.9069792628288269,\n 0.9057649970054626,\n 0.8899469971656799,\n 0.8761959075927734,\n 0.8643261790275574,\n 0.8553435206413269,\n 0.8464258313179016,\n 0.8390105366706848,\n 0.8348111510276794,\n 0.8260166645050049,\n 0.8183926939964294,\n 0.8106682300567627,\n 0.8018971681594849,\n 0.7968336939811707,\n 0.7961179614067078,\n 0.7873476147651672,\n 0.7816677689552307,\n 0.7759222984313965,\n 0.7705172896385193,\n 0.7639315128326416,\n 0.757325291633606,\n 0.7475485801696777,\n 0.7470928430557251,\n 0.7404656410217285,\n 0.7343732714653015,\n 0.7251608371734619,\n 0.7214943170547485,\n 0.7377693057060242]"
     },
     "metadata": {}
    }
   ]
  },
  {
   "cell_type": "markdown",
   "source": "It is good practice to define custom functions to diagnose model performance and display results as needed. Here are some examples.",
   "metadata": {
    "id": "Zg54WCCc6lK8",
    "cell_id": "00030-51836f1c-00f4-4389-a455-e5410c4027ad",
    "deepnote_cell_type": "markdown"
   }
  },
  {
   "cell_type": "code",
   "metadata": {
    "id": "YwWqKFmQ6lK8",
    "outputId": "cb966afe-6458-479c-d075-78b1ca6c7c77",
    "cell_id": "00031-da582115-d715-4e48-a6de-66868d39af59",
    "deepnote_to_be_reexecuted": false,
    "source_hash": "6745eb82",
    "execution_start": 1635970325575,
    "execution_millis": 394,
    "deepnote_cell_type": "code"
   },
   "source": "def show_history(story):\n    plt.plot(story.history['accuracy'])\n    plt.plot(story.history['val_accuracy'])\n    plt.ylabel('accuracy')\n    plt.xlabel('epoch')\n    plt.legend(['train_accuracy', 'test_accuracy'], loc='best')\n    plt.show()\n\nshow_history(story)",
   "execution_count": 18,
   "outputs": [
    {
     "data": {
      "text/plain": "<Figure size 432x288 with 1 Axes>",
      "image/png": "[encoded data removed]"
     },
     "metadata": {
      "needs_background": "light",
      "image/png": {
       "width": 393,
       "height": 262
      }
     },
     "output_type": "display_data"
    }
   ]
  },
  {
   "cell_type": "code",
   "metadata": {
    "id": "zU9_j3pU6lK9",
    "outputId": "c5d834b3-3567-4c1c-e526-fdaa9c8f82f6",
    "cell_id": "00032-896b0f89-39ab-49f9-93cc-10f0f1aa7381",
    "deepnote_to_be_reexecuted": false,
    "source_hash": "9641a4f1",
    "execution_start": 1635970325967,
    "execution_millis": 678,
    "deepnote_cell_type": "code"
   },
   "source": "def show_history(story):\n    fig, (ax1, ax2) = plt.subplots(1, 2)\n    fig.set_size_inches(18.5, 10.5)\n    ax1.plot(story.history['accuracy'])\n    ax1.plot(story.history['val_accuracy'])\n    ax1.set(xlabel='epoch', ylabel='accuracy')\n    ax1.legend(['train_accuracy', 'test_accuracy'], loc='best')\n    ax1.set_title('Accuracy evolution during NN training')\n    \n    ax2.plot(story.history['loss'])\n    ax2.plot(story.history['val_loss'])\n    ax2.set(xlabel='epoch', ylabel='loss')\n    ax2.legend(['train_loss', 'test_loss'], loc='best')\n    ax2.set_title('Loss evolution during NN training')\n    plt.show()\n\nshow_history(story)\n",
   "execution_count": 19,
   "outputs": [
    {
     "data": {
      "text/plain": "<Figure size 1332x756 with 2 Axes>",
      "image/png": "[encoded data removed]"
     },
     "metadata": {
      "needs_background": "light",
      "image/png": {
       "width": 1089,
       "height": 632
      }
     },
     "output_type": "display_data"
    }
   ]
  },
  {
   "cell_type": "markdown",
   "source": "To get more insight and benefit from the full stack of performance measures that you know, we can simply calculate test set predictions explicitly and then proceed with these in the usual way, producing ROC curves, confusion tables, and the like.",
   "metadata": {
    "id": "7X81Xqg76lK9",
    "cell_id": "00033-76b44017-a12a-429b-8bdf-b1377fdd4063",
    "deepnote_cell_type": "markdown"
   }
  },
  {
   "cell_type": "code",
   "metadata": {
    "id": "EQKA_S8n6lK9",
    "outputId": "df3b7b1c-7269-40fa-af29-12c47c91a4a3",
    "cell_id": "00034-0bd76ef6-73e7-4ec9-a86c-8e603cf6906b",
    "deepnote_to_be_reexecuted": false,
    "source_hash": "6370447e",
    "execution_start": 1635971013926,
    "execution_millis": 485,
    "deepnote_cell_type": "code"
   },
   "source": "# Compute predictions and save them in yhat\nyhat = model.predict(X_test)\n\nyhat.shape",
   "execution_count": 23,
   "outputs": [
    {
     "output_type": "execute_result",
     "execution_count": 23,
     "data": {
      "text/plain": "(2160, 6)"
     },
     "metadata": {}
    }
   ]
  },
  {
   "cell_type": "code",
   "metadata": {
    "id": "YKsBuTDg6lK-",
    "outputId": "08b946f1-0594-4f2e-ee40-357f59f69a9e",
    "cell_id": "00035-1cbb0fe7-f5b7-4a6b-9dac-bc6fdda79122",
    "deepnote_to_be_reexecuted": false,
    "source_hash": "b9bd73f5",
    "execution_start": 1635971024438,
    "execution_millis": 8,
    "deepnote_cell_type": "code"
   },
   "source": "# Finding the most probable class\nyhat_c = np.argmax(yhat, axis=1)\nprint(yhat_c)",
   "execution_count": 24,
   "outputs": [
    {
     "name": "stdout",
     "text": "[4 4 4 ... 4 4 4]\n",
     "output_type": "stream"
    }
   ]
  },
  {
   "cell_type": "code",
   "metadata": {
    "id": "2k2FeUmJ6lK-",
    "cell_id": "00036-15bb3acb-32cc-415d-a7b2-790798da80a3",
    "deepnote_to_be_reexecuted": false,
    "source_hash": "d083b513",
    "execution_start": 1635971036763,
    "execution_millis": 29,
    "deepnote_cell_type": "code"
   },
   "source": "pd.crosstab(index=app[\"user_rating\"],columns=\"count\") ",
   "execution_count": 25,
   "outputs": [
    {
     "output_type": "execute_result",
     "execution_count": 25,
     "data": {
      "application/vnd.deepnote.dataframe.v2+json": {
       "row_count": 6,
       "column_count": 1,
       "columns": [
        {
         "name": "count",
         "dtype": "int64",
         "stats": {
          "unique_count": 6,
          "nan_count": 0,
          "min": "44",
          "max": "4991",
          "histogram": [
           {
            "bin_start": 44,
            "bin_end": 538.7,
            "count": 4
           },
           {
            "bin_start": 538.7,
            "bin_end": 1033.4,
            "count": 1
           },
           {
            "bin_start": 1033.4,
            "bin_end": 1528.1,
            "count": 0
           },
           {
            "bin_start": 1528.1,
            "bin_end": 2022.8,
            "count": 0
           },
           {
            "bin_start": 2022.8,
            "bin_end": 2517.5,
            "count": 0
           },
           {
            "bin_start": 2517.5,
            "bin_end": 3012.2,
            "count": 0
           },
           {
            "bin_start": 3012.2,
            "bin_end": 3506.9,
            "count": 0
           },
           {
            "bin_start": 3506.9,
            "bin_end": 4001.6,
            "count": 0
           },
           {
            "bin_start": 4001.6,
            "bin_end": 4496.3,
            "count": 0
           },
           {
            "bin_start": 4496.3,
            "bin_end": 4991,
            "count": 1
           }
          ]
         }
        },
        {
         "name": "_deepnote_index_column",
         "dtype": "float64"
        }
       ],
       "rows_top": [
        {
         "count": 929,
         "_deepnote_index_column": 0
        },
        {
         "count": 44,
         "_deepnote_index_column": 1
        },
        {
         "count": 358,
         "_deepnote_index_column": 2
        },
        {
         "count": 383,
         "_deepnote_index_column": 3
        },
        {
         "count": 4991,
         "_deepnote_index_column": 4
        },
        {
         "count": 492,
         "_deepnote_index_column": 5
        }
       ],
       "rows_bottom": null
      },
      "text/plain": "col_0        count\nuser_rating       \n0.0            929\n1.0             44\n2.0            358\n3.0            383\n4.0           4991\n5.0            492",
      "text/html": "<div>\n<style scoped>\n    .dataframe tbody tr th:only-of-type {\n        vertical-align: middle;\n    }\n\n    .dataframe tbody tr th {\n        vertical-align: top;\n    }\n\n    .dataframe thead th {\n        text-align: right;\n    }\n</style>\n<table border=\"1\" class=\"dataframe\">\n  <thead>\n    <tr style=\"text-align: right;\">\n      <th>col_0</th>\n      <th>count</th>\n    </tr>\n    <tr>\n      <th>user_rating</th>\n      <th></th>\n    </tr>\n  </thead>\n  <tbody>\n    <tr>\n      <th>0.0</th>\n      <td>929</td>\n    </tr>\n    <tr>\n      <th>1.0</th>\n      <td>44</td>\n    </tr>\n    <tr>\n      <th>2.0</th>\n      <td>358</td>\n    </tr>\n    <tr>\n      <th>3.0</th>\n      <td>383</td>\n    </tr>\n    <tr>\n      <th>4.0</th>\n      <td>4991</td>\n    </tr>\n    <tr>\n      <th>5.0</th>\n      <td>492</td>\n    </tr>\n  </tbody>\n</table>\n</div>"
     },
     "metadata": {}
    }
   ]
  },
  {
   "cell_type": "code",
   "metadata": {
    "id": "7SAEF9pm6lK-",
    "outputId": "7602d185-29eb-4fe9-c4ba-fdbcf39e16ef",
    "cell_id": "00037-0cb4f95d-b615-4343-ba8b-0bee9540b586",
    "deepnote_to_be_reexecuted": false,
    "source_hash": "cda140c9",
    "execution_start": 1635971454690,
    "execution_millis": 7,
    "deepnote_cell_type": "code"
   },
   "source": "from sklearn.metrics import classification_report\ntarget_names = [\"Grade 0\",\"Grade 1\",\"Grade 2\",\"Grade 3\",\"Grade 4\",\"Grade 5\"]\ntrue_label = np.argmax(y_test,axis = 1)\n#print the following classification report\nprint(classification_report(true_label, yhat_c, target_names=target_names))\n",
   "execution_count": 36,
   "outputs": [
    {
     "name": "stdout",
     "text": "              precision    recall  f1-score   support\n\n     Grade 0       0.49      0.42      0.45       282\n     Grade 1       0.00      0.00      0.00        20\n     Grade 2       0.16      0.03      0.05       110\n     Grade 3       0.11      0.06      0.08       117\n     Grade 4       0.75      0.91      0.82      1489\n     Grade 5       0.14      0.03      0.05       142\n\n    accuracy                           0.69      2160\n   macro avg       0.27      0.24      0.24      2160\nweighted avg       0.61      0.69      0.64      2160\n\n",
     "output_type": "stream"
    }
   ]
  },
  {
   "cell_type": "code",
   "metadata": {
    "id": "wWff-OKn6lK-",
    "outputId": "ff54d0df-e601-498b-e94d-845b26d7b782",
    "cell_id": "00038-51f58b0c-7403-491b-92c8-54bb43e9b0e1",
    "deepnote_to_be_reexecuted": false,
    "source_hash": "ad14521a",
    "execution_start": 1635972422463,
    "execution_millis": 398,
    "deepnote_cell_type": "code"
   },
   "source": "from sklearn.metrics import confusion_matrix, ConfusionMatrixDisplay\n# print the confustion matrix\nprint(confusion_matrix(true_label, yhat_c))\n\n\nfig, ax = plt.subplots(figsize=(8,5))\nConfusionMatrixDisplay.from_predictions(true_label, yhat_c).plot(ax=ax)\nplt.close()\n",
   "execution_count": 54,
   "outputs": [
    {
     "name": "stdout",
     "text": "[[ 118    1    3   13  145    2]\n [   7    0    0    1   12    0]\n [  19    1    3    6   78    3]\n [  13    0    2    7   94    1]\n [  70    3    9   35 1354   18]\n [  14    0    2    3  119    4]]\n",
     "output_type": "stream"
    },
    {
     "data": {
      "text/plain": "<Figure size 576x360 with 2 Axes>",
      "image/png": "[encoded data removed]"
     },
     "metadata": {
      "needs_background": "light",
      "image/png": {
       "width": 381,
       "height": 317
      }
     },
     "output_type": "display_data"
    }
   ]
  },
  {
   "cell_type": "markdown",
   "source": "### 9: dropout\nDropout 'impedes' the model and can be used against overfitting. It randomly sets a fraction rate of input units to 0 at each update during training time, which is a manner of regularization. Let's add up the Dropout rates after the hidden layers.\n\n",
   "metadata": {
    "id": "WNQFYcw06lK_",
    "cell_id": "00039-801ec960-a2d5-4fa0-b22e-e366487a7dc7",
    "deepnote_cell_type": "markdown"
   }
  },
  {
   "cell_type": "code",
   "source": "#Let's rebuild the model and add 2 dropout layers after each Hidden Layer with a drop out rate of 0.1 (we can leave the bias setting to default this time)\nfrom tensorflow.keras.layers import Dropout",
   "metadata": {
    "tags": [],
    "cell_id": "00041-3a7a43a1-f507-4379-b4c2-49c2691cb657",
    "deepnote_to_be_reexecuted": false,
    "source_hash": "1b1b6fb5",
    "execution_start": 1635974329364,
    "execution_millis": 6,
    "deepnote_cell_type": "code"
   },
   "outputs": [],
   "execution_count": 67
  },
  {
   "cell_type": "code",
   "source": "# As this is going to be repeated at least twice, I decided to make a function\ndef make_my_model(name):\n    inputs = Input(shape=(35,), name=\"input_1\")\n\n    dense_1 = Dense(name=\"dense_1\",\n                    units=128,\n                    activation=\"relu\",\n                    kernel_initializer=tf.keras.initializers.he_normal(seed=seed),\n                    bias_initializer=\"zeros\")\n\n    # You have to \"call\" the inputs using layer (as a function) to initialize them\n    hidden_1 = dense_1(inputs)\n\n    dropout_1 = Dropout(rate=0.1, seed=seed)\n\n    regularized_1 = dropout_1(hidden_1)\n\n    dense_5 = Dense(name=\"dense_5\",\n                    units=128,\n                    activation=\"relu\",\n                    kernel_initializer=tf.keras.initializers.he_normal(seed=seed),\n                    bias_initializer=\"zeros\")\n\n    # Again, calling to initialize\n    hidden_2 = dense_5(regularized_1)\n\n    dropout_2 = Dropout(rate=0.1, seed=seed)\n\n    regularized_2 = dropout_2(hidden_2)\n\n    dense_6 = Dense(name=\"dense_6\",\n                    units=6,\n                    activation=\"softmax\",\n                    kernel_initializer=tf.keras.initializers.he_normal(seed=seed),\n                    bias_initializer=\"zeros\")\n\n    # By now it should be clear\n    outputs = dense_6(regularized_2)\n\n    # Initializing the model\n    return Model(inputs=inputs, outputs=outputs, name=name)\n",
   "metadata": {
    "tags": [],
    "cell_id": "00042-449e0bd0-b486-46f2-a6b4-e2b8cfd3e04b",
    "deepnote_to_be_reexecuted": false,
    "source_hash": "1bec0bc3",
    "execution_start": 1635974335888,
    "execution_millis": 6,
    "deepnote_cell_type": "code"
   },
   "outputs": [],
   "execution_count": 68
  },
  {
   "cell_type": "code",
   "metadata": {
    "id": "9zzkwgRM6lK_",
    "cell_id": "00040-bfac55bd-a944-4df5-bb4f-58637b8b6183",
    "deepnote_to_be_reexecuted": false,
    "source_hash": "f68210d5",
    "execution_start": 1635974361420,
    "execution_millis": 51,
    "deepnote_cell_type": "code"
   },
   "source": "model = make_my_model(\"model_2\")\n\n# Calling compile and specifying some mandatory arguments completes setting up the NN, ie. loss and metrics\nmodel.compile(loss=\"categorical_crossentropy\",\n              optimizer=opt,\n              metrics=[\"accuracy\"])\n\nmodel.summary()\n",
   "execution_count": 69,
   "outputs": [
    {
     "name": "stdout",
     "text": "Model: \"model_2\"\n_________________________________________________________________\nLayer (type)                 Output Shape              Param #   \n=================================================================\ninput_1 (InputLayer)         [(None, 35)]              0         \n_________________________________________________________________\ndense_1 (Dense)              (None, 128)               4608      \n_________________________________________________________________\ndropout_8 (Dropout)          (None, 128)               0         \n_________________________________________________________________\ndense_5 (Dense)              (None, 128)               16512     \n_________________________________________________________________\ndropout_9 (Dropout)          (None, 128)               0         \n_________________________________________________________________\ndense_6 (Dense)              (None, 6)                 774       \n=================================================================\nTotal params: 21,894\nTrainable params: 21,894\nNon-trainable params: 0\n_________________________________________________________________\n",
     "output_type": "stream"
    }
   ]
  },
  {
   "cell_type": "code",
   "metadata": {
    "id": "sUeuh4hL6lK_",
    "cell_id": "00041-77650a2a-cb4c-4db5-bb3e-334618070db3",
    "deepnote_to_be_reexecuted": false,
    "source_hash": "9f6007f5",
    "execution_start": 1635973213999,
    "execution_millis": 296386,
    "deepnote_cell_type": "code"
   },
   "source": "# fit and evaluate the model\nstory = model.fit(x=X_train,\n                  y=y_train,\n                  batch_size=batch_size,\n                  epochs=epochs,\n                  validation_data=(X_test, y_test))",
   "execution_count": 57,
   "outputs": [
    {
     "name": "stdout",
     "text": "Epoch 1/30\n5037/5037 [==============================] - 11s 2ms/step - loss: 1.0426 - accuracy: 0.6870 - val_loss: 0.9880 - val_accuracy: 0.6963\nEpoch 2/30\n5037/5037 [==============================] - 11s 2ms/step - loss: 0.9288 - accuracy: 0.7084 - val_loss: 0.9576 - val_accuracy: 0.7037\nEpoch 3/30\n5037/5037 [==============================] - 10s 2ms/step - loss: 0.9419 - accuracy: 0.6990 - val_loss: 0.9484 - val_accuracy: 0.7069\nEpoch 4/30\n5037/5037 [==============================] - 11s 2ms/step - loss: 0.9308 - accuracy: 0.6944 - val_loss: 0.9518 - val_accuracy: 0.7000\nEpoch 5/30\n5037/5037 [==============================] - 10s 2ms/step - loss: 0.9208 - accuracy: 0.7001 - val_loss: 0.9471 - val_accuracy: 0.7097\nEpoch 6/30\n5037/5037 [==============================] - 10s 2ms/step - loss: 0.8878 - accuracy: 0.7089 - val_loss: 0.9328 - val_accuracy: 0.7083\nEpoch 7/30\n5037/5037 [==============================] - 11s 2ms/step - loss: 0.8956 - accuracy: 0.7135 - val_loss: 0.9410 - val_accuracy: 0.7079\nEpoch 8/30\n5037/5037 [==============================] - 11s 2ms/step - loss: 0.8862 - accuracy: 0.7085 - val_loss: 0.9305 - val_accuracy: 0.7093\nEpoch 9/30\n5037/5037 [==============================] - 11s 2ms/step - loss: 0.8675 - accuracy: 0.7126 - val_loss: 0.9288 - val_accuracy: 0.7093\nEpoch 10/30\n5037/5037 [==============================] - 11s 2ms/step - loss: 0.8621 - accuracy: 0.7220 - val_loss: 0.9442 - val_accuracy: 0.6972\nEpoch 11/30\n5037/5037 [==============================] - 10s 2ms/step - loss: 0.8682 - accuracy: 0.7121 - val_loss: 0.9299 - val_accuracy: 0.7074\nEpoch 12/30\n5037/5037 [==============================] - 10s 2ms/step - loss: 0.8331 - accuracy: 0.7247 - val_loss: 0.9398 - val_accuracy: 0.7083\nEpoch 13/30\n5037/5037 [==============================] - 10s 2ms/step - loss: 0.8660 - accuracy: 0.7120 - val_loss: 0.9441 - val_accuracy: 0.7000\nEpoch 14/30\n5037/5037 [==============================] - 10s 2ms/step - loss: 0.8593 - accuracy: 0.7148 - val_loss: 0.9413 - val_accuracy: 0.7097\nEpoch 15/30\n5037/5037 [==============================] - 10s 2ms/step - loss: 0.8462 - accuracy: 0.7217 - val_loss: 0.9335 - val_accuracy: 0.7148\nEpoch 16/30\n5037/5037 [==============================] - 10s 2ms/step - loss: 0.8397 - accuracy: 0.7108 - val_loss: 0.9590 - val_accuracy: 0.6995\nEpoch 17/30\n5037/5037 [==============================] - 10s 2ms/step - loss: 0.8226 - accuracy: 0.7221 - val_loss: 0.9574 - val_accuracy: 0.7037\nEpoch 18/30\n5037/5037 [==============================] - 10s 2ms/step - loss: 0.8383 - accuracy: 0.7177 - val_loss: 0.9266 - val_accuracy: 0.7157\nEpoch 19/30\n5037/5037 [==============================] - 10s 2ms/step - loss: 0.8327 - accuracy: 0.7198 - val_loss: 0.9390 - val_accuracy: 0.7093\nEpoch 20/30\n5037/5037 [==============================] - 10s 2ms/step - loss: 0.8309 - accuracy: 0.7124 - val_loss: 0.9464 - val_accuracy: 0.7083\nEpoch 21/30\n5037/5037 [==============================] - 10s 2ms/step - loss: 0.8287 - accuracy: 0.7209 - val_loss: 0.9406 - val_accuracy: 0.7046\nEpoch 22/30\n5037/5037 [==============================] - 10s 2ms/step - loss: 0.8028 - accuracy: 0.7364 - val_loss: 0.9589 - val_accuracy: 0.7069\nEpoch 23/30\n5037/5037 [==============================] - 11s 2ms/step - loss: 0.8213 - accuracy: 0.7171 - val_loss: 0.9514 - val_accuracy: 0.7079\nEpoch 24/30\n5037/5037 [==============================] - 11s 2ms/step - loss: 0.7743 - accuracy: 0.7338 - val_loss: 0.9560 - val_accuracy: 0.7069\nEpoch 25/30\n5037/5037 [==============================] - 10s 2ms/step - loss: 0.8070 - accuracy: 0.7160 - val_loss: 0.9526 - val_accuracy: 0.7097\nEpoch 26/30\n5037/5037 [==============================] - 11s 2ms/step - loss: 0.7730 - accuracy: 0.7281 - val_loss: 0.9483 - val_accuracy: 0.7023\nEpoch 27/30\n5037/5037 [==============================] - 8s 2ms/step - loss: 0.7891 - accuracy: 0.7254 - val_loss: 0.9709 - val_accuracy: 0.7120\nEpoch 28/30\n5037/5037 [==============================] - 6s 1ms/step - loss: 0.7974 - accuracy: 0.7255 - val_loss: 0.9836 - val_accuracy: 0.7162\nEpoch 29/30\n5037/5037 [==============================] - 6s 1ms/step - loss: 0.7694 - accuracy: 0.7300 - val_loss: 0.9793 - val_accuracy: 0.7023\nEpoch 30/30\n5037/5037 [==============================] - 6s 1ms/step - loss: 0.7691 - accuracy: 0.7323 - val_loss: 0.9751 - val_accuracy: 0.7097\n",
     "output_type": "stream"
    }
   ]
  },
  {
   "cell_type": "code",
   "metadata": {
    "id": "qZgpbGYAKpbH",
    "cell_id": "00042-5eabcaa3-0e2f-4f92-a946-106fa1444fe9",
    "deepnote_to_be_reexecuted": false,
    "source_hash": "b2160091",
    "execution_start": 1635973510390,
    "execution_millis": 1950,
    "deepnote_cell_type": "code"
   },
   "source": "#print Test Loss and Accuracy\neval_test = model.evaluate(\n    x=X_test,\n    y=y_test,\n    batch_size=batch_size\n)\n\n# print test loss and accuracy\nprint(f\"Test loss = {eval_test[0]:.3f}\")\nprint(f\"Test accuracy = {eval_test[1]*100:.3f}%\")\n\n#plot the history using the above defined function show_history( )\nshow_history(story)",
   "execution_count": 58,
   "outputs": [
    {
     "name": "stdout",
     "text": "2160/2160 [==============================] - 1s 666us/step - loss: 0.9751 - accuracy: 0.7097\nTest loss = 0.975\nTest accuracy = 70.972%\n",
     "output_type": "stream"
    },
    {
     "data": {
      "text/plain": "<Figure size 1332x756 with 2 Axes>",
      "image/png": "[encoded data removed]"
     },
     "metadata": {
      "needs_background": "light",
      "image/png": {
       "width": 1096,
       "height": 632
      }
     },
     "output_type": "display_data"
    }
   ]
  },
  {
   "cell_type": "markdown",
   "source": "### more on optimizers\n\nSo far we have mainly been looking at the SGD as our optimization algorithm, but there are many more: Adam, RMSprop, Adagrad, etc. (some more info here http://ruder.io/optimizing-gradient-descent/). Like other tools they all have their strengths and weaknesses. We will look more into Adam:",
   "metadata": {
    "id": "Ul4iMBHg6lK_",
    "cell_id": "00043-7f4c2d79-4bed-400d-a736-f2b408c227f6",
    "deepnote_cell_type": "markdown"
   }
  },
  {
   "cell_type": "code",
   "metadata": {
    "id": "fOA7RaR66lK_",
    "outputId": "f8579939-3607-4aa1-fec3-07aa00193a59",
    "cell_id": "00044-ae6cd369-5d41-44ac-ba5e-b2662d060a79",
    "deepnote_to_be_reexecuted": false,
    "source_hash": "b743162b",
    "execution_start": 1635974437802,
    "execution_millis": 31,
    "deepnote_cell_type": "code"
   },
   "source": "# build the same model as before, including the Dropout Layers, but now instead of SGD, choose Adam with a lr=0.01 as optimizer.\n# fit and evaluate the model\nfrom tensorflow.keras.optimizers import Adam\n\nopt = Adam(learning_rate=0.01)\n\nmodel = make_my_model(\"model_4\")\n\n# Calling compile and specifying some mandatory arguments completes setting up the NN, ie. loss and metrics\nmodel.compile(loss=\"categorical_crossentropy\",\n              optimizer=opt,\n              metrics=[\"accuracy\"])\n\nmodel.summary()\n\n\n",
   "execution_count": 70,
   "outputs": [
    {
     "name": "stdout",
     "text": "Model: \"model_4\"\n_________________________________________________________________\nLayer (type)                 Output Shape              Param #   \n=================================================================\ninput_1 (InputLayer)         [(None, 35)]              0         \n_________________________________________________________________\ndense_1 (Dense)              (None, 128)               4608      \n_________________________________________________________________\ndropout_10 (Dropout)         (None, 128)               0         \n_________________________________________________________________\ndense_5 (Dense)              (None, 128)               16512     \n_________________________________________________________________\ndropout_11 (Dropout)         (None, 128)               0         \n_________________________________________________________________\ndense_6 (Dense)              (None, 6)                 774       \n=================================================================\nTotal params: 21,894\nTrainable params: 21,894\nNon-trainable params: 0\n_________________________________________________________________\n",
     "output_type": "stream"
    }
   ]
  },
  {
   "cell_type": "code",
   "metadata": {
    "id": "sUeuh4hL6lK_",
    "cell_id": "00043-58a2170c-3baf-43b7-877c-851d223831b5",
    "deepnote_to_be_reexecuted": false,
    "source_hash": "9f6007f5",
    "allow_embed": false,
    "execution_start": 1635973862285,
    "execution_millis": 463672,
    "deepnote_cell_type": "code"
   },
   "source": "# fit and evaluate the model\nstory = model.fit(x=X_train,\n                  y=y_train,\n                  batch_size=batch_size,\n                  epochs=epochs,\n                  validation_data=(X_test, y_test))",
   "execution_count": 64,
   "outputs": [
    {
     "name": "stdout",
     "text": "Epoch 1/30\n5037/5037 [==============================] - 15s 3ms/step - loss: 1.4030 - accuracy: 0.6731 - val_loss: 1.1391 - val_accuracy: 0.6801\nEpoch 2/30\n5037/5037 [==============================] - 15s 3ms/step - loss: 1.1021 - accuracy: 0.6867 - val_loss: 1.1411 - val_accuracy: 0.6907\nEpoch 3/30\n5037/5037 [==============================] - 14s 3ms/step - loss: 1.1266 - accuracy: 0.6884 - val_loss: 1.0265 - val_accuracy: 0.7023\nEpoch 4/30\n5037/5037 [==============================] - 15s 3ms/step - loss: 1.1282 - accuracy: 0.7022 - val_loss: 1.0607 - val_accuracy: 0.6907\nEpoch 5/30\n5037/5037 [==============================] - 15s 3ms/step - loss: 1.0825 - accuracy: 0.6991 - val_loss: 1.0438 - val_accuracy: 0.6903\nEpoch 6/30\n5037/5037 [==============================] - 14s 3ms/step - loss: 1.0828 - accuracy: 0.7031 - val_loss: 1.0903 - val_accuracy: 0.6981\nEpoch 7/30\n5037/5037 [==============================] - 14s 3ms/step - loss: 1.0902 - accuracy: 0.7055 - val_loss: 1.0508 - val_accuracy: 0.6894\nEpoch 8/30\n5037/5037 [==============================] - 13s 3ms/step - loss: 1.0721 - accuracy: 0.6958 - val_loss: 1.0130 - val_accuracy: 0.7088\nEpoch 9/30\n5037/5037 [==============================] - 14s 3ms/step - loss: 1.1283 - accuracy: 0.7014 - val_loss: 1.0379 - val_accuracy: 0.6995\nEpoch 10/30\n5037/5037 [==============================] - 13s 3ms/step - loss: 1.0814 - accuracy: 0.7021 - val_loss: 1.0033 - val_accuracy: 0.7083\nEpoch 11/30\n5037/5037 [==============================] - 14s 3ms/step - loss: 1.0654 - accuracy: 0.6968 - val_loss: 1.0315 - val_accuracy: 0.6884\nEpoch 12/30\n5037/5037 [==============================] - 14s 3ms/step - loss: 1.0954 - accuracy: 0.7039 - val_loss: 1.0097 - val_accuracy: 0.7000\nEpoch 13/30\n5037/5037 [==============================] - 14s 3ms/step - loss: 1.0467 - accuracy: 0.7042 - val_loss: 1.0429 - val_accuracy: 0.6949\nEpoch 14/30\n5037/5037 [==============================] - 14s 3ms/step - loss: 1.0373 - accuracy: 0.7074 - val_loss: 0.9979 - val_accuracy: 0.7032\nEpoch 15/30\n5037/5037 [==============================] - 14s 3ms/step - loss: 0.9869 - accuracy: 0.7060 - val_loss: 1.0125 - val_accuracy: 0.7093\nEpoch 16/30\n5037/5037 [==============================] - 23s 4ms/step - loss: 0.9909 - accuracy: 0.7021 - val_loss: 1.0174 - val_accuracy: 0.6949\nEpoch 17/30\n5037/5037 [==============================] - 16s 3ms/step - loss: 1.0984 - accuracy: 0.6947 - val_loss: 0.9974 - val_accuracy: 0.7093\nEpoch 18/30\n5037/5037 [==============================] - 17s 3ms/step - loss: 1.0490 - accuracy: 0.7030 - val_loss: 1.0486 - val_accuracy: 0.7037\nEpoch 19/30\n5037/5037 [==============================] - 15s 3ms/step - loss: 1.0442 - accuracy: 0.7152 - val_loss: 1.1319 - val_accuracy: 0.7097\nEpoch 20/30\n5037/5037 [==============================] - 16s 3ms/step - loss: 1.1565 - accuracy: 0.7012 - val_loss: 0.9890 - val_accuracy: 0.7102\nEpoch 21/30\n5037/5037 [==============================] - 14s 3ms/step - loss: 1.0043 - accuracy: 0.7108 - val_loss: 1.0175 - val_accuracy: 0.6963\nEpoch 22/30\n5037/5037 [==============================] - 15s 3ms/step - loss: 0.9882 - accuracy: 0.7124 - val_loss: 1.0397 - val_accuracy: 0.7088\nEpoch 23/30\n5037/5037 [==============================] - 27s 5ms/step - loss: 1.0732 - accuracy: 0.6971 - val_loss: 1.0152 - val_accuracy: 0.6991\nEpoch 24/30\n5037/5037 [==============================] - 22s 4ms/step - loss: 1.0633 - accuracy: 0.7038 - val_loss: 1.1566 - val_accuracy: 0.6968\nEpoch 25/30\n5037/5037 [==============================] - 15s 3ms/step - loss: 1.2789 - accuracy: 0.7021 - val_loss: 1.0136 - val_accuracy: 0.7083\nEpoch 26/30\n5037/5037 [==============================] - 14s 3ms/step - loss: 0.9598 - accuracy: 0.7153 - val_loss: 1.0022 - val_accuracy: 0.7065\nEpoch 27/30\n5037/5037 [==============================] - 15s 3ms/step - loss: 1.0230 - accuracy: 0.7123 - val_loss: 1.0265 - val_accuracy: 0.7014\nEpoch 28/30\n5037/5037 [==============================] - 15s 3ms/step - loss: 0.9976 - accuracy: 0.7135 - val_loss: 1.1143 - val_accuracy: 0.6935\nEpoch 29/30\n5037/5037 [==============================] - 14s 3ms/step - loss: 1.0385 - accuracy: 0.6955 - val_loss: 1.0409 - val_accuracy: 0.7051\nEpoch 30/30\n5037/5037 [==============================] - 14s 3ms/step - loss: 1.0692 - accuracy: 0.6946 - val_loss: 1.2788 - val_accuracy: 0.6921\n",
     "output_type": "stream"
    }
   ]
  },
  {
   "cell_type": "code",
   "source": "#use evaluate to evaluate your model and check the output\neval_test = model.evaluate(\n    x=X_test,\n    y=y_test,\n    batch_size=batch_size\n)",
   "metadata": {
    "tags": [],
    "cell_id": "00047-c9961045-dd32-45f4-97b5-c1f98be281d9",
    "deepnote_to_be_reexecuted": false,
    "source_hash": "51a6bdbd",
    "execution_start": 1635974325971,
    "execution_millis": 2694,
    "deepnote_cell_type": "code"
   },
   "outputs": [
    {
     "name": "stdout",
     "text": "2160/2160 [==============================] - 3s 1ms/step - loss: 1.2788 - accuracy: 0.6921\n",
     "output_type": "stream"
    }
   ],
   "execution_count": 65
  },
  {
   "cell_type": "code",
   "metadata": {
    "id": "LFaLh58O6lLA",
    "cell_id": "00045-1c234944-9485-48c4-b4e8-24f8e5976074",
    "deepnote_to_be_reexecuted": false,
    "source_hash": "b48a8f56",
    "execution_start": 1635974328662,
    "execution_millis": 700,
    "deepnote_cell_type": "code"
   },
   "source": "#print Test Loss and Accuracy\nprint(f\"Test loss = {eval_test[0]:.3f}\")\nprint(f\"Test accuracy = {eval_test[1]*100:.3f}%\")\n\n#plot the history using the above defined function show_history( )\nshow_history(story)",
   "execution_count": 66,
   "outputs": [
    {
     "name": "stdout",
     "text": "Test loss = 1.279\nTest accuracy = 69.213%\n",
     "output_type": "stream"
    },
    {
     "data": {
      "text/plain": "<Figure size 1332x756 with 2 Axes>",
      "image/png": "[encoded data removed]"
     },
     "metadata": {
      "needs_background": "light",
      "image/png": {
       "width": 1096,
       "height": 632
      }
     },
     "output_type": "display_data"
    }
   ]
  },
  {
   "cell_type": "markdown",
   "source": "### 10: momentum and learning rate",
   "metadata": {
    "id": "iJhwbqIH6lLA",
    "cell_id": "00046-7b042bc5-3b56-4772-969a-05d82f03f3f5",
    "deepnote_cell_type": "markdown"
   }
  },
  {
   "cell_type": "markdown",
   "source": "\nLearning rate has been overlooked for a while but currently a lot of research is looking into it.\nLower LR takes more time but allows better allocation of local minimum, higher LR allows faster calculations but drastic jumps do not always yield good results. However, learning rate doesn't have to be remained constant. We will try different learning rate schedules for our NN.\n\nThe SGD optimization algorithm in Keras has an argument called **decay**. This argument is used in the time-based learning rate decay schedule equation as follows:\nLearningRate = LearningRate * 1/(1 + decay * epoch) (if decay=0 then there is no change)\n\nAnother term to know is **momentum**. Use a large momentum. Using a larger momentum value will help the optimization algorithm to continue to make updates in the right direction when your learning rate shrinks to small values.\n\n$$\\Delta  W_k(i) = -\\eta  \\frac{\\partial E}{\\partial W_k} + \\mu  \\Delta W_k(i-1)$$\n\n\n$\\mu$ is a momentum term here. Imagine if at some point gradient is zero, it would put the backpropagation to stall. Here momentum comes to the rescue - the algorithm remembers its last step, and adds some proportion of it to the current step. This way, even if the algorithm is stuck in a flat region, or a small local minimum, it can get out and continue towards the global minimum. So learning rate measures how much the current situation affects the next step, while momentum measures how much past steps affect the next step. \n\n",
   "metadata": {
    "id": "JqiOrO696lLA",
    "cell_id": "00047-8c6598fc-d848-47ec-89f6-af6bbf0f7847",
    "deepnote_cell_type": "markdown"
   }
  },
  {
   "cell_type": "code",
   "metadata": {
    "id": "uk1WsI2X6lLA",
    "cell_id": "00048-d293dead-cfa3-44a5-b84d-a8bb13464f90",
    "deepnote_to_be_reexecuted": false,
    "source_hash": "207a3700",
    "execution_start": 1635975729086,
    "execution_millis": 181138,
    "deepnote_cell_type": "code"
   },
   "source": "from tensorflow.keras.optimizers import SGD\nfrom tensorflow.keras.optimizers.schedules import InverseTimeDecay\n\n# rebuild the model with Dropout Layers as before\nmodel = make_my_model(\"model_5\")\n\n\n# Compile the model using SGD as optimizer with the following parameters\nlearning_rate = 0.01\ndecay_rate = learning_rate / epochs\nmomentum = 0.8\n\nlr_schedule = InverseTimeDecay(\n    initial_learning_rate=0.01,\n    decay_steps=10000,\n    decay_rate=decay_rate)\n\nopt = SGD(learning_rate=lr_schedule,\n          momentum=momentum)\n\nmodel = make_my_model(\"model_4\")\n\n# Calling compile and specifying some mandatory arguments completes setting up the NN, ie. loss and metrics\nmodel.compile(loss=\"categorical_crossentropy\",\n              optimizer=opt,\n              metrics=[\"accuracy\"])\n\nprint(model.summary())\n\n# Fit and evaluate the model\nstory = model.fit(x=X_train,\n                  y=y_train,\n                  batch_size=batch_size,\n                  epochs=epochs,\n                  validation_data=(X_test, y_test))\n\neval_test = model.evaluate(\n    x=X_test,\n    y=y_test,\n    batch_size=batch_size\n)\n\n\n",
   "execution_count": 72,
   "outputs": [
    {
     "name": "stdout",
     "text": "Model: \"model_4\"\n_________________________________________________________________\nLayer (type)                 Output Shape              Param #   \n=================================================================\ninput_1 (InputLayer)         [(None, 35)]              0         \n_________________________________________________________________\ndense_1 (Dense)              (None, 128)               4608      \n_________________________________________________________________\ndropout_18 (Dropout)         (None, 128)               0         \n_________________________________________________________________\ndense_5 (Dense)              (None, 128)               16512     \n_________________________________________________________________\ndropout_19 (Dropout)         (None, 128)               0         \n_________________________________________________________________\ndense_6 (Dense)              (None, 6)                 774       \n=================================================================\nTotal params: 21,894\nTrainable params: 21,894\nNon-trainable params: 0\n_________________________________________________________________\nNone\nEpoch 1/30\n5037/5037 [==============================] - 7s 1ms/step - loss: 1.1355 - accuracy: 0.6751 - val_loss: 1.0106 - val_accuracy: 0.6912\nEpoch 2/30\n5037/5037 [==============================] - 6s 1ms/step - loss: 0.9788 - accuracy: 0.6958 - val_loss: 0.9753 - val_accuracy: 0.6958\nEpoch 3/30\n5037/5037 [==============================] - 6s 1ms/step - loss: 0.9557 - accuracy: 0.6974 - val_loss: 0.9628 - val_accuracy: 0.7097\nEpoch 4/30\n5037/5037 [==============================] - 6s 1ms/step - loss: 0.9449 - accuracy: 0.6990 - val_loss: 0.9951 - val_accuracy: 0.6926\nEpoch 5/30\n5037/5037 [==============================] - 6s 1ms/step - loss: 0.9144 - accuracy: 0.7139 - val_loss: 0.9771 - val_accuracy: 0.6931\nEpoch 6/30\n5037/5037 [==============================] - 6s 1ms/step - loss: 0.9489 - accuracy: 0.6902 - val_loss: 1.0136 - val_accuracy: 0.6912\nEpoch 7/30\n5037/5037 [==============================] - 6s 1ms/step - loss: 0.9369 - accuracy: 0.7024 - val_loss: 0.9573 - val_accuracy: 0.7060\nEpoch 8/30\n5037/5037 [==============================] - 6s 1ms/step - loss: 0.9083 - accuracy: 0.7087 - val_loss: 0.9554 - val_accuracy: 0.7079\nEpoch 9/30\n5037/5037 [==============================] - 6s 1ms/step - loss: 0.9033 - accuracy: 0.7025 - val_loss: 0.9872 - val_accuracy: 0.7000\nEpoch 10/30\n5037/5037 [==============================] - 6s 1ms/step - loss: 0.9677 - accuracy: 0.6927 - val_loss: 0.9801 - val_accuracy: 0.6912\nEpoch 11/30\n5037/5037 [==============================] - 6s 1ms/step - loss: 0.9261 - accuracy: 0.7045 - val_loss: 1.0022 - val_accuracy: 0.6852\nEpoch 12/30\n5037/5037 [==============================] - 6s 1ms/step - loss: 0.9173 - accuracy: 0.7001 - val_loss: 0.9396 - val_accuracy: 0.7148\nEpoch 13/30\n5037/5037 [==============================] - 7s 1ms/step - loss: 0.9196 - accuracy: 0.7174 - val_loss: 0.9589 - val_accuracy: 0.6991\nEpoch 14/30\n5037/5037 [==============================] - 6s 1ms/step - loss: 0.9182 - accuracy: 0.7044 - val_loss: 0.9541 - val_accuracy: 0.7019\nEpoch 15/30\n5037/5037 [==============================] - 6s 1ms/step - loss: 0.9075 - accuracy: 0.7076 - val_loss: 0.9688 - val_accuracy: 0.7134\nEpoch 16/30\n5037/5037 [==============================] - 6s 1ms/step - loss: 0.9405 - accuracy: 0.7024 - val_loss: 1.0116 - val_accuracy: 0.6847\nEpoch 17/30\n5037/5037 [==============================] - 6s 1ms/step - loss: 0.9211 - accuracy: 0.7028 - val_loss: 0.9930 - val_accuracy: 0.7069\nEpoch 18/30\n5037/5037 [==============================] - 6s 1ms/step - loss: 0.9124 - accuracy: 0.7110 - val_loss: 0.9655 - val_accuracy: 0.6981\nEpoch 19/30\n5037/5037 [==============================] - 6s 1ms/step - loss: 0.8896 - accuracy: 0.7060 - val_loss: 0.9731 - val_accuracy: 0.7093\nEpoch 20/30\n5037/5037 [==============================] - 6s 1ms/step - loss: 0.8857 - accuracy: 0.7128 - val_loss: 0.9820 - val_accuracy: 0.7051\nEpoch 21/30\n5037/5037 [==============================] - 6s 1ms/step - loss: 0.8988 - accuracy: 0.7061 - val_loss: 0.9884 - val_accuracy: 0.6968\nEpoch 22/30\n5037/5037 [==============================] - 6s 1ms/step - loss: 0.8662 - accuracy: 0.7264 - val_loss: 0.9868 - val_accuracy: 0.6991\nEpoch 23/30\n5037/5037 [==============================] - 6s 1ms/step - loss: 0.8999 - accuracy: 0.7134 - val_loss: 0.9568 - val_accuracy: 0.6991\nEpoch 24/30\n5037/5037 [==============================] - 6s 1ms/step - loss: 0.9024 - accuracy: 0.7034 - val_loss: 1.0458 - val_accuracy: 0.6991\nEpoch 25/30\n5037/5037 [==============================] - 6s 1ms/step - loss: 0.9465 - accuracy: 0.7029 - val_loss: 0.9821 - val_accuracy: 0.7074\nEpoch 26/30\n5037/5037 [==============================] - 6s 1ms/step - loss: 0.9052 - accuracy: 0.7082 - val_loss: 0.9677 - val_accuracy: 0.7019\nEpoch 27/30\n5037/5037 [==============================] - 6s 1ms/step - loss: 0.9158 - accuracy: 0.7109 - val_loss: 0.9729 - val_accuracy: 0.7069\nEpoch 28/30\n5037/5037 [==============================] - 6s 1ms/step - loss: 0.8942 - accuracy: 0.7116 - val_loss: 0.9923 - val_accuracy: 0.6968\nEpoch 29/30\n5037/5037 [==============================] - 6s 1ms/step - loss: 0.8987 - accuracy: 0.7146 - val_loss: 0.9863 - val_accuracy: 0.7060\nEpoch 30/30\n5037/5037 [==============================] - 6s 1ms/step - loss: 0.9258 - accuracy: 0.7005 - val_loss: 0.9958 - val_accuracy: 0.6880\n2160/2160 [==============================] - 1s 656us/step - loss: 0.9958 - accuracy: 0.6880\n",
     "output_type": "stream"
    }
   ]
  },
  {
   "cell_type": "code",
   "metadata": {
    "id": "AxtlKoKz6lLB",
    "outputId": "1ed6b48d-f99b-4729-838c-2cfa32d4e338",
    "cell_id": "00049-ada65337-c987-40f2-bd14-c0d255ad0601",
    "deepnote_to_be_reexecuted": false,
    "source_hash": "2c1c438b",
    "execution_start": 1635975910223,
    "execution_millis": 565,
    "deepnote_cell_type": "code"
   },
   "source": "# print test loss and accuracy and plit results with show_history()\nprint(f\"Test loss = {eval_test[0]:.3f}\")\nprint(f\"Test accuracy = {eval_test[1]*100:.3f}%\")\n\n#plot the history using the above defined function show_history( )\nshow_history(story)",
   "execution_count": 73,
   "outputs": [
    {
     "name": "stdout",
     "text": "Test loss = 0.996\nTest accuracy = 68.796%\n",
     "output_type": "stream"
    },
    {
     "data": {
      "text/plain": "<Figure size 1332x756 with 2 Axes>",
      "image/png": "[encoded data removed]"
     },
     "metadata": {
      "needs_background": "light",
      "image/png": {
       "width": 1096,
       "height": 632
      }
     },
     "output_type": "display_data"
    }
   ]
  },
  {
   "cell_type": "markdown",
   "source": "## Early stopping",
   "metadata": {
    "id": "35dd3a8q6lLB",
    "cell_id": "00050-aa0b48ba-3bcb-4c38-991c-a63c94a37bfb",
    "deepnote_cell_type": "markdown"
   }
  },
  {
   "cell_type": "code",
   "metadata": {
    "id": "5q6SGh3w6lLB",
    "outputId": "273f8f56-7529-4a5a-f3a2-ab9f82a4f9f6",
    "cell_id": "00051-17e08987-c904-4506-b906-a51c766f6e0f",
    "deepnote_to_be_reexecuted": false,
    "source_hash": "e3cb230a",
    "execution_start": 1635976005582,
    "execution_millis": 67270,
    "deepnote_cell_type": "code"
   },
   "source": "from tensorflow.keras.callbacks import EarlyStopping\n# define a Callback in teh following way\ncb=EarlyStopping(monitor='val_loss', min_delta=0.1, verbose=0, patience=10, restore_best_weights=True) #difference of loss is below min_delta, it is quantified as no improvement\n\n#fit the previous model using the above defined callback \n\n# Fit and evaluate the model\nstory = model.fit(x=X_train,\n                  y=y_train,\n                  batch_size=batch_size,\n                  epochs=epochs,\n                  callbacks=cb,\n                  validation_data=(X_test, y_test))\n\n\n# evaluate the model\neval_test = model.evaluate(\n    x=X_test,\n    y=y_test,\n    batch_size=batch_size\n)\n\n",
   "execution_count": 75,
   "outputs": [
    {
     "name": "stdout",
     "text": "Epoch 1/30\n5037/5037 [==============================] - 7s 1ms/step - loss: 0.8995 - accuracy: 0.7092 - val_loss: 1.0026 - val_accuracy: 0.6949\nEpoch 2/30\n5037/5037 [==============================] - 6s 1ms/step - loss: 0.9124 - accuracy: 0.7044 - val_loss: 1.0027 - val_accuracy: 0.6963\nEpoch 3/30\n5037/5037 [==============================] - 6s 1ms/step - loss: 0.8943 - accuracy: 0.7090 - val_loss: 0.9808 - val_accuracy: 0.6963\nEpoch 4/30\n5037/5037 [==============================] - 6s 1ms/step - loss: 0.8926 - accuracy: 0.7119 - val_loss: 0.9908 - val_accuracy: 0.6949\nEpoch 5/30\n5037/5037 [==============================] - 6s 1ms/step - loss: 0.8884 - accuracy: 0.7115 - val_loss: 0.9972 - val_accuracy: 0.7069\nEpoch 6/30\n5037/5037 [==============================] - 6s 1ms/step - loss: 0.9063 - accuracy: 0.7105 - val_loss: 0.9755 - val_accuracy: 0.7111\nEpoch 7/30\n5037/5037 [==============================] - 6s 1ms/step - loss: 0.8944 - accuracy: 0.7135 - val_loss: 1.0128 - val_accuracy: 0.6926\nEpoch 8/30\n5037/5037 [==============================] - 6s 1ms/step - loss: 0.8863 - accuracy: 0.7135 - val_loss: 0.9739 - val_accuracy: 0.6940\nEpoch 9/30\n5037/5037 [==============================] - 6s 1ms/step - loss: 0.8798 - accuracy: 0.7123 - val_loss: 1.0090 - val_accuracy: 0.7069\nEpoch 10/30\n5037/5037 [==============================] - 6s 1ms/step - loss: 0.9016 - accuracy: 0.7090 - val_loss: 1.0100 - val_accuracy: 0.7009\nEpoch 11/30\n5037/5037 [==============================] - 6s 1ms/step - loss: 0.9189 - accuracy: 0.7099 - val_loss: 1.0043 - val_accuracy: 0.7028\n2160/2160 [==============================] - 2s 699us/step - loss: 1.0026 - accuracy: 0.6949\n",
     "output_type": "stream"
    }
   ]
  },
  {
   "cell_type": "code",
   "metadata": {
    "id": "IBGIwLxN6lLB",
    "outputId": "3485447b-59f4-4927-8fad-00dca1a4310b",
    "cell_id": "00052-eb4daf80-2e98-45d8-87c1-ba3dbe000d35",
    "deepnote_to_be_reexecuted": false,
    "source_hash": "6ec39284",
    "execution_start": 1635976072851,
    "execution_millis": 358,
    "deepnote_cell_type": "code"
   },
   "source": "#print loss and accuracy and plot it using show_history()\nprint(f\"Test loss = {eval_test[0]:.3f}\")\nprint(f\"Test accuracy = {eval_test[1]*100:.3f}%\")\n\nshow_history(story)",
   "execution_count": 76,
   "outputs": [
    {
     "name": "stdout",
     "text": "Test loss = 1.003\nTest accuracy = 69.491%\n",
     "output_type": "stream"
    },
    {
     "data": {
      "text/plain": "<Figure size 1332x756 with 2 Axes>",
      "image/png": "[encoded data removed]"
     },
     "metadata": {
      "needs_background": "light",
      "image/png": {
       "width": 1096,
       "height": 632
      }
     },
     "output_type": "display_data"
    }
   ]
  },
  {
   "cell_type": "markdown",
   "source": "<a style='text-decoration:none;line-height:16px;display:flex;color:#5B5B62;padding:10px;justify-content:end;' href='https://deepnote.com?utm_source=created-in-deepnote-cell&projectId=87989bd7-7a25-4e61-b3c0-cb24ea7ca1f8' target=\"_blank\">\n<img alt='Created in deepnote.com' style='display:inline;max-height:16px;margin:0px;margin-right:7.5px;' src='data:image/svg+xml;base64,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' > </img>\nCreated in <span style='font-weight:600;margin-left:4px;'>Deepnote</span></a>",
   "metadata": {
    "tags": [],
    "created_in_deepnote_cell": true,
    "deepnote_cell_type": "markdown"
   }
  }
 ],
 "nbformat": 4,
 "nbformat_minor": 0,
 "metadata": {
  "kernelspec": {
   "display_name": "PyCharm (adams)",
   "language": "python",
   "name": "pycharm-feb95198"
  },
  "language_info": {
   "codemirror_mode": {
    "name": "ipython",
    "version": 3
   },
   "file_extension": ".py",
   "mimetype": "text/x-python",
   "name": "python",
   "nbconvert_exporter": "python",
   "pygments_lexer": "ipython3",
   "version": "3.7.6"
  },
  "pycharm": {
   "stem_cell": {
    "cell_type": "raw",
    "metadata": {
     "collapsed": false
    },
    "source": []
   }
  },
  "colab": {
   "name": "Quest Challenge_ NN-in-Keras.ipynb",
   "provenance": [],
   "collapsed_sections": [],
   "include_colab_link": true
  },
  "deepnote_notebook_id": "c8bf191a-438a-49d0-8988-a1eb8bf1ea1a",
  "deepnote": {},
  "deepnote_execution_queue": []
 }
}