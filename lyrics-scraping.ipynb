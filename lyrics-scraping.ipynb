{
 "cells": [
  {
   "cell_type": "markdown",
   "source": "# Lyrics Scraping",
   "metadata": {
    "tags": [],
    "is_collapsed": false,
    "cell_id": "00000-4c521873-b0fc-4cdf-9ed9-3bb418623d20",
    "deepnote_cell_type": "text-cell-h1"
   }
  },
  {
   "cell_type": "code",
   "metadata": {
    "tags": [],
    "cell_id": "00000-692695d1-9bdc-4f08-a335-c551acdcca0a",
    "deepnote_to_be_reexecuted": false,
    "source_hash": "834de1c4",
    "execution_start": 1632785920552,
    "execution_millis": 114,
    "deepnote_cell_type": "code"
   },
   "source": "import re\nimport requests\nfrom bs4 import BeautifulSoup\nimport time\n\n# Browser User-Agent\nuser_agent = \"Mozilla/5.0 (Windows NT 10.0; Win64; x64; rv:90.0) Gecko/20100101 Firefox/90.0\"\n\n# Setting up HTTP Headers\nheaders = {\n    \"User-Agent\": user_agent\n}",
   "execution_count": 1,
   "outputs": []
  },
  {
   "cell_type": "code",
   "source": "# Artist (Alt-J) page URL\nsite_url = \"https://www.lyrics.com\"\nartist_url = \"/artist/Alt-J/2570284\"\n\n# Getting response from HTTP GET request\nresponse = requests.get(site_url + artist_url, headers=headers)\n\n# Getting status code from the response\nresponse.status_code",
   "metadata": {
    "tags": [],
    "cell_id": "00002-afa03924-72ea-4d7a-bbd6-a5fb0668dbf0",
    "deepnote_to_be_reexecuted": false,
    "source_hash": "e4f8393c",
    "execution_start": 1632785920673,
    "execution_millis": 268,
    "deepnote_cell_type": "code"
   },
   "outputs": [
    {
     "output_type": "execute_result",
     "execution_count": 2,
     "data": {
      "text/plain": "200"
     },
     "metadata": {}
    }
   ],
   "execution_count": 2
  },
  {
   "cell_type": "code",
   "source": "# Making soup\nartist = BeautifulSoup(response.text, \"html.parser\")\n\n# Getting artist name\nartist_name = artist.find(\"h1\", attrs={\"class\":\"artist\"}).text\n\n# Getting all the links from the artist page\nlyric_urls = [item[\"href\"] for item in artist.find_all(\"a\") if re.match(r\"^/lyric/\", item[\"href\"])]\n",
   "metadata": {
    "tags": [],
    "cell_id": "00003-8b880f9a-b73a-4569-8827-7ecf9bc2933c",
    "deepnote_to_be_reexecuted": false,
    "source_hash": "772924c5",
    "execution_start": 1632785920965,
    "execution_millis": 93,
    "deepnote_cell_type": "code"
   },
   "outputs": [],
   "execution_count": 3
  },
  {
   "cell_type": "code",
   "source": "# Now let's crawl\n\n# Folder for storing the files\nfolder_name = \"data/\"\n\n# Storing counter for progress tracking\ncounter = 0\n\nlimit = input(f\"How many lyrics out of {len(lyric_urls)} to fetch?\")\n\nfor item_url in lyric_urls[0:int(limit)]:\n\n    # Incrementing counter\n    counter += 1\n\n    # Delay 2 secs\n    time.sleep(2)\n\n    # Getting response from HTTP GET request\n    response = requests.get(site_url + item_url, headers=headers)\n\n    # Making lyric soup\n    lyric = BeautifulSoup(response.text, \"html.parser\")\n\n    # Getting song name\n    try:\n        lyric_name = lyric.find(\"h1\", attrs={\"id\":\"lyric-title-text\"}).text\n        \n        # Getting lyric text\n        lyric_text = lyric.find(\"pre\", attrs={\"id\":\"lyric-body-text\"}).text\n    except:\n        print(f\"{counter}/{len(lyric_urls)} Something wrong happened at {site_url + item_url}\")\n        continue\n\n    # Transforming file name, so it has no spaces or slashes (replaced with \"_\")\n    #   and there's double (\"__\") between artist and song name\n    #file_name = \"_\".join(artist_name.split(\" \")) + \"__\" + \"_\".join(lyric_name.split(\" \")) + \".txt\"\n\n    for char in [\" \", \"/\"]:\n        artist_name = artist_name.replace(char, \"_\")\n        lyric_name  = lyric_name.replace(char, \"_\")\n\n    file_name = artist_name + \"__\" + lyric_name + \".txt\"\n\n    # Actually writing down the file\n    with open(folder_name + file_name, \"w\") as f:\n        f.write(lyric_text)\n\n    print(f\"{counter}/{len(lyric_urls)}. {file_name} is finished.\")",
   "metadata": {
    "tags": [],
    "cell_id": "00005-56f38386-2c21-4554-981f-61c6c1c9787d",
    "deepnote_to_be_reexecuted": false,
    "source_hash": "205fd01a",
    "execution_start": 1632786875714,
    "execution_millis": 387743,
    "output_cleared": false,
    "deepnote_cell_type": "code"
   },
   "outputs": [
    {
     "name": "stdout",
     "text": "1/147. Alt-J__3WW.txt is finished.\n2/147. Alt-J__Adeline.txt is finished.\n3/147. Alt-J__Hares_on_the_Mountain.txt is finished.\n4/147. Alt-J__Deadcrush_[Alchemist_x_Trooko_Version].txt is finished.\n5/147. Alt-J__In_Cold_Blood_[Twin_Shadow_Version].txt is finished.\n6/147. Alt-J__3WW.txt is finished.\n7/147. Alt-J__In_Cold_Blood.txt is finished.\n8/147. Alt-J__House_Of_The_Rising_Sun.txt is finished.\n9/147. Alt-J__Hit_Me_Like_That_Snare.txt is finished.\n10/147. Alt-J__Deadcrush.txt is finished.\n11/147. Alt-J__Adeline.txt is finished.\n12/147. Alt-J__Last_Year.txt is finished.\n13/147. Alt-J__Pleader.txt is finished.\n14/147. Alt-J__3WW.txt is finished.\n15/147. Alt-J__In_Cold_Blood.txt is finished.\n16/147. Alt-J__House_Of_The_Rising_Sun.txt is finished.\n17/147. Alt-J__Hit_Me_Like_That_Snare.txt is finished.\n18/147. Alt-J__Deadcrush.txt is finished.\n19/147. Alt-J__Adeline.txt is finished.\n20/147. Alt-J__Last_Year.txt is finished.\n21/147. Alt-J__Pleader.txt is finished.\n22/147. Alt-J__Hunger_of_the_Pine.txt is finished.\n23/147. Alt-J__Fitzpleasure.txt is finished.\n24/147. Alt-J__Something_Good.txt is finished.\n25/147. Alt-J__Dissolve_Me.txt is finished.\n26/147. Alt-J__Bloodflood.txt is finished.\n27/147. Alt-J__Interlude_1.txt is finished.\n28/147. Alt-J__Tessellate.txt is finished.\n29/147. Alt-J__Warm_Foothills.txt is finished.\n30/147. Alt-J__The_Gospel_of_John_Hurt.txt is finished.\n31/147. Alt-J__Lovely_Day_[Bonus_Track].txt is finished.\n32/147. Alt-J__Nara.txt is finished.\n33/147. Alt-J__Leaving_Nara.txt is finished.\n34/147. Alt-J__Breezeblocks.txt is finished.\n35/147. Alt-J__Hunger_of_the_Pine.txt is finished.\n36/147. Alt-J__Hunger_of_the_Pine.txt is finished.\n37/147. Alt-J__Every_Other_Freckle.txt is finished.\n38/147. Alt-J__Breezeblocks.txt is finished.\n39/147. Alt-J__Breezeblocks.txt is finished.\n40/147. Alt-J__Something_Good.txt is finished.\n41/147. Alt-J__Every_Other_Freckle.txt is finished.\n42/147. Alt-J__Breezeblocks.txt is finished.\n43/147. Alt-J__Intro.txt is finished.\n44/147. Alt-J__Arrival_in_Nara.txt is finished.\n45/147. Alt-J__Nara.txt is finished.\n46/147. Alt-J__Every_Other_Freckle.txt is finished.\n47/147 Something wrong happened at https://www.lyrics.com/lyric/30933742/Alt-J/Left+Hand+Free\n48/147. Alt-J__Choice_Kingdom.txt is finished.\n49/147. Alt-J__Hunger_of_the_Pine.txt is finished.\n50/147. Alt-J__Warm_Foothills.txt is finished.\n51/147. Alt-J__The_Gospel_of_John_Hurt.txt is finished.\n52/147. Alt-J__Pusher.txt is finished.\n53/147. Alt-J__Bloodflood,_Pt._2.txt is finished.\n54/147. Alt-J__Leaving_Nara.txt is finished.\n55/147. Alt-J__Leaving_Nara_Lovely_Day_[Bonus_Track].txt is finished.\n56/147. Alt-J__Lovely_Day_[Bonus_Track].txt is finished.\n57/147. Alt-J__Lovely_Day.txt is finished.\n58/147. Alt-J__Intro.txt is finished.\n59/147. Alt-J__Arrival_in_Nara.txt is finished.\n60/147. Alt-J__Nara.txt is finished.\n61/147. Alt-J__Every_Other_Freckle.txt is finished.\n62/147 Something wrong happened at https://www.lyrics.com/lyric/31149392/Alt-J/Left+Hand+Free\n63/147. Alt-J__Choice_Kingdom.txt is finished.\n64/147. Alt-J__Hunger_of_the_Pine.txt is finished.\n65/147. Alt-J__Warm_Foothills.txt is finished.\n66/147. Alt-J__The_Gospel_of_John_Hurt.txt is finished.\n67/147. Alt-J__Pusher.txt is finished.\n68/147. Alt-J__Bloodflood,_Pt._2.txt is finished.\n69/147. Alt-J__Leaving_Nara.txt is finished.\n70/147. Alt-J__Something_Good.txt is finished.\n71/147. Alt-J__Tessellate.txt is finished.\n72/147. Alt-J__Breezeblocks.txt is finished.\n73/147. Alt-J__Fitzpleasure.txt is finished.\n74/147. Alt-J__Fitzpleasure.txt is finished.\n75/147. Alt-J__Dissolve_Me.txt is finished.\n76/147. Alt-J__Tessellate.txt is finished.\n77/147. Alt-J__Breezeblocks.txt is finished.\n78/147. Alt-J__Matilda.txt is finished.\n79/147. Alt-J__Something_Good.txt is finished.\n80/147. Alt-J__Something_Good.txt is finished.\n81/147. Alt-J__Tessellate.txt is finished.\n82/147. Alt-J__Fitzpleasure.txt is finished.\n83/147. Alt-J__Breezeblocks.txt is finished.\n84/147. Alt-J__Buffalo.txt is finished.\n85/147. Alt-J__Matilda.txt is finished.\n86/147 Something wrong happened at https://www.lyrics.com/lyric/29411414/Alt-J/Taro\n87/147. Alt-J__Intro.txt is finished.\n88/147. Alt-J__Interlude_1.txt is finished.\n89/147 Something wrong happened at https://www.lyrics.com/lyric/28022316/Alt-J/%5BUntitled%5D\n90/147. Alt-J__Tessellate.txt is finished.\n91/147. Alt-J__Breezeblocks.txt is finished.\n92/147 Something wrong happened at https://www.lyrics.com/lyric/30318936/Alt-J/Interlude+2\n93/147. Alt-J__Something_Good.txt is finished.\n94/147. Alt-J__Dissolve_Me.txt is finished.\n95/147. Alt-J__Matilda.txt is finished.\n96/147. Alt-J__MS.txt is finished.\n97/147. Alt-J__Fitzpleasure.txt is finished.\n98/147 Something wrong happened at https://www.lyrics.com/lyric/30318943/Alt-J/Interlude+3\n99/147. Alt-J__Bloodflood.txt is finished.\n100/147. Alt-J__Taro.txt is finished.\n101/147. Alt-J__Hand-Made.txt is finished.\n102/147. Alt-J__Intro.txt is finished.\n103/147. Alt-J__(The_Ripe_&_Ruin).txt is finished.\n104/147. Alt-J__Tessellate.txt is finished.\n105/147. Alt-J__Breezeblocks.txt is finished.\n106/147 Something wrong happened at https://www.lyrics.com/lyric/26651751/Alt-J/%28Guitar%29\n107/147. Alt-J__Something_Good.txt is finished.\n108/147. Alt-J__Dissolve_Me.txt is finished.\n109/147. Alt-J__Matilda.txt is finished.\n110/147 Something wrong happened at https://www.lyrics.com/lyric/26651747/Alt-J/Ms\n111/147. Alt-J__Fitzpleasure.txt is finished.\n112/147 Something wrong happened at https://www.lyrics.com/lyric/26651745/Alt-J/%28Piano%29\n113/147. Alt-J__Bloodflood.txt is finished.\n114/147 Something wrong happened at https://www.lyrics.com/lyric/26651743/Alt-J/Taro\n115/147. Alt-J__Hand-Made.txt is finished.\n116/147. Alt-J__Buffalo.txt is finished.\n117/147. Alt-J__Something_Good.txt is finished.\n118/147. Alt-J__Breezeblocks.txt is finished.\n119/147. Alt-J__Hares_on_the_Mountain.txt is finished.\n120/147. Alt-J__Hit_Me_Like_That_Snare.txt is finished.\n121/147. Alt-J__Hunger_of_the_Pine.txt is finished.\n122/147. Alt-J__In_Cold_Blood_[Twin_Shadow_Version].txt is finished.\n123/147. Alt-J__Left_Hand_Free.txt is finished.\n124/147. Alt-J__Left_Hand_Free_[Lido_Remix].txt is finished.\n125/147. Alt-J__In_Cold_Blood_[Twin_Shadow_Version].txt is finished.\n126/147. Alt-J__Left_Hand_Free.txt is finished.\n127/147. Alt-J__Fitzpleasure.txt is finished.\n128/147. Alt-J__3WW_[Lomepal_Version].txt is finished.\n129/147. Alt-J__Tessellate.txt is finished.\n130/147. Alt-J__Matilda.txt is finished.\n131/147. Alt-J__Leaving_Nara.txt is finished.\n132/147. Alt-J__In_Cold_Blood_[Kontra_K_Version].txt is finished.\n133/147. Alt-J__Last_Year_[Terrace_Martin_Version].txt is finished.\n134/147. Alt-J__Breezeblocks.txt is finished.\n135/147. Alt-J__In_Cold_Blood_[Kontra_K_Version].txt is finished.\n136/147. Alt-J__Every_Other_Freckle.txt is finished.\n137/147. Alt-J__Lovely_Day.txt is finished.\n138/147. Alt-J__Hit_Me_Like_That_Snare.txt is finished.\n139/147. Alt-J__Deadcrush_[Alchemist_x_Trooko_Version].txt is finished.\n140/147. Alt-J__Breezeblocks.txt is finished.\n141/147. Alt-J__Warm_Foothills.txt is finished.\n142/147. Alt-J__Nara.txt is finished.\n143/147. Alt-J__Lovely_Day_[Bonus_Track].txt is finished.\n144/147. Alt-J__Left_Hand_Free.txt is finished.\n145/147. Alt-J__3WW_[Lomepal_Version].txt is finished.\n146/147. Alt-J__Last_Year_[Terrace_Martin_Version].txt is finished.\n147/147. Alt-J__In_Cold_Blood_[Twin_Shadow_Version].txt is finished.\n",
     "output_type": "stream"
    }
   ],
   "execution_count": 6
  },
  {
   "cell_type": "markdown",
   "source": "<a style='text-decoration:none;line-height:16px;display:flex;color:#5B5B62;padding:10px;justify-content:end;' href='https://deepnote.com?utm_source=created-in-deepnote-cell&projectId=cfd8b0ae-bede-4fbf-8370-46f1acdfcc89' target=\"_blank\">\n<img alt='Created in deepnote.com' style='display:inline;max-height:16px;margin:0px;margin-right:7.5px;' src='data:image/svg+xml;base64,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' > </img>\nCreated in <span style='font-weight:600;margin-left:4px;'>Deepnote</span></a>",
   "metadata": {
    "tags": [],
    "created_in_deepnote_cell": true,
    "deepnote_cell_type": "markdown"
   }
  }
 ],
 "nbformat": 4,
 "nbformat_minor": 2,
 "metadata": {
  "orig_nbformat": 2,
  "deepnote": {
   "is_reactive": false
  },
  "deepnote_notebook_id": "94660870-ea27-4af8-97bd-9dba7fea297c",
  "deepnote_execution_queue": []
 }
}