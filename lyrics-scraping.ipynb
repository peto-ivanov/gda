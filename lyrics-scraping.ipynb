{
 "cells": [
  {
   "cell_type": "markdown",
   "source": "# Lyrics Scraping",
   "metadata": {
    "tags": [],
    "is_collapsed": false,
    "cell_id": "00000-4c521873-b0fc-4cdf-9ed9-3bb418623d20",
    "deepnote_cell_type": "text-cell-h1"
   }
  },
  {
   "cell_type": "code",
   "metadata": {
    "tags": [],
    "cell_id": "00000-692695d1-9bdc-4f08-a335-c551acdcca0a",
    "deepnote_to_be_reexecuted": false,
    "source_hash": "834de1c4",
    "execution_start": 1632784267464,
    "execution_millis": 2,
    "deepnote_cell_type": "code"
   },
   "source": "import re\nimport requests\nfrom bs4 import BeautifulSoup\nimport time\n\n# Browser User-Agent\nuser_agent = \"Mozilla/5.0 (Windows NT 10.0; Win64; x64; rv:90.0) Gecko/20100101 Firefox/90.0\"\n\n# Setting up HTTP Headers\nheaders = {\n    \"User-Agent\": user_agent\n}",
   "execution_count": 59,
   "outputs": []
  },
  {
   "cell_type": "code",
   "source": "# Artist (Alt-J) page URL\nsite_url = \"https://www.lyrics.com\"\nartist_url = \"/artist/Alt-J/2570284\"\n\n# Getting response from HTTP GET request\nresponse = requests.get(site_url + artist_url, headers=headers)\n\n# Getting status code from the response\nresponse.status_code",
   "metadata": {
    "tags": [],
    "cell_id": "00002-afa03924-72ea-4d7a-bbd6-a5fb0668dbf0",
    "deepnote_to_be_reexecuted": false,
    "source_hash": "e4f8393c",
    "execution_start": 1632783141549,
    "execution_millis": 304,
    "deepnote_cell_type": "code"
   },
   "outputs": [
    {
     "output_type": "execute_result",
     "execution_count": 42,
     "data": {
      "text/plain": "200"
     },
     "metadata": {}
    }
   ],
   "execution_count": 42
  },
  {
   "cell_type": "code",
   "source": "# Making soup\nartist = BeautifulSoup(response.text, \"html.parser\")\n\n# Getting artist name\nartist_name = artist.find(\"h1\", attrs={\"class\":\"artist\"}).text\n\n# Getting all the links from the artist page\nlyric_urls = [item[\"href\"] for item in artist.find_all(\"a\") if re.match(r\"^/lyric/\", item[\"href\"])]\n",
   "metadata": {
    "tags": [],
    "cell_id": "00003-8b880f9a-b73a-4569-8827-7ecf9bc2933c",
    "deepnote_to_be_reexecuted": false,
    "source_hash": "772924c5",
    "execution_start": 1632783145529,
    "execution_millis": 19,
    "deepnote_cell_type": "code"
   },
   "outputs": [],
   "execution_count": 43
  },
  {
   "cell_type": "code",
   "source": "# Now let's crawl\n\n# Folder for storing the files\nfolder_name = \"data/\"\n\n# Storing counter for progress tracking\ncounter = 0\n\nlimit = input(f\"How many lyrics out of {len(lyric_urls)} to fetch?\")\n\nfor item_url in lyric_urls[0:int(limit)]:\n\n    # Incrementing counter\n    counter += 1\n\n    # Delay 2 secs\n    time.sleep(2)\n\n    # Getting response from HTTP GET request\n    response = requests.get(site_url + item_url, headers=headers)\n\n    # Making lyric soup\n    lyric = BeautifulSoup(response.text, \"html.parser\")\n\n    # Getting song name\n    lyric_name = lyric.find(\"h1\", attrs={\"id\":\"lyric-title-text\"}).text\n\n    # Getting lyric text\n    lyric_text = lyric.find(\"pre\", attrs={\"id\":\"lyric-body-text\"}).text\n\n    # Transforming file name, so it has no spaces (replaced with \"_\")\n    #   and there's double (\"__\") between artist and song name\n    file_name = \"_\".join(artist_name.split(\" \")) + \"__\" + \"_\".join(lyric_name.split(\" \")) + \".txt\"\n\n    # Actually writing down the file\n    with open(folder_name + file_name, \"w\") as f:\n        f.write(lyric_text)\n\n    print(f\"{counter}/{len(lyric_urls)}. {file_name} is finished.\")",
   "metadata": {
    "tags": [],
    "cell_id": "00005-56f38386-2c21-4554-981f-61c6c1c9787d",
    "deepnote_to_be_reexecuted": false,
    "source_hash": "c94873fb",
    "execution_start": 1632785189934,
    "execution_millis": 123012,
    "output_cleared": false,
    "deepnote_cell_type": "code"
   },
   "outputs": [
    {
     "name": "stdout",
     "text": "1/147. Alt-J__3WW.txt is finished.\n2/147. Alt-J__Adeline.txt is finished.\n3/147. Alt-J__Hares_on_the_Mountain.txt is finished.\n4/147. Alt-J__Deadcrush_[Alchemist_x_Trooko_Version].txt is finished.\n5/147. Alt-J__In_Cold_Blood_[Twin_Shadow_Version].txt is finished.\n6/147. Alt-J__3WW.txt is finished.\n7/147. Alt-J__In_Cold_Blood.txt is finished.\n8/147. Alt-J__House_Of_The_Rising_Sun.txt is finished.\n9/147. Alt-J__Hit_Me_Like_That_Snare.txt is finished.\n10/147. Alt-J__Deadcrush.txt is finished.\n11/147. Alt-J__Adeline.txt is finished.\n12/147. Alt-J__Last_Year.txt is finished.\n13/147. Alt-J__Pleader.txt is finished.\n14/147. Alt-J__3WW.txt is finished.\n15/147. Alt-J__In_Cold_Blood.txt is finished.\n16/147. Alt-J__House_Of_The_Rising_Sun.txt is finished.\n17/147. Alt-J__Hit_Me_Like_That_Snare.txt is finished.\n18/147. Alt-J__Deadcrush.txt is finished.\n19/147. Alt-J__Adeline.txt is finished.\n20/147. Alt-J__Last_Year.txt is finished.\n21/147. Alt-J__Pleader.txt is finished.\n22/147. Alt-J__Hunger_of_the_Pine.txt is finished.\n23/147. Alt-J__Fitzpleasure.txt is finished.\n24/147. Alt-J__Something_Good.txt is finished.\n25/147. Alt-J__Dissolve_Me.txt is finished.\n26/147. Alt-J__Bloodflood.txt is finished.\n27/147. Alt-J__Interlude_1.txt is finished.\n28/147. Alt-J__Tessellate.txt is finished.\n29/147. Alt-J__Warm_Foothills.txt is finished.\n30/147. Alt-J__The_Gospel_of_John_Hurt.txt is finished.\n31/147. Alt-J__Lovely_Day_[Bonus_Track].txt is finished.\n32/147. Alt-J__Nara.txt is finished.\n33/147. Alt-J__Leaving_Nara.txt is finished.\n34/147. Alt-J__Breezeblocks.txt is finished.\n35/147. Alt-J__Hunger_of_the_Pine.txt is finished.\n36/147. Alt-J__Hunger_of_the_Pine.txt is finished.\n37/147. Alt-J__Every_Other_Freckle.txt is finished.\n38/147. Alt-J__Breezeblocks.txt is finished.\n39/147. Alt-J__Breezeblocks.txt is finished.\n40/147. Alt-J__Something_Good.txt is finished.\n41/147. Alt-J__Every_Other_Freckle.txt is finished.\n42/147. Alt-J__Breezeblocks.txt is finished.\n43/147. Alt-J__Intro.txt is finished.\n44/147. Alt-J__Arrival_in_Nara.txt is finished.\n45/147. Alt-J__Nara.txt is finished.\n46/147. Alt-J__Every_Other_Freckle.txt is finished.\n",
     "output_type": "stream"
    },
    {
     "output_type": "error",
     "ename": "AttributeError",
     "evalue": "'NoneType' object has no attribute 'text'",
     "traceback": [
      "\u001b[0;31m---------------------------------------------------------------------------\u001b[0m",
      "\u001b[0;31mAttributeError\u001b[0m                            Traceback (most recent call last)",
      "\u001b[0;32m/tmp/ipykernel_109/1642895495.py\u001b[0m in \u001b[0;36m<module>\u001b[0;34m\u001b[0m\n\u001b[1;32m     24\u001b[0m \u001b[0;34m\u001b[0m\u001b[0m\n\u001b[1;32m     25\u001b[0m     \u001b[0;31m# Getting song name\u001b[0m\u001b[0;34m\u001b[0m\u001b[0;34m\u001b[0m\u001b[0;34m\u001b[0m\u001b[0m\n\u001b[0;32m---> 26\u001b[0;31m     \u001b[0mlyric_name\u001b[0m \u001b[0;34m=\u001b[0m \u001b[0mlyric\u001b[0m\u001b[0;34m.\u001b[0m\u001b[0mfind\u001b[0m\u001b[0;34m(\u001b[0m\u001b[0;34m\"h1\"\u001b[0m\u001b[0;34m,\u001b[0m \u001b[0mattrs\u001b[0m\u001b[0;34m=\u001b[0m\u001b[0;34m{\u001b[0m\u001b[0;34m\"id\"\u001b[0m\u001b[0;34m:\u001b[0m\u001b[0;34m\"lyric-title-text\"\u001b[0m\u001b[0;34m}\u001b[0m\u001b[0;34m)\u001b[0m\u001b[0;34m.\u001b[0m\u001b[0mtext\u001b[0m\u001b[0;34m\u001b[0m\u001b[0;34m\u001b[0m\u001b[0m\n\u001b[0m\u001b[1;32m     27\u001b[0m \u001b[0;34m\u001b[0m\u001b[0m\n\u001b[1;32m     28\u001b[0m     \u001b[0;31m# Getting lyric text\u001b[0m\u001b[0;34m\u001b[0m\u001b[0;34m\u001b[0m\u001b[0;34m\u001b[0m\u001b[0m\n",
      "\u001b[0;31mAttributeError\u001b[0m: 'NoneType' object has no attribute 'text'"
     ]
    }
   ],
   "execution_count": 68
  },
  {
   "cell_type": "code",
   "source": "lyric = BeautifulSoup(response.text, \"html.parser\")\n\nlyric_name = lyric.find(\"h1\", attrs={\"id\":\"lyric-title-text\"}).text\n\nlyric_text = lyric.find(\"pre\", attrs={\"id\":\"lyric-body-text\"}).text\n\nprint(lyric_name)\nprint(f\"by {artist_name}\")\nprint(\"=====================\")\nprint(lyric_text)",
   "metadata": {
    "tags": [],
    "cell_id": "00006-93e24a23-32f2-4a65-9b3b-a3129dd86059",
    "deepnote_to_be_reexecuted": false,
    "source_hash": "f173a3ba",
    "execution_start": 1632783644435,
    "execution_millis": 23,
    "deepnote_cell_type": "code"
   },
   "outputs": [
    {
     "name": "stdout",
     "text": "3WW\nby Alt-J\n=====================\nThere was a wayward lad\nStepped out one morning\nThe ground to be his bed\nThe sky his awning\n\nNeon, neon, neon\nA blue neon lamp in a midnight country field\nCan't surround so you lean on, lean on\nSo much your heart's become fond of this\n\nOh, these three worn words\nOh, let me whisper like the rubbing hands\nOf tourists in Verona\nI just want to love you in my own language\n\nWell, that smell of sex\nGood like burning wood\nThe wayward lad laid claim\nTo two thirsty girls from Hornsea\nWho left a note when morning came\n\nGirls from the pool say \"Hi\" (hi)\nThe road erodes at five feet per year\nAlong England's east coastline\nWas this your first time?\nLove is just a button we pressed\nLast night by the campfire\n\nOh, these three worn words\nOh, that we whisper like the rubbing hands\nOf tourists in Verona\nI just want to love you in my own language\n",
     "output_type": "stream"
    }
   ],
   "execution_count": 53
  },
  {
   "cell_type": "code",
   "source": "# Writing down the file\n\nfolder_name = \"data/\"\nfile_name = \"_\".join(artist_name.split(\" \")) + \"__\" + \"_\".join(lyric_name.split(\" \")) + \".txt\"\n\n# print(lyric_text)\n\nwith open(folder_name + file_name, \"w\") as f:\n    f.write(lyric_text)",
   "metadata": {
    "tags": [],
    "cell_id": "00007-ea01237d-b533-49f6-af13-55724d92ba6e",
    "deepnote_to_be_reexecuted": false,
    "source_hash": "7673d66b",
    "execution_start": 1632784240696,
    "execution_millis": 2,
    "deepnote_cell_type": "code"
   },
   "outputs": [],
   "execution_count": 58
  },
  {
   "cell_type": "markdown",
   "source": "<a style='text-decoration:none;line-height:16px;display:flex;color:#5B5B62;padding:10px;justify-content:end;' href='https://deepnote.com?utm_source=created-in-deepnote-cell&projectId=cfd8b0ae-bede-4fbf-8370-46f1acdfcc89' target=\"_blank\">\n<img alt='Created in deepnote.com' style='display:inline;max-height:16px;margin:0px;margin-right:7.5px;' src='data:image/svg+xml;base64,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' > </img>\nCreated in <span style='font-weight:600;margin-left:4px;'>Deepnote</span></a>",
   "metadata": {
    "tags": [],
    "created_in_deepnote_cell": true,
    "deepnote_cell_type": "markdown"
   }
  }
 ],
 "nbformat": 4,
 "nbformat_minor": 2,
 "metadata": {
  "orig_nbformat": 2,
  "deepnote": {
   "is_reactive": false
  },
  "deepnote_notebook_id": "94660870-ea27-4af8-97bd-9dba7fea297c",
  "deepnote_execution_queue": []
 }
}