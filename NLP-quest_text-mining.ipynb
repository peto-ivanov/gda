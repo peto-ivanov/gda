{
 "cells": [
  {
   "cell_type": "markdown",
   "source": "# NLP 1 - Intro to text mining &amp; Natural Language Processing",
   "metadata": {
    "tags": [],
    "is_collapsed": false,
    "cell_id": "00000-1ae8c157-3460-4713-b2b7-fb27d6361c28",
    "deepnote_cell_type": "text-cell-h1"
   }
  },
  {
   "cell_type": "markdown",
   "source": "* Import NLTK and download the features you'll need (as you go along if necessary).",
   "metadata": {
    "tags": [],
    "cell_id": "00001-ca5f4240-8d38-44db-9e36-40e7462b5a50",
    "deepnote_cell_type": "markdown"
   }
  },
  {
   "cell_type": "code",
   "metadata": {
    "tags": [],
    "cell_id": "00000-9727cbd7-87e7-4fa0-acae-80b1426149bd",
    "deepnote_to_be_reexecuted": false,
    "source_hash": "3ca143e5",
    "execution_start": 1632857946488,
    "execution_millis": 7,
    "deepnote_cell_type": "code"
   },
   "source": "import re\nimport matplotlib.pyplot as plt\n\nimport nltk\nfrom nltk.probability import FreqDist\n\nnltk.download('punkt')",
   "outputs": [
    {
     "name": "stderr",
     "text": "[nltk_data] Downloading package punkt to /root/nltk_data...\n[nltk_data]   Package punkt is already up-to-date!\n",
     "output_type": "stream"
    },
    {
     "output_type": "execute_result",
     "execution_count": 14,
     "data": {
      "text/plain": "True"
     },
     "metadata": {}
    }
   ],
   "execution_count": 14
  },
  {
   "cell_type": "markdown",
   "source": "* Retrieve the text of a press article of your choice from the internet (in English it will be simpler, but you can take the language of your choice). Assign it to a variable via copy/paste. For the rest of this quest, we advise you to take a text that is between 10 and 30 lines long. ",
   "metadata": {
    "tags": [],
    "cell_id": "00003-04e96c8a-1bcb-4ac5-8f59-2458e81a892b",
    "deepnote_cell_type": "markdown"
   }
  },
  {
   "cell_type": "code",
   "metadata": {
    "tags": [],
    "cell_id": "00001-3b7a79f9-e084-48c0-aa80-a4d97ccda20d",
    "deepnote_to_be_reexecuted": false,
    "source_hash": "eb090825",
    "execution_start": 1632856961800,
    "execution_millis": 16,
    "deepnote_cell_type": "code"
   },
   "source": "# Longer text taken from:\n# https://edition.cnn.com/2021/09/27/health/us-coronavirus-monday/index.html\ntext = 'The daily pace of new Covid-19 vaccinations in the United States is the lowest it has been since the Centers for Disease Control and Prevention started tracking it in mid-January, data shows.\\nThe seven-day average rate of people getting their first shot is 231,695, 31% less than last week, almost half -- 47% -- less than a month earlier -- and a far cry from the millions a day the country saw in April.\\nIt\\'s not that there\\'s now a lack of people who are not immunized: Sixteen states have yet to vaccinate more than half of their residents, according to the CDC data, and almost 25% of the eligible population -- about 70 million people -- are not vaccinated.\\n\\nJust over 55% of the total US population is fully vaccinated. The number of people eligible to get a vaccine may soon be widening, though, and could boost the overall number.\\n\\nPfizer/BioNTech plans to ask soon for authorization of a Covid-19 vaccine for some children under 12, bringing the US one step closer to offering protection to a population that has grown particularly vulnerable as the fall season gets underway.\\n\"It is a question of days, not weeks,\" Pfizer Chairman and CEO Albert Bourla told ABC News on Sunday about when the company will submit data on children ages 5 to 11 to the US Food and Drug Administration for consideration.\\n\\nDr. Rochelle Walensky, director of the CDC, said on ABC\\'s \"Good Morning America\" on Monday that the CDC will review data on vaccines for 5- to 11-year-olds with urgency.\\n\"We are all enthusiastically awaiting these data,\" Walensky said, when asked how soon authorization and shots for kids could be seen after Pfizer submits its data.'\n\nprint(text)",
   "outputs": [
    {
     "name": "stdout",
     "text": "The daily pace of new Covid-19 vaccinations in the United States is the lowest it has been since the Centers for Disease Control and Prevention started tracking it in mid-January, data shows.\nThe seven-day average rate of people getting their first shot is 231,695, 31% less than last week, almost half -- 47% -- less than a month earlier -- and a far cry from the millions a day the country saw in April.\nIt's not that there's now a lack of people who are not immunized: Sixteen states have yet to vaccinate more than half of their residents, according to the CDC data, and almost 25% of the eligible population -- about 70 million people -- are not vaccinated.\n\nJust over 55% of the total US population is fully vaccinated. The number of people eligible to get a vaccine may soon be widening, though, and could boost the overall number.\n\nPfizer/BioNTech plans to ask soon for authorization of a Covid-19 vaccine for some children under 12, bringing the US one step closer to offering protection to a population that has grown particularly vulnerable as the fall season gets underway.\n\"It is a question of days, not weeks,\" Pfizer Chairman and CEO Albert Bourla told ABC News on Sunday about when the company will submit data on children ages 5 to 11 to the US Food and Drug Administration for consideration.\n\nDr. Rochelle Walensky, director of the CDC, said on ABC's \"Good Morning America\" on Monday that the CDC will review data on vaccines for 5- to 11-year-olds with urgency.\n\"We are all enthusiastically awaiting these data,\" Walensky said, when asked how soon authorization and shots for kids could be seen after Pfizer submits its data.\n",
     "output_type": "stream"
    }
   ],
   "execution_count": 2
  },
  {
   "cell_type": "markdown",
   "source": "* Transform your text into __sentence__ tokens",
   "metadata": {
    "tags": [],
    "cell_id": "00005-ea91e905-5b83-4de3-bf35-0b15b6c23aa0",
    "deepnote_cell_type": "markdown"
   }
  },
  {
   "cell_type": "code",
   "metadata": {
    "tags": [],
    "cell_id": "00006-7a230d48-3744-41c9-b7fb-2323d45b7e1e",
    "deepnote_to_be_reexecuted": false,
    "source_hash": "ae3e7cd9",
    "execution_start": 1632856961810,
    "execution_millis": 74,
    "deepnote_cell_type": "code"
   },
   "source": "# Tokenizing to sentence tokens\nnltk.sent_tokenize(text)",
   "outputs": [
    {
     "output_type": "execute_result",
     "execution_count": 3,
     "data": {
      "text/plain": "['The daily pace of new Covid-19 vaccinations in the United States is the lowest it has been since the Centers for Disease Control and Prevention started tracking it in mid-January, data shows.',\n 'The seven-day average rate of people getting their first shot is 231,695, 31% less than last week, almost half -- 47% -- less than a month earlier -- and a far cry from the millions a day the country saw in April.',\n \"It's not that there's now a lack of people who are not immunized: Sixteen states have yet to vaccinate more than half of their residents, according to the CDC data, and almost 25% of the eligible population -- about 70 million people -- are not vaccinated.\",\n 'Just over 55% of the total US population is fully vaccinated.',\n 'The number of people eligible to get a vaccine may soon be widening, though, and could boost the overall number.',\n 'Pfizer/BioNTech plans to ask soon for authorization of a Covid-19 vaccine for some children under 12, bringing the US one step closer to offering protection to a population that has grown particularly vulnerable as the fall season gets underway.',\n '\"It is a question of days, not weeks,\" Pfizer Chairman and CEO Albert Bourla told ABC News on Sunday about when the company will submit data on children ages 5 to 11 to the US Food and Drug Administration for consideration.',\n 'Dr. Rochelle Walensky, director of the CDC, said on ABC\\'s \"Good Morning America\" on Monday that the CDC will review data on vaccines for 5- to 11-year-olds with urgency.',\n '\"We are all enthusiastically awaiting these data,\" Walensky said, when asked how soon authorization and shots for kids could be seen after Pfizer submits its data.']"
     },
     "metadata": {}
    }
   ],
   "execution_count": 3
  },
  {
   "cell_type": "markdown",
   "source": "* Transform your text into word tokens",
   "metadata": {
    "tags": [],
    "cell_id": "00007-df10e9ed-a6e6-426a-8542-3f908fb3a0eb",
    "deepnote_cell_type": "markdown"
   }
  },
  {
   "cell_type": "code",
   "metadata": {
    "tags": [],
    "cell_id": "00008-2f21b41d-00b9-4f1d-9cac-294840601640",
    "deepnote_to_be_reexecuted": false,
    "source_hash": "de411e0b",
    "execution_start": 1632856961844,
    "execution_millis": 56,
    "deepnote_cell_type": "code"
   },
   "source": "nltk.word_tokenize(text)",
   "outputs": [
    {
     "output_type": "execute_result",
     "execution_count": 4,
     "data": {
      "text/plain": "['The',\n 'daily',\n 'pace',\n 'of',\n 'new',\n 'Covid-19',\n 'vaccinations',\n 'in',\n 'the',\n 'United',\n 'States',\n 'is',\n 'the',\n 'lowest',\n 'it',\n 'has',\n 'been',\n 'since',\n 'the',\n 'Centers',\n 'for',\n 'Disease',\n 'Control',\n 'and',\n 'Prevention',\n 'started',\n 'tracking',\n 'it',\n 'in',\n 'mid-January',\n ',',\n 'data',\n 'shows',\n '.',\n 'The',\n 'seven-day',\n 'average',\n 'rate',\n 'of',\n 'people',\n 'getting',\n 'their',\n 'first',\n 'shot',\n 'is',\n '231,695',\n ',',\n '31',\n '%',\n 'less',\n 'than',\n 'last',\n 'week',\n ',',\n 'almost',\n 'half',\n '--',\n '47',\n '%',\n '--',\n 'less',\n 'than',\n 'a',\n 'month',\n 'earlier',\n '--',\n 'and',\n 'a',\n 'far',\n 'cry',\n 'from',\n 'the',\n 'millions',\n 'a',\n 'day',\n 'the',\n 'country',\n 'saw',\n 'in',\n 'April',\n '.',\n 'It',\n \"'s\",\n 'not',\n 'that',\n 'there',\n \"'s\",\n 'now',\n 'a',\n 'lack',\n 'of',\n 'people',\n 'who',\n 'are',\n 'not',\n 'immunized',\n ':',\n 'Sixteen',\n 'states',\n 'have',\n 'yet',\n 'to',\n 'vaccinate',\n 'more',\n 'than',\n 'half',\n 'of',\n 'their',\n 'residents',\n ',',\n 'according',\n 'to',\n 'the',\n 'CDC',\n 'data',\n ',',\n 'and',\n 'almost',\n '25',\n '%',\n 'of',\n 'the',\n 'eligible',\n 'population',\n '--',\n 'about',\n '70',\n 'million',\n 'people',\n '--',\n 'are',\n 'not',\n 'vaccinated',\n '.',\n 'Just',\n 'over',\n '55',\n '%',\n 'of',\n 'the',\n 'total',\n 'US',\n 'population',\n 'is',\n 'fully',\n 'vaccinated',\n '.',\n 'The',\n 'number',\n 'of',\n 'people',\n 'eligible',\n 'to',\n 'get',\n 'a',\n 'vaccine',\n 'may',\n 'soon',\n 'be',\n 'widening',\n ',',\n 'though',\n ',',\n 'and',\n 'could',\n 'boost',\n 'the',\n 'overall',\n 'number',\n '.',\n 'Pfizer/BioNTech',\n 'plans',\n 'to',\n 'ask',\n 'soon',\n 'for',\n 'authorization',\n 'of',\n 'a',\n 'Covid-19',\n 'vaccine',\n 'for',\n 'some',\n 'children',\n 'under',\n '12',\n ',',\n 'bringing',\n 'the',\n 'US',\n 'one',\n 'step',\n 'closer',\n 'to',\n 'offering',\n 'protection',\n 'to',\n 'a',\n 'population',\n 'that',\n 'has',\n 'grown',\n 'particularly',\n 'vulnerable',\n 'as',\n 'the',\n 'fall',\n 'season',\n 'gets',\n 'underway',\n '.',\n '``',\n 'It',\n 'is',\n 'a',\n 'question',\n 'of',\n 'days',\n ',',\n 'not',\n 'weeks',\n ',',\n \"''\",\n 'Pfizer',\n 'Chairman',\n 'and',\n 'CEO',\n 'Albert',\n 'Bourla',\n 'told',\n 'ABC',\n 'News',\n 'on',\n 'Sunday',\n 'about',\n 'when',\n 'the',\n 'company',\n 'will',\n 'submit',\n 'data',\n 'on',\n 'children',\n 'ages',\n '5',\n 'to',\n '11',\n 'to',\n 'the',\n 'US',\n 'Food',\n 'and',\n 'Drug',\n 'Administration',\n 'for',\n 'consideration',\n '.',\n 'Dr.',\n 'Rochelle',\n 'Walensky',\n ',',\n 'director',\n 'of',\n 'the',\n 'CDC',\n ',',\n 'said',\n 'on',\n 'ABC',\n \"'s\",\n '``',\n 'Good',\n 'Morning',\n 'America',\n \"''\",\n 'on',\n 'Monday',\n 'that',\n 'the',\n 'CDC',\n 'will',\n 'review',\n 'data',\n 'on',\n 'vaccines',\n 'for',\n '5-',\n 'to',\n '11-year-olds',\n 'with',\n 'urgency',\n '.',\n '``',\n 'We',\n 'are',\n 'all',\n 'enthusiastically',\n 'awaiting',\n 'these',\n 'data',\n ',',\n \"''\",\n 'Walensky',\n 'said',\n ',',\n 'when',\n 'asked',\n 'how',\n 'soon',\n 'authorization',\n 'and',\n 'shots',\n 'for',\n 'kids',\n 'could',\n 'be',\n 'seen',\n 'after',\n 'Pfizer',\n 'submits',\n 'its',\n 'data',\n '.']"
     },
     "metadata": {}
    }
   ],
   "execution_count": 4
  },
  {
   "cell_type": "markdown",
   "source": "* Count how often each word appears and make a graph (if possible a bar chart) that represents the 20 most common words in your text. Are there many words that seem like stopwords to you?",
   "metadata": {
    "tags": [],
    "cell_id": "00009-848cca3e-58d0-4551-82f4-66007b37e4bc",
    "deepnote_cell_type": "markdown"
   }
  },
  {
   "cell_type": "code",
   "metadata": {
    "tags": [],
    "cell_id": "00010-92dd3532-5948-4240-ba71-7c22c322969d",
    "deepnote_to_be_reexecuted": false,
    "source_hash": "763d28a",
    "execution_start": 1632856989030,
    "execution_millis": 411,
    "deepnote_cell_type": "code"
   },
   "source": "# We'll build frequency distribution\nfq = FreqDist(word.lower() for word in nltk.word_tokenize(text))\n\nfq.plot(20)",
   "outputs": [
    {
     "data": {
      "text/plain": "<Figure size 432x288 with 1 Axes>",
      "image/png": "[encoded data removed]"
     },
     "metadata": {
      "needs_background": "light",
      "image/png": {
       "width": 382,
       "height": 286
      }
     },
     "output_type": "display_data"
    },
    {
     "output_type": "execute_result",
     "execution_count": 6,
     "data": {
      "text/plain": "<AxesSubplot:xlabel='Samples', ylabel='Counts'>"
     },
     "metadata": {}
    }
   ],
   "execution_count": 6
  },
  {
   "cell_type": "markdown",
   "source": "**Answer**: Yes, there are many _stopwords_ there.",
   "metadata": {
    "tags": [],
    "cell_id": "00011-a42d6d2f-f9a9-4edf-b343-2d0c9428ea43",
    "deepnote_cell_type": "markdown"
   }
  },
  {
   "cell_type": "markdown",
   "source": "* Remove the stopwords and the punctuation, and look again at which words are the most present. Again, make the same graph for comparison.",
   "metadata": {
    "tags": [],
    "cell_id": "00012-7e21d911-0d81-47fb-926b-e1176d2cd70b",
    "deepnote_cell_type": "markdown"
   }
  },
  {
   "cell_type": "code",
   "metadata": {
    "tags": [],
    "cell_id": "00014-ad0ed56e-0246-4624-8c5c-a7b3ae345e81",
    "deepnote_to_be_reexecuted": false,
    "source_hash": "1bb9f078",
    "execution_start": 1632857427469,
    "execution_millis": 14,
    "deepnote_cell_type": "code"
   },
   "source": "# This is how you download stopwords corpus\nnltk.download(\"stopwords\")\n\nnltk.corpus.stopwords.words(\"english\")",
   "outputs": [
    {
     "name": "stderr",
     "text": "[nltk_data] Downloading package stopwords to /root/nltk_data...\n[nltk_data]   Package stopwords is already up-to-date!\n",
     "output_type": "stream"
    },
    {
     "output_type": "execute_result",
     "execution_count": 12,
     "data": {
      "text/plain": "['i',\n 'me',\n 'my',\n 'myself',\n 'we',\n 'our',\n 'ours',\n 'ourselves',\n 'you',\n \"you're\",\n \"you've\",\n \"you'll\",\n \"you'd\",\n 'your',\n 'yours',\n 'yourself',\n 'yourselves',\n 'he',\n 'him',\n 'his',\n 'himself',\n 'she',\n \"she's\",\n 'her',\n 'hers',\n 'herself',\n 'it',\n \"it's\",\n 'its',\n 'itself',\n 'they',\n 'them',\n 'their',\n 'theirs',\n 'themselves',\n 'what',\n 'which',\n 'who',\n 'whom',\n 'this',\n 'that',\n \"that'll\",\n 'these',\n 'those',\n 'am',\n 'is',\n 'are',\n 'was',\n 'were',\n 'be',\n 'been',\n 'being',\n 'have',\n 'has',\n 'had',\n 'having',\n 'do',\n 'does',\n 'did',\n 'doing',\n 'a',\n 'an',\n 'the',\n 'and',\n 'but',\n 'if',\n 'or',\n 'because',\n 'as',\n 'until',\n 'while',\n 'of',\n 'at',\n 'by',\n 'for',\n 'with',\n 'about',\n 'against',\n 'between',\n 'into',\n 'through',\n 'during',\n 'before',\n 'after',\n 'above',\n 'below',\n 'to',\n 'from',\n 'up',\n 'down',\n 'in',\n 'out',\n 'on',\n 'off',\n 'over',\n 'under',\n 'again',\n 'further',\n 'then',\n 'once',\n 'here',\n 'there',\n 'when',\n 'where',\n 'why',\n 'how',\n 'all',\n 'any',\n 'both',\n 'each',\n 'few',\n 'more',\n 'most',\n 'other',\n 'some',\n 'such',\n 'no',\n 'nor',\n 'not',\n 'only',\n 'own',\n 'same',\n 'so',\n 'than',\n 'too',\n 'very',\n 's',\n 't',\n 'can',\n 'will',\n 'just',\n 'don',\n \"don't\",\n 'should',\n \"should've\",\n 'now',\n 'd',\n 'll',\n 'm',\n 'o',\n 're',\n 've',\n 'y',\n 'ain',\n 'aren',\n \"aren't\",\n 'couldn',\n \"couldn't\",\n 'didn',\n \"didn't\",\n 'doesn',\n \"doesn't\",\n 'hadn',\n \"hadn't\",\n 'hasn',\n \"hasn't\",\n 'haven',\n \"haven't\",\n 'isn',\n \"isn't\",\n 'ma',\n 'mightn',\n \"mightn't\",\n 'mustn',\n \"mustn't\",\n 'needn',\n \"needn't\",\n 'shan',\n \"shan't\",\n 'shouldn',\n \"shouldn't\",\n 'wasn',\n \"wasn't\",\n 'weren',\n \"weren't\",\n 'won',\n \"won't\",\n 'wouldn',\n \"wouldn't\"]"
     },
     "metadata": {}
    }
   ],
   "execution_count": 12
  },
  {
   "cell_type": "code",
   "metadata": {
    "tags": [],
    "cell_id": "00012-3bc3766d-4fcf-4965-b2d6-83720fcb1d3c",
    "deepnote_to_be_reexecuted": false,
    "source_hash": "af8b6e29",
    "execution_start": 1632858646476,
    "execution_millis": 58,
    "deepnote_cell_type": "code"
   },
   "source": "# Removing stopwords\ntext_words = [word.lower() for word in nltk.word_tokenize(text) if word.lower() not in nltk.corpus.stopwords.words(\"english\")]\n\nprint(\"Stopwords removed:\")\nprint(text_words)\n\n# Removing punctuation using regex search\n# pattern \"^\\W+$\" = string composed of one or more non-word characters\n#   - non-word characters are anything other than a letter, digit or underscore\ntext_words = [word for word in text_words if not(re.match(\"^\\W+$\", word))]\n\nprint(\"\\nPunctuation removed:\")\nprint(text_words)",
   "outputs": [
    {
     "name": "stdout",
     "text": "Stopwords removed:\n['daily', 'pace', 'new', 'covid-19', 'vaccinations', 'united', 'states', 'lowest', 'since', 'centers', 'disease', 'control', 'prevention', 'started', 'tracking', 'mid-january', ',', 'data', 'shows', '.', 'seven-day', 'average', 'rate', 'people', 'getting', 'first', 'shot', '231,695', ',', '31', '%', 'less', 'last', 'week', ',', 'almost', 'half', '--', '47', '%', '--', 'less', 'month', 'earlier', '--', 'far', 'cry', 'millions', 'day', 'country', 'saw', 'april', '.', \"'s\", \"'s\", 'lack', 'people', 'immunized', ':', 'sixteen', 'states', 'yet', 'vaccinate', 'half', 'residents', ',', 'according', 'cdc', 'data', ',', 'almost', '25', '%', 'eligible', 'population', '--', '70', 'million', 'people', '--', 'vaccinated', '.', '55', '%', 'total', 'us', 'population', 'fully', 'vaccinated', '.', 'number', 'people', 'eligible', 'get', 'vaccine', 'may', 'soon', 'widening', ',', 'though', ',', 'could', 'boost', 'overall', 'number', '.', 'pfizer/biontech', 'plans', 'ask', 'soon', 'authorization', 'covid-19', 'vaccine', 'children', '12', ',', 'bringing', 'us', 'one', 'step', 'closer', 'offering', 'protection', 'population', 'grown', 'particularly', 'vulnerable', 'fall', 'season', 'gets', 'underway', '.', '``', 'question', 'days', ',', 'weeks', ',', \"''\", 'pfizer', 'chairman', 'ceo', 'albert', 'bourla', 'told', 'abc', 'news', 'sunday', 'company', 'submit', 'data', 'children', 'ages', '5', '11', 'us', 'food', 'drug', 'administration', 'consideration', '.', 'dr.', 'rochelle', 'walensky', ',', 'director', 'cdc', ',', 'said', 'abc', \"'s\", '``', 'good', 'morning', 'america', \"''\", 'monday', 'cdc', 'review', 'data', 'vaccines', '5-', '11-year-olds', 'urgency', '.', '``', 'enthusiastically', 'awaiting', 'data', ',', \"''\", 'walensky', 'said', ',', 'asked', 'soon', 'authorization', 'shots', 'kids', 'could', 'seen', 'pfizer', 'submits', 'data', '.']\n\nPunctuation removed:\n['daily', 'pace', 'new', 'covid-19', 'vaccinations', 'united', 'states', 'lowest', 'since', 'centers', 'disease', 'control', 'prevention', 'started', 'tracking', 'mid-january', 'data', 'shows', 'seven-day', 'average', 'rate', 'people', 'getting', 'first', 'shot', '231,695', '31', 'less', 'last', 'week', 'almost', 'half', '47', 'less', 'month', 'earlier', 'far', 'cry', 'millions', 'day', 'country', 'saw', 'april', \"'s\", \"'s\", 'lack', 'people', 'immunized', 'sixteen', 'states', 'yet', 'vaccinate', 'half', 'residents', 'according', 'cdc', 'data', 'almost', '25', 'eligible', 'population', '70', 'million', 'people', 'vaccinated', '55', 'total', 'us', 'population', 'fully', 'vaccinated', 'number', 'people', 'eligible', 'get', 'vaccine', 'may', 'soon', 'widening', 'though', 'could', 'boost', 'overall', 'number', 'pfizer/biontech', 'plans', 'ask', 'soon', 'authorization', 'covid-19', 'vaccine', 'children', '12', 'bringing', 'us', 'one', 'step', 'closer', 'offering', 'protection', 'population', 'grown', 'particularly', 'vulnerable', 'fall', 'season', 'gets', 'underway', 'question', 'days', 'weeks', 'pfizer', 'chairman', 'ceo', 'albert', 'bourla', 'told', 'abc', 'news', 'sunday', 'company', 'submit', 'data', 'children', 'ages', '5', '11', 'us', 'food', 'drug', 'administration', 'consideration', 'dr.', 'rochelle', 'walensky', 'director', 'cdc', 'said', 'abc', \"'s\", 'good', 'morning', 'america', 'monday', 'cdc', 'review', 'data', 'vaccines', '5-', '11-year-olds', 'urgency', 'enthusiastically', 'awaiting', 'data', 'walensky', 'said', 'asked', 'soon', 'authorization', 'shots', 'kids', 'could', 'seen', 'pfizer', 'submits', 'data']\n",
     "output_type": "stream"
    }
   ],
   "execution_count": 22
  },
  {
   "cell_type": "code",
   "metadata": {
    "tags": [],
    "cell_id": "00015-fe06f2e3-4eff-42d5-952d-95fa5194ce4d",
    "deepnote_to_be_reexecuted": false,
    "source_hash": "c6867e8f",
    "execution_start": 1632858719776,
    "execution_millis": 476,
    "deepnote_cell_type": "code"
   },
   "source": "# Getting new frequency distribution\nfq = FreqDist(word for word in text_words)\n\nfq.plot(20)",
   "outputs": [
    {
     "data": {
      "text/plain": "<Figure size 432x288 with 1 Axes>",
      "image/png": "[encoded data removed]"
     },
     "metadata": {
      "needs_background": "light",
      "image/png": {
       "width": 386,
       "height": 318
      }
     },
     "output_type": "display_data"
    },
    {
     "output_type": "execute_result",
     "execution_count": 23,
     "data": {
      "text/plain": "<AxesSubplot:xlabel='Samples', ylabel='Counts'>"
     },
     "metadata": {}
    }
   ],
   "execution_count": 23
  },
  {
   "cell_type": "markdown",
   "source": "<a style='text-decoration:none;line-height:16px;display:flex;color:#5B5B62;padding:10px;justify-content:end;' href='https://deepnote.com?utm_source=created-in-deepnote-cell&projectId=cfd8b0ae-bede-4fbf-8370-46f1acdfcc89' target=\"_blank\">\n<img alt='Created in deepnote.com' style='display:inline;max-height:16px;margin:0px;margin-right:7.5px;' src='data:image/svg+xml;base64,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' > </img>\nCreated in <span style='font-weight:600;margin-left:4px;'>Deepnote</span></a>",
   "metadata": {
    "tags": [],
    "created_in_deepnote_cell": true,
    "deepnote_cell_type": "markdown"
   }
  }
 ],
 "nbformat": 4,
 "nbformat_minor": 2,
 "metadata": {
  "orig_nbformat": 2,
  "deepnote": {
   "is_reactive": false
  },
  "deepnote_notebook_id": "12be1e8e-513c-47eb-a250-b441540adc90",
  "deepnote_execution_queue": []
 }
}