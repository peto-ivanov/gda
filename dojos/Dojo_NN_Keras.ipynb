{
 "cells": [
  {
   "cell_type": "markdown",
   "source": "## Preparation",
   "metadata": {
    "id": "DQPbhutEGd4F",
    "cell_id": "00000-e8e81e9b-9b39-4f78-bfb0-005099b0c23e",
    "deepnote_cell_type": "markdown"
   }
  },
  {
   "cell_type": "markdown",
   "source": "Loading the dataset about breast cancer:\n\n\n*   radius (mean of distances from center to points on the perimeter)\n*   texture (standard deviation of gray-scale values)\n\n* perimeter\n\n* area\n\n* smoothness (local variation in radius lengths)\n\n* compactness (perimeter^2 / area - 1.0)\n\n* concavity (severity of concave portions of the contour)\n\n* concave points (number of concave portions of the contour)\n\n* symmetry\n\n* fractal dimension (“coastline approximation” - 1)\n\nFeatures are computed from a digitized image of a fine needle aspirate (FNA) of a breast mass. They describe characteristics of the cell nuclei present in the image.\n\n",
   "metadata": {
    "id": "m7tA7ZIuGhsP",
    "cell_id": "00001-8e8f5aca-9089-49b0-8d5d-e8bc888f8858",
    "deepnote_cell_type": "markdown"
   }
  },
  {
   "cell_type": "code",
   "metadata": {
    "id": "utxOpPt7Gj5t",
    "cell_id": "00002-292caddb-2aeb-453b-a22a-cd5d8be48690",
    "deepnote_to_be_reexecuted": false,
    "source_hash": "3afeee77",
    "execution_start": 1636101182974,
    "execution_millis": 1917,
    "deepnote_cell_type": "code"
   },
   "source": "import numpy as np\nimport pandas as pd\nimport matplotlib.pyplot as plt\nimport seaborn as sns\nsns.set_style(\"whitegrid\")\nimport warnings\nwarnings.simplefilter(action=\"ignore\")",
   "outputs": [],
   "execution_count": 1
  },
  {
   "cell_type": "code",
   "metadata": {
    "id": "ecnfoEAeGktv",
    "colab": {
     "base_uri": "https://localhost:8080/",
     "height": 213
    },
    "outputId": "72af4575-354d-46dd-f9f6-c2a4d3b35d41",
    "cell_id": "00003-15382135-7c4b-4926-9279-e6dd4fb44eac",
    "deepnote_to_be_reexecuted": false,
    "source_hash": "f712c6c",
    "execution_start": 1636101190029,
    "execution_millis": 472,
    "deepnote_cell_type": "code"
   },
   "source": "from sklearn.datasets import load_breast_cancer\n\ncancer = load_breast_cancer()\n\ndf = pd.DataFrame(np.c_[cancer['data'], cancer['target']],\n                            columns=np.append(cancer['feature_names'], ['target']))",
   "outputs": [],
   "execution_count": 2
  },
  {
   "cell_type": "code",
   "metadata": {
    "id": "q2ovzkD1HJvz",
    "colab": {
     "base_uri": "https://localhost:8080/",
     "height": 462
    },
    "outputId": "f409b977-b3a5-43a8-b2db-1f199a64c0d5",
    "cell_id": "00004-e6f0c559-6906-4519-a5a7-b689604c8a8a",
    "deepnote_to_be_reexecuted": false,
    "source_hash": "f804c160",
    "execution_start": 1636101195041,
    "execution_millis": 124,
    "deepnote_cell_type": "code"
   },
   "source": "df",
   "outputs": [
    {
     "output_type": "execute_result",
     "execution_count": 3,
     "data": {
      "application/vnd.deepnote.dataframe.v2+json": {
       "row_count": 569,
       "column_count": 31,
       "columns": [
        {
         "name": "mean radius",
         "dtype": "float64",
         "stats": {
          "unique_count": 456,
          "nan_count": 0,
          "min": "6.981",
          "max": "28.11",
          "histogram": [
           {
            "bin_start": 6.981,
            "bin_end": 9.0939,
            "count": 19
           },
           {
            "bin_start": 9.0939,
            "bin_end": 11.2068,
            "count": 79
           },
           {
            "bin_start": 11.2068,
            "bin_end": 13.3197,
            "count": 185
           },
           {
            "bin_start": 13.3197,
            "bin_end": 15.432599999999999,
            "count": 129
           },
           {
            "bin_start": 15.432599999999999,
            "bin_end": 17.545499999999997,
            "count": 55
           },
           {
            "bin_start": 17.545499999999997,
            "bin_end": 19.6584,
            "count": 50
           },
           {
            "bin_start": 19.6584,
            "bin_end": 21.771299999999997,
            "count": 38
           },
           {
            "bin_start": 21.771299999999997,
            "bin_end": 23.8842,
            "count": 7
           },
           {
            "bin_start": 23.8842,
            "bin_end": 25.997099999999996,
            "count": 4
           },
           {
            "bin_start": 25.997099999999996,
            "bin_end": 28.11,
            "count": 3
           }
          ]
         }
        },
        {
         "name": "mean texture",
         "dtype": "float64",
         "stats": {
          "unique_count": 479,
          "nan_count": 0,
          "min": "9.71",
          "max": "39.28",
          "histogram": [
           {
            "bin_start": 9.71,
            "bin_end": 12.667000000000002,
            "count": 17
           },
           {
            "bin_start": 12.667000000000002,
            "bin_end": 15.624,
            "count": 96
           },
           {
            "bin_start": 15.624,
            "bin_end": 18.581,
            "count": 154
           },
           {
            "bin_start": 18.581,
            "bin_end": 21.538,
            "count": 145
           },
           {
            "bin_start": 21.538,
            "bin_end": 24.495,
            "count": 89
           },
           {
            "bin_start": 24.495,
            "bin_end": 27.451999999999998,
            "count": 40
           },
           {
            "bin_start": 27.451999999999998,
            "bin_end": 30.409,
            "count": 21
           },
           {
            "bin_start": 30.409,
            "bin_end": 33.366,
            "count": 4
           },
           {
            "bin_start": 33.366,
            "bin_end": 36.323,
            "count": 2
           },
           {
            "bin_start": 36.323,
            "bin_end": 39.28,
            "count": 1
           }
          ]
         }
        },
        {
         "name": "mean perimeter",
         "dtype": "float64",
         "stats": {
          "unique_count": 522,
          "nan_count": 0,
          "min": "43.79",
          "max": "188.5",
          "histogram": [
           {
            "bin_start": 43.79,
            "bin_end": 58.260999999999996,
            "count": 15
           },
           {
            "bin_start": 58.260999999999996,
            "bin_end": 72.732,
            "count": 93
           },
           {
            "bin_start": 72.732,
            "bin_end": 87.203,
            "count": 185
           },
           {
            "bin_start": 87.203,
            "bin_end": 101.674,
            "count": 116
           },
           {
            "bin_start": 101.674,
            "bin_end": 116.14500000000001,
            "count": 62
           },
           {
            "bin_start": 116.14500000000001,
            "bin_end": 130.61599999999999,
            "count": 49
           },
           {
            "bin_start": 130.61599999999999,
            "bin_end": 145.087,
            "count": 34
           },
           {
            "bin_start": 145.087,
            "bin_end": 159.558,
            "count": 8
           },
           {
            "bin_start": 159.558,
            "bin_end": 174.029,
            "count": 3
           },
           {
            "bin_start": 174.029,
            "bin_end": 188.5,
            "count": 4
           }
          ]
         }
        },
        {
         "name": "mean area",
         "dtype": "float64",
         "stats": {
          "unique_count": 539,
          "nan_count": 0,
          "min": "143.5",
          "max": "2501.0",
          "histogram": [
           {
            "bin_start": 143.5,
            "bin_end": 379.25,
            "count": 93
           },
           {
            "bin_start": 379.25,
            "bin_end": 615,
            "count": 251
           },
           {
            "bin_start": 615,
            "bin_end": 850.75,
            "count": 101
           },
           {
            "bin_start": 850.75,
            "bin_end": 1086.5,
            "count": 47
           },
           {
            "bin_start": 1086.5,
            "bin_end": 1322.25,
            "count": 51
           },
           {
            "bin_start": 1322.25,
            "bin_end": 1558,
            "count": 14
           },
           {
            "bin_start": 1558,
            "bin_end": 1793.75,
            "count": 6
           },
           {
            "bin_start": 1793.75,
            "bin_end": 2029.5,
            "count": 3
           },
           {
            "bin_start": 2029.5,
            "bin_end": 2265.25,
            "count": 1
           },
           {
            "bin_start": 2265.25,
            "bin_end": 2501,
            "count": 2
           }
          ]
         }
        },
        {
         "name": "mean smoothness",
         "dtype": "float64",
         "stats": {
          "unique_count": 474,
          "nan_count": 0,
          "min": "0.05263",
          "max": "0.1634",
          "histogram": [
           {
            "bin_start": 0.05263,
            "bin_end": 0.063707,
            "count": 2
           },
           {
            "bin_start": 0.063707,
            "bin_end": 0.074784,
            "count": 26
           },
           {
            "bin_start": 0.074784,
            "bin_end": 0.08586099999999999,
            "count": 110
           },
           {
            "bin_start": 0.08586099999999999,
            "bin_end": 0.096938,
            "count": 160
           },
           {
            "bin_start": 0.096938,
            "bin_end": 0.108015,
            "count": 164
           },
           {
            "bin_start": 0.108015,
            "bin_end": 0.119092,
            "count": 79
           },
           {
            "bin_start": 0.119092,
            "bin_end": 0.13016899999999998,
            "count": 20
           },
           {
            "bin_start": 0.13016899999999998,
            "bin_end": 0.14124599999999998,
            "count": 5
           },
           {
            "bin_start": 0.14124599999999998,
            "bin_end": 0.152323,
            "count": 2
           },
           {
            "bin_start": 0.152323,
            "bin_end": 0.1634,
            "count": 1
           }
          ]
         }
        },
        {
         "name": "mean compactness",
         "dtype": "float64",
         "stats": {
          "unique_count": 537,
          "nan_count": 0,
          "min": "0.01938",
          "max": "0.3454",
          "histogram": [
           {
            "bin_start": 0.01938,
            "bin_end": 0.051982,
            "count": 68
           },
           {
            "bin_start": 0.051982,
            "bin_end": 0.08458399999999999,
            "count": 182
           },
           {
            "bin_start": 0.08458399999999999,
            "bin_end": 0.11718600000000001,
            "count": 133
           },
           {
            "bin_start": 0.11718600000000001,
            "bin_end": 0.149788,
            "count": 87
           },
           {
            "bin_start": 0.149788,
            "bin_end": 0.18239,
            "count": 48
           },
           {
            "bin_start": 0.18239,
            "bin_end": 0.21499200000000002,
            "count": 26
           },
           {
            "bin_start": 0.21499200000000002,
            "bin_end": 0.247594,
            "count": 15
           },
           {
            "bin_start": 0.247594,
            "bin_end": 0.280196,
            "count": 5
           },
           {
            "bin_start": 0.280196,
            "bin_end": 0.312798,
            "count": 4
           },
           {
            "bin_start": 0.312798,
            "bin_end": 0.3454,
            "count": 1
           }
          ]
         }
        },
        {
         "name": "mean concavity",
         "dtype": "float64",
         "stats": {
          "unique_count": 537,
          "nan_count": 0,
          "min": "0.0",
          "max": "0.4268",
          "histogram": [
           {
            "bin_start": 0,
            "bin_end": 0.04268,
            "count": 217
           },
           {
            "bin_start": 0.04268,
            "bin_end": 0.08536,
            "count": 122
           },
           {
            "bin_start": 0.08536,
            "bin_end": 0.12804000000000001,
            "count": 86
           },
           {
            "bin_start": 0.12804000000000001,
            "bin_end": 0.17072,
            "count": 63
           },
           {
            "bin_start": 0.17072,
            "bin_end": 0.2134,
            "count": 34
           },
           {
            "bin_start": 0.2134,
            "bin_end": 0.25608000000000003,
            "count": 25
           },
           {
            "bin_start": 0.25608000000000003,
            "bin_end": 0.29876,
            "count": 6
           },
           {
            "bin_start": 0.29876,
            "bin_end": 0.34144,
            "count": 9
           },
           {
            "bin_start": 0.34144,
            "bin_end": 0.38412,
            "count": 4
           },
           {
            "bin_start": 0.38412,
            "bin_end": 0.4268,
            "count": 3
           }
          ]
         }
        },
        {
         "name": "mean concave points",
         "dtype": "float64",
         "stats": {
          "unique_count": 542,
          "nan_count": 0,
          "min": "0.0",
          "max": "0.2012",
          "histogram": [
           {
            "bin_start": 0,
            "bin_end": 0.02012,
            "count": 139
           },
           {
            "bin_start": 0.02012,
            "bin_end": 0.04024,
            "count": 174
           },
           {
            "bin_start": 0.04024,
            "bin_end": 0.06036,
            "count": 76
           },
           {
            "bin_start": 0.06036,
            "bin_end": 0.08048,
            "count": 57
           },
           {
            "bin_start": 0.08048,
            "bin_end": 0.1006,
            "count": 66
           },
           {
            "bin_start": 0.1006,
            "bin_end": 0.12072,
            "count": 23
           },
           {
            "bin_start": 0.12072,
            "bin_end": 0.14084,
            "count": 15
           },
           {
            "bin_start": 0.14084,
            "bin_end": 0.16096,
            "count": 12
           },
           {
            "bin_start": 0.16096,
            "bin_end": 0.18108,
            "count": 2
           },
           {
            "bin_start": 0.18108,
            "bin_end": 0.2012,
            "count": 5
           }
          ]
         }
        },
        {
         "name": "mean symmetry",
         "dtype": "float64",
         "stats": {
          "unique_count": 432,
          "nan_count": 0,
          "min": "0.106",
          "max": "0.304",
          "histogram": [
           {
            "bin_start": 0.106,
            "bin_end": 0.1258,
            "count": 5
           },
           {
            "bin_start": 0.1258,
            "bin_end": 0.1456,
            "count": 35
           },
           {
            "bin_start": 0.1456,
            "bin_end": 0.1654,
            "count": 133
           },
           {
            "bin_start": 0.1654,
            "bin_end": 0.1852,
            "count": 164
           },
           {
            "bin_start": 0.1852,
            "bin_end": 0.20500000000000002,
            "count": 136
           },
           {
            "bin_start": 0.20500000000000002,
            "bin_end": 0.2248,
            "count": 60
           },
           {
            "bin_start": 0.2248,
            "bin_end": 0.24459999999999998,
            "count": 21
           },
           {
            "bin_start": 0.24459999999999998,
            "bin_end": 0.2644,
            "count": 10
           },
           {
            "bin_start": 0.2644,
            "bin_end": 0.2842,
            "count": 3
           },
           {
            "bin_start": 0.2842,
            "bin_end": 0.304,
            "count": 2
           }
          ]
         }
        },
        {
         "name": "mean fractal dimension",
         "dtype": "float64",
         "stats": {
          "unique_count": 499,
          "nan_count": 0,
          "min": "0.04996",
          "max": "0.09744",
          "histogram": [
           {
            "bin_start": 0.04996,
            "bin_end": 0.054708,
            "count": 41
           },
           {
            "bin_start": 0.054708,
            "bin_end": 0.059455999999999995,
            "count": 160
           },
           {
            "bin_start": 0.059455999999999995,
            "bin_end": 0.064204,
            "count": 175
           },
           {
            "bin_start": 0.064204,
            "bin_end": 0.068952,
            "count": 101
           },
           {
            "bin_start": 0.068952,
            "bin_end": 0.0737,
            "count": 51
           },
           {
            "bin_start": 0.0737,
            "bin_end": 0.078448,
            "count": 25
           },
           {
            "bin_start": 0.078448,
            "bin_end": 0.08319599999999999,
            "count": 9
           },
           {
            "bin_start": 0.08319599999999999,
            "bin_end": 0.087944,
            "count": 2
           },
           {
            "bin_start": 0.087944,
            "bin_end": 0.092692,
            "count": 1
           },
           {
            "bin_start": 0.092692,
            "bin_end": 0.09744,
            "count": 4
           }
          ]
         }
        },
        {
         "name": "radius error",
         "dtype": "float64",
         "stats": {
          "unique_count": 540,
          "nan_count": 0,
          "min": "0.1115",
          "max": "2.873",
          "histogram": [
           {
            "bin_start": 0.1115,
            "bin_end": 0.38765,
            "count": 357
           },
           {
            "bin_start": 0.38765,
            "bin_end": 0.6638000000000001,
            "count": 137
           },
           {
            "bin_start": 0.6638000000000001,
            "bin_end": 0.9399500000000001,
            "count": 44
           },
           {
            "bin_start": 0.9399500000000001,
            "bin_end": 1.2161,
            "count": 24
           },
           {
            "bin_start": 1.2161,
            "bin_end": 1.4922499999999999,
            "count": 4
           },
           {
            "bin_start": 1.4922499999999999,
            "bin_end": 1.7684,
            "count": 1
           },
           {
            "bin_start": 1.7684,
            "bin_end": 2.04455,
            "count": 0
           },
           {
            "bin_start": 2.04455,
            "bin_end": 2.3207,
            "count": 0
           },
           {
            "bin_start": 2.3207,
            "bin_end": 2.59685,
            "count": 1
           },
           {
            "bin_start": 2.59685,
            "bin_end": 2.873,
            "count": 1
           }
          ]
         }
        },
        {
         "name": "texture error",
         "dtype": "float64",
         "stats": {
          "unique_count": 519,
          "nan_count": 0,
          "min": "0.3602",
          "max": "4.885",
          "histogram": [
           {
            "bin_start": 0.3602,
            "bin_end": 0.8126800000000001,
            "count": 129
           },
           {
            "bin_start": 0.8126800000000001,
            "bin_end": 1.26516,
            "count": 220
           },
           {
            "bin_start": 1.26516,
            "bin_end": 1.71764,
            "count": 136
           },
           {
            "bin_start": 1.71764,
            "bin_end": 2.17012,
            "count": 52
           },
           {
            "bin_start": 2.17012,
            "bin_end": 2.6226,
            "count": 18
           },
           {
            "bin_start": 2.6226,
            "bin_end": 3.07508,
            "count": 9
           },
           {
            "bin_start": 3.07508,
            "bin_end": 3.52756,
            "count": 1
           },
           {
            "bin_start": 3.52756,
            "bin_end": 3.98004,
            "count": 3
           },
           {
            "bin_start": 3.98004,
            "bin_end": 4.432519999999999,
            "count": 0
           },
           {
            "bin_start": 4.432519999999999,
            "bin_end": 4.885,
            "count": 1
           }
          ]
         }
        },
        {
         "name": "perimeter error",
         "dtype": "float64",
         "stats": {
          "unique_count": 533,
          "nan_count": 0,
          "min": "0.757",
          "max": "21.98",
          "histogram": [
           {
            "bin_start": 0.757,
            "bin_end": 2.8793,
            "count": 378
           },
           {
            "bin_start": 2.8793,
            "bin_end": 5.0016,
            "count": 131
           },
           {
            "bin_start": 5.0016,
            "bin_end": 7.1239,
            "count": 32
           },
           {
            "bin_start": 7.1239,
            "bin_end": 9.2462,
            "count": 20
           },
           {
            "bin_start": 9.2462,
            "bin_end": 11.3685,
            "count": 6
           },
           {
            "bin_start": 11.3685,
            "bin_end": 13.4908,
            "count": 0
           },
           {
            "bin_start": 13.4908,
            "bin_end": 15.613100000000001,
            "count": 0
           },
           {
            "bin_start": 15.613100000000001,
            "bin_end": 17.735400000000002,
            "count": 0
           },
           {
            "bin_start": 17.735400000000002,
            "bin_end": 19.8577,
            "count": 1
           },
           {
            "bin_start": 19.8577,
            "bin_end": 21.98,
            "count": 1
           }
          ]
         }
        },
        {
         "name": "area error",
         "dtype": "float64",
         "stats": {
          "unique_count": 528,
          "nan_count": 0,
          "min": "6.802",
          "max": "542.2",
          "histogram": [
           {
            "bin_start": 6.802,
            "bin_end": 60.3418,
            "count": 466
           },
           {
            "bin_start": 60.3418,
            "bin_end": 113.88159999999999,
            "count": 73
           },
           {
            "bin_start": 113.88159999999999,
            "bin_end": 167.42139999999998,
            "count": 22
           },
           {
            "bin_start": 167.42139999999998,
            "bin_end": 220.9612,
            "count": 4
           },
           {
            "bin_start": 220.9612,
            "bin_end": 274.50100000000003,
            "count": 2
           },
           {
            "bin_start": 274.50100000000003,
            "bin_end": 328.0408,
            "count": 0
           },
           {
            "bin_start": 328.0408,
            "bin_end": 381.5806,
            "count": 0
           },
           {
            "bin_start": 381.5806,
            "bin_end": 435.1204,
            "count": 0
           },
           {
            "bin_start": 435.1204,
            "bin_end": 488.66020000000003,
            "count": 0
           },
           {
            "bin_start": 488.66020000000003,
            "bin_end": 542.2,
            "count": 2
           }
          ]
         }
        },
        {
         "name": "smoothness error",
         "dtype": "float64",
         "stats": {
          "unique_count": 547,
          "nan_count": 0,
          "min": "0.001713",
          "max": "0.03113",
          "histogram": [
           {
            "bin_start": 0.001713,
            "bin_end": 0.0046547,
            "count": 96
           },
           {
            "bin_start": 0.0046547,
            "bin_end": 0.0075964000000000005,
            "count": 299
           },
           {
            "bin_start": 0.0075964000000000005,
            "bin_end": 0.0105381,
            "count": 120
           },
           {
            "bin_start": 0.0105381,
            "bin_end": 0.0134798,
            "count": 34
           },
           {
            "bin_start": 0.0134798,
            "bin_end": 0.016421500000000002,
            "count": 13
           },
           {
            "bin_start": 0.016421500000000002,
            "bin_end": 0.0193632,
            "count": 3
           },
           {
            "bin_start": 0.0193632,
            "bin_end": 0.022304900000000003,
            "count": 2
           },
           {
            "bin_start": 0.022304900000000003,
            "bin_end": 0.0252466,
            "count": 1
           },
           {
            "bin_start": 0.0252466,
            "bin_end": 0.0281883,
            "count": 0
           },
           {
            "bin_start": 0.0281883,
            "bin_end": 0.03113,
            "count": 1
           }
          ]
         }
        },
        {
         "name": "compactness error",
         "dtype": "float64",
         "stats": {
          "unique_count": 541,
          "nan_count": 0,
          "min": "0.002252",
          "max": "0.1354",
          "histogram": [
           {
            "bin_start": 0.002252,
            "bin_end": 0.015566799999999999,
            "count": 200
           },
           {
            "bin_start": 0.015566799999999999,
            "bin_end": 0.028881599999999997,
            "count": 187
           },
           {
            "bin_start": 0.028881599999999997,
            "bin_end": 0.04219639999999999,
            "count": 105
           },
           {
            "bin_start": 0.04219639999999999,
            "bin_end": 0.05551119999999999,
            "count": 39
           },
           {
            "bin_start": 0.05551119999999999,
            "bin_end": 0.068826,
            "count": 19
           },
           {
            "bin_start": 0.068826,
            "bin_end": 0.08214079999999999,
            "count": 7
           },
           {
            "bin_start": 0.08214079999999999,
            "bin_end": 0.09545559999999999,
            "count": 7
           },
           {
            "bin_start": 0.09545559999999999,
            "bin_end": 0.10877039999999999,
            "count": 4
           },
           {
            "bin_start": 0.10877039999999999,
            "bin_end": 0.12208519999999999,
            "count": 0
           },
           {
            "bin_start": 0.12208519999999999,
            "bin_end": 0.1354,
            "count": 1
           }
          ]
         }
        },
        {
         "name": "concavity error",
         "dtype": "float64",
         "stats": {
          "unique_count": 533,
          "nan_count": 0,
          "min": "0.0",
          "max": "0.396",
          "histogram": [
           {
            "bin_start": 0,
            "bin_end": 0.0396,
            "count": 412
           },
           {
            "bin_start": 0.0396,
            "bin_end": 0.0792,
            "count": 128
           },
           {
            "bin_start": 0.0792,
            "bin_end": 0.11880000000000002,
            "count": 22
           },
           {
            "bin_start": 0.11880000000000002,
            "bin_end": 0.1584,
            "count": 5
           },
           {
            "bin_start": 0.1584,
            "bin_end": 0.198,
            "count": 0
           },
           {
            "bin_start": 0.198,
            "bin_end": 0.23760000000000003,
            "count": 0
           },
           {
            "bin_start": 0.23760000000000003,
            "bin_end": 0.2772,
            "count": 0
           },
           {
            "bin_start": 0.2772,
            "bin_end": 0.3168,
            "count": 1
           },
           {
            "bin_start": 0.3168,
            "bin_end": 0.35640000000000005,
            "count": 0
           },
           {
            "bin_start": 0.35640000000000005,
            "bin_end": 0.396,
            "count": 1
           }
          ]
         }
        },
        {
         "name": "concave points error",
         "dtype": "float64",
         "stats": {
          "unique_count": 507,
          "nan_count": 0,
          "min": "0.0",
          "max": "0.05279",
          "histogram": [
           {
            "bin_start": 0,
            "bin_end": 0.005279,
            "count": 51
           },
           {
            "bin_start": 0.005279,
            "bin_end": 0.010558,
            "count": 219
           },
           {
            "bin_start": 0.010558,
            "bin_end": 0.015837,
            "count": 186
           },
           {
            "bin_start": 0.015837,
            "bin_end": 0.021116,
            "count": 74
           },
           {
            "bin_start": 0.021116,
            "bin_end": 0.026395,
            "count": 25
           },
           {
            "bin_start": 0.026395,
            "bin_end": 0.031674,
            "count": 8
           },
           {
            "bin_start": 0.031674,
            "bin_end": 0.036953,
            "count": 3
           },
           {
            "bin_start": 0.036953,
            "bin_end": 0.042232,
            "count": 2
           },
           {
            "bin_start": 0.042232,
            "bin_end": 0.047511,
            "count": 0
           },
           {
            "bin_start": 0.047511,
            "bin_end": 0.05279,
            "count": 1
           }
          ]
         }
        },
        {
         "name": "symmetry error",
         "dtype": "float64",
         "stats": {
          "unique_count": 498,
          "nan_count": 0,
          "min": "0.007882",
          "max": "0.07895",
          "histogram": [
           {
            "bin_start": 0.007882,
            "bin_end": 0.0149888,
            "count": 137
           },
           {
            "bin_start": 0.0149888,
            "bin_end": 0.0220956,
            "count": 264
           },
           {
            "bin_start": 0.0220956,
            "bin_end": 0.029202400000000003,
            "count": 103
           },
           {
            "bin_start": 0.029202400000000003,
            "bin_end": 0.0363092,
            "count": 38
           },
           {
            "bin_start": 0.0363092,
            "bin_end": 0.043416,
            "count": 14
           },
           {
            "bin_start": 0.043416,
            "bin_end": 0.05052280000000001,
            "count": 5
           },
           {
            "bin_start": 0.05052280000000001,
            "bin_end": 0.0576296,
            "count": 5
           },
           {
            "bin_start": 0.0576296,
            "bin_end": 0.0647364,
            "count": 2
           },
           {
            "bin_start": 0.0647364,
            "bin_end": 0.07184320000000001,
            "count": 0
           },
           {
            "bin_start": 0.07184320000000001,
            "bin_end": 0.07895,
            "count": 1
           }
          ]
         }
        },
        {
         "name": "fractal dimension error",
         "dtype": "float64",
         "stats": {
          "unique_count": 545,
          "nan_count": 0,
          "min": "0.0008948",
          "max": "0.02984",
          "histogram": [
           {
            "bin_start": 0.0008948,
            "bin_end": 0.0037893199999999997,
            "count": 361
           },
           {
            "bin_start": 0.0037893199999999997,
            "bin_end": 0.00668384,
            "count": 158
           },
           {
            "bin_start": 0.00668384,
            "bin_end": 0.00957836,
            "count": 32
           },
           {
            "bin_start": 0.00957836,
            "bin_end": 0.012472879999999999,
            "count": 11
           },
           {
            "bin_start": 0.012472879999999999,
            "bin_end": 0.015367399999999998,
            "count": 3
           },
           {
            "bin_start": 0.015367399999999998,
            "bin_end": 0.01826192,
            "count": 1
           },
           {
            "bin_start": 0.01826192,
            "bin_end": 0.02115644,
            "count": 0
           },
           {
            "bin_start": 0.02115644,
            "bin_end": 0.02405096,
            "count": 2
           },
           {
            "bin_start": 0.02405096,
            "bin_end": 0.02694548,
            "count": 0
           },
           {
            "bin_start": 0.02694548,
            "bin_end": 0.02984,
            "count": 1
           }
          ]
         }
        },
        {
         "name": "worst radius",
         "dtype": "float64",
         "stats": {
          "unique_count": 457,
          "nan_count": 0,
          "min": "7.93",
          "max": "36.04",
          "histogram": [
           {
            "bin_start": 7.93,
            "bin_end": 10.741,
            "count": 34
           },
           {
            "bin_start": 10.741,
            "bin_end": 13.552,
            "count": 160
           },
           {
            "bin_start": 13.552,
            "bin_end": 16.363,
            "count": 167
           },
           {
            "bin_start": 16.363,
            "bin_end": 19.174,
            "count": 69
           },
           {
            "bin_start": 19.174,
            "bin_end": 21.985,
            "count": 53
           },
           {
            "bin_start": 21.985,
            "bin_end": 24.796,
            "count": 47
           },
           {
            "bin_start": 24.796,
            "bin_end": 27.607,
            "count": 22
           },
           {
            "bin_start": 27.607,
            "bin_end": 30.418,
            "count": 9
           },
           {
            "bin_start": 30.418,
            "bin_end": 33.229,
            "count": 7
           },
           {
            "bin_start": 33.229,
            "bin_end": 36.04,
            "count": 1
           }
          ]
         }
        },
        {
         "name": "worst texture",
         "dtype": "float64",
         "stats": {
          "unique_count": 511,
          "nan_count": 0,
          "min": "12.02",
          "max": "49.54",
          "histogram": [
           {
            "bin_start": 12.02,
            "bin_end": 15.771999999999998,
            "count": 16
           },
           {
            "bin_start": 15.771999999999998,
            "bin_end": 19.524,
            "count": 80
           },
           {
            "bin_start": 19.524,
            "bin_end": 23.276,
            "count": 123
           },
           {
            "bin_start": 23.276,
            "bin_end": 27.028,
            "count": 131
           },
           {
            "bin_start": 27.028,
            "bin_end": 30.779999999999998,
            "count": 100
           },
           {
            "bin_start": 30.779999999999998,
            "bin_end": 34.532,
            "count": 75
           },
           {
            "bin_start": 34.532,
            "bin_end": 38.284,
            "count": 28
           },
           {
            "bin_start": 38.284,
            "bin_end": 42.036,
            "count": 11
           },
           {
            "bin_start": 42.036,
            "bin_end": 45.788,
            "count": 3
           },
           {
            "bin_start": 45.788,
            "bin_end": 49.54,
            "count": 2
           }
          ]
         }
        },
        {
         "name": "worst perimeter",
         "dtype": "float64",
         "stats": {
          "unique_count": 514,
          "nan_count": 0,
          "min": "50.41",
          "max": "251.2",
          "histogram": [
           {
            "bin_start": 50.41,
            "bin_end": 70.489,
            "count": 43
           },
           {
            "bin_start": 70.489,
            "bin_end": 90.568,
            "count": 178
           },
           {
            "bin_start": 90.568,
            "bin_end": 110.64699999999999,
            "count": 151
           },
           {
            "bin_start": 110.64699999999999,
            "bin_end": 130.726,
            "count": 77
           },
           {
            "bin_start": 130.726,
            "bin_end": 150.805,
            "count": 45
           },
           {
            "bin_start": 150.805,
            "bin_end": 170.88400000000001,
            "count": 44
           },
           {
            "bin_start": 170.88400000000001,
            "bin_end": 190.963,
            "count": 18
           },
           {
            "bin_start": 190.963,
            "bin_end": 211.042,
            "count": 7
           },
           {
            "bin_start": 211.042,
            "bin_end": 231.121,
            "count": 5
           },
           {
            "bin_start": 231.121,
            "bin_end": 251.2,
            "count": 1
           }
          ]
         }
        },
        {
         "name": "worst area",
         "dtype": "float64",
         "stats": {
          "unique_count": 544,
          "nan_count": 0,
          "min": "185.2",
          "max": "4254.0",
          "histogram": [
           {
            "bin_start": 185.2,
            "bin_end": 592.0799999999999,
            "count": 223
           },
           {
            "bin_start": 592.0799999999999,
            "bin_end": 998.96,
            "count": 193
           },
           {
            "bin_start": 998.96,
            "bin_end": 1405.84,
            "count": 58
           },
           {
            "bin_start": 1405.84,
            "bin_end": 1812.72,
            "count": 51
           },
           {
            "bin_start": 1812.72,
            "bin_end": 2219.6,
            "count": 25
           },
           {
            "bin_start": 2219.6,
            "bin_end": 2626.4799999999996,
            "count": 10
           },
           {
            "bin_start": 2626.4799999999996,
            "bin_end": 3033.3599999999997,
            "count": 4
           },
           {
            "bin_start": 3033.3599999999997,
            "bin_end": 3440.24,
            "count": 4
           },
           {
            "bin_start": 3440.24,
            "bin_end": 3847.12,
            "count": 0
           },
           {
            "bin_start": 3847.12,
            "bin_end": 4254,
            "count": 1
           }
          ]
         }
        },
        {
         "name": "worst smoothness",
         "dtype": "float64",
         "stats": {
          "unique_count": 411,
          "nan_count": 0,
          "min": "0.07117",
          "max": "0.2226",
          "histogram": [
           {
            "bin_start": 0.07117,
            "bin_end": 0.086313,
            "count": 5
           },
           {
            "bin_start": 0.086313,
            "bin_end": 0.10145599999999999,
            "count": 43
           },
           {
            "bin_start": 0.10145599999999999,
            "bin_end": 0.116599,
            "count": 93
           },
           {
            "bin_start": 0.116599,
            "bin_end": 0.131742,
            "count": 150
           },
           {
            "bin_start": 0.131742,
            "bin_end": 0.146885,
            "count": 143
           },
           {
            "bin_start": 0.146885,
            "bin_end": 0.162028,
            "count": 78
           },
           {
            "bin_start": 0.162028,
            "bin_end": 0.177171,
            "count": 34
           },
           {
            "bin_start": 0.177171,
            "bin_end": 0.19231399999999998,
            "count": 19
           },
           {
            "bin_start": 0.19231399999999998,
            "bin_end": 0.207457,
            "count": 1
           },
           {
            "bin_start": 0.207457,
            "bin_end": 0.2226,
            "count": 3
           }
          ]
         }
        },
        {
         "name": "worst compactness",
         "dtype": "float64",
         "stats": {
          "unique_count": 529,
          "nan_count": 0,
          "min": "0.02729",
          "max": "1.058",
          "histogram": [
           {
            "bin_start": 0.02729,
            "bin_end": 0.130361,
            "count": 117
           },
           {
            "bin_start": 0.130361,
            "bin_end": 0.233432,
            "count": 200
           },
           {
            "bin_start": 0.233432,
            "bin_end": 0.33650299999999994,
            "count": 108
           },
           {
            "bin_start": 0.33650299999999994,
            "bin_end": 0.43957399999999996,
            "count": 84
           },
           {
            "bin_start": 0.43957399999999996,
            "bin_end": 0.542645,
            "count": 27
           },
           {
            "bin_start": 0.542645,
            "bin_end": 0.645716,
            "count": 17
           },
           {
            "bin_start": 0.645716,
            "bin_end": 0.748787,
            "count": 8
           },
           {
            "bin_start": 0.748787,
            "bin_end": 0.851858,
            "count": 3
           },
           {
            "bin_start": 0.851858,
            "bin_end": 0.954929,
            "count": 4
           },
           {
            "bin_start": 0.954929,
            "bin_end": 1.058,
            "count": 1
           }
          ]
         }
        },
        {
         "name": "worst concavity",
         "dtype": "float64",
         "stats": {
          "unique_count": 539,
          "nan_count": 0,
          "min": "0.0",
          "max": "1.252",
          "histogram": [
           {
            "bin_start": 0,
            "bin_end": 0.1252,
            "count": 157
           },
           {
            "bin_start": 0.1252,
            "bin_end": 0.2504,
            "count": 151
           },
           {
            "bin_start": 0.2504,
            "bin_end": 0.37560000000000004,
            "count": 109
           },
           {
            "bin_start": 0.37560000000000004,
            "bin_end": 0.5008,
            "count": 72
           },
           {
            "bin_start": 0.5008,
            "bin_end": 0.626,
            "count": 38
           },
           {
            "bin_start": 0.626,
            "bin_end": 0.7512000000000001,
            "count": 28
           },
           {
            "bin_start": 0.7512000000000001,
            "bin_end": 0.8764000000000001,
            "count": 7
           },
           {
            "bin_start": 0.8764000000000001,
            "bin_end": 1.0016,
            "count": 4
           },
           {
            "bin_start": 1.0016,
            "bin_end": 1.1268,
            "count": 1
           },
           {
            "bin_start": 1.1268,
            "bin_end": 1.252,
            "count": 2
           }
          ]
         }
        },
        {
         "name": "worst concave points",
         "dtype": "float64",
         "stats": {
          "unique_count": 492,
          "nan_count": 0,
          "min": "0.0",
          "max": "0.291",
          "histogram": [
           {
            "bin_start": 0,
            "bin_end": 0.029099999999999997,
            "count": 43
           },
           {
            "bin_start": 0.029099999999999997,
            "bin_end": 0.058199999999999995,
            "count": 72
           },
           {
            "bin_start": 0.058199999999999995,
            "bin_end": 0.08729999999999999,
            "count": 130
           },
           {
            "bin_start": 0.08729999999999999,
            "bin_end": 0.11639999999999999,
            "count": 87
           },
           {
            "bin_start": 0.11639999999999999,
            "bin_end": 0.1455,
            "count": 54
           },
           {
            "bin_start": 0.1455,
            "bin_end": 0.17459999999999998,
            "count": 63
           },
           {
            "bin_start": 0.17459999999999998,
            "bin_end": 0.2037,
            "count": 55
           },
           {
            "bin_start": 0.2037,
            "bin_end": 0.23279999999999998,
            "count": 34
           },
           {
            "bin_start": 0.23279999999999998,
            "bin_end": 0.26189999999999997,
            "count": 20
           },
           {
            "bin_start": 0.26189999999999997,
            "bin_end": 0.291,
            "count": 11
           }
          ]
         }
        },
        {
         "name": "worst symmetry",
         "dtype": "float64",
         "stats": {
          "unique_count": 500,
          "nan_count": 0,
          "min": "0.1565",
          "max": "0.6638",
          "histogram": [
           {
            "bin_start": 0.1565,
            "bin_end": 0.20723,
            "count": 23
           },
           {
            "bin_start": 0.20723,
            "bin_end": 0.25795999999999997,
            "count": 153
           },
           {
            "bin_start": 0.25795999999999997,
            "bin_end": 0.30869,
            "count": 219
           },
           {
            "bin_start": 0.30869,
            "bin_end": 0.35941999999999996,
            "count": 114
           },
           {
            "bin_start": 0.35941999999999996,
            "bin_end": 0.41015,
            "count": 35
           },
           {
            "bin_start": 0.41015,
            "bin_end": 0.46087999999999996,
            "count": 11
           },
           {
            "bin_start": 0.46087999999999996,
            "bin_end": 0.51161,
            "count": 9
           },
           {
            "bin_start": 0.51161,
            "bin_end": 0.56234,
            "count": 3
           },
           {
            "bin_start": 0.56234,
            "bin_end": 0.61307,
            "count": 1
           },
           {
            "bin_start": 0.61307,
            "bin_end": 0.6638,
            "count": 1
           }
          ]
         }
        },
        {
         "name": "worst fractal dimension",
         "dtype": "float64",
         "stats": {
          "unique_count": 535,
          "nan_count": 0,
          "min": "0.05504",
          "max": "0.2075",
          "histogram": [
           {
            "bin_start": 0.05504,
            "bin_end": 0.070286,
            "count": 123
           },
           {
            "bin_start": 0.070286,
            "bin_end": 0.085532,
            "count": 245
           },
           {
            "bin_start": 0.085532,
            "bin_end": 0.100778,
            "count": 113
           },
           {
            "bin_start": 0.100778,
            "bin_end": 0.11602399999999999,
            "count": 51
           },
           {
            "bin_start": 0.11602399999999999,
            "bin_end": 0.13127,
            "count": 25
           },
           {
            "bin_start": 0.13127,
            "bin_end": 0.146516,
            "count": 9
           },
           {
            "bin_start": 0.146516,
            "bin_end": 0.161762,
            "count": 1
           },
           {
            "bin_start": 0.161762,
            "bin_end": 0.177008,
            "count": 1
           },
           {
            "bin_start": 0.177008,
            "bin_end": 0.192254,
            "count": 0
           },
           {
            "bin_start": 0.192254,
            "bin_end": 0.2075,
            "count": 1
           }
          ]
         }
        },
        {
         "name": "target",
         "dtype": "float64",
         "stats": {
          "unique_count": 2,
          "nan_count": 0,
          "min": "0.0",
          "max": "1.0",
          "histogram": [
           {
            "bin_start": 0,
            "bin_end": 0.1,
            "count": 212
           },
           {
            "bin_start": 0.1,
            "bin_end": 0.2,
            "count": 0
           },
           {
            "bin_start": 0.2,
            "bin_end": 0.30000000000000004,
            "count": 0
           },
           {
            "bin_start": 0.30000000000000004,
            "bin_end": 0.4,
            "count": 0
           },
           {
            "bin_start": 0.4,
            "bin_end": 0.5,
            "count": 0
           },
           {
            "bin_start": 0.5,
            "bin_end": 0.6000000000000001,
            "count": 0
           },
           {
            "bin_start": 0.6000000000000001,
            "bin_end": 0.7000000000000001,
            "count": 0
           },
           {
            "bin_start": 0.7000000000000001,
            "bin_end": 0.8,
            "count": 0
           },
           {
            "bin_start": 0.8,
            "bin_end": 0.9,
            "count": 0
           },
           {
            "bin_start": 0.9,
            "bin_end": 1,
            "count": 357
           }
          ]
         }
        },
        {
         "name": "_deepnote_index_column",
         "dtype": "int64"
        }
       ],
       "rows_top": [
        {
         "mean radius": 17.99,
         "mean texture": 10.38,
         "mean perimeter": 122.8,
         "mean area": 1001,
         "mean smoothness": 0.1184,
         "mean compactness": 0.2776,
         "mean concavity": 0.3001,
         "mean concave points": 0.1471,
         "mean symmetry": 0.2419,
         "mean fractal dimension": 0.07871,
         "radius error": 1.095,
         "texture error": 0.9053,
         "perimeter error": 8.589,
         "area error": 153.4,
         "smoothness error": 0.006399,
         "compactness error": 0.04904,
         "concavity error": 0.05373,
         "concave points error": 0.01587,
         "symmetry error": 0.03003,
         "fractal dimension error": 0.006193,
         "worst radius": 25.38,
         "worst texture": 17.33,
         "worst perimeter": 184.6,
         "worst area": 2019,
         "worst smoothness": 0.1622,
         "worst compactness": 0.6656,
         "worst concavity": 0.7119,
         "worst concave points": 0.2654,
         "worst symmetry": 0.4601,
         "worst fractal dimension": 0.1189,
         "target": 0,
         "_deepnote_index_column": 0
        },
        {
         "mean radius": 20.57,
         "mean texture": 17.77,
         "mean perimeter": 132.9,
         "mean area": 1326,
         "mean smoothness": 0.08474,
         "mean compactness": 0.07864,
         "mean concavity": 0.0869,
         "mean concave points": 0.07017,
         "mean symmetry": 0.1812,
         "mean fractal dimension": 0.05667,
         "radius error": 0.5435,
         "texture error": 0.7339,
         "perimeter error": 3.398,
         "area error": 74.08,
         "smoothness error": 0.005225,
         "compactness error": 0.01308,
         "concavity error": 0.0186,
         "concave points error": 0.0134,
         "symmetry error": 0.01389,
         "fractal dimension error": 0.003532,
         "worst radius": 24.99,
         "worst texture": 23.41,
         "worst perimeter": 158.8,
         "worst area": 1956,
         "worst smoothness": 0.1238,
         "worst compactness": 0.1866,
         "worst concavity": 0.2416,
         "worst concave points": 0.186,
         "worst symmetry": 0.275,
         "worst fractal dimension": 0.08902,
         "target": 0,
         "_deepnote_index_column": 1
        },
        {
         "mean radius": 19.69,
         "mean texture": 21.25,
         "mean perimeter": 130,
         "mean area": 1203,
         "mean smoothness": 0.1096,
         "mean compactness": 0.1599,
         "mean concavity": 0.1974,
         "mean concave points": 0.1279,
         "mean symmetry": 0.2069,
         "mean fractal dimension": 0.05999,
         "radius error": 0.7456,
         "texture error": 0.7869,
         "perimeter error": 4.585,
         "area error": 94.03,
         "smoothness error": 0.00615,
         "compactness error": 0.04006,
         "concavity error": 0.03832,
         "concave points error": 0.02058,
         "symmetry error": 0.0225,
         "fractal dimension error": 0.004571,
         "worst radius": 23.57,
         "worst texture": 25.53,
         "worst perimeter": 152.5,
         "worst area": 1709,
         "worst smoothness": 0.1444,
         "worst compactness": 0.4245,
         "worst concavity": 0.4504,
         "worst concave points": 0.243,
         "worst symmetry": 0.3613,
         "worst fractal dimension": 0.08758,
         "target": 0,
         "_deepnote_index_column": 2
        },
        {
         "mean radius": 11.42,
         "mean texture": 20.38,
         "mean perimeter": 77.58,
         "mean area": 386.1,
         "mean smoothness": 0.1425,
         "mean compactness": 0.2839,
         "mean concavity": 0.2414,
         "mean concave points": 0.1052,
         "mean symmetry": 0.2597,
         "mean fractal dimension": 0.09744,
         "radius error": 0.4956,
         "texture error": 1.156,
         "perimeter error": 3.445,
         "area error": 27.23,
         "smoothness error": 0.00911,
         "compactness error": 0.07458,
         "concavity error": 0.05661,
         "concave points error": 0.01867,
         "symmetry error": 0.05963,
         "fractal dimension error": 0.009208,
         "worst radius": 14.91,
         "worst texture": 26.5,
         "worst perimeter": 98.87,
         "worst area": 567.7,
         "worst smoothness": 0.2098,
         "worst compactness": 0.8663,
         "worst concavity": 0.6869,
         "worst concave points": 0.2575,
         "worst symmetry": 0.6638,
         "worst fractal dimension": 0.173,
         "target": 0,
         "_deepnote_index_column": 3
        },
        {
         "mean radius": 20.29,
         "mean texture": 14.34,
         "mean perimeter": 135.1,
         "mean area": 1297,
         "mean smoothness": 0.1003,
         "mean compactness": 0.1328,
         "mean concavity": 0.198,
         "mean concave points": 0.1043,
         "mean symmetry": 0.1809,
         "mean fractal dimension": 0.05883,
         "radius error": 0.7572,
         "texture error": 0.7813,
         "perimeter error": 5.438,
         "area error": 94.44,
         "smoothness error": 0.01149,
         "compactness error": 0.02461,
         "concavity error": 0.05688,
         "concave points error": 0.01885,
         "symmetry error": 0.01756,
         "fractal dimension error": 0.005115,
         "worst radius": 22.54,
         "worst texture": 16.67,
         "worst perimeter": 152.2,
         "worst area": 1575,
         "worst smoothness": 0.1374,
         "worst compactness": 0.205,
         "worst concavity": 0.4,
         "worst concave points": 0.1625,
         "worst symmetry": 0.2364,
         "worst fractal dimension": 0.07678,
         "target": 0,
         "_deepnote_index_column": 4
        },
        {
         "mean radius": 12.45,
         "mean texture": 15.7,
         "mean perimeter": 82.57,
         "mean area": 477.1,
         "mean smoothness": 0.1278,
         "mean compactness": 0.17,
         "mean concavity": 0.1578,
         "mean concave points": 0.08089,
         "mean symmetry": 0.2087,
         "mean fractal dimension": 0.07613,
         "radius error": 0.3345,
         "texture error": 0.8902,
         "perimeter error": 2.217,
         "area error": 27.19,
         "smoothness error": 0.00751,
         "compactness error": 0.03345,
         "concavity error": 0.03672,
         "concave points error": 0.01137,
         "symmetry error": 0.02165,
         "fractal dimension error": 0.005082,
         "worst radius": 15.47,
         "worst texture": 23.75,
         "worst perimeter": 103.4,
         "worst area": 741.6,
         "worst smoothness": 0.1791,
         "worst compactness": 0.5249,
         "worst concavity": 0.5355,
         "worst concave points": 0.1741,
         "worst symmetry": 0.3985,
         "worst fractal dimension": 0.1244,
         "target": 0,
         "_deepnote_index_column": 5
        },
        {
         "mean radius": 18.25,
         "mean texture": 19.98,
         "mean perimeter": 119.6,
         "mean area": 1040,
         "mean smoothness": 0.09463,
         "mean compactness": 0.109,
         "mean concavity": 0.1127,
         "mean concave points": 0.074,
         "mean symmetry": 0.1794,
         "mean fractal dimension": 0.05742,
         "radius error": 0.4467,
         "texture error": 0.7732,
         "perimeter error": 3.18,
         "area error": 53.91,
         "smoothness error": 0.004314,
         "compactness error": 0.01382,
         "concavity error": 0.02254,
         "concave points error": 0.01039,
         "symmetry error": 0.01369,
         "fractal dimension error": 0.002179,
         "worst radius": 22.88,
         "worst texture": 27.66,
         "worst perimeter": 153.2,
         "worst area": 1606,
         "worst smoothness": 0.1442,
         "worst compactness": 0.2576,
         "worst concavity": 0.3784,
         "worst concave points": 0.1932,
         "worst symmetry": 0.3063,
         "worst fractal dimension": 0.08368,
         "target": 0,
         "_deepnote_index_column": 6
        },
        {
         "mean radius": 13.71,
         "mean texture": 20.83,
         "mean perimeter": 90.2,
         "mean area": 577.9,
         "mean smoothness": 0.1189,
         "mean compactness": 0.1645,
         "mean concavity": 0.09366,
         "mean concave points": 0.05985,
         "mean symmetry": 0.2196,
         "mean fractal dimension": 0.07451,
         "radius error": 0.5835,
         "texture error": 1.377,
         "perimeter error": 3.856,
         "area error": 50.96,
         "smoothness error": 0.008805,
         "compactness error": 0.03029,
         "concavity error": 0.02488,
         "concave points error": 0.01448,
         "symmetry error": 0.01486,
         "fractal dimension error": 0.005412,
         "worst radius": 17.06,
         "worst texture": 28.14,
         "worst perimeter": 110.6,
         "worst area": 897,
         "worst smoothness": 0.1654,
         "worst compactness": 0.3682,
         "worst concavity": 0.2678,
         "worst concave points": 0.1556,
         "worst symmetry": 0.3196,
         "worst fractal dimension": 0.1151,
         "target": 0,
         "_deepnote_index_column": 7
        },
        {
         "mean radius": 13,
         "mean texture": 21.82,
         "mean perimeter": 87.5,
         "mean area": 519.8,
         "mean smoothness": 0.1273,
         "mean compactness": 0.1932,
         "mean concavity": 0.1859,
         "mean concave points": 0.09353,
         "mean symmetry": 0.235,
         "mean fractal dimension": 0.07389,
         "radius error": 0.3063,
         "texture error": 1.002,
         "perimeter error": 2.406,
         "area error": 24.32,
         "smoothness error": 0.005731,
         "compactness error": 0.03502,
         "concavity error": 0.03553,
         "concave points error": 0.01226,
         "symmetry error": 0.02143,
         "fractal dimension error": 0.003749,
         "worst radius": 15.49,
         "worst texture": 30.73,
         "worst perimeter": 106.2,
         "worst area": 739.3,
         "worst smoothness": 0.1703,
         "worst compactness": 0.5401,
         "worst concavity": 0.539,
         "worst concave points": 0.206,
         "worst symmetry": 0.4378,
         "worst fractal dimension": 0.1072,
         "target": 0,
         "_deepnote_index_column": 8
        },
        {
         "mean radius": 12.46,
         "mean texture": 24.04,
         "mean perimeter": 83.97,
         "mean area": 475.9,
         "mean smoothness": 0.1186,
         "mean compactness": 0.2396,
         "mean concavity": 0.2273,
         "mean concave points": 0.08543,
         "mean symmetry": 0.203,
         "mean fractal dimension": 0.08243,
         "radius error": 0.2976,
         "texture error": 1.599,
         "perimeter error": 2.039,
         "area error": 23.94,
         "smoothness error": 0.007149,
         "compactness error": 0.07217,
         "concavity error": 0.07743,
         "concave points error": 0.01432,
         "symmetry error": 0.01789,
         "fractal dimension error": 0.01008,
         "worst radius": 15.09,
         "worst texture": 40.68,
         "worst perimeter": 97.65,
         "worst area": 711.4,
         "worst smoothness": 0.1853,
         "worst compactness": 1.058,
         "worst concavity": 1.105,
         "worst concave points": 0.221,
         "worst symmetry": 0.4366,
         "worst fractal dimension": 0.2075,
         "target": 0,
         "_deepnote_index_column": 9
        },
        {
         "mean radius": 16.02,
         "mean texture": 23.24,
         "mean perimeter": 102.7,
         "mean area": 797.8,
         "mean smoothness": 0.08206,
         "mean compactness": 0.06669,
         "mean concavity": 0.03299,
         "mean concave points": 0.03323,
         "mean symmetry": 0.1528,
         "mean fractal dimension": 0.05697,
         "radius error": 0.3795,
         "texture error": 1.187,
         "perimeter error": 2.466,
         "area error": 40.51,
         "smoothness error": 0.004029,
         "compactness error": 0.009269,
         "concavity error": 0.01101,
         "concave points error": 0.007591,
         "symmetry error": 0.0146,
         "fractal dimension error": 0.003042,
         "worst radius": 19.19,
         "worst texture": 33.88,
         "worst perimeter": 123.8,
         "worst area": 1150,
         "worst smoothness": 0.1181,
         "worst compactness": 0.1551,
         "worst concavity": 0.1459,
         "worst concave points": 0.09975,
         "worst symmetry": 0.2948,
         "worst fractal dimension": 0.08452,
         "target": 0,
         "_deepnote_index_column": 10
        },
        {
         "mean radius": 15.78,
         "mean texture": 17.89,
         "mean perimeter": 103.6,
         "mean area": 781,
         "mean smoothness": 0.0971,
         "mean compactness": 0.1292,
         "mean concavity": 0.09954,
         "mean concave points": 0.06606,
         "mean symmetry": 0.1842,
         "mean fractal dimension": 0.06082,
         "radius error": 0.5058,
         "texture error": 0.9849,
         "perimeter error": 3.564,
         "area error": 54.16,
         "smoothness error": 0.005771,
         "compactness error": 0.04061,
         "concavity error": 0.02791,
         "concave points error": 0.01282,
         "symmetry error": 0.02008,
         "fractal dimension error": 0.004144,
         "worst radius": 20.42,
         "worst texture": 27.28,
         "worst perimeter": 136.5,
         "worst area": 1299,
         "worst smoothness": 0.1396,
         "worst compactness": 0.5609,
         "worst concavity": 0.3965,
         "worst concave points": 0.181,
         "worst symmetry": 0.3792,
         "worst fractal dimension": 0.1048,
         "target": 0,
         "_deepnote_index_column": 11
        },
        {
         "mean radius": 19.17,
         "mean texture": 24.8,
         "mean perimeter": 132.4,
         "mean area": 1123,
         "mean smoothness": 0.0974,
         "mean compactness": 0.2458,
         "mean concavity": 0.2065,
         "mean concave points": 0.1118,
         "mean symmetry": 0.2397,
         "mean fractal dimension": 0.078,
         "radius error": 0.9555,
         "texture error": 3.568,
         "perimeter error": 11.07,
         "area error": 116.2,
         "smoothness error": 0.003139,
         "compactness error": 0.08297,
         "concavity error": 0.0889,
         "concave points error": 0.0409,
         "symmetry error": 0.04484,
         "fractal dimension error": 0.01284,
         "worst radius": 20.96,
         "worst texture": 29.94,
         "worst perimeter": 151.7,
         "worst area": 1332,
         "worst smoothness": 0.1037,
         "worst compactness": 0.3903,
         "worst concavity": 0.3639,
         "worst concave points": 0.1767,
         "worst symmetry": 0.3176,
         "worst fractal dimension": 0.1023,
         "target": 0,
         "_deepnote_index_column": 12
        },
        {
         "mean radius": 15.85,
         "mean texture": 23.95,
         "mean perimeter": 103.7,
         "mean area": 782.7,
         "mean smoothness": 0.08401,
         "mean compactness": 0.1002,
         "mean concavity": 0.09938,
         "mean concave points": 0.05364,
         "mean symmetry": 0.1847,
         "mean fractal dimension": 0.05338,
         "radius error": 0.4033,
         "texture error": 1.078,
         "perimeter error": 2.903,
         "area error": 36.58,
         "smoothness error": 0.009769,
         "compactness error": 0.03126,
         "concavity error": 0.05051,
         "concave points error": 0.01992,
         "symmetry error": 0.02981,
         "fractal dimension error": 0.003002,
         "worst radius": 16.84,
         "worst texture": 27.66,
         "worst perimeter": 112,
         "worst area": 876.5,
         "worst smoothness": 0.1131,
         "worst compactness": 0.1924,
         "worst concavity": 0.2322,
         "worst concave points": 0.1119,
         "worst symmetry": 0.2809,
         "worst fractal dimension": 0.06287,
         "target": 0,
         "_deepnote_index_column": 13
        },
        {
         "mean radius": 13.73,
         "mean texture": 22.61,
         "mean perimeter": 93.6,
         "mean area": 578.3,
         "mean smoothness": 0.1131,
         "mean compactness": 0.2293,
         "mean concavity": 0.2128,
         "mean concave points": 0.08025,
         "mean symmetry": 0.2069,
         "mean fractal dimension": 0.07682,
         "radius error": 0.2121,
         "texture error": 1.169,
         "perimeter error": 2.061,
         "area error": 19.21,
         "smoothness error": 0.006429,
         "compactness error": 0.05936,
         "concavity error": 0.05501,
         "concave points error": 0.01628,
         "symmetry error": 0.01961,
         "fractal dimension error": 0.008093,
         "worst radius": 15.03,
         "worst texture": 32.01,
         "worst perimeter": 108.8,
         "worst area": 697.7,
         "worst smoothness": 0.1651,
         "worst compactness": 0.7725,
         "worst concavity": 0.6943,
         "worst concave points": 0.2208,
         "worst symmetry": 0.3596,
         "worst fractal dimension": 0.1431,
         "target": 0,
         "_deepnote_index_column": 14
        },
        {
         "mean radius": 14.54,
         "mean texture": 27.54,
         "mean perimeter": 96.73,
         "mean area": 658.8,
         "mean smoothness": 0.1139,
         "mean compactness": 0.1595,
         "mean concavity": 0.1639,
         "mean concave points": 0.07364,
         "mean symmetry": 0.2303,
         "mean fractal dimension": 0.07077,
         "radius error": 0.37,
         "texture error": 1.033,
         "perimeter error": 2.879,
         "area error": 32.55,
         "smoothness error": 0.005607,
         "compactness error": 0.0424,
         "concavity error": 0.04741,
         "concave points error": 0.0109,
         "symmetry error": 0.01857,
         "fractal dimension error": 0.005466,
         "worst radius": 17.46,
         "worst texture": 37.13,
         "worst perimeter": 124.1,
         "worst area": 943.2,
         "worst smoothness": 0.1678,
         "worst compactness": 0.6577,
         "worst concavity": 0.7026,
         "worst concave points": 0.1712,
         "worst symmetry": 0.4218,
         "worst fractal dimension": 0.1341,
         "target": 0,
         "_deepnote_index_column": 15
        }
       ],
       "rows_bottom": [
        {
         "mean radius": 9.333,
         "mean texture": 21.94,
         "mean perimeter": 59.01,
         "mean area": 264,
         "mean smoothness": 0.0924,
         "mean compactness": 0.05605,
         "mean concavity": 0.03996,
         "mean concave points": 0.01282,
         "mean symmetry": 0.1692,
         "mean fractal dimension": 0.06576,
         "radius error": 0.3013,
         "texture error": 1.879,
         "perimeter error": 2.121,
         "area error": 17.86,
         "smoothness error": 0.01094,
         "compactness error": 0.01834,
         "concavity error": 0.03996,
         "concave points error": 0.01282,
         "symmetry error": 0.03759,
         "fractal dimension error": 0.004623,
         "worst radius": 9.845,
         "worst texture": 25.05,
         "worst perimeter": 62.86,
         "worst area": 295.8,
         "worst smoothness": 0.1103,
         "worst compactness": 0.08298,
         "worst concavity": 0.07993,
         "worst concave points": 0.02564,
         "worst symmetry": 0.2435,
         "worst fractal dimension": 0.07393,
         "target": 1,
         "_deepnote_index_column": 553
        },
        {
         "mean radius": 12.88,
         "mean texture": 28.92,
         "mean perimeter": 82.5,
         "mean area": 514.3,
         "mean smoothness": 0.08123,
         "mean compactness": 0.05824,
         "mean concavity": 0.06195,
         "mean concave points": 0.02343,
         "mean symmetry": 0.1566,
         "mean fractal dimension": 0.05708,
         "radius error": 0.2116,
         "texture error": 1.36,
         "perimeter error": 1.502,
         "area error": 16.83,
         "smoothness error": 0.008412,
         "compactness error": 0.02153,
         "concavity error": 0.03898,
         "concave points error": 0.00762,
         "symmetry error": 0.01695,
         "fractal dimension error": 0.002801,
         "worst radius": 13.89,
         "worst texture": 35.74,
         "worst perimeter": 88.84,
         "worst area": 595.7,
         "worst smoothness": 0.1227,
         "worst compactness": 0.162,
         "worst concavity": 0.2439,
         "worst concave points": 0.06493,
         "worst symmetry": 0.2372,
         "worst fractal dimension": 0.07242,
         "target": 1,
         "_deepnote_index_column": 554
        },
        {
         "mean radius": 10.29,
         "mean texture": 27.61,
         "mean perimeter": 65.67,
         "mean area": 321.4,
         "mean smoothness": 0.0903,
         "mean compactness": 0.07658,
         "mean concavity": 0.05999,
         "mean concave points": 0.02738,
         "mean symmetry": 0.1593,
         "mean fractal dimension": 0.06127,
         "radius error": 0.2199,
         "texture error": 2.239,
         "perimeter error": 1.437,
         "area error": 14.46,
         "smoothness error": 0.01205,
         "compactness error": 0.02736,
         "concavity error": 0.04804,
         "concave points error": 0.01721,
         "symmetry error": 0.01843,
         "fractal dimension error": 0.004938,
         "worst radius": 10.84,
         "worst texture": 34.91,
         "worst perimeter": 69.57,
         "worst area": 357.6,
         "worst smoothness": 0.1384,
         "worst compactness": 0.171,
         "worst concavity": 0.2,
         "worst concave points": 0.09127,
         "worst symmetry": 0.2226,
         "worst fractal dimension": 0.08283,
         "target": 1,
         "_deepnote_index_column": 555
        },
        {
         "mean radius": 10.16,
         "mean texture": 19.59,
         "mean perimeter": 64.73,
         "mean area": 311.7,
         "mean smoothness": 0.1003,
         "mean compactness": 0.07504,
         "mean concavity": 0.005025,
         "mean concave points": 0.01116,
         "mean symmetry": 0.1791,
         "mean fractal dimension": 0.06331,
         "radius error": 0.2441,
         "texture error": 2.09,
         "perimeter error": 1.648,
         "area error": 16.8,
         "smoothness error": 0.01291,
         "compactness error": 0.02222,
         "concavity error": 0.004174,
         "concave points error": 0.007082,
         "symmetry error": 0.02572,
         "fractal dimension error": 0.002278,
         "worst radius": 10.65,
         "worst texture": 22.88,
         "worst perimeter": 67.88,
         "worst area": 347.3,
         "worst smoothness": 0.1265,
         "worst compactness": 0.12,
         "worst concavity": 0.01005,
         "worst concave points": 0.02232,
         "worst symmetry": 0.2262,
         "worst fractal dimension": 0.06742,
         "target": 1,
         "_deepnote_index_column": 556
        },
        {
         "mean radius": 9.423,
         "mean texture": 27.88,
         "mean perimeter": 59.26,
         "mean area": 271.3,
         "mean smoothness": 0.08123,
         "mean compactness": 0.04971,
         "mean concavity": 0,
         "mean concave points": 0,
         "mean symmetry": 0.1742,
         "mean fractal dimension": 0.06059,
         "radius error": 0.5375,
         "texture error": 2.927,
         "perimeter error": 3.618,
         "area error": 29.11,
         "smoothness error": 0.01159,
         "compactness error": 0.01124,
         "concavity error": 0,
         "concave points error": 0,
         "symmetry error": 0.03004,
         "fractal dimension error": 0.003324,
         "worst radius": 10.49,
         "worst texture": 34.24,
         "worst perimeter": 66.5,
         "worst area": 330.6,
         "worst smoothness": 0.1073,
         "worst compactness": 0.07158,
         "worst concavity": 0,
         "worst concave points": 0,
         "worst symmetry": 0.2475,
         "worst fractal dimension": 0.06969,
         "target": 1,
         "_deepnote_index_column": 557
        },
        {
         "mean radius": 14.59,
         "mean texture": 22.68,
         "mean perimeter": 96.39,
         "mean area": 657.1,
         "mean smoothness": 0.08473,
         "mean compactness": 0.133,
         "mean concavity": 0.1029,
         "mean concave points": 0.03736,
         "mean symmetry": 0.1454,
         "mean fractal dimension": 0.06147,
         "radius error": 0.2254,
         "texture error": 1.108,
         "perimeter error": 2.224,
         "area error": 19.54,
         "smoothness error": 0.004242,
         "compactness error": 0.04639,
         "concavity error": 0.06578,
         "concave points error": 0.01606,
         "symmetry error": 0.01638,
         "fractal dimension error": 0.004406,
         "worst radius": 15.48,
         "worst texture": 27.27,
         "worst perimeter": 105.9,
         "worst area": 733.5,
         "worst smoothness": 0.1026,
         "worst compactness": 0.3171,
         "worst concavity": 0.3662,
         "worst concave points": 0.1105,
         "worst symmetry": 0.2258,
         "worst fractal dimension": 0.08004,
         "target": 1,
         "_deepnote_index_column": 558
        },
        {
         "mean radius": 11.51,
         "mean texture": 23.93,
         "mean perimeter": 74.52,
         "mean area": 403.5,
         "mean smoothness": 0.09261,
         "mean compactness": 0.1021,
         "mean concavity": 0.1112,
         "mean concave points": 0.04105,
         "mean symmetry": 0.1388,
         "mean fractal dimension": 0.0657,
         "radius error": 0.2388,
         "texture error": 2.904,
         "perimeter error": 1.936,
         "area error": 16.97,
         "smoothness error": 0.0082,
         "compactness error": 0.02982,
         "concavity error": 0.05738,
         "concave points error": 0.01267,
         "symmetry error": 0.01488,
         "fractal dimension error": 0.004738,
         "worst radius": 12.48,
         "worst texture": 37.16,
         "worst perimeter": 82.28,
         "worst area": 474.2,
         "worst smoothness": 0.1298,
         "worst compactness": 0.2517,
         "worst concavity": 0.363,
         "worst concave points": 0.09653,
         "worst symmetry": 0.2112,
         "worst fractal dimension": 0.08732,
         "target": 1,
         "_deepnote_index_column": 559
        },
        {
         "mean radius": 14.05,
         "mean texture": 27.15,
         "mean perimeter": 91.38,
         "mean area": 600.4,
         "mean smoothness": 0.09929,
         "mean compactness": 0.1126,
         "mean concavity": 0.04462,
         "mean concave points": 0.04304,
         "mean symmetry": 0.1537,
         "mean fractal dimension": 0.06171,
         "radius error": 0.3645,
         "texture error": 1.492,
         "perimeter error": 2.888,
         "area error": 29.84,
         "smoothness error": 0.007256,
         "compactness error": 0.02678,
         "concavity error": 0.02071,
         "concave points error": 0.01626,
         "symmetry error": 0.0208,
         "fractal dimension error": 0.005304,
         "worst radius": 15.3,
         "worst texture": 33.17,
         "worst perimeter": 100.2,
         "worst area": 706.7,
         "worst smoothness": 0.1241,
         "worst compactness": 0.2264,
         "worst concavity": 0.1326,
         "worst concave points": 0.1048,
         "worst symmetry": 0.225,
         "worst fractal dimension": 0.08321,
         "target": 1,
         "_deepnote_index_column": 560
        },
        {
         "mean radius": 11.2,
         "mean texture": 29.37,
         "mean perimeter": 70.67,
         "mean area": 386,
         "mean smoothness": 0.07449,
         "mean compactness": 0.03558,
         "mean concavity": 0,
         "mean concave points": 0,
         "mean symmetry": 0.106,
         "mean fractal dimension": 0.05502,
         "radius error": 0.3141,
         "texture error": 3.896,
         "perimeter error": 2.041,
         "area error": 22.81,
         "smoothness error": 0.007594,
         "compactness error": 0.008878,
         "concavity error": 0,
         "concave points error": 0,
         "symmetry error": 0.01989,
         "fractal dimension error": 0.001773,
         "worst radius": 11.92,
         "worst texture": 38.3,
         "worst perimeter": 75.19,
         "worst area": 439.6,
         "worst smoothness": 0.09267,
         "worst compactness": 0.05494,
         "worst concavity": 0,
         "worst concave points": 0,
         "worst symmetry": 0.1566,
         "worst fractal dimension": 0.05905,
         "target": 1,
         "_deepnote_index_column": 561
        },
        {
         "mean radius": 15.22,
         "mean texture": 30.62,
         "mean perimeter": 103.4,
         "mean area": 716.9,
         "mean smoothness": 0.1048,
         "mean compactness": 0.2087,
         "mean concavity": 0.255,
         "mean concave points": 0.09429,
         "mean symmetry": 0.2128,
         "mean fractal dimension": 0.07152,
         "radius error": 0.2602,
         "texture error": 1.205,
         "perimeter error": 2.362,
         "area error": 22.65,
         "smoothness error": 0.004625,
         "compactness error": 0.04844,
         "concavity error": 0.07359,
         "concave points error": 0.01608,
         "symmetry error": 0.02137,
         "fractal dimension error": 0.006142,
         "worst radius": 17.52,
         "worst texture": 42.79,
         "worst perimeter": 128.7,
         "worst area": 915,
         "worst smoothness": 0.1417,
         "worst compactness": 0.7917,
         "worst concavity": 1.17,
         "worst concave points": 0.2356,
         "worst symmetry": 0.4089,
         "worst fractal dimension": 0.1409,
         "target": 0,
         "_deepnote_index_column": 562
        },
        {
         "mean radius": 20.92,
         "mean texture": 25.09,
         "mean perimeter": 143,
         "mean area": 1347,
         "mean smoothness": 0.1099,
         "mean compactness": 0.2236,
         "mean concavity": 0.3174,
         "mean concave points": 0.1474,
         "mean symmetry": 0.2149,
         "mean fractal dimension": 0.06879,
         "radius error": 0.9622,
         "texture error": 1.026,
         "perimeter error": 8.758,
         "area error": 118.8,
         "smoothness error": 0.006399,
         "compactness error": 0.0431,
         "concavity error": 0.07845,
         "concave points error": 0.02624,
         "symmetry error": 0.02057,
         "fractal dimension error": 0.006213,
         "worst radius": 24.29,
         "worst texture": 29.41,
         "worst perimeter": 179.1,
         "worst area": 1819,
         "worst smoothness": 0.1407,
         "worst compactness": 0.4186,
         "worst concavity": 0.6599,
         "worst concave points": 0.2542,
         "worst symmetry": 0.2929,
         "worst fractal dimension": 0.09873,
         "target": 0,
         "_deepnote_index_column": 563
        },
        {
         "mean radius": 21.56,
         "mean texture": 22.39,
         "mean perimeter": 142,
         "mean area": 1479,
         "mean smoothness": 0.111,
         "mean compactness": 0.1159,
         "mean concavity": 0.2439,
         "mean concave points": 0.1389,
         "mean symmetry": 0.1726,
         "mean fractal dimension": 0.05623,
         "radius error": 1.176,
         "texture error": 1.256,
         "perimeter error": 7.673,
         "area error": 158.7,
         "smoothness error": 0.0103,
         "compactness error": 0.02891,
         "concavity error": 0.05198,
         "concave points error": 0.02454,
         "symmetry error": 0.01114,
         "fractal dimension error": 0.004239,
         "worst radius": 25.45,
         "worst texture": 26.4,
         "worst perimeter": 166.1,
         "worst area": 2027,
         "worst smoothness": 0.141,
         "worst compactness": 0.2113,
         "worst concavity": 0.4107,
         "worst concave points": 0.2216,
         "worst symmetry": 0.206,
         "worst fractal dimension": 0.07115,
         "target": 0,
         "_deepnote_index_column": 564
        },
        {
         "mean radius": 20.13,
         "mean texture": 28.25,
         "mean perimeter": 131.2,
         "mean area": 1261,
         "mean smoothness": 0.0978,
         "mean compactness": 0.1034,
         "mean concavity": 0.144,
         "mean concave points": 0.09791,
         "mean symmetry": 0.1752,
         "mean fractal dimension": 0.05533,
         "radius error": 0.7655,
         "texture error": 2.463,
         "perimeter error": 5.203,
         "area error": 99.04,
         "smoothness error": 0.005769,
         "compactness error": 0.02423,
         "concavity error": 0.0395,
         "concave points error": 0.01678,
         "symmetry error": 0.01898,
         "fractal dimension error": 0.002498,
         "worst radius": 23.69,
         "worst texture": 38.25,
         "worst perimeter": 155,
         "worst area": 1731,
         "worst smoothness": 0.1166,
         "worst compactness": 0.1922,
         "worst concavity": 0.3215,
         "worst concave points": 0.1628,
         "worst symmetry": 0.2572,
         "worst fractal dimension": 0.06637,
         "target": 0,
         "_deepnote_index_column": 565
        },
        {
         "mean radius": 16.6,
         "mean texture": 28.08,
         "mean perimeter": 108.3,
         "mean area": 858.1,
         "mean smoothness": 0.08455,
         "mean compactness": 0.1023,
         "mean concavity": 0.09251,
         "mean concave points": 0.05302,
         "mean symmetry": 0.159,
         "mean fractal dimension": 0.05648,
         "radius error": 0.4564,
         "texture error": 1.075,
         "perimeter error": 3.425,
         "area error": 48.55,
         "smoothness error": 0.005903,
         "compactness error": 0.03731,
         "concavity error": 0.0473,
         "concave points error": 0.01557,
         "symmetry error": 0.01318,
         "fractal dimension error": 0.003892,
         "worst radius": 18.98,
         "worst texture": 34.12,
         "worst perimeter": 126.7,
         "worst area": 1124,
         "worst smoothness": 0.1139,
         "worst compactness": 0.3094,
         "worst concavity": 0.3403,
         "worst concave points": 0.1418,
         "worst symmetry": 0.2218,
         "worst fractal dimension": 0.0782,
         "target": 0,
         "_deepnote_index_column": 566
        },
        {
         "mean radius": 20.6,
         "mean texture": 29.33,
         "mean perimeter": 140.1,
         "mean area": 1265,
         "mean smoothness": 0.1178,
         "mean compactness": 0.277,
         "mean concavity": 0.3514,
         "mean concave points": 0.152,
         "mean symmetry": 0.2397,
         "mean fractal dimension": 0.07016,
         "radius error": 0.726,
         "texture error": 1.595,
         "perimeter error": 5.772,
         "area error": 86.22,
         "smoothness error": 0.006522,
         "compactness error": 0.06158,
         "concavity error": 0.07117,
         "concave points error": 0.01664,
         "symmetry error": 0.02324,
         "fractal dimension error": 0.006185,
         "worst radius": 25.74,
         "worst texture": 39.42,
         "worst perimeter": 184.6,
         "worst area": 1821,
         "worst smoothness": 0.165,
         "worst compactness": 0.8681,
         "worst concavity": 0.9387,
         "worst concave points": 0.265,
         "worst symmetry": 0.4087,
         "worst fractal dimension": 0.124,
         "target": 0,
         "_deepnote_index_column": 567
        },
        {
         "mean radius": 7.76,
         "mean texture": 24.54,
         "mean perimeter": 47.92,
         "mean area": 181,
         "mean smoothness": 0.05263,
         "mean compactness": 0.04362,
         "mean concavity": 0,
         "mean concave points": 0,
         "mean symmetry": 0.1587,
         "mean fractal dimension": 0.05884,
         "radius error": 0.3857,
         "texture error": 1.428,
         "perimeter error": 2.548,
         "area error": 19.15,
         "smoothness error": 0.007189,
         "compactness error": 0.00466,
         "concavity error": 0,
         "concave points error": 0,
         "symmetry error": 0.02676,
         "fractal dimension error": 0.002783,
         "worst radius": 9.456,
         "worst texture": 30.37,
         "worst perimeter": 59.16,
         "worst area": 268.6,
         "worst smoothness": 0.08996,
         "worst compactness": 0.06444,
         "worst concavity": 0,
         "worst concave points": 0,
         "worst symmetry": 0.2871,
         "worst fractal dimension": 0.07039,
         "target": 1,
         "_deepnote_index_column": 568
        }
       ]
      },
      "text/plain": "     mean radius  mean texture  mean perimeter  mean area  mean smoothness  \\\n0          17.99         10.38          122.80     1001.0          0.11840   \n1          20.57         17.77          132.90     1326.0          0.08474   \n2          19.69         21.25          130.00     1203.0          0.10960   \n3          11.42         20.38           77.58      386.1          0.14250   \n4          20.29         14.34          135.10     1297.0          0.10030   \n..           ...           ...             ...        ...              ...   \n564        21.56         22.39          142.00     1479.0          0.11100   \n565        20.13         28.25          131.20     1261.0          0.09780   \n566        16.60         28.08          108.30      858.1          0.08455   \n567        20.60         29.33          140.10     1265.0          0.11780   \n568         7.76         24.54           47.92      181.0          0.05263   \n\n     mean compactness  mean concavity  mean concave points  mean symmetry  \\\n0             0.27760         0.30010              0.14710         0.2419   \n1             0.07864         0.08690              0.07017         0.1812   \n2             0.15990         0.19740              0.12790         0.2069   \n3             0.28390         0.24140              0.10520         0.2597   \n4             0.13280         0.19800              0.10430         0.1809   \n..                ...             ...                  ...            ...   \n564           0.11590         0.24390              0.13890         0.1726   \n565           0.10340         0.14400              0.09791         0.1752   \n566           0.10230         0.09251              0.05302         0.1590   \n567           0.27700         0.35140              0.15200         0.2397   \n568           0.04362         0.00000              0.00000         0.1587   \n\n     mean fractal dimension  ...  worst texture  worst perimeter  worst area  \\\n0                   0.07871  ...          17.33           184.60      2019.0   \n1                   0.05667  ...          23.41           158.80      1956.0   \n2                   0.05999  ...          25.53           152.50      1709.0   \n3                   0.09744  ...          26.50            98.87       567.7   \n4                   0.05883  ...          16.67           152.20      1575.0   \n..                      ...  ...            ...              ...         ...   \n564                 0.05623  ...          26.40           166.10      2027.0   \n565                 0.05533  ...          38.25           155.00      1731.0   \n566                 0.05648  ...          34.12           126.70      1124.0   \n567                 0.07016  ...          39.42           184.60      1821.0   \n568                 0.05884  ...          30.37            59.16       268.6   \n\n     worst smoothness  worst compactness  worst concavity  \\\n0             0.16220            0.66560           0.7119   \n1             0.12380            0.18660           0.2416   \n2             0.14440            0.42450           0.4504   \n3             0.20980            0.86630           0.6869   \n4             0.13740            0.20500           0.4000   \n..                ...                ...              ...   \n564           0.14100            0.21130           0.4107   \n565           0.11660            0.19220           0.3215   \n566           0.11390            0.30940           0.3403   \n567           0.16500            0.86810           0.9387   \n568           0.08996            0.06444           0.0000   \n\n     worst concave points  worst symmetry  worst fractal dimension  target  \n0                  0.2654          0.4601                  0.11890     0.0  \n1                  0.1860          0.2750                  0.08902     0.0  \n2                  0.2430          0.3613                  0.08758     0.0  \n3                  0.2575          0.6638                  0.17300     0.0  \n4                  0.1625          0.2364                  0.07678     0.0  \n..                    ...             ...                      ...     ...  \n564                0.2216          0.2060                  0.07115     0.0  \n565                0.1628          0.2572                  0.06637     0.0  \n566                0.1418          0.2218                  0.07820     0.0  \n567                0.2650          0.4087                  0.12400     0.0  \n568                0.0000          0.2871                  0.07039     1.0  \n\n[569 rows x 31 columns]",
      "text/html": "<div>\n<style scoped>\n    .dataframe tbody tr th:only-of-type {\n        vertical-align: middle;\n    }\n\n    .dataframe tbody tr th {\n        vertical-align: top;\n    }\n\n    .dataframe thead th {\n        text-align: right;\n    }\n</style>\n<table border=\"1\" class=\"dataframe\">\n  <thead>\n    <tr style=\"text-align: right;\">\n      <th></th>\n      <th>mean radius</th>\n      <th>mean texture</th>\n      <th>mean perimeter</th>\n      <th>mean area</th>\n      <th>mean smoothness</th>\n      <th>mean compactness</th>\n      <th>mean concavity</th>\n      <th>mean concave points</th>\n      <th>mean symmetry</th>\n      <th>mean fractal dimension</th>\n      <th>...</th>\n      <th>worst texture</th>\n      <th>worst perimeter</th>\n      <th>worst area</th>\n      <th>worst smoothness</th>\n      <th>worst compactness</th>\n      <th>worst concavity</th>\n      <th>worst concave points</th>\n      <th>worst symmetry</th>\n      <th>worst fractal dimension</th>\n      <th>target</th>\n    </tr>\n  </thead>\n  <tbody>\n    <tr>\n      <th>0</th>\n      <td>17.99</td>\n      <td>10.38</td>\n      <td>122.80</td>\n      <td>1001.0</td>\n      <td>0.11840</td>\n      <td>0.27760</td>\n      <td>0.30010</td>\n      <td>0.14710</td>\n      <td>0.2419</td>\n      <td>0.07871</td>\n      <td>...</td>\n      <td>17.33</td>\n      <td>184.60</td>\n      <td>2019.0</td>\n      <td>0.16220</td>\n      <td>0.66560</td>\n      <td>0.7119</td>\n      <td>0.2654</td>\n      <td>0.4601</td>\n      <td>0.11890</td>\n      <td>0.0</td>\n    </tr>\n    <tr>\n      <th>1</th>\n      <td>20.57</td>\n      <td>17.77</td>\n      <td>132.90</td>\n      <td>1326.0</td>\n      <td>0.08474</td>\n      <td>0.07864</td>\n      <td>0.08690</td>\n      <td>0.07017</td>\n      <td>0.1812</td>\n      <td>0.05667</td>\n      <td>...</td>\n      <td>23.41</td>\n      <td>158.80</td>\n      <td>1956.0</td>\n      <td>0.12380</td>\n      <td>0.18660</td>\n      <td>0.2416</td>\n      <td>0.1860</td>\n      <td>0.2750</td>\n      <td>0.08902</td>\n      <td>0.0</td>\n    </tr>\n    <tr>\n      <th>2</th>\n      <td>19.69</td>\n      <td>21.25</td>\n      <td>130.00</td>\n      <td>1203.0</td>\n      <td>0.10960</td>\n      <td>0.15990</td>\n      <td>0.19740</td>\n      <td>0.12790</td>\n      <td>0.2069</td>\n      <td>0.05999</td>\n      <td>...</td>\n      <td>25.53</td>\n      <td>152.50</td>\n      <td>1709.0</td>\n      <td>0.14440</td>\n      <td>0.42450</td>\n      <td>0.4504</td>\n      <td>0.2430</td>\n      <td>0.3613</td>\n      <td>0.08758</td>\n      <td>0.0</td>\n    </tr>\n    <tr>\n      <th>3</th>\n      <td>11.42</td>\n      <td>20.38</td>\n      <td>77.58</td>\n      <td>386.1</td>\n      <td>0.14250</td>\n      <td>0.28390</td>\n      <td>0.24140</td>\n      <td>0.10520</td>\n      <td>0.2597</td>\n      <td>0.09744</td>\n      <td>...</td>\n      <td>26.50</td>\n      <td>98.87</td>\n      <td>567.7</td>\n      <td>0.20980</td>\n      <td>0.86630</td>\n      <td>0.6869</td>\n      <td>0.2575</td>\n      <td>0.6638</td>\n      <td>0.17300</td>\n      <td>0.0</td>\n    </tr>\n    <tr>\n      <th>4</th>\n      <td>20.29</td>\n      <td>14.34</td>\n      <td>135.10</td>\n      <td>1297.0</td>\n      <td>0.10030</td>\n      <td>0.13280</td>\n      <td>0.19800</td>\n      <td>0.10430</td>\n      <td>0.1809</td>\n      <td>0.05883</td>\n      <td>...</td>\n      <td>16.67</td>\n      <td>152.20</td>\n      <td>1575.0</td>\n      <td>0.13740</td>\n      <td>0.20500</td>\n      <td>0.4000</td>\n      <td>0.1625</td>\n      <td>0.2364</td>\n      <td>0.07678</td>\n      <td>0.0</td>\n    </tr>\n    <tr>\n      <th>...</th>\n      <td>...</td>\n      <td>...</td>\n      <td>...</td>\n      <td>...</td>\n      <td>...</td>\n      <td>...</td>\n      <td>...</td>\n      <td>...</td>\n      <td>...</td>\n      <td>...</td>\n      <td>...</td>\n      <td>...</td>\n      <td>...</td>\n      <td>...</td>\n      <td>...</td>\n      <td>...</td>\n      <td>...</td>\n      <td>...</td>\n      <td>...</td>\n      <td>...</td>\n      <td>...</td>\n    </tr>\n    <tr>\n      <th>564</th>\n      <td>21.56</td>\n      <td>22.39</td>\n      <td>142.00</td>\n      <td>1479.0</td>\n      <td>0.11100</td>\n      <td>0.11590</td>\n      <td>0.24390</td>\n      <td>0.13890</td>\n      <td>0.1726</td>\n      <td>0.05623</td>\n      <td>...</td>\n      <td>26.40</td>\n      <td>166.10</td>\n      <td>2027.0</td>\n      <td>0.14100</td>\n      <td>0.21130</td>\n      <td>0.4107</td>\n      <td>0.2216</td>\n      <td>0.2060</td>\n      <td>0.07115</td>\n      <td>0.0</td>\n    </tr>\n    <tr>\n      <th>565</th>\n      <td>20.13</td>\n      <td>28.25</td>\n      <td>131.20</td>\n      <td>1261.0</td>\n      <td>0.09780</td>\n      <td>0.10340</td>\n      <td>0.14400</td>\n      <td>0.09791</td>\n      <td>0.1752</td>\n      <td>0.05533</td>\n      <td>...</td>\n      <td>38.25</td>\n      <td>155.00</td>\n      <td>1731.0</td>\n      <td>0.11660</td>\n      <td>0.19220</td>\n      <td>0.3215</td>\n      <td>0.1628</td>\n      <td>0.2572</td>\n      <td>0.06637</td>\n      <td>0.0</td>\n    </tr>\n    <tr>\n      <th>566</th>\n      <td>16.60</td>\n      <td>28.08</td>\n      <td>108.30</td>\n      <td>858.1</td>\n      <td>0.08455</td>\n      <td>0.10230</td>\n      <td>0.09251</td>\n      <td>0.05302</td>\n      <td>0.1590</td>\n      <td>0.05648</td>\n      <td>...</td>\n      <td>34.12</td>\n      <td>126.70</td>\n      <td>1124.0</td>\n      <td>0.11390</td>\n      <td>0.30940</td>\n      <td>0.3403</td>\n      <td>0.1418</td>\n      <td>0.2218</td>\n      <td>0.07820</td>\n      <td>0.0</td>\n    </tr>\n    <tr>\n      <th>567</th>\n      <td>20.60</td>\n      <td>29.33</td>\n      <td>140.10</td>\n      <td>1265.0</td>\n      <td>0.11780</td>\n      <td>0.27700</td>\n      <td>0.35140</td>\n      <td>0.15200</td>\n      <td>0.2397</td>\n      <td>0.07016</td>\n      <td>...</td>\n      <td>39.42</td>\n      <td>184.60</td>\n      <td>1821.0</td>\n      <td>0.16500</td>\n      <td>0.86810</td>\n      <td>0.9387</td>\n      <td>0.2650</td>\n      <td>0.4087</td>\n      <td>0.12400</td>\n      <td>0.0</td>\n    </tr>\n    <tr>\n      <th>568</th>\n      <td>7.76</td>\n      <td>24.54</td>\n      <td>47.92</td>\n      <td>181.0</td>\n      <td>0.05263</td>\n      <td>0.04362</td>\n      <td>0.00000</td>\n      <td>0.00000</td>\n      <td>0.1587</td>\n      <td>0.05884</td>\n      <td>...</td>\n      <td>30.37</td>\n      <td>59.16</td>\n      <td>268.6</td>\n      <td>0.08996</td>\n      <td>0.06444</td>\n      <td>0.0000</td>\n      <td>0.0000</td>\n      <td>0.2871</td>\n      <td>0.07039</td>\n      <td>1.0</td>\n    </tr>\n  </tbody>\n</table>\n<p>569 rows × 31 columns</p>\n</div>"
     },
     "metadata": {}
    }
   ],
   "execution_count": 3
  },
  {
   "cell_type": "markdown",
   "source": "## Data Inspection/Exploration",
   "metadata": {
    "id": "EvXIhc6jHroe",
    "cell_id": "00005-9ce77afd-93c7-4c65-8322-e1abece2475d",
    "deepnote_cell_type": "markdown"
   }
  },
  {
   "cell_type": "code",
   "metadata": {
    "colab": {
     "base_uri": "https://localhost:8080/"
    },
    "id": "NH5K2kYQixWs",
    "outputId": "dd31e81c-a594-496b-c636-ae8daf9c3399",
    "cell_id": "00006-8f16713f-adf1-4af0-89a2-bd81ce7227ef",
    "deepnote_to_be_reexecuted": false,
    "source_hash": "9166276",
    "execution_start": 1636101221023,
    "execution_millis": 6,
    "deepnote_cell_type": "code"
   },
   "source": "df['target'].value_counts()\n",
   "outputs": [
    {
     "output_type": "execute_result",
     "execution_count": 4,
     "data": {
      "text/plain": "1.0    357\n0.0    212\nName: target, dtype: int64"
     },
     "metadata": {}
    }
   ],
   "execution_count": 4
  },
  {
   "cell_type": "code",
   "metadata": {
    "id": "rfSfdKNCH-oN",
    "colab": {
     "base_uri": "https://localhost:8080/",
     "height": 295
    },
    "outputId": "7a89dda0-d3a7-42d4-db0e-f210441677ec",
    "cell_id": "00007-3f9dee1b-c806-49ce-a76a-a022fd57e6be",
    "deepnote_to_be_reexecuted": false,
    "source_hash": "1fba3ec7",
    "execution_start": 1636101284671,
    "execution_millis": 221,
    "deepnote_cell_type": "code"
   },
   "source": "# inspect the distribution of the target variable \n\nsns.countplot(df[\"target\"])\nplt.show()",
   "outputs": [
    {
     "data": {
      "text/plain": "<Figure size 432x288 with 1 Axes>",
      "image/png": "[encoded data removed]"
     },
     "metadata": {
      "image/png": {
       "width": 389,
       "height": 262
      }
     },
     "output_type": "display_data"
    }
   ],
   "execution_count": 7
  },
  {
   "cell_type": "markdown",
   "source": "**Commentary**:  \nWhen the dataset is imbalanced like this, it's better to use performance metrics, such as \"AUC\" (Area Under Curve)",
   "metadata": {
    "tags": [],
    "cell_id": "00008-c36f5aad-6fe4-4ef5-9944-1bba27827d3b",
    "deepnote_cell_type": "markdown"
   }
  },
  {
   "cell_type": "code",
   "metadata": {
    "id": "Rty_ZwMA9sqi",
    "colab": {
     "base_uri": "https://localhost:8080/"
    },
    "outputId": "c4bcab52-bc1d-4b54-c88f-abffa2bce1d4",
    "cell_id": "00008-150c26f3-2581-4795-9882-1ab26532fd8c",
    "deepnote_to_be_reexecuted": false,
    "source_hash": "a2765e0f",
    "execution_start": 1636101499515,
    "execution_millis": 14,
    "deepnote_cell_type": "code"
   },
   "source": "#inspect the data and columns\n# count number of empty values in each column\n\ndf.isna().sum()\n",
   "outputs": [
    {
     "output_type": "execute_result",
     "execution_count": 8,
     "data": {
      "text/plain": "mean radius                0\nmean texture               0\nmean perimeter             0\nmean area                  0\nmean smoothness            0\nmean compactness           0\nmean concavity             0\nmean concave points        0\nmean symmetry              0\nmean fractal dimension     0\nradius error               0\ntexture error              0\nperimeter error            0\narea error                 0\nsmoothness error           0\ncompactness error          0\nconcavity error            0\nconcave points error       0\nsymmetry error             0\nfractal dimension error    0\nworst radius               0\nworst texture              0\nworst perimeter            0\nworst area                 0\nworst smoothness           0\nworst compactness          0\nworst concavity            0\nworst concave points       0\nworst symmetry             0\nworst fractal dimension    0\ntarget                     0\ndtype: int64"
     },
     "metadata": {}
    }
   ],
   "execution_count": 8
  },
  {
   "cell_type": "code",
   "metadata": {
    "colab": {
     "base_uri": "https://localhost:8080/"
    },
    "id": "w3d3YOyYjxv4",
    "outputId": "2c040cf7-5854-4cdf-e79c-6fc0b94c5586",
    "cell_id": "00009-30528424-ceba-40d5-ae98-a902ffaa4e6e",
    "deepnote_to_be_reexecuted": false,
    "source_hash": "38adf12b",
    "execution_start": 1636101531878,
    "execution_millis": 16,
    "deepnote_cell_type": "code"
   },
   "source": "#look at the data types to see if and which columns need to be encoded\n\ndf.info()",
   "outputs": [
    {
     "name": "stdout",
     "text": "<class 'pandas.core.frame.DataFrame'>\nRangeIndex: 569 entries, 0 to 568\nData columns (total 31 columns):\n #   Column                   Non-Null Count  Dtype  \n---  ------                   --------------  -----  \n 0   mean radius              569 non-null    float64\n 1   mean texture             569 non-null    float64\n 2   mean perimeter           569 non-null    float64\n 3   mean area                569 non-null    float64\n 4   mean smoothness          569 non-null    float64\n 5   mean compactness         569 non-null    float64\n 6   mean concavity           569 non-null    float64\n 7   mean concave points      569 non-null    float64\n 8   mean symmetry            569 non-null    float64\n 9   mean fractal dimension   569 non-null    float64\n 10  radius error             569 non-null    float64\n 11  texture error            569 non-null    float64\n 12  perimeter error          569 non-null    float64\n 13  area error               569 non-null    float64\n 14  smoothness error         569 non-null    float64\n 15  compactness error        569 non-null    float64\n 16  concavity error          569 non-null    float64\n 17  concave points error     569 non-null    float64\n 18  symmetry error           569 non-null    float64\n 19  fractal dimension error  569 non-null    float64\n 20  worst radius             569 non-null    float64\n 21  worst texture            569 non-null    float64\n 22  worst perimeter          569 non-null    float64\n 23  worst area               569 non-null    float64\n 24  worst smoothness         569 non-null    float64\n 25  worst compactness        569 non-null    float64\n 26  worst concavity          569 non-null    float64\n 27  worst concave points     569 non-null    float64\n 28  worst symmetry           569 non-null    float64\n 29  worst fractal dimension  569 non-null    float64\n 30  target                   569 non-null    float64\ndtypes: float64(31)\nmemory usage: 137.9 KB\n",
     "output_type": "stream"
    }
   ],
   "execution_count": 9
  },
  {
   "cell_type": "code",
   "metadata": {
    "id": "Egfds3xAULJF",
    "colab": {
     "base_uri": "https://localhost:8080/"
    },
    "outputId": "48516992-5cec-42c1-afa4-b27933462194",
    "cell_id": "00010-00a7210e-ed5f-4e51-8c5e-f72780db9811",
    "deepnote_to_be_reexecuted": false,
    "source_hash": "cc9166da",
    "execution_start": 1636101656432,
    "execution_millis": 3,
    "deepnote_cell_type": "code"
   },
   "source": "#define X and y\n\nX = df.drop(columns=[\"target\"], axis=1)\ny = df[\"target\"]\n\n",
   "outputs": [],
   "execution_count": 11
  },
  {
   "cell_type": "code",
   "metadata": {
    "tags": [],
    "cell_id": "00012-4fef9be7-f972-4172-8ddc-618fcf6af79c",
    "deepnote_to_be_reexecuted": false,
    "source_hash": "fed8a009",
    "execution_start": 1636101700766,
    "execution_millis": 7,
    "deepnote_cell_type": "code"
   },
   "source": "# Checking out the result\nX.info()",
   "outputs": [
    {
     "name": "stdout",
     "text": "<class 'pandas.core.frame.DataFrame'>\nRangeIndex: 569 entries, 0 to 568\nData columns (total 30 columns):\n #   Column                   Non-Null Count  Dtype  \n---  ------                   --------------  -----  \n 0   mean radius              569 non-null    float64\n 1   mean texture             569 non-null    float64\n 2   mean perimeter           569 non-null    float64\n 3   mean area                569 non-null    float64\n 4   mean smoothness          569 non-null    float64\n 5   mean compactness         569 non-null    float64\n 6   mean concavity           569 non-null    float64\n 7   mean concave points      569 non-null    float64\n 8   mean symmetry            569 non-null    float64\n 9   mean fractal dimension   569 non-null    float64\n 10  radius error             569 non-null    float64\n 11  texture error            569 non-null    float64\n 12  perimeter error          569 non-null    float64\n 13  area error               569 non-null    float64\n 14  smoothness error         569 non-null    float64\n 15  compactness error        569 non-null    float64\n 16  concavity error          569 non-null    float64\n 17  concave points error     569 non-null    float64\n 18  symmetry error           569 non-null    float64\n 19  fractal dimension error  569 non-null    float64\n 20  worst radius             569 non-null    float64\n 21  worst texture            569 non-null    float64\n 22  worst perimeter          569 non-null    float64\n 23  worst area               569 non-null    float64\n 24  worst smoothness         569 non-null    float64\n 25  worst compactness        569 non-null    float64\n 26  worst concavity          569 non-null    float64\n 27  worst concave points     569 non-null    float64\n 28  worst symmetry           569 non-null    float64\n 29  worst fractal dimension  569 non-null    float64\ndtypes: float64(30)\nmemory usage: 133.5 KB\n",
     "output_type": "stream"
    }
   ],
   "execution_count": 15
  },
  {
   "cell_type": "code",
   "metadata": {
    "tags": [],
    "cell_id": "00013-88aed5c6-ed00-41c3-a235-d44b5beb7b3d",
    "deepnote_to_be_reexecuted": false,
    "source_hash": "acd07345",
    "execution_start": 1636101714145,
    "execution_millis": 16,
    "deepnote_cell_type": "code"
   },
   "source": "# Checking out the y\ny",
   "outputs": [
    {
     "output_type": "execute_result",
     "execution_count": 16,
     "data": {
      "text/plain": "0      0.0\n1      0.0\n2      0.0\n3      0.0\n4      0.0\n      ... \n564    0.0\n565    0.0\n566    0.0\n567    0.0\n568    1.0\nName: target, Length: 569, dtype: float64"
     },
     "metadata": {}
    }
   ],
   "execution_count": 16
  },
  {
   "cell_type": "code",
   "metadata": {
    "id": "nogeYRgB_tjc",
    "cell_id": "00011-604e7114-cab6-41e8-aca4-12bdc5828c0f",
    "deepnote_to_be_reexecuted": false,
    "source_hash": "7fc4324b",
    "execution_start": 1636101770977,
    "execution_millis": 3,
    "deepnote_cell_type": "code"
   },
   "source": "from tensorflow.keras import utils\n# Prepare the target variable to have a 2 dim shape\n\n# Checking out shape of X (expected output: (569, 30))\nX.shape",
   "outputs": [
    {
     "output_type": "execute_result",
     "execution_count": 19,
     "data": {
      "text/plain": "(569, 30)"
     },
     "metadata": {}
    }
   ],
   "execution_count": 19
  },
  {
   "cell_type": "code",
   "metadata": {
    "tags": [],
    "cell_id": "00015-a86a2118-f8c0-41f6-97a0-371f0c64e588",
    "deepnote_to_be_reexecuted": false,
    "source_hash": "57b8ea20",
    "execution_start": 1636101804499,
    "execution_millis": 2,
    "deepnote_cell_type": "code"
   },
   "source": "# Checking out shape of y\ny.shape",
   "outputs": [
    {
     "output_type": "execute_result",
     "execution_count": 20,
     "data": {
      "text/plain": "(569,)"
     },
     "metadata": {}
    }
   ],
   "execution_count": 20
  },
  {
   "cell_type": "markdown",
   "source": "**Commentary**:  \nFirst, we'll try without reshaping to 2-dim.",
   "metadata": {
    "tags": [],
    "cell_id": "00016-a9d074f2-5da1-4a2a-b956-91a90d2aafa8",
    "deepnote_cell_type": "markdown"
   }
  },
  {
   "cell_type": "markdown",
   "source": "## 1) Split the Data into Train/Test",
   "metadata": {
    "id": "dvNTnzqJCZcf",
    "cell_id": "00012-0d4d06da-add1-465b-ad71-c70c32d0cff0",
    "deepnote_cell_type": "markdown"
   }
  },
  {
   "cell_type": "code",
   "metadata": {
    "id": "hq_mpO7LCF1j",
    "colab": {
     "base_uri": "https://localhost:8080/"
    },
    "outputId": "d27da56f-5f7e-4958-ab8b-ba68ddf3135c",
    "cell_id": "00013-97020734-ad3a-4d16-a5c6-62cd055b4716",
    "deepnote_to_be_reexecuted": false,
    "source_hash": "999c0afe",
    "execution_start": 1636102861514,
    "execution_millis": 1,
    "deepnote_cell_type": "code"
   },
   "source": "from sklearn.model_selection import train_test_split\n# use random state 42\n\nrandom_state = 42\n\nX_train, X_test, y_train, y_test = train_test_split(X, y, test_size=0.2, random_state=random_state)\n\nprint(X_train.shape)\nprint(X_test.shape)",
   "outputs": [
    {
     "name": "stdout",
     "text": "(455, 30)\n(114, 30)\n",
     "output_type": "stream"
    }
   ],
   "execution_count": 28
  },
  {
   "cell_type": "code",
   "metadata": {
    "id": "LEu-XQIuLfE4",
    "cell_id": "00014-b276531f-d1e9-4147-9df5-440caccd6947",
    "deepnote_to_be_reexecuted": false,
    "source_hash": "244d249d",
    "execution_start": 1636102865424,
    "execution_millis": 10,
    "deepnote_cell_type": "code"
   },
   "source": "# feature scaling - standardscaler\nfrom sklearn import preprocessing\nscaler=preprocessing.StandardScaler()\n\nprint(\"Before scaling:\")\nprint(f\"X_train['mean area'].mean() = {X_train['mean area'].mean()}\")\nprint(f\"X_train['mean area'].std()  = {X_train['mean area'].std()}\")\nprint(f\"X_test['mean area'].mean() = {X_test['mean area'].mean()}\")\nprint(f\"X_test['mean area'].std()  = {X_test['mean area'].std()}\")\n\n#scaler.fit(X_train)\n#scaler = StandardScaler()\nX_train = scaler.fit_transform(X_train)\n\n#scaler.fit(X_test)\nX_test = scaler.transform(X_test)\n\n# We don't have data leakage as we're not working with the test data mean (we know the train data mean)\n\n\n# scaled arrays\nprint(\"After scaling:\")\nprint(f\"X_train['mean area'].mean() = {X_train[3].mean()}\")\nprint(f\"X_train['mean area'].std()  = {X_train[3].std()}\")\nprint(f\"X_test['mean area'].mean() = {X_test[3].mean()}\")\nprint(f\"X_test['mean area'].std()  = {X_test[3].std()}\")\n",
   "outputs": [
    {
     "name": "stdout",
     "text": "Before scaling:\nX_train['mean area'].mean() = 654.3775824175823\nX_train['mean area'].std()  = 354.9431872121614\nX_test['mean area'].mean() = 656.9307017543858\nX_test['mean area'].std()  = 341.07464475807683\nAfter scaling:\nX_train['mean area'].mean() = -0.29137567088745053\nX_train['mean area'].std()  = 0.7077520021945312\nX_test['mean area'].mean() = -0.03044547059820577\nX_test['mean area'].std()  = 0.5521101672547237\n",
     "output_type": "stream"
    }
   ],
   "execution_count": 29
  },
  {
   "cell_type": "code",
   "metadata": {
    "tags": [],
    "cell_id": "00020-e4630c53-8ac2-4fcb-a791-9901483e4f37",
    "deepnote_to_be_reexecuted": false,
    "source_hash": "d8688e6f",
    "execution_start": 1636102990162,
    "execution_millis": 73,
    "deepnote_cell_type": "code"
   },
   "source": "print(f\"X_train[4].mean() = {X_train[4].mean()}\")\nprint(f\"X_train[4].std()  = {X_train[4].std()}\")\nprint(f\"X_test[4].mean() = {X_test[4].mean()}\")\nprint(f\"X_test[4].std()  = {X_test[4].std()}\")",
   "outputs": [
    {
     "name": "stdout",
     "text": "X_train[4].mean() = -0.19895890306764658\nX_train[4].std()  = 1.1427726020572646\nX_test[4].mean() = -0.16640119661523395\nX_test[4].std()  = 0.6833681620791682\n",
     "output_type": "stream"
    }
   ],
   "execution_count": 31
  },
  {
   "cell_type": "markdown",
   "source": "## Create Classifier",
   "metadata": {
    "id": "qnDZpY7dNGV4",
    "cell_id": "00015-91d0c93d-d4af-4dca-ac91-f4990874fe93",
    "deepnote_cell_type": "markdown"
   }
  },
  {
   "cell_type": "code",
   "metadata": {
    "id": "aKopWmrJCnK_",
    "cell_id": "00016-bed59480-2c9e-4675-a124-411777b6533f",
    "deepnote_to_be_reexecuted": false,
    "source_hash": "88711c75",
    "execution_start": 1636103588452,
    "execution_millis": 1,
    "deepnote_cell_type": "code"
   },
   "source": "from tensorflow import keras\nfrom tensorflow.keras.models import Sequential\nfrom tensorflow.keras.layers import Dense\n",
   "outputs": [],
   "execution_count": 33
  },
  {
   "cell_type": "code",
   "metadata": {
    "id": "RqhUBrRvCsS6",
    "cell_id": "00017-4e0342b3-92a6-4e0f-ad08-6e75db3e881e",
    "deepnote_to_be_reexecuted": false,
    "source_hash": "58fe38b3",
    "execution_start": 1636105268359,
    "execution_millis": 0,
    "deepnote_cell_type": "code"
   },
   "source": "\n# implement a NN with 2 hiddenlayers, for you could use first hidden layer of size 15, second of size 6 \n\ndef make_my_model():\n    model = Sequential()\n\n    model.add(Dense(15, input_dim=X_train.shape[1], activation='relu', kernel_initializer=keras.initializers.he_normal(seed=42), bias_initializer='zeros')) # first hidden layer, defines also the input layer\n    model.add(Dense(6, activation='relu', kernel_initializer=keras.initializers.he_normal(seed=42), bias_initializer='zeros')) # second hidden layer\n    model.add(Dense(1, activation='sigmoid', kernel_initializer=keras.initializers.he_normal(seed=42), bias_initializer='zeros')) # output layer\n\n    return(model)",
   "outputs": [],
   "execution_count": 61
  },
  {
   "cell_type": "code",
   "metadata": {
    "id": "Trg8k2LwCyva",
    "cell_id": "00018-5521dd49-5bca-4e47-9d78-b4eab3a4694f",
    "deepnote_to_be_reexecuted": false,
    "source_hash": "b3345dba",
    "execution_start": 1636104260827,
    "execution_millis": 8,
    "deepnote_cell_type": "code"
   },
   "source": "#compile the model\nfrom tensorflow.keras.optimizers import Adam\n\nmodel.compile( loss='binary_crossentropy', optimizer='adam', metrics=['accuracy'])",
   "outputs": [],
   "execution_count": 42
  },
  {
   "cell_type": "code",
   "metadata": {
    "id": "EAanQbf7l5Df",
    "cell_id": "00019-31b09ecc-11b4-4084-a4ea-ce329fbebe1a",
    "deepnote_to_be_reexecuted": false,
    "source_hash": "bd77a777",
    "execution_start": 1636104266655,
    "execution_millis": 2,
    "deepnote_cell_type": "code"
   },
   "source": "#show model summary\nmodel.summary()",
   "outputs": [
    {
     "name": "stdout",
     "text": "Model: \"sequential_2\"\n_________________________________________________________________\nLayer (type)                 Output Shape              Param #   \n=================================================================\ndense_3 (Dense)              (None, 15)                465       \n_________________________________________________________________\ndense_4 (Dense)              (None, 6)                 96        \n_________________________________________________________________\ndense_5 (Dense)              (None, 1)                 7         \n=================================================================\nTotal params: 568\nTrainable params: 568\nNon-trainable params: 0\n_________________________________________________________________\n",
     "output_type": "stream"
    }
   ],
   "execution_count": 43
  },
  {
   "cell_type": "code",
   "metadata": {
    "colab": {
     "base_uri": "https://localhost:8080/"
    },
    "id": "HjajWIPalsAp",
    "outputId": "69d8d338-1d34-4ebe-96cc-f29d5b42b3f3",
    "cell_id": "00020-1b0679c0-29db-493f-809e-96cbb2964f56",
    "deepnote_cell_type": "code"
   },
   "source": "",
   "outputs": [
    {
     "output_type": "stream",
     "name": "stdout",
     "text": "Model: \"sequential\"\n_________________________________________________________________\nLayer (type)                 Output Shape              Param #   \n=================================================================\ndense (Dense)                (None, 15)                465       \n_________________________________________________________________\ndense_1 (Dense)              (None, 6)                 96        \n_________________________________________________________________\ndense_2 (Dense)              (None, 1)                 7         \n=================================================================\nTotal params: 568\nTrainable params: 568\nNon-trainable params: 0\n_________________________________________________________________\n"
    }
   ],
   "execution_count": null
  },
  {
   "cell_type": "code",
   "metadata": {
    "id": "B-kHOxG_ImdG",
    "colab": {
     "base_uri": "https://localhost:8080/"
    },
    "outputId": "b06f3f21-a748-4c79-e8ad-f530a277e99f",
    "cell_id": "00021-356caa4d-cb18-4199-b284-6aeb0f4402ad",
    "deepnote_to_be_reexecuted": false,
    "source_hash": "b7f07371",
    "execution_start": 1636104067269,
    "execution_millis": 6,
    "deepnote_cell_type": "code"
   },
   "source": "# see if you can reproduce the parameters from input to hidden layer:\n\n#(dimension of W_1)\nname = \"dense\"\nprint(f\"Weights[{name}] = {model.get_layer(name).weights[0].numpy().size}\")\nprint(f\"Biases[{name}] = {model.get_layer(name).weights[1].numpy().size}\")\n\n# first hidden to second hidden layer\n#(dimension of W_2))\nname = \"dense_1\"\nprint(f\"Weights[{name}] = {model.get_layer(name).weights[0].numpy().size}\")\nprint(f\"Biases[{name}] = {model.get_layer(name).weights[1].numpy().size}\")\n\n\n# second hidden to output layer\n#(dimension of W_3 )\nname = \"dense_2\"\nprint(f\"Weights[{name}] = {model.get_layer(name).weights[0].numpy().size}\")\nprint(f\"Biases[{name}] = {model.get_layer(name).weights[1].numpy().size}\")",
   "outputs": [
    {
     "name": "stdout",
     "text": "Weights[dense] = 450\nBiases[dense] = 15\nWeights[dense_1] = 90\nBiases[dense_1] = 6\nWeights[dense_2] = 6\nBiases[dense_2] = 1\n",
     "output_type": "stream"
    }
   ],
   "execution_count": 39
  },
  {
   "cell_type": "code",
   "metadata": {
    "id": "XRVmifMsC1lS",
    "colab": {
     "base_uri": "https://localhost:8080/"
    },
    "outputId": "9ae0ba0d-7b36-4938-b224-4fbeabd2545b",
    "cell_id": "00022-0a2ad3b7-6728-4e04-9ad7-593965037054",
    "deepnote_to_be_reexecuted": false,
    "source_hash": "22913f2f",
    "execution_start": 1636104282122,
    "execution_millis": 4065,
    "deepnote_cell_type": "code"
   },
   "source": "#fit the model\n\nbatch_size = 10\nepochs = 30\n\nstory = model.fit(x=X_train,\n                  y=y_train,\n                  batch_size=batch_size,\n                  epochs=epochs,\n                  validation_data=(X_test, y_test))\n",
   "outputs": [
    {
     "name": "stdout",
     "text": "Epoch 1/30\n46/46 [==============================] - 1s 12ms/step - loss: 0.6150 - accuracy: 0.6847 - val_loss: 0.3472 - val_accuracy: 0.9123\nEpoch 2/30\n46/46 [==============================] - 0s 2ms/step - loss: 0.3607 - accuracy: 0.8960 - val_loss: 0.2156 - val_accuracy: 0.9474\nEpoch 3/30\n46/46 [==============================] - 0s 2ms/step - loss: 0.2652 - accuracy: 0.8974 - val_loss: 0.1494 - val_accuracy: 0.9649\nEpoch 4/30\n46/46 [==============================] - 0s 2ms/step - loss: 0.1896 - accuracy: 0.9284 - val_loss: 0.1131 - val_accuracy: 0.9825\nEpoch 5/30\n46/46 [==============================] - 0s 2ms/step - loss: 0.1699 - accuracy: 0.9270 - val_loss: 0.0906 - val_accuracy: 0.9825\nEpoch 6/30\n46/46 [==============================] - 0s 2ms/step - loss: 0.1364 - accuracy: 0.9456 - val_loss: 0.0755 - val_accuracy: 0.9912\nEpoch 7/30\n46/46 [==============================] - 0s 3ms/step - loss: 0.1185 - accuracy: 0.9550 - val_loss: 0.0654 - val_accuracy: 0.9912\nEpoch 8/30\n46/46 [==============================] - 0s 2ms/step - loss: 0.1190 - accuracy: 0.9602 - val_loss: 0.0578 - val_accuracy: 0.9912\nEpoch 9/30\n46/46 [==============================] - 0s 2ms/step - loss: 0.0924 - accuracy: 0.9740 - val_loss: 0.0518 - val_accuracy: 0.9912\nEpoch 10/30\n46/46 [==============================] - 0s 3ms/step - loss: 0.0838 - accuracy: 0.9843 - val_loss: 0.0497 - val_accuracy: 0.9912\nEpoch 11/30\n46/46 [==============================] - 0s 2ms/step - loss: 0.0818 - accuracy: 0.9821 - val_loss: 0.0468 - val_accuracy: 0.9912\nEpoch 12/30\n46/46 [==============================] - 0s 2ms/step - loss: 0.0552 - accuracy: 0.9903 - val_loss: 0.0449 - val_accuracy: 0.9912\nEpoch 13/30\n46/46 [==============================] - 0s 2ms/step - loss: 0.0959 - accuracy: 0.9784 - val_loss: 0.0433 - val_accuracy: 0.9912\nEpoch 14/30\n46/46 [==============================] - 0s 2ms/step - loss: 0.0613 - accuracy: 0.9791 - val_loss: 0.0420 - val_accuracy: 0.9912\nEpoch 15/30\n46/46 [==============================] - 0s 2ms/step - loss: 0.0602 - accuracy: 0.9826 - val_loss: 0.0414 - val_accuracy: 0.9912\nEpoch 16/30\n46/46 [==============================] - 0s 3ms/step - loss: 0.0515 - accuracy: 0.9885 - val_loss: 0.0407 - val_accuracy: 0.9912\nEpoch 17/30\n46/46 [==============================] - 0s 2ms/step - loss: 0.0410 - accuracy: 0.9904 - val_loss: 0.0395 - val_accuracy: 0.9912\nEpoch 18/30\n46/46 [==============================] - 0s 2ms/step - loss: 0.0446 - accuracy: 0.9914 - val_loss: 0.0390 - val_accuracy: 0.9912\nEpoch 19/30\n46/46 [==============================] - 0s 2ms/step - loss: 0.0367 - accuracy: 0.9959 - val_loss: 0.0393 - val_accuracy: 0.9912\nEpoch 20/30\n46/46 [==============================] - 0s 4ms/step - loss: 0.0584 - accuracy: 0.9849 - val_loss: 0.0385 - val_accuracy: 0.9912\nEpoch 21/30\n46/46 [==============================] - 0s 2ms/step - loss: 0.0264 - accuracy: 0.9959 - val_loss: 0.0383 - val_accuracy: 0.9912\nEpoch 22/30\n46/46 [==============================] - 0s 3ms/step - loss: 0.0311 - accuracy: 0.9940 - val_loss: 0.0390 - val_accuracy: 0.9912\nEpoch 23/30\n46/46 [==============================] - 0s 3ms/step - loss: 0.0318 - accuracy: 0.9939 - val_loss: 0.0390 - val_accuracy: 0.9912\nEpoch 24/30\n46/46 [==============================] - 0s 2ms/step - loss: 0.0485 - accuracy: 0.9880 - val_loss: 0.0388 - val_accuracy: 0.9912\nEpoch 25/30\n46/46 [==============================] - 0s 2ms/step - loss: 0.0463 - accuracy: 0.9884 - val_loss: 0.0391 - val_accuracy: 0.9912\nEpoch 26/30\n46/46 [==============================] - 0s 2ms/step - loss: 0.0413 - accuracy: 0.9895 - val_loss: 0.0385 - val_accuracy: 0.9912\nEpoch 27/30\n46/46 [==============================] - 0s 2ms/step - loss: 0.0353 - accuracy: 0.9902 - val_loss: 0.0384 - val_accuracy: 0.9912\nEpoch 28/30\n46/46 [==============================] - 0s 2ms/step - loss: 0.0226 - accuracy: 0.9955 - val_loss: 0.0387 - val_accuracy: 0.9912\nEpoch 29/30\n46/46 [==============================] - 0s 2ms/step - loss: 0.0373 - accuracy: 0.9865 - val_loss: 0.0396 - val_accuracy: 0.9825\nEpoch 30/30\n46/46 [==============================] - 0s 3ms/step - loss: 0.0279 - accuracy: 0.9949 - val_loss: 0.0396 - val_accuracy: 0.9825\n",
     "output_type": "stream"
    }
   ],
   "execution_count": 44
  },
  {
   "cell_type": "code",
   "metadata": {
    "tags": [],
    "cell_id": "00029-92537177-68fe-42a7-8ded-b6b58ace07f2",
    "deepnote_to_be_reexecuted": false,
    "source_hash": "d4c93d75",
    "execution_start": 1636104471551,
    "execution_millis": 276,
    "deepnote_cell_type": "code"
   },
   "source": "def show_history(story):\n    plt.plot(story.history['accuracy'])\n    plt.plot(story.history['val_accuracy'])\n    plt.ylabel('accuracy')\n    plt.xlabel('epoch')\n    plt.legend(['train_accuracy', 'val_accuracy'], loc='best')\n    plt.show()\n\nshow_history(story)",
   "outputs": [
    {
     "data": {
      "text/plain": "<Figure size 432x288 with 1 Axes>",
      "image/png": "[encoded data removed]"
     },
     "metadata": {
      "image/png": {
       "width": 393,
       "height": 265
      }
     },
     "output_type": "display_data"
    }
   ],
   "execution_count": 51
  },
  {
   "cell_type": "code",
   "metadata": {
    "id": "-qBTMOIcFLGf",
    "colab": {
     "base_uri": "https://localhost:8080/"
    },
    "outputId": "590fb62c-fb33-4795-e136-accfbdac7afe",
    "cell_id": "00024-04696c10-c5ad-41e0-9014-e135de8ff562",
    "deepnote_to_be_reexecuted": false,
    "source_hash": "b33f7cbb",
    "execution_start": 1636104660298,
    "execution_millis": 31,
    "deepnote_cell_type": "code"
   },
   "source": "#evaluate the model on Test data and save it into the variable score\neval_result = model.evaluate(\n    x=X_test,\n    y=y_test,\n    # batch_size=batch_size\n)\n\n# print test loss and accuracy\nprint(f\"Evaluation loss = {eval_result[0]:.3f}\")\nprint(f\"Evaluation accuracy = {eval_result[1]*100:.3f}%\")",
   "outputs": [
    {
     "name": "stdout",
     "text": "4/4 [==============================] - 0s 2ms/step - loss: 0.0396 - accuracy: 0.9825\nEvaluation loss = 0.040\nEvaluation accuracy = 98.246%\n",
     "output_type": "stream"
    }
   ],
   "execution_count": 53
  },
  {
   "cell_type": "markdown",
   "source": "The metrics that *evaluate()* gives us depend on the input argument *metrics* that we used when setting up our NN. Keras knows several other metrics (see [Keras doc. for details](https://keras.io/metrics/)) but not all known metrics are supported for training the NN. Between, you can also extend the set of metrics with customer metrics (see this [example](https://machinelearningmastery.com/custom-metrics-deep-learning-keras-python/) if interested.).\n\nWe also have access to model performance results via the result of *model.fit()*, that is our variable *story*.",
   "metadata": {
    "id": "y9aygjgtJUiv",
    "cell_id": "00025-982249d4-187f-4a0c-9a84-fb52bc8e2c65",
    "deepnote_cell_type": "markdown"
   }
  },
  {
   "cell_type": "code",
   "metadata": {
    "id": "wzrrd6XLWvXg",
    "cell_id": "00026-89729d44-0a67-4b23-bf5a-a04845cbfb8e",
    "deepnote_cell_type": "code"
   },
   "source": "# Now install the tensorflow addons and define the following metrics. You have AUC,Precision and Recall in Keras Metrics but F1 you will need to get it from tensorflow addons\n",
   "outputs": [],
   "execution_count": null
  },
  {
   "cell_type": "code",
   "metadata": {
    "colab": {
     "base_uri": "https://localhost:8080/"
    },
    "id": "kPRMM0usWor3",
    "outputId": "9078a535-d998-438c-b43f-64de3c429f32",
    "cell_id": "00027-8a66b350-01da-4a76-a32d-d7504180029a",
    "deepnote_to_be_reexecuted": false,
    "source_hash": "c30e5de3",
    "execution_start": 1636104791936,
    "execution_millis": 7716,
    "deepnote_cell_type": "code"
   },
   "source": "!pip install tensorflow-addons\n\n",
   "outputs": [
    {
     "name": "stdout",
     "text": "Collecting tensorflow-addons\n  Downloading tensorflow_addons-0.14.0-cp37-cp37m-manylinux_2_12_x86_64.manylinux2010_x86_64.whl (1.1 MB)\n\u001b[K     |████████████████████████████████| 1.1 MB 17.0 MB/s \n\u001b[?25hCollecting typeguard>=2.7\n  Downloading typeguard-2.13.0-py3-none-any.whl (17 kB)\nInstalling collected packages: typeguard, tensorflow-addons\nSuccessfully installed tensorflow-addons-0.14.0 typeguard-2.13.0\n\u001b[33mWARNING: You are using pip version 21.2.4; however, version 21.3.1 is available.\nYou should consider upgrading via the '/root/venv/bin/python -m pip install --upgrade pip' command.\u001b[0m\n",
     "output_type": "stream"
    }
   ],
   "execution_count": 54
  },
  {
   "cell_type": "code",
   "metadata": {
    "id": "r4zWF58rWmcG",
    "cell_id": "00028-668ec2b5-44a9-42c7-a0e2-39f5ad60d120",
    "deepnote_to_be_reexecuted": false,
    "source_hash": "40eae5bb",
    "execution_start": 1636104958412,
    "execution_millis": 109,
    "deepnote_cell_type": "code"
   },
   "source": "#import keras\nimport tensorflow as tf \nimport tensorflow_addons as tfa\n# see a list of possible metrics you could use\nmetrics = [ \n    tf.keras.metrics.Precision(),\n    tf.keras.metrics.Recall(),\n    tf.keras.metrics.AUC(),\n    tfa.metrics.F1Score(\n        name=\"f1_micro\",\n        average=\"micro\",\n        num_classes=1,\n        threshold=0.5,\n    ),\n    tfa.metrics.F1Score(\n        name=\"f1_weighted\",\n        average=\"weighted\",\n        num_classes=1,\n        threshold=0.5,\n    ),\n]",
   "outputs": [],
   "execution_count": 59
  },
  {
   "cell_type": "code",
   "metadata": {
    "id": "xeYiEkLjW2hE",
    "colab": {
     "base_uri": "https://localhost:8080/"
    },
    "outputId": "f6842709-e759-48d3-b718-55d3d61ccbf7",
    "cell_id": "00029-d1d5defd-6e66-4a4b-beb5-f1e398f70436",
    "deepnote_to_be_reexecuted": false,
    "source_hash": "8020bbe",
    "execution_start": 1636105323603,
    "execution_millis": 0,
    "deepnote_cell_type": "code"
   },
   "source": "# rerun the mmodel with the metrics accuracy and AUC metric in your complie call\nmodel = make_my_model()\nmodel.compile( loss='binary_crossentropy', optimizer='adam', metrics=[\"accuracy\", \"AUC\"])\n\n# fit the model and save it into story \n",
   "outputs": [],
   "execution_count": 62
  },
  {
   "cell_type": "code",
   "metadata": {
    "tags": [],
    "cell_id": "00036-61c0f233-2c4d-4528-9971-c41d637f742c",
    "deepnote_to_be_reexecuted": false,
    "source_hash": "52c23103",
    "execution_start": 1636105367457,
    "execution_millis": 4830,
    "deepnote_cell_type": "code"
   },
   "source": "story = model.fit(x=X_train,\n                  y=y_train,\n                  batch_size=batch_size,\n                  epochs=epochs,\n                  validation_data=(X_test, y_test))",
   "outputs": [
    {
     "name": "stdout",
     "text": "Epoch 1/30\n46/46 [==============================] - 1s 14ms/step - loss: 0.5732 - accuracy: 0.7667 - auc: 0.8158 - val_loss: 0.3441 - val_accuracy: 0.9123 - val_auc: 0.9758\nEpoch 2/30\n46/46 [==============================] - 0s 2ms/step - loss: 0.3614 - accuracy: 0.8839 - auc: 0.9429 - val_loss: 0.2144 - val_accuracy: 0.9474 - val_auc: 0.9913\nEpoch 3/30\n46/46 [==============================] - 0s 3ms/step - loss: 0.2501 - accuracy: 0.9079 - auc: 0.9716 - val_loss: 0.1488 - val_accuracy: 0.9737 - val_auc: 0.9961\nEpoch 4/30\n46/46 [==============================] - 0s 2ms/step - loss: 0.1930 - accuracy: 0.9343 - auc: 0.9760 - val_loss: 0.1125 - val_accuracy: 0.9825 - val_auc: 0.9967\nEpoch 5/30\n46/46 [==============================] - 0s 2ms/step - loss: 0.1682 - accuracy: 0.9267 - auc: 0.9822 - val_loss: 0.0898 - val_accuracy: 0.9825 - val_auc: 0.9985\nEpoch 6/30\n46/46 [==============================] - 0s 2ms/step - loss: 0.1247 - accuracy: 0.9517 - auc: 0.9920 - val_loss: 0.0751 - val_accuracy: 0.9912 - val_auc: 0.9990\nEpoch 7/30\n46/46 [==============================] - 0s 2ms/step - loss: 0.1248 - accuracy: 0.9653 - auc: 0.9884 - val_loss: 0.0652 - val_accuracy: 0.9912 - val_auc: 0.9993\nEpoch 8/30\n46/46 [==============================] - 0s 2ms/step - loss: 0.1197 - accuracy: 0.9616 - auc: 0.9895 - val_loss: 0.0575 - val_accuracy: 0.9912 - val_auc: 0.9993\nEpoch 9/30\n46/46 [==============================] - 0s 2ms/step - loss: 0.0927 - accuracy: 0.9788 - auc: 0.9946 - val_loss: 0.0522 - val_accuracy: 0.9912 - val_auc: 0.9993\nEpoch 10/30\n46/46 [==============================] - 0s 2ms/step - loss: 0.0640 - accuracy: 0.9918 - auc: 0.9975 - val_loss: 0.0478 - val_accuracy: 0.9912 - val_auc: 0.9993\nEpoch 11/30\n46/46 [==============================] - 0s 2ms/step - loss: 0.0569 - accuracy: 0.9877 - auc: 0.9981 - val_loss: 0.0458 - val_accuracy: 0.9912 - val_auc: 0.9993\nEpoch 12/30\n46/46 [==============================] - 0s 3ms/step - loss: 0.0848 - accuracy: 0.9812 - auc: 0.9939 - val_loss: 0.0439 - val_accuracy: 0.9912 - val_auc: 0.9993\nEpoch 13/30\n46/46 [==============================] - 0s 2ms/step - loss: 0.0705 - accuracy: 0.9845 - auc: 0.9959 - val_loss: 0.0434 - val_accuracy: 0.9825 - val_auc: 0.9993\nEpoch 14/30\n46/46 [==============================] - 0s 2ms/step - loss: 0.0576 - accuracy: 0.9861 - auc: 0.9968 - val_loss: 0.0418 - val_accuracy: 0.9912 - val_auc: 0.9993\nEpoch 15/30\n46/46 [==============================] - 0s 2ms/step - loss: 0.0494 - accuracy: 0.9923 - auc: 0.9985 - val_loss: 0.0408 - val_accuracy: 0.9912 - val_auc: 0.9990\nEpoch 16/30\n46/46 [==============================] - 0s 2ms/step - loss: 0.0484 - accuracy: 0.9851 - auc: 0.9989 - val_loss: 0.0398 - val_accuracy: 0.9912 - val_auc: 0.9990\nEpoch 17/30\n46/46 [==============================] - 0s 2ms/step - loss: 0.0505 - accuracy: 0.9899 - auc: 0.9974 - val_loss: 0.0396 - val_accuracy: 0.9912 - val_auc: 0.9990\nEpoch 18/30\n46/46 [==============================] - 0s 2ms/step - loss: 0.0474 - accuracy: 0.9906 - auc: 0.9767 - val_loss: 0.0388 - val_accuracy: 0.9912 - val_auc: 0.9990\nEpoch 19/30\n46/46 [==============================] - 0s 3ms/step - loss: 0.0482 - accuracy: 0.9942 - auc: 0.9981 - val_loss: 0.0391 - val_accuracy: 0.9912 - val_auc: 0.9990\nEpoch 20/30\n46/46 [==============================] - 0s 2ms/step - loss: 0.0421 - accuracy: 0.9922 - auc: 0.9977 - val_loss: 0.0376 - val_accuracy: 0.9912 - val_auc: 0.9990\nEpoch 21/30\n46/46 [==============================] - 0s 3ms/step - loss: 0.0425 - accuracy: 0.9909 - auc: 0.9985 - val_loss: 0.0373 - val_accuracy: 0.9912 - val_auc: 0.9990\nEpoch 22/30\n46/46 [==============================] - 0s 4ms/step - loss: 0.0299 - accuracy: 0.9965 - auc: 0.9995 - val_loss: 0.0376 - val_accuracy: 0.9912 - val_auc: 0.9990\nEpoch 23/30\n46/46 [==============================] - 0s 2ms/step - loss: 0.0561 - accuracy: 0.9863 - auc: 0.9976 - val_loss: 0.0388 - val_accuracy: 0.9912 - val_auc: 0.9990\nEpoch 24/30\n46/46 [==============================] - 0s 2ms/step - loss: 0.0345 - accuracy: 0.9934 - auc: 0.9993 - val_loss: 0.0377 - val_accuracy: 0.9912 - val_auc: 0.9990\nEpoch 25/30\n46/46 [==============================] - 0s 2ms/step - loss: 0.0291 - accuracy: 0.9963 - auc: 0.9996 - val_loss: 0.0379 - val_accuracy: 0.9912 - val_auc: 0.9990\nEpoch 26/30\n46/46 [==============================] - 0s 2ms/step - loss: 0.0371 - accuracy: 0.9920 - auc: 0.9995 - val_loss: 0.0385 - val_accuracy: 0.9912 - val_auc: 0.9990\nEpoch 27/30\n46/46 [==============================] - 0s 2ms/step - loss: 0.0344 - accuracy: 0.9923 - auc: 0.9992 - val_loss: 0.0391 - val_accuracy: 0.9912 - val_auc: 0.9990\nEpoch 28/30\n46/46 [==============================] - 0s 2ms/step - loss: 0.0406 - accuracy: 0.9859 - auc: 0.9992 - val_loss: 0.0393 - val_accuracy: 0.9825 - val_auc: 0.9990\nEpoch 29/30\n46/46 [==============================] - 0s 2ms/step - loss: 0.0275 - accuracy: 0.9929 - auc: 0.9995 - val_loss: 0.0392 - val_accuracy: 0.9825 - val_auc: 0.9993\nEpoch 30/30\n46/46 [==============================] - 0s 3ms/step - loss: 0.0232 - accuracy: 0.9949 - auc: 0.9996 - val_loss: 0.0392 - val_accuracy: 0.9825 - val_auc: 0.9993\n",
     "output_type": "stream"
    }
   ],
   "execution_count": 63
  },
  {
   "cell_type": "code",
   "metadata": {
    "tags": [],
    "cell_id": "00037-66693596-499a-4481-a6c0-46791330d317",
    "deepnote_to_be_reexecuted": false,
    "source_hash": "ed195ce7",
    "execution_start": 1636105577289,
    "execution_millis": 3,
    "deepnote_cell_type": "code"
   },
   "source": "story.history.keys()",
   "outputs": [
    {
     "output_type": "execute_result",
     "execution_count": 66,
     "data": {
      "text/plain": "dict_keys(['loss', 'accuracy', 'auc', 'val_loss', 'val_accuracy', 'val_auc'])"
     },
     "metadata": {}
    }
   ],
   "execution_count": 66
  },
  {
   "cell_type": "code",
   "metadata": {
    "tags": [],
    "cell_id": "00038-998d6dee-a336-4f47-ba2b-223330fb9776",
    "deepnote_to_be_reexecuted": false,
    "source_hash": "489cc85f",
    "execution_start": 1636105664339,
    "execution_millis": 206,
    "deepnote_cell_type": "code"
   },
   "source": "eval_result",
   "outputs": [
    {
     "output_type": "execute_result",
     "execution_count": 69,
     "data": {
      "text/plain": "[0.03922189772129059, 0.9824561476707458, 0.9993448853492737]"
     },
     "metadata": {}
    }
   ],
   "execution_count": 69
  },
  {
   "cell_type": "code",
   "metadata": {
    "tags": [],
    "cell_id": "00039-579e4b08-cef2-4196-ae81-da44889d0724",
    "deepnote_to_be_reexecuted": false,
    "source_hash": "67320159",
    "execution_start": 1636106132532,
    "execution_millis": 0,
    "deepnote_cell_type": "code"
   },
   "source": "def show_enhanced_history(story, metric):\n    plt.plot(story.history[metric])\n    plt.plot(story.history['val_'+metric])\n    plt.ylabel(metric)\n    plt.xlabel('epoch')\n    plt.legend(['train_'+metric, 'val_'+metric], loc='best')\n    plt.show()",
   "outputs": [],
   "execution_count": 77
  },
  {
   "cell_type": "code",
   "metadata": {
    "id": "p_DLHy3BFemk",
    "colab": {
     "base_uri": "https://localhost:8080/",
     "height": 511
    },
    "outputId": "74205831-d737-4ace-9ca1-212d01b15a51",
    "cell_id": "00030-dcd07fca-f89f-4423-9f82-6e5e86f782e0",
    "deepnote_to_be_reexecuted": false,
    "source_hash": "4d9dfca7",
    "execution_start": 1636105706001,
    "execution_millis": 408,
    "deepnote_cell_type": "code"
   },
   "source": "# print Test Loss and Accuracy and plot the history\n#evaluate the model on Test data and save it into the variable score\neval_result = model.evaluate(\n    x=X_test,\n    y=y_test,\n    # batch_size=batch_size\n)\n\n# print test loss and accuracy\nprint(f\"Evaluation loss = {eval_result[0]:.5f}\")\nprint(f\"Evaluation accuracy = {eval_result[1]*100:.2f}%\")\nprint(f\"Evaluation AUC = {eval_result[2]:.5f}\")\n\nshow_history(story)\n",
   "outputs": [
    {
     "name": "stdout",
     "text": "4/4 [==============================] - 0s 2ms/step - loss: 0.0392 - accuracy: 0.9825 - auc: 0.9993\nEvaluation loss = 0.03922\nEvaluation accuracy = 98.25%\nEvaluation AUC = 0.99934\n",
     "output_type": "stream"
    },
    {
     "data": {
      "text/plain": "<Figure size 432x288 with 1 Axes>",
      "image/png": "[encoded data removed]"
     },
     "metadata": {
      "image/png": {
       "width": 400,
       "height": 265
      }
     },
     "output_type": "display_data"
    }
   ],
   "execution_count": 72
  },
  {
   "cell_type": "code",
   "metadata": {
    "tags": [],
    "cell_id": "00040-57140a65-9a89-4e09-b82c-a7ee5a89993f",
    "deepnote_to_be_reexecuted": false,
    "source_hash": "2af8d80c",
    "execution_start": 1636105781332,
    "execution_millis": 5940,
    "deepnote_cell_type": "code"
   },
   "source": "# rerun the mmodel with the metrics accuracy and AUC metric in your complie call\nmodel = make_my_model()\nmodel.compile( loss='binary_crossentropy', optimizer='adam', metrics=metrics)\n\nstory = model.fit(x=X_train,\n                  y=y_train,\n                  batch_size=batch_size,\n                  epochs=epochs,\n                  validation_data=(X_test, y_test))",
   "outputs": [
    {
     "name": "stdout",
     "text": "Epoch 1/30\n46/46 [==============================] - 2s 14ms/step - loss: 0.5788 - precision: 0.7953 - recall: 0.6875 - auc: 0.7855 - f1_micro: 0.7370 - f1_weighted: 0.7370 - val_loss: 0.3520 - val_precision: 0.9552 - val_recall: 0.9014 - val_auc: 0.9767 - val_f1_micro: 0.9275 - val_f1_weighted: 0.9275\nEpoch 2/30\n46/46 [==============================] - 0s 3ms/step - loss: 0.3828 - precision: 0.8777 - recall: 0.8800 - auc: 0.9314 - f1_micro: 0.8785 - f1_weighted: 0.8785 - val_loss: 0.2201 - val_precision: 0.9577 - val_recall: 0.9577 - val_auc: 0.9910 - val_f1_micro: 0.9577 - val_f1_weighted: 0.9577\nEpoch 3/30\n46/46 [==============================] - 0s 2ms/step - loss: 0.2558 - precision: 0.9360 - recall: 0.9403 - auc: 0.9696 - f1_micro: 0.9380 - f1_weighted: 0.9380 - val_loss: 0.1524 - val_precision: 0.9722 - val_recall: 0.9859 - val_auc: 0.9961 - val_f1_micro: 0.9790 - val_f1_weighted: 0.9790\nEpoch 4/30\n46/46 [==============================] - 0s 2ms/step - loss: 0.1912 - precision: 0.9563 - recall: 0.9423 - auc: 0.9826 - f1_micro: 0.9490 - f1_weighted: 0.9490 - val_loss: 0.1150 - val_precision: 0.9726 - val_recall: 1.0000 - val_auc: 0.9967 - val_f1_micro: 0.9861 - val_f1_weighted: 0.9861\nEpoch 5/30\n46/46 [==============================] - 0s 3ms/step - loss: 0.1756 - precision: 0.9431 - recall: 0.9578 - auc: 0.9792 - f1_micro: 0.9503 - f1_weighted: 0.9503 - val_loss: 0.0930 - val_precision: 0.9726 - val_recall: 1.0000 - val_auc: 0.9984 - val_f1_micro: 0.9861 - val_f1_weighted: 0.9861\nEpoch 6/30\n46/46 [==============================] - 0s 3ms/step - loss: 0.1293 - precision: 0.9726 - recall: 0.9651 - auc: 0.9896 - f1_micro: 0.9688 - f1_weighted: 0.9688 - val_loss: 0.0760 - val_precision: 0.9861 - val_recall: 1.0000 - val_auc: 0.9990 - val_f1_micro: 0.9930 - val_f1_weighted: 0.9930\nEpoch 7/30\n46/46 [==============================] - 0s 2ms/step - loss: 0.1025 - precision: 0.9749 - recall: 0.9843 - auc: 0.9940 - f1_micro: 0.9795 - f1_weighted: 0.9795 - val_loss: 0.0665 - val_precision: 0.9861 - val_recall: 1.0000 - val_auc: 0.9990 - val_f1_micro: 0.9930 - val_f1_weighted: 0.9930\nEpoch 8/30\n46/46 [==============================] - 0s 3ms/step - loss: 0.1047 - precision: 0.9724 - recall: 0.9687 - auc: 0.9933 - f1_micro: 0.9704 - f1_weighted: 0.9704 - val_loss: 0.0604 - val_precision: 0.9861 - val_recall: 1.0000 - val_auc: 0.9990 - val_f1_micro: 0.9930 - val_f1_weighted: 0.9930\nEpoch 9/30\n46/46 [==============================] - 0s 4ms/step - loss: 0.0836 - precision: 0.9883 - recall: 0.9818 - auc: 0.9952 - f1_micro: 0.9850 - f1_weighted: 0.9850 - val_loss: 0.0541 - val_precision: 0.9861 - val_recall: 1.0000 - val_auc: 0.9993 - val_f1_micro: 0.9930 - val_f1_weighted: 0.9930\nEpoch 10/30\n46/46 [==============================] - 0s 2ms/step - loss: 0.0918 - precision: 0.9731 - recall: 0.9911 - auc: 0.9948 - f1_micro: 0.9818 - f1_weighted: 0.9818 - val_loss: 0.0500 - val_precision: 0.9861 - val_recall: 1.0000 - val_auc: 0.9993 - val_f1_micro: 0.9930 - val_f1_weighted: 0.9930\nEpoch 11/30\n46/46 [==============================] - 0s 3ms/step - loss: 0.0836 - precision: 0.9809 - recall: 0.9992 - auc: 0.9952 - f1_micro: 0.9900 - f1_weighted: 0.9900 - val_loss: 0.0480 - val_precision: 0.9861 - val_recall: 1.0000 - val_auc: 0.9993 - val_f1_micro: 0.9930 - val_f1_weighted: 0.9930\nEpoch 12/30\n46/46 [==============================] - 0s 3ms/step - loss: 0.0964 - precision: 0.9725 - recall: 0.9777 - auc: 0.9936 - f1_micro: 0.9749 - f1_weighted: 0.9749 - val_loss: 0.0454 - val_precision: 0.9861 - val_recall: 1.0000 - val_auc: 0.9993 - val_f1_micro: 0.9930 - val_f1_weighted: 0.9930\nEpoch 13/30\n46/46 [==============================] - 0s 3ms/step - loss: 0.0615 - precision: 0.9903 - recall: 0.9937 - auc: 0.9974 - f1_micro: 0.9920 - f1_weighted: 0.9920 - val_loss: 0.0431 - val_precision: 0.9861 - val_recall: 1.0000 - val_auc: 0.9993 - val_f1_micro: 0.9930 - val_f1_weighted: 0.9930\nEpoch 14/30\n46/46 [==============================] - 0s 3ms/step - loss: 0.0806 - precision: 0.9756 - recall: 0.9958 - auc: 0.9941 - f1_micro: 0.9856 - f1_weighted: 0.9856 - val_loss: 0.0421 - val_precision: 0.9861 - val_recall: 1.0000 - val_auc: 0.9990 - val_f1_micro: 0.9930 - val_f1_weighted: 0.9930\nEpoch 15/30\n46/46 [==============================] - 0s 2ms/step - loss: 0.0523 - precision: 0.9906 - recall: 0.9966 - auc: 0.9975 - f1_micro: 0.9936 - f1_weighted: 0.9936 - val_loss: 0.0409 - val_precision: 0.9861 - val_recall: 1.0000 - val_auc: 0.9990 - val_f1_micro: 0.9930 - val_f1_weighted: 0.9930\nEpoch 16/30\n46/46 [==============================] - 0s 3ms/step - loss: 0.0549 - precision: 0.9869 - recall: 0.9892 - auc: 0.9975 - f1_micro: 0.9880 - f1_weighted: 0.9880 - val_loss: 0.0398 - val_precision: 0.9861 - val_recall: 1.0000 - val_auc: 0.9990 - val_f1_micro: 0.9930 - val_f1_weighted: 0.9930\nEpoch 17/30\n46/46 [==============================] - 0s 3ms/step - loss: 0.0560 - precision: 0.9848 - recall: 0.9952 - auc: 0.9975 - f1_micro: 0.9899 - f1_weighted: 0.9899 - val_loss: 0.0397 - val_precision: 0.9861 - val_recall: 1.0000 - val_auc: 0.9990 - val_f1_micro: 0.9930 - val_f1_weighted: 0.9930\nEpoch 18/30\n46/46 [==============================] - 0s 2ms/step - loss: 0.0627 - precision: 0.9795 - recall: 0.9859 - auc: 0.9965 - f1_micro: 0.9826 - f1_weighted: 0.9826 - val_loss: 0.0381 - val_precision: 0.9861 - val_recall: 1.0000 - val_auc: 0.9990 - val_f1_micro: 0.9930 - val_f1_weighted: 0.9930\nEpoch 19/30\n46/46 [==============================] - 0s 2ms/step - loss: 0.0455 - precision: 0.9919 - recall: 0.9966 - auc: 0.9983 - f1_micro: 0.9942 - f1_weighted: 0.9942 - val_loss: 0.0384 - val_precision: 0.9861 - val_recall: 1.0000 - val_auc: 0.9990 - val_f1_micro: 0.9930 - val_f1_weighted: 0.9930\nEpoch 20/30\n46/46 [==============================] - 0s 3ms/step - loss: 0.0387 - precision: 0.9934 - recall: 0.9988 - auc: 0.9992 - f1_micro: 0.9961 - f1_weighted: 0.9961 - val_loss: 0.0381 - val_precision: 0.9861 - val_recall: 1.0000 - val_auc: 0.9990 - val_f1_micro: 0.9930 - val_f1_weighted: 0.9930\nEpoch 21/30\n46/46 [==============================] - 0s 3ms/step - loss: 0.0444 - precision: 0.9906 - recall: 0.9996 - auc: 0.9985 - f1_micro: 0.9951 - f1_weighted: 0.9951 - val_loss: 0.0375 - val_precision: 0.9861 - val_recall: 1.0000 - val_auc: 0.9990 - val_f1_micro: 0.9930 - val_f1_weighted: 0.9930\nEpoch 22/30\n46/46 [==============================] - 0s 2ms/step - loss: 0.0543 - precision: 0.9866 - recall: 0.9927 - auc: 0.9978 - f1_micro: 0.9896 - f1_weighted: 0.9896 - val_loss: 0.0376 - val_precision: 0.9861 - val_recall: 1.0000 - val_auc: 0.9990 - val_f1_micro: 0.9930 - val_f1_weighted: 0.9930\nEpoch 23/30\n46/46 [==============================] - 0s 3ms/step - loss: 0.0295 - precision: 0.9944 - recall: 0.9979 - auc: 0.9995 - f1_micro: 0.9961 - f1_weighted: 0.9961 - val_loss: 0.0375 - val_precision: 0.9861 - val_recall: 1.0000 - val_auc: 0.9990 - val_f1_micro: 0.9930 - val_f1_weighted: 0.9930\nEpoch 24/30\n46/46 [==============================] - 0s 3ms/step - loss: 0.0534 - precision: 0.9797 - recall: 0.9971 - auc: 0.9990 - f1_micro: 0.9882 - f1_weighted: 0.9882 - val_loss: 0.0374 - val_precision: 0.9861 - val_recall: 1.0000 - val_auc: 0.9990 - val_f1_micro: 0.9930 - val_f1_weighted: 0.9930\nEpoch 25/30\n46/46 [==============================] - 0s 4ms/step - loss: 0.0443 - precision: 0.9819 - recall: 0.9989 - auc: 0.9991 - f1_micro: 0.9903 - f1_weighted: 0.9903 - val_loss: 0.0375 - val_precision: 0.9861 - val_recall: 1.0000 - val_auc: 0.9990 - val_f1_micro: 0.9930 - val_f1_weighted: 0.9930\nEpoch 26/30\n46/46 [==============================] - 0s 3ms/step - loss: 0.0478 - precision: 0.9803 - recall: 0.9969 - auc: 0.9989 - f1_micro: 0.9884 - f1_weighted: 0.9884 - val_loss: 0.0378 - val_precision: 0.9861 - val_recall: 1.0000 - val_auc: 0.9990 - val_f1_micro: 0.9930 - val_f1_weighted: 0.9930\nEpoch 27/30\n46/46 [==============================] - 0s 3ms/step - loss: 0.0333 - precision: 0.9910 - recall: 0.9931 - auc: 0.9994 - f1_micro: 0.9920 - f1_weighted: 0.9920 - val_loss: 0.0389 - val_precision: 0.9859 - val_recall: 0.9859 - val_auc: 0.9992 - val_f1_micro: 0.9859 - val_f1_weighted: 0.9859\nEpoch 28/30\n46/46 [==============================] - 0s 3ms/step - loss: 0.0224 - precision: 0.9918 - recall: 0.9983 - auc: 0.9996 - f1_micro: 0.9950 - f1_weighted: 0.9950 - val_loss: 0.0388 - val_precision: 0.9859 - val_recall: 0.9859 - val_auc: 0.9993 - val_f1_micro: 0.9859 - val_f1_weighted: 0.9859\nEpoch 29/30\n46/46 [==============================] - 0s 4ms/step - loss: 0.0234 - precision: 0.9933 - recall: 0.9986 - auc: 0.9997 - f1_micro: 0.9959 - f1_weighted: 0.9959 - val_loss: 0.0391 - val_precision: 0.9859 - val_recall: 0.9859 - val_auc: 0.9993 - val_f1_micro: 0.9859 - val_f1_weighted: 0.9859\nEpoch 30/30\n46/46 [==============================] - 0s 5ms/step - loss: 0.0275 - precision: 0.9899 - recall: 0.9977 - auc: 0.9996 - f1_micro: 0.9938 - f1_weighted: 0.9938 - val_loss: 0.0400 - val_precision: 0.9859 - val_recall: 0.9859 - val_auc: 0.9993 - val_f1_micro: 0.9859 - val_f1_weighted: 0.9859\n",
     "output_type": "stream"
    }
   ],
   "execution_count": 73
  },
  {
   "cell_type": "code",
   "metadata": {
    "tags": [],
    "cell_id": "00041-8cdf779c-4c1d-4731-8388-a376b9c694b2",
    "deepnote_to_be_reexecuted": false,
    "source_hash": "ed195ce7",
    "execution_start": 1636105839572,
    "execution_millis": 5,
    "deepnote_cell_type": "code"
   },
   "source": "story.history.keys()",
   "outputs": [
    {
     "output_type": "execute_result",
     "execution_count": 74,
     "data": {
      "text/plain": "dict_keys(['loss', 'precision', 'recall', 'auc', 'f1_micro', 'f1_weighted', 'val_loss', 'val_precision', 'val_recall', 'val_auc', 'val_f1_micro', 'val_f1_weighted'])"
     },
     "metadata": {}
    }
   ],
   "execution_count": 74
  },
  {
   "cell_type": "code",
   "metadata": {
    "tags": [],
    "cell_id": "00041-6166e277-9c91-41bd-a118-86070b5af975",
    "deepnote_to_be_reexecuted": false,
    "source_hash": "b27d0679",
    "execution_start": 1636106217358,
    "execution_millis": 1067,
    "deepnote_cell_type": "code"
   },
   "source": "# print Test Loss and Accuracy and plot the history\n#evaluate the model on Test data and save it into the variable score\neval_result = model.evaluate(\n    x=X_test,\n    y=y_test,\n    # batch_size=batch_size\n)\n\n# print test loss and accuracy\nprint(f\"Evaluation loss        = {eval_result[0]:.5f}\")\nprint(f\"Evaluation precision   = {eval_result[1]*100:.2f}%\")\nprint(f\"Evaluation recall      = {eval_result[2]*100:.2f}%\")\nprint(f\"Evaluation AUC         = {eval_result[3]:.5f}\")\nprint(f\"Evaluation F1 micro    = {eval_result[4]*100:.2f}%\")\nprint(f\"Evaluation F1 weighted = {eval_result[5]*100:.2f}%\")\n\n\nshow_enhanced_history(story, \"precision\")\nshow_enhanced_history(story, \"auc\")\nshow_enhanced_history(story, \"f1_micro\")",
   "outputs": [
    {
     "name": "stdout",
     "text": "4/4 [==============================] - 0s 2ms/step - loss: 0.0400 - precision: 0.9859 - recall: 0.9859 - auc: 0.9993 - f1_micro: 0.9859 - f1_weighted: 0.9859\nEvaluation loss        = 0.03998\nEvaluation precision   = 98.59%\nEvaluation recall      = 98.59%\nEvaluation AUC         = 0.99934\nEvaluation F1 micro    = 98.59%\nEvaluation F1 weighted = 98.59%\n",
     "output_type": "stream"
    },
    {
     "data": {
      "text/plain": "<Figure size 432x288 with 1 Axes>",
      "image/png": "[encoded data removed]"
     },
     "metadata": {
      "image/png": {
       "width": 393,
       "height": 262
      }
     },
     "output_type": "display_data"
    },
    {
     "data": {
      "text/plain": "<Figure size 432x288 with 1 Axes>",
      "image/png": "[encoded data removed]"
     },
     "metadata": {
      "image/png": {
       "width": 393,
       "height": 262
      }
     },
     "output_type": "display_data"
    },
    {
     "data": {
      "text/plain": "<Figure size 432x288 with 1 Axes>",
      "image/png": "[encoded data removed]"
     },
     "metadata": {
      "image/png": {
       "width": 401,
       "height": 264
      }
     },
     "output_type": "display_data"
    }
   ],
   "execution_count": 78
  },
  {
   "cell_type": "markdown",
   "source": "**Commentary:**  \nAUC above 0.7 means a good model.  \nAUC = 0.5 is the same as random guess.",
   "metadata": {
    "tags": [],
    "cell_id": "00044-7e8ed5ea-296c-4f50-b45e-b9257bf278c0",
    "deepnote_cell_type": "markdown"
   }
  },
  {
   "cell_type": "markdown",
   "source": "\n[Check out this link](https://towardsdatascience.com/dont-overfit-how-to-prevent-overfitting-in-your-deep-learning-models-63274e552323)\n\n```\n# This is formatted as code\n```\n\n\n\nTypically validation loss should be similar to but slightly higher than training loss. \nAs long as validation loss is lower than or even equal to training loss one should keep doing more training.\nIf training loss is reducing without increase in validation loss then again keep doing more training.\nIf validation loss starts increasing then it is time to stop.\nSome over-fitting is nearly always a good thing. All that matters in the end is: is the validation loss as low as you can get it! \n\nIf overall accuracy still not acceptable then review mistakes model is making and think of what can one change:\nMore data? More / different data augmentations? Different architecture?",
   "metadata": {
    "id": "IUH7mdynJKVF",
    "cell_id": "00032-14868cee-2f3c-4c54-8873-41e2124f788f",
    "deepnote_cell_type": "markdown"
   }
  },
  {
   "cell_type": "code",
   "metadata": {
    "id": "JXFMSTVhJh02",
    "colab": {
     "base_uri": "https://localhost:8080/"
    },
    "outputId": "7e1b17a5-f98d-48c7-bccc-14737c9a6bbd",
    "cell_id": "00033-e0048cf8-a2ff-4c21-b714-f583fa501429",
    "deepnote_to_be_reexecuted": false,
    "source_hash": "dbf921cf",
    "execution_start": 1636106612133,
    "execution_millis": 111,
    "deepnote_cell_type": "code"
   },
   "source": "# Compute predictions of X_test\n\nyhat = model.predict(X_test)\n\nyhat",
   "outputs": [
    {
     "output_type": "execute_result",
     "execution_count": 79,
     "data": {
      "text/plain": "array([[9.2393744e-01],\n       [5.4745112e-07],\n       [8.5421212e-05],\n       [9.9957740e-01],\n       [9.9990237e-01],\n       [1.6403159e-14],\n       [1.3400151e-11],\n       [1.3596684e-02],\n       [6.7626917e-01],\n       [9.9903500e-01],\n       [9.5159209e-01],\n       [7.0747137e-03],\n       [9.9508095e-01],\n       [3.0920208e-03],\n       [9.9669999e-01],\n       [1.4519691e-04],\n       [9.9826920e-01],\n       [9.9993801e-01],\n       [9.9998987e-01],\n       [6.1673093e-09],\n       [8.1686586e-01],\n       [9.8284268e-01],\n       [1.0440860e-12],\n       [9.9960113e-01],\n       [9.9804026e-01],\n       [9.9897164e-01],\n       [9.9830902e-01],\n       [9.9965328e-01],\n       [9.9664891e-01],\n       [3.7298495e-08],\n       [9.9929523e-01],\n       [9.9963367e-01],\n       [9.9393880e-01],\n       [9.8689306e-01],\n       [9.9970257e-01],\n       [9.9720818e-01],\n       [1.8507302e-02],\n       [9.9552071e-01],\n       [1.0625357e-06],\n       [9.5928061e-01],\n       [9.9943572e-01],\n       [2.8631091e-04],\n       [9.9798554e-01],\n       [9.9813432e-01],\n       [9.8853910e-01],\n       [9.5556700e-01],\n       [9.9989039e-01],\n       [9.9929237e-01],\n       [9.5979190e-01],\n       [9.9876761e-01],\n       [1.6438477e-06],\n       [9.6214126e-10],\n       [9.6088934e-01],\n       [9.9470103e-01],\n       [9.9996275e-01],\n       [9.9208862e-01],\n       [9.9995416e-01],\n       [3.3380017e-14],\n       [6.5216124e-03],\n       [9.9974561e-01],\n       [9.9108112e-01],\n       [7.0886665e-09],\n       [9.1199226e-10],\n       [9.8472494e-01],\n       [9.9878556e-01],\n       [9.2833716e-01],\n       [1.4235809e-07],\n       [1.1216021e-14],\n       [9.9778247e-01],\n       [9.8622853e-01],\n       [4.0769577e-04],\n       [5.3073036e-05],\n       [9.9673700e-01],\n       [3.8540363e-04],\n       [9.9992186e-01],\n       [9.9158895e-01],\n       [9.8658633e-01],\n       [3.4989625e-01],\n       [9.9986720e-01],\n       [9.9224520e-01],\n       [9.2102520e-05],\n       [9.9962109e-01],\n       [4.7799438e-02],\n       [7.0466577e-10],\n       [7.4866414e-04],\n       [1.4176965e-04],\n       [2.0193089e-05],\n       [5.4499209e-03],\n       [9.9995488e-01],\n       [9.9501628e-01],\n       [9.9361724e-01],\n       [3.6044353e-01],\n       [9.6722484e-01],\n       [9.9963427e-01],\n       [9.9776673e-01],\n       [9.9966466e-01],\n       [1.2262511e-07],\n       [8.1263130e-09],\n       [9.9978042e-01],\n       [1.8030405e-04],\n       [1.8426776e-04],\n       [9.9996936e-01],\n       [4.2404949e-06],\n       [8.1596245e-06],\n       [9.9086231e-01],\n       [9.2027611e-01],\n       [9.9913061e-01],\n       [1.5732511e-11],\n       [9.7133875e-01],\n       [9.6969020e-01],\n       [8.5741282e-04],\n       [9.9735892e-01],\n       [8.4869289e-01],\n       [6.0101252e-15]], dtype=float32)"
     },
     "metadata": {}
    }
   ],
   "execution_count": 79
  },
  {
   "cell_type": "markdown",
   "source": "**Commentary**:  \nThe resulting value in our final node is a _probability_ of belonging to the class1 (has cancer).\nThe interpretation would be if the probability is > 0.5 than it's likely that the patient has cancer (belongs to class 1)",
   "metadata": {
    "tags": [],
    "cell_id": "00047-86623189-d46b-46bf-87a5-8dede1873c99",
    "deepnote_cell_type": "markdown"
   }
  },
  {
   "cell_type": "code",
   "metadata": {
    "id": "9YLpHjipKbZM",
    "colab": {
     "base_uri": "https://localhost:8080/"
    },
    "outputId": "f0d30210-539f-4936-c9f3-791e75bc6d03",
    "cell_id": "00035-7da5a1fe-69b4-4480-b979-e73f038bb383",
    "deepnote_to_be_reexecuted": false,
    "source_hash": "667dde69",
    "execution_start": 1636106940653,
    "execution_millis": 5,
    "deepnote_cell_type": "code"
   },
   "source": "# Finding the most probable class\n\nclass1 = yhat > 0.5\nclass0 = yhat <= 0.5\nclass1\n",
   "outputs": [
    {
     "output_type": "execute_result",
     "execution_count": 82,
     "data": {
      "text/plain": "array([[ True],\n       [False],\n       [False],\n       [ True],\n       [ True],\n       [False],\n       [False],\n       [False],\n       [ True],\n       [ True],\n       [ True],\n       [False],\n       [ True],\n       [False],\n       [ True],\n       [False],\n       [ True],\n       [ True],\n       [ True],\n       [False],\n       [ True],\n       [ True],\n       [False],\n       [ True],\n       [ True],\n       [ True],\n       [ True],\n       [ True],\n       [ True],\n       [False],\n       [ True],\n       [ True],\n       [ True],\n       [ True],\n       [ True],\n       [ True],\n       [False],\n       [ True],\n       [False],\n       [ True],\n       [ True],\n       [False],\n       [ True],\n       [ True],\n       [ True],\n       [ True],\n       [ True],\n       [ True],\n       [ True],\n       [ True],\n       [False],\n       [False],\n       [ True],\n       [ True],\n       [ True],\n       [ True],\n       [ True],\n       [False],\n       [False],\n       [ True],\n       [ True],\n       [False],\n       [False],\n       [ True],\n       [ True],\n       [ True],\n       [False],\n       [False],\n       [ True],\n       [ True],\n       [False],\n       [False],\n       [ True],\n       [False],\n       [ True],\n       [ True],\n       [ True],\n       [False],\n       [ True],\n       [ True],\n       [False],\n       [ True],\n       [False],\n       [False],\n       [False],\n       [False],\n       [False],\n       [False],\n       [ True],\n       [ True],\n       [ True],\n       [False],\n       [ True],\n       [ True],\n       [ True],\n       [ True],\n       [False],\n       [False],\n       [ True],\n       [False],\n       [False],\n       [ True],\n       [False],\n       [False],\n       [ True],\n       [ True],\n       [ True],\n       [False],\n       [ True],\n       [ True],\n       [False],\n       [ True],\n       [ True],\n       [False]])"
     },
     "metadata": {}
    }
   ],
   "execution_count": 82
  },
  {
   "cell_type": "code",
   "metadata": {
    "id": "Ttv8CTL9J2u9",
    "colab": {
     "base_uri": "https://localhost:8080/"
    },
    "outputId": "631c2846-ba68-4cba-d895-bb34854e0f37",
    "cell_id": "00036-79de953b-959e-4d31-a8aa-7b2debd8a029",
    "deepnote_to_be_reexecuted": false,
    "source_hash": "4d5a2a44",
    "execution_start": 1636107449845,
    "execution_millis": 21,
    "deepnote_cell_type": "code"
   },
   "source": "# print the confusion matrix\n\nfrom sklearn.metrics import confusion_matrix\nconfusion_matrix(y_test, class1)",
   "outputs": [
    {
     "output_type": "execute_result",
     "execution_count": 84,
     "data": {
      "text/plain": "array([[42,  1],\n       [ 1, 70]])"
     },
     "metadata": {}
    }
   ],
   "execution_count": 84
  },
  {
   "cell_type": "code",
   "metadata": {
    "id": "6y_9kW-HNogg",
    "colab": {
     "base_uri": "https://localhost:8080/"
    },
    "outputId": "792c0e2c-437c-42be-dbd4-938bf1c203d1",
    "cell_id": "00037-c5ac5b1b-f60a-4e6b-9ec0-334947b42a68",
    "deepnote_to_be_reexecuted": false,
    "source_hash": "728d7be4",
    "execution_start": 1636107620432,
    "execution_millis": 8,
    "deepnote_cell_type": "code"
   },
   "source": "#print classification report\nfrom sklearn.metrics import classification_report\n\nprint(classification_report(y_test, class1))\n",
   "outputs": [
    {
     "name": "stdout",
     "text": "              precision    recall  f1-score   support\n\n         0.0       0.98      0.98      0.98        43\n         1.0       0.99      0.99      0.99        71\n\n    accuracy                           0.98       114\n   macro avg       0.98      0.98      0.98       114\nweighted avg       0.98      0.98      0.98       114\n\n",
     "output_type": "stream"
    }
   ],
   "execution_count": 88
  },
  {
   "cell_type": "code",
   "metadata": {
    "id": "B8dJ82XAAQ9f",
    "cell_id": "00038-257fb7d1-1377-4900-9e55-7b056ebb8a51",
    "deepnote_cell_type": "code"
   },
   "source": "",
   "outputs": [],
   "execution_count": null
  },
  {
   "cell_type": "markdown",
   "source": "<a style='text-decoration:none;line-height:16px;display:flex;color:#5B5B62;padding:10px;justify-content:end;' href='https://deepnote.com?utm_source=created-in-deepnote-cell&projectId=93355ccb-7398-4c1f-9194-fec3c7f6574c' target=\"_blank\">\n<img alt='Created in deepnote.com' style='display:inline;max-height:16px;margin:0px;margin-right:7.5px;' src='data:image/svg+xml;base64,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' > </img>\nCreated in <span style='font-weight:600;margin-left:4px;'>Deepnote</span></a>",
   "metadata": {
    "tags": [],
    "created_in_deepnote_cell": true,
    "deepnote_cell_type": "markdown"
   }
  }
 ],
 "nbformat": 4,
 "nbformat_minor": 0,
 "metadata": {
  "colab": {
   "name": "NN_Dojo.ipynb",
   "provenance": []
  },
  "kernelspec": {
   "name": "python3",
   "display_name": "Python 3"
  },
  "deepnote_notebook_id": "17485c8c-f26e-4c10-8f51-9f1aa3bd5fcd",
  "deepnote": {},
  "deepnote_execution_queue": []
 }
}