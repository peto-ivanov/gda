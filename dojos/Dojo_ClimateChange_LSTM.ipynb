{
 "cells": [
  {
   "cell_type": "code",
   "metadata": {
    "id": "59PaP-TbzksQ",
    "cell_id": "00000-2fec06e8-9494-48bf-893c-47cd37d68df2",
    "deepnote_to_be_reexecuted": false,
    "source_hash": "71853ee8",
    "execution_start": 1637310346700,
    "execution_millis": 1242,
    "deepnote_cell_type": "code"
   },
   "source": "# =============================================================================\n# Imports\n# =============================================================================\n\nimport os\nimport pandas as pd\nimport numpy as np\nimport matplotlib.pyplot as plt\n",
   "execution_count": 1,
   "outputs": []
  },
  {
   "cell_type": "code",
   "metadata": {
    "colab": {
     "base_uri": "https://localhost:8080/",
     "height": 305
    },
    "id": "OCNzdPKWzqlb",
    "outputId": "3bd7939e-96cf-4ec0-ecf8-6e0735bb16e7",
    "cell_id": "00001-742058d7-1a40-4bd2-b651-77b020851cfe",
    "deepnote_output_heights": [
     175.65625
    ],
    "deepnote_to_be_reexecuted": false,
    "source_hash": "60dec99e",
    "execution_start": 1637310362290,
    "execution_millis": 392,
    "deepnote_cell_type": "code"
   },
   "source": "\n# =============================================================================\n# Paths and Variables\n# =============================================================================\n\npath = 'https://raw.githubusercontent.com/crajapax/GDAtrack3b/main/GlobalTemperatures.csv'\n\n# =============================================================================\n# Open data file\n# =============================================================================\n\nglobal_temp_df = pd.read_csv(path)\nglobal_temp_df.head()\n",
   "execution_count": 2,
   "outputs": [
    {
     "output_type": "execute_result",
     "execution_count": 2,
     "data": {
      "application/vnd.deepnote.dataframe.v2+json": {
       "row_count": 5,
       "column_count": 9,
       "columns": [
        {
         "name": "dt",
         "dtype": "object",
         "stats": {
          "unique_count": 5,
          "nan_count": 0,
          "categories": [
           {
            "name": "1750-01-01",
            "count": 1
           },
           {
            "name": "1750-02-01",
            "count": 1
           },
           {
            "name": "3 others",
            "count": 3
           }
          ]
         }
        },
        {
         "name": "LandAverageTemperature",
         "dtype": "float64",
         "stats": {
          "unique_count": 5,
          "nan_count": 0,
          "min": "3.0340000000000003",
          "max": "11.573",
          "histogram": [
           {
            "bin_start": 3.0340000000000003,
            "bin_end": 3.8879,
            "count": 2
           },
           {
            "bin_start": 3.8879,
            "bin_end": 4.7418000000000005,
            "count": 0
           },
           {
            "bin_start": 4.7418000000000005,
            "bin_end": 5.595700000000001,
            "count": 0
           },
           {
            "bin_start": 5.595700000000001,
            "bin_end": 6.4496,
            "count": 1
           },
           {
            "bin_start": 6.4496,
            "bin_end": 7.3035,
            "count": 0
           },
           {
            "bin_start": 7.3035,
            "bin_end": 8.1574,
            "count": 0
           },
           {
            "bin_start": 8.1574,
            "bin_end": 9.0113,
            "count": 1
           },
           {
            "bin_start": 9.0113,
            "bin_end": 9.8652,
            "count": 0
           },
           {
            "bin_start": 9.8652,
            "bin_end": 10.719100000000001,
            "count": 0
           },
           {
            "bin_start": 10.719100000000001,
            "bin_end": 11.573,
            "count": 1
           }
          ]
         }
        },
        {
         "name": "LandAverageTemperatureUncertainty",
         "dtype": "float64",
         "stats": {
          "unique_count": 5,
          "nan_count": 0,
          "min": "2.072",
          "max": "3.702",
          "histogram": [
           {
            "bin_start": 2.072,
            "bin_end": 2.235,
            "count": 1
           },
           {
            "bin_start": 2.235,
            "bin_end": 2.398,
            "count": 0
           },
           {
            "bin_start": 2.398,
            "bin_end": 2.561,
            "count": 1
           },
           {
            "bin_start": 2.561,
            "bin_end": 2.724,
            "count": 0
           },
           {
            "bin_start": 2.724,
            "bin_end": 2.887,
            "count": 0
           },
           {
            "bin_start": 2.887,
            "bin_end": 3.05,
            "count": 0
           },
           {
            "bin_start": 3.05,
            "bin_end": 3.213,
            "count": 1
           },
           {
            "bin_start": 3.213,
            "bin_end": 3.376,
            "count": 0
           },
           {
            "bin_start": 3.376,
            "bin_end": 3.5389999999999997,
            "count": 0
           },
           {
            "bin_start": 3.5389999999999997,
            "bin_end": 3.702,
            "count": 2
           }
          ]
         }
        },
        {
         "name": "LandMaxTemperature",
         "dtype": "float64",
         "stats": {
          "unique_count": 0,
          "nan_count": 5,
          "min": null,
          "max": null,
          "histogram": [
           {
            "bin_start": 0,
            "bin_end": 0.1,
            "count": 0
           },
           {
            "bin_start": 0.1,
            "bin_end": 0.2,
            "count": 0
           },
           {
            "bin_start": 0.2,
            "bin_end": 0.30000000000000004,
            "count": 0
           },
           {
            "bin_start": 0.30000000000000004,
            "bin_end": 0.4,
            "count": 0
           },
           {
            "bin_start": 0.4,
            "bin_end": 0.5,
            "count": 0
           },
           {
            "bin_start": 0.5,
            "bin_end": 0.6000000000000001,
            "count": 0
           },
           {
            "bin_start": 0.6000000000000001,
            "bin_end": 0.7000000000000001,
            "count": 0
           },
           {
            "bin_start": 0.7000000000000001,
            "bin_end": 0.8,
            "count": 0
           },
           {
            "bin_start": 0.8,
            "bin_end": 0.9,
            "count": 0
           },
           {
            "bin_start": 0.9,
            "bin_end": 1,
            "count": 0
           }
          ]
         }
        },
        {
         "name": "LandMaxTemperatureUncertainty",
         "dtype": "float64",
         "stats": {
          "unique_count": 0,
          "nan_count": 5,
          "min": null,
          "max": null,
          "histogram": [
           {
            "bin_start": 0,
            "bin_end": 0.1,
            "count": 0
           },
           {
            "bin_start": 0.1,
            "bin_end": 0.2,
            "count": 0
           },
           {
            "bin_start": 0.2,
            "bin_end": 0.30000000000000004,
            "count": 0
           },
           {
            "bin_start": 0.30000000000000004,
            "bin_end": 0.4,
            "count": 0
           },
           {
            "bin_start": 0.4,
            "bin_end": 0.5,
            "count": 0
           },
           {
            "bin_start": 0.5,
            "bin_end": 0.6000000000000001,
            "count": 0
           },
           {
            "bin_start": 0.6000000000000001,
            "bin_end": 0.7000000000000001,
            "count": 0
           },
           {
            "bin_start": 0.7000000000000001,
            "bin_end": 0.8,
            "count": 0
           },
           {
            "bin_start": 0.8,
            "bin_end": 0.9,
            "count": 0
           },
           {
            "bin_start": 0.9,
            "bin_end": 1,
            "count": 0
           }
          ]
         }
        },
        {
         "name": "LandMinTemperature",
         "dtype": "float64",
         "stats": {
          "unique_count": 0,
          "nan_count": 5,
          "min": null,
          "max": null,
          "histogram": [
           {
            "bin_start": 0,
            "bin_end": 0.1,
            "count": 0
           },
           {
            "bin_start": 0.1,
            "bin_end": 0.2,
            "count": 0
           },
           {
            "bin_start": 0.2,
            "bin_end": 0.30000000000000004,
            "count": 0
           },
           {
            "bin_start": 0.30000000000000004,
            "bin_end": 0.4,
            "count": 0
           },
           {
            "bin_start": 0.4,
            "bin_end": 0.5,
            "count": 0
           },
           {
            "bin_start": 0.5,
            "bin_end": 0.6000000000000001,
            "count": 0
           },
           {
            "bin_start": 0.6000000000000001,
            "bin_end": 0.7000000000000001,
            "count": 0
           },
           {
            "bin_start": 0.7000000000000001,
            "bin_end": 0.8,
            "count": 0
           },
           {
            "bin_start": 0.8,
            "bin_end": 0.9,
            "count": 0
           },
           {
            "bin_start": 0.9,
            "bin_end": 1,
            "count": 0
           }
          ]
         }
        },
        {
         "name": "LandMinTemperatureUncertainty",
         "dtype": "float64",
         "stats": {
          "unique_count": 0,
          "nan_count": 5,
          "min": null,
          "max": null,
          "histogram": [
           {
            "bin_start": 0,
            "bin_end": 0.1,
            "count": 0
           },
           {
            "bin_start": 0.1,
            "bin_end": 0.2,
            "count": 0
           },
           {
            "bin_start": 0.2,
            "bin_end": 0.30000000000000004,
            "count": 0
           },
           {
            "bin_start": 0.30000000000000004,
            "bin_end": 0.4,
            "count": 0
           },
           {
            "bin_start": 0.4,
            "bin_end": 0.5,
            "count": 0
           },
           {
            "bin_start": 0.5,
            "bin_end": 0.6000000000000001,
            "count": 0
           },
           {
            "bin_start": 0.6000000000000001,
            "bin_end": 0.7000000000000001,
            "count": 0
           },
           {
            "bin_start": 0.7000000000000001,
            "bin_end": 0.8,
            "count": 0
           },
           {
            "bin_start": 0.8,
            "bin_end": 0.9,
            "count": 0
           },
           {
            "bin_start": 0.9,
            "bin_end": 1,
            "count": 0
           }
          ]
         }
        },
        {
         "name": "LandAndOceanAverageTemperature",
         "dtype": "float64",
         "stats": {
          "unique_count": 0,
          "nan_count": 5,
          "min": null,
          "max": null,
          "histogram": [
           {
            "bin_start": 0,
            "bin_end": 0.1,
            "count": 0
           },
           {
            "bin_start": 0.1,
            "bin_end": 0.2,
            "count": 0
           },
           {
            "bin_start": 0.2,
            "bin_end": 0.30000000000000004,
            "count": 0
           },
           {
            "bin_start": 0.30000000000000004,
            "bin_end": 0.4,
            "count": 0
           },
           {
            "bin_start": 0.4,
            "bin_end": 0.5,
            "count": 0
           },
           {
            "bin_start": 0.5,
            "bin_end": 0.6000000000000001,
            "count": 0
           },
           {
            "bin_start": 0.6000000000000001,
            "bin_end": 0.7000000000000001,
            "count": 0
           },
           {
            "bin_start": 0.7000000000000001,
            "bin_end": 0.8,
            "count": 0
           },
           {
            "bin_start": 0.8,
            "bin_end": 0.9,
            "count": 0
           },
           {
            "bin_start": 0.9,
            "bin_end": 1,
            "count": 0
           }
          ]
         }
        },
        {
         "name": "LandAndOceanAverageTemperatureUncertainty",
         "dtype": "float64",
         "stats": {
          "unique_count": 0,
          "nan_count": 5,
          "min": null,
          "max": null,
          "histogram": [
           {
            "bin_start": 0,
            "bin_end": 0.1,
            "count": 0
           },
           {
            "bin_start": 0.1,
            "bin_end": 0.2,
            "count": 0
           },
           {
            "bin_start": 0.2,
            "bin_end": 0.30000000000000004,
            "count": 0
           },
           {
            "bin_start": 0.30000000000000004,
            "bin_end": 0.4,
            "count": 0
           },
           {
            "bin_start": 0.4,
            "bin_end": 0.5,
            "count": 0
           },
           {
            "bin_start": 0.5,
            "bin_end": 0.6000000000000001,
            "count": 0
           },
           {
            "bin_start": 0.6000000000000001,
            "bin_end": 0.7000000000000001,
            "count": 0
           },
           {
            "bin_start": 0.7000000000000001,
            "bin_end": 0.8,
            "count": 0
           },
           {
            "bin_start": 0.8,
            "bin_end": 0.9,
            "count": 0
           },
           {
            "bin_start": 0.9,
            "bin_end": 1,
            "count": 0
           }
          ]
         }
        },
        {
         "name": "_deepnote_index_column",
         "dtype": "int64"
        }
       ],
       "rows_top": [
        {
         "dt": "1750-01-01",
         "LandAverageTemperature": 3.0340000000000003,
         "LandAverageTemperatureUncertainty": 3.574,
         "LandMaxTemperature": "nan",
         "LandMaxTemperatureUncertainty": "nan",
         "LandMinTemperature": "nan",
         "LandMinTemperatureUncertainty": "nan",
         "LandAndOceanAverageTemperature": "nan",
         "LandAndOceanAverageTemperatureUncertainty": "nan",
         "_deepnote_index_column": 0
        },
        {
         "dt": "1750-02-01",
         "LandAverageTemperature": 3.083,
         "LandAverageTemperatureUncertainty": 3.702,
         "LandMaxTemperature": "nan",
         "LandMaxTemperatureUncertainty": "nan",
         "LandMinTemperature": "nan",
         "LandMinTemperatureUncertainty": "nan",
         "LandAndOceanAverageTemperature": "nan",
         "LandAndOceanAverageTemperatureUncertainty": "nan",
         "_deepnote_index_column": 1
        },
        {
         "dt": "1750-03-01",
         "LandAverageTemperature": 5.626,
         "LandAverageTemperatureUncertainty": 3.076,
         "LandMaxTemperature": "nan",
         "LandMaxTemperatureUncertainty": "nan",
         "LandMinTemperature": "nan",
         "LandMinTemperatureUncertainty": "nan",
         "LandAndOceanAverageTemperature": "nan",
         "LandAndOceanAverageTemperatureUncertainty": "nan",
         "_deepnote_index_column": 2
        },
        {
         "dt": "1750-04-01",
         "LandAverageTemperature": 8.49,
         "LandAverageTemperatureUncertainty": 2.451,
         "LandMaxTemperature": "nan",
         "LandMaxTemperatureUncertainty": "nan",
         "LandMinTemperature": "nan",
         "LandMinTemperatureUncertainty": "nan",
         "LandAndOceanAverageTemperature": "nan",
         "LandAndOceanAverageTemperatureUncertainty": "nan",
         "_deepnote_index_column": 3
        },
        {
         "dt": "1750-05-01",
         "LandAverageTemperature": 11.573,
         "LandAverageTemperatureUncertainty": 2.072,
         "LandMaxTemperature": "nan",
         "LandMaxTemperatureUncertainty": "nan",
         "LandMinTemperature": "nan",
         "LandMinTemperatureUncertainty": "nan",
         "LandAndOceanAverageTemperature": "nan",
         "LandAndOceanAverageTemperatureUncertainty": "nan",
         "_deepnote_index_column": 4
        }
       ],
       "rows_bottom": null
      },
      "text/plain": "           dt  LandAverageTemperature  LandAverageTemperatureUncertainty  \\\n0  1750-01-01                   3.034                              3.574   \n1  1750-02-01                   3.083                              3.702   \n2  1750-03-01                   5.626                              3.076   \n3  1750-04-01                   8.490                              2.451   \n4  1750-05-01                  11.573                              2.072   \n\n   LandMaxTemperature  LandMaxTemperatureUncertainty  LandMinTemperature  \\\n0                 NaN                            NaN                 NaN   \n1                 NaN                            NaN                 NaN   \n2                 NaN                            NaN                 NaN   \n3                 NaN                            NaN                 NaN   \n4                 NaN                            NaN                 NaN   \n\n   LandMinTemperatureUncertainty  LandAndOceanAverageTemperature  \\\n0                            NaN                             NaN   \n1                            NaN                             NaN   \n2                            NaN                             NaN   \n3                            NaN                             NaN   \n4                            NaN                             NaN   \n\n   LandAndOceanAverageTemperatureUncertainty  \n0                                        NaN  \n1                                        NaN  \n2                                        NaN  \n3                                        NaN  \n4                                        NaN  ",
      "text/html": "<div>\n<style scoped>\n    .dataframe tbody tr th:only-of-type {\n        vertical-align: middle;\n    }\n\n    .dataframe tbody tr th {\n        vertical-align: top;\n    }\n\n    .dataframe thead th {\n        text-align: right;\n    }\n</style>\n<table border=\"1\" class=\"dataframe\">\n  <thead>\n    <tr style=\"text-align: right;\">\n      <th></th>\n      <th>dt</th>\n      <th>LandAverageTemperature</th>\n      <th>LandAverageTemperatureUncertainty</th>\n      <th>LandMaxTemperature</th>\n      <th>LandMaxTemperatureUncertainty</th>\n      <th>LandMinTemperature</th>\n      <th>LandMinTemperatureUncertainty</th>\n      <th>LandAndOceanAverageTemperature</th>\n      <th>LandAndOceanAverageTemperatureUncertainty</th>\n    </tr>\n  </thead>\n  <tbody>\n    <tr>\n      <th>0</th>\n      <td>1750-01-01</td>\n      <td>3.034</td>\n      <td>3.574</td>\n      <td>NaN</td>\n      <td>NaN</td>\n      <td>NaN</td>\n      <td>NaN</td>\n      <td>NaN</td>\n      <td>NaN</td>\n    </tr>\n    <tr>\n      <th>1</th>\n      <td>1750-02-01</td>\n      <td>3.083</td>\n      <td>3.702</td>\n      <td>NaN</td>\n      <td>NaN</td>\n      <td>NaN</td>\n      <td>NaN</td>\n      <td>NaN</td>\n      <td>NaN</td>\n    </tr>\n    <tr>\n      <th>2</th>\n      <td>1750-03-01</td>\n      <td>5.626</td>\n      <td>3.076</td>\n      <td>NaN</td>\n      <td>NaN</td>\n      <td>NaN</td>\n      <td>NaN</td>\n      <td>NaN</td>\n      <td>NaN</td>\n    </tr>\n    <tr>\n      <th>3</th>\n      <td>1750-04-01</td>\n      <td>8.490</td>\n      <td>2.451</td>\n      <td>NaN</td>\n      <td>NaN</td>\n      <td>NaN</td>\n      <td>NaN</td>\n      <td>NaN</td>\n      <td>NaN</td>\n    </tr>\n    <tr>\n      <th>4</th>\n      <td>1750-05-01</td>\n      <td>11.573</td>\n      <td>2.072</td>\n      <td>NaN</td>\n      <td>NaN</td>\n      <td>NaN</td>\n      <td>NaN</td>\n      <td>NaN</td>\n      <td>NaN</td>\n    </tr>\n  </tbody>\n</table>\n</div>"
     },
     "metadata": {}
    }
   ]
  },
  {
   "cell_type": "markdown",
   "source": "Do some Exploratory Data Analysis and understand your columns.\n\nSteps for TimeSeries Modelleing:\n1. figure out what you want your model to predict, what would be an interesting variable to look at\n2. transform time series data and define variable you want to predict\n3. normalize/standardize observations\n4. Transform the time series into a supervised learning problem. Specifically, the organization of data into input and output patterns where the observation at the previous time step is used as an input to forecast the observation(s) at the current/future time steps\n5. split train, validation and testset by time to avoid dataleakage of futue information into your trainset",
   "metadata": {
    "id": "xRvOcZ0L6o48",
    "cell_id": "00002-911406d2-4e67-4237-8181-0d5e40376382",
    "deepnote_cell_type": "markdown"
   }
  },
  {
   "cell_type": "code",
   "metadata": {
    "colab": {
     "base_uri": "https://localhost:8080/"
    },
    "id": "LNopPA2C-UFF",
    "outputId": "aa085c1f-9d74-40fb-9185-7e6ab7fe5515",
    "cell_id": "00003-f5e7c66b-2e3a-4824-b982-8a731bce4ff1",
    "deepnote_to_be_reexecuted": false,
    "source_hash": "276358d2",
    "execution_start": 1637310521269,
    "execution_millis": 240,
    "deepnote_cell_type": "code"
   },
   "source": "# =============================================================================\n# Print columns of dataframe\n# =============================================================================\n\nglobal_temp_df_cols = global_temp_df.columns\n\nprint(global_temp_df_cols)",
   "execution_count": 7,
   "outputs": [
    {
     "name": "stdout",
     "text": "Index(['dt', 'LandAverageTemperature', 'LandAverageTemperatureUncertainty',\n       'LandMaxTemperature', 'LandMaxTemperatureUncertainty',\n       'LandMinTemperature', 'LandMinTemperatureUncertainty',\n       'LandAndOceanAverageTemperature',\n       'LandAndOceanAverageTemperatureUncertainty'],\n      dtype='object')\n",
     "output_type": "stream"
    }
   ]
  },
  {
   "cell_type": "code",
   "metadata": {
    "tags": [],
    "cell_id": "00004-448f7d4e-e9d7-4a94-98ee-cd073bfe197c",
    "deepnote_to_be_reexecuted": false,
    "source_hash": "b9f82a2b",
    "execution_start": 1637310458381,
    "execution_millis": 8,
    "deepnote_output_heights": [
     114
    ],
    "deepnote_cell_type": "code"
   },
   "source": "global_temp_df_cols",
   "execution_count": 4,
   "outputs": [
    {
     "output_type": "execute_result",
     "execution_count": 4,
     "data": {
      "text/plain": "Index(['dt', 'LandAverageTemperature', 'LandAverageTemperatureUncertainty',\n       'LandMaxTemperature', 'LandMaxTemperatureUncertainty',\n       'LandMinTemperature', 'LandMinTemperatureUncertainty',\n       'LandAndOceanAverageTemperature',\n       'LandAndOceanAverageTemperatureUncertainty'],\n      dtype='object')"
     },
     "metadata": {}
    }
   ]
  },
  {
   "cell_type": "code",
   "metadata": {
    "tags": [],
    "cell_id": "00005-22b31b9a-7161-4594-a0b8-54e6de31872d",
    "deepnote_to_be_reexecuted": false,
    "source_hash": "2986fbde",
    "execution_start": 1637310539626,
    "execution_millis": 7,
    "deepnote_output_heights": [
     21.15625
    ],
    "deepnote_cell_type": "code"
   },
   "source": "global_temp_df.shape",
   "execution_count": 8,
   "outputs": [
    {
     "output_type": "execute_result",
     "execution_count": 8,
     "data": {
      "text/plain": "(3192, 9)"
     },
     "metadata": {}
    }
   ]
  },
  {
   "cell_type": "code",
   "metadata": {
    "colab": {
     "base_uri": "https://localhost:8080/"
    },
    "id": "Zq1QbjJW9yUi",
    "outputId": "63763adc-351b-455b-c64b-c4aa45db6fa5",
    "cell_id": "00004-7b0bc28c-0565-4fd3-a253-77e6ef486e4e",
    "deepnote_to_be_reexecuted": false,
    "source_hash": "919d4071",
    "execution_start": 1637310498303,
    "execution_millis": 4,
    "deepnote_output_heights": [
     188.65625
    ],
    "deepnote_cell_type": "code"
   },
   "source": "# =============================================================================\n# Get overview of data - NaNs\n# =============================================================================\n\nglobal_temp_df.isna().sum()\n",
   "execution_count": 6,
   "outputs": [
    {
     "output_type": "execute_result",
     "execution_count": 6,
     "data": {
      "text/plain": "dt                                              0\nLandAverageTemperature                         12\nLandAverageTemperatureUncertainty              12\nLandMaxTemperature                           1200\nLandMaxTemperatureUncertainty                1200\nLandMinTemperature                           1200\nLandMinTemperatureUncertainty                1200\nLandAndOceanAverageTemperature               1200\nLandAndOceanAverageTemperatureUncertainty    1200\ndtype: int64"
     },
     "metadata": {}
    }
   ]
  },
  {
   "cell_type": "code",
   "metadata": {
    "colab": {
     "base_uri": "https://localhost:8080/"
    },
    "id": "3RHLXAtV-jkJ",
    "outputId": "cdd32a59-8850-4bbe-ff93-bdaa7e0b8968",
    "cell_id": "00005-77980596-415d-42d3-bca9-40da665d1c27",
    "deepnote_to_be_reexecuted": false,
    "source_hash": "40234a5d",
    "execution_start": 1637310789041,
    "execution_millis": 8,
    "deepnote_cell_type": "code"
   },
   "source": "# =============================================================================\n# Let's focus on three rows: \n#\n#       - dt (Date)\n#       - LandAverageTemperature\n#       - LandAverageTemperatureUncertainty\n#\n# Create the sub dataframe containg only these rows\n# =============================================================================\n\n\n\n#print new dataframe column\ndata = global_temp_df.loc[:,[\"dt\",\"LandAverageTemperature\", \"\"]]",
   "execution_count": 16,
   "outputs": []
  },
  {
   "cell_type": "code",
   "metadata": {
    "tags": [],
    "cell_id": "00008-a1e68fb8-dfbf-4fd7-936e-4917c794b373",
    "deepnote_to_be_reexecuted": false,
    "source_hash": "e6928a8f",
    "execution_start": 1637310726826,
    "execution_millis": 363,
    "deepnote_cell_type": "code"
   },
   "source": "data",
   "execution_count": 15,
   "outputs": [
    {
     "output_type": "execute_result",
     "execution_count": 15,
     "data": {
      "application/vnd.deepnote.dataframe.v2+json": {
       "row_count": 3192,
       "column_count": 3,
       "columns": [
        {
         "name": "dt",
         "dtype": "object",
         "stats": {
          "unique_count": 3192,
          "nan_count": 0,
          "categories": [
           {
            "name": "1750-01-01",
            "count": 1
           },
           {
            "name": "1750-02-01",
            "count": 1
           },
           {
            "name": "3190 others",
            "count": 3190
           }
          ]
         }
        },
        {
         "name": "LandAverageTemperature",
         "dtype": "float64",
         "stats": {
          "unique_count": 2839,
          "nan_count": 12,
          "min": "-2.08",
          "max": "19.021",
          "histogram": [
           {
            "bin_start": -2.08,
            "bin_end": 0.030100000000000016,
            "count": 17
           },
           {
            "bin_start": 0.030100000000000016,
            "bin_end": 2.1402,
            "count": 180
           },
           {
            "bin_start": 2.1402,
            "bin_end": 4.2503,
            "count": 585
           },
           {
            "bin_start": 4.2503,
            "bin_end": 6.3604,
            "count": 482
           },
           {
            "bin_start": 6.3604,
            "bin_end": 8.4705,
            "count": 296
           },
           {
            "bin_start": 8.4705,
            "bin_end": 10.5806,
            "count": 365
           },
           {
            "bin_start": 10.5806,
            "bin_end": 12.690700000000001,
            "count": 484
           },
           {
            "bin_start": 12.690700000000001,
            "bin_end": 14.8008,
            "count": 711
           },
           {
            "bin_start": 14.8008,
            "bin_end": 16.910899999999998,
            "count": 56
           },
           {
            "bin_start": 16.910899999999998,
            "bin_end": 19.021,
            "count": 4
           }
          ]
         }
        },
        {
         "name": "LandAverageTemperatureUncertainty",
         "dtype": "float64",
         "stats": {
          "unique_count": 1594,
          "nan_count": 12,
          "min": "0.034",
          "max": "7.88",
          "histogram": [
           {
            "bin_start": 0.034,
            "bin_end": 0.8186,
            "count": 1998
           },
           {
            "bin_start": 0.8186,
            "bin_end": 1.6032,
            "count": 490
           },
           {
            "bin_start": 1.6032,
            "bin_end": 2.3877999999999995,
            "count": 328
           },
           {
            "bin_start": 2.3877999999999995,
            "bin_end": 3.1723999999999997,
            "count": 192
           },
           {
            "bin_start": 3.1723999999999997,
            "bin_end": 3.957,
            "count": 102
           },
           {
            "bin_start": 3.957,
            "bin_end": 4.741599999999999,
            "count": 39
           },
           {
            "bin_start": 4.741599999999999,
            "bin_end": 5.526199999999999,
            "count": 19
           },
           {
            "bin_start": 5.526199999999999,
            "bin_end": 6.3107999999999995,
            "count": 7
           },
           {
            "bin_start": 6.3107999999999995,
            "bin_end": 7.0954,
            "count": 2
           },
           {
            "bin_start": 7.0954,
            "bin_end": 7.88,
            "count": 3
           }
          ]
         }
        },
        {
         "name": "_deepnote_index_column",
         "dtype": "int64"
        }
       ],
       "rows_top": [
        {
         "dt": "1750-01-01",
         "LandAverageTemperature": 3.0340000000000003,
         "LandAverageTemperatureUncertainty": 3.574,
         "_deepnote_index_column": 0
        },
        {
         "dt": "1750-02-01",
         "LandAverageTemperature": 3.083,
         "LandAverageTemperatureUncertainty": 3.702,
         "_deepnote_index_column": 1
        },
        {
         "dt": "1750-03-01",
         "LandAverageTemperature": 5.626,
         "LandAverageTemperatureUncertainty": 3.076,
         "_deepnote_index_column": 2
        },
        {
         "dt": "1750-04-01",
         "LandAverageTemperature": 8.49,
         "LandAverageTemperatureUncertainty": 2.451,
         "_deepnote_index_column": 3
        },
        {
         "dt": "1750-05-01",
         "LandAverageTemperature": 11.573,
         "LandAverageTemperatureUncertainty": 2.072,
         "_deepnote_index_column": 4
        },
        {
         "dt": "1750-06-01",
         "LandAverageTemperature": 12.937,
         "LandAverageTemperatureUncertainty": 1.724,
         "_deepnote_index_column": 5
        },
        {
         "dt": "1750-07-01",
         "LandAverageTemperature": 15.868,
         "LandAverageTemperatureUncertainty": 1.911,
         "_deepnote_index_column": 6
        },
        {
         "dt": "1750-08-01",
         "LandAverageTemperature": 14.75,
         "LandAverageTemperatureUncertainty": 2.231,
         "_deepnote_index_column": 7
        },
        {
         "dt": "1750-09-01",
         "LandAverageTemperature": 11.412999999999998,
         "LandAverageTemperatureUncertainty": 2.637,
         "_deepnote_index_column": 8
        },
        {
         "dt": "1750-10-01",
         "LandAverageTemperature": 6.366999999999999,
         "LandAverageTemperatureUncertainty": 2.668,
         "_deepnote_index_column": 9
        },
        {
         "dt": "1750-11-01",
         "LandAverageTemperature": "nan",
         "LandAverageTemperatureUncertainty": "nan",
         "_deepnote_index_column": 10
        },
        {
         "dt": "1750-12-01",
         "LandAverageTemperature": 2.772,
         "LandAverageTemperatureUncertainty": 2.97,
         "_deepnote_index_column": 11
        },
        {
         "dt": "1751-01-01",
         "LandAverageTemperature": 2.495,
         "LandAverageTemperatureUncertainty": 3.469,
         "_deepnote_index_column": 12
        },
        {
         "dt": "1751-02-01",
         "LandAverageTemperature": 0.963,
         "LandAverageTemperatureUncertainty": 3.827,
         "_deepnote_index_column": 13
        },
        {
         "dt": "1751-03-01",
         "LandAverageTemperature": 5.8,
         "LandAverageTemperatureUncertainty": 3.051,
         "_deepnote_index_column": 14
        },
        {
         "dt": "1751-04-01",
         "LandAverageTemperature": 7.67,
         "LandAverageTemperatureUncertainty": 2.3680000000000003,
         "_deepnote_index_column": 15
        },
        {
         "dt": "1751-05-01",
         "LandAverageTemperature": "nan",
         "LandAverageTemperatureUncertainty": "nan",
         "_deepnote_index_column": 16
        },
        {
         "dt": "1751-06-01",
         "LandAverageTemperature": 13.827,
         "LandAverageTemperatureUncertainty": 1.801,
         "_deepnote_index_column": 17
        },
        {
         "dt": "1751-07-01",
         "LandAverageTemperature": "nan",
         "LandAverageTemperatureUncertainty": "nan",
         "_deepnote_index_column": 18
        },
        {
         "dt": "1751-08-01",
         "LandAverageTemperature": 14.405,
         "LandAverageTemperatureUncertainty": 2.296,
         "_deepnote_index_column": 19
        },
        {
         "dt": "1751-09-01",
         "LandAverageTemperature": 10.673,
         "LandAverageTemperatureUncertainty": 2.656,
         "_deepnote_index_column": 20
        },
        {
         "dt": "1751-10-01",
         "LandAverageTemperature": "nan",
         "LandAverageTemperatureUncertainty": "nan",
         "_deepnote_index_column": 21
        },
        {
         "dt": "1751-11-01",
         "LandAverageTemperature": "nan",
         "LandAverageTemperatureUncertainty": "nan",
         "_deepnote_index_column": 22
        },
        {
         "dt": "1751-12-01",
         "LandAverageTemperature": "nan",
         "LandAverageTemperatureUncertainty": "nan",
         "_deepnote_index_column": 23
        },
        {
         "dt": "1752-01-01",
         "LandAverageTemperature": 0.3480000000000003,
         "LandAverageTemperatureUncertainty": 3.789,
         "_deepnote_index_column": 24
        },
        {
         "dt": "1752-02-01",
         "LandAverageTemperature": "nan",
         "LandAverageTemperatureUncertainty": "nan",
         "_deepnote_index_column": 25
        },
        {
         "dt": "1752-03-01",
         "LandAverageTemperature": 5.806,
         "LandAverageTemperatureUncertainty": 3.192,
         "_deepnote_index_column": 26
        },
        {
         "dt": "1752-04-01",
         "LandAverageTemperature": 8.264999999999999,
         "LandAverageTemperatureUncertainty": 2.398,
         "_deepnote_index_column": 27
        },
        {
         "dt": "1752-05-01",
         "LandAverageTemperature": "nan",
         "LandAverageTemperatureUncertainty": "nan",
         "_deepnote_index_column": 28
        },
        {
         "dt": "1752-06-01",
         "LandAverageTemperature": "nan",
         "LandAverageTemperatureUncertainty": "nan",
         "_deepnote_index_column": 29
        },
        {
         "dt": "1752-07-01",
         "LandAverageTemperature": "nan",
         "LandAverageTemperatureUncertainty": "nan",
         "_deepnote_index_column": 30
        },
        {
         "dt": "1752-08-01",
         "LandAverageTemperature": "nan",
         "LandAverageTemperatureUncertainty": "nan",
         "_deepnote_index_column": 31
        },
        {
         "dt": "1752-09-01",
         "LandAverageTemperature": "nan",
         "LandAverageTemperatureUncertainty": "nan",
         "_deepnote_index_column": 32
        },
        {
         "dt": "1752-10-01",
         "LandAverageTemperature": 7.838999999999999,
         "LandAverageTemperatureUncertainty": 2.754,
         "_deepnote_index_column": 33
        },
        {
         "dt": "1752-11-01",
         "LandAverageTemperature": 7.335,
         "LandAverageTemperatureUncertainty": 2.747,
         "_deepnote_index_column": 34
        },
        {
         "dt": "1752-12-01",
         "LandAverageTemperature": 5.086,
         "LandAverageTemperatureUncertainty": 2.982,
         "_deepnote_index_column": 35
        },
        {
         "dt": "1753-01-01",
         "LandAverageTemperature": 2.039,
         "LandAverageTemperatureUncertainty": 3.478,
         "_deepnote_index_column": 36
        },
        {
         "dt": "1753-02-01",
         "LandAverageTemperature": 0.7149999999999999,
         "LandAverageTemperatureUncertainty": 6.341,
         "_deepnote_index_column": 37
        },
        {
         "dt": "1753-03-01",
         "LandAverageTemperature": 5.424,
         "LandAverageTemperatureUncertainty": 2.929,
         "_deepnote_index_column": 38
        },
        {
         "dt": "1753-04-01",
         "LandAverageTemperature": 8.272,
         "LandAverageTemperatureUncertainty": 3.177,
         "_deepnote_index_column": 39
        },
        {
         "dt": "1753-05-01",
         "LandAverageTemperature": 12.186,
         "LandAverageTemperatureUncertainty": 3.111,
         "_deepnote_index_column": 40
        },
        {
         "dt": "1753-06-01",
         "LandAverageTemperature": 14.585,
         "LandAverageTemperatureUncertainty": 2.59,
         "_deepnote_index_column": 41
        },
        {
         "dt": "1753-07-01",
         "LandAverageTemperature": 15.092,
         "LandAverageTemperatureUncertainty": 1.929,
         "_deepnote_index_column": 42
        },
        {
         "dt": "1753-08-01",
         "LandAverageTemperature": 14.148,
         "LandAverageTemperatureUncertainty": 2.4530000000000003,
         "_deepnote_index_column": 43
        },
        {
         "dt": "1753-09-01",
         "LandAverageTemperature": 13.322,
         "LandAverageTemperatureUncertainty": 2.5380000000000003,
         "_deepnote_index_column": 44
        },
        {
         "dt": "1753-10-01",
         "LandAverageTemperature": 8.962,
         "LandAverageTemperatureUncertainty": 2.585,
         "_deepnote_index_column": 45
        },
        {
         "dt": "1753-11-01",
         "LandAverageTemperature": 5.353,
         "LandAverageTemperatureUncertainty": 2.807,
         "_deepnote_index_column": 46
        },
        {
         "dt": "1753-12-01",
         "LandAverageTemperature": 0.5589999999999997,
         "LandAverageTemperatureUncertainty": 4.174,
         "_deepnote_index_column": 47
        },
        {
         "dt": "1754-01-01",
         "LandAverageTemperature": 1.574,
         "LandAverageTemperatureUncertainty": 5.02,
         "_deepnote_index_column": 48
        },
        {
         "dt": "1754-02-01",
         "LandAverageTemperature": -1.2489999999999997,
         "LandAverageTemperatureUncertainty": 7.492000000000001,
         "_deepnote_index_column": 49
        },
        {
         "dt": "1754-03-01",
         "LandAverageTemperature": 3.677,
         "LandAverageTemperatureUncertainty": 3.3360000000000003,
         "_deepnote_index_column": 50
        },
        {
         "dt": "1754-04-01",
         "LandAverageTemperature": 11.61,
         "LandAverageTemperatureUncertainty": 3.293,
         "_deepnote_index_column": 51
        },
        {
         "dt": "1754-05-01",
         "LandAverageTemperature": 11.936,
         "LandAverageTemperatureUncertainty": 3.937,
         "_deepnote_index_column": 52
        },
        {
         "dt": "1754-06-01",
         "LandAverageTemperature": 14.388,
         "LandAverageTemperatureUncertainty": 3.366,
         "_deepnote_index_column": 53
        },
        {
         "dt": "1754-07-01",
         "LandAverageTemperature": 14.681,
         "LandAverageTemperatureUncertainty": 2.401,
         "_deepnote_index_column": 54
        },
        {
         "dt": "1754-08-01",
         "LandAverageTemperature": 13.556,
         "LandAverageTemperatureUncertainty": 1.892,
         "_deepnote_index_column": 55
        },
        {
         "dt": "1754-09-01",
         "LandAverageTemperature": 11.129,
         "LandAverageTemperatureUncertainty": 2.318,
         "_deepnote_index_column": 56
        },
        {
         "dt": "1754-10-01",
         "LandAverageTemperature": 9.582,
         "LandAverageTemperatureUncertainty": 2.529,
         "_deepnote_index_column": 57
        },
        {
         "dt": "1754-11-01",
         "LandAverageTemperature": 6.1610000000000005,
         "LandAverageTemperatureUncertainty": 3.048,
         "_deepnote_index_column": 58
        },
        {
         "dt": "1754-12-01",
         "LandAverageTemperature": 4.587,
         "LandAverageTemperatureUncertainty": 3.299,
         "_deepnote_index_column": 59
        },
        {
         "dt": "1755-01-01",
         "LandAverageTemperature": 1.067,
         "LandAverageTemperatureUncertainty": 4.6930000000000005,
         "_deepnote_index_column": 60
        },
        {
         "dt": "1755-02-01",
         "LandAverageTemperature": -0.1080000000000001,
         "LandAverageTemperatureUncertainty": 5.857,
         "_deepnote_index_column": 61
        },
        {
         "dt": "1755-03-01",
         "LandAverageTemperature": 3.607,
         "LandAverageTemperatureUncertainty": 3.909,
         "_deepnote_index_column": 62
        },
        {
         "dt": "1755-04-01",
         "LandAverageTemperature": 9.263,
         "LandAverageTemperatureUncertainty": 3.372,
         "_deepnote_index_column": 63
        },
        {
         "dt": "1755-05-01",
         "LandAverageTemperature": 12.880999999999998,
         "LandAverageTemperatureUncertainty": 4.151,
         "_deepnote_index_column": 64
        },
        {
         "dt": "1755-06-01",
         "LandAverageTemperature": 15.38,
         "LandAverageTemperatureUncertainty": 5.322,
         "_deepnote_index_column": 65
        },
        {
         "dt": "1755-07-01",
         "LandAverageTemperature": 14.397,
         "LandAverageTemperatureUncertainty": 1.936,
         "_deepnote_index_column": 66
        },
        {
         "dt": "1755-08-01",
         "LandAverageTemperature": 13.515,
         "LandAverageTemperatureUncertainty": 2.381,
         "_deepnote_index_column": 67
        },
        {
         "dt": "1755-09-01",
         "LandAverageTemperature": 11.773,
         "LandAverageTemperatureUncertainty": 3.4160000000000004,
         "_deepnote_index_column": 68
        },
        {
         "dt": "1755-10-01",
         "LandAverageTemperature": 9.97,
         "LandAverageTemperatureUncertainty": 3.931,
         "_deepnote_index_column": 69
        },
        {
         "dt": "1755-11-01",
         "LandAverageTemperature": 5.957999999999999,
         "LandAverageTemperatureUncertainty": 4.021,
         "_deepnote_index_column": 70
        },
        {
         "dt": "1755-12-01",
         "LandAverageTemperature": 2.564,
         "LandAverageTemperatureUncertainty": 3.215,
         "_deepnote_index_column": 71
        },
        {
         "dt": "1756-01-01",
         "LandAverageTemperature": 3.887,
         "LandAverageTemperatureUncertainty": 3.513,
         "_deepnote_index_column": 72
        },
        {
         "dt": "1756-02-01",
         "LandAverageTemperature": 5.666,
         "LandAverageTemperatureUncertainty": 4.265,
         "_deepnote_index_column": 73
        },
        {
         "dt": "1756-03-01",
         "LandAverageTemperature": 4.192,
         "LandAverageTemperatureUncertainty": 5.574,
         "_deepnote_index_column": 74
        },
        {
         "dt": "1756-04-01",
         "LandAverageTemperature": 10.042,
         "LandAverageTemperatureUncertainty": 3.752,
         "_deepnote_index_column": 75
        },
        {
         "dt": "1756-05-01",
         "LandAverageTemperature": 14.163999999999998,
         "LandAverageTemperatureUncertainty": 2.608,
         "_deepnote_index_column": 76
        },
        {
         "dt": "1756-06-01",
         "LandAverageTemperature": 14.547,
         "LandAverageTemperatureUncertainty": 3.213,
         "_deepnote_index_column": 77
        },
        {
         "dt": "1756-07-01",
         "LandAverageTemperature": 13.906,
         "LandAverageTemperatureUncertainty": 2.192,
         "_deepnote_index_column": 78
        },
        {
         "dt": "1756-08-01",
         "LandAverageTemperature": 13.437,
         "LandAverageTemperatureUncertainty": 2.175,
         "_deepnote_index_column": 79
        },
        {
         "dt": "1756-09-01",
         "LandAverageTemperature": 12.652,
         "LandAverageTemperatureUncertainty": 2.954,
         "_deepnote_index_column": 80
        },
        {
         "dt": "1756-10-01",
         "LandAverageTemperature": 7.3119999999999985,
         "LandAverageTemperatureUncertainty": 2.201,
         "_deepnote_index_column": 81
        },
        {
         "dt": "1756-11-01",
         "LandAverageTemperature": 4.225,
         "LandAverageTemperatureUncertainty": 2.86,
         "_deepnote_index_column": 82
        },
        {
         "dt": "1756-12-01",
         "LandAverageTemperature": 2.165,
         "LandAverageTemperatureUncertainty": 3.841,
         "_deepnote_index_column": 83
        },
        {
         "dt": "1757-01-01",
         "LandAverageTemperature": -0.2760000000000002,
         "LandAverageTemperatureUncertainty": 4.022,
         "_deepnote_index_column": 84
        },
        {
         "dt": "1757-02-01",
         "LandAverageTemperature": 3.704,
         "LandAverageTemperatureUncertainty": 4.261,
         "_deepnote_index_column": 85
        },
        {
         "dt": "1757-03-01",
         "LandAverageTemperature": 4.529,
         "LandAverageTemperatureUncertainty": 3.638,
         "_deepnote_index_column": 86
        },
        {
         "dt": "1757-04-01",
         "LandAverageTemperature": 8.245999999999999,
         "LandAverageTemperatureUncertainty": 4.303999999999999,
         "_deepnote_index_column": 87
        },
        {
         "dt": "1757-05-01",
         "LandAverageTemperature": 13.039,
         "LandAverageTemperatureUncertainty": 4.98,
         "_deepnote_index_column": 88
        },
        {
         "dt": "1757-06-01",
         "LandAverageTemperature": 17.115,
         "LandAverageTemperatureUncertainty": 4.59,
         "_deepnote_index_column": 89
        },
        {
         "dt": "1757-07-01",
         "LandAverageTemperature": 17.61,
         "LandAverageTemperatureUncertainty": 4.322,
         "_deepnote_index_column": 90
        },
        {
         "dt": "1757-08-01",
         "LandAverageTemperature": 17.91,
         "LandAverageTemperatureUncertainty": 4.035,
         "_deepnote_index_column": 91
        },
        {
         "dt": "1757-09-01",
         "LandAverageTemperature": 14.852,
         "LandAverageTemperatureUncertainty": 3.189,
         "_deepnote_index_column": 92
        },
        {
         "dt": "1757-10-01",
         "LandAverageTemperature": 6.481999999999998,
         "LandAverageTemperatureUncertainty": 3.173,
         "_deepnote_index_column": 93
        },
        {
         "dt": "1757-11-01",
         "LandAverageTemperature": 4.032,
         "LandAverageTemperatureUncertainty": 2.643,
         "_deepnote_index_column": 94
        },
        {
         "dt": "1757-12-01",
         "LandAverageTemperature": 1.0210000000000004,
         "LandAverageTemperatureUncertainty": 5.155,
         "_deepnote_index_column": 95
        },
        {
         "dt": "1758-01-01",
         "LandAverageTemperature": -1.5029999999999997,
         "LandAverageTemperatureUncertainty": 7.349,
         "_deepnote_index_column": 96
        },
        {
         "dt": "1758-02-01",
         "LandAverageTemperature": 0.8059999999999999,
         "LandAverageTemperatureUncertainty": 3.753,
         "_deepnote_index_column": 97
        },
        {
         "dt": "1758-03-01",
         "LandAverageTemperature": 3.765,
         "LandAverageTemperatureUncertainty": 3.3680000000000003,
         "_deepnote_index_column": 98
        },
        {
         "dt": "1758-04-01",
         "LandAverageTemperature": 7.209999999999999,
         "LandAverageTemperatureUncertainty": 2.986,
         "_deepnote_index_column": 99
        },
        {
         "dt": "1758-05-01",
         "LandAverageTemperature": 9.715,
         "LandAverageTemperatureUncertainty": 3.091,
         "_deepnote_index_column": 100
        },
        {
         "dt": "1758-06-01",
         "LandAverageTemperature": 13.139,
         "LandAverageTemperatureUncertainty": 2.055,
         "_deepnote_index_column": 101
        },
        {
         "dt": "1758-07-01",
         "LandAverageTemperature": 13.847,
         "LandAverageTemperatureUncertainty": 3.608,
         "_deepnote_index_column": 102
        },
        {
         "dt": "1758-08-01",
         "LandAverageTemperature": 11.818,
         "LandAverageTemperatureUncertainty": 2.979,
         "_deepnote_index_column": 103
        },
        {
         "dt": "1758-09-01",
         "LandAverageTemperature": 10.028,
         "LandAverageTemperatureUncertainty": 2.347,
         "_deepnote_index_column": 104
        },
        {
         "dt": "1758-10-01",
         "LandAverageTemperature": 1.8939999999999992,
         "LandAverageTemperatureUncertainty": 2.332,
         "_deepnote_index_column": 105
        },
        {
         "dt": "1758-11-01",
         "LandAverageTemperature": 6.955,
         "LandAverageTemperatureUncertainty": 3.2430000000000003,
         "_deepnote_index_column": 106
        },
        {
         "dt": "1758-12-01",
         "LandAverageTemperature": 3.249,
         "LandAverageTemperatureUncertainty": 3.244,
         "_deepnote_index_column": 107
        },
        {
         "dt": "1759-01-01",
         "LandAverageTemperature": 5.013999999999999,
         "LandAverageTemperatureUncertainty": 3.673,
         "_deepnote_index_column": 108
        },
        {
         "dt": "1759-02-01",
         "LandAverageTemperature": 4.082,
         "LandAverageTemperatureUncertainty": 5.966,
         "_deepnote_index_column": 109
        },
        {
         "dt": "1759-03-01",
         "LandAverageTemperature": 4.52,
         "LandAverageTemperatureUncertainty": 3.958,
         "_deepnote_index_column": 110
        },
        {
         "dt": "1759-04-01",
         "LandAverageTemperature": 5.983,
         "LandAverageTemperatureUncertainty": 3.159,
         "_deepnote_index_column": 111
        },
        {
         "dt": "1759-05-01",
         "LandAverageTemperature": 10.189,
         "LandAverageTemperatureUncertainty": 2.503,
         "_deepnote_index_column": 112
        },
        {
         "dt": "1759-06-01",
         "LandAverageTemperature": 13.512,
         "LandAverageTemperatureUncertainty": 2.232,
         "_deepnote_index_column": 113
        },
        {
         "dt": "1759-07-01",
         "LandAverageTemperature": 12.526,
         "LandAverageTemperatureUncertainty": 2.65,
         "_deepnote_index_column": 114
        },
        {
         "dt": "1759-08-01",
         "LandAverageTemperature": 14.587,
         "LandAverageTemperatureUncertainty": 5.626,
         "_deepnote_index_column": 115
        },
        {
         "dt": "1759-09-01",
         "LandAverageTemperature": 12.626,
         "LandAverageTemperatureUncertainty": 3.235,
         "_deepnote_index_column": 116
        },
        {
         "dt": "1759-10-01",
         "LandAverageTemperature": 8.267000000000001,
         "LandAverageTemperatureUncertainty": 2.983,
         "_deepnote_index_column": 117
        },
        {
         "dt": "1759-11-01",
         "LandAverageTemperature": 4.268000000000002,
         "LandAverageTemperatureUncertainty": 3.167,
         "_deepnote_index_column": 118
        },
        {
         "dt": "1759-12-01",
         "LandAverageTemperature": 0.2469999999999999,
         "LandAverageTemperatureUncertainty": 4.995,
         "_deepnote_index_column": 119
        },
        {
         "dt": "1760-01-01",
         "LandAverageTemperature": -0.8109999999999999,
         "LandAverageTemperatureUncertainty": 4.567,
         "_deepnote_index_column": 120
        },
        {
         "dt": "1760-02-01",
         "LandAverageTemperature": 2.436,
         "LandAverageTemperatureUncertainty": 3.535,
         "_deepnote_index_column": 121
        },
        {
         "dt": "1760-03-01",
         "LandAverageTemperature": 1.864,
         "LandAverageTemperatureUncertainty": 4.666,
         "_deepnote_index_column": 122
        },
        {
         "dt": "1760-04-01",
         "LandAverageTemperature": 7.435999999999999,
         "LandAverageTemperatureUncertainty": 2.669,
         "_deepnote_index_column": 123
        },
        {
         "dt": "1760-05-01",
         "LandAverageTemperature": 10.661,
         "LandAverageTemperatureUncertainty": 1.857,
         "_deepnote_index_column": 124
        },
        {
         "dt": "1760-06-01",
         "LandAverageTemperature": 11.945,
         "LandAverageTemperatureUncertainty": 2.14,
         "_deepnote_index_column": 125
        },
        {
         "dt": "1760-07-01",
         "LandAverageTemperature": 12.887,
         "LandAverageTemperatureUncertainty": 2.567,
         "_deepnote_index_column": 126
        },
        {
         "dt": "1760-08-01",
         "LandAverageTemperature": 13.917,
         "LandAverageTemperatureUncertainty": 2.789,
         "_deepnote_index_column": 127
        },
        {
         "dt": "1760-09-01",
         "LandAverageTemperature": 11.197,
         "LandAverageTemperatureUncertainty": 3.865,
         "_deepnote_index_column": 128
        },
        {
         "dt": "1760-10-01",
         "LandAverageTemperature": 6.7010000000000005,
         "LandAverageTemperatureUncertainty": 3.422,
         "_deepnote_index_column": 129
        },
        {
         "dt": "1760-11-01",
         "LandAverageTemperature": 5.436,
         "LandAverageTemperatureUncertainty": 2.3480000000000003,
         "_deepnote_index_column": 130
        },
        {
         "dt": "1760-12-01",
         "LandAverageTemperature": 2.553,
         "LandAverageTemperatureUncertainty": 2.642,
         "_deepnote_index_column": 131
        },
        {
         "dt": "1761-01-01",
         "LandAverageTemperature": 0.6000000000000001,
         "LandAverageTemperatureUncertainty": 4.779,
         "_deepnote_index_column": 132
        },
        {
         "dt": "1761-02-01",
         "LandAverageTemperature": 2.735,
         "LandAverageTemperatureUncertainty": 3.775,
         "_deepnote_index_column": 133
        },
        {
         "dt": "1761-03-01",
         "LandAverageTemperature": 5.976,
         "LandAverageTemperatureUncertainty": 3.225,
         "_deepnote_index_column": 134
        },
        {
         "dt": "1761-04-01",
         "LandAverageTemperature": 7.321000000000001,
         "LandAverageTemperatureUncertainty": 1.652,
         "_deepnote_index_column": 135
        },
        {
         "dt": "1761-05-01",
         "LandAverageTemperature": 13.451,
         "LandAverageTemperatureUncertainty": 1.709,
         "_deepnote_index_column": 136
        },
        {
         "dt": "1761-06-01",
         "LandAverageTemperature": 16.820999999999998,
         "LandAverageTemperatureUncertainty": 3.1660000000000004,
         "_deepnote_index_column": 137
        },
        {
         "dt": "1761-07-01",
         "LandAverageTemperature": 19.021,
         "LandAverageTemperatureUncertainty": 2.696,
         "_deepnote_index_column": 138
        },
        {
         "dt": "1761-08-01",
         "LandAverageTemperature": 15.331,
         "LandAverageTemperatureUncertainty": 2.013,
         "_deepnote_index_column": 139
        },
        {
         "dt": "1761-09-01",
         "LandAverageTemperature": 12.534999999999998,
         "LandAverageTemperatureUncertainty": 4.075,
         "_deepnote_index_column": 140
        },
        {
         "dt": "1761-10-01",
         "LandAverageTemperature": 7.2269999999999985,
         "LandAverageTemperatureUncertainty": 3.932,
         "_deepnote_index_column": 141
        },
        {
         "dt": "1761-11-01",
         "LandAverageTemperature": 5.089,
         "LandAverageTemperatureUncertainty": 2.248,
         "_deepnote_index_column": 142
        },
        {
         "dt": "1761-12-01",
         "LandAverageTemperature": -0.8370000000000002,
         "LandAverageTemperatureUncertainty": 4.468,
         "_deepnote_index_column": 143
        },
        {
         "dt": "1762-01-01",
         "LandAverageTemperature": 6.8660000000000005,
         "LandAverageTemperatureUncertainty": 3.776,
         "_deepnote_index_column": 144
        },
        {
         "dt": "1762-02-01",
         "LandAverageTemperature": 4.801,
         "LandAverageTemperatureUncertainty": 7.88,
         "_deepnote_index_column": 145
        },
        {
         "dt": "1762-03-01",
         "LandAverageTemperature": 3.5280000000000005,
         "LandAverageTemperatureUncertainty": 4.138999999999999,
         "_deepnote_index_column": 146
        },
        {
         "dt": "1762-04-01",
         "LandAverageTemperature": 9.019,
         "LandAverageTemperatureUncertainty": 2.199,
         "_deepnote_index_column": 147
        },
        {
         "dt": "1762-05-01",
         "LandAverageTemperature": 10.880999999999998,
         "LandAverageTemperatureUncertainty": 3.044,
         "_deepnote_index_column": 148
        },
        {
         "dt": "1762-06-01",
         "LandAverageTemperature": 13.499,
         "LandAverageTemperatureUncertainty": 3.3110000000000004,
         "_deepnote_index_column": 149
        },
        {
         "dt": "1762-07-01",
         "LandAverageTemperature": 14.72,
         "LandAverageTemperatureUncertainty": 1.966,
         "_deepnote_index_column": 150
        },
        {
         "dt": "1762-08-01",
         "LandAverageTemperature": 13.992,
         "LandAverageTemperatureUncertainty": 3.329,
         "_deepnote_index_column": 151
        },
        {
         "dt": "1762-09-01",
         "LandAverageTemperature": 10.326,
         "LandAverageTemperatureUncertainty": 3.2260000000000004,
         "_deepnote_index_column": 152
        },
        {
         "dt": "1762-10-01",
         "LandAverageTemperature": 6.156000000000001,
         "LandAverageTemperatureUncertainty": 2.879,
         "_deepnote_index_column": 153
        },
        {
         "dt": "1762-11-01",
         "LandAverageTemperature": 6.367000000000001,
         "LandAverageTemperatureUncertainty": 3.354,
         "_deepnote_index_column": 154
        },
        {
         "dt": "1762-12-01",
         "LandAverageTemperature": 3.123,
         "LandAverageTemperatureUncertainty": 3.188,
         "_deepnote_index_column": 155
        },
        {
         "dt": "1763-01-01",
         "LandAverageTemperature": 1.3690000000000002,
         "LandAverageTemperatureUncertainty": 6.415,
         "_deepnote_index_column": 156
        },
        {
         "dt": "1763-02-01",
         "LandAverageTemperature": 0.7709999999999999,
         "LandAverageTemperatureUncertainty": 4.102,
         "_deepnote_index_column": 157
        },
        {
         "dt": "1763-03-01",
         "LandAverageTemperature": 1.5760000000000003,
         "LandAverageTemperatureUncertainty": 4.635,
         "_deepnote_index_column": 158
        },
        {
         "dt": "1763-04-01",
         "LandAverageTemperature": 7.870999999999999,
         "LandAverageTemperatureUncertainty": 2.275,
         "_deepnote_index_column": 159
        },
        {
         "dt": "1763-05-01",
         "LandAverageTemperature": 10.701,
         "LandAverageTemperatureUncertainty": 2.736,
         "_deepnote_index_column": 160
        },
        {
         "dt": "1763-06-01",
         "LandAverageTemperature": 12.271,
         "LandAverageTemperatureUncertainty": 2.224,
         "_deepnote_index_column": 161
        },
        {
         "dt": "1763-07-01",
         "LandAverageTemperature": 16.391,
         "LandAverageTemperatureUncertainty": 1.754,
         "_deepnote_index_column": 162
        },
        {
         "dt": "1763-08-01",
         "LandAverageTemperature": 14.126,
         "LandAverageTemperatureUncertainty": 2.157,
         "_deepnote_index_column": 163
        },
        {
         "dt": "1763-09-01",
         "LandAverageTemperature": 11.378,
         "LandAverageTemperatureUncertainty": 2.827,
         "_deepnote_index_column": 164
        },
        {
         "dt": "1763-10-01",
         "LandAverageTemperature": 5.535,
         "LandAverageTemperatureUncertainty": 2.9610000000000003,
         "_deepnote_index_column": 165
        }
       ],
       "rows_bottom": [
        {
         "dt": "2002-02-01",
         "LandAverageTemperature": 4.704,
         "LandAverageTemperatureUncertainty": 0.078,
         "_deepnote_index_column": 3025
        },
        {
         "dt": "2002-03-01",
         "LandAverageTemperature": 6.772,
         "LandAverageTemperatureUncertainty": 0.034,
         "_deepnote_index_column": 3026
        },
        {
         "dt": "2002-04-01",
         "LandAverageTemperature": 9.229,
         "LandAverageTemperatureUncertainty": 0.049,
         "_deepnote_index_column": 3027
        },
        {
         "dt": "2002-05-01",
         "LandAverageTemperature": 12.248,
         "LandAverageTemperatureUncertainty": 0.081,
         "_deepnote_index_column": 3028
        },
        {
         "dt": "2002-06-01",
         "LandAverageTemperature": 14.084,
         "LandAverageTemperatureUncertainty": 0.052,
         "_deepnote_index_column": 3029
        },
        {
         "dt": "2002-07-01",
         "LandAverageTemperature": 15.354,
         "LandAverageTemperatureUncertainty": 0.077,
         "_deepnote_index_column": 3030
        },
        {
         "dt": "2002-08-01",
         "LandAverageTemperature": 14.56,
         "LandAverageTemperatureUncertainty": 0.067,
         "_deepnote_index_column": 3031
        },
        {
         "dt": "2002-09-01",
         "LandAverageTemperature": 12.95,
         "LandAverageTemperatureUncertainty": 0.103,
         "_deepnote_index_column": 3032
        },
        {
         "dt": "2002-10-01",
         "LandAverageTemperature": 9.988,
         "LandAverageTemperatureUncertainty": 0.079,
         "_deepnote_index_column": 3033
        },
        {
         "dt": "2002-11-01",
         "LandAverageTemperature": 6.892,
         "LandAverageTemperatureUncertainty": 0.12,
         "_deepnote_index_column": 3034
        },
        {
         "dt": "2002-12-01",
         "LandAverageTemperature": 4.038,
         "LandAverageTemperatureUncertainty": 0.064,
         "_deepnote_index_column": 3035
        },
        {
         "dt": "2003-01-01",
         "LandAverageTemperature": 3.981,
         "LandAverageTemperatureUncertainty": 0.07,
         "_deepnote_index_column": 3036
        },
        {
         "dt": "2003-02-01",
         "LandAverageTemperature": 4.085,
         "LandAverageTemperatureUncertainty": 0.097,
         "_deepnote_index_column": 3037
        },
        {
         "dt": "2003-03-01",
         "LandAverageTemperature": 6.047999999999999,
         "LandAverageTemperatureUncertainty": 0.055,
         "_deepnote_index_column": 3038
        },
        {
         "dt": "2003-04-01",
         "LandAverageTemperature": 9.154,
         "LandAverageTemperatureUncertainty": 0.074,
         "_deepnote_index_column": 3039
        },
        {
         "dt": "2003-05-01",
         "LandAverageTemperature": 12.153,
         "LandAverageTemperatureUncertainty": 0.095,
         "_deepnote_index_column": 3040
        },
        {
         "dt": "2003-06-01",
         "LandAverageTemperature": 14.017,
         "LandAverageTemperatureUncertainty": 0.135,
         "_deepnote_index_column": 3041
        },
        {
         "dt": "2003-07-01",
         "LandAverageTemperature": 14.983,
         "LandAverageTemperatureUncertainty": 0.184,
         "_deepnote_index_column": 3042
        },
        {
         "dt": "2003-08-01",
         "LandAverageTemperature": 14.691,
         "LandAverageTemperatureUncertainty": 0.089,
         "_deepnote_index_column": 3043
        },
        {
         "dt": "2003-09-01",
         "LandAverageTemperature": 12.911,
         "LandAverageTemperatureUncertainty": 0.067,
         "_deepnote_index_column": 3044
        },
        {
         "dt": "2003-10-01",
         "LandAverageTemperature": 10.424,
         "LandAverageTemperatureUncertainty": 0.085,
         "_deepnote_index_column": 3045
        },
        {
         "dt": "2003-11-01",
         "LandAverageTemperature": 6.727,
         "LandAverageTemperatureUncertainty": 0.075,
         "_deepnote_index_column": 3046
        },
        {
         "dt": "2003-12-01",
         "LandAverageTemperature": 5.132999999999999,
         "LandAverageTemperatureUncertainty": 0.062,
         "_deepnote_index_column": 3047
        },
        {
         "dt": "2004-01-01",
         "LandAverageTemperature": 3.5250000000000004,
         "LandAverageTemperatureUncertainty": 0.062,
         "_deepnote_index_column": 3048
        },
        {
         "dt": "2004-02-01",
         "LandAverageTemperature": 4.4990000000000006,
         "LandAverageTemperatureUncertainty": 0.104,
         "_deepnote_index_column": 3049
        },
        {
         "dt": "2004-03-01",
         "LandAverageTemperature": 6.321000000000001,
         "LandAverageTemperatureUncertainty": 0.069,
         "_deepnote_index_column": 3050
        },
        {
         "dt": "2004-04-01",
         "LandAverageTemperature": 9.249,
         "LandAverageTemperatureUncertainty": 0.057,
         "_deepnote_index_column": 3051
        },
        {
         "dt": "2004-05-01",
         "LandAverageTemperature": 11.571,
         "LandAverageTemperatureUncertainty": 0.07,
         "_deepnote_index_column": 3052
        },
        {
         "dt": "2004-06-01",
         "LandAverageTemperature": 13.889,
         "LandAverageTemperatureUncertainty": 0.097,
         "_deepnote_index_column": 3053
        },
        {
         "dt": "2004-07-01",
         "LandAverageTemperature": 14.312,
         "LandAverageTemperatureUncertainty": 0.115,
         "_deepnote_index_column": 3054
        },
        {
         "dt": "2004-08-01",
         "LandAverageTemperature": 14.188,
         "LandAverageTemperatureUncertainty": 0.104,
         "_deepnote_index_column": 3055
        },
        {
         "dt": "2004-09-01",
         "LandAverageTemperature": 12.642,
         "LandAverageTemperatureUncertainty": 0.084,
         "_deepnote_index_column": 3056
        },
        {
         "dt": "2004-10-01",
         "LandAverageTemperature": 10.127,
         "LandAverageTemperatureUncertainty": 0.091,
         "_deepnote_index_column": 3057
        },
        {
         "dt": "2004-11-01",
         "LandAverageTemperature": 7.315,
         "LandAverageTemperatureUncertainty": 0.092,
         "_deepnote_index_column": 3058
        },
        {
         "dt": "2004-12-01",
         "LandAverageTemperature": 4.257,
         "LandAverageTemperatureUncertainty": 0.056,
         "_deepnote_index_column": 3059
        },
        {
         "dt": "2005-01-01",
         "LandAverageTemperature": 3.808,
         "LandAverageTemperatureUncertainty": 0.064,
         "_deepnote_index_column": 3060
        },
        {
         "dt": "2005-02-01",
         "LandAverageTemperature": 3.92,
         "LandAverageTemperatureUncertainty": 0.115,
         "_deepnote_index_column": 3061
        },
        {
         "dt": "2005-03-01",
         "LandAverageTemperature": 6.5440000000000005,
         "LandAverageTemperatureUncertainty": 0.06,
         "_deepnote_index_column": 3062
        },
        {
         "dt": "2005-04-01",
         "LandAverageTemperature": 9.618,
         "LandAverageTemperatureUncertainty": 0.052,
         "_deepnote_index_column": 3063
        },
        {
         "dt": "2005-05-01",
         "LandAverageTemperature": 12.226,
         "LandAverageTemperatureUncertainty": 0.09,
         "_deepnote_index_column": 3064
        },
        {
         "dt": "2005-06-01",
         "LandAverageTemperature": 14.476,
         "LandAverageTemperatureUncertainty": 0.083,
         "_deepnote_index_column": 3065
        },
        {
         "dt": "2005-07-01",
         "LandAverageTemperature": 15.19,
         "LandAverageTemperatureUncertainty": 0.094,
         "_deepnote_index_column": 3066
        },
        {
         "dt": "2005-08-01",
         "LandAverageTemperature": 14.51,
         "LandAverageTemperatureUncertainty": 0.078,
         "_deepnote_index_column": 3067
        },
        {
         "dt": "2005-09-01",
         "LandAverageTemperature": 13.217,
         "LandAverageTemperatureUncertainty": 0.08,
         "_deepnote_index_column": 3068
        },
        {
         "dt": "2005-10-01",
         "LandAverageTemperature": 10.601,
         "LandAverageTemperatureUncertainty": 0.064,
         "_deepnote_index_column": 3069
        },
        {
         "dt": "2005-11-01",
         "LandAverageTemperature": 7.422999999999999,
         "LandAverageTemperatureUncertainty": 0.068,
         "_deepnote_index_column": 3070
        },
        {
         "dt": "2005-12-01",
         "LandAverageTemperature": 4.878,
         "LandAverageTemperatureUncertainty": 0.054,
         "_deepnote_index_column": 3071
        },
        {
         "dt": "2006-01-01",
         "LandAverageTemperature": 3.286,
         "LandAverageTemperatureUncertainty": 0.064,
         "_deepnote_index_column": 3072
        },
        {
         "dt": "2006-02-01",
         "LandAverageTemperature": 4.43,
         "LandAverageTemperatureUncertainty": 0.118,
         "_deepnote_index_column": 3073
        },
        {
         "dt": "2006-03-01",
         "LandAverageTemperature": 6.3290000000000015,
         "LandAverageTemperatureUncertainty": 0.077,
         "_deepnote_index_column": 3074
        },
        {
         "dt": "2006-04-01",
         "LandAverageTemperature": 9.055,
         "LandAverageTemperatureUncertainty": 0.089,
         "_deepnote_index_column": 3075
        },
        {
         "dt": "2006-05-01",
         "LandAverageTemperature": 11.786,
         "LandAverageTemperatureUncertainty": 0.092,
         "_deepnote_index_column": 3076
        },
        {
         "dt": "2006-06-01",
         "LandAverageTemperature": 14.443,
         "LandAverageTemperatureUncertainty": 0.093,
         "_deepnote_index_column": 3077
        },
        {
         "dt": "2006-07-01",
         "LandAverageTemperature": 15.042,
         "LandAverageTemperatureUncertainty": 0.116,
         "_deepnote_index_column": 3078
        },
        {
         "dt": "2006-08-01",
         "LandAverageTemperature": 14.913,
         "LandAverageTemperatureUncertainty": 0.107,
         "_deepnote_index_column": 3079
        },
        {
         "dt": "2006-09-01",
         "LandAverageTemperature": 12.875,
         "LandAverageTemperatureUncertainty": 0.104,
         "_deepnote_index_column": 3080
        },
        {
         "dt": "2006-10-01",
         "LandAverageTemperature": 10.289,
         "LandAverageTemperatureUncertainty": 0.077,
         "_deepnote_index_column": 3081
        },
        {
         "dt": "2006-11-01",
         "LandAverageTemperature": 6.955,
         "LandAverageTemperatureUncertainty": 0.078,
         "_deepnote_index_column": 3082
        },
        {
         "dt": "2006-12-01",
         "LandAverageTemperature": 4.987,
         "LandAverageTemperatureUncertainty": 0.065,
         "_deepnote_index_column": 3083
        },
        {
         "dt": "2007-01-01",
         "LandAverageTemperature": 4.5790000000000015,
         "LandAverageTemperatureUncertainty": 0.059,
         "_deepnote_index_column": 3084
        },
        {
         "dt": "2007-02-01",
         "LandAverageTemperature": 4.221,
         "LandAverageTemperatureUncertainty": 0.077,
         "_deepnote_index_column": 3085
        },
        {
         "dt": "2007-03-01",
         "LandAverageTemperature": 6.485,
         "LandAverageTemperatureUncertainty": 0.113,
         "_deepnote_index_column": 3086
        },
        {
         "dt": "2007-04-01",
         "LandAverageTemperature": 9.823,
         "LandAverageTemperatureUncertainty": 0.109,
         "_deepnote_index_column": 3087
        },
        {
         "dt": "2007-05-01",
         "LandAverageTemperature": 12.518,
         "LandAverageTemperatureUncertainty": 0.07,
         "_deepnote_index_column": 3088
        },
        {
         "dt": "2007-06-01",
         "LandAverageTemperature": 14.309,
         "LandAverageTemperatureUncertainty": 0.072,
         "_deepnote_index_column": 3089
        },
        {
         "dt": "2007-07-01",
         "LandAverageTemperature": 15.23,
         "LandAverageTemperatureUncertainty": 0.115,
         "_deepnote_index_column": 3090
        },
        {
         "dt": "2007-08-01",
         "LandAverageTemperature": 14.752,
         "LandAverageTemperatureUncertainty": 0.113,
         "_deepnote_index_column": 3091
        },
        {
         "dt": "2007-09-01",
         "LandAverageTemperature": 12.93,
         "LandAverageTemperatureUncertainty": 0.102,
         "_deepnote_index_column": 3092
        },
        {
         "dt": "2007-10-01",
         "LandAverageTemperature": 10.332,
         "LandAverageTemperatureUncertainty": 0.1,
         "_deepnote_index_column": 3093
        },
        {
         "dt": "2007-11-01",
         "LandAverageTemperature": 7.0840000000000005,
         "LandAverageTemperatureUncertainty": 0.085,
         "_deepnote_index_column": 3094
        },
        {
         "dt": "2007-12-01",
         "LandAverageTemperature": 4.523,
         "LandAverageTemperatureUncertainty": 0.059,
         "_deepnote_index_column": 3095
        },
        {
         "dt": "2008-01-01",
         "LandAverageTemperature": 2.8440000000000003,
         "LandAverageTemperatureUncertainty": 0.059,
         "_deepnote_index_column": 3096
        },
        {
         "dt": "2008-02-01",
         "LandAverageTemperature": 3.576,
         "LandAverageTemperatureUncertainty": 0.068,
         "_deepnote_index_column": 3097
        },
        {
         "dt": "2008-03-01",
         "LandAverageTemperature": 6.906000000000001,
         "LandAverageTemperatureUncertainty": 0.099,
         "_deepnote_index_column": 3098
        },
        {
         "dt": "2008-04-01",
         "LandAverageTemperature": 9.295,
         "LandAverageTemperatureUncertainty": 0.083,
         "_deepnote_index_column": 3099
        },
        {
         "dt": "2008-05-01",
         "LandAverageTemperature": 12.053999999999998,
         "LandAverageTemperatureUncertainty": 0.071,
         "_deepnote_index_column": 3100
        },
        {
         "dt": "2008-06-01",
         "LandAverageTemperature": 14.145,
         "LandAverageTemperatureUncertainty": 0.097,
         "_deepnote_index_column": 3101
        },
        {
         "dt": "2008-07-01",
         "LandAverageTemperature": 15.174,
         "LandAverageTemperatureUncertainty": 0.072,
         "_deepnote_index_column": 3102
        },
        {
         "dt": "2008-08-01",
         "LandAverageTemperature": 14.377,
         "LandAverageTemperatureUncertainty": 0.113,
         "_deepnote_index_column": 3103
        },
        {
         "dt": "2008-09-01",
         "LandAverageTemperature": 12.802,
         "LandAverageTemperatureUncertainty": 0.087,
         "_deepnote_index_column": 3104
        },
        {
         "dt": "2008-10-01",
         "LandAverageTemperature": 10.399,
         "LandAverageTemperatureUncertainty": 0.078,
         "_deepnote_index_column": 3105
        },
        {
         "dt": "2008-11-01",
         "LandAverageTemperature": 7.224,
         "LandAverageTemperatureUncertainty": 0.064,
         "_deepnote_index_column": 3106
        },
        {
         "dt": "2008-12-01",
         "LandAverageTemperature": 4.385,
         "LandAverageTemperatureUncertainty": 0.056,
         "_deepnote_index_column": 3107
        },
        {
         "dt": "2009-01-01",
         "LandAverageTemperature": 3.687,
         "LandAverageTemperatureUncertainty": 0.078,
         "_deepnote_index_column": 3108
        },
        {
         "dt": "2009-02-01",
         "LandAverageTemperature": 4.093999999999999,
         "LandAverageTemperatureUncertainty": 0.083,
         "_deepnote_index_column": 3109
        },
        {
         "dt": "2009-03-01",
         "LandAverageTemperature": 6.086,
         "LandAverageTemperatureUncertainty": 0.058,
         "_deepnote_index_column": 3110
        },
        {
         "dt": "2009-04-01",
         "LandAverageTemperature": 9.367,
         "LandAverageTemperatureUncertainty": 0.084,
         "_deepnote_index_column": 3111
        },
        {
         "dt": "2009-05-01",
         "LandAverageTemperature": 12.111999999999998,
         "LandAverageTemperatureUncertainty": 0.104,
         "_deepnote_index_column": 3112
        },
        {
         "dt": "2009-06-01",
         "LandAverageTemperature": 14.201,
         "LandAverageTemperatureUncertainty": 0.074,
         "_deepnote_index_column": 3113
        },
        {
         "dt": "2009-07-01",
         "LandAverageTemperature": 15.231,
         "LandAverageTemperatureUncertainty": 0.148,
         "_deepnote_index_column": 3114
        },
        {
         "dt": "2009-08-01",
         "LandAverageTemperature": 14.655,
         "LandAverageTemperatureUncertainty": 0.109,
         "_deepnote_index_column": 3115
        },
        {
         "dt": "2009-09-01",
         "LandAverageTemperature": 13.153,
         "LandAverageTemperatureUncertainty": 0.05,
         "_deepnote_index_column": 3116
        },
        {
         "dt": "2009-10-01",
         "LandAverageTemperature": 10.136,
         "LandAverageTemperatureUncertainty": 0.075,
         "_deepnote_index_column": 3117
        },
        {
         "dt": "2009-11-01",
         "LandAverageTemperature": 7.031000000000001,
         "LandAverageTemperatureUncertainty": 0.087,
         "_deepnote_index_column": 3118
        },
        {
         "dt": "2009-12-01",
         "LandAverageTemperature": 4.31,
         "LandAverageTemperatureUncertainty": 0.081,
         "_deepnote_index_column": 3119
        },
        {
         "dt": "2010-01-01",
         "LandAverageTemperature": 3.737,
         "LandAverageTemperatureUncertainty": 0.079,
         "_deepnote_index_column": 3120
        },
        {
         "dt": "2010-02-01",
         "LandAverageTemperature": 4.399,
         "LandAverageTemperatureUncertainty": 0.08,
         "_deepnote_index_column": 3121
        },
        {
         "dt": "2010-03-01",
         "LandAverageTemperature": 6.738,
         "LandAverageTemperatureUncertainty": 0.057,
         "_deepnote_index_column": 3122
        },
        {
         "dt": "2010-04-01",
         "LandAverageTemperature": 9.671,
         "LandAverageTemperatureUncertainty": 0.087,
         "_deepnote_index_column": 3123
        },
        {
         "dt": "2010-05-01",
         "LandAverageTemperature": 12.406,
         "LandAverageTemperatureUncertainty": 0.078,
         "_deepnote_index_column": 3124
        },
        {
         "dt": "2010-06-01",
         "LandAverageTemperature": 14.421,
         "LandAverageTemperatureUncertainty": 0.086,
         "_deepnote_index_column": 3125
        },
        {
         "dt": "2010-07-01",
         "LandAverageTemperature": 15.213,
         "LandAverageTemperatureUncertainty": 0.09,
         "_deepnote_index_column": 3126
        },
        {
         "dt": "2010-08-01",
         "LandAverageTemperature": 14.768,
         "LandAverageTemperatureUncertainty": 0.112,
         "_deepnote_index_column": 3127
        },
        {
         "dt": "2010-09-01",
         "LandAverageTemperature": 12.863,
         "LandAverageTemperatureUncertainty": 0.065,
         "_deepnote_index_column": 3128
        },
        {
         "dt": "2010-10-01",
         "LandAverageTemperature": 10.442,
         "LandAverageTemperatureUncertainty": 0.07,
         "_deepnote_index_column": 3129
        },
        {
         "dt": "2010-11-01",
         "LandAverageTemperature": 7.487,
         "LandAverageTemperatureUncertainty": 0.102,
         "_deepnote_index_column": 3130
        },
        {
         "dt": "2010-12-01",
         "LandAverageTemperature": 4.292,
         "LandAverageTemperatureUncertainty": 0.095,
         "_deepnote_index_column": 3131
        },
        {
         "dt": "2011-01-01",
         "LandAverageTemperature": 3.282,
         "LandAverageTemperatureUncertainty": 0.0819999999999999,
         "_deepnote_index_column": 3132
        },
        {
         "dt": "2011-02-01",
         "LandAverageTemperature": 3.743,
         "LandAverageTemperatureUncertainty": 0.067,
         "_deepnote_index_column": 3133
        },
        {
         "dt": "2011-03-01",
         "LandAverageTemperature": 6.101,
         "LandAverageTemperatureUncertainty": 0.064,
         "_deepnote_index_column": 3134
        },
        {
         "dt": "2011-04-01",
         "LandAverageTemperature": 9.483,
         "LandAverageTemperatureUncertainty": 0.046,
         "_deepnote_index_column": 3135
        },
        {
         "dt": "2011-05-01",
         "LandAverageTemperature": 11.986,
         "LandAverageTemperatureUncertainty": 0.056,
         "_deepnote_index_column": 3136
        },
        {
         "dt": "2011-06-01",
         "LandAverageTemperature": 14.37,
         "LandAverageTemperatureUncertainty": 0.0819999999999999,
         "_deepnote_index_column": 3137
        },
        {
         "dt": "2011-07-01",
         "LandAverageTemperature": 15.482,
         "LandAverageTemperatureUncertainty": 0.113,
         "_deepnote_index_column": 3138
        },
        {
         "dt": "2011-08-01",
         "LandAverageTemperature": 15.012,
         "LandAverageTemperatureUncertainty": 0.091,
         "_deepnote_index_column": 3139
        },
        {
         "dt": "2011-09-01",
         "LandAverageTemperature": 12.912,
         "LandAverageTemperatureUncertainty": 0.083,
         "_deepnote_index_column": 3140
        },
        {
         "dt": "2011-10-01",
         "LandAverageTemperature": 10.352,
         "LandAverageTemperatureUncertainty": 0.087,
         "_deepnote_index_column": 3141
        },
        {
         "dt": "2011-11-01",
         "LandAverageTemperature": 6.814,
         "LandAverageTemperatureUncertainty": 0.107,
         "_deepnote_index_column": 3142
        },
        {
         "dt": "2011-12-01",
         "LandAverageTemperature": 4.654999999999999,
         "LandAverageTemperatureUncertainty": 0.106,
         "_deepnote_index_column": 3143
        },
        {
         "dt": "2012-01-01",
         "LandAverageTemperature": 3.157,
         "LandAverageTemperatureUncertainty": 0.085,
         "_deepnote_index_column": 3144
        },
        {
         "dt": "2012-02-01",
         "LandAverageTemperature": 3.628,
         "LandAverageTemperatureUncertainty": 0.102,
         "_deepnote_index_column": 3145
        },
        {
         "dt": "2012-03-01",
         "LandAverageTemperature": 6.023,
         "LandAverageTemperatureUncertainty": 0.054,
         "_deepnote_index_column": 3146
        },
        {
         "dt": "2012-04-01",
         "LandAverageTemperature": 9.675999999999998,
         "LandAverageTemperatureUncertainty": 0.055,
         "_deepnote_index_column": 3147
        },
        {
         "dt": "2012-05-01",
         "LandAverageTemperature": 12.59,
         "LandAverageTemperatureUncertainty": 0.109,
         "_deepnote_index_column": 3148
        },
        {
         "dt": "2012-06-01",
         "LandAverageTemperature": 14.492,
         "LandAverageTemperatureUncertainty": 0.078,
         "_deepnote_index_column": 3149
        },
        {
         "dt": "2012-07-01",
         "LandAverageTemperature": 15.076,
         "LandAverageTemperatureUncertainty": 0.076,
         "_deepnote_index_column": 3150
        },
        {
         "dt": "2012-08-01",
         "LandAverageTemperature": 14.72,
         "LandAverageTemperatureUncertainty": 0.069,
         "_deepnote_index_column": 3151
        },
        {
         "dt": "2012-09-01",
         "LandAverageTemperature": 13.04,
         "LandAverageTemperatureUncertainty": 0.069,
         "_deepnote_index_column": 3152
        },
        {
         "dt": "2012-10-01",
         "LandAverageTemperature": 10.428,
         "LandAverageTemperatureUncertainty": 0.098,
         "_deepnote_index_column": 3153
        },
        {
         "dt": "2012-11-01",
         "LandAverageTemperature": 7.1560000000000015,
         "LandAverageTemperatureUncertainty": 0.116,
         "_deepnote_index_column": 3154
        },
        {
         "dt": "2012-12-01",
         "LandAverageTemperature": 4.102,
         "LandAverageTemperatureUncertainty": 0.09,
         "_deepnote_index_column": 3155
        },
        {
         "dt": "2013-01-01",
         "LandAverageTemperature": 3.685,
         "LandAverageTemperatureUncertainty": 0.097,
         "_deepnote_index_column": 3156
        },
        {
         "dt": "2013-02-01",
         "LandAverageTemperature": 4.222,
         "LandAverageTemperatureUncertainty": 0.093,
         "_deepnote_index_column": 3157
        },
        {
         "dt": "2013-03-01",
         "LandAverageTemperature": 6.261,
         "LandAverageTemperatureUncertainty": 0.09,
         "_deepnote_index_column": 3158
        },
        {
         "dt": "2013-04-01",
         "LandAverageTemperature": 9.044,
         "LandAverageTemperatureUncertainty": 0.098,
         "_deepnote_index_column": 3159
        },
        {
         "dt": "2013-05-01",
         "LandAverageTemperature": 12.195,
         "LandAverageTemperatureUncertainty": 0.104,
         "_deepnote_index_column": 3160
        },
        {
         "dt": "2013-06-01",
         "LandAverageTemperature": 14.568,
         "LandAverageTemperatureUncertainty": 0.09,
         "_deepnote_index_column": 3161
        },
        {
         "dt": "2013-07-01",
         "LandAverageTemperature": 15.003,
         "LandAverageTemperatureUncertainty": 0.126,
         "_deepnote_index_column": 3162
        },
        {
         "dt": "2013-08-01",
         "LandAverageTemperature": 14.742,
         "LandAverageTemperatureUncertainty": 0.129,
         "_deepnote_index_column": 3163
        },
        {
         "dt": "2013-09-01",
         "LandAverageTemperature": 13.154000000000002,
         "LandAverageTemperatureUncertainty": 0.104,
         "_deepnote_index_column": 3164
        },
        {
         "dt": "2013-10-01",
         "LandAverageTemperature": 10.255999999999998,
         "LandAverageTemperatureUncertainty": 0.077,
         "_deepnote_index_column": 3165
        },
        {
         "dt": "2013-11-01",
         "LandAverageTemperature": 7.423999999999999,
         "LandAverageTemperatureUncertainty": 0.079,
         "_deepnote_index_column": 3166
        },
        {
         "dt": "2013-12-01",
         "LandAverageTemperature": 4.724,
         "LandAverageTemperatureUncertainty": 0.085,
         "_deepnote_index_column": 3167
        },
        {
         "dt": "2014-01-01",
         "LandAverageTemperature": 3.732,
         "LandAverageTemperatureUncertainty": 0.075,
         "_deepnote_index_column": 3168
        },
        {
         "dt": "2014-02-01",
         "LandAverageTemperature": 3.5,
         "LandAverageTemperatureUncertainty": 0.068,
         "_deepnote_index_column": 3169
        },
        {
         "dt": "2014-03-01",
         "LandAverageTemperature": 6.377999999999999,
         "LandAverageTemperatureUncertainty": 0.098,
         "_deepnote_index_column": 3170
        },
        {
         "dt": "2014-04-01",
         "LandAverageTemperature": 9.589,
         "LandAverageTemperatureUncertainty": 0.111,
         "_deepnote_index_column": 3171
        },
        {
         "dt": "2014-05-01",
         "LandAverageTemperature": 12.582,
         "LandAverageTemperatureUncertainty": 0.068,
         "_deepnote_index_column": 3172
        },
        {
         "dt": "2014-06-01",
         "LandAverageTemperature": 14.335,
         "LandAverageTemperatureUncertainty": 0.096,
         "_deepnote_index_column": 3173
        },
        {
         "dt": "2014-07-01",
         "LandAverageTemperature": 14.873,
         "LandAverageTemperatureUncertainty": 0.078,
         "_deepnote_index_column": 3174
        },
        {
         "dt": "2014-08-01",
         "LandAverageTemperature": 14.875,
         "LandAverageTemperatureUncertainty": 0.115,
         "_deepnote_index_column": 3175
        },
        {
         "dt": "2014-09-01",
         "LandAverageTemperature": 13.091,
         "LandAverageTemperatureUncertainty": 0.086,
         "_deepnote_index_column": 3176
        },
        {
         "dt": "2014-10-01",
         "LandAverageTemperature": 10.33,
         "LandAverageTemperatureUncertainty": 0.076,
         "_deepnote_index_column": 3177
        },
        {
         "dt": "2014-11-01",
         "LandAverageTemperature": 6.712999999999999,
         "LandAverageTemperatureUncertainty": 0.121,
         "_deepnote_index_column": 3178
        },
        {
         "dt": "2014-12-01",
         "LandAverageTemperature": 4.85,
         "LandAverageTemperatureUncertainty": 0.09,
         "_deepnote_index_column": 3179
        },
        {
         "dt": "2015-01-01",
         "LandAverageTemperature": 3.881,
         "LandAverageTemperatureUncertainty": 0.13,
         "_deepnote_index_column": 3180
        },
        {
         "dt": "2015-02-01",
         "LandAverageTemperature": 4.664,
         "LandAverageTemperatureUncertainty": 0.121,
         "_deepnote_index_column": 3181
        },
        {
         "dt": "2015-03-01",
         "LandAverageTemperature": 6.74,
         "LandAverageTemperatureUncertainty": 0.06,
         "_deepnote_index_column": 3182
        },
        {
         "dt": "2015-04-01",
         "LandAverageTemperature": 9.313,
         "LandAverageTemperatureUncertainty": 0.088,
         "_deepnote_index_column": 3183
        },
        {
         "dt": "2015-05-01",
         "LandAverageTemperature": 12.312,
         "LandAverageTemperatureUncertainty": 0.081,
         "_deepnote_index_column": 3184
        },
        {
         "dt": "2015-06-01",
         "LandAverageTemperature": 14.505,
         "LandAverageTemperatureUncertainty": 0.068,
         "_deepnote_index_column": 3185
        },
        {
         "dt": "2015-07-01",
         "LandAverageTemperature": 15.050999999999998,
         "LandAverageTemperatureUncertainty": 0.086,
         "_deepnote_index_column": 3186
        },
        {
         "dt": "2015-08-01",
         "LandAverageTemperature": 14.755,
         "LandAverageTemperatureUncertainty": 0.072,
         "_deepnote_index_column": 3187
        },
        {
         "dt": "2015-09-01",
         "LandAverageTemperature": 12.999,
         "LandAverageTemperatureUncertainty": 0.079,
         "_deepnote_index_column": 3188
        },
        {
         "dt": "2015-10-01",
         "LandAverageTemperature": 10.800999999999998,
         "LandAverageTemperatureUncertainty": 0.102,
         "_deepnote_index_column": 3189
        },
        {
         "dt": "2015-11-01",
         "LandAverageTemperature": 7.433,
         "LandAverageTemperatureUncertainty": 0.119,
         "_deepnote_index_column": 3190
        },
        {
         "dt": "2015-12-01",
         "LandAverageTemperature": 5.518,
         "LandAverageTemperatureUncertainty": 0.1,
         "_deepnote_index_column": 3191
        }
       ]
      },
      "text/plain": "              dt  LandAverageTemperature  LandAverageTemperatureUncertainty\n0     1750-01-01                   3.034                              3.574\n1     1750-02-01                   3.083                              3.702\n2     1750-03-01                   5.626                              3.076\n3     1750-04-01                   8.490                              2.451\n4     1750-05-01                  11.573                              2.072\n...          ...                     ...                                ...\n3187  2015-08-01                  14.755                              0.072\n3188  2015-09-01                  12.999                              0.079\n3189  2015-10-01                  10.801                              0.102\n3190  2015-11-01                   7.433                              0.119\n3191  2015-12-01                   5.518                              0.100\n\n[3192 rows x 3 columns]",
      "text/html": "<div>\n<style scoped>\n    .dataframe tbody tr th:only-of-type {\n        vertical-align: middle;\n    }\n\n    .dataframe tbody tr th {\n        vertical-align: top;\n    }\n\n    .dataframe thead th {\n        text-align: right;\n    }\n</style>\n<table border=\"1\" class=\"dataframe\">\n  <thead>\n    <tr style=\"text-align: right;\">\n      <th></th>\n      <th>dt</th>\n      <th>LandAverageTemperature</th>\n      <th>LandAverageTemperatureUncertainty</th>\n    </tr>\n  </thead>\n  <tbody>\n    <tr>\n      <th>0</th>\n      <td>1750-01-01</td>\n      <td>3.034</td>\n      <td>3.574</td>\n    </tr>\n    <tr>\n      <th>1</th>\n      <td>1750-02-01</td>\n      <td>3.083</td>\n      <td>3.702</td>\n    </tr>\n    <tr>\n      <th>2</th>\n      <td>1750-03-01</td>\n      <td>5.626</td>\n      <td>3.076</td>\n    </tr>\n    <tr>\n      <th>3</th>\n      <td>1750-04-01</td>\n      <td>8.490</td>\n      <td>2.451</td>\n    </tr>\n    <tr>\n      <th>4</th>\n      <td>1750-05-01</td>\n      <td>11.573</td>\n      <td>2.072</td>\n    </tr>\n    <tr>\n      <th>...</th>\n      <td>...</td>\n      <td>...</td>\n      <td>...</td>\n    </tr>\n    <tr>\n      <th>3187</th>\n      <td>2015-08-01</td>\n      <td>14.755</td>\n      <td>0.072</td>\n    </tr>\n    <tr>\n      <th>3188</th>\n      <td>2015-09-01</td>\n      <td>12.999</td>\n      <td>0.079</td>\n    </tr>\n    <tr>\n      <th>3189</th>\n      <td>2015-10-01</td>\n      <td>10.801</td>\n      <td>0.102</td>\n    </tr>\n    <tr>\n      <th>3190</th>\n      <td>2015-11-01</td>\n      <td>7.433</td>\n      <td>0.119</td>\n    </tr>\n    <tr>\n      <th>3191</th>\n      <td>2015-12-01</td>\n      <td>5.518</td>\n      <td>0.100</td>\n    </tr>\n  </tbody>\n</table>\n<p>3192 rows × 3 columns</p>\n</div>"
     },
     "metadata": {}
    }
   ]
  },
  {
   "cell_type": "code",
   "metadata": {
    "tags": [],
    "cell_id": "00009-63acf46d-7538-465a-a7ea-5edd95cde186",
    "deepnote_to_be_reexecuted": false,
    "source_hash": "58090f83",
    "execution_start": 1637311058198,
    "execution_millis": 11,
    "deepnote_cell_type": "code"
   },
   "source": "nan1= data[data['LandAverageTemperature'].isna()]\nnan2= data[data['LandAverageTemperatureUncertaintydate'].isna()]",
   "execution_count": 23,
   "outputs": []
  },
  {
   "cell_type": "code",
   "metadata": {
    "colab": {
     "base_uri": "https://localhost:8080/"
    },
    "id": "LdR9Dj7U-oPY",
    "outputId": "4c9f0135-241c-4362-d543-f4f921f7f002",
    "cell_id": "00006-56e3050c-2df3-4b96-bd54-4d977c0b23ea",
    "deepnote_to_be_reexecuted": false,
    "source_hash": "10b303f6",
    "execution_start": 1637311059724,
    "execution_millis": 39,
    "deepnote_cell_type": "code"
   },
   "source": "# =============================================================================\n# Now let's look where the NaNs are in our two feature columns \n# =============================================================================\n\n\nprint('\\nNaNs in LandAverageTemperature are in rows: ')\nprint(data[data[\"LandAverageTemperature\"].isna()])\n\n\nprint('\\nNaNs in LandAverageTemperatureUncertainty are in rows: ')\nprint(data[data[\"LandAverageTemperatureUncertainty\"].isna()])\n",
   "execution_count": 24,
   "outputs": [
    {
     "name": "stdout",
     "text": "\nNaNs in LandAverageTemperature are in rows: \n            dt  LandAverageTemperature  LandAverageTemperatureUncertainty\n10  1750-11-01                     NaN                                NaN\n16  1751-05-01                     NaN                                NaN\n18  1751-07-01                     NaN                                NaN\n21  1751-10-01                     NaN                                NaN\n22  1751-11-01                     NaN                                NaN\n23  1751-12-01                     NaN                                NaN\n25  1752-02-01                     NaN                                NaN\n28  1752-05-01                     NaN                                NaN\n29  1752-06-01                     NaN                                NaN\n30  1752-07-01                     NaN                                NaN\n31  1752-08-01                     NaN                                NaN\n32  1752-09-01                     NaN                                NaN\n\nNaNs in LandAverageTemperatureUncertainty are in rows: \n            dt  LandAverageTemperature  LandAverageTemperatureUncertainty\n10  1750-11-01                     NaN                                NaN\n16  1751-05-01                     NaN                                NaN\n18  1751-07-01                     NaN                                NaN\n21  1751-10-01                     NaN                                NaN\n22  1751-11-01                     NaN                                NaN\n23  1751-12-01                     NaN                                NaN\n25  1752-02-01                     NaN                                NaN\n28  1752-05-01                     NaN                                NaN\n29  1752-06-01                     NaN                                NaN\n30  1752-07-01                     NaN                                NaN\n31  1752-08-01                     NaN                                NaN\n32  1752-09-01                     NaN                                NaN\n",
     "output_type": "stream"
    }
   ]
  },
  {
   "cell_type": "code",
   "metadata": {
    "colab": {
     "base_uri": "https://localhost:8080/"
    },
    "id": "SU30x7WM-w_J",
    "outputId": "6d82483c-ec8e-4f1b-c679-ccf0cf4e67fd",
    "cell_id": "00007-45859146-4488-4055-9ed7-91ecc7fb3722",
    "deepnote_to_be_reexecuted": false,
    "source_hash": "598d174b",
    "execution_start": 1637311649018,
    "execution_millis": 1,
    "deepnote_output_heights": [
     null,
     76.65625
    ],
    "deepnote_cell_type": "code"
   },
   "source": "# =============================================================================\n# Remove rows before and including 1752-09-01\n# =============================================================================\n\nprint('\\nNr of data before removing nan-rows: ', len(data))\n\nglobal_temp_df = data[data['dt']>'1752-09-01']\n\nprint('Nr of data after removing nan-rows:  ', len(global_temp_df))\n\nglobal_temp_df.isna().sum()\n",
   "execution_count": 28,
   "outputs": [
    {
     "name": "stdout",
     "text": "\nNr of data before removing nan-rows:  3192\nNr of data after removing nan-rows:   3159\n",
     "output_type": "stream"
    },
    {
     "output_type": "execute_result",
     "execution_count": 28,
     "data": {
      "text/plain": "dt                                   0\nLandAverageTemperature               0\nLandAverageTemperatureUncertainty    0\ndtype: int64"
     },
     "metadata": {}
    }
   ]
  },
  {
   "cell_type": "code",
   "metadata": {
    "id": "r8JngHv87Sz-",
    "cell_id": "00008-4a37902e-a9ba-4b34-8c25-d8d7553dc373",
    "deepnote_cell_type": "code"
   },
   "source": "",
   "execution_count": null,
   "outputs": []
  },
  {
   "cell_type": "markdown",
   "source": "Run the following 4 Codeblocks and Discuss what you observe in the plots",
   "metadata": {
    "id": "Y5TAh-tO7gt_",
    "cell_id": "00009-b54bb13c-09fd-4d7c-8f58-fd1e250b13bc",
    "deepnote_cell_type": "markdown"
   }
  },
  {
   "cell_type": "code",
   "metadata": {
    "id": "NgKDBERC-3gp",
    "cell_id": "00010-c4977ddd-0227-416b-a1aa-ce170b18df77",
    "deepnote_to_be_reexecuted": false,
    "source_hash": "355cf54d",
    "execution_start": 1637311669234,
    "execution_millis": 1711,
    "deepnote_output_heights": [
     279.984375,
     279.984375
    ],
    "deepnote_cell_type": "code"
   },
   "source": "# =============================================================================\n# Visualization of data, if yo used another dataframe name, replace it in the following code \n# with global_temp_df\n# =============================================================================\n\nland_av_temp = global_temp_df.LandAverageTemperature.values\nland_av_uncertainty = global_temp_df.LandAverageTemperatureUncertainty\nx = np.arange(land_av_temp.shape[0])\nx_date = global_temp_df.dt.values\n\nplt.plot(x, land_av_temp)\nplt.title('Land Average Temperature, monthly')\nplt.xlabel('Date (indexed)')\nplt.ylabel('Temperature, °C')\nplt.show()\n\nplt.plot(x, land_av_uncertainty)\nplt.title('Land Average Temperature Uncertainty, monthly')\nplt.xlabel('Date (indexed)')\nplt.ylabel('Uncertainty, °C(???)')\nplt.show()\n",
   "execution_count": 29,
   "outputs": [
    {
     "data": {
      "text/plain": "<Figure size 432x288 with 1 Axes>",
      "image/png": "[encoded data removed]"
     },
     "metadata": {
      "needs_background": "light",
      "image/png": {
       "width": 382,
       "height": 278
      }
     },
     "output_type": "display_data"
    },
    {
     "data": {
      "text/plain": "<Figure size 432x288 with 1 Axes>",
      "image/png": "[encoded data removed]"
     },
     "metadata": {
      "needs_background": "light",
      "image/png": {
       "width": 376,
       "height": 278
      }
     },
     "output_type": "display_data"
    }
   ]
  },
  {
   "cell_type": "code",
   "metadata": {
    "tags": [],
    "cell_id": "00015-1fbef607-6b33-4b2f-9f23-e13bf3b4b43e",
    "deepnote_to_be_reexecuted": false,
    "source_hash": "e1bfdc7",
    "execution_start": 1637312284747,
    "execution_millis": 25,
    "deepnote_output_heights": [
     20.65625
    ],
    "deepnote_cell_type": "code"
   },
   "source": "land_av_temp.shape",
   "execution_count": 31,
   "outputs": [
    {
     "output_type": "execute_result",
     "execution_count": 31,
     "data": {
      "text/plain": "(3159,)"
     },
     "metadata": {}
    }
   ]
  },
  {
   "cell_type": "code",
   "metadata": {
    "id": "jvN-d-Gi-7v4",
    "cell_id": "00011-71c2f651-9185-4fbf-bce2-c7748623bff2",
    "deepnote_to_be_reexecuted": false,
    "source_hash": "76844ee3",
    "execution_start": 1637312501365,
    "execution_millis": 1172,
    "deepnote_output_heights": [
     280
    ],
    "deepnote_cell_type": "code"
   },
   "source": "# =============================================================================\n# TO get a more interesting sequence for our Prediction, we will use the Average Temperature data (12 month)\n# =============================================================================\n\n\n# Function to transform sequence data to moving_average\n# Returns numpy array\ndef moving_average(seq, seq_length):\n    seq_av = []\n    for i in range(seq_length, seq.shape[0]):\n        av_temp = np.mean(seq[i - seq_length : i])\n        seq_av.append(av_temp)\n        \n    return np.array(seq_av)\n\n# land_av_temp_averaged = []\n\n# for i in range(land_av_temp.shape[0] - 12):\n#     av_temp = np.mean(land_av_temp[i : i + 12])\n#     land_av_temp_averaged.append(av_temp)\n    \n# x is the preparation for plottin - creating x values for the plot\n# moving average is computed over 12 months\nland_av_temp_averaged = moving_average(land_av_temp, 12)\nx = np.arange(land_av_temp_averaged.shape[0]) / 12 + 1752\n\n# x is the preparation for plottin - creating x values for the plot - this time moving average over 120 records\n# moving average is computed over 120 months = 10 years\nland_av_temp_averaged_120 = moving_average(land_av_temp, 120)\nx_120 = np.arange(land_av_temp_averaged_120.shape[0]) / 12 + 1752\n\noffset = x.shape[0] - x_120.shape[0]\n\nplt.plot(x, land_av_temp_averaged)\nplt.plot(x_120 + int(offset / 12), land_av_temp_averaged_120)\nplt.title('Land Average Temperature, yearly mean')\nplt.xlabel('Date (not exactly to scale)')\nplt.ylabel('Temperature, °C')\nplt.show()",
   "execution_count": 32,
   "outputs": [
    {
     "data": {
      "text/plain": "<Figure size 432x288 with 1 Axes>",
      "image/png": "[encoded data removed]"
     },
     "metadata": {
      "needs_background": "light",
      "image/png": {
       "width": 386,
       "height": 278
      }
     },
     "output_type": "display_data"
    }
   ]
  },
  {
   "cell_type": "code",
   "metadata": {
    "id": "SirlwT-8_F0C",
    "cell_id": "00012-c06f3808-1cbf-436f-a0d4-7d951d2ce0b6",
    "deepnote_to_be_reexecuted": false,
    "source_hash": "7702aa21",
    "execution_start": 1637312655541,
    "execution_millis": 2134,
    "deepnote_output_heights": [
     280
    ],
    "deepnote_cell_type": "code"
   },
   "source": "land_av_uncertainty_averaged = moving_average(land_av_uncertainty, 36)\nx = np.arange(land_av_uncertainty_averaged.shape[0]) / 12 + 1752\n\nplt.plot(x, land_av_uncertainty_averaged)\nplt.title('Land Average Temperature Uncertainty, yearly mean')\nplt.xlabel('Date (not exactly to scale)')\nplt.ylabel('Temperature, °C (???)')\nplt.show()",
   "execution_count": 33,
   "outputs": [
    {
     "data": {
      "text/plain": "<Figure size 432x288 with 1 Axes>",
      "image/png": "[encoded data removed]"
     },
     "metadata": {
      "needs_background": "light",
      "image/png": {
       "width": 386,
       "height": 278
      }
     },
     "output_type": "display_data"
    }
   ]
  },
  {
   "cell_type": "code",
   "metadata": {
    "id": "UrgY3awW_HYj",
    "cell_id": "00013-a9625615-5346-45ac-b762-fff9a1066403",
    "deepnote_to_be_reexecuted": false,
    "source_hash": "cfcdf1a4",
    "execution_start": 1637312682294,
    "execution_millis": 482,
    "deepnote_output_heights": [
     280
    ],
    "deepnote_cell_type": "code"
   },
   "source": "# =============================================================================\n# Temperature data, monthly, last 72 month\n# =============================================================================\n\nx = np.arange(land_av_temp_averaged.shape[0]) / 12 + 1752\n\nplt.plot(x[-72:], land_av_temp[-72:])\nplt.title('Land Temperature, monthly')\nplt.xlabel('Date (not exactly to scale)')\nplt.ylabel('Temperature, °C')\nplt.show()",
   "execution_count": 34,
   "outputs": [
    {
     "data": {
      "text/plain": "<Figure size 432x288 with 1 Axes>",
      "image/png": "[encoded data removed]"
     },
     "metadata": {
      "needs_background": "light",
      "image/png": {
       "width": 382,
       "height": 278
      }
     },
     "output_type": "display_data"
    }
   ]
  },
  {
   "cell_type": "markdown",
   "source": "Now, build your DataInput.\nWe want to predict based on 60 temperature datapoints, the following 10 datapoints. ",
   "metadata": {
    "id": "sJnQlWqM8HY6",
    "cell_id": "00014-e56102b2-b7d5-436b-be7b-fa4519a2d169",
    "deepnote_cell_type": "markdown"
   }
  },
  {
   "cell_type": "code",
   "metadata": {
    "id": "LpWpZOsv_KO6",
    "cell_id": "00015-c7e40492-c37a-4279-8a8d-2fc74ceed6e4",
    "deepnote_to_be_reexecuted": false,
    "source_hash": "8cf68123",
    "execution_start": 1637312801625,
    "execution_millis": 1,
    "deepnote_cell_type": "code"
   },
   "source": "# =============================================================================\n# Let's build our sequences now - in the following way:\n#\n#   - From each value in our feature-sequence, we take the last 60 month\n#     as features and the next 10 monnth as labels\n#\n# =============================================================================\n\n# Creating x sequence -> 60 measures\n# Creating y sequence -> 10 measures (following the 60)\nx_sequences = []\ny_sequences = []\n\n# We move by 1 to the right\nfor i in range(60, land_av_temp.shape[0] - 10):\n    x_sequences.append(land_av_temp[i-60:i])\n    y_sequences.append(land_av_temp[i:i+10])\n\n# Note: there's \"TimeSeriesGenerator\" function which does this in Keras.",
   "execution_count": 35,
   "outputs": []
  },
  {
   "cell_type": "code",
   "metadata": {
    "colab": {
     "base_uri": "https://localhost:8080/",
     "height": 295
    },
    "id": "jIDV-mHh_M7V",
    "outputId": "41f51eb0-d21a-4be5-e6b5-d348e7ea87db",
    "cell_id": "00017-2c144c90-b386-409c-9c5f-4afd8ff0852b",
    "deepnote_output_heights": [
     280
    ],
    "deepnote_to_be_reexecuted": false,
    "source_hash": "38692daa",
    "execution_start": 1637313305529,
    "execution_millis": 432,
    "deepnote_cell_type": "code"
   },
   "source": "# TODO: Test sequences\n# =============================================================================\n# Visualize sequences\n# =============================================================================\n    \nindex = np.random.randint(len(x_sequences))\nsx = x_sequences[index]\nsy = y_sequences[index]\n\n\nx_1 = np.arange(len(sx))\nx_2 = np.arange(len(sy))\n\nplt.plot(x_1, sx)\nplt.title('Train and test features for a random sequence')\nplt.xlabel('Number of months, indexed')\nplt.ylabel('Temperature °C')\nplt.plot(x_1.shape[0] + x_2, sy, color='r')\nplt.show()",
   "execution_count": 37,
   "outputs": [
    {
     "data": {
      "text/plain": "<Figure size 432x288 with 1 Axes>",
      "image/png": "[encoded data removed]"
     },
     "metadata": {
      "needs_background": "light",
      "image/png": {
       "width": 382,
       "height": 278
      }
     },
     "output_type": "display_data"
    }
   ]
  },
  {
   "cell_type": "code",
   "metadata": {
    "tags": [],
    "cell_id": "00023-9d10f26d-3703-4f10-ae60-599dfd55896a",
    "deepnote_to_be_reexecuted": false,
    "source_hash": "c85b7b3f",
    "execution_start": 1637313468251,
    "execution_millis": 10,
    "deepnote_output_heights": [
     21.15625
    ],
    "deepnote_cell_type": "code"
   },
   "source": "print(f\"Shape of x_sequences: {np.array(x_sequences).shape}\")\nprint(f\"Shape of y_sequences: {np.array(y_sequences).shape}\")",
   "execution_count": 40,
   "outputs": [
    {
     "name": "stdout",
     "text": "Shape of x_sequences: (3089, 60)\nShape of y_sequences: (3089, 10)\n",
     "output_type": "stream"
    }
   ]
  },
  {
   "cell_type": "code",
   "metadata": {
    "colab": {
     "base_uri": "https://localhost:8080/"
    },
    "id": "fl32HIQc_TuJ",
    "outputId": "c9f3a2ad-4196-429d-a8ea-2eb84f12f8d4",
    "cell_id": "00018-97b41379-37c0-4fed-a94f-40e5dbdd5b86",
    "deepnote_to_be_reexecuted": false,
    "source_hash": "ec2d5910",
    "execution_start": 1637315034077,
    "execution_millis": 82,
    "deepnote_cell_type": "code"
   },
   "source": "# =============================================================================\n# Now let's split out sequences into training and test data\n# =============================================================================\n\ntrain_size = 0.8\ntest_size = 0.2\n\n# Making train_split index = 0.8 * size of dataset\ntrain_split = int(len(x_sequences)*train_size)\n\n# Splitting the x\n# to avoid overlapping the train and test set we need to remove the last 60 datapoints from train\nx_train = np.array(x_sequences[:train_split-60])\nx_test  = np.array(x_sequences[train_split:])\n\n# Splitting the y\ny_train = np.array(y_sequences[:train_split-60])\ny_test  = np.array(y_sequences[train_split:])\n\n# Expand dimensions for usage in keras\n\n# Reshaping this for Keras\n# We need it in 3D:\n#  - number of data points\n#  - size of sequence\n#  - number of features\n# Number of features = 1\nx_train = x_train.reshape(x_train.shape[0], x_train.shape[1], 1)\nx_test  = x_test.reshape(x_test.shape[0], x_test.shape[1], 1)\n\n# it should not be done for y, y should be 2-dimensional\n\n# TODO: Take out data leakage overlap...\n# even better to split into train & test before creating the sequences\n\nprint('\\nShape of x_train:            ', x_train.shape)\nprint('Shape of y_train:            ', y_train.shape)\nprint('Shape of x_test:             ', x_test.shape)\nprint('Shape of y_test:             ', y_test.shape)",
   "execution_count": 52,
   "outputs": [
    {
     "name": "stdout",
     "text": "\nShape of x_train:             (2411, 60, 1)\nShape of y_train:             (2411, 10)\nShape of x_test:              (618, 60, 1)\nShape of y_test:              (618, 10)\n",
     "output_type": "stream"
    }
   ]
  },
  {
   "cell_type": "code",
   "metadata": {
    "id": "eWfJOowb_Zec",
    "cell_id": "00019-833614a0-a410-4a81-98b5-a6864e8949e2",
    "deepnote_to_be_reexecuted": false,
    "source_hash": "ce88cb99",
    "execution_start": 1637317714385,
    "execution_millis": 434,
    "deepnote_cell_type": "code"
   },
   "source": "# =============================================================================\n# Build a model\n# =============================================================================\n\n\nfrom tensorflow.keras.models import Sequential\nfrom tensorflow.keras.layers import LSTM, Dense, Dropout, BatchNormalization\n\nmodel = Sequential()\n\n# Remember to keep the shape of the x_train to ( sequence_size(60), num_features(1) )\nmodel.add(LSTM(50, input_shape=(x_train.shape[1], 1), activation='tanh'))\n\n# Adding regularization (BatchNormalization + Dropout)\nmodel.add(BatchNormalization())\nmodel.add(Dropout(0.2))\n\n# Output layer (10 units)\n# No activation function -> this is a regression problem\nmodel.add(Dense(units=y_train.shape[1]))\n\nprint(model.summary())",
   "execution_count": 64,
   "outputs": [
    {
     "name": "stdout",
     "text": "Model: \"sequential_2\"\n_________________________________________________________________\nLayer (type)                 Output Shape              Param #   \n=================================================================\nlstm_2 (LSTM)                (None, 50)                10400     \n_________________________________________________________________\nbatch_normalization_2 (Batch (None, 50)                200       \n_________________________________________________________________\ndropout_2 (Dropout)          (None, 50)                0         \n_________________________________________________________________\ndense_2 (Dense)              (None, 10)                510       \n=================================================================\nTotal params: 11,110\nTrainable params: 11,010\nNon-trainable params: 100\n_________________________________________________________________\nNone\n",
     "output_type": "stream"
    }
   ]
  },
  {
   "cell_type": "code",
   "metadata": {
    "id": "IxI5gFp8_mdR",
    "cell_id": "00020-cba70b59-307d-460a-9ecd-a4a425036493",
    "deepnote_to_be_reexecuted": false,
    "source_hash": "8c4c45f7",
    "execution_start": 1637317721321,
    "execution_millis": 18,
    "deepnote_cell_type": "code"
   },
   "source": "# =============================================================================\n# Compile and train model\n# =============================================================================\n\nfrom tensorflow.keras.optimizers import Adam\n\n# use adam with lr 0.001\noptim = Adam(lr=0.001)\n\n# use metrics 'mean_absolute_percentage_error'\nmetrics = [\"mean_absolute_percentage_error\"]\n\nloss = \"mean_squared_error\"\n\n# use 100 epochs, 64 batch size, \nbatch_size = 64\nepochs = 100\n\nmodel.compile(\n    optimizer=optim,\n    metrics=metrics,\n    loss=loss\n)",
   "execution_count": 65,
   "outputs": []
  },
  {
   "cell_type": "markdown",
   "source": "In case of stateless RNN, the validation split can be used like below, even with `shuffle=True`.\n\nIn case of stateful RNN, we shoudln't simply use the `validation_split` like this. We should treat it the same way as train/test split, i.e. validation data is following timewise the end of the train data (no shuffling allowed).",
   "metadata": {
    "tags": [],
    "cell_id": "00027-a04f9ad4-b1de-49f0-94b5-b3ecc86d4cd9",
    "deepnote_cell_type": "markdown"
   }
  },
  {
   "cell_type": "code",
   "metadata": {
    "tags": [],
    "cell_id": "00028-01752775-75d0-4d7c-a790-e111d32675d9",
    "deepnote_cell_type": "code"
   },
   "source": "# =============================================================================\n# Callbacks you could use and put into the fit method to improve learning (ReduceLearningRate on Plateau)\n# =============================================================================\nfrom tensorflow.keras.callbacks import ModelCheckpoint, ReduceLROnPlateau\nrlop = ReduceLROnPlateau(monitor='val_loss', factor=0.2, \\\n                         patience=7, verbose=1, min_lr=0.0001)\n                         ",
   "execution_count": null,
   "outputs": []
  },
  {
   "cell_type": "code",
   "metadata": {
    "tags": [],
    "cell_id": "00027-1eb3d5a7-36fe-40a6-b899-4a56d90edc50",
    "deepnote_to_be_reexecuted": false,
    "source_hash": "5ba4babb",
    "execution_start": 1637317727364,
    "execution_millis": 230913,
    "deepnote_cell_type": "code"
   },
   "source": "story = model.fit(\n    x=x_train,\n    y=y_train,\n    batch_size=batch_size,\n    epochs=epochs,\n    validation_split=0.3,\n    shuffle=False\n    )",
   "execution_count": 66,
   "outputs": [
    {
     "name": "stdout",
     "text": "Epoch 1/100\n27/27 [==============================] - 7s 118ms/step - loss: 81.0464 - mean_absolute_percentage_error: 115.2597 - val_loss: 87.6679 - val_mean_absolute_percentage_error: 101.0811\nEpoch 2/100\n27/27 [==============================] - 2s 69ms/step - loss: 71.0776 - mean_absolute_percentage_error: 140.7579 - val_loss: 83.9397 - val_mean_absolute_percentage_error: 101.5933\nEpoch 3/100\n27/27 [==============================] - 2s 74ms/step - loss: 66.3420 - mean_absolute_percentage_error: 155.6717 - val_loss: 78.5991 - val_mean_absolute_percentage_error: 102.6094\nEpoch 4/100\n27/27 [==============================] - 2s 82ms/step - loss: 62.6266 - mean_absolute_percentage_error: 163.6666 - val_loss: 71.7342 - val_mean_absolute_percentage_error: 101.9926\nEpoch 5/100\n27/27 [==============================] - 2s 75ms/step - loss: 58.6359 - mean_absolute_percentage_error: 163.9565 - val_loss: 63.9725 - val_mean_absolute_percentage_error: 98.3858\nEpoch 6/100\n27/27 [==============================] - 2s 78ms/step - loss: 53.4634 - mean_absolute_percentage_error: 157.2424 - val_loss: 55.1741 - val_mean_absolute_percentage_error: 92.6149\nEpoch 7/100\n27/27 [==============================] - 2s 77ms/step - loss: 46.8029 - mean_absolute_percentage_error: 144.9659 - val_loss: 42.5146 - val_mean_absolute_percentage_error: 80.6384\nEpoch 8/100\n27/27 [==============================] - 2s 77ms/step - loss: 38.6390 - mean_absolute_percentage_error: 127.1953 - val_loss: 33.6622 - val_mean_absolute_percentage_error: 71.9347\nEpoch 9/100\n27/27 [==============================] - 2s 81ms/step - loss: 30.7172 - mean_absolute_percentage_error: 108.5940 - val_loss: 26.2741 - val_mean_absolute_percentage_error: 62.9561\nEpoch 10/100\n27/27 [==============================] - 2s 78ms/step - loss: 22.8310 - mean_absolute_percentage_error: 87.9766 - val_loss: 19.9522 - val_mean_absolute_percentage_error: 55.2033\nEpoch 11/100\n27/27 [==============================] - 2s 84ms/step - loss: 16.1132 - mean_absolute_percentage_error: 68.7335 - val_loss: 11.8672 - val_mean_absolute_percentage_error: 41.1800\nEpoch 12/100\n27/27 [==============================] - 2s 79ms/step - loss: 11.0803 - mean_absolute_percentage_error: 53.8796 - val_loss: 5.4370 - val_mean_absolute_percentage_error: 25.2795\nEpoch 13/100\n27/27 [==============================] - 2s 72ms/step - loss: 8.1059 - mean_absolute_percentage_error: 45.3466 - val_loss: 2.6207 - val_mean_absolute_percentage_error: 17.8498\nEpoch 14/100\n27/27 [==============================] - 2s 75ms/step - loss: 5.7896 - mean_absolute_percentage_error: 42.8894 - val_loss: 2.0235 - val_mean_absolute_percentage_error: 15.4465\nEpoch 15/100\n27/27 [==============================] - 2s 78ms/step - loss: 4.9750 - mean_absolute_percentage_error: 42.2362 - val_loss: 0.9710 - val_mean_absolute_percentage_error: 11.5967\nEpoch 16/100\n27/27 [==============================] - 2s 72ms/step - loss: 4.5126 - mean_absolute_percentage_error: 42.5290 - val_loss: 0.8655 - val_mean_absolute_percentage_error: 10.9497\nEpoch 17/100\n27/27 [==============================] - 2s 73ms/step - loss: 4.3208 - mean_absolute_percentage_error: 43.6545 - val_loss: 0.9674 - val_mean_absolute_percentage_error: 12.0265\nEpoch 18/100\n27/27 [==============================] - 2s 72ms/step - loss: 4.1925 - mean_absolute_percentage_error: 44.3333 - val_loss: 0.7794 - val_mean_absolute_percentage_error: 10.7940\nEpoch 19/100\n27/27 [==============================] - 2s 80ms/step - loss: 4.1169 - mean_absolute_percentage_error: 46.0619 - val_loss: 0.6239 - val_mean_absolute_percentage_error: 9.6805\nEpoch 20/100\n27/27 [==============================] - 2s 70ms/step - loss: 4.2050 - mean_absolute_percentage_error: 45.6356 - val_loss: 0.3848 - val_mean_absolute_percentage_error: 8.5561\nEpoch 21/100\n27/27 [==============================] - 2s 76ms/step - loss: 4.0698 - mean_absolute_percentage_error: 46.2830 - val_loss: 0.7198 - val_mean_absolute_percentage_error: 10.6112\nEpoch 22/100\n27/27 [==============================] - 2s 74ms/step - loss: 3.9364 - mean_absolute_percentage_error: 46.0528 - val_loss: 0.3683 - val_mean_absolute_percentage_error: 8.1884\nEpoch 23/100\n27/27 [==============================] - 2s 74ms/step - loss: 3.9818 - mean_absolute_percentage_error: 44.3730 - val_loss: 0.3016 - val_mean_absolute_percentage_error: 7.5493\nEpoch 24/100\n27/27 [==============================] - 2s 72ms/step - loss: 3.6535 - mean_absolute_percentage_error: 43.7951 - val_loss: 0.2641 - val_mean_absolute_percentage_error: 7.1263\nEpoch 25/100\n27/27 [==============================] - 2s 76ms/step - loss: 3.8619 - mean_absolute_percentage_error: 44.5898 - val_loss: 0.2746 - val_mean_absolute_percentage_error: 7.7937\nEpoch 26/100\n27/27 [==============================] - 2s 74ms/step - loss: 3.7405 - mean_absolute_percentage_error: 44.0411 - val_loss: 0.4288 - val_mean_absolute_percentage_error: 8.6382\nEpoch 27/100\n27/27 [==============================] - 2s 70ms/step - loss: 3.8337 - mean_absolute_percentage_error: 44.6118 - val_loss: 0.7728 - val_mean_absolute_percentage_error: 11.7096\nEpoch 28/100\n27/27 [==============================] - 2s 74ms/step - loss: 3.7800 - mean_absolute_percentage_error: 44.3602 - val_loss: 0.5913 - val_mean_absolute_percentage_error: 10.1868\nEpoch 29/100\n27/27 [==============================] - 2s 70ms/step - loss: 3.6569 - mean_absolute_percentage_error: 44.4342 - val_loss: 0.3635 - val_mean_absolute_percentage_error: 8.1377\nEpoch 30/100\n27/27 [==============================] - 2s 80ms/step - loss: 3.6962 - mean_absolute_percentage_error: 43.6435 - val_loss: 0.3021 - val_mean_absolute_percentage_error: 7.4973\nEpoch 31/100\n27/27 [==============================] - 2s 76ms/step - loss: 3.6252 - mean_absolute_percentage_error: 43.6891 - val_loss: 0.2377 - val_mean_absolute_percentage_error: 7.1420\nEpoch 32/100\n27/27 [==============================] - 2s 71ms/step - loss: 3.5807 - mean_absolute_percentage_error: 43.5575 - val_loss: 0.1932 - val_mean_absolute_percentage_error: 7.1535\nEpoch 33/100\n27/27 [==============================] - 2s 67ms/step - loss: 3.5315 - mean_absolute_percentage_error: 43.9080 - val_loss: 0.2991 - val_mean_absolute_percentage_error: 7.4462\nEpoch 34/100\n27/27 [==============================] - 2s 73ms/step - loss: 3.4889 - mean_absolute_percentage_error: 44.0579 - val_loss: 0.2750 - val_mean_absolute_percentage_error: 7.6834\nEpoch 35/100\n27/27 [==============================] - 2s 77ms/step - loss: 3.6705 - mean_absolute_percentage_error: 44.0174 - val_loss: 0.3100 - val_mean_absolute_percentage_error: 7.8292\nEpoch 36/100\n27/27 [==============================] - 2s 72ms/step - loss: 3.5559 - mean_absolute_percentage_error: 43.4557 - val_loss: 0.4020 - val_mean_absolute_percentage_error: 8.2504\nEpoch 37/100\n27/27 [==============================] - 2s 81ms/step - loss: 3.5741 - mean_absolute_percentage_error: 44.4483 - val_loss: 0.3205 - val_mean_absolute_percentage_error: 7.5868\nEpoch 38/100\n27/27 [==============================] - 2s 71ms/step - loss: 3.6382 - mean_absolute_percentage_error: 43.6914 - val_loss: 0.2520 - val_mean_absolute_percentage_error: 6.9409\nEpoch 39/100\n27/27 [==============================] - 2s 77ms/step - loss: 3.4743 - mean_absolute_percentage_error: 43.2873 - val_loss: 0.4031 - val_mean_absolute_percentage_error: 8.3051\nEpoch 40/100\n27/27 [==============================] - 3s 94ms/step - loss: 3.4413 - mean_absolute_percentage_error: 43.7453 - val_loss: 0.4002 - val_mean_absolute_percentage_error: 8.2887\nEpoch 41/100\n27/27 [==============================] - 2s 81ms/step - loss: 3.3839 - mean_absolute_percentage_error: 43.3079 - val_loss: 0.2699 - val_mean_absolute_percentage_error: 7.2138\nEpoch 42/100\n27/27 [==============================] - 3s 119ms/step - loss: 3.3113 - mean_absolute_percentage_error: 42.0994 - val_loss: 0.2870 - val_mean_absolute_percentage_error: 7.6626\nEpoch 43/100\n27/27 [==============================] - 2s 88ms/step - loss: 3.3654 - mean_absolute_percentage_error: 43.6227 - val_loss: 0.5283 - val_mean_absolute_percentage_error: 9.6938\nEpoch 44/100\n27/27 [==============================] - 2s 81ms/step - loss: 3.3379 - mean_absolute_percentage_error: 42.9852 - val_loss: 0.3141 - val_mean_absolute_percentage_error: 8.0934\nEpoch 45/100\n27/27 [==============================] - 2s 70ms/step - loss: 3.4321 - mean_absolute_percentage_error: 43.3530 - val_loss: 0.2915 - val_mean_absolute_percentage_error: 7.5074\nEpoch 46/100\n27/27 [==============================] - 2s 93ms/step - loss: 3.2371 - mean_absolute_percentage_error: 42.2261 - val_loss: 0.3830 - val_mean_absolute_percentage_error: 8.3123\nEpoch 47/100\n27/27 [==============================] - 3s 113ms/step - loss: 3.2637 - mean_absolute_percentage_error: 42.5441 - val_loss: 0.4679 - val_mean_absolute_percentage_error: 9.1048\nEpoch 48/100\n27/27 [==============================] - 2s 81ms/step - loss: 3.3482 - mean_absolute_percentage_error: 43.4330 - val_loss: 0.2691 - val_mean_absolute_percentage_error: 7.5456\nEpoch 49/100\n27/27 [==============================] - 2s 84ms/step - loss: 3.2123 - mean_absolute_percentage_error: 42.1725 - val_loss: 0.3740 - val_mean_absolute_percentage_error: 8.0042\nEpoch 50/100\n27/27 [==============================] - 2s 86ms/step - loss: 3.2519 - mean_absolute_percentage_error: 41.4757 - val_loss: 0.4215 - val_mean_absolute_percentage_error: 8.5339\nEpoch 51/100\n27/27 [==============================] - 2s 78ms/step - loss: 3.2389 - mean_absolute_percentage_error: 42.3898 - val_loss: 0.3810 - val_mean_absolute_percentage_error: 8.0747\nEpoch 52/100\n27/27 [==============================] - 2s 89ms/step - loss: 3.3110 - mean_absolute_percentage_error: 42.0810 - val_loss: 0.4410 - val_mean_absolute_percentage_error: 8.7635\nEpoch 53/100\n27/27 [==============================] - 3s 94ms/step - loss: 3.2104 - mean_absolute_percentage_error: 42.4712 - val_loss: 0.4184 - val_mean_absolute_percentage_error: 8.4826\nEpoch 54/100\n27/27 [==============================] - 2s 88ms/step - loss: 3.1424 - mean_absolute_percentage_error: 41.0298 - val_loss: 0.3636 - val_mean_absolute_percentage_error: 7.9460\nEpoch 55/100\n27/27 [==============================] - 3s 104ms/step - loss: 3.1453 - mean_absolute_percentage_error: 41.8132 - val_loss: 0.3264 - val_mean_absolute_percentage_error: 7.7988\nEpoch 56/100\n27/27 [==============================] - 2s 76ms/step - loss: 3.1188 - mean_absolute_percentage_error: 42.9037 - val_loss: 0.3266 - val_mean_absolute_percentage_error: 7.7596\nEpoch 57/100\n27/27 [==============================] - 2s 83ms/step - loss: 3.2490 - mean_absolute_percentage_error: 42.0696 - val_loss: 0.2404 - val_mean_absolute_percentage_error: 7.1775\nEpoch 58/100\n27/27 [==============================] - 2s 81ms/step - loss: 3.2144 - mean_absolute_percentage_error: 43.1161 - val_loss: 0.3073 - val_mean_absolute_percentage_error: 7.4208\nEpoch 59/100\n27/27 [==============================] - 2s 66ms/step - loss: 3.1214 - mean_absolute_percentage_error: 41.7554 - val_loss: 0.3425 - val_mean_absolute_percentage_error: 7.7379\nEpoch 60/100\n27/27 [==============================] - 2s 70ms/step - loss: 3.1517 - mean_absolute_percentage_error: 41.3319 - val_loss: 0.4307 - val_mean_absolute_percentage_error: 8.4097\nEpoch 61/100\n27/27 [==============================] - 2s 93ms/step - loss: 3.0884 - mean_absolute_percentage_error: 41.7563 - val_loss: 0.3602 - val_mean_absolute_percentage_error: 7.8284\nEpoch 62/100\n27/27 [==============================] - 2s 79ms/step - loss: 3.1585 - mean_absolute_percentage_error: 42.4021 - val_loss: 0.4707 - val_mean_absolute_percentage_error: 8.6370\nEpoch 63/100\n27/27 [==============================] - 2s 86ms/step - loss: 3.1238 - mean_absolute_percentage_error: 41.4648 - val_loss: 0.4788 - val_mean_absolute_percentage_error: 8.9563\nEpoch 64/100\n27/27 [==============================] - 2s 87ms/step - loss: 3.1148 - mean_absolute_percentage_error: 40.7291 - val_loss: 0.2979 - val_mean_absolute_percentage_error: 7.3997\nEpoch 65/100\n27/27 [==============================] - 2s 76ms/step - loss: 3.1254 - mean_absolute_percentage_error: 40.9268 - val_loss: 0.3778 - val_mean_absolute_percentage_error: 8.2077\nEpoch 66/100\n27/27 [==============================] - 2s 87ms/step - loss: 2.9751 - mean_absolute_percentage_error: 41.7858 - val_loss: 0.5085 - val_mean_absolute_percentage_error: 9.5395\nEpoch 67/100\n27/27 [==============================] - 2s 77ms/step - loss: 3.0209 - mean_absolute_percentage_error: 41.5579 - val_loss: 0.3991 - val_mean_absolute_percentage_error: 8.3949\nEpoch 68/100\n27/27 [==============================] - 2s 76ms/step - loss: 3.0970 - mean_absolute_percentage_error: 41.8300 - val_loss: 0.2697 - val_mean_absolute_percentage_error: 7.2799\nEpoch 69/100\n27/27 [==============================] - 2s 84ms/step - loss: 2.9752 - mean_absolute_percentage_error: 41.0987 - val_loss: 0.2779 - val_mean_absolute_percentage_error: 7.2327\nEpoch 70/100\n27/27 [==============================] - 2s 70ms/step - loss: 3.0868 - mean_absolute_percentage_error: 41.6308 - val_loss: 0.3675 - val_mean_absolute_percentage_error: 8.0459\nEpoch 71/100\n27/27 [==============================] - 2s 93ms/step - loss: 3.0422 - mean_absolute_percentage_error: 41.8232 - val_loss: 0.4661 - val_mean_absolute_percentage_error: 9.3077\nEpoch 72/100\n27/27 [==============================] - 2s 89ms/step - loss: 3.0072 - mean_absolute_percentage_error: 40.9678 - val_loss: 0.2901 - val_mean_absolute_percentage_error: 7.2980\nEpoch 73/100\n27/27 [==============================] - 3s 106ms/step - loss: 3.0712 - mean_absolute_percentage_error: 41.5431 - val_loss: 0.3684 - val_mean_absolute_percentage_error: 8.1807\nEpoch 74/100\n27/27 [==============================] - 2s 71ms/step - loss: 2.9028 - mean_absolute_percentage_error: 41.2813 - val_loss: 0.4103 - val_mean_absolute_percentage_error: 8.8627\nEpoch 75/100\n27/27 [==============================] - 2s 75ms/step - loss: 3.0925 - mean_absolute_percentage_error: 41.0749 - val_loss: 0.2505 - val_mean_absolute_percentage_error: 6.9567\nEpoch 76/100\n27/27 [==============================] - 2s 67ms/step - loss: 2.9750 - mean_absolute_percentage_error: 41.8861 - val_loss: 0.1954 - val_mean_absolute_percentage_error: 6.4686\nEpoch 77/100\n27/27 [==============================] - 2s 79ms/step - loss: 2.9212 - mean_absolute_percentage_error: 40.4630 - val_loss: 0.3275 - val_mean_absolute_percentage_error: 7.7189\nEpoch 78/100\n27/27 [==============================] - 2s 93ms/step - loss: 2.9539 - mean_absolute_percentage_error: 41.3339 - val_loss: 0.4001 - val_mean_absolute_percentage_error: 8.5489\nEpoch 79/100\n27/27 [==============================] - 3s 115ms/step - loss: 2.9794 - mean_absolute_percentage_error: 41.6451 - val_loss: 0.3871 - val_mean_absolute_percentage_error: 8.3968\nEpoch 80/100\n27/27 [==============================] - 2s 91ms/step - loss: 2.9266 - mean_absolute_percentage_error: 41.7371 - val_loss: 0.2549 - val_mean_absolute_percentage_error: 7.0496\nEpoch 81/100\n27/27 [==============================] - 2s 92ms/step - loss: 3.0157 - mean_absolute_percentage_error: 41.1165 - val_loss: 0.4759 - val_mean_absolute_percentage_error: 9.6046\nEpoch 82/100\n27/27 [==============================] - 3s 94ms/step - loss: 3.0478 - mean_absolute_percentage_error: 41.8226 - val_loss: 0.4204 - val_mean_absolute_percentage_error: 8.4394\nEpoch 83/100\n27/27 [==============================] - 2s 86ms/step - loss: 3.0547 - mean_absolute_percentage_error: 42.5602 - val_loss: 0.3547 - val_mean_absolute_percentage_error: 8.0165\nEpoch 84/100\n27/27 [==============================] - 2s 80ms/step - loss: 2.9335 - mean_absolute_percentage_error: 41.2806 - val_loss: 0.3561 - val_mean_absolute_percentage_error: 8.0094\nEpoch 85/100\n27/27 [==============================] - 2s 85ms/step - loss: 2.9737 - mean_absolute_percentage_error: 41.5585 - val_loss: 0.3235 - val_mean_absolute_percentage_error: 7.7485\nEpoch 86/100\n27/27 [==============================] - 2s 86ms/step - loss: 2.9868 - mean_absolute_percentage_error: 41.1841 - val_loss: 0.2405 - val_mean_absolute_percentage_error: 6.8161\nEpoch 87/100\n27/27 [==============================] - 2s 81ms/step - loss: 2.9714 - mean_absolute_percentage_error: 41.9918 - val_loss: 0.3108 - val_mean_absolute_percentage_error: 7.6427\nEpoch 88/100\n27/27 [==============================] - 2s 87ms/step - loss: 2.9511 - mean_absolute_percentage_error: 41.8632 - val_loss: 0.2530 - val_mean_absolute_percentage_error: 6.8802\nEpoch 89/100\n27/27 [==============================] - 2s 83ms/step - loss: 2.9048 - mean_absolute_percentage_error: 40.8539 - val_loss: 0.2952 - val_mean_absolute_percentage_error: 7.3449\nEpoch 90/100\n27/27 [==============================] - 2s 77ms/step - loss: 2.9220 - mean_absolute_percentage_error: 41.2419 - val_loss: 0.2560 - val_mean_absolute_percentage_error: 6.9589\nEpoch 91/100\n27/27 [==============================] - 2s 75ms/step - loss: 2.8978 - mean_absolute_percentage_error: 40.2198 - val_loss: 0.2078 - val_mean_absolute_percentage_error: 6.3774\nEpoch 92/100\n27/27 [==============================] - 3s 100ms/step - loss: 2.8330 - mean_absolute_percentage_error: 41.0512 - val_loss: 0.3557 - val_mean_absolute_percentage_error: 8.0277\nEpoch 93/100\n27/27 [==============================] - 3s 105ms/step - loss: 2.9938 - mean_absolute_percentage_error: 41.2283 - val_loss: 0.3606 - val_mean_absolute_percentage_error: 8.2386\nEpoch 94/100\n27/27 [==============================] - 3s 100ms/step - loss: 2.9023 - mean_absolute_percentage_error: 41.4738 - val_loss: 0.3431 - val_mean_absolute_percentage_error: 7.9449\nEpoch 95/100\n27/27 [==============================] - 3s 117ms/step - loss: 2.9049 - mean_absolute_percentage_error: 39.7873 - val_loss: 0.4160 - val_mean_absolute_percentage_error: 8.7339\nEpoch 96/100\n27/27 [==============================] - 3s 116ms/step - loss: 2.9779 - mean_absolute_percentage_error: 41.4598 - val_loss: 0.4265 - val_mean_absolute_percentage_error: 8.9716\nEpoch 97/100\n27/27 [==============================] - 3s 128ms/step - loss: 2.9690 - mean_absolute_percentage_error: 41.2051 - val_loss: 0.3930 - val_mean_absolute_percentage_error: 8.5812\nEpoch 98/100\n27/27 [==============================] - 3s 130ms/step - loss: 2.9080 - mean_absolute_percentage_error: 41.2840 - val_loss: 0.5881 - val_mean_absolute_percentage_error: 10.8915\nEpoch 99/100\n27/27 [==============================] - 3s 127ms/step - loss: 2.8076 - mean_absolute_percentage_error: 39.8048 - val_loss: 0.6117 - val_mean_absolute_percentage_error: 10.8926\nEpoch 100/100\n27/27 [==============================] - 3s 129ms/step - loss: 2.8347 - mean_absolute_percentage_error: 39.8226 - val_loss: 0.6505 - val_mean_absolute_percentage_error: 10.9001\n",
     "output_type": "stream"
    }
   ]
  },
  {
   "cell_type": "code",
   "metadata": {
    "tags": [],
    "cell_id": "00029-b3cf7bab-3d33-43dd-b4b6-d22b13a12f34",
    "deepnote_to_be_reexecuted": false,
    "source_hash": "38a5e59b",
    "execution_start": 1637317958107,
    "execution_millis": 33,
    "deepnote_cell_type": "code"
   },
   "source": "# This function will retrieve and plot all observed model performance metrics\ndef show_history(s, suptitle=\"\", scale = \"linear\"):\n    \n    # Automatically retrieve list of all metrics from history\n    metrics = list(s.history.keys())[:len(list(s.history.keys()))//2]\n\n    # Calculate amount of metrics\n    nrows = len(metrics)\n\n    # Set figure size to 12 x N*5 (where N is number of metrics [nrows])\n    fig, axs = plt.subplots(nrows=nrows, ncols=1, figsize=(12, 5 * nrows))\n\n    fig.suptitle(suptitle)\n\n    index = -1\n\n    for metric in metrics:\n        index+=1\n\n        axs[index].plot(s.history[metric], label=metric)\n        axs[index].plot(s.history[\"val_\"+metric], label=\"val_\"+metric)\n        axs[index].set_yscale(scale)\n        axs[index].legend()\n        axs[index].grid(b=True, which=\"major\", axis=\"y\")\n        axs[index].set_title(\"Observed \"+metric)\n    \n    plt.show()\n    plt.close()",
   "execution_count": 67,
   "outputs": []
  },
  {
   "cell_type": "code",
   "metadata": {
    "tags": [],
    "cell_id": "00030-0183ceff-2e32-4efb-b25d-c9b7d1e9b569",
    "deepnote_to_be_reexecuted": false,
    "source_hash": "47c90f9a",
    "execution_start": 1637317958156,
    "execution_millis": 1446,
    "deepnote_output_heights": [
     611
    ],
    "deepnote_cell_type": "code"
   },
   "source": "show_history(story, \"Second model\")",
   "execution_count": 68,
   "outputs": [
    {
     "data": {
      "text/plain": "<Figure size 864x720 with 2 Axes>",
      "image/png": "[encoded data removed]"
     },
     "metadata": {
      "needs_background": "light",
      "image/png": {
       "width": 710,
       "height": 646
      }
     },
     "output_type": "display_data"
    }
   ]
  },
  {
   "cell_type": "code",
   "metadata": {
    "tags": [],
    "cell_id": "00029-81e901a7-f792-47f7-99cc-301c40a5ac25",
    "deepnote_to_be_reexecuted": false,
    "source_hash": "ed195ce7",
    "execution_start": 1637317489000,
    "execution_millis": 7,
    "deepnote_output_heights": [
     20.65625
    ],
    "deepnote_cell_type": "code"
   },
   "source": "story.history.keys()",
   "execution_count": 62,
   "outputs": [
    {
     "output_type": "execute_result",
     "execution_count": 62,
     "data": {
      "text/plain": "dict_keys(['loss', 'mean_absolute_percentage_error', 'val_loss', 'val_mean_absolute_percentage_error'])"
     },
     "metadata": {}
    }
   ]
  },
  {
   "cell_type": "code",
   "metadata": {
    "id": "6zuxqvPO_rN4",
    "cell_id": "00021-1d354df0-6078-438b-b085-e1477740c6bb",
    "deepnote_to_be_reexecuted": false,
    "source_hash": "480c09c4",
    "execution_start": 1637318030022,
    "execution_millis": 361,
    "deepnote_cell_type": "code"
   },
   "source": "# =============================================================================\n# Evaluate model\n# =============================================================================\n\nloss, mape = model.evaluate(\n    x=x_test,\n    y=y_test,\n    batch_size=None,\n    verbose=1\n)\n\nprint('\\nLoss on test set:                            ', loss)\nprint('Mean average percentage error on test set:   ', mape)\n\n",
   "execution_count": 69,
   "outputs": [
    {
     "name": "stdout",
     "text": "20/20 [==============================] - 0s 13ms/step - loss: 1.7698 - mean_absolute_percentage_error: 16.9878\n\nLoss on test set:                             1.7697519063949585\nMean average percentage error on test set:    16.987817764282227\n",
     "output_type": "stream"
    }
   ]
  },
  {
   "cell_type": "code",
   "metadata": {
    "tags": [],
    "cell_id": "00034-6072fe81-63f4-4e10-b5ae-56a62ffbd9b4",
    "deepnote_cell_type": "code"
   },
   "source": "",
   "execution_count": null,
   "outputs": []
  },
  {
   "cell_type": "code",
   "metadata": {
    "id": "z6JjVtQF_tGw",
    "cell_id": "00022-4ba77d97-c257-4a05-a12c-01c4e0d4d8e7",
    "deepnote_to_be_reexecuted": false,
    "source_hash": "81aa52f0",
    "execution_start": 1637318508892,
    "execution_millis": 298,
    "deepnote_cell_type": "code"
   },
   "source": "# =============================================================================\n# Get predictions\n# =============================================================================\n\n#yhat = model.predict(np.array(x_sequences[-60:]).reshape(1, 60, 1))\nyhat = model.predict(x_test)",
   "execution_count": 75,
   "outputs": []
  },
  {
   "cell_type": "code",
   "metadata": {
    "tags": [],
    "cell_id": "00035-176ae001-e972-43f0-bd79-d7803be72f1b",
    "deepnote_to_be_reexecuted": false,
    "source_hash": "b8129d57",
    "execution_start": 1637318851840,
    "execution_millis": 12,
    "deepnote_output_heights": [
     20.65625
    ],
    "deepnote_cell_type": "code"
   },
   "source": "yhat.shape",
   "execution_count": 84,
   "outputs": [
    {
     "output_type": "execute_result",
     "execution_count": 84,
     "data": {
      "text/plain": "(618, 10)"
     },
     "metadata": {}
    }
   ]
  },
  {
   "cell_type": "code",
   "metadata": {
    "tags": [],
    "cell_id": "00037-805b0427-5bf7-4e02-9e1b-0afaac499928",
    "deepnote_to_be_reexecuted": false,
    "source_hash": "66b12c7",
    "execution_start": 1637318916721,
    "execution_millis": 569,
    "deepnote_output_heights": [
     250
    ],
    "deepnote_cell_type": "code"
   },
   "source": "for i in range(5):\n    plt.plot(yhat[i])\n    plt.plot(y_test[i])\n\nplt.show()",
   "execution_count": 89,
   "outputs": [
    {
     "data": {
      "text/plain": "<Figure size 432x288 with 1 Axes>",
      "image/png": "[encoded data removed]"
     },
     "metadata": {
      "needs_background": "light",
      "image/png": {
       "width": 368,
       "height": 248
      }
     },
     "output_type": "display_data"
    }
   ]
  },
  {
   "cell_type": "markdown",
   "source": "# OPTIONAL 1: ",
   "metadata": {
    "id": "nDhFrR2V9QQF",
    "cell_id": "00023-e5a3eec7-8d46-4e91-9241-0e361ce758da",
    "deepnote_cell_type": "markdown"
   }
  },
  {
   "cell_type": "code",
   "metadata": {
    "id": "nnBTGnm99KMz",
    "cell_id": "00024-7e7fe9c8-2ab7-4907-a497-d0d4e589b134",
    "deepnote_cell_type": "code"
   },
   "source": "#take 10 random sampels from testset, make a prediction and plot the temperature forecast in red and the true temperature\n# hint use the following random number generator from numpy  \nindex = np.random.randint(pred.shape[0])\n",
   "execution_count": null,
   "outputs": []
  },
  {
   "cell_type": "markdown",
   "source": "# OPTIONAL 2: \ntry to set up your sequence on your own using \n'keras.preprocessing.timeseries_dataset_from_array' and also using a validation set, that does not contain information leakage. See examples and help in here: https://keras.io/examples/timeseries/timeseries_weather_forecasting/",
   "metadata": {
    "id": "S6jm7wgn-ToU",
    "cell_id": "00025-550355f5-08c6-44b6-9846-0617838730b5",
    "deepnote_cell_type": "markdown"
   }
  },
  {
   "cell_type": "code",
   "metadata": {
    "id": "rCbSLXzj-VmM",
    "cell_id": "00026-1ab400df-d2ee-42e9-9fcc-f86d5f158eef",
    "deepnote_cell_type": "code"
   },
   "source": "",
   "execution_count": null,
   "outputs": []
  },
  {
   "cell_type": "markdown",
   "source": "# OPTIONAL 3: \n[Stateful vs Stateless LSTMs](https://machinelearningmastery.com/stateful-stateless-lstm-time-series-forecasting-python/)\nAs a good experiment,  explore whether maintaining state in the LSTM adds value over not maintaining state.\nThe benefit of LSTM networks is their ability to maintain state and learn a sequence.\nExpectation would therefore be  that the stateful LSTM will outperform the stateless LSTM.\nShuffling in RNNs\n\n\n\"Stateful\" is a choice. If you believe that the last N observations are all you need to predict  future observation, then you can train with stateless and sequence length=N (this means you are free to shuffle your sequences). Otherwise, you should look into using a stateful approach to allow the hidden state to persist across batches. ",
   "metadata": {
    "id": "S2Deb8AjTKGI",
    "cell_id": "00027-44871de8-9e09-4839-812a-3d0db958c7b4",
    "deepnote_cell_type": "markdown"
   }
  },
  {
   "cell_type": "markdown",
   "source": "Remark: \n**Shuffling in RNNs **\n\nIn general, when you shuffle the training data (a set of sequences), you shuffle the order in which sequences are fed to the RNN, you don't shuffle the ordering within individual sequences. This is fine to do when your network is stateless:\n**Stateless Case:**\nThe network's memory only persists for the duration of a sequence. Training on sequence B before sequence A doesn't matter because the network's memory state does not persist across sequences.\nOn the other hand:\n**Stateful Case:**\nThe network's memory persists across sequences. Here, you cannot blindly shuffle your data and expect optimal results. Sequence A should be fed to the network before sequence B because A comes before B, and we want the network to evaluate sequence B with memory of what was in sequence A.\n",
   "metadata": {
    "id": "-gmT_V257hpg",
    "cell_id": "00028-dcd9a70b-2e0b-4af1-a750-e229bebbb437",
    "deepnote_cell_type": "markdown"
   }
  },
  {
   "cell_type": "code",
   "metadata": {
    "id": "VbhAVYrjTUAl",
    "cell_id": "00029-62fe37b0-c5ee-4ca3-bfe8-374338fbf0d0",
    "deepnote_cell_type": "code"
   },
   "source": "",
   "execution_count": null,
   "outputs": []
  },
  {
   "cell_type": "markdown",
   "source": "<a style='text-decoration:none;line-height:16px;display:flex;color:#5B5B62;padding:10px;justify-content:end;' href='https://deepnote.com?utm_source=created-in-deepnote-cell&projectId=87989bd7-7a25-4e61-b3c0-cb24ea7ca1f8' target=\"_blank\">\n<img alt='Created in deepnote.com' style='display:inline;max-height:16px;margin:0px;margin-right:7.5px;' src='data:image/svg+xml;base64,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' > </img>\nCreated in <span style='font-weight:600;margin-left:4px;'>Deepnote</span></a>",
   "metadata": {
    "tags": [],
    "created_in_deepnote_cell": true,
    "deepnote_cell_type": "markdown"
   }
  }
 ],
 "nbformat": 4,
 "nbformat_minor": 0,
 "metadata": {
  "colab": {
   "name": "Dojo_ClimateChange_empty.ipynb",
   "provenance": [],
   "collapsed_sections": []
  },
  "kernelspec": {
   "name": "python3",
   "display_name": "Python 3"
  },
  "language_info": {
   "name": "python"
  },
  "deepnote_notebook_id": "53480b7a-de17-4ff7-be83-d77c3603344d",
  "deepnote": {},
  "deepnote_execution_queue": []
 }
}